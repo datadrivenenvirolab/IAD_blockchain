{
 "cells": [
  {
   "cell_type": "code",
   "execution_count": 1,
   "metadata": {},
   "outputs": [],
   "source": [
    "import pandas as pd \n",
    "import numpy as np\n",
    "import matplotlib.pyplot as plt\n",
    "import requests\n",
    "from bs4 import BeautifulSoup\n",
    "from selenium import webdriver\n",
    "import seaborn as sns\n",
    "import pycountry_convert as pycountry\n",
    "import plotly.express as px\n",
    "%matplotlib inline"
   ]
  },
  {
   "cell_type": "code",
   "execution_count": 2,
   "metadata": {},
   "outputs": [],
   "source": [
    "all_orgs = pd.read_csv(\"COP2017_orgnames.csv\")"
   ]
  },
  {
   "cell_type": "code",
   "execution_count": 3,
   "metadata": {},
   "outputs": [
    {
     "data": {
      "text/html": [
       "<div>\n",
       "<style scoped>\n",
       "    .dataframe tbody tr th:only-of-type {\n",
       "        vertical-align: middle;\n",
       "    }\n",
       "\n",
       "    .dataframe tbody tr th {\n",
       "        vertical-align: top;\n",
       "    }\n",
       "\n",
       "    .dataframe thead th {\n",
       "        text-align: right;\n",
       "    }\n",
       "</style>\n",
       "<table border=\"1\" class=\"dataframe\">\n",
       "  <thead>\n",
       "    <tr style=\"text-align: right;\">\n",
       "      <th></th>\n",
       "      <th>name</th>\n",
       "      <th>entity_type</th>\n",
       "    </tr>\n",
       "  </thead>\n",
       "  <tbody>\n",
       "    <tr>\n",
       "      <th>0</th>\n",
       "      <td>Afghanistan</td>\n",
       "      <td>Parties</td>\n",
       "    </tr>\n",
       "    <tr>\n",
       "      <th>1</th>\n",
       "      <td>Albania</td>\n",
       "      <td>Parties</td>\n",
       "    </tr>\n",
       "    <tr>\n",
       "      <th>2</th>\n",
       "      <td>Algeria</td>\n",
       "      <td>Parties</td>\n",
       "    </tr>\n",
       "    <tr>\n",
       "      <th>3</th>\n",
       "      <td>Andorra</td>\n",
       "      <td>Parties</td>\n",
       "    </tr>\n",
       "    <tr>\n",
       "      <th>4</th>\n",
       "      <td>Angola</td>\n",
       "      <td>Parties</td>\n",
       "    </tr>\n",
       "  </tbody>\n",
       "</table>\n",
       "</div>"
      ],
      "text/plain": [
       "          name entity_type\n",
       "0  Afghanistan     Parties\n",
       "1      Albania     Parties\n",
       "2      Algeria     Parties\n",
       "3      Andorra     Parties\n",
       "4       Angola     Parties"
      ]
     },
     "execution_count": 3,
     "metadata": {},
     "output_type": "execute_result"
    }
   ],
   "source": [
    "all_orgs.head()"
   ]
  },
  {
   "cell_type": "code",
   "execution_count": 4,
   "metadata": {},
   "outputs": [
    {
     "data": {
      "text/plain": [
       "array(['Parties', 'Observer States',\n",
       "       'United Nations Secretariat units and bodies',\n",
       "       'Specialized agencies and related organizations',\n",
       "       'Intergovernmental organizations',\n",
       "       'Non-governmental organizations'], dtype=object)"
      ]
     },
     "execution_count": 4,
     "metadata": {},
     "output_type": "execute_result"
    }
   ],
   "source": [
    "all_orgs.entity_type.unique()"
   ]
  },
  {
   "cell_type": "code",
   "execution_count": 5,
   "metadata": {},
   "outputs": [],
   "source": [
    "NGO = all_orgs[all_orgs.entity_type == 'Non-governmental organizations'].copy()\n",
    "IGO = all_orgs[all_orgs.entity_type == 'Intergovernmental organizations'].copy()\n",
    "NGO.reset_index(drop = True, inplace = True)\n",
    "IGO.reset_index(drop = True, inplace = True)"
   ]
  },
  {
   "cell_type": "code",
   "execution_count": 6,
   "metadata": {},
   "outputs": [
    {
     "data": {
      "text/html": [
       "<div>\n",
       "<style scoped>\n",
       "    .dataframe tbody tr th:only-of-type {\n",
       "        vertical-align: middle;\n",
       "    }\n",
       "\n",
       "    .dataframe tbody tr th {\n",
       "        vertical-align: top;\n",
       "    }\n",
       "\n",
       "    .dataframe thead th {\n",
       "        text-align: right;\n",
       "    }\n",
       "</style>\n",
       "<table border=\"1\" class=\"dataframe\">\n",
       "  <thead>\n",
       "    <tr style=\"text-align: right;\">\n",
       "      <th></th>\n",
       "      <th>name</th>\n",
       "      <th>entity_type</th>\n",
       "    </tr>\n",
       "  </thead>\n",
       "  <tbody>\n",
       "    <tr>\n",
       "      <th>0</th>\n",
       "      <td>A SEED Europe</td>\n",
       "      <td>Non-governmental organizations</td>\n",
       "    </tr>\n",
       "    <tr>\n",
       "      <th>1</th>\n",
       "      <td>Abibimman Foundation</td>\n",
       "      <td>Non-governmental organizations</td>\n",
       "    </tr>\n",
       "    <tr>\n",
       "      <th>2</th>\n",
       "      <td>Academy for Mountain Environics</td>\n",
       "      <td>Non-governmental organizations</td>\n",
       "    </tr>\n",
       "    <tr>\n",
       "      <th>3</th>\n",
       "      <td>ACT Alliance - Action by Churches Together</td>\n",
       "      <td>Non-governmental organizations</td>\n",
       "    </tr>\n",
       "    <tr>\n",
       "      <th>4</th>\n",
       "      <td>Action Against Hunger</td>\n",
       "      <td>Non-governmental organizations</td>\n",
       "    </tr>\n",
       "  </tbody>\n",
       "</table>\n",
       "</div>"
      ],
      "text/plain": [
       "                                         name                     entity_type\n",
       "0                               A SEED Europe  Non-governmental organizations\n",
       "1                        Abibimman Foundation  Non-governmental organizations\n",
       "2             Academy for Mountain Environics  Non-governmental organizations\n",
       "3  ACT Alliance - Action by Churches Together  Non-governmental organizations\n",
       "4                       Action Against Hunger  Non-governmental organizations"
      ]
     },
     "execution_count": 6,
     "metadata": {},
     "output_type": "execute_result"
    }
   ],
   "source": [
    "NGO.head()"
   ]
  },
  {
   "cell_type": "code",
   "execution_count": 7,
   "metadata": {},
   "outputs": [
    {
     "data": {
      "text/html": [
       "<div>\n",
       "<style scoped>\n",
       "    .dataframe tbody tr th:only-of-type {\n",
       "        vertical-align: middle;\n",
       "    }\n",
       "\n",
       "    .dataframe tbody tr th {\n",
       "        vertical-align: top;\n",
       "    }\n",
       "\n",
       "    .dataframe thead th {\n",
       "        text-align: right;\n",
       "    }\n",
       "</style>\n",
       "<table border=\"1\" class=\"dataframe\">\n",
       "  <thead>\n",
       "    <tr style=\"text-align: right;\">\n",
       "      <th></th>\n",
       "      <th>name</th>\n",
       "      <th>entity_type</th>\n",
       "    </tr>\n",
       "  </thead>\n",
       "  <tbody>\n",
       "    <tr>\n",
       "      <th>0</th>\n",
       "      <td>Adaptation Fund Board</td>\n",
       "      <td>Intergovernmental organizations</td>\n",
       "    </tr>\n",
       "    <tr>\n",
       "      <th>1</th>\n",
       "      <td>African Centre of Meteorological Application f...</td>\n",
       "      <td>Intergovernmental organizations</td>\n",
       "    </tr>\n",
       "    <tr>\n",
       "      <th>2</th>\n",
       "      <td>African Development Bank Group</td>\n",
       "      <td>Intergovernmental organizations</td>\n",
       "    </tr>\n",
       "    <tr>\n",
       "      <th>3</th>\n",
       "      <td>African Union Commission</td>\n",
       "      <td>Intergovernmental organizations</td>\n",
       "    </tr>\n",
       "    <tr>\n",
       "      <th>4</th>\n",
       "      <td>African, Caribbean and Pacific Group of States</td>\n",
       "      <td>Intergovernmental organizations</td>\n",
       "    </tr>\n",
       "  </tbody>\n",
       "</table>\n",
       "</div>"
      ],
      "text/plain": [
       "                                                name  \\\n",
       "0                              Adaptation Fund Board   \n",
       "1  African Centre of Meteorological Application f...   \n",
       "2                     African Development Bank Group   \n",
       "3                           African Union Commission   \n",
       "4     African, Caribbean and Pacific Group of States   \n",
       "\n",
       "                       entity_type  \n",
       "0  Intergovernmental organizations  \n",
       "1  Intergovernmental organizations  \n",
       "2  Intergovernmental organizations  \n",
       "3  Intergovernmental organizations  \n",
       "4  Intergovernmental organizations  "
      ]
     },
     "execution_count": 7,
     "metadata": {},
     "output_type": "execute_result"
    }
   ],
   "source": [
    "IGO.head()"
   ]
  },
  {
   "cell_type": "code",
   "execution_count": 8,
   "metadata": {},
   "outputs": [],
   "source": [
    "initial_NGO = len(NGO.name) * [np.nan]\n",
    "initial_IGO = len(IGO.name) * [np.nan]\n",
    "NGO[\"constituency\"], NGO[\"coordinator\"], NGO[\"city\"], NGO[\"country\"] = initial_NGO, initial_NGO, initial_NGO, initial_NGO\n",
    "IGO[\"constituency\"], IGO[\"coordinator\"], IGO[\"city\"], IGO[\"country\"] = initial_IGO, initial_IGO, initial_IGO, initial_IGO"
   ]
  },
  {
   "cell_type": "code",
   "execution_count": 9,
   "metadata": {
    "scrolled": true
   },
   "outputs": [
    {
     "data": {
      "text/html": [
       "<div>\n",
       "<style scoped>\n",
       "    .dataframe tbody tr th:only-of-type {\n",
       "        vertical-align: middle;\n",
       "    }\n",
       "\n",
       "    .dataframe tbody tr th {\n",
       "        vertical-align: top;\n",
       "    }\n",
       "\n",
       "    .dataframe thead th {\n",
       "        text-align: right;\n",
       "    }\n",
       "</style>\n",
       "<table border=\"1\" class=\"dataframe\">\n",
       "  <thead>\n",
       "    <tr style=\"text-align: right;\">\n",
       "      <th></th>\n",
       "      <th>name</th>\n",
       "      <th>entity_type</th>\n",
       "      <th>constituency</th>\n",
       "      <th>coordinator</th>\n",
       "      <th>city</th>\n",
       "      <th>country</th>\n",
       "    </tr>\n",
       "  </thead>\n",
       "  <tbody>\n",
       "    <tr>\n",
       "      <th>0</th>\n",
       "      <td>A SEED Europe</td>\n",
       "      <td>Non-governmental organizations</td>\n",
       "      <td>NaN</td>\n",
       "      <td>NaN</td>\n",
       "      <td>NaN</td>\n",
       "      <td>NaN</td>\n",
       "    </tr>\n",
       "    <tr>\n",
       "      <th>1</th>\n",
       "      <td>Abibimman Foundation</td>\n",
       "      <td>Non-governmental organizations</td>\n",
       "      <td>NaN</td>\n",
       "      <td>NaN</td>\n",
       "      <td>NaN</td>\n",
       "      <td>NaN</td>\n",
       "    </tr>\n",
       "    <tr>\n",
       "      <th>2</th>\n",
       "      <td>Academy for Mountain Environics</td>\n",
       "      <td>Non-governmental organizations</td>\n",
       "      <td>NaN</td>\n",
       "      <td>NaN</td>\n",
       "      <td>NaN</td>\n",
       "      <td>NaN</td>\n",
       "    </tr>\n",
       "    <tr>\n",
       "      <th>3</th>\n",
       "      <td>ACT Alliance - Action by Churches Together</td>\n",
       "      <td>Non-governmental organizations</td>\n",
       "      <td>NaN</td>\n",
       "      <td>NaN</td>\n",
       "      <td>NaN</td>\n",
       "      <td>NaN</td>\n",
       "    </tr>\n",
       "    <tr>\n",
       "      <th>4</th>\n",
       "      <td>Action Against Hunger</td>\n",
       "      <td>Non-governmental organizations</td>\n",
       "      <td>NaN</td>\n",
       "      <td>NaN</td>\n",
       "      <td>NaN</td>\n",
       "      <td>NaN</td>\n",
       "    </tr>\n",
       "  </tbody>\n",
       "</table>\n",
       "</div>"
      ],
      "text/plain": [
       "                                         name                     entity_type  \\\n",
       "0                               A SEED Europe  Non-governmental organizations   \n",
       "1                        Abibimman Foundation  Non-governmental organizations   \n",
       "2             Academy for Mountain Environics  Non-governmental organizations   \n",
       "3  ACT Alliance - Action by Churches Together  Non-governmental organizations   \n",
       "4                       Action Against Hunger  Non-governmental organizations   \n",
       "\n",
       "   constituency  coordinator  city  country  \n",
       "0           NaN          NaN   NaN      NaN  \n",
       "1           NaN          NaN   NaN      NaN  \n",
       "2           NaN          NaN   NaN      NaN  \n",
       "3           NaN          NaN   NaN      NaN  \n",
       "4           NaN          NaN   NaN      NaN  "
      ]
     },
     "execution_count": 9,
     "metadata": {},
     "output_type": "execute_result"
    }
   ],
   "source": [
    "NGO.head()"
   ]
  },
  {
   "cell_type": "code",
   "execution_count": 10,
   "metadata": {},
   "outputs": [
    {
     "name": "stdout",
     "output_type": "stream",
     "text": [
      "953 75\n"
     ]
    }
   ],
   "source": [
    "print(len(NGO.name), len(IGO.name))"
   ]
  },
  {
   "cell_type": "code",
   "execution_count": 11,
   "metadata": {},
   "outputs": [
    {
     "data": {
      "text/html": [
       "<div>\n",
       "<style scoped>\n",
       "    .dataframe tbody tr th:only-of-type {\n",
       "        vertical-align: middle;\n",
       "    }\n",
       "\n",
       "    .dataframe tbody tr th {\n",
       "        vertical-align: top;\n",
       "    }\n",
       "\n",
       "    .dataframe thead th {\n",
       "        text-align: right;\n",
       "    }\n",
       "</style>\n",
       "<table border=\"1\" class=\"dataframe\">\n",
       "  <thead>\n",
       "    <tr style=\"text-align: right;\">\n",
       "      <th></th>\n",
       "      <th>Official Name</th>\n",
       "      <th>City</th>\n",
       "      <th>Country</th>\n",
       "      <th>Constituency</th>\n",
       "      <th>Phone</th>\n",
       "      <th>Fax</th>\n",
       "      <th>Email</th>\n",
       "      <th>Coordinator</th>\n",
       "    </tr>\n",
       "  </thead>\n",
       "  <tbody>\n",
       "    <tr>\n",
       "      <th>0</th>\n",
       "      <td>#13 Foundation Climate and Sustainable Develop...</td>\n",
       "      <td>Warsaw</td>\n",
       "      <td>Poland</td>\n",
       "      <td>Constituency - Environmental</td>\n",
       "      <td>NaN</td>\n",
       "      <td>NaN</td>\n",
       "      <td>emil.wroblewski@fundacja13.pl</td>\n",
       "      <td>Mr. Emil Wroblewski</td>\n",
       "    </tr>\n",
       "    <tr>\n",
       "      <th>1</th>\n",
       "      <td>2° investing initiative (2°ii)</td>\n",
       "      <td>Paris</td>\n",
       "      <td>France</td>\n",
       "      <td>Constituency - Research and independent</td>\n",
       "      <td>+33142811997</td>\n",
       "      <td>NaN</td>\n",
       "      <td>diane@2degrees-investing.org</td>\n",
       "      <td>Mr. Thibaut Ghirardi</td>\n",
       "    </tr>\n",
       "    <tr>\n",
       "      <th>2</th>\n",
       "      <td>2050 Climate Group</td>\n",
       "      <td>Edinburgh</td>\n",
       "      <td>United Kingdom of Great Britain and Northern I...</td>\n",
       "      <td>Constituency - Youth</td>\n",
       "      <td>+441313132488</td>\n",
       "      <td>NaN</td>\n",
       "      <td>contact@2050.scot</td>\n",
       "      <td>Ms. Sophie Eastwood</td>\n",
       "    </tr>\n",
       "    <tr>\n",
       "      <th>3</th>\n",
       "      <td>A SEED Europe</td>\n",
       "      <td>Amsterdam</td>\n",
       "      <td>Netherlands</td>\n",
       "      <td>Constituency - Environmental</td>\n",
       "      <td>(31-20) 668-2236</td>\n",
       "      <td>(31-20) 468-2275</td>\n",
       "      <td>info@aseed.net</td>\n",
       "      <td>Mr. Flip Vonk</td>\n",
       "    </tr>\n",
       "    <tr>\n",
       "      <th>4</th>\n",
       "      <td>A Sud Ecology and Cooperation - Onlus (A Sud)</td>\n",
       "      <td>Rome</td>\n",
       "      <td>Italy</td>\n",
       "      <td>Constituency - Environmental</td>\n",
       "      <td>NaN</td>\n",
       "      <td>NaN</td>\n",
       "      <td>luciegreyl@asud.net</td>\n",
       "      <td>Ms. Lucie Greyl</td>\n",
       "    </tr>\n",
       "    <tr>\n",
       "      <th>...</th>\n",
       "      <td>...</td>\n",
       "      <td>...</td>\n",
       "      <td>...</td>\n",
       "      <td>...</td>\n",
       "      <td>...</td>\n",
       "      <td>...</td>\n",
       "      <td>...</td>\n",
       "      <td>...</td>\n",
       "    </tr>\n",
       "    <tr>\n",
       "      <th>2335</th>\n",
       "      <td>Zhenjiang Green Sanshan Environmental Public W...</td>\n",
       "      <td>中国江苏省镇江市</td>\n",
       "      <td>China</td>\n",
       "      <td>Constituency - Environmental</td>\n",
       "      <td>15262994909</td>\n",
       "      <td>NaN</td>\n",
       "      <td>13944696@qq.com</td>\n",
       "      <td>NaN</td>\n",
       "    </tr>\n",
       "    <tr>\n",
       "      <th>2336</th>\n",
       "      <td>ZOI Environment Network (ZOI)</td>\n",
       "      <td>Geneva</td>\n",
       "      <td>Switzerland</td>\n",
       "      <td>Constituency - Research and independent</td>\n",
       "      <td>(41-22) 917-8342</td>\n",
       "      <td>NaN</td>\n",
       "      <td>enzoi@zoinet.org</td>\n",
       "      <td>Mr. Viktor Novikov</td>\n",
       "    </tr>\n",
       "    <tr>\n",
       "      <th>2337</th>\n",
       "      <td>Zonta International CommitteeMs. Megan</td>\n",
       "      <td>Oak Brook, IL</td>\n",
       "      <td>United States of America</td>\n",
       "      <td>Constituency - ENGO</td>\n",
       "      <td>(1-630)928-1400</td>\n",
       "      <td>(1-630)928-1559</td>\n",
       "      <td>zontaintl@zonta.org</td>\n",
       "      <td>M. Radavich</td>\n",
       "    </tr>\n",
       "    <tr>\n",
       "      <th>2338</th>\n",
       "      <td>Zoological Society of London (ZSL)</td>\n",
       "      <td>London</td>\n",
       "      <td>United Kingdom of Great Britain and Northern I...</td>\n",
       "      <td>Constituency - ENGO</td>\n",
       "      <td>+44 0344 225 1826</td>\n",
       "      <td>(44-20) 7586-5743</td>\n",
       "      <td>matthew.lowton@zsl.org</td>\n",
       "      <td>Mr. Matthew James Lowton</td>\n",
       "    </tr>\n",
       "    <tr>\n",
       "      <th>2339</th>\n",
       "      <td>Zurich University of Applied Sciences (ZHAW)</td>\n",
       "      <td>Winterthur</td>\n",
       "      <td>Switzerland</td>\n",
       "      <td>Constituency - Research and independent</td>\n",
       "      <td>NaN</td>\n",
       "      <td>NaN</td>\n",
       "      <td>info@zhaw.ch</td>\n",
       "      <td>Mr. Martin Jaekel</td>\n",
       "    </tr>\n",
       "  </tbody>\n",
       "</table>\n",
       "<p>2340 rows × 8 columns</p>\n",
       "</div>"
      ],
      "text/plain": [
       "                                          Official Name           City  \\\n",
       "0     #13 Foundation Climate and Sustainable Develop...         Warsaw   \n",
       "1                        2° investing initiative (2°ii)          Paris   \n",
       "2                                    2050 Climate Group      Edinburgh   \n",
       "3                                         A SEED Europe      Amsterdam   \n",
       "4         A Sud Ecology and Cooperation - Onlus (A Sud)           Rome   \n",
       "...                                                 ...            ...   \n",
       "2335  Zhenjiang Green Sanshan Environmental Public W...       中国江苏省镇江市   \n",
       "2336                      ZOI Environment Network (ZOI)         Geneva   \n",
       "2337            Zonta International CommitteeMs. Megan   Oak Brook, IL   \n",
       "2338                 Zoological Society of London (ZSL)         London   \n",
       "2339       Zurich University of Applied Sciences (ZHAW)     Winterthur   \n",
       "\n",
       "                                                Country  \\\n",
       "0                                                Poland   \n",
       "1                                                France   \n",
       "2     United Kingdom of Great Britain and Northern I...   \n",
       "3                                           Netherlands   \n",
       "4                                                 Italy   \n",
       "...                                                 ...   \n",
       "2335                                              China   \n",
       "2336                                        Switzerland   \n",
       "2337                           United States of America   \n",
       "2338  United Kingdom of Great Britain and Northern I...   \n",
       "2339                                        Switzerland   \n",
       "\n",
       "                                 Constituency              Phone  \\\n",
       "0                Constituency - Environmental                NaN   \n",
       "1     Constituency - Research and independent       +33142811997   \n",
       "2                        Constituency - Youth      +441313132488   \n",
       "3                Constituency - Environmental   (31-20) 668-2236   \n",
       "4                Constituency - Environmental                NaN   \n",
       "...                                       ...                ...   \n",
       "2335             Constituency - Environmental        15262994909   \n",
       "2336  Constituency - Research and independent   (41-22) 917-8342   \n",
       "2337                      Constituency - ENGO    (1-630)928-1400   \n",
       "2338                      Constituency - ENGO  +44 0344 225 1826   \n",
       "2339  Constituency - Research and independent                NaN   \n",
       "\n",
       "                    Fax                          Email  \\\n",
       "0                   NaN  emil.wroblewski@fundacja13.pl   \n",
       "1                   NaN   diane@2degrees-investing.org   \n",
       "2                   NaN              contact@2050.scot   \n",
       "3      (31-20) 468-2275                 info@aseed.net   \n",
       "4                   NaN            luciegreyl@asud.net   \n",
       "...                 ...                            ...   \n",
       "2335                NaN                13944696@qq.com   \n",
       "2336                NaN               enzoi@zoinet.org   \n",
       "2337    (1-630)928-1559            zontaintl@zonta.org   \n",
       "2338  (44-20) 7586-5743         matthew.lowton@zsl.org   \n",
       "2339                NaN                   info@zhaw.ch   \n",
       "\n",
       "                   Coordinator  \n",
       "0          Mr. Emil Wroblewski  \n",
       "1         Mr. Thibaut Ghirardi  \n",
       "2          Ms. Sophie Eastwood  \n",
       "3                Mr. Flip Vonk  \n",
       "4              Ms. Lucie Greyl  \n",
       "...                        ...  \n",
       "2335                       NaN  \n",
       "2336        Mr. Viktor Novikov  \n",
       "2337               M. Radavich  \n",
       "2338  Mr. Matthew James Lowton  \n",
       "2339         Mr. Martin Jaekel  \n",
       "\n",
       "[2340 rows x 8 columns]"
      ]
     },
     "execution_count": 11,
     "metadata": {},
     "output_type": "execute_result"
    }
   ],
   "source": [
    "NGO_unfccc = pd.read_csv(\"NGOs_UNFCCC.csv\")\n",
    "NGO_unfccc"
   ]
  },
  {
   "cell_type": "code",
   "execution_count": 12,
   "metadata": {},
   "outputs": [
    {
     "data": {
      "text/plain": [
       "(2340, 8)"
      ]
     },
     "execution_count": 12,
     "metadata": {},
     "output_type": "execute_result"
    }
   ],
   "source": [
    "NGO_unfccc.shape"
   ]
  },
  {
   "cell_type": "code",
   "execution_count": 13,
   "metadata": {},
   "outputs": [
    {
     "data": {
      "text/html": [
       "<div>\n",
       "<style scoped>\n",
       "    .dataframe tbody tr th:only-of-type {\n",
       "        vertical-align: middle;\n",
       "    }\n",
       "\n",
       "    .dataframe tbody tr th {\n",
       "        vertical-align: top;\n",
       "    }\n",
       "\n",
       "    .dataframe thead th {\n",
       "        text-align: right;\n",
       "    }\n",
       "</style>\n",
       "<table border=\"1\" class=\"dataframe\">\n",
       "  <thead>\n",
       "    <tr style=\"text-align: right;\">\n",
       "      <th></th>\n",
       "      <th>Official Name</th>\n",
       "      <th>City</th>\n",
       "      <th>Country</th>\n",
       "      <th>Phone</th>\n",
       "      <th>Fax</th>\n",
       "      <th>Email</th>\n",
       "      <th>Coordinator</th>\n",
       "    </tr>\n",
       "  </thead>\n",
       "  <tbody>\n",
       "    <tr>\n",
       "      <th>0</th>\n",
       "      <td>Adaptation Fund Board (AFB)</td>\n",
       "      <td>Washington DC</td>\n",
       "      <td>United States of America</td>\n",
       "      <td>+1 202 458 7347</td>\n",
       "      <td>+1 202 522 3240</td>\n",
       "      <td>afbsec@adaptation-fund.org</td>\n",
       "      <td>Mr. Mikko Antti Ollikainen</td>\n",
       "    </tr>\n",
       "    <tr>\n",
       "      <th>1</th>\n",
       "      <td>African Centre of Meteorological Application f...</td>\n",
       "      <td>Niamey</td>\n",
       "      <td>Niger</td>\n",
       "      <td>(227-20) 72-3627</td>\n",
       "      <td>(227-20) 72-3627</td>\n",
       "      <td>dgacmad@acmad.org</td>\n",
       "      <td>Ms. Safia Alfa</td>\n",
       "    </tr>\n",
       "    <tr>\n",
       "      <th>2</th>\n",
       "      <td>African Development Bank Group (AfDB)</td>\n",
       "      <td>Tunis</td>\n",
       "      <td>Tunisia</td>\n",
       "      <td>(216) 7110-3900</td>\n",
       "      <td>(216) 7133-5929</td>\n",
       "      <td>afdb@afdb.org</td>\n",
       "      <td>Ms. Louise Helen Brown</td>\n",
       "    </tr>\n",
       "    <tr>\n",
       "      <th>3</th>\n",
       "      <td>African Regional Centre for Technology (ARCT)</td>\n",
       "      <td>Dakar</td>\n",
       "      <td>Senegal</td>\n",
       "      <td>(221)23-7712</td>\n",
       "      <td>(221)23-7713</td>\n",
       "      <td>arct@sonatel.senet.net</td>\n",
       "      <td>Mr. Ousmane Kane</td>\n",
       "    </tr>\n",
       "    <tr>\n",
       "      <th>4</th>\n",
       "      <td>African Union Commission (AUC)</td>\n",
       "      <td>Addis Ababa</td>\n",
       "      <td>Ethiopia</td>\n",
       "      <td>(251-115) 51-7700</td>\n",
       "      <td>(251-115) 51-7844</td>\n",
       "      <td>NyambeH@africa-union.org</td>\n",
       "      <td>Mr. Harsen Nyambe Nyambe</td>\n",
       "    </tr>\n",
       "    <tr>\n",
       "      <th>...</th>\n",
       "      <td>...</td>\n",
       "      <td>...</td>\n",
       "      <td>...</td>\n",
       "      <td>...</td>\n",
       "      <td>...</td>\n",
       "      <td>...</td>\n",
       "      <td>...</td>\n",
       "    </tr>\n",
       "    <tr>\n",
       "      <th>130</th>\n",
       "      <td>The OPEC Fund for International Development (T...</td>\n",
       "      <td>Vienna</td>\n",
       "      <td>Austria</td>\n",
       "      <td>(43-1) 5156 4317</td>\n",
       "      <td>(43-1) 513-9238</td>\n",
       "      <td>spes@ofid.org</td>\n",
       "      <td>Mr. Mohammad Mazraati</td>\n",
       "    </tr>\n",
       "    <tr>\n",
       "      <th>131</th>\n",
       "      <td>The Regional Organization for the Conservation...</td>\n",
       "      <td>Jeddah 21583</td>\n",
       "      <td>Saudi Arabia</td>\n",
       "      <td>(966-2) 657-3224</td>\n",
       "      <td>(966-2) 652-1901</td>\n",
       "      <td>info@persga.org</td>\n",
       "      <td>Mr. Ziad Abu Gararah</td>\n",
       "    </tr>\n",
       "    <tr>\n",
       "      <th>132</th>\n",
       "      <td>Union Economique et Monétaire Ouest Africaine ...</td>\n",
       "      <td>Ouagadougou 01</td>\n",
       "      <td>Burkina Faso</td>\n",
       "      <td>(226) 5031-8873</td>\n",
       "      <td>(226) 5031-8872</td>\n",
       "      <td>commission@uemoa.int</td>\n",
       "      <td>Mme Zourata Lompo Née Ouédraogo</td>\n",
       "    </tr>\n",
       "    <tr>\n",
       "      <th>133</th>\n",
       "      <td>Union for the Mediterranean (UfM)</td>\n",
       "      <td>Barcelona</td>\n",
       "      <td>Spain</td>\n",
       "      <td>+34935214100</td>\n",
       "      <td>NaN</td>\n",
       "      <td>info@ufmsecretariat.org</td>\n",
       "      <td>Mr. Arnault Graves</td>\n",
       "    </tr>\n",
       "    <tr>\n",
       "      <th>134</th>\n",
       "      <td>University for Peace (UPEACE)</td>\n",
       "      <td>Ciudad Colón</td>\n",
       "      <td>Costa Rica</td>\n",
       "      <td>(506) 2205-9000</td>\n",
       "      <td>NaN</td>\n",
       "      <td>pcarazo@upeace.org</td>\n",
       "      <td>Sra. Maria Pia Carazo Ortiz</td>\n",
       "    </tr>\n",
       "  </tbody>\n",
       "</table>\n",
       "<p>135 rows × 7 columns</p>\n",
       "</div>"
      ],
      "text/plain": [
       "                                         Official Name            City  \\\n",
       "0                          Adaptation Fund Board (AFB)   Washington DC   \n",
       "1    African Centre of Meteorological Application f...          Niamey   \n",
       "2                African Development Bank Group (AfDB)           Tunis   \n",
       "3        African Regional Centre for Technology (ARCT)           Dakar   \n",
       "4                       African Union Commission (AUC)     Addis Ababa   \n",
       "..                                                 ...             ...   \n",
       "130  The OPEC Fund for International Development (T...          Vienna   \n",
       "131  The Regional Organization for the Conservation...    Jeddah 21583   \n",
       "132  Union Economique et Monétaire Ouest Africaine ...  Ouagadougou 01   \n",
       "133                  Union for the Mediterranean (UfM)       Barcelona   \n",
       "134                      University for Peace (UPEACE)    Ciudad Colón   \n",
       "\n",
       "                      Country              Phone                Fax  \\\n",
       "0    United States of America    +1 202 458 7347    +1 202 522 3240   \n",
       "1                       Niger   (227-20) 72-3627   (227-20) 72-3627   \n",
       "2                     Tunisia    (216) 7110-3900    (216) 7133-5929   \n",
       "3                     Senegal       (221)23-7712       (221)23-7713   \n",
       "4                    Ethiopia  (251-115) 51-7700  (251-115) 51-7844   \n",
       "..                        ...                ...                ...   \n",
       "130                   Austria   (43-1) 5156 4317    (43-1) 513-9238   \n",
       "131              Saudi Arabia   (966-2) 657-3224   (966-2) 652-1901   \n",
       "132              Burkina Faso    (226) 5031-8873    (226) 5031-8872   \n",
       "133                     Spain       +34935214100                NaN   \n",
       "134                Costa Rica    (506) 2205-9000                NaN   \n",
       "\n",
       "                          Email                      Coordinator  \n",
       "0    afbsec@adaptation-fund.org       Mr. Mikko Antti Ollikainen  \n",
       "1             dgacmad@acmad.org                   Ms. Safia Alfa  \n",
       "2                 afdb@afdb.org           Ms. Louise Helen Brown  \n",
       "3        arct@sonatel.senet.net                 Mr. Ousmane Kane  \n",
       "4      NyambeH@africa-union.org         Mr. Harsen Nyambe Nyambe  \n",
       "..                          ...                              ...  \n",
       "130               spes@ofid.org            Mr. Mohammad Mazraati  \n",
       "131             info@persga.org             Mr. Ziad Abu Gararah  \n",
       "132        commission@uemoa.int  Mme Zourata Lompo Née Ouédraogo  \n",
       "133     info@ufmsecretariat.org               Mr. Arnault Graves  \n",
       "134          pcarazo@upeace.org      Sra. Maria Pia Carazo Ortiz  \n",
       "\n",
       "[135 rows x 7 columns]"
      ]
     },
     "execution_count": 13,
     "metadata": {},
     "output_type": "execute_result"
    }
   ],
   "source": [
    "IGO_unfccc = pd.read_csv(\"IGOs_UNFCCC.csv\")\n",
    "IGO_unfccc"
   ]
  },
  {
   "cell_type": "code",
   "execution_count": 14,
   "metadata": {},
   "outputs": [
    {
     "data": {
      "text/plain": [
       "(135, 7)"
      ]
     },
     "execution_count": 14,
     "metadata": {},
     "output_type": "execute_result"
    }
   ],
   "source": [
    "IGO_unfccc.shape"
   ]
  },
  {
   "cell_type": "code",
   "execution_count": 15,
   "metadata": {},
   "outputs": [],
   "source": [
    "def populate_country_and_coordinator(cop, unfccc, const):\n",
    "    org_cop = list(cop[\"name\"])\n",
    "    org_unfccc = list(unfccc[\"Official Name\"])\n",
    "    for i in range(len(org_cop)):\n",
    "        org = org_cop[i]\n",
    "        for j in range(len(org_unfccc)):\n",
    "            organization = org_unfccc[j]\n",
    "            if org in organization:\n",
    "                cop[\"country\"].iloc[i] = unfccc[\"Country\"].iloc[j]\n",
    "                cop[\"city\"].iloc[i] = unfccc[\"City\"].iloc[j]\n",
    "                cop[\"coordinator\"].iloc[i] = unfccc[\"Coordinator\"].iloc[j]\n",
    "                if const:\n",
    "                    cop[\"constituency\"].iloc[i] = unfccc[\"Constituency\"].iloc[j]\n",
    "                break\n",
    "                "
   ]
  },
  {
   "cell_type": "code",
   "execution_count": 16,
   "metadata": {},
   "outputs": [
    {
     "name": "stderr",
     "output_type": "stream",
     "text": [
      "/Users/stefan/py_38_env/lib/python3.8/site-packages/pandas/core/indexing.py:1637: SettingWithCopyWarning: \n",
      "A value is trying to be set on a copy of a slice from a DataFrame\n",
      "\n",
      "See the caveats in the documentation: https://pandas.pydata.org/pandas-docs/stable/user_guide/indexing.html#returning-a-view-versus-a-copy\n",
      "  self._setitem_single_block(indexer, value, name)\n"
     ]
    }
   ],
   "source": [
    "populate_country_and_coordinator(NGO, NGO_unfccc, True)"
   ]
  },
  {
   "cell_type": "code",
   "execution_count": 17,
   "metadata": {},
   "outputs": [
    {
     "data": {
      "text/html": [
       "<div>\n",
       "<style scoped>\n",
       "    .dataframe tbody tr th:only-of-type {\n",
       "        vertical-align: middle;\n",
       "    }\n",
       "\n",
       "    .dataframe tbody tr th {\n",
       "        vertical-align: top;\n",
       "    }\n",
       "\n",
       "    .dataframe thead th {\n",
       "        text-align: right;\n",
       "    }\n",
       "</style>\n",
       "<table border=\"1\" class=\"dataframe\">\n",
       "  <thead>\n",
       "    <tr style=\"text-align: right;\">\n",
       "      <th></th>\n",
       "      <th>name</th>\n",
       "      <th>entity_type</th>\n",
       "      <th>constituency</th>\n",
       "      <th>coordinator</th>\n",
       "      <th>city</th>\n",
       "      <th>country</th>\n",
       "    </tr>\n",
       "  </thead>\n",
       "  <tbody>\n",
       "    <tr>\n",
       "      <th>0</th>\n",
       "      <td>A SEED Europe</td>\n",
       "      <td>Non-governmental organizations</td>\n",
       "      <td>Constituency - Environmental</td>\n",
       "      <td>Mr. Flip Vonk</td>\n",
       "      <td>Amsterdam</td>\n",
       "      <td>Netherlands</td>\n",
       "    </tr>\n",
       "    <tr>\n",
       "      <th>1</th>\n",
       "      <td>Abibimman Foundation</td>\n",
       "      <td>Non-governmental organizations</td>\n",
       "      <td>Constituency - Environmental CAN</td>\n",
       "      <td>Mr. Kenneth Nana Amoateng</td>\n",
       "      <td>Tena</td>\n",
       "      <td>Ghana</td>\n",
       "    </tr>\n",
       "    <tr>\n",
       "      <th>2</th>\n",
       "      <td>Academy for Mountain Environics</td>\n",
       "      <td>Non-governmental organizations</td>\n",
       "      <td>Constituency - Environmental</td>\n",
       "      <td>Mr. Sreedhar Ramamurthi</td>\n",
       "      <td>New Delhi</td>\n",
       "      <td>India</td>\n",
       "    </tr>\n",
       "    <tr>\n",
       "      <th>3</th>\n",
       "      <td>ACT Alliance - Action by Churches Together</td>\n",
       "      <td>Non-governmental organizations</td>\n",
       "      <td>Constituency - Environmental CAN</td>\n",
       "      <td>Mr. Thorsten Göbel</td>\n",
       "      <td>Geneva</td>\n",
       "      <td>Switzerland</td>\n",
       "    </tr>\n",
       "    <tr>\n",
       "      <th>4</th>\n",
       "      <td>Action Against Hunger</td>\n",
       "      <td>Non-governmental organizations</td>\n",
       "      <td>Constituency - Environmental</td>\n",
       "      <td>Mme Peggy Pascal</td>\n",
       "      <td>Paris</td>\n",
       "      <td>France</td>\n",
       "    </tr>\n",
       "    <tr>\n",
       "      <th>5</th>\n",
       "      <td>Action Planéterre</td>\n",
       "      <td>Non-governmental organizations</td>\n",
       "      <td>Constituency - Environmental</td>\n",
       "      <td>Mr. Mahamadoun Abdoulaye Traore</td>\n",
       "      <td>Aubervilliers</td>\n",
       "      <td>France</td>\n",
       "    </tr>\n",
       "    <tr>\n",
       "      <th>6</th>\n",
       "      <td>Action Solidarité Tiers-Monde a.s.b.l.</td>\n",
       "      <td>Non-governmental organizations</td>\n",
       "      <td>Constituency - ENGO</td>\n",
       "      <td>M. Dietmar Mirkes</td>\n",
       "      <td>Luxembourg</td>\n",
       "      <td>Luxembourg</td>\n",
       "    </tr>\n",
       "    <tr>\n",
       "      <th>7</th>\n",
       "      <td>ActionAid International</td>\n",
       "      <td>Non-governmental organizations</td>\n",
       "      <td>Constituency - Environmental CAN</td>\n",
       "      <td>Ms. Teresa Maria Isabel Anderson</td>\n",
       "      <td>Johannesburg</td>\n",
       "      <td>South Africa</td>\n",
       "    </tr>\n",
       "    <tr>\n",
       "      <th>8</th>\n",
       "      <td>African Centre for Technology Studies</td>\n",
       "      <td>Non-governmental organizations</td>\n",
       "      <td>Constituency - Environmental</td>\n",
       "      <td>Mr. Kennedy Liti Mbeva</td>\n",
       "      <td>Nairobi</td>\n",
       "      <td>Kenya</td>\n",
       "    </tr>\n",
       "    <tr>\n",
       "      <th>9</th>\n",
       "      <td>African Climate Change Research Centre</td>\n",
       "      <td>Non-governmental organizations</td>\n",
       "      <td>Constituency - Research and independent</td>\n",
       "      <td>Mr. Nura Jibo</td>\n",
       "      <td>Dutse</td>\n",
       "      <td>Nigeria</td>\n",
       "    </tr>\n",
       "    <tr>\n",
       "      <th>10</th>\n",
       "      <td>African Forest Forum</td>\n",
       "      <td>Non-governmental organizations</td>\n",
       "      <td>Constituency - Environmental</td>\n",
       "      <td>Mr. Godwin Kowero</td>\n",
       "      <td>Nairobi</td>\n",
       "      <td>Kenya</td>\n",
       "    </tr>\n",
       "    <tr>\n",
       "      <th>11</th>\n",
       "      <td>African Wildlife Foundation</td>\n",
       "      <td>Non-governmental organizations</td>\n",
       "      <td>Constituency - Environmental</td>\n",
       "      <td>Mr. Charly Facheux</td>\n",
       "      <td>Nairobi</td>\n",
       "      <td>Kenya</td>\n",
       "    </tr>\n",
       "    <tr>\n",
       "      <th>12</th>\n",
       "      <td>Agriconsulting S.p.A.</td>\n",
       "      <td>Non-governmental organizations</td>\n",
       "      <td>Constituency - Business and Industry</td>\n",
       "      <td>Mr. Giorgio Andreoli</td>\n",
       "      <td>Rome</td>\n",
       "      <td>Italy</td>\n",
       "    </tr>\n",
       "    <tr>\n",
       "      <th>13</th>\n",
       "      <td>Albertine Rift Conservation Society</td>\n",
       "      <td>Non-governmental organizations</td>\n",
       "      <td>Constituency - Environmental</td>\n",
       "      <td>Mr. Samuel Kanyamibwa</td>\n",
       "      <td>Cambridge</td>\n",
       "      <td>United Kingdom of Great Britain and Northern I...</td>\n",
       "    </tr>\n",
       "    <tr>\n",
       "      <th>14</th>\n",
       "      <td>All India Women's Conference</td>\n",
       "      <td>Non-governmental organizations</td>\n",
       "      <td>Constituency - Women and Gender</td>\n",
       "      <td>Ms. Rakesch Dhawan</td>\n",
       "      <td>New Delhi</td>\n",
       "      <td>India</td>\n",
       "    </tr>\n",
       "    <tr>\n",
       "      <th>15</th>\n",
       "      <td>Alliance for Responsible Atmospheric Policy</td>\n",
       "      <td>Non-governmental organizations</td>\n",
       "      <td>Constituency - Business and Industry</td>\n",
       "      <td>Mr. Stephen Van Maren</td>\n",
       "      <td>Arlington</td>\n",
       "      <td>United States of America</td>\n",
       "    </tr>\n",
       "    <tr>\n",
       "      <th>16</th>\n",
       "      <td>Alliance for Rural Electrification</td>\n",
       "      <td>Non-governmental organizations</td>\n",
       "      <td>Constituency - Business and Industry</td>\n",
       "      <td>Mr. David Lecoque</td>\n",
       "      <td>Brussels</td>\n",
       "      <td>Belgium</td>\n",
       "    </tr>\n",
       "    <tr>\n",
       "      <th>17</th>\n",
       "      <td>Alliance to Save Energy</td>\n",
       "      <td>Non-governmental organizations</td>\n",
       "      <td>Constituency - Business and Industry</td>\n",
       "      <td>Ms. Laura Van Wie McGrory</td>\n",
       "      <td>Washington</td>\n",
       "      <td>United States of America</td>\n",
       "    </tr>\n",
       "    <tr>\n",
       "      <th>18</th>\n",
       "      <td>Amazon Environmental Research Institute</td>\n",
       "      <td>Non-governmental organizations</td>\n",
       "      <td>Constituency - Environmental</td>\n",
       "      <td>Ms. Gabriela Savian</td>\n",
       "      <td>Belem</td>\n",
       "      <td>Brazil</td>\n",
       "    </tr>\n",
       "    <tr>\n",
       "      <th>19</th>\n",
       "      <td>Amazon Watch</td>\n",
       "      <td>Non-governmental organizations</td>\n",
       "      <td>Constituency - Environmental</td>\n",
       "      <td>Mr. Andrew Miller</td>\n",
       "      <td>San Francisco</td>\n",
       "      <td>United States of America</td>\n",
       "    </tr>\n",
       "  </tbody>\n",
       "</table>\n",
       "</div>"
      ],
      "text/plain": [
       "                                           name  \\\n",
       "0                                 A SEED Europe   \n",
       "1                          Abibimman Foundation   \n",
       "2               Academy for Mountain Environics   \n",
       "3    ACT Alliance - Action by Churches Together   \n",
       "4                         Action Against Hunger   \n",
       "5                             Action Planéterre   \n",
       "6        Action Solidarité Tiers-Monde a.s.b.l.   \n",
       "7                       ActionAid International   \n",
       "8         African Centre for Technology Studies   \n",
       "9        African Climate Change Research Centre   \n",
       "10                         African Forest Forum   \n",
       "11                  African Wildlife Foundation   \n",
       "12                        Agriconsulting S.p.A.   \n",
       "13          Albertine Rift Conservation Society   \n",
       "14                 All India Women's Conference   \n",
       "15  Alliance for Responsible Atmospheric Policy   \n",
       "16           Alliance for Rural Electrification   \n",
       "17                      Alliance to Save Energy   \n",
       "18      Amazon Environmental Research Institute   \n",
       "19                                 Amazon Watch   \n",
       "\n",
       "                       entity_type                             constituency  \\\n",
       "0   Non-governmental organizations             Constituency - Environmental   \n",
       "1   Non-governmental organizations         Constituency - Environmental CAN   \n",
       "2   Non-governmental organizations             Constituency - Environmental   \n",
       "3   Non-governmental organizations         Constituency - Environmental CAN   \n",
       "4   Non-governmental organizations             Constituency - Environmental   \n",
       "5   Non-governmental organizations             Constituency - Environmental   \n",
       "6   Non-governmental organizations                      Constituency - ENGO   \n",
       "7   Non-governmental organizations         Constituency - Environmental CAN   \n",
       "8   Non-governmental organizations             Constituency - Environmental   \n",
       "9   Non-governmental organizations  Constituency - Research and independent   \n",
       "10  Non-governmental organizations             Constituency - Environmental   \n",
       "11  Non-governmental organizations             Constituency - Environmental   \n",
       "12  Non-governmental organizations     Constituency - Business and Industry   \n",
       "13  Non-governmental organizations             Constituency - Environmental   \n",
       "14  Non-governmental organizations          Constituency - Women and Gender   \n",
       "15  Non-governmental organizations     Constituency - Business and Industry   \n",
       "16  Non-governmental organizations     Constituency - Business and Industry   \n",
       "17  Non-governmental organizations     Constituency - Business and Industry   \n",
       "18  Non-governmental organizations             Constituency - Environmental   \n",
       "19  Non-governmental organizations             Constituency - Environmental   \n",
       "\n",
       "                         coordinator           city  \\\n",
       "0                      Mr. Flip Vonk      Amsterdam   \n",
       "1          Mr. Kenneth Nana Amoateng           Tena   \n",
       "2            Mr. Sreedhar Ramamurthi      New Delhi   \n",
       "3                 Mr. Thorsten Göbel         Geneva   \n",
       "4                   Mme Peggy Pascal          Paris   \n",
       "5    Mr. Mahamadoun Abdoulaye Traore  Aubervilliers   \n",
       "6                  M. Dietmar Mirkes     Luxembourg   \n",
       "7   Ms. Teresa Maria Isabel Anderson   Johannesburg   \n",
       "8             Mr. Kennedy Liti Mbeva        Nairobi   \n",
       "9                      Mr. Nura Jibo          Dutse   \n",
       "10                 Mr. Godwin Kowero        Nairobi   \n",
       "11                Mr. Charly Facheux        Nairobi   \n",
       "12              Mr. Giorgio Andreoli           Rome   \n",
       "13             Mr. Samuel Kanyamibwa      Cambridge   \n",
       "14                Ms. Rakesch Dhawan      New Delhi   \n",
       "15             Mr. Stephen Van Maren      Arlington   \n",
       "16                 Mr. David Lecoque       Brussels   \n",
       "17         Ms. Laura Van Wie McGrory     Washington   \n",
       "18               Ms. Gabriela Savian          Belem   \n",
       "19                 Mr. Andrew Miller  San Francisco   \n",
       "\n",
       "                                              country  \n",
       "0                                         Netherlands  \n",
       "1                                               Ghana  \n",
       "2                                               India  \n",
       "3                                         Switzerland  \n",
       "4                                              France  \n",
       "5                                              France  \n",
       "6                                          Luxembourg  \n",
       "7                                        South Africa  \n",
       "8                                               Kenya  \n",
       "9                                             Nigeria  \n",
       "10                                              Kenya  \n",
       "11                                              Kenya  \n",
       "12                                              Italy  \n",
       "13  United Kingdom of Great Britain and Northern I...  \n",
       "14                                              India  \n",
       "15                           United States of America  \n",
       "16                                            Belgium  \n",
       "17                           United States of America  \n",
       "18                                             Brazil  \n",
       "19                           United States of America  "
      ]
     },
     "execution_count": 17,
     "metadata": {},
     "output_type": "execute_result"
    }
   ],
   "source": [
    "NGO.head(20)"
   ]
  },
  {
   "cell_type": "code",
   "execution_count": 18,
   "metadata": {},
   "outputs": [
    {
     "data": {
      "text/plain": [
       "41"
      ]
     },
     "execution_count": 18,
     "metadata": {},
     "output_type": "execute_result"
    }
   ],
   "source": [
    "NGO.country.isnull().sum()"
   ]
  },
  {
   "cell_type": "code",
   "execution_count": 19,
   "metadata": {},
   "outputs": [],
   "source": [
    "NGO.to_csv(\"NGOs_COP2017_uncleaned.csv\", index = False)"
   ]
  },
  {
   "cell_type": "code",
   "execution_count": 20,
   "metadata": {},
   "outputs": [
    {
     "name": "stderr",
     "output_type": "stream",
     "text": [
      "/Users/stefan/py_38_env/lib/python3.8/site-packages/pandas/core/indexing.py:1637: SettingWithCopyWarning: \n",
      "A value is trying to be set on a copy of a slice from a DataFrame\n",
      "\n",
      "See the caveats in the documentation: https://pandas.pydata.org/pandas-docs/stable/user_guide/indexing.html#returning-a-view-versus-a-copy\n",
      "  self._setitem_single_block(indexer, value, name)\n"
     ]
    }
   ],
   "source": [
    "populate_country_and_coordinator(IGO, IGO_unfccc, False)"
   ]
  },
  {
   "cell_type": "code",
   "execution_count": 21,
   "metadata": {},
   "outputs": [
    {
     "data": {
      "text/html": [
       "<div>\n",
       "<style scoped>\n",
       "    .dataframe tbody tr th:only-of-type {\n",
       "        vertical-align: middle;\n",
       "    }\n",
       "\n",
       "    .dataframe tbody tr th {\n",
       "        vertical-align: top;\n",
       "    }\n",
       "\n",
       "    .dataframe thead th {\n",
       "        text-align: right;\n",
       "    }\n",
       "</style>\n",
       "<table border=\"1\" class=\"dataframe\">\n",
       "  <thead>\n",
       "    <tr style=\"text-align: right;\">\n",
       "      <th></th>\n",
       "      <th>name</th>\n",
       "      <th>entity_type</th>\n",
       "      <th>constituency</th>\n",
       "      <th>coordinator</th>\n",
       "      <th>city</th>\n",
       "      <th>country</th>\n",
       "    </tr>\n",
       "  </thead>\n",
       "  <tbody>\n",
       "    <tr>\n",
       "      <th>0</th>\n",
       "      <td>Adaptation Fund Board</td>\n",
       "      <td>Intergovernmental organizations</td>\n",
       "      <td>NaN</td>\n",
       "      <td>Mr. Mikko Antti Ollikainen</td>\n",
       "      <td>Washington DC</td>\n",
       "      <td>United States of America</td>\n",
       "    </tr>\n",
       "    <tr>\n",
       "      <th>1</th>\n",
       "      <td>African Centre of Meteorological Application f...</td>\n",
       "      <td>Intergovernmental organizations</td>\n",
       "      <td>NaN</td>\n",
       "      <td>Ms. Safia Alfa</td>\n",
       "      <td>Niamey</td>\n",
       "      <td>Niger</td>\n",
       "    </tr>\n",
       "    <tr>\n",
       "      <th>2</th>\n",
       "      <td>African Development Bank Group</td>\n",
       "      <td>Intergovernmental organizations</td>\n",
       "      <td>NaN</td>\n",
       "      <td>Ms. Louise Helen Brown</td>\n",
       "      <td>Tunis</td>\n",
       "      <td>Tunisia</td>\n",
       "    </tr>\n",
       "    <tr>\n",
       "      <th>3</th>\n",
       "      <td>African Union Commission</td>\n",
       "      <td>Intergovernmental organizations</td>\n",
       "      <td>NaN</td>\n",
       "      <td>Mr. Harsen Nyambe Nyambe</td>\n",
       "      <td>Addis Ababa</td>\n",
       "      <td>Ethiopia</td>\n",
       "    </tr>\n",
       "    <tr>\n",
       "      <th>4</th>\n",
       "      <td>African, Caribbean and Pacific Group of States</td>\n",
       "      <td>Intergovernmental organizations</td>\n",
       "      <td>NaN</td>\n",
       "      <td>Mr. Israel Olusola Ojo</td>\n",
       "      <td>Brussels</td>\n",
       "      <td>Belgium</td>\n",
       "    </tr>\n",
       "  </tbody>\n",
       "</table>\n",
       "</div>"
      ],
      "text/plain": [
       "                                                name  \\\n",
       "0                              Adaptation Fund Board   \n",
       "1  African Centre of Meteorological Application f...   \n",
       "2                     African Development Bank Group   \n",
       "3                           African Union Commission   \n",
       "4     African, Caribbean and Pacific Group of States   \n",
       "\n",
       "                       entity_type  constituency                 coordinator  \\\n",
       "0  Intergovernmental organizations           NaN  Mr. Mikko Antti Ollikainen   \n",
       "1  Intergovernmental organizations           NaN              Ms. Safia Alfa   \n",
       "2  Intergovernmental organizations           NaN      Ms. Louise Helen Brown   \n",
       "3  Intergovernmental organizations           NaN    Mr. Harsen Nyambe Nyambe   \n",
       "4  Intergovernmental organizations           NaN      Mr. Israel Olusola Ojo   \n",
       "\n",
       "            city                   country  \n",
       "0  Washington DC  United States of America  \n",
       "1         Niamey                     Niger  \n",
       "2          Tunis                   Tunisia  \n",
       "3    Addis Ababa                  Ethiopia  \n",
       "4       Brussels                   Belgium  "
      ]
     },
     "execution_count": 21,
     "metadata": {},
     "output_type": "execute_result"
    }
   ],
   "source": [
    "IGO.head()"
   ]
  },
  {
   "cell_type": "code",
   "execution_count": 22,
   "metadata": {},
   "outputs": [
    {
     "data": {
      "text/plain": [
       "2"
      ]
     },
     "execution_count": 22,
     "metadata": {},
     "output_type": "execute_result"
    }
   ],
   "source": [
    "IGO.country.isnull().sum()"
   ]
  },
  {
   "cell_type": "code",
   "execution_count": 23,
   "metadata": {},
   "outputs": [],
   "source": [
    "IGO.drop(columns=[\"constituency\"], inplace = True, axis = 1)"
   ]
  },
  {
   "cell_type": "code",
   "execution_count": 24,
   "metadata": {},
   "outputs": [
    {
     "data": {
      "text/html": [
       "<div>\n",
       "<style scoped>\n",
       "    .dataframe tbody tr th:only-of-type {\n",
       "        vertical-align: middle;\n",
       "    }\n",
       "\n",
       "    .dataframe tbody tr th {\n",
       "        vertical-align: top;\n",
       "    }\n",
       "\n",
       "    .dataframe thead th {\n",
       "        text-align: right;\n",
       "    }\n",
       "</style>\n",
       "<table border=\"1\" class=\"dataframe\">\n",
       "  <thead>\n",
       "    <tr style=\"text-align: right;\">\n",
       "      <th></th>\n",
       "      <th>name</th>\n",
       "      <th>entity_type</th>\n",
       "      <th>coordinator</th>\n",
       "      <th>city</th>\n",
       "      <th>country</th>\n",
       "    </tr>\n",
       "  </thead>\n",
       "  <tbody>\n",
       "    <tr>\n",
       "      <th>0</th>\n",
       "      <td>Adaptation Fund Board</td>\n",
       "      <td>Intergovernmental organizations</td>\n",
       "      <td>Mr. Mikko Antti Ollikainen</td>\n",
       "      <td>Washington DC</td>\n",
       "      <td>United States of America</td>\n",
       "    </tr>\n",
       "    <tr>\n",
       "      <th>1</th>\n",
       "      <td>African Centre of Meteorological Application f...</td>\n",
       "      <td>Intergovernmental organizations</td>\n",
       "      <td>Ms. Safia Alfa</td>\n",
       "      <td>Niamey</td>\n",
       "      <td>Niger</td>\n",
       "    </tr>\n",
       "    <tr>\n",
       "      <th>2</th>\n",
       "      <td>African Development Bank Group</td>\n",
       "      <td>Intergovernmental organizations</td>\n",
       "      <td>Ms. Louise Helen Brown</td>\n",
       "      <td>Tunis</td>\n",
       "      <td>Tunisia</td>\n",
       "    </tr>\n",
       "    <tr>\n",
       "      <th>3</th>\n",
       "      <td>African Union Commission</td>\n",
       "      <td>Intergovernmental organizations</td>\n",
       "      <td>Mr. Harsen Nyambe Nyambe</td>\n",
       "      <td>Addis Ababa</td>\n",
       "      <td>Ethiopia</td>\n",
       "    </tr>\n",
       "    <tr>\n",
       "      <th>4</th>\n",
       "      <td>African, Caribbean and Pacific Group of States</td>\n",
       "      <td>Intergovernmental organizations</td>\n",
       "      <td>Mr. Israel Olusola Ojo</td>\n",
       "      <td>Brussels</td>\n",
       "      <td>Belgium</td>\n",
       "    </tr>\n",
       "    <tr>\n",
       "      <th>5</th>\n",
       "      <td>Amazon Cooperation Treaty Organization</td>\n",
       "      <td>Intergovernmental organizations</td>\n",
       "      <td>Mr. Carlos Alfredo Lazary Teixeira</td>\n",
       "      <td>Brasilia</td>\n",
       "      <td>Brazil</td>\n",
       "    </tr>\n",
       "    <tr>\n",
       "      <th>6</th>\n",
       "      <td>Asian Development Bank</td>\n",
       "      <td>Intergovernmental organizations</td>\n",
       "      <td>Ms. Preety Malhotra Bhandari</td>\n",
       "      <td>Mandaluyong City</td>\n",
       "      <td>Philippines</td>\n",
       "    </tr>\n",
       "    <tr>\n",
       "      <th>7</th>\n",
       "      <td>Black Sea Trade and Development Bank</td>\n",
       "      <td>Intergovernmental organizations</td>\n",
       "      <td>Mr. Mircea Cojocaru</td>\n",
       "      <td>Thessaloniki</td>\n",
       "      <td>Greece</td>\n",
       "    </tr>\n",
       "    <tr>\n",
       "      <th>8</th>\n",
       "      <td>CAB International</td>\n",
       "      <td>Intergovernmental organizations</td>\n",
       "      <td>Mr. Jonathan Casey</td>\n",
       "      <td>Oxon</td>\n",
       "      <td>United Kingdom of Great Britain and Northern I...</td>\n",
       "    </tr>\n",
       "    <tr>\n",
       "      <th>9</th>\n",
       "      <td>Caribbean Community Climate Change Centre</td>\n",
       "      <td>Intergovernmental organizations</td>\n",
       "      <td>Ms. Ethlyn Valladares</td>\n",
       "      <td>Belmopan</td>\n",
       "      <td>Belize</td>\n",
       "    </tr>\n",
       "    <tr>\n",
       "      <th>10</th>\n",
       "      <td>Caribbean Community Secretariat</td>\n",
       "      <td>Intergovernmental organizations</td>\n",
       "      <td>Ms. Patricia Ann Nelson</td>\n",
       "      <td>Georgetown</td>\n",
       "      <td>Guyana</td>\n",
       "    </tr>\n",
       "    <tr>\n",
       "      <th>11</th>\n",
       "      <td>Caribbean Development Bank</td>\n",
       "      <td>Intergovernmental organizations</td>\n",
       "      <td>Ms. Cheryl Dixon</td>\n",
       "      <td>St. Michael</td>\n",
       "      <td>Barbados</td>\n",
       "    </tr>\n",
       "    <tr>\n",
       "      <th>12</th>\n",
       "      <td>Center for International Forestry Research</td>\n",
       "      <td>Intergovernmental organizations</td>\n",
       "      <td>Ms. Amy Duchelle</td>\n",
       "      <td>Bogor</td>\n",
       "      <td>Indonesia</td>\n",
       "    </tr>\n",
       "    <tr>\n",
       "      <th>13</th>\n",
       "      <td>Centro del Agua del Trópico Húmedo para Améric...</td>\n",
       "      <td>Intergovernmental organizations</td>\n",
       "      <td>Ms. Roxana Segundo</td>\n",
       "      <td>Ciudad de Panama</td>\n",
       "      <td>Panama</td>\n",
       "    </tr>\n",
       "    <tr>\n",
       "      <th>14</th>\n",
       "      <td>CGIAR System</td>\n",
       "      <td>Intergovernmental organizations</td>\n",
       "      <td>Mr. André Zandstra</td>\n",
       "      <td>Montpellier</td>\n",
       "      <td>France</td>\n",
       "    </tr>\n",
       "    <tr>\n",
       "      <th>15</th>\n",
       "      <td>Comité permanent inter-états de lutte contre l...</td>\n",
       "      <td>Intergovernmental organizations</td>\n",
       "      <td>Mr. Philippe Zoungrana</td>\n",
       "      <td>Ouagadougou 03</td>\n",
       "      <td>Burkina Faso</td>\n",
       "    </tr>\n",
       "    <tr>\n",
       "      <th>16</th>\n",
       "      <td>Commonwealth Secretariat</td>\n",
       "      <td>Intergovernmental organizations</td>\n",
       "      <td>Mr. Unnikrishnan Divakaran Nair</td>\n",
       "      <td>London</td>\n",
       "      <td>United Kingdom of Great Britain and Northern I...</td>\n",
       "    </tr>\n",
       "    <tr>\n",
       "      <th>17</th>\n",
       "      <td>Convention on Wetlands of International Import...</td>\n",
       "      <td>Intergovernmental organizations</td>\n",
       "      <td>Ms. Delphine Bremond</td>\n",
       "      <td>Gland</td>\n",
       "      <td>Switzerland</td>\n",
       "    </tr>\n",
       "    <tr>\n",
       "      <th>18</th>\n",
       "      <td>Cooperation Council for The Arab States of the...</td>\n",
       "      <td>Intergovernmental organizations</td>\n",
       "      <td>Mr. Adel Bastaki</td>\n",
       "      <td>Riyadh</td>\n",
       "      <td>Saudi Arabia</td>\n",
       "    </tr>\n",
       "    <tr>\n",
       "      <th>19</th>\n",
       "      <td>Corporación Andina de Fomento</td>\n",
       "      <td>Intergovernmental organizations</td>\n",
       "      <td>Mr. Ubaldo Elizondo</td>\n",
       "      <td>Caracas</td>\n",
       "      <td>Venezuela (Bolivarian Republic of)</td>\n",
       "    </tr>\n",
       "  </tbody>\n",
       "</table>\n",
       "</div>"
      ],
      "text/plain": [
       "                                                 name  \\\n",
       "0                               Adaptation Fund Board   \n",
       "1   African Centre of Meteorological Application f...   \n",
       "2                      African Development Bank Group   \n",
       "3                            African Union Commission   \n",
       "4      African, Caribbean and Pacific Group of States   \n",
       "5              Amazon Cooperation Treaty Organization   \n",
       "6                              Asian Development Bank   \n",
       "7                Black Sea Trade and Development Bank   \n",
       "8                                   CAB International   \n",
       "9           Caribbean Community Climate Change Centre   \n",
       "10                    Caribbean Community Secretariat   \n",
       "11                         Caribbean Development Bank   \n",
       "12         Center for International Forestry Research   \n",
       "13  Centro del Agua del Trópico Húmedo para Améric...   \n",
       "14                                       CGIAR System   \n",
       "15  Comité permanent inter-états de lutte contre l...   \n",
       "16                           Commonwealth Secretariat   \n",
       "17  Convention on Wetlands of International Import...   \n",
       "18  Cooperation Council for The Arab States of the...   \n",
       "19                      Corporación Andina de Fomento   \n",
       "\n",
       "                        entity_type                         coordinator  \\\n",
       "0   Intergovernmental organizations          Mr. Mikko Antti Ollikainen   \n",
       "1   Intergovernmental organizations                      Ms. Safia Alfa   \n",
       "2   Intergovernmental organizations              Ms. Louise Helen Brown   \n",
       "3   Intergovernmental organizations            Mr. Harsen Nyambe Nyambe   \n",
       "4   Intergovernmental organizations              Mr. Israel Olusola Ojo   \n",
       "5   Intergovernmental organizations  Mr. Carlos Alfredo Lazary Teixeira   \n",
       "6   Intergovernmental organizations        Ms. Preety Malhotra Bhandari   \n",
       "7   Intergovernmental organizations                 Mr. Mircea Cojocaru   \n",
       "8   Intergovernmental organizations                  Mr. Jonathan Casey   \n",
       "9   Intergovernmental organizations               Ms. Ethlyn Valladares   \n",
       "10  Intergovernmental organizations             Ms. Patricia Ann Nelson   \n",
       "11  Intergovernmental organizations                    Ms. Cheryl Dixon   \n",
       "12  Intergovernmental organizations                    Ms. Amy Duchelle   \n",
       "13  Intergovernmental organizations                  Ms. Roxana Segundo   \n",
       "14  Intergovernmental organizations                  Mr. André Zandstra   \n",
       "15  Intergovernmental organizations              Mr. Philippe Zoungrana   \n",
       "16  Intergovernmental organizations     Mr. Unnikrishnan Divakaran Nair   \n",
       "17  Intergovernmental organizations                Ms. Delphine Bremond   \n",
       "18  Intergovernmental organizations                    Mr. Adel Bastaki   \n",
       "19  Intergovernmental organizations                 Mr. Ubaldo Elizondo   \n",
       "\n",
       "                city                                            country  \n",
       "0      Washington DC                           United States of America  \n",
       "1             Niamey                                              Niger  \n",
       "2              Tunis                                            Tunisia  \n",
       "3        Addis Ababa                                           Ethiopia  \n",
       "4           Brussels                                            Belgium  \n",
       "5           Brasilia                                             Brazil  \n",
       "6   Mandaluyong City                                        Philippines  \n",
       "7       Thessaloniki                                             Greece  \n",
       "8               Oxon  United Kingdom of Great Britain and Northern I...  \n",
       "9           Belmopan                                             Belize  \n",
       "10        Georgetown                                             Guyana  \n",
       "11       St. Michael                                           Barbados  \n",
       "12             Bogor                                          Indonesia  \n",
       "13  Ciudad de Panama                                             Panama  \n",
       "14       Montpellier                                             France  \n",
       "15    Ouagadougou 03                                       Burkina Faso  \n",
       "16            London  United Kingdom of Great Britain and Northern I...  \n",
       "17             Gland                                        Switzerland  \n",
       "18            Riyadh                                       Saudi Arabia  \n",
       "19           Caracas                 Venezuela (Bolivarian Republic of)  "
      ]
     },
     "execution_count": 24,
     "metadata": {},
     "output_type": "execute_result"
    }
   ],
   "source": [
    "IGO.head(20)"
   ]
  },
  {
   "cell_type": "code",
   "execution_count": 25,
   "metadata": {},
   "outputs": [],
   "source": [
    "IGO.to_csv(\"IGOs_COP2017_uncleaned.csv\", index = False)"
   ]
  },
  {
   "cell_type": "code",
   "execution_count": 26,
   "metadata": {},
   "outputs": [
    {
     "data": {
      "text/plain": [
       "array(['Constituency - Environmental', 'Constituency - Environmental CAN',\n",
       "       'Constituency - ENGO', 'Constituency - Research and independent',\n",
       "       'Constituency - Business and Industry',\n",
       "       'Constituency - Women and Gender', 'Constituency - Youth',\n",
       "       'Constituency - Indigenous peoples',\n",
       "       'Constituency - Business and Industry2', nan,\n",
       "       'Constituency - Local government and Municipal authorities',\n",
       "       'Constituency - Trade Unions', 'Constituency - Farmers',\n",
       "       'Constituency - Environmental CJN'], dtype=object)"
      ]
     },
     "execution_count": 26,
     "metadata": {},
     "output_type": "execute_result"
    }
   ],
   "source": [
    "NGO.constituency.unique()"
   ]
  },
  {
   "cell_type": "code",
   "execution_count": 27,
   "metadata": {},
   "outputs": [
    {
     "data": {
      "text/plain": [
       "14"
      ]
     },
     "execution_count": 27,
     "metadata": {},
     "output_type": "execute_result"
    }
   ],
   "source": [
    "len(NGO.constituency.unique())"
   ]
  },
  {
   "cell_type": "markdown",
   "metadata": {},
   "source": [
    "# After Manual Data Cleaning - Calculating Country, City and Constituency Statistics"
   ]
  },
  {
   "cell_type": "markdown",
   "metadata": {},
   "source": [
    "## 1. NGOs"
   ]
  },
  {
   "cell_type": "code",
   "execution_count": 35,
   "metadata": {},
   "outputs": [],
   "source": [
    "NGO = pd.read_csv(\"NGOs_COP2015_complete.csv\")"
   ]
  },
  {
   "cell_type": "code",
   "execution_count": 36,
   "metadata": {},
   "outputs": [
    {
     "data": {
      "text/html": [
       "<div>\n",
       "<style scoped>\n",
       "    .dataframe tbody tr th:only-of-type {\n",
       "        vertical-align: middle;\n",
       "    }\n",
       "\n",
       "    .dataframe tbody tr th {\n",
       "        vertical-align: top;\n",
       "    }\n",
       "\n",
       "    .dataframe thead th {\n",
       "        text-align: right;\n",
       "    }\n",
       "</style>\n",
       "<table border=\"1\" class=\"dataframe\">\n",
       "  <thead>\n",
       "    <tr style=\"text-align: right;\">\n",
       "      <th></th>\n",
       "      <th>name</th>\n",
       "      <th>entity_type</th>\n",
       "      <th>constituency</th>\n",
       "      <th>coordinator</th>\n",
       "      <th>city</th>\n",
       "      <th>country</th>\n",
       "      <th>remarks</th>\n",
       "    </tr>\n",
       "  </thead>\n",
       "  <tbody>\n",
       "    <tr>\n",
       "      <th>0</th>\n",
       "      <td>2° Investing Initiative</td>\n",
       "      <td>Non-governmental organizations</td>\n",
       "      <td>Constituency - Research and independent</td>\n",
       "      <td>Mr. Thibaut Ghirardi</td>\n",
       "      <td>Paris</td>\n",
       "      <td>France</td>\n",
       "      <td>completed manually from UNFCCC website</td>\n",
       "    </tr>\n",
       "    <tr>\n",
       "      <th>1</th>\n",
       "      <td>A SEED Europe</td>\n",
       "      <td>Non-governmental organizations</td>\n",
       "      <td>Constituency - Environmental</td>\n",
       "      <td>Mr. Flip Vonk</td>\n",
       "      <td>Amsterdam</td>\n",
       "      <td>Netherlands</td>\n",
       "      <td>NaN</td>\n",
       "    </tr>\n",
       "    <tr>\n",
       "      <th>2</th>\n",
       "      <td>Aarhus University</td>\n",
       "      <td>Non-governmental organizations</td>\n",
       "      <td>Constituency - Research and independent</td>\n",
       "      <td>Mr. Knud Warming</td>\n",
       "      <td>Aarhus C</td>\n",
       "      <td>Denmark</td>\n",
       "      <td>NaN</td>\n",
       "    </tr>\n",
       "    <tr>\n",
       "      <th>3</th>\n",
       "      <td>Abibimman Foundation</td>\n",
       "      <td>Non-governmental organizations</td>\n",
       "      <td>Constituency - Environmental CAN</td>\n",
       "      <td>Mr. Kenneth Nana Amoateng</td>\n",
       "      <td>Tena</td>\n",
       "      <td>Ghana</td>\n",
       "      <td>NaN</td>\n",
       "    </tr>\n",
       "    <tr>\n",
       "      <th>4</th>\n",
       "      <td>Academy for Mountain Environics</td>\n",
       "      <td>Non-governmental organizations</td>\n",
       "      <td>Constituency - Environmental</td>\n",
       "      <td>Mr. Sreedhar Ramamurthi</td>\n",
       "      <td>New Delhi</td>\n",
       "      <td>India</td>\n",
       "      <td>NaN</td>\n",
       "    </tr>\n",
       "    <tr>\n",
       "      <th>...</th>\n",
       "      <td>...</td>\n",
       "      <td>...</td>\n",
       "      <td>...</td>\n",
       "      <td>...</td>\n",
       "      <td>...</td>\n",
       "      <td>...</td>\n",
       "      <td>...</td>\n",
       "    </tr>\n",
       "    <tr>\n",
       "      <th>1073</th>\n",
       "      <td>Youth Association No Excuse</td>\n",
       "      <td>Non-governmental organizations</td>\n",
       "      <td>NaN</td>\n",
       "      <td>NaN</td>\n",
       "      <td>Ljubljana</td>\n",
       "      <td>Slovenia</td>\n",
       "      <td>completed manually</td>\n",
       "    </tr>\n",
       "    <tr>\n",
       "      <th>1074</th>\n",
       "      <td>Youth Crime Watch of Nigeria</td>\n",
       "      <td>Non-governmental organizations</td>\n",
       "      <td>NaN</td>\n",
       "      <td>NaN</td>\n",
       "      <td>Abuja</td>\n",
       "      <td>Nigeria</td>\n",
       "      <td>completed manually</td>\n",
       "    </tr>\n",
       "    <tr>\n",
       "      <th>1075</th>\n",
       "      <td>Youth-Environment-Platform</td>\n",
       "      <td>Non-governmental organizations</td>\n",
       "      <td>Constituency - Youth</td>\n",
       "      <td>Ms. Claudia Kinzl</td>\n",
       "      <td>Vienna</td>\n",
       "      <td>Austria</td>\n",
       "      <td>NaN</td>\n",
       "    </tr>\n",
       "    <tr>\n",
       "      <th>1076</th>\n",
       "      <td>ZOI Environment Network</td>\n",
       "      <td>Non-governmental organizations</td>\n",
       "      <td>Constituency - Research and independent</td>\n",
       "      <td>Mr. Viktor Novikov</td>\n",
       "      <td>Geneva</td>\n",
       "      <td>Switzerland</td>\n",
       "      <td>NaN</td>\n",
       "    </tr>\n",
       "    <tr>\n",
       "      <th>1077</th>\n",
       "      <td>Zoological Society of London</td>\n",
       "      <td>Non-governmental organizations</td>\n",
       "      <td>Constituency - ENGO</td>\n",
       "      <td>Mr. Matthew James Lowton</td>\n",
       "      <td>London</td>\n",
       "      <td>United Kingdom of Great Britain and Northern I...</td>\n",
       "      <td>NaN</td>\n",
       "    </tr>\n",
       "  </tbody>\n",
       "</table>\n",
       "<p>1078 rows × 7 columns</p>\n",
       "</div>"
      ],
      "text/plain": [
       "                                 name                     entity_type  \\\n",
       "0             2° Investing Initiative  Non-governmental organizations   \n",
       "1                       A SEED Europe  Non-governmental organizations   \n",
       "2                   Aarhus University  Non-governmental organizations   \n",
       "3                Abibimman Foundation  Non-governmental organizations   \n",
       "4     Academy for Mountain Environics  Non-governmental organizations   \n",
       "...                               ...                             ...   \n",
       "1073      Youth Association No Excuse  Non-governmental organizations   \n",
       "1074     Youth Crime Watch of Nigeria  Non-governmental organizations   \n",
       "1075       Youth-Environment-Platform  Non-governmental organizations   \n",
       "1076          ZOI Environment Network  Non-governmental organizations   \n",
       "1077     Zoological Society of London  Non-governmental organizations   \n",
       "\n",
       "                                 constituency                coordinator  \\\n",
       "0     Constituency - Research and independent       Mr. Thibaut Ghirardi   \n",
       "1                Constituency - Environmental              Mr. Flip Vonk   \n",
       "2     Constituency - Research and independent           Mr. Knud Warming   \n",
       "3            Constituency - Environmental CAN  Mr. Kenneth Nana Amoateng   \n",
       "4                Constituency - Environmental    Mr. Sreedhar Ramamurthi   \n",
       "...                                       ...                        ...   \n",
       "1073                                      NaN                        NaN   \n",
       "1074                                      NaN                        NaN   \n",
       "1075                     Constituency - Youth          Ms. Claudia Kinzl   \n",
       "1076  Constituency - Research and independent         Mr. Viktor Novikov   \n",
       "1077                      Constituency - ENGO   Mr. Matthew James Lowton   \n",
       "\n",
       "           city                                            country  \\\n",
       "0         Paris                                             France   \n",
       "1     Amsterdam                                        Netherlands   \n",
       "2      Aarhus C                                            Denmark   \n",
       "3          Tena                                              Ghana   \n",
       "4     New Delhi                                              India   \n",
       "...         ...                                                ...   \n",
       "1073  Ljubljana                                           Slovenia   \n",
       "1074      Abuja                                            Nigeria   \n",
       "1075     Vienna                                            Austria   \n",
       "1076     Geneva                                        Switzerland   \n",
       "1077     London  United Kingdom of Great Britain and Northern I...   \n",
       "\n",
       "                                     remarks  \n",
       "0     completed manually from UNFCCC website  \n",
       "1                                        NaN  \n",
       "2                                        NaN  \n",
       "3                                        NaN  \n",
       "4                                        NaN  \n",
       "...                                      ...  \n",
       "1073                      completed manually  \n",
       "1074                      completed manually  \n",
       "1075                                     NaN  \n",
       "1076                                     NaN  \n",
       "1077                                     NaN  \n",
       "\n",
       "[1078 rows x 7 columns]"
      ]
     },
     "execution_count": 36,
     "metadata": {},
     "output_type": "execute_result"
    }
   ],
   "source": [
    "NGO"
   ]
  },
  {
   "cell_type": "code",
   "execution_count": null,
   "metadata": {},
   "outputs": [],
   "source": [
    "# count = 1078, one less than the official count of NGOs which is 1079"
   ]
  },
  {
   "cell_type": "code",
   "execution_count": 37,
   "metadata": {},
   "outputs": [
    {
     "data": {
      "text/html": [
       "<div>\n",
       "<style scoped>\n",
       "    .dataframe tbody tr th:only-of-type {\n",
       "        vertical-align: middle;\n",
       "    }\n",
       "\n",
       "    .dataframe tbody tr th {\n",
       "        vertical-align: top;\n",
       "    }\n",
       "\n",
       "    .dataframe thead th {\n",
       "        text-align: right;\n",
       "    }\n",
       "</style>\n",
       "<table border=\"1\" class=\"dataframe\">\n",
       "  <thead>\n",
       "    <tr style=\"text-align: right;\">\n",
       "      <th></th>\n",
       "      <th>name</th>\n",
       "      <th>entity_type</th>\n",
       "      <th>TotalMembers</th>\n",
       "      <th>MaleMembers</th>\n",
       "      <th>FemaleMembers</th>\n",
       "      <th>constituency</th>\n",
       "      <th>coordinator</th>\n",
       "      <th>city</th>\n",
       "      <th>country</th>\n",
       "    </tr>\n",
       "  </thead>\n",
       "  <tbody>\n",
       "    <tr>\n",
       "      <th>0</th>\n",
       "      <td>Technical Centre for Agricultural and Rural Co...</td>\n",
       "      <td>Non-governmental organizations</td>\n",
       "      <td>1</td>\n",
       "      <td>1</td>\n",
       "      <td>0</td>\n",
       "      <td>NaN</td>\n",
       "      <td>Mr. Michael Hailu</td>\n",
       "      <td>Wageningen</td>\n",
       "      <td>Netherlands</td>\n",
       "    </tr>\n",
       "    <tr>\n",
       "      <th>1</th>\n",
       "      <td>The European Organisation for the Exploitation...</td>\n",
       "      <td>Non-governmental organizations</td>\n",
       "      <td>1</td>\n",
       "      <td>1</td>\n",
       "      <td>0</td>\n",
       "      <td>NaN</td>\n",
       "      <td>NaN</td>\n",
       "      <td>Darmstadt</td>\n",
       "      <td>Germany</td>\n",
       "    </tr>\n",
       "    <tr>\n",
       "      <th>2</th>\n",
       "      <td>2° investing initiative (2°ii)</td>\n",
       "      <td>Non-governmental organizations</td>\n",
       "      <td>2</td>\n",
       "      <td>1</td>\n",
       "      <td>1</td>\n",
       "      <td>Constituency - Research and independent</td>\n",
       "      <td>Mr. Thibaut Ghirardi</td>\n",
       "      <td>Paris</td>\n",
       "      <td>France</td>\n",
       "    </tr>\n",
       "    <tr>\n",
       "      <th>3</th>\n",
       "      <td>A SEED Europe</td>\n",
       "      <td>Non-governmental organizations</td>\n",
       "      <td>3</td>\n",
       "      <td>0</td>\n",
       "      <td>3</td>\n",
       "      <td>Constituency - Environmental</td>\n",
       "      <td>Mr. Flip Vonk</td>\n",
       "      <td>Amsterdam</td>\n",
       "      <td>Netherlands</td>\n",
       "    </tr>\n",
       "    <tr>\n",
       "      <th>4</th>\n",
       "      <td>A Sud Ecology and Cooperation - Onlus</td>\n",
       "      <td>Non-governmental organizations</td>\n",
       "      <td>4</td>\n",
       "      <td>1</td>\n",
       "      <td>3</td>\n",
       "      <td>Constituency - Environmental</td>\n",
       "      <td>Ms. Lucie Greyl</td>\n",
       "      <td>Rome</td>\n",
       "      <td>Italy</td>\n",
       "    </tr>\n",
       "    <tr>\n",
       "      <th>...</th>\n",
       "      <td>...</td>\n",
       "      <td>...</td>\n",
       "      <td>...</td>\n",
       "      <td>...</td>\n",
       "      <td>...</td>\n",
       "      <td>...</td>\n",
       "      <td>...</td>\n",
       "      <td>...</td>\n",
       "      <td>...</td>\n",
       "    </tr>\n",
       "    <tr>\n",
       "      <th>1041</th>\n",
       "      <td>York University</td>\n",
       "      <td>Non-governmental organizations</td>\n",
       "      <td>13</td>\n",
       "      <td>8</td>\n",
       "      <td>5</td>\n",
       "      <td>Constituency - Research and independent</td>\n",
       "      <td>Mr. Richard Bryce Rudyk</td>\n",
       "      <td>New York</td>\n",
       "      <td>United States of America</td>\n",
       "    </tr>\n",
       "    <tr>\n",
       "      <th>1042</th>\n",
       "      <td>Young Energy Specialists - Development Coopera...</td>\n",
       "      <td>Non-governmental organizations</td>\n",
       "      <td>8</td>\n",
       "      <td>3</td>\n",
       "      <td>5</td>\n",
       "      <td>Constituency - Youth</td>\n",
       "      <td>Mr. Yanniek Cornelis Machiel Huisman</td>\n",
       "      <td>Utrecht</td>\n",
       "      <td>Netherlands</td>\n",
       "    </tr>\n",
       "    <tr>\n",
       "      <th>1043</th>\n",
       "      <td>Young Power in Social Action</td>\n",
       "      <td>Non-governmental organizations</td>\n",
       "      <td>1</td>\n",
       "      <td>1</td>\n",
       "      <td>0</td>\n",
       "      <td>Constituency - Environmental</td>\n",
       "      <td>Mr. Mohammad Arifur Rahman</td>\n",
       "      <td>Chittagong</td>\n",
       "      <td>Bangladesh</td>\n",
       "    </tr>\n",
       "    <tr>\n",
       "      <th>1044</th>\n",
       "      <td>Zhenjiang Green Sanshan Environmental Public W...</td>\n",
       "      <td>Non-governmental organizations</td>\n",
       "      <td>3</td>\n",
       "      <td>1</td>\n",
       "      <td>2</td>\n",
       "      <td>Constituency - Environmental</td>\n",
       "      <td>NaN</td>\n",
       "      <td>中国江苏省镇江市</td>\n",
       "      <td>China</td>\n",
       "    </tr>\n",
       "    <tr>\n",
       "      <th>1045</th>\n",
       "      <td>ZOI Environment Network</td>\n",
       "      <td>Non-governmental organizations</td>\n",
       "      <td>2</td>\n",
       "      <td>2</td>\n",
       "      <td>0</td>\n",
       "      <td>Constituency - Research and independent</td>\n",
       "      <td>Mr. Viktor Novikov</td>\n",
       "      <td>Geneva</td>\n",
       "      <td>Switzerland</td>\n",
       "    </tr>\n",
       "  </tbody>\n",
       "</table>\n",
       "<p>1046 rows × 9 columns</p>\n",
       "</div>"
      ],
      "text/plain": [
       "                                                   name  \\\n",
       "0     Technical Centre for Agricultural and Rural Co...   \n",
       "1     The European Organisation for the Exploitation...   \n",
       "2                        2° investing initiative (2°ii)   \n",
       "3                                         A SEED Europe   \n",
       "4                 A Sud Ecology and Cooperation - Onlus   \n",
       "...                                                 ...   \n",
       "1041                                    York University   \n",
       "1042  Young Energy Specialists - Development Coopera...   \n",
       "1043                       Young Power in Social Action   \n",
       "1044  Zhenjiang Green Sanshan Environmental Public W...   \n",
       "1045                            ZOI Environment Network   \n",
       "\n",
       "                         entity_type  TotalMembers  MaleMembers  \\\n",
       "0     Non-governmental organizations             1            1   \n",
       "1     Non-governmental organizations             1            1   \n",
       "2     Non-governmental organizations             2            1   \n",
       "3     Non-governmental organizations             3            0   \n",
       "4     Non-governmental organizations             4            1   \n",
       "...                              ...           ...          ...   \n",
       "1041  Non-governmental organizations            13            8   \n",
       "1042  Non-governmental organizations             8            3   \n",
       "1043  Non-governmental organizations             1            1   \n",
       "1044  Non-governmental organizations             3            1   \n",
       "1045  Non-governmental organizations             2            2   \n",
       "\n",
       "      FemaleMembers                             constituency  \\\n",
       "0                 0                                      NaN   \n",
       "1                 0                                      NaN   \n",
       "2                 1  Constituency - Research and independent   \n",
       "3                 3             Constituency - Environmental   \n",
       "4                 3             Constituency - Environmental   \n",
       "...             ...                                      ...   \n",
       "1041              5  Constituency - Research and independent   \n",
       "1042              5                     Constituency - Youth   \n",
       "1043              0             Constituency - Environmental   \n",
       "1044              2             Constituency - Environmental   \n",
       "1045              0  Constituency - Research and independent   \n",
       "\n",
       "                               coordinator        city  \\\n",
       "0                        Mr. Michael Hailu  Wageningen   \n",
       "1                                      NaN   Darmstadt   \n",
       "2                     Mr. Thibaut Ghirardi       Paris   \n",
       "3                            Mr. Flip Vonk   Amsterdam   \n",
       "4                          Ms. Lucie Greyl        Rome   \n",
       "...                                    ...         ...   \n",
       "1041               Mr. Richard Bryce Rudyk    New York   \n",
       "1042  Mr. Yanniek Cornelis Machiel Huisman     Utrecht   \n",
       "1043            Mr. Mohammad Arifur Rahman  Chittagong   \n",
       "1044                                   NaN    中国江苏省镇江市   \n",
       "1045                    Mr. Viktor Novikov      Geneva   \n",
       "\n",
       "                       country  \n",
       "0                  Netherlands  \n",
       "1                      Germany  \n",
       "2                       France  \n",
       "3                  Netherlands  \n",
       "4                        Italy  \n",
       "...                        ...  \n",
       "1041  United States of America  \n",
       "1042               Netherlands  \n",
       "1043                Bangladesh  \n",
       "1044                     China  \n",
       "1045               Switzerland  \n",
       "\n",
       "[1046 rows x 9 columns]"
      ]
     },
     "execution_count": 37,
     "metadata": {},
     "output_type": "execute_result"
    }
   ],
   "source": [
    "NGO_c2019 = pd.read_csv(\"NGOs_COP2019_complete.csv\")\n",
    "NGO_c2019"
   ]
  },
  {
   "cell_type": "code",
   "execution_count": null,
   "metadata": {},
   "outputs": [],
   "source": [
    "# 1046 vs official count of 1049"
   ]
  },
  {
   "cell_type": "code",
   "execution_count": 39,
   "metadata": {},
   "outputs": [
    {
     "name": "stdout",
     "output_type": "stream",
     "text": [
      "Collecting matplotlib-venn\n",
      "  Downloading matplotlib-venn-0.11.6.tar.gz (29 kB)\n",
      "Collecting matplotlib\n",
      "  Downloading matplotlib-3.5.1-cp39-cp39-macosx_10_9_x86_64.whl (7.3 MB)\n",
      "\u001b[K     |████████████████████████████████| 7.3 MB 9.4 MB/s eta 0:00:01\n",
      "\u001b[?25hRequirement already satisfied: numpy in /Users/stefan/opt/miniconda3/lib/python3.9/site-packages (from matplotlib-venn) (1.21.1)\n",
      "Collecting scipy\n",
      "  Downloading scipy-1.7.3-cp39-cp39-macosx_10_9_x86_64.whl (33.2 MB)\n",
      "\u001b[K     |████████████████████████████████| 33.2 MB 15.6 MB/s eta 0:00:01\n",
      "\u001b[?25hRequirement already satisfied: pyparsing>=2.2.1 in /Users/stefan/opt/miniconda3/lib/python3.9/site-packages (from matplotlib->matplotlib-venn) (2.4.7)\n",
      "Collecting fonttools>=4.22.0\n",
      "  Downloading fonttools-4.28.5-py3-none-any.whl (890 kB)\n",
      "\u001b[K     |████████████████████████████████| 890 kB 22.6 MB/s eta 0:00:01\n",
      "\u001b[?25hRequirement already satisfied: python-dateutil>=2.7 in /Users/stefan/opt/miniconda3/lib/python3.9/site-packages (from matplotlib->matplotlib-venn) (2.8.1)\n",
      "Collecting cycler>=0.10\n",
      "  Using cached cycler-0.11.0-py3-none-any.whl (6.4 kB)\n",
      "Requirement already satisfied: packaging>=20.0 in /Users/stefan/opt/miniconda3/lib/python3.9/site-packages (from matplotlib->matplotlib-venn) (20.9)\n",
      "Collecting pillow>=6.2.0\n",
      "  Using cached Pillow-8.4.0-cp39-cp39-macosx_10_10_x86_64.whl (3.0 MB)\n",
      "Collecting kiwisolver>=1.0.1\n",
      "  Using cached kiwisolver-1.3.2-cp39-cp39-macosx_10_9_x86_64.whl (61 kB)\n",
      "Requirement already satisfied: six>=1.5 in /Users/stefan/opt/miniconda3/lib/python3.9/site-packages (from python-dateutil>=2.7->matplotlib->matplotlib-venn) (1.15.0)\n",
      "Building wheels for collected packages: matplotlib-venn\n",
      "  Building wheel for matplotlib-venn (setup.py) ... \u001b[?25ldone\n",
      "\u001b[?25h  Created wheel for matplotlib-venn: filename=matplotlib_venn-0.11.6-py3-none-any.whl size=32062 sha256=81000e1561dd572b2b52b524ae56ea5964adbc2683a20df553bd375fccdf2d89\n",
      "  Stored in directory: /Users/stefan/Library/Caches/pip/wheels/42/1c/65/1a733895cd94885d1a97eee84ec7595ff7fddc277a45bcacf5\n",
      "Successfully built matplotlib-venn\n",
      "Installing collected packages: pillow, kiwisolver, fonttools, cycler, scipy, matplotlib, matplotlib-venn\n",
      "Successfully installed cycler-0.11.0 fonttools-4.28.5 kiwisolver-1.3.2 matplotlib-3.5.1 matplotlib-venn-0.11.6 pillow-8.4.0 scipy-1.7.3\n",
      "\u001b[33mWARNING: You are using pip version 21.2.4; however, version 21.3.1 is available.\n",
      "You should consider upgrading via the '/Users/stefan/opt/miniconda3/bin/python -m pip install --upgrade pip' command.\u001b[0m\n"
     ]
    }
   ],
   "source": [
    "! pip install matplotlib-venn"
   ]
  },
  {
   "cell_type": "code",
   "execution_count": 51,
   "metadata": {},
   "outputs": [
    {
     "data": {
      "image/png": "[encoded data removed]",
      "text/plain": [
       "<Figure size 1440x720 with 1 Axes>"
      ]
     },
     "metadata": {},
     "output_type": "display_data"
    }
   ],
   "source": [
    "from matplotlib_venn import venn2\n",
    "from matplotlib import pyplot as plt\n",
    "\n",
    "\n",
    "L1 = set(list(NGO.name))\n",
    "L2 = set(list(NGO_c2019.name))\n",
    "Ab = L1 - L2\n",
    "aB = L2 - L1\n",
    "AB = L1 & L2\n",
    "\n",
    "plt.figure(figsize=(20,10))\n",
    "venn2(subsets = (len(Ab), len(aB), len(AB)), set_labels = ('COP2015', 'COP2019'), set_colors=('purple', 'skyblue'), alpha = 0.5)\n",
    "plt.title(\"Venn Diagram of Participating NGOs in COP2015 vs COP2019 \\n (n1 = 1078, n2 = 1046)\")\n",
    "plt.savefig(\"NGO_Venn_15_19\", dpi = 400, facecolor = 'white', bbox_inches = 'tight')\n",
    "\n"
   ]
  },
  {
   "cell_type": "markdown",
   "metadata": {},
   "source": [
    "### 1.1 NGO Country Statistics"
   ]
  },
  {
   "cell_type": "code",
   "execution_count": 52,
   "metadata": {},
   "outputs": [],
   "source": [
    "NGO_country_stats = pd.DataFrame(NGO.country.value_counts())\n",
    "NGO_country_stats.reset_index(level=0, inplace=True)\n",
    "NGO_country_stats.columns = [\"Country\", \"Count\"]"
   ]
  },
  {
   "cell_type": "code",
   "execution_count": 54,
   "metadata": {},
   "outputs": [
    {
     "data": {
      "text/html": [
       "<div>\n",
       "<style scoped>\n",
       "    .dataframe tbody tr th:only-of-type {\n",
       "        vertical-align: middle;\n",
       "    }\n",
       "\n",
       "    .dataframe tbody tr th {\n",
       "        vertical-align: top;\n",
       "    }\n",
       "\n",
       "    .dataframe thead th {\n",
       "        text-align: right;\n",
       "    }\n",
       "</style>\n",
       "<table border=\"1\" class=\"dataframe\">\n",
       "  <thead>\n",
       "    <tr style=\"text-align: right;\">\n",
       "      <th></th>\n",
       "      <th>Country</th>\n",
       "      <th>Count</th>\n",
       "    </tr>\n",
       "  </thead>\n",
       "  <tbody>\n",
       "    <tr>\n",
       "      <th>0</th>\n",
       "      <td>United States of America</td>\n",
       "      <td>228</td>\n",
       "    </tr>\n",
       "    <tr>\n",
       "      <th>1</th>\n",
       "      <td>France</td>\n",
       "      <td>104</td>\n",
       "    </tr>\n",
       "    <tr>\n",
       "      <th>2</th>\n",
       "      <td>United Kingdom of Great Britain and Northern I...</td>\n",
       "      <td>92</td>\n",
       "    </tr>\n",
       "    <tr>\n",
       "      <th>3</th>\n",
       "      <td>Germany</td>\n",
       "      <td>74</td>\n",
       "    </tr>\n",
       "    <tr>\n",
       "      <th>4</th>\n",
       "      <td>Belgium</td>\n",
       "      <td>40</td>\n",
       "    </tr>\n",
       "    <tr>\n",
       "      <th>...</th>\n",
       "      <td>...</td>\n",
       "      <td>...</td>\n",
       "    </tr>\n",
       "    <tr>\n",
       "      <th>77</th>\n",
       "      <td>El Salvador</td>\n",
       "      <td>1</td>\n",
       "    </tr>\n",
       "    <tr>\n",
       "      <th>78</th>\n",
       "      <td>Congo</td>\n",
       "      <td>1</td>\n",
       "    </tr>\n",
       "    <tr>\n",
       "      <th>79</th>\n",
       "      <td>Benin</td>\n",
       "      <td>1</td>\n",
       "    </tr>\n",
       "    <tr>\n",
       "      <th>80</th>\n",
       "      <td>Angola</td>\n",
       "      <td>1</td>\n",
       "    </tr>\n",
       "    <tr>\n",
       "      <th>81</th>\n",
       "      <td>Uganda</td>\n",
       "      <td>1</td>\n",
       "    </tr>\n",
       "  </tbody>\n",
       "</table>\n",
       "<p>82 rows × 2 columns</p>\n",
       "</div>"
      ],
      "text/plain": [
       "                                              Country  Count\n",
       "0                            United States of America    228\n",
       "1                                              France    104\n",
       "2   United Kingdom of Great Britain and Northern I...     92\n",
       "3                                             Germany     74\n",
       "4                                             Belgium     40\n",
       "..                                                ...    ...\n",
       "77                                        El Salvador      1\n",
       "78                                              Congo      1\n",
       "79                                              Benin      1\n",
       "80                                             Angola      1\n",
       "81                                             Uganda      1\n",
       "\n",
       "[82 rows x 2 columns]"
      ]
     },
     "execution_count": 54,
     "metadata": {},
     "output_type": "execute_result"
    }
   ],
   "source": [
    "NGO_country_stats"
   ]
  },
  {
   "cell_type": "code",
   "execution_count": 55,
   "metadata": {},
   "outputs": [],
   "source": [
    "NGO_country_stats.to_csv(\"2015_NGO_country_stats.csv\")"
   ]
  },
  {
   "cell_type": "markdown",
   "metadata": {},
   "source": [
    "### 1.2 NGO City Statistics"
   ]
  },
  {
   "cell_type": "code",
   "execution_count": 56,
   "metadata": {},
   "outputs": [],
   "source": [
    "NGO_city_stats = pd.DataFrame(NGO.city.value_counts())\n",
    "NGO_city_stats.reset_index(level=0, inplace=True)\n",
    "NGO_city_stats.columns = [\"City\", \"Count\"]"
   ]
  },
  {
   "cell_type": "code",
   "execution_count": 58,
   "metadata": {},
   "outputs": [
    {
     "data": {
      "text/html": [
       "<div>\n",
       "<style scoped>\n",
       "    .dataframe tbody tr th:only-of-type {\n",
       "        vertical-align: middle;\n",
       "    }\n",
       "\n",
       "    .dataframe tbody tr th {\n",
       "        vertical-align: top;\n",
       "    }\n",
       "\n",
       "    .dataframe thead th {\n",
       "        text-align: right;\n",
       "    }\n",
       "</style>\n",
       "<table border=\"1\" class=\"dataframe\">\n",
       "  <thead>\n",
       "    <tr style=\"text-align: right;\">\n",
       "      <th></th>\n",
       "      <th>City</th>\n",
       "      <th>Count</th>\n",
       "    </tr>\n",
       "  </thead>\n",
       "  <tbody>\n",
       "    <tr>\n",
       "      <th>0</th>\n",
       "      <td>Paris</td>\n",
       "      <td>60</td>\n",
       "    </tr>\n",
       "    <tr>\n",
       "      <th>1</th>\n",
       "      <td>London</td>\n",
       "      <td>53</td>\n",
       "    </tr>\n",
       "    <tr>\n",
       "      <th>2</th>\n",
       "      <td>Washington</td>\n",
       "      <td>48</td>\n",
       "    </tr>\n",
       "    <tr>\n",
       "      <th>3</th>\n",
       "      <td>Brussels</td>\n",
       "      <td>37</td>\n",
       "    </tr>\n",
       "    <tr>\n",
       "      <th>4</th>\n",
       "      <td>New York</td>\n",
       "      <td>25</td>\n",
       "    </tr>\n",
       "    <tr>\n",
       "      <th>5</th>\n",
       "      <td>Berlin</td>\n",
       "      <td>22</td>\n",
       "    </tr>\n",
       "    <tr>\n",
       "      <th>6</th>\n",
       "      <td>Tokyo</td>\n",
       "      <td>17</td>\n",
       "    </tr>\n",
       "    <tr>\n",
       "      <th>7</th>\n",
       "      <td>Washington DC</td>\n",
       "      <td>15</td>\n",
       "    </tr>\n",
       "    <tr>\n",
       "      <th>8</th>\n",
       "      <td>Beijing</td>\n",
       "      <td>15</td>\n",
       "    </tr>\n",
       "    <tr>\n",
       "      <th>9</th>\n",
       "      <td>Geneva</td>\n",
       "      <td>15</td>\n",
       "    </tr>\n",
       "    <tr>\n",
       "      <th>10</th>\n",
       "      <td>Lima</td>\n",
       "      <td>14</td>\n",
       "    </tr>\n",
       "    <tr>\n",
       "      <th>11</th>\n",
       "      <td>Bonn</td>\n",
       "      <td>14</td>\n",
       "    </tr>\n",
       "    <tr>\n",
       "      <th>12</th>\n",
       "      <td>San Francisco</td>\n",
       "      <td>14</td>\n",
       "    </tr>\n",
       "    <tr>\n",
       "      <th>13</th>\n",
       "      <td>Seoul</td>\n",
       "      <td>13</td>\n",
       "    </tr>\n",
       "    <tr>\n",
       "      <th>14</th>\n",
       "      <td>New Delhi</td>\n",
       "      <td>12</td>\n",
       "    </tr>\n",
       "    <tr>\n",
       "      <th>15</th>\n",
       "      <td>Oslo</td>\n",
       "      <td>9</td>\n",
       "    </tr>\n",
       "    <tr>\n",
       "      <th>16</th>\n",
       "      <td>Stockholm</td>\n",
       "      <td>9</td>\n",
       "    </tr>\n",
       "    <tr>\n",
       "      <th>17</th>\n",
       "      <td>Sydney</td>\n",
       "      <td>8</td>\n",
       "    </tr>\n",
       "    <tr>\n",
       "      <th>18</th>\n",
       "      <td>Amsterdam</td>\n",
       "      <td>8</td>\n",
       "    </tr>\n",
       "    <tr>\n",
       "      <th>19</th>\n",
       "      <td>Cambridge</td>\n",
       "      <td>7</td>\n",
       "    </tr>\n",
       "  </tbody>\n",
       "</table>\n",
       "</div>"
      ],
      "text/plain": [
       "             City  Count\n",
       "0           Paris     60\n",
       "1          London     53\n",
       "2      Washington     48\n",
       "3        Brussels     37\n",
       "4        New York     25\n",
       "5          Berlin     22\n",
       "6           Tokyo     17\n",
       "7   Washington DC     15\n",
       "8         Beijing     15\n",
       "9          Geneva     15\n",
       "10           Lima     14\n",
       "11           Bonn     14\n",
       "12  San Francisco     14\n",
       "13          Seoul     13\n",
       "14      New Delhi     12\n",
       "15           Oslo      9\n",
       "16      Stockholm      9\n",
       "17         Sydney      8\n",
       "18      Amsterdam      8\n",
       "19      Cambridge      7"
      ]
     },
     "execution_count": 58,
     "metadata": {},
     "output_type": "execute_result"
    }
   ],
   "source": [
    "NGO_city_stats.head(20)"
   ]
  },
  {
   "cell_type": "code",
   "execution_count": 59,
   "metadata": {},
   "outputs": [],
   "source": [
    "NGO_city_stats.to_csv(\"2015_NGO_city_stats.csv\", index = False)"
   ]
  },
  {
   "cell_type": "markdown",
   "metadata": {},
   "source": [
    "### 1.3 Data Visualizations (barcharts) for Country and City Statistics (NGO)"
   ]
  },
  {
   "cell_type": "code",
   "execution_count": 60,
   "metadata": {},
   "outputs": [
    {
     "data": {
      "image/png": "[encoded data removed]",
      "text/plain": [
       "<Figure size 1440x720 with 2 Axes>"
      ]
     },
     "metadata": {
      "needs_background": "light"
     },
     "output_type": "display_data"
    }
   ],
   "source": [
    "plt.figure(figsize=(20,10))\n",
    "plt.subplot(1, 2, 1)\n",
    "plt.gca().invert_yaxis()\n",
    "plt.barh(NGO_country_stats.Country[0:19], NGO_country_stats.Count[0:19], color = [\"green\"])\n",
    "plt.title(\"COP2015 NGO Country Statistics \\n(first 20 most common countries)\")\n",
    "plt.xlabel(\"Number of Organizations\")\n",
    "plt.xticks(np.arange(0, 250, 20))\n",
    "\n",
    "plt.subplot(1, 2, 2)\n",
    "plt.gca().invert_yaxis()\n",
    "plt.barh(NGO_city_stats.City[0:19], NGO_city_stats.Count[0:19], color = [\"blue\"])\n",
    "plt.title(\"COP2015 NGO City Statistics \\n(first 20 most common cities)\")\n",
    "plt.xlabel(\"Number of Organizations\")\n",
    "plt.xticks(np.arange(0, 50, 5))\n",
    "plt.savefig(\"COP2015_NGO_country_city_stats.png\", facecolor = \"white\", dpi = 400)"
   ]
  },
  {
   "cell_type": "markdown",
   "metadata": {},
   "source": [
    "### 1.4 NGO Constituency Statistics"
   ]
  },
  {
   "cell_type": "code",
   "execution_count": 61,
   "metadata": {},
   "outputs": [
    {
     "data": {
      "text/plain": [
       "array(['Constituency - Research and independent',\n",
       "       'Constituency - Environmental', 'Constituency - Environmental CAN',\n",
       "       'Constituency - ENGO', 'Constituency - Youth',\n",
       "       'Constituency - Business and Industry', 'Constituency - Farmers',\n",
       "       'Constituency - Women and Gender',\n",
       "       'Constituency - Indigenous peoples',\n",
       "       'Constituency - Business and Industry2', nan,\n",
       "       'Constituency - Local government and Municipal authorities',\n",
       "       'Constituency - Trade Unions', 'Constituency - Environmental CJN'],\n",
       "      dtype=object)"
      ]
     },
     "execution_count": 61,
     "metadata": {},
     "output_type": "execute_result"
    }
   ],
   "source": [
    "NGO.constituency.unique()"
   ]
  },
  {
   "cell_type": "code",
   "execution_count": 62,
   "metadata": {},
   "outputs": [],
   "source": [
    "NGO[\"constituency\"] = NGO[\"constituency\"].replace(np.nan, \"not yet affiliated/no data\")"
   ]
  },
  {
   "cell_type": "code",
   "execution_count": 63,
   "metadata": {},
   "outputs": [
    {
     "data": {
      "text/plain": [
       "array(['Constituency - Research and independent',\n",
       "       'Constituency - Environmental', 'Constituency - Environmental CAN',\n",
       "       'Constituency - ENGO', 'Constituency - Youth',\n",
       "       'Constituency - Business and Industry', 'Constituency - Farmers',\n",
       "       'Constituency - Women and Gender',\n",
       "       'Constituency - Indigenous peoples',\n",
       "       'Constituency - Business and Industry2',\n",
       "       'not yet affiliated/no data',\n",
       "       'Constituency - Local government and Municipal authorities',\n",
       "       'Constituency - Trade Unions', 'Constituency - Environmental CJN'],\n",
       "      dtype=object)"
      ]
     },
     "execution_count": 63,
     "metadata": {},
     "output_type": "execute_result"
    }
   ],
   "source": [
    "NGO.constituency.unique()"
   ]
  },
  {
   "cell_type": "code",
   "execution_count": 64,
   "metadata": {},
   "outputs": [],
   "source": [
    "NGO_constituency_stats = pd.DataFrame(NGO.constituency.value_counts())\n",
    "NGO_constituency_stats.reset_index(level=0, inplace=True)\n",
    "NGO_constituency_stats.columns = [\"Constituency\", \"Count\"]"
   ]
  },
  {
   "cell_type": "code",
   "execution_count": 65,
   "metadata": {},
   "outputs": [
    {
     "data": {
      "text/html": [
       "<div>\n",
       "<style scoped>\n",
       "    .dataframe tbody tr th:only-of-type {\n",
       "        vertical-align: middle;\n",
       "    }\n",
       "\n",
       "    .dataframe tbody tr th {\n",
       "        vertical-align: top;\n",
       "    }\n",
       "\n",
       "    .dataframe thead th {\n",
       "        text-align: right;\n",
       "    }\n",
       "</style>\n",
       "<table border=\"1\" class=\"dataframe\">\n",
       "  <thead>\n",
       "    <tr style=\"text-align: right;\">\n",
       "      <th></th>\n",
       "      <th>Constituency</th>\n",
       "      <th>Count</th>\n",
       "    </tr>\n",
       "  </thead>\n",
       "  <tbody>\n",
       "    <tr>\n",
       "      <th>0</th>\n",
       "      <td>Constituency - Research and independent</td>\n",
       "      <td>310</td>\n",
       "    </tr>\n",
       "    <tr>\n",
       "      <th>1</th>\n",
       "      <td>Constituency - Environmental</td>\n",
       "      <td>271</td>\n",
       "    </tr>\n",
       "    <tr>\n",
       "      <th>2</th>\n",
       "      <td>Constituency - Environmental CAN</td>\n",
       "      <td>135</td>\n",
       "    </tr>\n",
       "    <tr>\n",
       "      <th>3</th>\n",
       "      <td>Constituency - Business and Industry</td>\n",
       "      <td>119</td>\n",
       "    </tr>\n",
       "    <tr>\n",
       "      <th>4</th>\n",
       "      <td>not yet affiliated/no data</td>\n",
       "      <td>53</td>\n",
       "    </tr>\n",
       "    <tr>\n",
       "      <th>5</th>\n",
       "      <td>Constituency - ENGO</td>\n",
       "      <td>47</td>\n",
       "    </tr>\n",
       "    <tr>\n",
       "      <th>6</th>\n",
       "      <td>Constituency - Youth</td>\n",
       "      <td>41</td>\n",
       "    </tr>\n",
       "    <tr>\n",
       "      <th>7</th>\n",
       "      <td>Constituency - Indigenous peoples</td>\n",
       "      <td>28</td>\n",
       "    </tr>\n",
       "    <tr>\n",
       "      <th>8</th>\n",
       "      <td>Constituency - Local government and Municipal ...</td>\n",
       "      <td>24</td>\n",
       "    </tr>\n",
       "    <tr>\n",
       "      <th>9</th>\n",
       "      <td>Constituency - Environmental CJN</td>\n",
       "      <td>18</td>\n",
       "    </tr>\n",
       "    <tr>\n",
       "      <th>10</th>\n",
       "      <td>Constituency - Women and Gender</td>\n",
       "      <td>12</td>\n",
       "    </tr>\n",
       "    <tr>\n",
       "      <th>11</th>\n",
       "      <td>Constituency - Farmers</td>\n",
       "      <td>10</td>\n",
       "    </tr>\n",
       "    <tr>\n",
       "      <th>12</th>\n",
       "      <td>Constituency - Trade Unions</td>\n",
       "      <td>8</td>\n",
       "    </tr>\n",
       "    <tr>\n",
       "      <th>13</th>\n",
       "      <td>Constituency - Business and Industry2</td>\n",
       "      <td>2</td>\n",
       "    </tr>\n",
       "  </tbody>\n",
       "</table>\n",
       "</div>"
      ],
      "text/plain": [
       "                                         Constituency  Count\n",
       "0             Constituency - Research and independent    310\n",
       "1                        Constituency - Environmental    271\n",
       "2                    Constituency - Environmental CAN    135\n",
       "3                Constituency - Business and Industry    119\n",
       "4                          not yet affiliated/no data     53\n",
       "5                                 Constituency - ENGO     47\n",
       "6                                Constituency - Youth     41\n",
       "7                   Constituency - Indigenous peoples     28\n",
       "8   Constituency - Local government and Municipal ...     24\n",
       "9                    Constituency - Environmental CJN     18\n",
       "10                    Constituency - Women and Gender     12\n",
       "11                             Constituency - Farmers     10\n",
       "12                        Constituency - Trade Unions      8\n",
       "13              Constituency - Business and Industry2      2"
      ]
     },
     "execution_count": 65,
     "metadata": {},
     "output_type": "execute_result"
    }
   ],
   "source": [
    "NGO_constituency_stats"
   ]
  },
  {
   "cell_type": "markdown",
   "metadata": {},
   "source": [
    "### 1.4.1 Piechart"
   ]
  },
  {
   "cell_type": "code",
   "execution_count": 77,
   "metadata": {},
   "outputs": [
    {
     "data": {
      "image/png": "[encoded data removed]",
      "text/plain": [
       "<Figure size 1440x720 with 1 Axes>"
      ]
     },
     "metadata": {},
     "output_type": "display_data"
    }
   ],
   "source": [
    "plt.figure(figsize=(20,10))\n",
    "plt.pie(NGO_constituency_stats.Count,labels=NGO_constituency_stats.Constituency,\n",
    "        autopct='%1.1f%%',\n",
    "        startangle = 0.06,\n",
    "        pctdistance = 0.8)\n",
    "plt.title(\"Piechart of Constituency Distribution for NGOs \\n(COP2015, n = 1078)\")\n",
    "plt.savefig(\"2015_NGO_constituency_piechart.png\", facecolor = \"white\")"
   ]
  },
  {
   "cell_type": "code",
   "execution_count": 240,
   "metadata": {},
   "outputs": [],
   "source": [
    "new_const = [constituency[(constituency.find('-') + 2):] for constituency in list(NGO_constituency_stats.Constituency)]"
   ]
  },
  {
   "cell_type": "code",
   "execution_count": 241,
   "metadata": {},
   "outputs": [
    {
     "data": {
      "text/plain": [
       "['Environmental',\n",
       " 'Research and independent',\n",
       " 'Business and Industry',\n",
       " 'Environmental CAN',\n",
       " 'Youth',\n",
       " 'ENGO',\n",
       " 'Indigenous peoples',\n",
       " 'Women and Gender',\n",
       " 'Local government and Municipal authorities',\n",
       " 'ot yet affiliated',\n",
       " 'Farmers',\n",
       " 'Environmental CJN',\n",
       " 'Business and Industry2',\n",
       " 'Trade Unions']"
      ]
     },
     "execution_count": 241,
     "metadata": {},
     "output_type": "execute_result"
    }
   ],
   "source": [
    "new_const"
   ]
  },
  {
   "cell_type": "code",
   "execution_count": 242,
   "metadata": {},
   "outputs": [],
   "source": [
    "new_const[-5] = 'not yet affiliated'"
   ]
  },
  {
   "cell_type": "code",
   "execution_count": 243,
   "metadata": {},
   "outputs": [
    {
     "data": {
      "text/plain": [
       "['Environmental',\n",
       " 'Research and independent',\n",
       " 'Business and Industry',\n",
       " 'Environmental CAN',\n",
       " 'Youth',\n",
       " 'ENGO',\n",
       " 'Indigenous peoples',\n",
       " 'Women and Gender',\n",
       " 'Local government and Municipal authorities',\n",
       " 'not yet affiliated',\n",
       " 'Farmers',\n",
       " 'Environmental CJN',\n",
       " 'Business and Industry2',\n",
       " 'Trade Unions']"
      ]
     },
     "execution_count": 243,
     "metadata": {},
     "output_type": "execute_result"
    }
   ],
   "source": [
    "new_const"
   ]
  },
  {
   "cell_type": "markdown",
   "metadata": {},
   "source": [
    "### 1.4.2 Barchart"
   ]
  },
  {
   "cell_type": "code",
   "execution_count": 265,
   "metadata": {},
   "outputs": [
    {
     "data": {
      "image/png": "[encoded data removed]",
      "text/plain": [
       "<Figure size 1440x720 with 1 Axes>"
      ]
     },
     "metadata": {
      "needs_background": "light"
     },
     "output_type": "display_data"
    }
   ],
   "source": [
    "plt.figure(figsize = (20, 10))\n",
    "sns.barplot(y = new_const,\n",
    "           x = NGO_constituency_stats.Count,\n",
    "           orient='h',\n",
    "           color = \"blue\")\n",
    "plt.xticks(np.arange(0, 350, 25))\n",
    "plt.title(\"Barchart of Constituency Distribution for NGOs \\n(COP2019)\")\n",
    "plt.savefig(\"NGO_constituency_barchart.png\", facecolor = \"white\")"
   ]
  },
  {
   "cell_type": "markdown",
   "metadata": {},
   "source": [
    "### 1.4.3 Map"
   ]
  },
  {
   "cell_type": "code",
   "execution_count": 78,
   "metadata": {},
   "outputs": [],
   "source": [
    "def country_name_to_country_alpha3_(country):\n",
    "    \"\"\"\n",
    "    Returns the ISO3 of the country.\n",
    "    Args: country (str)\n",
    "    Output: iso3 (str)\n",
    "    \"\"\"\n",
    "    try:\n",
    "        iso3 = pycountry.country_name_to_country_alpha3(country)\n",
    "    except:\n",
    "        iso3 = \"\"\n",
    "    return iso3\n",
    "\n",
    "NGO_country_stats[\"ISO3\"] = [country_name_to_country_alpha3_(country) for country in list(NGO_country_stats.Country)]"
   ]
  },
  {
   "cell_type": "code",
   "execution_count": 79,
   "metadata": {},
   "outputs": [
    {
     "data": {
      "text/html": [
       "<div>\n",
       "<style scoped>\n",
       "    .dataframe tbody tr th:only-of-type {\n",
       "        vertical-align: middle;\n",
       "    }\n",
       "\n",
       "    .dataframe tbody tr th {\n",
       "        vertical-align: top;\n",
       "    }\n",
       "\n",
       "    .dataframe thead th {\n",
       "        text-align: right;\n",
       "    }\n",
       "</style>\n",
       "<table border=\"1\" class=\"dataframe\">\n",
       "  <thead>\n",
       "    <tr style=\"text-align: right;\">\n",
       "      <th></th>\n",
       "      <th>Country</th>\n",
       "      <th>Count</th>\n",
       "      <th>ISO3</th>\n",
       "    </tr>\n",
       "  </thead>\n",
       "  <tbody>\n",
       "    <tr>\n",
       "      <th>17</th>\n",
       "      <td>Republic of Korea</td>\n",
       "      <td>14</td>\n",
       "      <td></td>\n",
       "    </tr>\n",
       "    <tr>\n",
       "      <th>37</th>\n",
       "      <td>Bolivia (Plurinational State of)</td>\n",
       "      <td>4</td>\n",
       "      <td></td>\n",
       "    </tr>\n",
       "    <tr>\n",
       "      <th>52</th>\n",
       "      <td>Holy See</td>\n",
       "      <td>1</td>\n",
       "      <td></td>\n",
       "    </tr>\n",
       "    <tr>\n",
       "      <th>62</th>\n",
       "      <td>Iran (Islamic Republic of)</td>\n",
       "      <td>1</td>\n",
       "      <td></td>\n",
       "    </tr>\n",
       "  </tbody>\n",
       "</table>\n",
       "</div>"
      ],
      "text/plain": [
       "                             Country  Count ISO3\n",
       "17                 Republic of Korea     14     \n",
       "37  Bolivia (Plurinational State of)      4     \n",
       "52                          Holy See      1     \n",
       "62        Iran (Islamic Republic of)      1     "
      ]
     },
     "execution_count": 79,
     "metadata": {},
     "output_type": "execute_result"
    }
   ],
   "source": [
    "NGO_country_stats[NGO_country_stats.ISO3==\"\"]"
   ]
  },
  {
   "cell_type": "markdown",
   "metadata": {},
   "source": [
    "It seems that 4 countries were not identified by the `country_name_to_alpha3` function. These are:\n",
    "* Republic of Korea\n",
    "* Bolivia\n",
    "* Iran\n",
    "* Holy See\n",
    "\n",
    "We will manually compute the ISO3 for these countries as follows:"
   ]
  },
  {
   "cell_type": "code",
   "execution_count": 80,
   "metadata": {},
   "outputs": [],
   "source": [
    "NGO_country_stats.loc[[17, 37, 52, 62], \"ISO3\"] = [\"KOR\", \"BOL\", \"VAT\", \"IRN\"]"
   ]
  },
  {
   "cell_type": "code",
   "execution_count": 81,
   "metadata": {},
   "outputs": [
    {
     "data": {
      "text/html": [
       "<div>\n",
       "<style scoped>\n",
       "    .dataframe tbody tr th:only-of-type {\n",
       "        vertical-align: middle;\n",
       "    }\n",
       "\n",
       "    .dataframe tbody tr th {\n",
       "        vertical-align: top;\n",
       "    }\n",
       "\n",
       "    .dataframe thead th {\n",
       "        text-align: right;\n",
       "    }\n",
       "</style>\n",
       "<table border=\"1\" class=\"dataframe\">\n",
       "  <thead>\n",
       "    <tr style=\"text-align: right;\">\n",
       "      <th></th>\n",
       "      <th>Country</th>\n",
       "      <th>Count</th>\n",
       "      <th>ISO3</th>\n",
       "    </tr>\n",
       "  </thead>\n",
       "  <tbody>\n",
       "    <tr>\n",
       "      <th>72</th>\n",
       "      <td>Russian Federation</td>\n",
       "      <td>1</td>\n",
       "      <td>RUS</td>\n",
       "    </tr>\n",
       "    <tr>\n",
       "      <th>73</th>\n",
       "      <td>Indonesia</td>\n",
       "      <td>1</td>\n",
       "      <td>IDN</td>\n",
       "    </tr>\n",
       "    <tr>\n",
       "      <th>74</th>\n",
       "      <td>Costa Rica</td>\n",
       "      <td>1</td>\n",
       "      <td>CRI</td>\n",
       "    </tr>\n",
       "    <tr>\n",
       "      <th>75</th>\n",
       "      <td>Dominican Republic</td>\n",
       "      <td>1</td>\n",
       "      <td>DOM</td>\n",
       "    </tr>\n",
       "    <tr>\n",
       "      <th>76</th>\n",
       "      <td>Algeria</td>\n",
       "      <td>1</td>\n",
       "      <td>DZA</td>\n",
       "    </tr>\n",
       "    <tr>\n",
       "      <th>77</th>\n",
       "      <td>El Salvador</td>\n",
       "      <td>1</td>\n",
       "      <td>SLV</td>\n",
       "    </tr>\n",
       "    <tr>\n",
       "      <th>78</th>\n",
       "      <td>Congo</td>\n",
       "      <td>1</td>\n",
       "      <td>COG</td>\n",
       "    </tr>\n",
       "    <tr>\n",
       "      <th>79</th>\n",
       "      <td>Benin</td>\n",
       "      <td>1</td>\n",
       "      <td>BEN</td>\n",
       "    </tr>\n",
       "    <tr>\n",
       "      <th>80</th>\n",
       "      <td>Angola</td>\n",
       "      <td>1</td>\n",
       "      <td>AGO</td>\n",
       "    </tr>\n",
       "    <tr>\n",
       "      <th>81</th>\n",
       "      <td>Uganda</td>\n",
       "      <td>1</td>\n",
       "      <td>UGA</td>\n",
       "    </tr>\n",
       "  </tbody>\n",
       "</table>\n",
       "</div>"
      ],
      "text/plain": [
       "               Country  Count ISO3\n",
       "72  Russian Federation      1  RUS\n",
       "73           Indonesia      1  IDN\n",
       "74          Costa Rica      1  CRI\n",
       "75  Dominican Republic      1  DOM\n",
       "76             Algeria      1  DZA\n",
       "77         El Salvador      1  SLV\n",
       "78               Congo      1  COG\n",
       "79               Benin      1  BEN\n",
       "80              Angola      1  AGO\n",
       "81              Uganda      1  UGA"
      ]
     },
     "execution_count": 81,
     "metadata": {},
     "output_type": "execute_result"
    }
   ],
   "source": [
    "NGO_country_stats.tail(10)"
   ]
  },
  {
   "cell_type": "code",
   "execution_count": 105,
   "metadata": {},
   "outputs": [],
   "source": [
    "NGO_country_stats.to_csv(\"2015_NGO_country_stats.csv\")"
   ]
  },
  {
   "cell_type": "code",
   "execution_count": 82,
   "metadata": {},
   "outputs": [],
   "source": [
    "NGO_city_stats.to_csv(\"2015_NGO_city_stats.csv\")"
   ]
  },
  {
   "cell_type": "code",
   "execution_count": 103,
   "metadata": {},
   "outputs": [
    {
     "data": {
      "application/vnd.plotly.v1+json": {
       "config": {
        "plotlyServerURL": "https://plot.ly"
       },
       "data": [
        {
         "coloraxis": "coloraxis",
         "geo": "geo",
         "hovertemplate": "<b>%{hovertext}</b><br><br>ISO3=%{location}<br>Count=%{z}<extra></extra>",
         "hovertext": [
          "United States of America",
          "France",
          "United Kingdom of Great Britain and Northern Ireland",
          "Germany",
          "Belgium",
          "Canada",
          "Switzerland",
          "China",
          "Japan",
          "Netherlands",
          "Australia",
          "India",
          "Italy",
          "Peru",
          "Sweden",
          "Nigeria",
          "Brazil",
          "Republic of Korea",
          "Denmark",
          "Norway",
          "South Africa",
          "Philippines",
          "Austria",
          "Bangladesh",
          "Spain",
          "Mexico",
          "Argentina",
          "Malaysia",
          "Kenya",
          "Nepal",
          "Ghana",
          "Colombia",
          "Panama",
          "New Zealand",
          "Finland",
          "Turkey",
          "Ireland",
          "Bolivia (Plurinational State of)",
          "Ecuador",
          "Cameroon",
          "Pakistan",
          "Lebanon",
          "Thailand",
          "Israel",
          "Singapore",
          "Guatemala",
          "Togo",
          "Ukraine",
          "Sri Lanka",
          "United Republic of Tanzania",
          "Luxembourg",
          "Morocco",
          "Holy See",
          "Rwanda",
          "Ethiopia",
          "Kazakhstan",
          "Cuba",
          "Chile",
          "Nicaragua",
          "Greece",
          "Viet Nam",
          "Slovenia",
          "Iran (Islamic Republic of)",
          "Uruguay",
          "Portugal",
          "Democratic Republic of the Congo",
          "Armenia",
          "Poland",
          "Iceland",
          "Czechia",
          "Honduras",
          "Senegal",
          "Russian Federation",
          "Indonesia",
          "Costa Rica",
          "Dominican Republic",
          "Algeria",
          "El Salvador",
          "Congo",
          "Benin",
          "Angola",
          "Uganda"
         ],
         "locations": [
          "USA",
          "FRA",
          "GBR",
          "DEU",
          "BEL",
          "CAN",
          "CHE",
          "CHN",
          "JPN",
          "NLD",
          "AUS",
          "IND",
          "ITA",
          "PER",
          "SWE",
          "NGA",
          "BRA",
          "KOR",
          "DNK",
          "NOR",
          "ZAF",
          "PHL",
          "AUT",
          "BGD",
          "ESP",
          "MEX",
          "ARG",
          "MYS",
          "KEN",
          "NPL",
          "GHA",
          "COL",
          "PAN",
          "NZL",
          "FIN",
          "TUR",
          "IRL",
          "BOL",
          "ECU",
          "CMR",
          "PAK",
          "LBN",
          "THA",
          "ISR",
          "SGP",
          "GTM",
          "TGO",
          "UKR",
          "LKA",
          "TZA",
          "LUX",
          "MAR",
          "VAT",
          "RWA",
          "ETH",
          "KAZ",
          "CUB",
          "CHL",
          "NIC",
          "GRC",
          "VNM",
          "SVN",
          "IRN",
          "URY",
          "PRT",
          "COD",
          "ARM",
          "POL",
          "ISL",
          "CZE",
          "HND",
          "SEN",
          "RUS",
          "IDN",
          "CRI",
          "DOM",
          "DZA",
          "SLV",
          "COG",
          "BEN",
          "AGO",
          "UGA"
         ],
         "name": "",
         "type": "choropleth",
         "z": [
          228,
          104,
          92,
          74,
          40,
          39,
          35,
          32,
          31,
          27,
          26,
          25,
          25,
          24,
          17,
          15,
          14,
          14,
          13,
          12,
          12,
          9,
          9,
          9,
          9,
          8,
          8,
          6,
          6,
          6,
          6,
          5,
          5,
          5,
          5,
          5,
          4,
          4,
          4,
          4,
          4,
          4,
          3,
          3,
          3,
          3,
          2,
          2,
          2,
          2,
          2,
          2,
          1,
          1,
          1,
          1,
          1,
          1,
          1,
          1,
          1,
          1,
          1,
          1,
          1,
          1,
          1,
          1,
          1,
          1,
          1,
          1,
          1,
          1,
          1,
          1,
          1,
          1,
          1,
          1,
          1,
          1
         ]
        }
       ],
       "layout": {
        "coloraxis": {
         "cmax": 250,
         "cmin": 0,
         "colorbar": {
          "title": {
           "text": "Count"
          }
         },
         "colorscale": [
          [
           0,
           "rgb(255,245,240)"
          ],
          [
           0.125,
           "rgb(254,224,210)"
          ],
          [
           0.25,
           "rgb(252,187,161)"
          ],
          [
           0.375,
           "rgb(252,146,114)"
          ],
          [
           0.5,
           "rgb(251,106,74)"
          ],
          [
           0.625,
           "rgb(239,59,44)"
          ],
          [
           0.75,
           "rgb(203,24,29)"
          ],
          [
           0.875,
           "rgb(165,15,21)"
          ],
          [
           1,
           "rgb(103,0,13)"
          ]
         ]
        },
        "geo": {
         "center": {},
         "domain": {
          "x": [
           0,
           1
          ],
          "y": [
           0,
           1
          ]
         },
         "projection": {
          "type": "natural earth"
         }
        },
        "legend": {
         "tracegroupgap": 0
        },
        "template": {
         "data": {
          "bar": [
           {
            "error_x": {
             "color": "#2a3f5f"
            },
            "error_y": {
             "color": "#2a3f5f"
            },
            "marker": {
             "line": {
              "color": "#E5ECF6",
              "width": 0.5
             },
             "pattern": {
              "fillmode": "overlay",
              "size": 10,
              "solidity": 0.2
             }
            },
            "type": "bar"
           }
          ],
          "barpolar": [
           {
            "marker": {
             "line": {
              "color": "#E5ECF6",
              "width": 0.5
             },
             "pattern": {
              "fillmode": "overlay",
              "size": 10,
              "solidity": 0.2
             }
            },
            "type": "barpolar"
           }
          ],
          "carpet": [
           {
            "aaxis": {
             "endlinecolor": "#2a3f5f",
             "gridcolor": "white",
             "linecolor": "white",
             "minorgridcolor": "white",
             "startlinecolor": "#2a3f5f"
            },
            "baxis": {
             "endlinecolor": "#2a3f5f",
             "gridcolor": "white",
             "linecolor": "white",
             "minorgridcolor": "white",
             "startlinecolor": "#2a3f5f"
            },
            "type": "carpet"
           }
          ],
          "choropleth": [
           {
            "colorbar": {
             "outlinewidth": 0,
             "ticks": ""
            },
            "type": "choropleth"
           }
          ],
          "contour": [
           {
            "colorbar": {
             "outlinewidth": 0,
             "ticks": ""
            },
            "colorscale": [
             [
              0,
              "#0d0887"
             ],
             [
              0.1111111111111111,
              "#46039f"
             ],
             [
              0.2222222222222222,
              "#7201a8"
             ],
             [
              0.3333333333333333,
              "#9c179e"
             ],
             [
              0.4444444444444444,
              "#bd3786"
             ],
             [
              0.5555555555555556,
              "#d8576b"
             ],
             [
              0.6666666666666666,
              "#ed7953"
             ],
             [
              0.7777777777777778,
              "#fb9f3a"
             ],
             [
              0.8888888888888888,
              "#fdca26"
             ],
             [
              1,
              "#f0f921"
             ]
            ],
            "type": "contour"
           }
          ],
          "contourcarpet": [
           {
            "colorbar": {
             "outlinewidth": 0,
             "ticks": ""
            },
            "type": "contourcarpet"
           }
          ],
          "heatmap": [
           {
            "colorbar": {
             "outlinewidth": 0,
             "ticks": ""
            },
            "colorscale": [
             [
              0,
              "#0d0887"
             ],
             [
              0.1111111111111111,
              "#46039f"
             ],
             [
              0.2222222222222222,
              "#7201a8"
             ],
             [
              0.3333333333333333,
              "#9c179e"
             ],
             [
              0.4444444444444444,
              "#bd3786"
             ],
             [
              0.5555555555555556,
              "#d8576b"
             ],
             [
              0.6666666666666666,
              "#ed7953"
             ],
             [
              0.7777777777777778,
              "#fb9f3a"
             ],
             [
              0.8888888888888888,
              "#fdca26"
             ],
             [
              1,
              "#f0f921"
             ]
            ],
            "type": "heatmap"
           }
          ],
          "heatmapgl": [
           {
            "colorbar": {
             "outlinewidth": 0,
             "ticks": ""
            },
            "colorscale": [
             [
              0,
              "#0d0887"
             ],
             [
              0.1111111111111111,
              "#46039f"
             ],
             [
              0.2222222222222222,
              "#7201a8"
             ],
             [
              0.3333333333333333,
              "#9c179e"
             ],
             [
              0.4444444444444444,
              "#bd3786"
             ],
             [
              0.5555555555555556,
              "#d8576b"
             ],
             [
              0.6666666666666666,
              "#ed7953"
             ],
             [
              0.7777777777777778,
              "#fb9f3a"
             ],
             [
              0.8888888888888888,
              "#fdca26"
             ],
             [
              1,
              "#f0f921"
             ]
            ],
            "type": "heatmapgl"
           }
          ],
          "histogram": [
           {
            "marker": {
             "pattern": {
              "fillmode": "overlay",
              "size": 10,
              "solidity": 0.2
             }
            },
            "type": "histogram"
           }
          ],
          "histogram2d": [
           {
            "colorbar": {
             "outlinewidth": 0,
             "ticks": ""
            },
            "colorscale": [
             [
              0,
              "#0d0887"
             ],
             [
              0.1111111111111111,
              "#46039f"
             ],
             [
              0.2222222222222222,
              "#7201a8"
             ],
             [
              0.3333333333333333,
              "#9c179e"
             ],
             [
              0.4444444444444444,
              "#bd3786"
             ],
             [
              0.5555555555555556,
              "#d8576b"
             ],
             [
              0.6666666666666666,
              "#ed7953"
             ],
             [
              0.7777777777777778,
              "#fb9f3a"
             ],
             [
              0.8888888888888888,
              "#fdca26"
             ],
             [
              1,
              "#f0f921"
             ]
            ],
            "type": "histogram2d"
           }
          ],
          "histogram2dcontour": [
           {
            "colorbar": {
             "outlinewidth": 0,
             "ticks": ""
            },
            "colorscale": [
             [
              0,
              "#0d0887"
             ],
             [
              0.1111111111111111,
              "#46039f"
             ],
             [
              0.2222222222222222,
              "#7201a8"
             ],
             [
              0.3333333333333333,
              "#9c179e"
             ],
             [
              0.4444444444444444,
              "#bd3786"
             ],
             [
              0.5555555555555556,
              "#d8576b"
             ],
             [
              0.6666666666666666,
              "#ed7953"
             ],
             [
              0.7777777777777778,
              "#fb9f3a"
             ],
             [
              0.8888888888888888,
              "#fdca26"
             ],
             [
              1,
              "#f0f921"
             ]
            ],
            "type": "histogram2dcontour"
           }
          ],
          "mesh3d": [
           {
            "colorbar": {
             "outlinewidth": 0,
             "ticks": ""
            },
            "type": "mesh3d"
           }
          ],
          "parcoords": [
           {
            "line": {
             "colorbar": {
              "outlinewidth": 0,
              "ticks": ""
             }
            },
            "type": "parcoords"
           }
          ],
          "pie": [
           {
            "automargin": true,
            "type": "pie"
           }
          ],
          "scatter": [
           {
            "marker": {
             "colorbar": {
              "outlinewidth": 0,
              "ticks": ""
             }
            },
            "type": "scatter"
           }
          ],
          "scatter3d": [
           {
            "line": {
             "colorbar": {
              "outlinewidth": 0,
              "ticks": ""
             }
            },
            "marker": {
             "colorbar": {
              "outlinewidth": 0,
              "ticks": ""
             }
            },
            "type": "scatter3d"
           }
          ],
          "scattercarpet": [
           {
            "marker": {
             "colorbar": {
              "outlinewidth": 0,
              "ticks": ""
             }
            },
            "type": "scattercarpet"
           }
          ],
          "scattergeo": [
           {
            "marker": {
             "colorbar": {
              "outlinewidth": 0,
              "ticks": ""
             }
            },
            "type": "scattergeo"
           }
          ],
          "scattergl": [
           {
            "marker": {
             "colorbar": {
              "outlinewidth": 0,
              "ticks": ""
             }
            },
            "type": "scattergl"
           }
          ],
          "scattermapbox": [
           {
            "marker": {
             "colorbar": {
              "outlinewidth": 0,
              "ticks": ""
             }
            },
            "type": "scattermapbox"
           }
          ],
          "scatterpolar": [
           {
            "marker": {
             "colorbar": {
              "outlinewidth": 0,
              "ticks": ""
             }
            },
            "type": "scatterpolar"
           }
          ],
          "scatterpolargl": [
           {
            "marker": {
             "colorbar": {
              "outlinewidth": 0,
              "ticks": ""
             }
            },
            "type": "scatterpolargl"
           }
          ],
          "scatterternary": [
           {
            "marker": {
             "colorbar": {
              "outlinewidth": 0,
              "ticks": ""
             }
            },
            "type": "scatterternary"
           }
          ],
          "surface": [
           {
            "colorbar": {
             "outlinewidth": 0,
             "ticks": ""
            },
            "colorscale": [
             [
              0,
              "#0d0887"
             ],
             [
              0.1111111111111111,
              "#46039f"
             ],
             [
              0.2222222222222222,
              "#7201a8"
             ],
             [
              0.3333333333333333,
              "#9c179e"
             ],
             [
              0.4444444444444444,
              "#bd3786"
             ],
             [
              0.5555555555555556,
              "#d8576b"
             ],
             [
              0.6666666666666666,
              "#ed7953"
             ],
             [
              0.7777777777777778,
              "#fb9f3a"
             ],
             [
              0.8888888888888888,
              "#fdca26"
             ],
             [
              1,
              "#f0f921"
             ]
            ],
            "type": "surface"
           }
          ],
          "table": [
           {
            "cells": {
             "fill": {
              "color": "#EBF0F8"
             },
             "line": {
              "color": "white"
             }
            },
            "header": {
             "fill": {
              "color": "#C8D4E3"
             },
             "line": {
              "color": "white"
             }
            },
            "type": "table"
           }
          ]
         },
         "layout": {
          "annotationdefaults": {
           "arrowcolor": "#2a3f5f",
           "arrowhead": 0,
           "arrowwidth": 1
          },
          "autotypenumbers": "strict",
          "coloraxis": {
           "colorbar": {
            "outlinewidth": 0,
            "ticks": ""
           }
          },
          "colorscale": {
           "diverging": [
            [
             0,
             "#8e0152"
            ],
            [
             0.1,
             "#c51b7d"
            ],
            [
             0.2,
             "#de77ae"
            ],
            [
             0.3,
             "#f1b6da"
            ],
            [
             0.4,
             "#fde0ef"
            ],
            [
             0.5,
             "#f7f7f7"
            ],
            [
             0.6,
             "#e6f5d0"
            ],
            [
             0.7,
             "#b8e186"
            ],
            [
             0.8,
             "#7fbc41"
            ],
            [
             0.9,
             "#4d9221"
            ],
            [
             1,
             "#276419"
            ]
           ],
           "sequential": [
            [
             0,
             "#0d0887"
            ],
            [
             0.1111111111111111,
             "#46039f"
            ],
            [
             0.2222222222222222,
             "#7201a8"
            ],
            [
             0.3333333333333333,
             "#9c179e"
            ],
            [
             0.4444444444444444,
             "#bd3786"
            ],
            [
             0.5555555555555556,
             "#d8576b"
            ],
            [
             0.6666666666666666,
             "#ed7953"
            ],
            [
             0.7777777777777778,
             "#fb9f3a"
            ],
            [
             0.8888888888888888,
             "#fdca26"
            ],
            [
             1,
             "#f0f921"
            ]
           ],
           "sequentialminus": [
            [
             0,
             "#0d0887"
            ],
            [
             0.1111111111111111,
             "#46039f"
            ],
            [
             0.2222222222222222,
             "#7201a8"
            ],
            [
             0.3333333333333333,
             "#9c179e"
            ],
            [
             0.4444444444444444,
             "#bd3786"
            ],
            [
             0.5555555555555556,
             "#d8576b"
            ],
            [
             0.6666666666666666,
             "#ed7953"
            ],
            [
             0.7777777777777778,
             "#fb9f3a"
            ],
            [
             0.8888888888888888,
             "#fdca26"
            ],
            [
             1,
             "#f0f921"
            ]
           ]
          },
          "colorway": [
           "#636efa",
           "#EF553B",
           "#00cc96",
           "#ab63fa",
           "#FFA15A",
           "#19d3f3",
           "#FF6692",
           "#B6E880",
           "#FF97FF",
           "#FECB52"
          ],
          "font": {
           "color": "#2a3f5f"
          },
          "geo": {
           "bgcolor": "white",
           "lakecolor": "white",
           "landcolor": "#E5ECF6",
           "showlakes": true,
           "showland": true,
           "subunitcolor": "white"
          },
          "hoverlabel": {
           "align": "left"
          },
          "hovermode": "closest",
          "mapbox": {
           "style": "light"
          },
          "paper_bgcolor": "white",
          "plot_bgcolor": "#E5ECF6",
          "polar": {
           "angularaxis": {
            "gridcolor": "white",
            "linecolor": "white",
            "ticks": ""
           },
           "bgcolor": "#E5ECF6",
           "radialaxis": {
            "gridcolor": "white",
            "linecolor": "white",
            "ticks": ""
           }
          },
          "scene": {
           "xaxis": {
            "backgroundcolor": "#E5ECF6",
            "gridcolor": "white",
            "gridwidth": 2,
            "linecolor": "white",
            "showbackground": true,
            "ticks": "",
            "zerolinecolor": "white"
           },
           "yaxis": {
            "backgroundcolor": "#E5ECF6",
            "gridcolor": "white",
            "gridwidth": 2,
            "linecolor": "white",
            "showbackground": true,
            "ticks": "",
            "zerolinecolor": "white"
           },
           "zaxis": {
            "backgroundcolor": "#E5ECF6",
            "gridcolor": "white",
            "gridwidth": 2,
            "linecolor": "white",
            "showbackground": true,
            "ticks": "",
            "zerolinecolor": "white"
           }
          },
          "shapedefaults": {
           "line": {
            "color": "#2a3f5f"
           }
          },
          "ternary": {
           "aaxis": {
            "gridcolor": "white",
            "linecolor": "white",
            "ticks": ""
           },
           "baxis": {
            "gridcolor": "white",
            "linecolor": "white",
            "ticks": ""
           },
           "bgcolor": "#E5ECF6",
           "caxis": {
            "gridcolor": "white",
            "linecolor": "white",
            "ticks": ""
           }
          },
          "title": {
           "x": 0.05
          },
          "xaxis": {
           "automargin": true,
           "gridcolor": "white",
           "linecolor": "white",
           "ticks": "",
           "title": {
            "standoff": 15
           },
           "zerolinecolor": "white",
           "zerolinewidth": 2
          },
          "yaxis": {
           "automargin": true,
           "gridcolor": "white",
           "linecolor": "white",
           "ticks": "",
           "title": {
            "standoff": 15
           },
           "zerolinecolor": "white",
           "zerolinewidth": 2
          }
         }
        },
        "title": {
         "text": "Color-Coded Map of the Country of Origin of NGOs participating at COP2015"
        }
       }
      },
      "text/html": [
       "<div>                            <div id=\"7a4b6909-8d2a-4db1-997f-a5b8f3cef003\" class=\"plotly-graph-div\" style=\"height:525px; width:100%;\"></div>            <script type=\"text/javascript\">                require([\"plotly\"], function(Plotly) {                    window.PLOTLYENV=window.PLOTLYENV || {};                                    if (document.getElementById(\"7a4b6909-8d2a-4db1-997f-a5b8f3cef003\")) {                    Plotly.newPlot(                        \"7a4b6909-8d2a-4db1-997f-a5b8f3cef003\",                        [{\"coloraxis\":\"coloraxis\",\"geo\":\"geo\",\"hovertemplate\":\"<b>%{hovertext}</b><br><br>ISO3=%{location}<br>Count=%{z}<extra></extra>\",\"hovertext\":[\"United States of America\",\"France\",\"United Kingdom of Great Britain and Northern Ireland\",\"Germany\",\"Belgium\",\"Canada\",\"Switzerland\",\"China\",\"Japan\",\"Netherlands\",\"Australia\",\"India\",\"Italy\",\"Peru\",\"Sweden\",\"Nigeria\",\"Brazil\",\"Republic of Korea\",\"Denmark\",\"Norway\",\"South Africa\",\"Philippines\",\"Austria\",\"Bangladesh\",\"Spain\",\"Mexico\",\"Argentina\",\"Malaysia\",\"Kenya\",\"Nepal\",\"Ghana\",\"Colombia\",\"Panama\",\"New Zealand\",\"Finland\",\"Turkey\",\"Ireland\",\"Bolivia (Plurinational State of)\",\"Ecuador\",\"Cameroon\",\"Pakistan\",\"Lebanon\",\"Thailand\",\"Israel\",\"Singapore\",\"Guatemala\",\"Togo\",\"Ukraine\",\"Sri Lanka\",\"United Republic of Tanzania\",\"Luxembourg\",\"Morocco\",\"Holy See\",\"Rwanda\",\"Ethiopia\",\"Kazakhstan\",\"Cuba\",\"Chile\",\"Nicaragua\",\"Greece\",\"Viet Nam\",\"Slovenia\",\"Iran (Islamic Republic of)\",\"Uruguay\",\"Portugal\",\"Democratic Republic of the Congo\",\"Armenia\",\"Poland\",\"Iceland\",\"Czechia\",\"Honduras\",\"Senegal\",\"Russian Federation\",\"Indonesia\",\"Costa Rica\",\"Dominican Republic\",\"Algeria\",\"El Salvador\",\"Congo\",\"Benin\",\"Angola\",\"Uganda\"],\"locations\":[\"USA\",\"FRA\",\"GBR\",\"DEU\",\"BEL\",\"CAN\",\"CHE\",\"CHN\",\"JPN\",\"NLD\",\"AUS\",\"IND\",\"ITA\",\"PER\",\"SWE\",\"NGA\",\"BRA\",\"KOR\",\"DNK\",\"NOR\",\"ZAF\",\"PHL\",\"AUT\",\"BGD\",\"ESP\",\"MEX\",\"ARG\",\"MYS\",\"KEN\",\"NPL\",\"GHA\",\"COL\",\"PAN\",\"NZL\",\"FIN\",\"TUR\",\"IRL\",\"BOL\",\"ECU\",\"CMR\",\"PAK\",\"LBN\",\"THA\",\"ISR\",\"SGP\",\"GTM\",\"TGO\",\"UKR\",\"LKA\",\"TZA\",\"LUX\",\"MAR\",\"VAT\",\"RWA\",\"ETH\",\"KAZ\",\"CUB\",\"CHL\",\"NIC\",\"GRC\",\"VNM\",\"SVN\",\"IRN\",\"URY\",\"PRT\",\"COD\",\"ARM\",\"POL\",\"ISL\",\"CZE\",\"HND\",\"SEN\",\"RUS\",\"IDN\",\"CRI\",\"DOM\",\"DZA\",\"SLV\",\"COG\",\"BEN\",\"AGO\",\"UGA\"],\"name\":\"\",\"type\":\"choropleth\",\"z\":[228,104,92,74,40,39,35,32,31,27,26,25,25,24,17,15,14,14,13,12,12,9,9,9,9,8,8,6,6,6,6,5,5,5,5,5,4,4,4,4,4,4,3,3,3,3,2,2,2,2,2,2,1,1,1,1,1,1,1,1,1,1,1,1,1,1,1,1,1,1,1,1,1,1,1,1,1,1,1,1,1,1]}],                        {\"coloraxis\":{\"cmax\":250,\"cmin\":0,\"colorbar\":{\"title\":{\"text\":\"Count\"}},\"colorscale\":[[0.0,\"rgb(255,245,240)\"],[0.125,\"rgb(254,224,210)\"],[0.25,\"rgb(252,187,161)\"],[0.375,\"rgb(252,146,114)\"],[0.5,\"rgb(251,106,74)\"],[0.625,\"rgb(239,59,44)\"],[0.75,\"rgb(203,24,29)\"],[0.875,\"rgb(165,15,21)\"],[1.0,\"rgb(103,0,13)\"]]},\"geo\":{\"center\":{},\"domain\":{\"x\":[0.0,1.0],\"y\":[0.0,1.0]},\"projection\":{\"type\":\"natural earth\"}},\"legend\":{\"tracegroupgap\":0},\"template\":{\"data\":{\"bar\":[{\"error_x\":{\"color\":\"#2a3f5f\"},\"error_y\":{\"color\":\"#2a3f5f\"},\"marker\":{\"line\":{\"color\":\"#E5ECF6\",\"width\":0.5},\"pattern\":{\"fillmode\":\"overlay\",\"size\":10,\"solidity\":0.2}},\"type\":\"bar\"}],\"barpolar\":[{\"marker\":{\"line\":{\"color\":\"#E5ECF6\",\"width\":0.5},\"pattern\":{\"fillmode\":\"overlay\",\"size\":10,\"solidity\":0.2}},\"type\":\"barpolar\"}],\"carpet\":[{\"aaxis\":{\"endlinecolor\":\"#2a3f5f\",\"gridcolor\":\"white\",\"linecolor\":\"white\",\"minorgridcolor\":\"white\",\"startlinecolor\":\"#2a3f5f\"},\"baxis\":{\"endlinecolor\":\"#2a3f5f\",\"gridcolor\":\"white\",\"linecolor\":\"white\",\"minorgridcolor\":\"white\",\"startlinecolor\":\"#2a3f5f\"},\"type\":\"carpet\"}],\"choropleth\":[{\"colorbar\":{\"outlinewidth\":0,\"ticks\":\"\"},\"type\":\"choropleth\"}],\"contour\":[{\"colorbar\":{\"outlinewidth\":0,\"ticks\":\"\"},\"colorscale\":[[0.0,\"#0d0887\"],[0.1111111111111111,\"#46039f\"],[0.2222222222222222,\"#7201a8\"],[0.3333333333333333,\"#9c179e\"],[0.4444444444444444,\"#bd3786\"],[0.5555555555555556,\"#d8576b\"],[0.6666666666666666,\"#ed7953\"],[0.7777777777777778,\"#fb9f3a\"],[0.8888888888888888,\"#fdca26\"],[1.0,\"#f0f921\"]],\"type\":\"contour\"}],\"contourcarpet\":[{\"colorbar\":{\"outlinewidth\":0,\"ticks\":\"\"},\"type\":\"contourcarpet\"}],\"heatmap\":[{\"colorbar\":{\"outlinewidth\":0,\"ticks\":\"\"},\"colorscale\":[[0.0,\"#0d0887\"],[0.1111111111111111,\"#46039f\"],[0.2222222222222222,\"#7201a8\"],[0.3333333333333333,\"#9c179e\"],[0.4444444444444444,\"#bd3786\"],[0.5555555555555556,\"#d8576b\"],[0.6666666666666666,\"#ed7953\"],[0.7777777777777778,\"#fb9f3a\"],[0.8888888888888888,\"#fdca26\"],[1.0,\"#f0f921\"]],\"type\":\"heatmap\"}],\"heatmapgl\":[{\"colorbar\":{\"outlinewidth\":0,\"ticks\":\"\"},\"colorscale\":[[0.0,\"#0d0887\"],[0.1111111111111111,\"#46039f\"],[0.2222222222222222,\"#7201a8\"],[0.3333333333333333,\"#9c179e\"],[0.4444444444444444,\"#bd3786\"],[0.5555555555555556,\"#d8576b\"],[0.6666666666666666,\"#ed7953\"],[0.7777777777777778,\"#fb9f3a\"],[0.8888888888888888,\"#fdca26\"],[1.0,\"#f0f921\"]],\"type\":\"heatmapgl\"}],\"histogram\":[{\"marker\":{\"pattern\":{\"fillmode\":\"overlay\",\"size\":10,\"solidity\":0.2}},\"type\":\"histogram\"}],\"histogram2d\":[{\"colorbar\":{\"outlinewidth\":0,\"ticks\":\"\"},\"colorscale\":[[0.0,\"#0d0887\"],[0.1111111111111111,\"#46039f\"],[0.2222222222222222,\"#7201a8\"],[0.3333333333333333,\"#9c179e\"],[0.4444444444444444,\"#bd3786\"],[0.5555555555555556,\"#d8576b\"],[0.6666666666666666,\"#ed7953\"],[0.7777777777777778,\"#fb9f3a\"],[0.8888888888888888,\"#fdca26\"],[1.0,\"#f0f921\"]],\"type\":\"histogram2d\"}],\"histogram2dcontour\":[{\"colorbar\":{\"outlinewidth\":0,\"ticks\":\"\"},\"colorscale\":[[0.0,\"#0d0887\"],[0.1111111111111111,\"#46039f\"],[0.2222222222222222,\"#7201a8\"],[0.3333333333333333,\"#9c179e\"],[0.4444444444444444,\"#bd3786\"],[0.5555555555555556,\"#d8576b\"],[0.6666666666666666,\"#ed7953\"],[0.7777777777777778,\"#fb9f3a\"],[0.8888888888888888,\"#fdca26\"],[1.0,\"#f0f921\"]],\"type\":\"histogram2dcontour\"}],\"mesh3d\":[{\"colorbar\":{\"outlinewidth\":0,\"ticks\":\"\"},\"type\":\"mesh3d\"}],\"parcoords\":[{\"line\":{\"colorbar\":{\"outlinewidth\":0,\"ticks\":\"\"}},\"type\":\"parcoords\"}],\"pie\":[{\"automargin\":true,\"type\":\"pie\"}],\"scatter\":[{\"marker\":{\"colorbar\":{\"outlinewidth\":0,\"ticks\":\"\"}},\"type\":\"scatter\"}],\"scatter3d\":[{\"line\":{\"colorbar\":{\"outlinewidth\":0,\"ticks\":\"\"}},\"marker\":{\"colorbar\":{\"outlinewidth\":0,\"ticks\":\"\"}},\"type\":\"scatter3d\"}],\"scattercarpet\":[{\"marker\":{\"colorbar\":{\"outlinewidth\":0,\"ticks\":\"\"}},\"type\":\"scattercarpet\"}],\"scattergeo\":[{\"marker\":{\"colorbar\":{\"outlinewidth\":0,\"ticks\":\"\"}},\"type\":\"scattergeo\"}],\"scattergl\":[{\"marker\":{\"colorbar\":{\"outlinewidth\":0,\"ticks\":\"\"}},\"type\":\"scattergl\"}],\"scattermapbox\":[{\"marker\":{\"colorbar\":{\"outlinewidth\":0,\"ticks\":\"\"}},\"type\":\"scattermapbox\"}],\"scatterpolar\":[{\"marker\":{\"colorbar\":{\"outlinewidth\":0,\"ticks\":\"\"}},\"type\":\"scatterpolar\"}],\"scatterpolargl\":[{\"marker\":{\"colorbar\":{\"outlinewidth\":0,\"ticks\":\"\"}},\"type\":\"scatterpolargl\"}],\"scatterternary\":[{\"marker\":{\"colorbar\":{\"outlinewidth\":0,\"ticks\":\"\"}},\"type\":\"scatterternary\"}],\"surface\":[{\"colorbar\":{\"outlinewidth\":0,\"ticks\":\"\"},\"colorscale\":[[0.0,\"#0d0887\"],[0.1111111111111111,\"#46039f\"],[0.2222222222222222,\"#7201a8\"],[0.3333333333333333,\"#9c179e\"],[0.4444444444444444,\"#bd3786\"],[0.5555555555555556,\"#d8576b\"],[0.6666666666666666,\"#ed7953\"],[0.7777777777777778,\"#fb9f3a\"],[0.8888888888888888,\"#fdca26\"],[1.0,\"#f0f921\"]],\"type\":\"surface\"}],\"table\":[{\"cells\":{\"fill\":{\"color\":\"#EBF0F8\"},\"line\":{\"color\":\"white\"}},\"header\":{\"fill\":{\"color\":\"#C8D4E3\"},\"line\":{\"color\":\"white\"}},\"type\":\"table\"}]},\"layout\":{\"annotationdefaults\":{\"arrowcolor\":\"#2a3f5f\",\"arrowhead\":0,\"arrowwidth\":1},\"autotypenumbers\":\"strict\",\"coloraxis\":{\"colorbar\":{\"outlinewidth\":0,\"ticks\":\"\"}},\"colorscale\":{\"diverging\":[[0,\"#8e0152\"],[0.1,\"#c51b7d\"],[0.2,\"#de77ae\"],[0.3,\"#f1b6da\"],[0.4,\"#fde0ef\"],[0.5,\"#f7f7f7\"],[0.6,\"#e6f5d0\"],[0.7,\"#b8e186\"],[0.8,\"#7fbc41\"],[0.9,\"#4d9221\"],[1,\"#276419\"]],\"sequential\":[[0.0,\"#0d0887\"],[0.1111111111111111,\"#46039f\"],[0.2222222222222222,\"#7201a8\"],[0.3333333333333333,\"#9c179e\"],[0.4444444444444444,\"#bd3786\"],[0.5555555555555556,\"#d8576b\"],[0.6666666666666666,\"#ed7953\"],[0.7777777777777778,\"#fb9f3a\"],[0.8888888888888888,\"#fdca26\"],[1.0,\"#f0f921\"]],\"sequentialminus\":[[0.0,\"#0d0887\"],[0.1111111111111111,\"#46039f\"],[0.2222222222222222,\"#7201a8\"],[0.3333333333333333,\"#9c179e\"],[0.4444444444444444,\"#bd3786\"],[0.5555555555555556,\"#d8576b\"],[0.6666666666666666,\"#ed7953\"],[0.7777777777777778,\"#fb9f3a\"],[0.8888888888888888,\"#fdca26\"],[1.0,\"#f0f921\"]]},\"colorway\":[\"#636efa\",\"#EF553B\",\"#00cc96\",\"#ab63fa\",\"#FFA15A\",\"#19d3f3\",\"#FF6692\",\"#B6E880\",\"#FF97FF\",\"#FECB52\"],\"font\":{\"color\":\"#2a3f5f\"},\"geo\":{\"bgcolor\":\"white\",\"lakecolor\":\"white\",\"landcolor\":\"#E5ECF6\",\"showlakes\":true,\"showland\":true,\"subunitcolor\":\"white\"},\"hoverlabel\":{\"align\":\"left\"},\"hovermode\":\"closest\",\"mapbox\":{\"style\":\"light\"},\"paper_bgcolor\":\"white\",\"plot_bgcolor\":\"#E5ECF6\",\"polar\":{\"angularaxis\":{\"gridcolor\":\"white\",\"linecolor\":\"white\",\"ticks\":\"\"},\"bgcolor\":\"#E5ECF6\",\"radialaxis\":{\"gridcolor\":\"white\",\"linecolor\":\"white\",\"ticks\":\"\"}},\"scene\":{\"xaxis\":{\"backgroundcolor\":\"#E5ECF6\",\"gridcolor\":\"white\",\"gridwidth\":2,\"linecolor\":\"white\",\"showbackground\":true,\"ticks\":\"\",\"zerolinecolor\":\"white\"},\"yaxis\":{\"backgroundcolor\":\"#E5ECF6\",\"gridcolor\":\"white\",\"gridwidth\":2,\"linecolor\":\"white\",\"showbackground\":true,\"ticks\":\"\",\"zerolinecolor\":\"white\"},\"zaxis\":{\"backgroundcolor\":\"#E5ECF6\",\"gridcolor\":\"white\",\"gridwidth\":2,\"linecolor\":\"white\",\"showbackground\":true,\"ticks\":\"\",\"zerolinecolor\":\"white\"}},\"shapedefaults\":{\"line\":{\"color\":\"#2a3f5f\"}},\"ternary\":{\"aaxis\":{\"gridcolor\":\"white\",\"linecolor\":\"white\",\"ticks\":\"\"},\"baxis\":{\"gridcolor\":\"white\",\"linecolor\":\"white\",\"ticks\":\"\"},\"bgcolor\":\"#E5ECF6\",\"caxis\":{\"gridcolor\":\"white\",\"linecolor\":\"white\",\"ticks\":\"\"}},\"title\":{\"x\":0.05},\"xaxis\":{\"automargin\":true,\"gridcolor\":\"white\",\"linecolor\":\"white\",\"ticks\":\"\",\"title\":{\"standoff\":15},\"zerolinecolor\":\"white\",\"zerolinewidth\":2},\"yaxis\":{\"automargin\":true,\"gridcolor\":\"white\",\"linecolor\":\"white\",\"ticks\":\"\",\"title\":{\"standoff\":15},\"zerolinecolor\":\"white\",\"zerolinewidth\":2}}},\"title\":{\"text\":\"Color-Coded Map of the Country of Origin of NGOs participating at COP2015\"}},                        {\"responsive\": true}                    ).then(function(){\n",
       "                            \n",
       "var gd = document.getElementById('7a4b6909-8d2a-4db1-997f-a5b8f3cef003');\n",
       "var x = new MutationObserver(function (mutations, observer) {{\n",
       "        var display = window.getComputedStyle(gd).display;\n",
       "        if (!display || display === 'none') {{\n",
       "            console.log([gd, 'removed!']);\n",
       "            Plotly.purge(gd);\n",
       "            observer.disconnect();\n",
       "        }}\n",
       "}});\n",
       "\n",
       "// Listen for the removal of the full notebook cells\n",
       "var notebookContainer = gd.closest('#notebook-container');\n",
       "if (notebookContainer) {{\n",
       "    x.observe(notebookContainer, {childList: true});\n",
       "}}\n",
       "\n",
       "// Listen for the clearing of the current output cell\n",
       "var outputEl = gd.closest('.output');\n",
       "if (outputEl) {{\n",
       "    x.observe(outputEl, {childList: true});\n",
       "}}\n",
       "\n",
       "                        })                };                });            </script>        </div>"
      ]
     },
     "metadata": {},
     "output_type": "display_data"
    }
   ],
   "source": [
    "fig = px.choropleth(NGO_country_stats, \n",
    "                    locations=\"ISO3\",\n",
    "                    color=\"Count\", \n",
    "                    hover_name=\"Country\", # column to add to hover information\n",
    "                    color_continuous_scale=\"reds\",\n",
    "                    title = \"Color-Coded Map of the Country of Origin of NGOs participating at COP2015\",\n",
    "                    projection = \"natural earth\",\n",
    "                    range_color = [0, 250])\n",
    "\n",
    "fig.write_html(\"Color-Coded Map of the Country of Origin of NGOs participating at COP2015.html\")\n",
    "fig.show()"
   ]
  },
  {
   "cell_type": "markdown",
   "metadata": {},
   "source": [
    "## 2. IGOs"
   ]
  },
  {
   "cell_type": "code",
   "execution_count": 84,
   "metadata": {},
   "outputs": [
    {
     "data": {
      "text/html": [
       "<div>\n",
       "<style scoped>\n",
       "    .dataframe tbody tr th:only-of-type {\n",
       "        vertical-align: middle;\n",
       "    }\n",
       "\n",
       "    .dataframe tbody tr th {\n",
       "        vertical-align: top;\n",
       "    }\n",
       "\n",
       "    .dataframe thead th {\n",
       "        text-align: right;\n",
       "    }\n",
       "</style>\n",
       "<table border=\"1\" class=\"dataframe\">\n",
       "  <thead>\n",
       "    <tr style=\"text-align: right;\">\n",
       "      <th></th>\n",
       "      <th>name</th>\n",
       "      <th>entity_type</th>\n",
       "      <th>coordinator</th>\n",
       "      <th>city</th>\n",
       "      <th>country</th>\n",
       "      <th>remarks</th>\n",
       "    </tr>\n",
       "  </thead>\n",
       "  <tbody>\n",
       "    <tr>\n",
       "      <th>0</th>\n",
       "      <td>Adaptation Fund Board</td>\n",
       "      <td>Intergovernmental organizations</td>\n",
       "      <td>Mr. Mikko Antti Ollikainen</td>\n",
       "      <td>Washington DC</td>\n",
       "      <td>United States of America</td>\n",
       "      <td>NaN</td>\n",
       "    </tr>\n",
       "    <tr>\n",
       "      <th>1</th>\n",
       "      <td>African Centre of Meteorological Application f...</td>\n",
       "      <td>Intergovernmental organizations</td>\n",
       "      <td>Ms. Safia Alfa</td>\n",
       "      <td>Niamey</td>\n",
       "      <td>Niger</td>\n",
       "      <td>NaN</td>\n",
       "    </tr>\n",
       "    <tr>\n",
       "      <th>2</th>\n",
       "      <td>African Development Bank Group</td>\n",
       "      <td>Intergovernmental organizations</td>\n",
       "      <td>Ms. Louise Helen Brown</td>\n",
       "      <td>Tunis</td>\n",
       "      <td>Tunisia</td>\n",
       "      <td>NaN</td>\n",
       "    </tr>\n",
       "    <tr>\n",
       "      <th>3</th>\n",
       "      <td>African Union Commission</td>\n",
       "      <td>Intergovernmental organizations</td>\n",
       "      <td>Mr. Harsen Nyambe Nyambe</td>\n",
       "      <td>Addis Ababa</td>\n",
       "      <td>Ethiopia</td>\n",
       "      <td>NaN</td>\n",
       "    </tr>\n",
       "    <tr>\n",
       "      <th>4</th>\n",
       "      <td>African, Caribbean and Pacific Group of States</td>\n",
       "      <td>Intergovernmental organizations</td>\n",
       "      <td>Mr. Israel Olusola Ojo</td>\n",
       "      <td>Brussels</td>\n",
       "      <td>Belgium</td>\n",
       "      <td>NaN</td>\n",
       "    </tr>\n",
       "    <tr>\n",
       "      <th>...</th>\n",
       "      <td>...</td>\n",
       "      <td>...</td>\n",
       "      <td>...</td>\n",
       "      <td>...</td>\n",
       "      <td>...</td>\n",
       "      <td>...</td>\n",
       "    </tr>\n",
       "    <tr>\n",
       "      <th>62</th>\n",
       "      <td>Regional Environmental Center for Central and ...</td>\n",
       "      <td>Intergovernmental organizations</td>\n",
       "      <td>Mr. Eduardas Kazakevicius</td>\n",
       "      <td>Szentendre</td>\n",
       "      <td>Hungary</td>\n",
       "      <td>NaN</td>\n",
       "    </tr>\n",
       "    <tr>\n",
       "      <th>63</th>\n",
       "      <td>Secretaria General Iberoamericana</td>\n",
       "      <td>Intergovernmental organizations</td>\n",
       "      <td>Ms. Maria Salvadora Ortiz</td>\n",
       "      <td>Madrid</td>\n",
       "      <td>Spain</td>\n",
       "      <td>NaN</td>\n",
       "    </tr>\n",
       "    <tr>\n",
       "      <th>64</th>\n",
       "      <td>South Centre</td>\n",
       "      <td>Intergovernmental organizations</td>\n",
       "      <td>Mr. Luis Fernando Rosales</td>\n",
       "      <td>Geneva</td>\n",
       "      <td>Switzerland</td>\n",
       "      <td>NaN</td>\n",
       "    </tr>\n",
       "    <tr>\n",
       "      <th>65</th>\n",
       "      <td>Technical Centre for Agricultural and Rural Co...</td>\n",
       "      <td>Intergovernmental organizations</td>\n",
       "      <td>Mr. Oluyede Clifford Ajayi</td>\n",
       "      <td>Wageningen</td>\n",
       "      <td>Netherlands</td>\n",
       "      <td>NaN</td>\n",
       "    </tr>\n",
       "    <tr>\n",
       "      <th>66</th>\n",
       "      <td>The Regional Organization for the Conservation...</td>\n",
       "      <td>Intergovernmental organizations</td>\n",
       "      <td>Mr. Ziad Abu Gararah</td>\n",
       "      <td>Jeddah 21583</td>\n",
       "      <td>Saudi Arabia</td>\n",
       "      <td>NaN</td>\n",
       "    </tr>\n",
       "  </tbody>\n",
       "</table>\n",
       "<p>67 rows × 6 columns</p>\n",
       "</div>"
      ],
      "text/plain": [
       "                                                 name  \\\n",
       "0                               Adaptation Fund Board   \n",
       "1   African Centre of Meteorological Application f...   \n",
       "2                      African Development Bank Group   \n",
       "3                            African Union Commission   \n",
       "4      African, Caribbean and Pacific Group of States   \n",
       "..                                                ...   \n",
       "62  Regional Environmental Center for Central and ...   \n",
       "63                  Secretaria General Iberoamericana   \n",
       "64                                       South Centre   \n",
       "65  Technical Centre for Agricultural and Rural Co...   \n",
       "66  The Regional Organization for the Conservation...   \n",
       "\n",
       "                        entity_type                 coordinator  \\\n",
       "0   Intergovernmental organizations  Mr. Mikko Antti Ollikainen   \n",
       "1   Intergovernmental organizations              Ms. Safia Alfa   \n",
       "2   Intergovernmental organizations      Ms. Louise Helen Brown   \n",
       "3   Intergovernmental organizations    Mr. Harsen Nyambe Nyambe   \n",
       "4   Intergovernmental organizations      Mr. Israel Olusola Ojo   \n",
       "..                              ...                         ...   \n",
       "62  Intergovernmental organizations   Mr. Eduardas Kazakevicius   \n",
       "63  Intergovernmental organizations   Ms. Maria Salvadora Ortiz   \n",
       "64  Intergovernmental organizations   Mr. Luis Fernando Rosales   \n",
       "65  Intergovernmental organizations  Mr. Oluyede Clifford Ajayi   \n",
       "66  Intergovernmental organizations        Mr. Ziad Abu Gararah   \n",
       "\n",
       "             city                   country remarks  \n",
       "0   Washington DC  United States of America     NaN  \n",
       "1          Niamey                     Niger     NaN  \n",
       "2           Tunis                   Tunisia     NaN  \n",
       "3     Addis Ababa                  Ethiopia     NaN  \n",
       "4        Brussels                   Belgium     NaN  \n",
       "..            ...                       ...     ...  \n",
       "62     Szentendre                   Hungary     NaN  \n",
       "63         Madrid                     Spain     NaN  \n",
       "64         Geneva               Switzerland     NaN  \n",
       "65     Wageningen               Netherlands     NaN  \n",
       "66   Jeddah 21583              Saudi Arabia     NaN  \n",
       "\n",
       "[67 rows x 6 columns]"
      ]
     },
     "execution_count": 84,
     "metadata": {},
     "output_type": "execute_result"
    }
   ],
   "source": [
    "IGO = pd.read_csv(\"IGOs_COP2015_complete.csv\")\n",
    "IGO"
   ]
  },
  {
   "cell_type": "code",
   "execution_count": null,
   "metadata": {},
   "outputs": [],
   "source": [
    "# count = 67, which matches with the official count of 67"
   ]
  },
  {
   "cell_type": "code",
   "execution_count": 86,
   "metadata": {},
   "outputs": [
    {
     "data": {
      "text/html": [
       "<div>\n",
       "<style scoped>\n",
       "    .dataframe tbody tr th:only-of-type {\n",
       "        vertical-align: middle;\n",
       "    }\n",
       "\n",
       "    .dataframe tbody tr th {\n",
       "        vertical-align: top;\n",
       "    }\n",
       "\n",
       "    .dataframe thead th {\n",
       "        text-align: right;\n",
       "    }\n",
       "</style>\n",
       "<table border=\"1\" class=\"dataframe\">\n",
       "  <thead>\n",
       "    <tr style=\"text-align: right;\">\n",
       "      <th></th>\n",
       "      <th>name</th>\n",
       "      <th>entity_type</th>\n",
       "      <th>TotalMembers</th>\n",
       "      <th>MaleMembers</th>\n",
       "      <th>FemaleMembers</th>\n",
       "      <th>coordinator</th>\n",
       "      <th>city</th>\n",
       "      <th>country</th>\n",
       "    </tr>\n",
       "  </thead>\n",
       "  <tbody>\n",
       "    <tr>\n",
       "      <th>0</th>\n",
       "      <td>Adaptation Fund Board</td>\n",
       "      <td>Intergovernmental organizations</td>\n",
       "      <td>11</td>\n",
       "      <td>4</td>\n",
       "      <td>7</td>\n",
       "      <td>Mr. Mikko Antti Ollikainen</td>\n",
       "      <td>Washington DC</td>\n",
       "      <td>United States of America</td>\n",
       "    </tr>\n",
       "    <tr>\n",
       "      <th>1</th>\n",
       "      <td>African Centre of Meteorological Application f...</td>\n",
       "      <td>Intergovernmental organizations</td>\n",
       "      <td>14</td>\n",
       "      <td>10</td>\n",
       "      <td>4</td>\n",
       "      <td>Ms. Safia Alfa</td>\n",
       "      <td>Niamey</td>\n",
       "      <td>Niger</td>\n",
       "    </tr>\n",
       "    <tr>\n",
       "      <th>2</th>\n",
       "      <td>African Development Bank Group</td>\n",
       "      <td>Intergovernmental organizations</td>\n",
       "      <td>16</td>\n",
       "      <td>8</td>\n",
       "      <td>8</td>\n",
       "      <td>Ms. Louise Helen Brown</td>\n",
       "      <td>Tunis</td>\n",
       "      <td>Tunisia</td>\n",
       "    </tr>\n",
       "    <tr>\n",
       "      <th>3</th>\n",
       "      <td>African Union Commission</td>\n",
       "      <td>Intergovernmental organizations</td>\n",
       "      <td>32</td>\n",
       "      <td>18</td>\n",
       "      <td>14</td>\n",
       "      <td>Mr. Harsen Nyambe Nyambe</td>\n",
       "      <td>Addis Ababa</td>\n",
       "      <td>Ethiopia</td>\n",
       "    </tr>\n",
       "    <tr>\n",
       "      <th>4</th>\n",
       "      <td>African, Caribbean and Pacific Group of States</td>\n",
       "      <td>Intergovernmental organizations</td>\n",
       "      <td>4</td>\n",
       "      <td>2</td>\n",
       "      <td>2</td>\n",
       "      <td>Mr. Israel Olusola Ojo</td>\n",
       "      <td>Brussels</td>\n",
       "      <td>Belgium</td>\n",
       "    </tr>\n",
       "    <tr>\n",
       "      <th>...</th>\n",
       "      <td>...</td>\n",
       "      <td>...</td>\n",
       "      <td>...</td>\n",
       "      <td>...</td>\n",
       "      <td>...</td>\n",
       "      <td>...</td>\n",
       "      <td>...</td>\n",
       "      <td>...</td>\n",
       "    </tr>\n",
       "    <tr>\n",
       "      <th>67</th>\n",
       "      <td>Regional Community Forestry Training Center fo...</td>\n",
       "      <td>Intergovernmental organizations</td>\n",
       "      <td>4</td>\n",
       "      <td>2</td>\n",
       "      <td>2</td>\n",
       "      <td>Ms. Jennifer Jadin</td>\n",
       "      <td>Bangkok</td>\n",
       "      <td>Thailand</td>\n",
       "    </tr>\n",
       "    <tr>\n",
       "      <th>68</th>\n",
       "      <td>Secretaria General Iberoamericana</td>\n",
       "      <td>Intergovernmental organizations</td>\n",
       "      <td>7</td>\n",
       "      <td>3</td>\n",
       "      <td>4</td>\n",
       "      <td>Ms. Maria Salvadora Ortiz</td>\n",
       "      <td>Madrid</td>\n",
       "      <td>Spain</td>\n",
       "    </tr>\n",
       "    <tr>\n",
       "      <th>69</th>\n",
       "      <td>Secrétariat général de l’union du Maghreb Arabe</td>\n",
       "      <td>Intergovernmental organizations</td>\n",
       "      <td>1</td>\n",
       "      <td>0</td>\n",
       "      <td>1</td>\n",
       "      <td>Mme Faouzia Chakiri</td>\n",
       "      <td>Rabat</td>\n",
       "      <td>Morocco</td>\n",
       "    </tr>\n",
       "    <tr>\n",
       "      <th>70</th>\n",
       "      <td>Secretariat of the Pacific Community</td>\n",
       "      <td>Intergovernmental organizations</td>\n",
       "      <td>7</td>\n",
       "      <td>5</td>\n",
       "      <td>2</td>\n",
       "      <td>Ms. Sylvie Michelle Goyet</td>\n",
       "      <td>Noumea</td>\n",
       "      <td>France</td>\n",
       "    </tr>\n",
       "    <tr>\n",
       "      <th>71</th>\n",
       "      <td>Secretariat of the Union for the Mediterranean</td>\n",
       "      <td>Intergovernmental organizations</td>\n",
       "      <td>3</td>\n",
       "      <td>2</td>\n",
       "      <td>1</td>\n",
       "      <td>Mr. Nasser Kamel</td>\n",
       "      <td>Barcelona</td>\n",
       "      <td>Spain</td>\n",
       "    </tr>\n",
       "  </tbody>\n",
       "</table>\n",
       "<p>72 rows × 8 columns</p>\n",
       "</div>"
      ],
      "text/plain": [
       "                                                 name  \\\n",
       "0                               Adaptation Fund Board   \n",
       "1   African Centre of Meteorological Application f...   \n",
       "2                      African Development Bank Group   \n",
       "3                            African Union Commission   \n",
       "4      African, Caribbean and Pacific Group of States   \n",
       "..                                                ...   \n",
       "67  Regional Community Forestry Training Center fo...   \n",
       "68                  Secretaria General Iberoamericana   \n",
       "69    Secrétariat général de l’union du Maghreb Arabe   \n",
       "70               Secretariat of the Pacific Community   \n",
       "71     Secretariat of the Union for the Mediterranean   \n",
       "\n",
       "                        entity_type  TotalMembers  MaleMembers  FemaleMembers  \\\n",
       "0   Intergovernmental organizations            11            4              7   \n",
       "1   Intergovernmental organizations            14           10              4   \n",
       "2   Intergovernmental organizations            16            8              8   \n",
       "3   Intergovernmental organizations            32           18             14   \n",
       "4   Intergovernmental organizations             4            2              2   \n",
       "..                              ...           ...          ...            ...   \n",
       "67  Intergovernmental organizations             4            2              2   \n",
       "68  Intergovernmental organizations             7            3              4   \n",
       "69  Intergovernmental organizations             1            0              1   \n",
       "70  Intergovernmental organizations             7            5              2   \n",
       "71  Intergovernmental organizations             3            2              1   \n",
       "\n",
       "                   coordinator           city                   country  \n",
       "0   Mr. Mikko Antti Ollikainen  Washington DC  United States of America  \n",
       "1               Ms. Safia Alfa         Niamey                     Niger  \n",
       "2       Ms. Louise Helen Brown          Tunis                   Tunisia  \n",
       "3     Mr. Harsen Nyambe Nyambe    Addis Ababa                  Ethiopia  \n",
       "4       Mr. Israel Olusola Ojo       Brussels                   Belgium  \n",
       "..                         ...            ...                       ...  \n",
       "67          Ms. Jennifer Jadin        Bangkok                  Thailand  \n",
       "68   Ms. Maria Salvadora Ortiz         Madrid                     Spain  \n",
       "69         Mme Faouzia Chakiri          Rabat                   Morocco  \n",
       "70   Ms. Sylvie Michelle Goyet         Noumea                    France  \n",
       "71            Mr. Nasser Kamel      Barcelona                     Spain  \n",
       "\n",
       "[72 rows x 8 columns]"
      ]
     },
     "execution_count": 86,
     "metadata": {},
     "output_type": "execute_result"
    }
   ],
   "source": [
    "IGO_c2019 = pd.read_csv(\"IGOs_COP2019_complete.csv\")\n",
    "IGO_c2019"
   ]
  },
  {
   "cell_type": "code",
   "execution_count": null,
   "metadata": {},
   "outputs": [],
   "source": [
    "# count = 72, which is less than the official count of 76"
   ]
  },
  {
   "cell_type": "code",
   "execution_count": 87,
   "metadata": {},
   "outputs": [
    {
     "data": {
      "image/png": "[encoded data removed]",
      "text/plain": [
       "<Figure size 1440x720 with 1 Axes>"
      ]
     },
     "metadata": {},
     "output_type": "display_data"
    }
   ],
   "source": [
    "L1 = set(list(IGO.name))\n",
    "L2 = set(list(IGO_c2019.name))\n",
    "Ab = L1 - L2\n",
    "aB = L2 - L1\n",
    "AB = L1 & L2\n",
    "\n",
    "plt.figure(figsize=(20,10))\n",
    "venn2(subsets = (len(Ab), len(aB), len(AB)), set_labels = ('COP2015', 'COP2019'), set_colors=('purple', 'skyblue'), alpha = 0.5)\n",
    "plt.title(\"Venn Diagram of Participating IGOs in COP2015 vs COP2019 \\n (n1 = 67, n2 = 72)\")\n",
    "plt.savefig(\"IGO_Venn_15_19\", dpi = 400, facecolor = 'white', bbox_inches = 'tight')"
   ]
  },
  {
   "cell_type": "markdown",
   "metadata": {},
   "source": [
    "### 2.1 Country Statistics"
   ]
  },
  {
   "cell_type": "code",
   "execution_count": 88,
   "metadata": {},
   "outputs": [],
   "source": [
    "IGO_country_stats = pd.DataFrame(IGO.country.value_counts())\n",
    "IGO_country_stats.reset_index(level=0, inplace=True)\n",
    "IGO_country_stats.columns = [\"Country\", \"Count\"]"
   ]
  },
  {
   "cell_type": "code",
   "execution_count": 89,
   "metadata": {},
   "outputs": [
    {
     "data": {
      "text/html": [
       "<div>\n",
       "<style scoped>\n",
       "    .dataframe tbody tr th:only-of-type {\n",
       "        vertical-align: middle;\n",
       "    }\n",
       "\n",
       "    .dataframe tbody tr th {\n",
       "        vertical-align: top;\n",
       "    }\n",
       "\n",
       "    .dataframe thead th {\n",
       "        text-align: right;\n",
       "    }\n",
       "</style>\n",
       "<table border=\"1\" class=\"dataframe\">\n",
       "  <thead>\n",
       "    <tr style=\"text-align: right;\">\n",
       "      <th></th>\n",
       "      <th>Country</th>\n",
       "      <th>Count</th>\n",
       "    </tr>\n",
       "  </thead>\n",
       "  <tbody>\n",
       "    <tr>\n",
       "      <th>0</th>\n",
       "      <td>Switzerland</td>\n",
       "      <td>6</td>\n",
       "    </tr>\n",
       "    <tr>\n",
       "      <th>1</th>\n",
       "      <td>France</td>\n",
       "      <td>6</td>\n",
       "    </tr>\n",
       "    <tr>\n",
       "      <th>2</th>\n",
       "      <td>Finland</td>\n",
       "      <td>4</td>\n",
       "    </tr>\n",
       "    <tr>\n",
       "      <th>3</th>\n",
       "      <td>United Kingdom of Great Britain and Northern I...</td>\n",
       "      <td>4</td>\n",
       "    </tr>\n",
       "    <tr>\n",
       "      <th>4</th>\n",
       "      <td>Austria</td>\n",
       "      <td>3</td>\n",
       "    </tr>\n",
       "  </tbody>\n",
       "</table>\n",
       "</div>"
      ],
      "text/plain": [
       "                                             Country  Count\n",
       "0                                        Switzerland      6\n",
       "1                                             France      6\n",
       "2                                            Finland      4\n",
       "3  United Kingdom of Great Britain and Northern I...      4\n",
       "4                                            Austria      3"
      ]
     },
     "execution_count": 89,
     "metadata": {},
     "output_type": "execute_result"
    }
   ],
   "source": [
    "IGO_country_stats.head()"
   ]
  },
  {
   "cell_type": "code",
   "execution_count": 90,
   "metadata": {},
   "outputs": [],
   "source": [
    "IGO_country_stats.to_csv(\"2015_IGO_country_stats.csv\")"
   ]
  },
  {
   "cell_type": "markdown",
   "metadata": {},
   "source": [
    "### 2.2 City Statistics"
   ]
  },
  {
   "cell_type": "code",
   "execution_count": 91,
   "metadata": {},
   "outputs": [],
   "source": [
    "IGO_city_stats = pd.DataFrame(IGO.city.value_counts())\n",
    "IGO_city_stats.reset_index(level=0, inplace=True)\n",
    "IGO_city_stats.columns = [\"City\", \"Count\"]"
   ]
  },
  {
   "cell_type": "code",
   "execution_count": 92,
   "metadata": {},
   "outputs": [
    {
     "data": {
      "text/html": [
       "<div>\n",
       "<style scoped>\n",
       "    .dataframe tbody tr th:only-of-type {\n",
       "        vertical-align: middle;\n",
       "    }\n",
       "\n",
       "    .dataframe tbody tr th {\n",
       "        vertical-align: top;\n",
       "    }\n",
       "\n",
       "    .dataframe thead th {\n",
       "        text-align: right;\n",
       "    }\n",
       "</style>\n",
       "<table border=\"1\" class=\"dataframe\">\n",
       "  <thead>\n",
       "    <tr style=\"text-align: right;\">\n",
       "      <th></th>\n",
       "      <th>City</th>\n",
       "      <th>Count</th>\n",
       "    </tr>\n",
       "  </thead>\n",
       "  <tbody>\n",
       "    <tr>\n",
       "      <th>0</th>\n",
       "      <td>Paris</td>\n",
       "      <td>4</td>\n",
       "    </tr>\n",
       "    <tr>\n",
       "      <th>1</th>\n",
       "      <td>Geneva</td>\n",
       "      <td>4</td>\n",
       "    </tr>\n",
       "    <tr>\n",
       "      <th>2</th>\n",
       "      <td>London</td>\n",
       "      <td>3</td>\n",
       "    </tr>\n",
       "    <tr>\n",
       "      <th>3</th>\n",
       "      <td>Helsinki</td>\n",
       "      <td>2</td>\n",
       "    </tr>\n",
       "    <tr>\n",
       "      <th>4</th>\n",
       "      <td>Vienna</td>\n",
       "      <td>2</td>\n",
       "    </tr>\n",
       "  </tbody>\n",
       "</table>\n",
       "</div>"
      ],
      "text/plain": [
       "       City  Count\n",
       "0     Paris      4\n",
       "1    Geneva      4\n",
       "2    London      3\n",
       "3  Helsinki      2\n",
       "4    Vienna      2"
      ]
     },
     "execution_count": 92,
     "metadata": {},
     "output_type": "execute_result"
    }
   ],
   "source": [
    "IGO_city_stats.head()"
   ]
  },
  {
   "cell_type": "code",
   "execution_count": 93,
   "metadata": {},
   "outputs": [],
   "source": [
    "IGO_city_stats.to_csv(\"2015_IGO_city_stats.csv\", index = False)"
   ]
  },
  {
   "cell_type": "markdown",
   "metadata": {},
   "source": [
    "### 2.3 Data Visualizations (barcharts) for Country and City Statistics (IGO)"
   ]
  },
  {
   "cell_type": "code",
   "execution_count": 97,
   "metadata": {},
   "outputs": [
    {
     "data": {
      "image/png": "[encoded data removed]",
      "text/plain": [
       "<Figure size 1440x720 with 2 Axes>"
      ]
     },
     "metadata": {
      "needs_background": "light"
     },
     "output_type": "display_data"
    }
   ],
   "source": [
    "plt.figure(figsize=(20,10))\n",
    "plt.subplot(1, 2, 1)\n",
    "plt.gca().invert_yaxis()\n",
    "plt.barh(IGO_country_stats.Country[0:19], IGO_country_stats.Count[0:19], color = [\"red\"])\n",
    "plt.title(\"COP2015 IGO Country Statistics \\n(first 20 most common countries)\")\n",
    "plt.xlabel(\"Number of Organizations\")\n",
    "plt.xticks(np.arange(0,7,1))\n",
    "\n",
    "plt.subplot(1, 2, 2)\n",
    "plt.gca().invert_yaxis()\n",
    "plt.barh(IGO_city_stats.City[0:19], IGO_city_stats.Count[0:19], color = [\"purple\"])\n",
    "plt.title(\"COP2015 IGO City Statistics \\n(first 20 most common cities)\")\n",
    "plt.xlabel(\"Number of Organizations\")\n",
    "plt.xticks(np.arange(0,5,1))\n",
    "plt.savefig(\"COP2015_IGO_country_city_stats.png\", facecolor = \"white\")"
   ]
  },
  {
   "cell_type": "markdown",
   "metadata": {},
   "source": [
    "### Country Map"
   ]
  },
  {
   "cell_type": "code",
   "execution_count": 98,
   "metadata": {},
   "outputs": [],
   "source": [
    "IGO_country_stats[\"ISO3\"] = [country_name_to_country_alpha3_(country) for country in list(IGO_country_stats.Country)]"
   ]
  },
  {
   "cell_type": "code",
   "execution_count": 99,
   "metadata": {},
   "outputs": [
    {
     "data": {
      "text/html": [
       "<div>\n",
       "<style scoped>\n",
       "    .dataframe tbody tr th:only-of-type {\n",
       "        vertical-align: middle;\n",
       "    }\n",
       "\n",
       "    .dataframe tbody tr th {\n",
       "        vertical-align: top;\n",
       "    }\n",
       "\n",
       "    .dataframe thead th {\n",
       "        text-align: right;\n",
       "    }\n",
       "</style>\n",
       "<table border=\"1\" class=\"dataframe\">\n",
       "  <thead>\n",
       "    <tr style=\"text-align: right;\">\n",
       "      <th></th>\n",
       "      <th>Country</th>\n",
       "      <th>Count</th>\n",
       "      <th>ISO3</th>\n",
       "    </tr>\n",
       "  </thead>\n",
       "  <tbody>\n",
       "    <tr>\n",
       "      <th>14</th>\n",
       "      <td>Republic of Korea</td>\n",
       "      <td>1</td>\n",
       "      <td></td>\n",
       "    </tr>\n",
       "    <tr>\n",
       "      <th>37</th>\n",
       "      <td>Venezuela (Bolivarian Republic of)</td>\n",
       "      <td>1</td>\n",
       "      <td></td>\n",
       "    </tr>\n",
       "  </tbody>\n",
       "</table>\n",
       "</div>"
      ],
      "text/plain": [
       "                               Country  Count ISO3\n",
       "14                   Republic of Korea      1     \n",
       "37  Venezuela (Bolivarian Republic of)      1     "
      ]
     },
     "execution_count": 99,
     "metadata": {},
     "output_type": "execute_result"
    }
   ],
   "source": [
    "IGO_country_stats[IGO_country_stats.ISO3==\"\"]"
   ]
  },
  {
   "cell_type": "markdown",
   "metadata": {},
   "source": [
    "It seems that 3 countries were not identified by the `country_name_to_alpha3` function. These are:\n",
    "* Republic of Korea\n",
    "* Bolivia\n",
    "* Venezuela\n",
    "\n",
    "We will manually compute the ISO3 for these countries as follows:"
   ]
  },
  {
   "cell_type": "code",
   "execution_count": 100,
   "metadata": {},
   "outputs": [],
   "source": [
    "IGO_country_stats.loc[[14, 37], \"ISO3\"] = [\"KOR\", \"VEN\"]"
   ]
  },
  {
   "cell_type": "code",
   "execution_count": 101,
   "metadata": {},
   "outputs": [
    {
     "data": {
      "text/html": [
       "<div>\n",
       "<style scoped>\n",
       "    .dataframe tbody tr th:only-of-type {\n",
       "        vertical-align: middle;\n",
       "    }\n",
       "\n",
       "    .dataframe tbody tr th {\n",
       "        vertical-align: top;\n",
       "    }\n",
       "\n",
       "    .dataframe thead th {\n",
       "        text-align: right;\n",
       "    }\n",
       "</style>\n",
       "<table border=\"1\" class=\"dataframe\">\n",
       "  <thead>\n",
       "    <tr style=\"text-align: right;\">\n",
       "      <th></th>\n",
       "      <th>Country</th>\n",
       "      <th>Count</th>\n",
       "      <th>ISO3</th>\n",
       "    </tr>\n",
       "  </thead>\n",
       "  <tbody>\n",
       "    <tr>\n",
       "      <th>38</th>\n",
       "      <td>Fiji</td>\n",
       "      <td>1</td>\n",
       "      <td>FJI</td>\n",
       "    </tr>\n",
       "    <tr>\n",
       "      <th>39</th>\n",
       "      <td>Nigeria</td>\n",
       "      <td>1</td>\n",
       "      <td>NGA</td>\n",
       "    </tr>\n",
       "    <tr>\n",
       "      <th>40</th>\n",
       "      <td>Mauritius</td>\n",
       "      <td>1</td>\n",
       "      <td>MUS</td>\n",
       "    </tr>\n",
       "    <tr>\n",
       "      <th>41</th>\n",
       "      <td>Hungary</td>\n",
       "      <td>1</td>\n",
       "      <td>HUN</td>\n",
       "    </tr>\n",
       "    <tr>\n",
       "      <th>42</th>\n",
       "      <td>Niger</td>\n",
       "      <td>1</td>\n",
       "      <td>NER</td>\n",
       "    </tr>\n",
       "  </tbody>\n",
       "</table>\n",
       "</div>"
      ],
      "text/plain": [
       "      Country  Count ISO3\n",
       "38       Fiji      1  FJI\n",
       "39    Nigeria      1  NGA\n",
       "40  Mauritius      1  MUS\n",
       "41    Hungary      1  HUN\n",
       "42      Niger      1  NER"
      ]
     },
     "execution_count": 101,
     "metadata": {},
     "output_type": "execute_result"
    }
   ],
   "source": [
    "IGO_country_stats.tail()"
   ]
  },
  {
   "cell_type": "code",
   "execution_count": 107,
   "metadata": {},
   "outputs": [],
   "source": [
    "IGO_country_stats.to_csv(\"2015_IGO_country_stats.csv\")"
   ]
  },
  {
   "cell_type": "code",
   "execution_count": 102,
   "metadata": {},
   "outputs": [],
   "source": [
    "IGO_city_stats.to_csv(\"2015_IGO_city_stats.csv\")"
   ]
  },
  {
   "cell_type": "code",
   "execution_count": 104,
   "metadata": {},
   "outputs": [
    {
     "data": {
      "application/vnd.plotly.v1+json": {
       "config": {
        "plotlyServerURL": "https://plot.ly"
       },
       "data": [
        {
         "coloraxis": "coloraxis",
         "geo": "geo",
         "hovertemplate": "<b>%{hovertext}</b><br><br>ISO3=%{location}<br>Count=%{z}<extra></extra>",
         "hovertext": [
          "Switzerland",
          "France",
          "Finland",
          "United Kingdom of Great Britain and Northern Ireland",
          "Austria",
          "Burkina Faso",
          "Indonesia",
          "Netherlands",
          "Tunisia",
          "United States of America",
          "Saudi Arabia",
          "Philippines",
          "Brazil",
          "Thailand",
          "Republic of Korea",
          "Nepal",
          "Kuwait",
          "Kenya",
          "Ethiopia",
          "Luxembourg",
          "Germany",
          "Belize",
          "United Republic of Tanzania",
          "Sweden",
          "Spain",
          "Costa Rica",
          "Belgium",
          "China",
          "Peru",
          "Canada",
          "Togo",
          "United Arab Emirates",
          "Egypt",
          "Malta",
          "Guyana",
          "Cabo Verde",
          "Saint Lucia",
          "Venezuela (Bolivarian Republic of)",
          "Fiji",
          "Nigeria",
          "Mauritius",
          "Hungary",
          "Niger"
         ],
         "locations": [
          "CHE",
          "FRA",
          "FIN",
          "GBR",
          "AUT",
          "BFA",
          "IDN",
          "NLD",
          "TUN",
          "USA",
          "SAU",
          "PHL",
          "BRA",
          "THA",
          "KOR",
          "NPL",
          "KWT",
          "KEN",
          "ETH",
          "LUX",
          "DEU",
          "BLZ",
          "TZA",
          "SWE",
          "ESP",
          "CRI",
          "BEL",
          "CHN",
          "PER",
          "CAN",
          "TGO",
          "ARE",
          "EGY",
          "MLT",
          "GUY",
          "CPV",
          "LCA",
          "VEN",
          "FJI",
          "NGA",
          "MUS",
          "HUN",
          "NER"
         ],
         "name": "",
         "type": "choropleth",
         "z": [
          6,
          6,
          4,
          4,
          3,
          2,
          2,
          2,
          2,
          2,
          2,
          1,
          1,
          1,
          1,
          1,
          1,
          1,
          1,
          1,
          1,
          1,
          1,
          1,
          1,
          1,
          1,
          1,
          1,
          1,
          1,
          1,
          1,
          1,
          1,
          1,
          1,
          1,
          1,
          1,
          1,
          1,
          1
         ]
        }
       ],
       "layout": {
        "coloraxis": {
         "colorbar": {
          "title": {
           "text": "Count"
          }
         },
         "colorscale": [
          [
           0,
           "rgb(247,252,245)"
          ],
          [
           0.125,
           "rgb(229,245,224)"
          ],
          [
           0.25,
           "rgb(199,233,192)"
          ],
          [
           0.375,
           "rgb(161,217,155)"
          ],
          [
           0.5,
           "rgb(116,196,118)"
          ],
          [
           0.625,
           "rgb(65,171,93)"
          ],
          [
           0.75,
           "rgb(35,139,69)"
          ],
          [
           0.875,
           "rgb(0,109,44)"
          ],
          [
           1,
           "rgb(0,68,27)"
          ]
         ]
        },
        "geo": {
         "center": {},
         "domain": {
          "x": [
           0,
           1
          ],
          "y": [
           0,
           1
          ]
         },
         "projection": {
          "type": "natural earth"
         }
        },
        "legend": {
         "tracegroupgap": 0
        },
        "template": {
         "data": {
          "bar": [
           {
            "error_x": {
             "color": "#2a3f5f"
            },
            "error_y": {
             "color": "#2a3f5f"
            },
            "marker": {
             "line": {
              "color": "#E5ECF6",
              "width": 0.5
             },
             "pattern": {
              "fillmode": "overlay",
              "size": 10,
              "solidity": 0.2
             }
            },
            "type": "bar"
           }
          ],
          "barpolar": [
           {
            "marker": {
             "line": {
              "color": "#E5ECF6",
              "width": 0.5
             },
             "pattern": {
              "fillmode": "overlay",
              "size": 10,
              "solidity": 0.2
             }
            },
            "type": "barpolar"
           }
          ],
          "carpet": [
           {
            "aaxis": {
             "endlinecolor": "#2a3f5f",
             "gridcolor": "white",
             "linecolor": "white",
             "minorgridcolor": "white",
             "startlinecolor": "#2a3f5f"
            },
            "baxis": {
             "endlinecolor": "#2a3f5f",
             "gridcolor": "white",
             "linecolor": "white",
             "minorgridcolor": "white",
             "startlinecolor": "#2a3f5f"
            },
            "type": "carpet"
           }
          ],
          "choropleth": [
           {
            "colorbar": {
             "outlinewidth": 0,
             "ticks": ""
            },
            "type": "choropleth"
           }
          ],
          "contour": [
           {
            "colorbar": {
             "outlinewidth": 0,
             "ticks": ""
            },
            "colorscale": [
             [
              0,
              "#0d0887"
             ],
             [
              0.1111111111111111,
              "#46039f"
             ],
             [
              0.2222222222222222,
              "#7201a8"
             ],
             [
              0.3333333333333333,
              "#9c179e"
             ],
             [
              0.4444444444444444,
              "#bd3786"
             ],
             [
              0.5555555555555556,
              "#d8576b"
             ],
             [
              0.6666666666666666,
              "#ed7953"
             ],
             [
              0.7777777777777778,
              "#fb9f3a"
             ],
             [
              0.8888888888888888,
              "#fdca26"
             ],
             [
              1,
              "#f0f921"
             ]
            ],
            "type": "contour"
           }
          ],
          "contourcarpet": [
           {
            "colorbar": {
             "outlinewidth": 0,
             "ticks": ""
            },
            "type": "contourcarpet"
           }
          ],
          "heatmap": [
           {
            "colorbar": {
             "outlinewidth": 0,
             "ticks": ""
            },
            "colorscale": [
             [
              0,
              "#0d0887"
             ],
             [
              0.1111111111111111,
              "#46039f"
             ],
             [
              0.2222222222222222,
              "#7201a8"
             ],
             [
              0.3333333333333333,
              "#9c179e"
             ],
             [
              0.4444444444444444,
              "#bd3786"
             ],
             [
              0.5555555555555556,
              "#d8576b"
             ],
             [
              0.6666666666666666,
              "#ed7953"
             ],
             [
              0.7777777777777778,
              "#fb9f3a"
             ],
             [
              0.8888888888888888,
              "#fdca26"
             ],
             [
              1,
              "#f0f921"
             ]
            ],
            "type": "heatmap"
           }
          ],
          "heatmapgl": [
           {
            "colorbar": {
             "outlinewidth": 0,
             "ticks": ""
            },
            "colorscale": [
             [
              0,
              "#0d0887"
             ],
             [
              0.1111111111111111,
              "#46039f"
             ],
             [
              0.2222222222222222,
              "#7201a8"
             ],
             [
              0.3333333333333333,
              "#9c179e"
             ],
             [
              0.4444444444444444,
              "#bd3786"
             ],
             [
              0.5555555555555556,
              "#d8576b"
             ],
             [
              0.6666666666666666,
              "#ed7953"
             ],
             [
              0.7777777777777778,
              "#fb9f3a"
             ],
             [
              0.8888888888888888,
              "#fdca26"
             ],
             [
              1,
              "#f0f921"
             ]
            ],
            "type": "heatmapgl"
           }
          ],
          "histogram": [
           {
            "marker": {
             "pattern": {
              "fillmode": "overlay",
              "size": 10,
              "solidity": 0.2
             }
            },
            "type": "histogram"
           }
          ],
          "histogram2d": [
           {
            "colorbar": {
             "outlinewidth": 0,
             "ticks": ""
            },
            "colorscale": [
             [
              0,
              "#0d0887"
             ],
             [
              0.1111111111111111,
              "#46039f"
             ],
             [
              0.2222222222222222,
              "#7201a8"
             ],
             [
              0.3333333333333333,
              "#9c179e"
             ],
             [
              0.4444444444444444,
              "#bd3786"
             ],
             [
              0.5555555555555556,
              "#d8576b"
             ],
             [
              0.6666666666666666,
              "#ed7953"
             ],
             [
              0.7777777777777778,
              "#fb9f3a"
             ],
             [
              0.8888888888888888,
              "#fdca26"
             ],
             [
              1,
              "#f0f921"
             ]
            ],
            "type": "histogram2d"
           }
          ],
          "histogram2dcontour": [
           {
            "colorbar": {
             "outlinewidth": 0,
             "ticks": ""
            },
            "colorscale": [
             [
              0,
              "#0d0887"
             ],
             [
              0.1111111111111111,
              "#46039f"
             ],
             [
              0.2222222222222222,
              "#7201a8"
             ],
             [
              0.3333333333333333,
              "#9c179e"
             ],
             [
              0.4444444444444444,
              "#bd3786"
             ],
             [
              0.5555555555555556,
              "#d8576b"
             ],
             [
              0.6666666666666666,
              "#ed7953"
             ],
             [
              0.7777777777777778,
              "#fb9f3a"
             ],
             [
              0.8888888888888888,
              "#fdca26"
             ],
             [
              1,
              "#f0f921"
             ]
            ],
            "type": "histogram2dcontour"
           }
          ],
          "mesh3d": [
           {
            "colorbar": {
             "outlinewidth": 0,
             "ticks": ""
            },
            "type": "mesh3d"
           }
          ],
          "parcoords": [
           {
            "line": {
             "colorbar": {
              "outlinewidth": 0,
              "ticks": ""
             }
            },
            "type": "parcoords"
           }
          ],
          "pie": [
           {
            "automargin": true,
            "type": "pie"
           }
          ],
          "scatter": [
           {
            "marker": {
             "colorbar": {
              "outlinewidth": 0,
              "ticks": ""
             }
            },
            "type": "scatter"
           }
          ],
          "scatter3d": [
           {
            "line": {
             "colorbar": {
              "outlinewidth": 0,
              "ticks": ""
             }
            },
            "marker": {
             "colorbar": {
              "outlinewidth": 0,
              "ticks": ""
             }
            },
            "type": "scatter3d"
           }
          ],
          "scattercarpet": [
           {
            "marker": {
             "colorbar": {
              "outlinewidth": 0,
              "ticks": ""
             }
            },
            "type": "scattercarpet"
           }
          ],
          "scattergeo": [
           {
            "marker": {
             "colorbar": {
              "outlinewidth": 0,
              "ticks": ""
             }
            },
            "type": "scattergeo"
           }
          ],
          "scattergl": [
           {
            "marker": {
             "colorbar": {
              "outlinewidth": 0,
              "ticks": ""
             }
            },
            "type": "scattergl"
           }
          ],
          "scattermapbox": [
           {
            "marker": {
             "colorbar": {
              "outlinewidth": 0,
              "ticks": ""
             }
            },
            "type": "scattermapbox"
           }
          ],
          "scatterpolar": [
           {
            "marker": {
             "colorbar": {
              "outlinewidth": 0,
              "ticks": ""
             }
            },
            "type": "scatterpolar"
           }
          ],
          "scatterpolargl": [
           {
            "marker": {
             "colorbar": {
              "outlinewidth": 0,
              "ticks": ""
             }
            },
            "type": "scatterpolargl"
           }
          ],
          "scatterternary": [
           {
            "marker": {
             "colorbar": {
              "outlinewidth": 0,
              "ticks": ""
             }
            },
            "type": "scatterternary"
           }
          ],
          "surface": [
           {
            "colorbar": {
             "outlinewidth": 0,
             "ticks": ""
            },
            "colorscale": [
             [
              0,
              "#0d0887"
             ],
             [
              0.1111111111111111,
              "#46039f"
             ],
             [
              0.2222222222222222,
              "#7201a8"
             ],
             [
              0.3333333333333333,
              "#9c179e"
             ],
             [
              0.4444444444444444,
              "#bd3786"
             ],
             [
              0.5555555555555556,
              "#d8576b"
             ],
             [
              0.6666666666666666,
              "#ed7953"
             ],
             [
              0.7777777777777778,
              "#fb9f3a"
             ],
             [
              0.8888888888888888,
              "#fdca26"
             ],
             [
              1,
              "#f0f921"
             ]
            ],
            "type": "surface"
           }
          ],
          "table": [
           {
            "cells": {
             "fill": {
              "color": "#EBF0F8"
             },
             "line": {
              "color": "white"
             }
            },
            "header": {
             "fill": {
              "color": "#C8D4E3"
             },
             "line": {
              "color": "white"
             }
            },
            "type": "table"
           }
          ]
         },
         "layout": {
          "annotationdefaults": {
           "arrowcolor": "#2a3f5f",
           "arrowhead": 0,
           "arrowwidth": 1
          },
          "autotypenumbers": "strict",
          "coloraxis": {
           "colorbar": {
            "outlinewidth": 0,
            "ticks": ""
           }
          },
          "colorscale": {
           "diverging": [
            [
             0,
             "#8e0152"
            ],
            [
             0.1,
             "#c51b7d"
            ],
            [
             0.2,
             "#de77ae"
            ],
            [
             0.3,
             "#f1b6da"
            ],
            [
             0.4,
             "#fde0ef"
            ],
            [
             0.5,
             "#f7f7f7"
            ],
            [
             0.6,
             "#e6f5d0"
            ],
            [
             0.7,
             "#b8e186"
            ],
            [
             0.8,
             "#7fbc41"
            ],
            [
             0.9,
             "#4d9221"
            ],
            [
             1,
             "#276419"
            ]
           ],
           "sequential": [
            [
             0,
             "#0d0887"
            ],
            [
             0.1111111111111111,
             "#46039f"
            ],
            [
             0.2222222222222222,
             "#7201a8"
            ],
            [
             0.3333333333333333,
             "#9c179e"
            ],
            [
             0.4444444444444444,
             "#bd3786"
            ],
            [
             0.5555555555555556,
             "#d8576b"
            ],
            [
             0.6666666666666666,
             "#ed7953"
            ],
            [
             0.7777777777777778,
             "#fb9f3a"
            ],
            [
             0.8888888888888888,
             "#fdca26"
            ],
            [
             1,
             "#f0f921"
            ]
           ],
           "sequentialminus": [
            [
             0,
             "#0d0887"
            ],
            [
             0.1111111111111111,
             "#46039f"
            ],
            [
             0.2222222222222222,
             "#7201a8"
            ],
            [
             0.3333333333333333,
             "#9c179e"
            ],
            [
             0.4444444444444444,
             "#bd3786"
            ],
            [
             0.5555555555555556,
             "#d8576b"
            ],
            [
             0.6666666666666666,
             "#ed7953"
            ],
            [
             0.7777777777777778,
             "#fb9f3a"
            ],
            [
             0.8888888888888888,
             "#fdca26"
            ],
            [
             1,
             "#f0f921"
            ]
           ]
          },
          "colorway": [
           "#636efa",
           "#EF553B",
           "#00cc96",
           "#ab63fa",
           "#FFA15A",
           "#19d3f3",
           "#FF6692",
           "#B6E880",
           "#FF97FF",
           "#FECB52"
          ],
          "font": {
           "color": "#2a3f5f"
          },
          "geo": {
           "bgcolor": "white",
           "lakecolor": "white",
           "landcolor": "#E5ECF6",
           "showlakes": true,
           "showland": true,
           "subunitcolor": "white"
          },
          "hoverlabel": {
           "align": "left"
          },
          "hovermode": "closest",
          "mapbox": {
           "style": "light"
          },
          "paper_bgcolor": "white",
          "plot_bgcolor": "#E5ECF6",
          "polar": {
           "angularaxis": {
            "gridcolor": "white",
            "linecolor": "white",
            "ticks": ""
           },
           "bgcolor": "#E5ECF6",
           "radialaxis": {
            "gridcolor": "white",
            "linecolor": "white",
            "ticks": ""
           }
          },
          "scene": {
           "xaxis": {
            "backgroundcolor": "#E5ECF6",
            "gridcolor": "white",
            "gridwidth": 2,
            "linecolor": "white",
            "showbackground": true,
            "ticks": "",
            "zerolinecolor": "white"
           },
           "yaxis": {
            "backgroundcolor": "#E5ECF6",
            "gridcolor": "white",
            "gridwidth": 2,
            "linecolor": "white",
            "showbackground": true,
            "ticks": "",
            "zerolinecolor": "white"
           },
           "zaxis": {
            "backgroundcolor": "#E5ECF6",
            "gridcolor": "white",
            "gridwidth": 2,
            "linecolor": "white",
            "showbackground": true,
            "ticks": "",
            "zerolinecolor": "white"
           }
          },
          "shapedefaults": {
           "line": {
            "color": "#2a3f5f"
           }
          },
          "ternary": {
           "aaxis": {
            "gridcolor": "white",
            "linecolor": "white",
            "ticks": ""
           },
           "baxis": {
            "gridcolor": "white",
            "linecolor": "white",
            "ticks": ""
           },
           "bgcolor": "#E5ECF6",
           "caxis": {
            "gridcolor": "white",
            "linecolor": "white",
            "ticks": ""
           }
          },
          "title": {
           "x": 0.05
          },
          "xaxis": {
           "automargin": true,
           "gridcolor": "white",
           "linecolor": "white",
           "ticks": "",
           "title": {
            "standoff": 15
           },
           "zerolinecolor": "white",
           "zerolinewidth": 2
          },
          "yaxis": {
           "automargin": true,
           "gridcolor": "white",
           "linecolor": "white",
           "ticks": "",
           "title": {
            "standoff": 15
           },
           "zerolinecolor": "white",
           "zerolinewidth": 2
          }
         }
        },
        "title": {
         "text": "Color-Coded Map of the Country of Origin of IGOs participating at COP2015"
        }
       }
      },
      "text/html": [
       "<div>                            <div id=\"ff8a5b99-a03b-4afd-8b1a-3fafb915c3d7\" class=\"plotly-graph-div\" style=\"height:525px; width:100%;\"></div>            <script type=\"text/javascript\">                require([\"plotly\"], function(Plotly) {                    window.PLOTLYENV=window.PLOTLYENV || {};                                    if (document.getElementById(\"ff8a5b99-a03b-4afd-8b1a-3fafb915c3d7\")) {                    Plotly.newPlot(                        \"ff8a5b99-a03b-4afd-8b1a-3fafb915c3d7\",                        [{\"coloraxis\":\"coloraxis\",\"geo\":\"geo\",\"hovertemplate\":\"<b>%{hovertext}</b><br><br>ISO3=%{location}<br>Count=%{z}<extra></extra>\",\"hovertext\":[\"Switzerland\",\"France\",\"Finland\",\"United Kingdom of Great Britain and Northern Ireland\",\"Austria\",\"Burkina Faso\",\"Indonesia\",\"Netherlands\",\"Tunisia\",\"United States of America\",\"Saudi Arabia\",\"Philippines\",\"Brazil\",\"Thailand\",\"Republic of Korea\",\"Nepal\",\"Kuwait\",\"Kenya\",\"Ethiopia\",\"Luxembourg\",\"Germany\",\"Belize\",\"United Republic of Tanzania\",\"Sweden\",\"Spain\",\"Costa Rica\",\"Belgium\",\"China\",\"Peru\",\"Canada\",\"Togo\",\"United Arab Emirates\",\"Egypt\",\"Malta\",\"Guyana\",\"Cabo Verde\",\"Saint Lucia\",\"Venezuela (Bolivarian Republic of)\",\"Fiji\",\"Nigeria\",\"Mauritius\",\"Hungary\",\"Niger\"],\"locations\":[\"CHE\",\"FRA\",\"FIN\",\"GBR\",\"AUT\",\"BFA\",\"IDN\",\"NLD\",\"TUN\",\"USA\",\"SAU\",\"PHL\",\"BRA\",\"THA\",\"KOR\",\"NPL\",\"KWT\",\"KEN\",\"ETH\",\"LUX\",\"DEU\",\"BLZ\",\"TZA\",\"SWE\",\"ESP\",\"CRI\",\"BEL\",\"CHN\",\"PER\",\"CAN\",\"TGO\",\"ARE\",\"EGY\",\"MLT\",\"GUY\",\"CPV\",\"LCA\",\"VEN\",\"FJI\",\"NGA\",\"MUS\",\"HUN\",\"NER\"],\"name\":\"\",\"type\":\"choropleth\",\"z\":[6,6,4,4,3,2,2,2,2,2,2,1,1,1,1,1,1,1,1,1,1,1,1,1,1,1,1,1,1,1,1,1,1,1,1,1,1,1,1,1,1,1,1]}],                        {\"coloraxis\":{\"colorbar\":{\"title\":{\"text\":\"Count\"}},\"colorscale\":[[0.0,\"rgb(247,252,245)\"],[0.125,\"rgb(229,245,224)\"],[0.25,\"rgb(199,233,192)\"],[0.375,\"rgb(161,217,155)\"],[0.5,\"rgb(116,196,118)\"],[0.625,\"rgb(65,171,93)\"],[0.75,\"rgb(35,139,69)\"],[0.875,\"rgb(0,109,44)\"],[1.0,\"rgb(0,68,27)\"]]},\"geo\":{\"center\":{},\"domain\":{\"x\":[0.0,1.0],\"y\":[0.0,1.0]},\"projection\":{\"type\":\"natural earth\"}},\"legend\":{\"tracegroupgap\":0},\"template\":{\"data\":{\"bar\":[{\"error_x\":{\"color\":\"#2a3f5f\"},\"error_y\":{\"color\":\"#2a3f5f\"},\"marker\":{\"line\":{\"color\":\"#E5ECF6\",\"width\":0.5},\"pattern\":{\"fillmode\":\"overlay\",\"size\":10,\"solidity\":0.2}},\"type\":\"bar\"}],\"barpolar\":[{\"marker\":{\"line\":{\"color\":\"#E5ECF6\",\"width\":0.5},\"pattern\":{\"fillmode\":\"overlay\",\"size\":10,\"solidity\":0.2}},\"type\":\"barpolar\"}],\"carpet\":[{\"aaxis\":{\"endlinecolor\":\"#2a3f5f\",\"gridcolor\":\"white\",\"linecolor\":\"white\",\"minorgridcolor\":\"white\",\"startlinecolor\":\"#2a3f5f\"},\"baxis\":{\"endlinecolor\":\"#2a3f5f\",\"gridcolor\":\"white\",\"linecolor\":\"white\",\"minorgridcolor\":\"white\",\"startlinecolor\":\"#2a3f5f\"},\"type\":\"carpet\"}],\"choropleth\":[{\"colorbar\":{\"outlinewidth\":0,\"ticks\":\"\"},\"type\":\"choropleth\"}],\"contour\":[{\"colorbar\":{\"outlinewidth\":0,\"ticks\":\"\"},\"colorscale\":[[0.0,\"#0d0887\"],[0.1111111111111111,\"#46039f\"],[0.2222222222222222,\"#7201a8\"],[0.3333333333333333,\"#9c179e\"],[0.4444444444444444,\"#bd3786\"],[0.5555555555555556,\"#d8576b\"],[0.6666666666666666,\"#ed7953\"],[0.7777777777777778,\"#fb9f3a\"],[0.8888888888888888,\"#fdca26\"],[1.0,\"#f0f921\"]],\"type\":\"contour\"}],\"contourcarpet\":[{\"colorbar\":{\"outlinewidth\":0,\"ticks\":\"\"},\"type\":\"contourcarpet\"}],\"heatmap\":[{\"colorbar\":{\"outlinewidth\":0,\"ticks\":\"\"},\"colorscale\":[[0.0,\"#0d0887\"],[0.1111111111111111,\"#46039f\"],[0.2222222222222222,\"#7201a8\"],[0.3333333333333333,\"#9c179e\"],[0.4444444444444444,\"#bd3786\"],[0.5555555555555556,\"#d8576b\"],[0.6666666666666666,\"#ed7953\"],[0.7777777777777778,\"#fb9f3a\"],[0.8888888888888888,\"#fdca26\"],[1.0,\"#f0f921\"]],\"type\":\"heatmap\"}],\"heatmapgl\":[{\"colorbar\":{\"outlinewidth\":0,\"ticks\":\"\"},\"colorscale\":[[0.0,\"#0d0887\"],[0.1111111111111111,\"#46039f\"],[0.2222222222222222,\"#7201a8\"],[0.3333333333333333,\"#9c179e\"],[0.4444444444444444,\"#bd3786\"],[0.5555555555555556,\"#d8576b\"],[0.6666666666666666,\"#ed7953\"],[0.7777777777777778,\"#fb9f3a\"],[0.8888888888888888,\"#fdca26\"],[1.0,\"#f0f921\"]],\"type\":\"heatmapgl\"}],\"histogram\":[{\"marker\":{\"pattern\":{\"fillmode\":\"overlay\",\"size\":10,\"solidity\":0.2}},\"type\":\"histogram\"}],\"histogram2d\":[{\"colorbar\":{\"outlinewidth\":0,\"ticks\":\"\"},\"colorscale\":[[0.0,\"#0d0887\"],[0.1111111111111111,\"#46039f\"],[0.2222222222222222,\"#7201a8\"],[0.3333333333333333,\"#9c179e\"],[0.4444444444444444,\"#bd3786\"],[0.5555555555555556,\"#d8576b\"],[0.6666666666666666,\"#ed7953\"],[0.7777777777777778,\"#fb9f3a\"],[0.8888888888888888,\"#fdca26\"],[1.0,\"#f0f921\"]],\"type\":\"histogram2d\"}],\"histogram2dcontour\":[{\"colorbar\":{\"outlinewidth\":0,\"ticks\":\"\"},\"colorscale\":[[0.0,\"#0d0887\"],[0.1111111111111111,\"#46039f\"],[0.2222222222222222,\"#7201a8\"],[0.3333333333333333,\"#9c179e\"],[0.4444444444444444,\"#bd3786\"],[0.5555555555555556,\"#d8576b\"],[0.6666666666666666,\"#ed7953\"],[0.7777777777777778,\"#fb9f3a\"],[0.8888888888888888,\"#fdca26\"],[1.0,\"#f0f921\"]],\"type\":\"histogram2dcontour\"}],\"mesh3d\":[{\"colorbar\":{\"outlinewidth\":0,\"ticks\":\"\"},\"type\":\"mesh3d\"}],\"parcoords\":[{\"line\":{\"colorbar\":{\"outlinewidth\":0,\"ticks\":\"\"}},\"type\":\"parcoords\"}],\"pie\":[{\"automargin\":true,\"type\":\"pie\"}],\"scatter\":[{\"marker\":{\"colorbar\":{\"outlinewidth\":0,\"ticks\":\"\"}},\"type\":\"scatter\"}],\"scatter3d\":[{\"line\":{\"colorbar\":{\"outlinewidth\":0,\"ticks\":\"\"}},\"marker\":{\"colorbar\":{\"outlinewidth\":0,\"ticks\":\"\"}},\"type\":\"scatter3d\"}],\"scattercarpet\":[{\"marker\":{\"colorbar\":{\"outlinewidth\":0,\"ticks\":\"\"}},\"type\":\"scattercarpet\"}],\"scattergeo\":[{\"marker\":{\"colorbar\":{\"outlinewidth\":0,\"ticks\":\"\"}},\"type\":\"scattergeo\"}],\"scattergl\":[{\"marker\":{\"colorbar\":{\"outlinewidth\":0,\"ticks\":\"\"}},\"type\":\"scattergl\"}],\"scattermapbox\":[{\"marker\":{\"colorbar\":{\"outlinewidth\":0,\"ticks\":\"\"}},\"type\":\"scattermapbox\"}],\"scatterpolar\":[{\"marker\":{\"colorbar\":{\"outlinewidth\":0,\"ticks\":\"\"}},\"type\":\"scatterpolar\"}],\"scatterpolargl\":[{\"marker\":{\"colorbar\":{\"outlinewidth\":0,\"ticks\":\"\"}},\"type\":\"scatterpolargl\"}],\"scatterternary\":[{\"marker\":{\"colorbar\":{\"outlinewidth\":0,\"ticks\":\"\"}},\"type\":\"scatterternary\"}],\"surface\":[{\"colorbar\":{\"outlinewidth\":0,\"ticks\":\"\"},\"colorscale\":[[0.0,\"#0d0887\"],[0.1111111111111111,\"#46039f\"],[0.2222222222222222,\"#7201a8\"],[0.3333333333333333,\"#9c179e\"],[0.4444444444444444,\"#bd3786\"],[0.5555555555555556,\"#d8576b\"],[0.6666666666666666,\"#ed7953\"],[0.7777777777777778,\"#fb9f3a\"],[0.8888888888888888,\"#fdca26\"],[1.0,\"#f0f921\"]],\"type\":\"surface\"}],\"table\":[{\"cells\":{\"fill\":{\"color\":\"#EBF0F8\"},\"line\":{\"color\":\"white\"}},\"header\":{\"fill\":{\"color\":\"#C8D4E3\"},\"line\":{\"color\":\"white\"}},\"type\":\"table\"}]},\"layout\":{\"annotationdefaults\":{\"arrowcolor\":\"#2a3f5f\",\"arrowhead\":0,\"arrowwidth\":1},\"autotypenumbers\":\"strict\",\"coloraxis\":{\"colorbar\":{\"outlinewidth\":0,\"ticks\":\"\"}},\"colorscale\":{\"diverging\":[[0,\"#8e0152\"],[0.1,\"#c51b7d\"],[0.2,\"#de77ae\"],[0.3,\"#f1b6da\"],[0.4,\"#fde0ef\"],[0.5,\"#f7f7f7\"],[0.6,\"#e6f5d0\"],[0.7,\"#b8e186\"],[0.8,\"#7fbc41\"],[0.9,\"#4d9221\"],[1,\"#276419\"]],\"sequential\":[[0.0,\"#0d0887\"],[0.1111111111111111,\"#46039f\"],[0.2222222222222222,\"#7201a8\"],[0.3333333333333333,\"#9c179e\"],[0.4444444444444444,\"#bd3786\"],[0.5555555555555556,\"#d8576b\"],[0.6666666666666666,\"#ed7953\"],[0.7777777777777778,\"#fb9f3a\"],[0.8888888888888888,\"#fdca26\"],[1.0,\"#f0f921\"]],\"sequentialminus\":[[0.0,\"#0d0887\"],[0.1111111111111111,\"#46039f\"],[0.2222222222222222,\"#7201a8\"],[0.3333333333333333,\"#9c179e\"],[0.4444444444444444,\"#bd3786\"],[0.5555555555555556,\"#d8576b\"],[0.6666666666666666,\"#ed7953\"],[0.7777777777777778,\"#fb9f3a\"],[0.8888888888888888,\"#fdca26\"],[1.0,\"#f0f921\"]]},\"colorway\":[\"#636efa\",\"#EF553B\",\"#00cc96\",\"#ab63fa\",\"#FFA15A\",\"#19d3f3\",\"#FF6692\",\"#B6E880\",\"#FF97FF\",\"#FECB52\"],\"font\":{\"color\":\"#2a3f5f\"},\"geo\":{\"bgcolor\":\"white\",\"lakecolor\":\"white\",\"landcolor\":\"#E5ECF6\",\"showlakes\":true,\"showland\":true,\"subunitcolor\":\"white\"},\"hoverlabel\":{\"align\":\"left\"},\"hovermode\":\"closest\",\"mapbox\":{\"style\":\"light\"},\"paper_bgcolor\":\"white\",\"plot_bgcolor\":\"#E5ECF6\",\"polar\":{\"angularaxis\":{\"gridcolor\":\"white\",\"linecolor\":\"white\",\"ticks\":\"\"},\"bgcolor\":\"#E5ECF6\",\"radialaxis\":{\"gridcolor\":\"white\",\"linecolor\":\"white\",\"ticks\":\"\"}},\"scene\":{\"xaxis\":{\"backgroundcolor\":\"#E5ECF6\",\"gridcolor\":\"white\",\"gridwidth\":2,\"linecolor\":\"white\",\"showbackground\":true,\"ticks\":\"\",\"zerolinecolor\":\"white\"},\"yaxis\":{\"backgroundcolor\":\"#E5ECF6\",\"gridcolor\":\"white\",\"gridwidth\":2,\"linecolor\":\"white\",\"showbackground\":true,\"ticks\":\"\",\"zerolinecolor\":\"white\"},\"zaxis\":{\"backgroundcolor\":\"#E5ECF6\",\"gridcolor\":\"white\",\"gridwidth\":2,\"linecolor\":\"white\",\"showbackground\":true,\"ticks\":\"\",\"zerolinecolor\":\"white\"}},\"shapedefaults\":{\"line\":{\"color\":\"#2a3f5f\"}},\"ternary\":{\"aaxis\":{\"gridcolor\":\"white\",\"linecolor\":\"white\",\"ticks\":\"\"},\"baxis\":{\"gridcolor\":\"white\",\"linecolor\":\"white\",\"ticks\":\"\"},\"bgcolor\":\"#E5ECF6\",\"caxis\":{\"gridcolor\":\"white\",\"linecolor\":\"white\",\"ticks\":\"\"}},\"title\":{\"x\":0.05},\"xaxis\":{\"automargin\":true,\"gridcolor\":\"white\",\"linecolor\":\"white\",\"ticks\":\"\",\"title\":{\"standoff\":15},\"zerolinecolor\":\"white\",\"zerolinewidth\":2},\"yaxis\":{\"automargin\":true,\"gridcolor\":\"white\",\"linecolor\":\"white\",\"ticks\":\"\",\"title\":{\"standoff\":15},\"zerolinecolor\":\"white\",\"zerolinewidth\":2}}},\"title\":{\"text\":\"Color-Coded Map of the Country of Origin of IGOs participating at COP2015\"}},                        {\"responsive\": true}                    ).then(function(){\n",
       "                            \n",
       "var gd = document.getElementById('ff8a5b99-a03b-4afd-8b1a-3fafb915c3d7');\n",
       "var x = new MutationObserver(function (mutations, observer) {{\n",
       "        var display = window.getComputedStyle(gd).display;\n",
       "        if (!display || display === 'none') {{\n",
       "            console.log([gd, 'removed!']);\n",
       "            Plotly.purge(gd);\n",
       "            observer.disconnect();\n",
       "        }}\n",
       "}});\n",
       "\n",
       "// Listen for the removal of the full notebook cells\n",
       "var notebookContainer = gd.closest('#notebook-container');\n",
       "if (notebookContainer) {{\n",
       "    x.observe(notebookContainer, {childList: true});\n",
       "}}\n",
       "\n",
       "// Listen for the clearing of the current output cell\n",
       "var outputEl = gd.closest('.output');\n",
       "if (outputEl) {{\n",
       "    x.observe(outputEl, {childList: true});\n",
       "}}\n",
       "\n",
       "                        })                };                });            </script>        </div>"
      ]
     },
     "metadata": {},
     "output_type": "display_data"
    }
   ],
   "source": [
    "fig = px.choropleth(IGO_country_stats, \n",
    "                    locations=\"ISO3\",\n",
    "                    color=\"Count\", \n",
    "                    hover_name=\"Country\", # column to add to hover information\n",
    "                    color_continuous_scale=\"greens\",\n",
    "                    title = \"Color-Coded Map of the Country of Origin of IGOs participating at COP2015\",\n",
    "                    projection = \"natural earth\")\n",
    "\n",
    "fig.write_html(\"Color-Coded Map of the Country of Origin of IGOs participating at COP2015.html\")\n",
    "fig.show()"
   ]
  },
  {
   "cell_type": "code",
   "execution_count": null,
   "metadata": {},
   "outputs": [],
   "source": []
  },
  {
   "cell_type": "code",
   "execution_count": null,
   "metadata": {},
   "outputs": [],
   "source": []
  }
 ],
 "metadata": {
  "kernelspec": {
   "display_name": "py_38_env",
   "language": "python",
   "name": "py_38_env"
  },
  "language_info": {
   "codemirror_mode": {
    "name": "ipython",
    "version": 3
   },
   "file_extension": ".py",
   "mimetype": "text/x-python",
   "name": "python",
   "nbconvert_exporter": "python",
   "pygments_lexer": "ipython3",
   "version": "3.8.2"
  },
  "varInspector": {
   "cols": {
    "lenName": 16,
    "lenType": 16,
    "lenVar": 40
   },
   "kernels_config": {
    "python": {
     "delete_cmd_postfix": "",
     "delete_cmd_prefix": "del ",
     "library": "var_list.py",
     "varRefreshCmd": "print(var_dic_list())"
    },
    "r": {
     "delete_cmd_postfix": ") ",
     "delete_cmd_prefix": "rm(",
     "library": "var_list.r",
     "varRefreshCmd": "cat(var_dic_list()) "
    }
   },
   "types_to_exclude": [
    "module",
    "function",
    "builtin_function_or_method",
    "instance",
    "_Feature"
   ],
   "window_display": false
  }
 },
 "nbformat": 4,
 "nbformat_minor": 4
}
