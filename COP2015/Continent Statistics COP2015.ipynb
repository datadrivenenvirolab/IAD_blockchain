{
 "cells": [
  {
   "cell_type": "code",
   "execution_count": 15,
   "metadata": {},
   "outputs": [],
   "source": [
    "import numpy as np\n",
    "import pandas as pd\n",
    "import matplotlib.pyplot as plt\n",
    "import seaborn as sns\n",
    "import pycountry_convert as pycountry\n",
    "import plotly.express as px\n",
    "from pywaffle import Waffle\n",
    "%matplotlib inline"
   ]
  },
  {
   "cell_type": "code",
   "execution_count": 16,
   "metadata": {},
   "outputs": [],
   "source": [
    "NGO_country_stats = pd.read_csv(\"2015_NGO_country_stats.csv\", index_col = 0)"
   ]
  },
  {
   "cell_type": "code",
   "execution_count": 17,
   "metadata": {},
   "outputs": [
    {
     "data": {
      "text/html": [
       "<div>\n",
       "<style scoped>\n",
       "    .dataframe tbody tr th:only-of-type {\n",
       "        vertical-align: middle;\n",
       "    }\n",
       "\n",
       "    .dataframe tbody tr th {\n",
       "        vertical-align: top;\n",
       "    }\n",
       "\n",
       "    .dataframe thead th {\n",
       "        text-align: right;\n",
       "    }\n",
       "</style>\n",
       "<table border=\"1\" class=\"dataframe\">\n",
       "  <thead>\n",
       "    <tr style=\"text-align: right;\">\n",
       "      <th></th>\n",
       "      <th>Country</th>\n",
       "      <th>Count</th>\n",
       "      <th>ISO3</th>\n",
       "    </tr>\n",
       "  </thead>\n",
       "  <tbody>\n",
       "    <tr>\n",
       "      <th>0</th>\n",
       "      <td>United States of America</td>\n",
       "      <td>228</td>\n",
       "      <td>USA</td>\n",
       "    </tr>\n",
       "    <tr>\n",
       "      <th>1</th>\n",
       "      <td>France</td>\n",
       "      <td>104</td>\n",
       "      <td>FRA</td>\n",
       "    </tr>\n",
       "    <tr>\n",
       "      <th>2</th>\n",
       "      <td>United Kingdom of Great Britain and Northern I...</td>\n",
       "      <td>92</td>\n",
       "      <td>GBR</td>\n",
       "    </tr>\n",
       "    <tr>\n",
       "      <th>3</th>\n",
       "      <td>Germany</td>\n",
       "      <td>74</td>\n",
       "      <td>DEU</td>\n",
       "    </tr>\n",
       "    <tr>\n",
       "      <th>4</th>\n",
       "      <td>Belgium</td>\n",
       "      <td>40</td>\n",
       "      <td>BEL</td>\n",
       "    </tr>\n",
       "  </tbody>\n",
       "</table>\n",
       "</div>"
      ],
      "text/plain": [
       "                                             Country  Count ISO3\n",
       "0                           United States of America    228  USA\n",
       "1                                             France    104  FRA\n",
       "2  United Kingdom of Great Britain and Northern I...     92  GBR\n",
       "3                                            Germany     74  DEU\n",
       "4                                            Belgium     40  BEL"
      ]
     },
     "execution_count": 17,
     "metadata": {},
     "output_type": "execute_result"
    }
   ],
   "source": [
    "NGO_country_stats.head()"
   ]
  },
  {
   "cell_type": "code",
   "execution_count": 18,
   "metadata": {},
   "outputs": [],
   "source": [
    "IGO_country_stats = pd.read_csv(\"2015_IGO_country_stats.csv\", index_col = 0)"
   ]
  },
  {
   "cell_type": "code",
   "execution_count": 19,
   "metadata": {},
   "outputs": [
    {
     "data": {
      "text/html": [
       "<div>\n",
       "<style scoped>\n",
       "    .dataframe tbody tr th:only-of-type {\n",
       "        vertical-align: middle;\n",
       "    }\n",
       "\n",
       "    .dataframe tbody tr th {\n",
       "        vertical-align: top;\n",
       "    }\n",
       "\n",
       "    .dataframe thead th {\n",
       "        text-align: right;\n",
       "    }\n",
       "</style>\n",
       "<table border=\"1\" class=\"dataframe\">\n",
       "  <thead>\n",
       "    <tr style=\"text-align: right;\">\n",
       "      <th></th>\n",
       "      <th>Country</th>\n",
       "      <th>Count</th>\n",
       "      <th>ISO3</th>\n",
       "    </tr>\n",
       "  </thead>\n",
       "  <tbody>\n",
       "    <tr>\n",
       "      <th>0</th>\n",
       "      <td>Switzerland</td>\n",
       "      <td>6</td>\n",
       "      <td>CHE</td>\n",
       "    </tr>\n",
       "    <tr>\n",
       "      <th>1</th>\n",
       "      <td>France</td>\n",
       "      <td>6</td>\n",
       "      <td>FRA</td>\n",
       "    </tr>\n",
       "    <tr>\n",
       "      <th>2</th>\n",
       "      <td>Finland</td>\n",
       "      <td>4</td>\n",
       "      <td>FIN</td>\n",
       "    </tr>\n",
       "    <tr>\n",
       "      <th>3</th>\n",
       "      <td>United Kingdom of Great Britain and Northern I...</td>\n",
       "      <td>4</td>\n",
       "      <td>GBR</td>\n",
       "    </tr>\n",
       "    <tr>\n",
       "      <th>4</th>\n",
       "      <td>Austria</td>\n",
       "      <td>3</td>\n",
       "      <td>AUT</td>\n",
       "    </tr>\n",
       "  </tbody>\n",
       "</table>\n",
       "</div>"
      ],
      "text/plain": [
       "                                             Country  Count ISO3\n",
       "0                                        Switzerland      6  CHE\n",
       "1                                             France      6  FRA\n",
       "2                                            Finland      4  FIN\n",
       "3  United Kingdom of Great Britain and Northern I...      4  GBR\n",
       "4                                            Austria      3  AUT"
      ]
     },
     "execution_count": 19,
     "metadata": {},
     "output_type": "execute_result"
    }
   ],
   "source": [
    "IGO_country_stats.head()"
   ]
  },
  {
   "cell_type": "code",
   "execution_count": 21,
   "metadata": {},
   "outputs": [
    {
     "data": {
      "text/html": [
       "<div>\n",
       "<style scoped>\n",
       "    .dataframe tbody tr th:only-of-type {\n",
       "        vertical-align: middle;\n",
       "    }\n",
       "\n",
       "    .dataframe tbody tr th {\n",
       "        vertical-align: top;\n",
       "    }\n",
       "\n",
       "    .dataframe thead th {\n",
       "        text-align: right;\n",
       "    }\n",
       "</style>\n",
       "<table border=\"1\" class=\"dataframe\">\n",
       "  <thead>\n",
       "    <tr style=\"text-align: right;\">\n",
       "      <th></th>\n",
       "      <th>Country</th>\n",
       "      <th>Count</th>\n",
       "      <th>ISO3</th>\n",
       "    </tr>\n",
       "  </thead>\n",
       "  <tbody>\n",
       "    <tr>\n",
       "      <th>23</th>\n",
       "      <td>Sweden</td>\n",
       "      <td>1</td>\n",
       "      <td>SWE</td>\n",
       "    </tr>\n",
       "    <tr>\n",
       "      <th>24</th>\n",
       "      <td>Spain</td>\n",
       "      <td>1</td>\n",
       "      <td>ESP</td>\n",
       "    </tr>\n",
       "    <tr>\n",
       "      <th>25</th>\n",
       "      <td>Costa Rica</td>\n",
       "      <td>1</td>\n",
       "      <td>CRI</td>\n",
       "    </tr>\n",
       "    <tr>\n",
       "      <th>26</th>\n",
       "      <td>Belgium</td>\n",
       "      <td>1</td>\n",
       "      <td>BEL</td>\n",
       "    </tr>\n",
       "    <tr>\n",
       "      <th>27</th>\n",
       "      <td>China</td>\n",
       "      <td>1</td>\n",
       "      <td>CHN</td>\n",
       "    </tr>\n",
       "    <tr>\n",
       "      <th>28</th>\n",
       "      <td>Peru</td>\n",
       "      <td>1</td>\n",
       "      <td>PER</td>\n",
       "    </tr>\n",
       "    <tr>\n",
       "      <th>29</th>\n",
       "      <td>Canada</td>\n",
       "      <td>1</td>\n",
       "      <td>CAN</td>\n",
       "    </tr>\n",
       "    <tr>\n",
       "      <th>30</th>\n",
       "      <td>Togo</td>\n",
       "      <td>1</td>\n",
       "      <td>TGO</td>\n",
       "    </tr>\n",
       "    <tr>\n",
       "      <th>31</th>\n",
       "      <td>United Arab Emirates</td>\n",
       "      <td>1</td>\n",
       "      <td>ARE</td>\n",
       "    </tr>\n",
       "    <tr>\n",
       "      <th>32</th>\n",
       "      <td>Egypt</td>\n",
       "      <td>1</td>\n",
       "      <td>EGY</td>\n",
       "    </tr>\n",
       "    <tr>\n",
       "      <th>33</th>\n",
       "      <td>Malta</td>\n",
       "      <td>1</td>\n",
       "      <td>MLT</td>\n",
       "    </tr>\n",
       "    <tr>\n",
       "      <th>34</th>\n",
       "      <td>Guyana</td>\n",
       "      <td>1</td>\n",
       "      <td>GUY</td>\n",
       "    </tr>\n",
       "    <tr>\n",
       "      <th>35</th>\n",
       "      <td>Cabo Verde</td>\n",
       "      <td>1</td>\n",
       "      <td>CPV</td>\n",
       "    </tr>\n",
       "    <tr>\n",
       "      <th>36</th>\n",
       "      <td>Saint Lucia</td>\n",
       "      <td>1</td>\n",
       "      <td>LCA</td>\n",
       "    </tr>\n",
       "    <tr>\n",
       "      <th>37</th>\n",
       "      <td>Venezuela (Bolivarian Republic of)</td>\n",
       "      <td>1</td>\n",
       "      <td>VEN</td>\n",
       "    </tr>\n",
       "    <tr>\n",
       "      <th>38</th>\n",
       "      <td>Fiji</td>\n",
       "      <td>1</td>\n",
       "      <td>FJI</td>\n",
       "    </tr>\n",
       "    <tr>\n",
       "      <th>39</th>\n",
       "      <td>Nigeria</td>\n",
       "      <td>1</td>\n",
       "      <td>NGA</td>\n",
       "    </tr>\n",
       "    <tr>\n",
       "      <th>40</th>\n",
       "      <td>Mauritius</td>\n",
       "      <td>1</td>\n",
       "      <td>MUS</td>\n",
       "    </tr>\n",
       "    <tr>\n",
       "      <th>41</th>\n",
       "      <td>Hungary</td>\n",
       "      <td>1</td>\n",
       "      <td>HUN</td>\n",
       "    </tr>\n",
       "    <tr>\n",
       "      <th>42</th>\n",
       "      <td>Niger</td>\n",
       "      <td>1</td>\n",
       "      <td>NER</td>\n",
       "    </tr>\n",
       "  </tbody>\n",
       "</table>\n",
       "</div>"
      ],
      "text/plain": [
       "                               Country  Count ISO3\n",
       "23                              Sweden      1  SWE\n",
       "24                               Spain      1  ESP\n",
       "25                          Costa Rica      1  CRI\n",
       "26                             Belgium      1  BEL\n",
       "27                               China      1  CHN\n",
       "28                                Peru      1  PER\n",
       "29                              Canada      1  CAN\n",
       "30                                Togo      1  TGO\n",
       "31                United Arab Emirates      1  ARE\n",
       "32                               Egypt      1  EGY\n",
       "33                               Malta      1  MLT\n",
       "34                              Guyana      1  GUY\n",
       "35                          Cabo Verde      1  CPV\n",
       "36                         Saint Lucia      1  LCA\n",
       "37  Venezuela (Bolivarian Republic of)      1  VEN\n",
       "38                                Fiji      1  FJI\n",
       "39                             Nigeria      1  NGA\n",
       "40                           Mauritius      1  MUS\n",
       "41                             Hungary      1  HUN\n",
       "42                               Niger      1  NER"
      ]
     },
     "execution_count": 21,
     "metadata": {},
     "output_type": "execute_result"
    }
   ],
   "source": [
    "IGO_country_stats.tail(20)"
   ]
  },
  {
   "cell_type": "code",
   "execution_count": 22,
   "metadata": {},
   "outputs": [
    {
     "data": {
      "text/html": [
       "<div>\n",
       "<style scoped>\n",
       "    .dataframe tbody tr th:only-of-type {\n",
       "        vertical-align: middle;\n",
       "    }\n",
       "\n",
       "    .dataframe tbody tr th {\n",
       "        vertical-align: top;\n",
       "    }\n",
       "\n",
       "    .dataframe thead th {\n",
       "        text-align: right;\n",
       "    }\n",
       "</style>\n",
       "<table border=\"1\" class=\"dataframe\">\n",
       "  <thead>\n",
       "    <tr style=\"text-align: right;\">\n",
       "      <th></th>\n",
       "      <th>Country</th>\n",
       "      <th>Count</th>\n",
       "      <th>ISO3</th>\n",
       "    </tr>\n",
       "  </thead>\n",
       "  <tbody>\n",
       "    <tr>\n",
       "      <th>0</th>\n",
       "      <td>Switzerland</td>\n",
       "      <td>6</td>\n",
       "      <td>CHE</td>\n",
       "    </tr>\n",
       "    <tr>\n",
       "      <th>1</th>\n",
       "      <td>France</td>\n",
       "      <td>6</td>\n",
       "      <td>FRA</td>\n",
       "    </tr>\n",
       "    <tr>\n",
       "      <th>2</th>\n",
       "      <td>Finland</td>\n",
       "      <td>4</td>\n",
       "      <td>FIN</td>\n",
       "    </tr>\n",
       "    <tr>\n",
       "      <th>3</th>\n",
       "      <td>United Kingdom of Great Britain and Northern I...</td>\n",
       "      <td>4</td>\n",
       "      <td>GBR</td>\n",
       "    </tr>\n",
       "    <tr>\n",
       "      <th>4</th>\n",
       "      <td>Austria</td>\n",
       "      <td>3</td>\n",
       "      <td>AUT</td>\n",
       "    </tr>\n",
       "  </tbody>\n",
       "</table>\n",
       "</div>"
      ],
      "text/plain": [
       "                                             Country  Count ISO3\n",
       "0                                        Switzerland      6  CHE\n",
       "1                                             France      6  FRA\n",
       "2                                            Finland      4  FIN\n",
       "3  United Kingdom of Great Britain and Northern I...      4  GBR\n",
       "4                                            Austria      3  AUT"
      ]
     },
     "execution_count": 22,
     "metadata": {},
     "output_type": "execute_result"
    }
   ],
   "source": [
    "IGO_country_stats.head()"
   ]
  },
  {
   "cell_type": "code",
   "execution_count": 23,
   "metadata": {},
   "outputs": [],
   "source": [
    "def iso3_to_continent_name(iso3):\n",
    "    try:\n",
    "        iso2 = pycountry.country_alpha3_to_country_alpha2(iso3)\n",
    "        continent_code = pycountry.country_alpha2_to_continent_code(iso2)\n",
    "        continent_name = pycountry.convert_continent_code_to_continent_name(continent_code)\n",
    "        return continent_name\n",
    "    except:\n",
    "        return \"\""
   ]
  },
  {
   "cell_type": "code",
   "execution_count": 24,
   "metadata": {},
   "outputs": [],
   "source": [
    "NGO_country_stats[\"Continent\"] = [iso3_to_continent_name(iso3) for iso3 in list(NGO_country_stats.ISO3)]"
   ]
  },
  {
   "cell_type": "code",
   "execution_count": 25,
   "metadata": {},
   "outputs": [
    {
     "data": {
      "text/html": [
       "<div>\n",
       "<style scoped>\n",
       "    .dataframe tbody tr th:only-of-type {\n",
       "        vertical-align: middle;\n",
       "    }\n",
       "\n",
       "    .dataframe tbody tr th {\n",
       "        vertical-align: top;\n",
       "    }\n",
       "\n",
       "    .dataframe thead th {\n",
       "        text-align: right;\n",
       "    }\n",
       "</style>\n",
       "<table border=\"1\" class=\"dataframe\">\n",
       "  <thead>\n",
       "    <tr style=\"text-align: right;\">\n",
       "      <th></th>\n",
       "      <th>Country</th>\n",
       "      <th>Count</th>\n",
       "      <th>ISO3</th>\n",
       "      <th>Continent</th>\n",
       "    </tr>\n",
       "  </thead>\n",
       "  <tbody>\n",
       "    <tr>\n",
       "      <th>0</th>\n",
       "      <td>United States of America</td>\n",
       "      <td>228</td>\n",
       "      <td>USA</td>\n",
       "      <td>North America</td>\n",
       "    </tr>\n",
       "    <tr>\n",
       "      <th>1</th>\n",
       "      <td>France</td>\n",
       "      <td>104</td>\n",
       "      <td>FRA</td>\n",
       "      <td>Europe</td>\n",
       "    </tr>\n",
       "    <tr>\n",
       "      <th>2</th>\n",
       "      <td>United Kingdom of Great Britain and Northern I...</td>\n",
       "      <td>92</td>\n",
       "      <td>GBR</td>\n",
       "      <td>Europe</td>\n",
       "    </tr>\n",
       "    <tr>\n",
       "      <th>3</th>\n",
       "      <td>Germany</td>\n",
       "      <td>74</td>\n",
       "      <td>DEU</td>\n",
       "      <td>Europe</td>\n",
       "    </tr>\n",
       "    <tr>\n",
       "      <th>4</th>\n",
       "      <td>Belgium</td>\n",
       "      <td>40</td>\n",
       "      <td>BEL</td>\n",
       "      <td>Europe</td>\n",
       "    </tr>\n",
       "    <tr>\n",
       "      <th>...</th>\n",
       "      <td>...</td>\n",
       "      <td>...</td>\n",
       "      <td>...</td>\n",
       "      <td>...</td>\n",
       "    </tr>\n",
       "    <tr>\n",
       "      <th>77</th>\n",
       "      <td>El Salvador</td>\n",
       "      <td>1</td>\n",
       "      <td>SLV</td>\n",
       "      <td>North America</td>\n",
       "    </tr>\n",
       "    <tr>\n",
       "      <th>78</th>\n",
       "      <td>Congo</td>\n",
       "      <td>1</td>\n",
       "      <td>COG</td>\n",
       "      <td>Africa</td>\n",
       "    </tr>\n",
       "    <tr>\n",
       "      <th>79</th>\n",
       "      <td>Benin</td>\n",
       "      <td>1</td>\n",
       "      <td>BEN</td>\n",
       "      <td>Africa</td>\n",
       "    </tr>\n",
       "    <tr>\n",
       "      <th>80</th>\n",
       "      <td>Angola</td>\n",
       "      <td>1</td>\n",
       "      <td>AGO</td>\n",
       "      <td>Africa</td>\n",
       "    </tr>\n",
       "    <tr>\n",
       "      <th>81</th>\n",
       "      <td>Uganda</td>\n",
       "      <td>1</td>\n",
       "      <td>UGA</td>\n",
       "      <td>Africa</td>\n",
       "    </tr>\n",
       "  </tbody>\n",
       "</table>\n",
       "<p>82 rows × 4 columns</p>\n",
       "</div>"
      ],
      "text/plain": [
       "                                              Country  Count ISO3  \\\n",
       "0                            United States of America    228  USA   \n",
       "1                                              France    104  FRA   \n",
       "2   United Kingdom of Great Britain and Northern I...     92  GBR   \n",
       "3                                             Germany     74  DEU   \n",
       "4                                             Belgium     40  BEL   \n",
       "..                                                ...    ...  ...   \n",
       "77                                        El Salvador      1  SLV   \n",
       "78                                              Congo      1  COG   \n",
       "79                                              Benin      1  BEN   \n",
       "80                                             Angola      1  AGO   \n",
       "81                                             Uganda      1  UGA   \n",
       "\n",
       "        Continent  \n",
       "0   North America  \n",
       "1          Europe  \n",
       "2          Europe  \n",
       "3          Europe  \n",
       "4          Europe  \n",
       "..            ...  \n",
       "77  North America  \n",
       "78         Africa  \n",
       "79         Africa  \n",
       "80         Africa  \n",
       "81         Africa  \n",
       "\n",
       "[82 rows x 4 columns]"
      ]
     },
     "execution_count": 25,
     "metadata": {},
     "output_type": "execute_result"
    }
   ],
   "source": [
    "NGO_country_stats"
   ]
  },
  {
   "cell_type": "code",
   "execution_count": 26,
   "metadata": {},
   "outputs": [
    {
     "data": {
      "text/html": [
       "<div>\n",
       "<style scoped>\n",
       "    .dataframe tbody tr th:only-of-type {\n",
       "        vertical-align: middle;\n",
       "    }\n",
       "\n",
       "    .dataframe tbody tr th {\n",
       "        vertical-align: top;\n",
       "    }\n",
       "\n",
       "    .dataframe thead th {\n",
       "        text-align: right;\n",
       "    }\n",
       "</style>\n",
       "<table border=\"1\" class=\"dataframe\">\n",
       "  <thead>\n",
       "    <tr style=\"text-align: right;\">\n",
       "      <th></th>\n",
       "      <th>Country</th>\n",
       "      <th>Count</th>\n",
       "      <th>ISO3</th>\n",
       "      <th>Continent</th>\n",
       "    </tr>\n",
       "  </thead>\n",
       "  <tbody>\n",
       "    <tr>\n",
       "      <th>52</th>\n",
       "      <td>Holy See</td>\n",
       "      <td>1</td>\n",
       "      <td>VAT</td>\n",
       "      <td></td>\n",
       "    </tr>\n",
       "  </tbody>\n",
       "</table>\n",
       "</div>"
      ],
      "text/plain": [
       "     Country  Count ISO3 Continent\n",
       "52  Holy See      1  VAT          "
      ]
     },
     "execution_count": 26,
     "metadata": {},
     "output_type": "execute_result"
    }
   ],
   "source": [
    "NGO_country_stats[NGO_country_stats.Continent==\"\"]"
   ]
  },
  {
   "cell_type": "code",
   "execution_count": 27,
   "metadata": {},
   "outputs": [
    {
     "name": "stderr",
     "output_type": "stream",
     "text": [
      "/var/folders/6_/r43fszfx0sq37gltljwc7qqr0000gn/T/ipykernel_64686/206994623.py:1: SettingWithCopyWarning: \n",
      "A value is trying to be set on a copy of a slice from a DataFrame\n",
      "\n",
      "See the caveats in the documentation: https://pandas.pydata.org/pandas-docs/stable/user_guide/indexing.html#returning-a-view-versus-a-copy\n",
      "  NGO_country_stats.Continent[52] = \"Europe\"\n"
     ]
    }
   ],
   "source": [
    "NGO_country_stats.Continent[52] = \"Europe\""
   ]
  },
  {
   "cell_type": "code",
   "execution_count": 29,
   "metadata": {},
   "outputs": [
    {
     "data": {
      "text/html": [
       "<div>\n",
       "<style scoped>\n",
       "    .dataframe tbody tr th:only-of-type {\n",
       "        vertical-align: middle;\n",
       "    }\n",
       "\n",
       "    .dataframe tbody tr th {\n",
       "        vertical-align: top;\n",
       "    }\n",
       "\n",
       "    .dataframe thead th {\n",
       "        text-align: right;\n",
       "    }\n",
       "</style>\n",
       "<table border=\"1\" class=\"dataframe\">\n",
       "  <thead>\n",
       "    <tr style=\"text-align: right;\">\n",
       "      <th></th>\n",
       "      <th>Country</th>\n",
       "      <th>Count</th>\n",
       "      <th>ISO3</th>\n",
       "      <th>Continent</th>\n",
       "    </tr>\n",
       "  </thead>\n",
       "  <tbody>\n",
       "    <tr>\n",
       "      <th>50</th>\n",
       "      <td>Luxembourg</td>\n",
       "      <td>2</td>\n",
       "      <td>LUX</td>\n",
       "      <td>Europe</td>\n",
       "    </tr>\n",
       "    <tr>\n",
       "      <th>51</th>\n",
       "      <td>Morocco</td>\n",
       "      <td>2</td>\n",
       "      <td>MAR</td>\n",
       "      <td>Africa</td>\n",
       "    </tr>\n",
       "    <tr>\n",
       "      <th>52</th>\n",
       "      <td>Holy See</td>\n",
       "      <td>1</td>\n",
       "      <td>VAT</td>\n",
       "      <td>Europe</td>\n",
       "    </tr>\n",
       "  </tbody>\n",
       "</table>\n",
       "</div>"
      ],
      "text/plain": [
       "       Country  Count ISO3 Continent\n",
       "50  Luxembourg      2  LUX    Europe\n",
       "51     Morocco      2  MAR    Africa\n",
       "52    Holy See      1  VAT    Europe"
      ]
     },
     "execution_count": 29,
     "metadata": {},
     "output_type": "execute_result"
    }
   ],
   "source": [
    "NGO_country_stats[50:53]"
   ]
  },
  {
   "cell_type": "code",
   "execution_count": 30,
   "metadata": {},
   "outputs": [],
   "source": [
    "NGO_country_stats.to_csv(\"2015_NGO_country_stats.csv\")"
   ]
  },
  {
   "cell_type": "code",
   "execution_count": 31,
   "metadata": {},
   "outputs": [],
   "source": [
    "IGO_country_stats[\"Continent\"] = [iso3_to_continent_name(iso3) for iso3 in list(IGO_country_stats.ISO3)]"
   ]
  },
  {
   "cell_type": "code",
   "execution_count": 32,
   "metadata": {},
   "outputs": [
    {
     "data": {
      "text/html": [
       "<div>\n",
       "<style scoped>\n",
       "    .dataframe tbody tr th:only-of-type {\n",
       "        vertical-align: middle;\n",
       "    }\n",
       "\n",
       "    .dataframe tbody tr th {\n",
       "        vertical-align: top;\n",
       "    }\n",
       "\n",
       "    .dataframe thead th {\n",
       "        text-align: right;\n",
       "    }\n",
       "</style>\n",
       "<table border=\"1\" class=\"dataframe\">\n",
       "  <thead>\n",
       "    <tr style=\"text-align: right;\">\n",
       "      <th></th>\n",
       "      <th>Country</th>\n",
       "      <th>Count</th>\n",
       "      <th>ISO3</th>\n",
       "      <th>Continent</th>\n",
       "    </tr>\n",
       "  </thead>\n",
       "  <tbody>\n",
       "    <tr>\n",
       "      <th>0</th>\n",
       "      <td>Switzerland</td>\n",
       "      <td>6</td>\n",
       "      <td>CHE</td>\n",
       "      <td>Europe</td>\n",
       "    </tr>\n",
       "    <tr>\n",
       "      <th>1</th>\n",
       "      <td>France</td>\n",
       "      <td>6</td>\n",
       "      <td>FRA</td>\n",
       "      <td>Europe</td>\n",
       "    </tr>\n",
       "    <tr>\n",
       "      <th>2</th>\n",
       "      <td>Finland</td>\n",
       "      <td>4</td>\n",
       "      <td>FIN</td>\n",
       "      <td>Europe</td>\n",
       "    </tr>\n",
       "    <tr>\n",
       "      <th>3</th>\n",
       "      <td>United Kingdom of Great Britain and Northern I...</td>\n",
       "      <td>4</td>\n",
       "      <td>GBR</td>\n",
       "      <td>Europe</td>\n",
       "    </tr>\n",
       "    <tr>\n",
       "      <th>4</th>\n",
       "      <td>Austria</td>\n",
       "      <td>3</td>\n",
       "      <td>AUT</td>\n",
       "      <td>Europe</td>\n",
       "    </tr>\n",
       "  </tbody>\n",
       "</table>\n",
       "</div>"
      ],
      "text/plain": [
       "                                             Country  Count ISO3 Continent\n",
       "0                                        Switzerland      6  CHE    Europe\n",
       "1                                             France      6  FRA    Europe\n",
       "2                                            Finland      4  FIN    Europe\n",
       "3  United Kingdom of Great Britain and Northern I...      4  GBR    Europe\n",
       "4                                            Austria      3  AUT    Europe"
      ]
     },
     "execution_count": 32,
     "metadata": {},
     "output_type": "execute_result"
    }
   ],
   "source": [
    "IGO_country_stats.head()"
   ]
  },
  {
   "cell_type": "code",
   "execution_count": 33,
   "metadata": {},
   "outputs": [
    {
     "data": {
      "text/html": [
       "<div>\n",
       "<style scoped>\n",
       "    .dataframe tbody tr th:only-of-type {\n",
       "        vertical-align: middle;\n",
       "    }\n",
       "\n",
       "    .dataframe tbody tr th {\n",
       "        vertical-align: top;\n",
       "    }\n",
       "\n",
       "    .dataframe thead th {\n",
       "        text-align: right;\n",
       "    }\n",
       "</style>\n",
       "<table border=\"1\" class=\"dataframe\">\n",
       "  <thead>\n",
       "    <tr style=\"text-align: right;\">\n",
       "      <th></th>\n",
       "      <th>Country</th>\n",
       "      <th>Count</th>\n",
       "      <th>ISO3</th>\n",
       "      <th>Continent</th>\n",
       "    </tr>\n",
       "  </thead>\n",
       "  <tbody>\n",
       "  </tbody>\n",
       "</table>\n",
       "</div>"
      ],
      "text/plain": [
       "Empty DataFrame\n",
       "Columns: [Country, Count, ISO3, Continent]\n",
       "Index: []"
      ]
     },
     "execution_count": 33,
     "metadata": {},
     "output_type": "execute_result"
    }
   ],
   "source": [
    "IGO_country_stats[IGO_country_stats.Continent==\"\"]"
   ]
  },
  {
   "cell_type": "code",
   "execution_count": 34,
   "metadata": {},
   "outputs": [],
   "source": [
    "IGO_country_stats.to_csv(\"2015_IGO_country_stats.csv\")"
   ]
  },
  {
   "cell_type": "code",
   "execution_count": 35,
   "metadata": {},
   "outputs": [
    {
     "data": {
      "text/plain": [
       "array(['North America', 'Europe', 'Asia', 'Oceania', 'South America',\n",
       "       'Africa'], dtype=object)"
      ]
     },
     "execution_count": 35,
     "metadata": {},
     "output_type": "execute_result"
    }
   ],
   "source": [
    "NGO_country_stats.Continent.unique()"
   ]
  },
  {
   "cell_type": "code",
   "execution_count": 36,
   "metadata": {},
   "outputs": [],
   "source": [
    "unique_continents = list(NGO_country_stats.Continent.unique())"
   ]
  },
  {
   "cell_type": "code",
   "execution_count": 37,
   "metadata": {},
   "outputs": [],
   "source": [
    "sum_by_continent = [NGO_country_stats.Count[NGO_country_stats.Continent == continent].sum() for continent in unique_continents]"
   ]
  },
  {
   "cell_type": "code",
   "execution_count": 38,
   "metadata": {},
   "outputs": [
    {
     "data": {
      "text/plain": [
       "[289, 478, 161, 31, 61, 58]"
      ]
     },
     "execution_count": 38,
     "metadata": {},
     "output_type": "execute_result"
    }
   ],
   "source": [
    "sum_by_continent"
   ]
  },
  {
   "cell_type": "code",
   "execution_count": 39,
   "metadata": {},
   "outputs": [
    {
     "data": {
      "text/plain": [
       "True"
      ]
     },
     "execution_count": 39,
     "metadata": {},
     "output_type": "execute_result"
    }
   ],
   "source": [
    "sum(sum_by_continent) == sum(NGO_country_stats.Count)"
   ]
  },
  {
   "cell_type": "code",
   "execution_count": 40,
   "metadata": {},
   "outputs": [],
   "source": [
    "NGO_continent_stats = pd.DataFrame(list(zip(unique_continents, sum_by_continent)), \n",
    "                                  columns = [\"Continent\", \"Count\"])"
   ]
  },
  {
   "cell_type": "code",
   "execution_count": 41,
   "metadata": {},
   "outputs": [
    {
     "data": {
      "text/html": [
       "<div>\n",
       "<style scoped>\n",
       "    .dataframe tbody tr th:only-of-type {\n",
       "        vertical-align: middle;\n",
       "    }\n",
       "\n",
       "    .dataframe tbody tr th {\n",
       "        vertical-align: top;\n",
       "    }\n",
       "\n",
       "    .dataframe thead th {\n",
       "        text-align: right;\n",
       "    }\n",
       "</style>\n",
       "<table border=\"1\" class=\"dataframe\">\n",
       "  <thead>\n",
       "    <tr style=\"text-align: right;\">\n",
       "      <th></th>\n",
       "      <th>Continent</th>\n",
       "      <th>Count</th>\n",
       "    </tr>\n",
       "  </thead>\n",
       "  <tbody>\n",
       "    <tr>\n",
       "      <th>0</th>\n",
       "      <td>North America</td>\n",
       "      <td>289</td>\n",
       "    </tr>\n",
       "    <tr>\n",
       "      <th>1</th>\n",
       "      <td>Europe</td>\n",
       "      <td>478</td>\n",
       "    </tr>\n",
       "    <tr>\n",
       "      <th>2</th>\n",
       "      <td>Asia</td>\n",
       "      <td>161</td>\n",
       "    </tr>\n",
       "    <tr>\n",
       "      <th>3</th>\n",
       "      <td>Oceania</td>\n",
       "      <td>31</td>\n",
       "    </tr>\n",
       "    <tr>\n",
       "      <th>4</th>\n",
       "      <td>South America</td>\n",
       "      <td>61</td>\n",
       "    </tr>\n",
       "    <tr>\n",
       "      <th>5</th>\n",
       "      <td>Africa</td>\n",
       "      <td>58</td>\n",
       "    </tr>\n",
       "  </tbody>\n",
       "</table>\n",
       "</div>"
      ],
      "text/plain": [
       "       Continent  Count\n",
       "0  North America    289\n",
       "1         Europe    478\n",
       "2           Asia    161\n",
       "3        Oceania     31\n",
       "4  South America     61\n",
       "5         Africa     58"
      ]
     },
     "execution_count": 41,
     "metadata": {},
     "output_type": "execute_result"
    }
   ],
   "source": [
    "NGO_continent_stats"
   ]
  },
  {
   "cell_type": "code",
   "execution_count": 42,
   "metadata": {},
   "outputs": [],
   "source": [
    "NGO_continent_stats.to_csv(\"2015_NGO_continent_stats.csv\")"
   ]
  },
  {
   "cell_type": "code",
   "execution_count": 43,
   "metadata": {},
   "outputs": [
    {
     "data": {
      "text/plain": [
       "array(['Europe', 'Africa', 'Asia', 'North America', 'South America',\n",
       "       'Oceania'], dtype=object)"
      ]
     },
     "execution_count": 43,
     "metadata": {},
     "output_type": "execute_result"
    }
   ],
   "source": [
    "IGO_country_stats.Continent.unique()"
   ]
  },
  {
   "cell_type": "code",
   "execution_count": 44,
   "metadata": {},
   "outputs": [],
   "source": [
    "unique_continents = list(IGO_country_stats.Continent.unique())"
   ]
  },
  {
   "cell_type": "code",
   "execution_count": 45,
   "metadata": {},
   "outputs": [],
   "source": [
    "sum_by_continent = [IGO_country_stats.Count[IGO_country_stats.Continent == continent].sum() for continent in unique_continents]"
   ]
  },
  {
   "cell_type": "code",
   "execution_count": 46,
   "metadata": {},
   "outputs": [
    {
     "data": {
      "text/plain": [
       "[32, 13, 11, 6, 4, 1]"
      ]
     },
     "execution_count": 46,
     "metadata": {},
     "output_type": "execute_result"
    }
   ],
   "source": [
    "sum_by_continent"
   ]
  },
  {
   "cell_type": "code",
   "execution_count": 47,
   "metadata": {},
   "outputs": [
    {
     "data": {
      "text/plain": [
       "True"
      ]
     },
     "execution_count": 47,
     "metadata": {},
     "output_type": "execute_result"
    }
   ],
   "source": [
    "sum(sum_by_continent) == sum(IGO_country_stats.Count)"
   ]
  },
  {
   "cell_type": "code",
   "execution_count": 48,
   "metadata": {},
   "outputs": [],
   "source": [
    "IGO_continent_stats = pd.DataFrame(list(zip(unique_continents, sum_by_continent)), \n",
    "                                  columns = [\"Continent\", \"Count\"])"
   ]
  },
  {
   "cell_type": "code",
   "execution_count": 49,
   "metadata": {},
   "outputs": [
    {
     "data": {
      "text/html": [
       "<div>\n",
       "<style scoped>\n",
       "    .dataframe tbody tr th:only-of-type {\n",
       "        vertical-align: middle;\n",
       "    }\n",
       "\n",
       "    .dataframe tbody tr th {\n",
       "        vertical-align: top;\n",
       "    }\n",
       "\n",
       "    .dataframe thead th {\n",
       "        text-align: right;\n",
       "    }\n",
       "</style>\n",
       "<table border=\"1\" class=\"dataframe\">\n",
       "  <thead>\n",
       "    <tr style=\"text-align: right;\">\n",
       "      <th></th>\n",
       "      <th>Continent</th>\n",
       "      <th>Count</th>\n",
       "    </tr>\n",
       "  </thead>\n",
       "  <tbody>\n",
       "    <tr>\n",
       "      <th>0</th>\n",
       "      <td>Europe</td>\n",
       "      <td>32</td>\n",
       "    </tr>\n",
       "    <tr>\n",
       "      <th>1</th>\n",
       "      <td>Africa</td>\n",
       "      <td>13</td>\n",
       "    </tr>\n",
       "    <tr>\n",
       "      <th>2</th>\n",
       "      <td>Asia</td>\n",
       "      <td>11</td>\n",
       "    </tr>\n",
       "    <tr>\n",
       "      <th>3</th>\n",
       "      <td>North America</td>\n",
       "      <td>6</td>\n",
       "    </tr>\n",
       "    <tr>\n",
       "      <th>4</th>\n",
       "      <td>South America</td>\n",
       "      <td>4</td>\n",
       "    </tr>\n",
       "    <tr>\n",
       "      <th>5</th>\n",
       "      <td>Oceania</td>\n",
       "      <td>1</td>\n",
       "    </tr>\n",
       "  </tbody>\n",
       "</table>\n",
       "</div>"
      ],
      "text/plain": [
       "       Continent  Count\n",
       "0         Europe     32\n",
       "1         Africa     13\n",
       "2           Asia     11\n",
       "3  North America      6\n",
       "4  South America      4\n",
       "5        Oceania      1"
      ]
     },
     "execution_count": 49,
     "metadata": {},
     "output_type": "execute_result"
    }
   ],
   "source": [
    "IGO_continent_stats"
   ]
  },
  {
   "cell_type": "code",
   "execution_count": 52,
   "metadata": {},
   "outputs": [],
   "source": [
    "IGO_continent_stats.to_csv(\"2015_IGO_continent_stats.csv\")"
   ]
  },
  {
   "cell_type": "markdown",
   "metadata": {},
   "source": [
    "The previous file, `2015_IGO_continent_stats.csv`, had to be modified so as to conform to the structure of the `2015_NGO_continent_stats.csv`(that is, the order of continents has to be the same for the pie chart to preserve the same color order!)"
   ]
  },
  {
   "cell_type": "code",
   "execution_count": 53,
   "metadata": {},
   "outputs": [],
   "source": [
    "IGO_continent_stats = pd.read_csv(\"2015_IGO_continent_stats.csv\", index_col=0)"
   ]
  },
  {
   "cell_type": "code",
   "execution_count": 54,
   "metadata": {},
   "outputs": [
    {
     "data": {
      "image/png": "[encoded data removed]",
      "text/plain": [
       "<Figure size 1440x720 with 2 Axes>"
      ]
     },
     "metadata": {},
     "output_type": "display_data"
    }
   ],
   "source": [
    "plt.figure(figsize=(20,10))\n",
    "plt.subplot(1, 2, 1)\n",
    "plt.pie(NGO_continent_stats.Count,labels=NGO_continent_stats.Continent,\n",
    "        autopct='%1.1f%%',\n",
    "        startangle = 90,\n",
    "        explode = [0,0.03,0,0,0,0])\n",
    "plt.title('Continent Distribution of NGOs (COP2015, n = 1078)')\n",
    "plt.axis('equal')\n",
    "\n",
    "plt.subplot(1, 2, 2)\n",
    "plt.pie(IGO_continent_stats.Count,labels=IGO_continent_stats.Continent,\n",
    "        autopct='%1.1f%%',\n",
    "        startangle = 90,\n",
    "        explode = [0,0.03,0,0,0,0])\n",
    "plt.title('Continent Distribution of IGOs (COP2015, n = 67)')\n",
    "plt.axis('equal')\n",
    "plt.savefig('COP2015_continent_distribution_NGOs_vs_IGOs.png', facecolor = \"white\")"
   ]
  },
  {
   "cell_type": "markdown",
   "metadata": {},
   "source": [
    "# Income Group Statistics"
   ]
  },
  {
   "cell_type": "markdown",
   "metadata": {},
   "source": [
    "We are using the most recent year classification for now, but at some point we may want to adjust the income classifications so that they track changes over multiple years and are pegged to the specific CoP round we're looking at. For example, maybe Belize is classified as a low-income country in 2017 but then moves to a lower-mid income country in 2018. **We may want to backtrack at some point and reclassify countries for each year to incorporate that change!**"
   ]
  },
  {
   "cell_type": "code",
   "execution_count": 55,
   "metadata": {},
   "outputs": [
    {
     "data": {
      "text/html": [
       "<div>\n",
       "<style scoped>\n",
       "    .dataframe tbody tr th:only-of-type {\n",
       "        vertical-align: middle;\n",
       "    }\n",
       "\n",
       "    .dataframe tbody tr th {\n",
       "        vertical-align: top;\n",
       "    }\n",
       "\n",
       "    .dataframe thead th {\n",
       "        text-align: right;\n",
       "    }\n",
       "</style>\n",
       "<table border=\"1\" class=\"dataframe\">\n",
       "  <thead>\n",
       "    <tr style=\"text-align: right;\">\n",
       "      <th></th>\n",
       "      <th>Code</th>\n",
       "      <th>Region</th>\n",
       "      <th>Income group</th>\n",
       "      <th>Lending category</th>\n",
       "      <th>Other (EMU or HIPC)</th>\n",
       "    </tr>\n",
       "    <tr>\n",
       "      <th>Economy</th>\n",
       "      <th></th>\n",
       "      <th></th>\n",
       "      <th></th>\n",
       "      <th></th>\n",
       "      <th></th>\n",
       "    </tr>\n",
       "  </thead>\n",
       "  <tbody>\n",
       "    <tr>\n",
       "      <th>Aruba</th>\n",
       "      <td>ABW</td>\n",
       "      <td>Latin America &amp; Caribbean</td>\n",
       "      <td>High income</td>\n",
       "      <td>NaN</td>\n",
       "      <td>NaN</td>\n",
       "    </tr>\n",
       "    <tr>\n",
       "      <th>Afghanistan</th>\n",
       "      <td>AFG</td>\n",
       "      <td>South Asia</td>\n",
       "      <td>Low income</td>\n",
       "      <td>IDA</td>\n",
       "      <td>HIPC</td>\n",
       "    </tr>\n",
       "    <tr>\n",
       "      <th>Angola</th>\n",
       "      <td>AGO</td>\n",
       "      <td>Sub-Saharan Africa</td>\n",
       "      <td>Lower middle income</td>\n",
       "      <td>IBRD</td>\n",
       "      <td>NaN</td>\n",
       "    </tr>\n",
       "    <tr>\n",
       "      <th>Albania</th>\n",
       "      <td>ALB</td>\n",
       "      <td>Europe &amp; Central Asia</td>\n",
       "      <td>Upper middle income</td>\n",
       "      <td>IBRD</td>\n",
       "      <td>NaN</td>\n",
       "    </tr>\n",
       "    <tr>\n",
       "      <th>Andorra</th>\n",
       "      <td>AND</td>\n",
       "      <td>Europe &amp; Central Asia</td>\n",
       "      <td>High income</td>\n",
       "      <td>NaN</td>\n",
       "      <td>NaN</td>\n",
       "    </tr>\n",
       "  </tbody>\n",
       "</table>\n",
       "</div>"
      ],
      "text/plain": [
       "            Code                     Region         Income group  \\\n",
       "Economy                                                            \n",
       "Aruba        ABW  Latin America & Caribbean          High income   \n",
       "Afghanistan  AFG                 South Asia           Low income   \n",
       "Angola       AGO         Sub-Saharan Africa  Lower middle income   \n",
       "Albania      ALB      Europe & Central Asia  Upper middle income   \n",
       "Andorra      AND      Europe & Central Asia          High income   \n",
       "\n",
       "            Lending category Other (EMU or HIPC)  \n",
       "Economy                                           \n",
       "Aruba                    NaN                 NaN  \n",
       "Afghanistan              IDA                HIPC  \n",
       "Angola                  IBRD                 NaN  \n",
       "Albania                 IBRD                 NaN  \n",
       "Andorra                  NaN                 NaN  "
      ]
     },
     "execution_count": 55,
     "metadata": {},
     "output_type": "execute_result"
    }
   ],
   "source": [
    "df_income = pd.read_excel(\"WORLD_BANK_CLASS.xlsx\", index_col = 0)\n",
    "df_income.head()\n"
   ]
  },
  {
   "cell_type": "code",
   "execution_count": 56,
   "metadata": {},
   "outputs": [
    {
     "data": {
      "text/html": [
       "<div>\n",
       "<style scoped>\n",
       "    .dataframe tbody tr th:only-of-type {\n",
       "        vertical-align: middle;\n",
       "    }\n",
       "\n",
       "    .dataframe tbody tr th {\n",
       "        vertical-align: top;\n",
       "    }\n",
       "\n",
       "    .dataframe thead th {\n",
       "        text-align: right;\n",
       "    }\n",
       "</style>\n",
       "<table border=\"1\" class=\"dataframe\">\n",
       "  <thead>\n",
       "    <tr style=\"text-align: right;\">\n",
       "      <th></th>\n",
       "      <th>Code</th>\n",
       "      <th>Region</th>\n",
       "      <th>Income group</th>\n",
       "      <th>Lending category</th>\n",
       "      <th>Other (EMU or HIPC)</th>\n",
       "    </tr>\n",
       "    <tr>\n",
       "      <th>Economy</th>\n",
       "      <th></th>\n",
       "      <th></th>\n",
       "      <th></th>\n",
       "      <th></th>\n",
       "      <th></th>\n",
       "    </tr>\n",
       "  </thead>\n",
       "  <tbody>\n",
       "  </tbody>\n",
       "</table>\n",
       "</div>"
      ],
      "text/plain": [
       "Empty DataFrame\n",
       "Columns: [Code, Region, Income group, Lending category, Other (EMU or HIPC)]\n",
       "Index: []"
      ]
     },
     "execution_count": 56,
     "metadata": {},
     "output_type": "execute_result"
    }
   ],
   "source": [
    "df_income[df_income[\"Income group\"] == \"nan\"]"
   ]
  },
  {
   "cell_type": "code",
   "execution_count": 57,
   "metadata": {},
   "outputs": [],
   "source": [
    "NGO_country_stats[\"Income_Group\"] = len(NGO_country_stats.Country) * [np.nan]\n",
    "IGO_country_stats[\"Income_Group\"] = len(IGO_country_stats.Country) * [np.nan]"
   ]
  },
  {
   "cell_type": "code",
   "execution_count": 58,
   "metadata": {},
   "outputs": [
    {
     "name": "stderr",
     "output_type": "stream",
     "text": [
      "/Users/stefan/py_38_env/lib/python3.8/site-packages/pandas/core/indexing.py:1637: SettingWithCopyWarning: \n",
      "A value is trying to be set on a copy of a slice from a DataFrame\n",
      "\n",
      "See the caveats in the documentation: https://pandas.pydata.org/pandas-docs/stable/user_guide/indexing.html#returning-a-view-versus-a-copy\n",
      "  self._setitem_single_block(indexer, value, name)\n"
     ]
    }
   ],
   "source": [
    "income_iso3_list = list(df_income.Code)\n",
    "for i in range(len(NGO_country_stats.ISO3)):\n",
    "    current_iso3 = str(NGO_country_stats.ISO3.iloc[i])\n",
    "    try:\n",
    "        index = income_iso3_list.index(current_iso3)\n",
    "        NGO_country_stats.Income_Group.iloc[i] = str(df_income[\"Income group\"].iloc[index])\n",
    "    except:\n",
    "        pass\n",
    "        "
   ]
  },
  {
   "cell_type": "code",
   "execution_count": 59,
   "metadata": {},
   "outputs": [
    {
     "data": {
      "text/html": [
       "<div>\n",
       "<style scoped>\n",
       "    .dataframe tbody tr th:only-of-type {\n",
       "        vertical-align: middle;\n",
       "    }\n",
       "\n",
       "    .dataframe tbody tr th {\n",
       "        vertical-align: top;\n",
       "    }\n",
       "\n",
       "    .dataframe thead th {\n",
       "        text-align: right;\n",
       "    }\n",
       "</style>\n",
       "<table border=\"1\" class=\"dataframe\">\n",
       "  <thead>\n",
       "    <tr style=\"text-align: right;\">\n",
       "      <th></th>\n",
       "      <th>Country</th>\n",
       "      <th>Count</th>\n",
       "      <th>ISO3</th>\n",
       "      <th>Continent</th>\n",
       "      <th>Income_Group</th>\n",
       "    </tr>\n",
       "  </thead>\n",
       "  <tbody>\n",
       "    <tr>\n",
       "      <th>0</th>\n",
       "      <td>United States of America</td>\n",
       "      <td>228</td>\n",
       "      <td>USA</td>\n",
       "      <td>North America</td>\n",
       "      <td>High income</td>\n",
       "    </tr>\n",
       "    <tr>\n",
       "      <th>1</th>\n",
       "      <td>France</td>\n",
       "      <td>104</td>\n",
       "      <td>FRA</td>\n",
       "      <td>Europe</td>\n",
       "      <td>High income</td>\n",
       "    </tr>\n",
       "    <tr>\n",
       "      <th>2</th>\n",
       "      <td>United Kingdom of Great Britain and Northern I...</td>\n",
       "      <td>92</td>\n",
       "      <td>GBR</td>\n",
       "      <td>Europe</td>\n",
       "      <td>High income</td>\n",
       "    </tr>\n",
       "    <tr>\n",
       "      <th>3</th>\n",
       "      <td>Germany</td>\n",
       "      <td>74</td>\n",
       "      <td>DEU</td>\n",
       "      <td>Europe</td>\n",
       "      <td>High income</td>\n",
       "    </tr>\n",
       "    <tr>\n",
       "      <th>4</th>\n",
       "      <td>Belgium</td>\n",
       "      <td>40</td>\n",
       "      <td>BEL</td>\n",
       "      <td>Europe</td>\n",
       "      <td>High income</td>\n",
       "    </tr>\n",
       "  </tbody>\n",
       "</table>\n",
       "</div>"
      ],
      "text/plain": [
       "                                             Country  Count ISO3  \\\n",
       "0                           United States of America    228  USA   \n",
       "1                                             France    104  FRA   \n",
       "2  United Kingdom of Great Britain and Northern I...     92  GBR   \n",
       "3                                            Germany     74  DEU   \n",
       "4                                            Belgium     40  BEL   \n",
       "\n",
       "       Continent Income_Group  \n",
       "0  North America  High income  \n",
       "1         Europe  High income  \n",
       "2         Europe  High income  \n",
       "3         Europe  High income  \n",
       "4         Europe  High income  "
      ]
     },
     "execution_count": 59,
     "metadata": {},
     "output_type": "execute_result"
    }
   ],
   "source": [
    "NGO_country_stats.head()"
   ]
  },
  {
   "cell_type": "code",
   "execution_count": 60,
   "metadata": {},
   "outputs": [
    {
     "data": {
      "text/plain": [
       "52    Holy See\n",
       "Name: Country, dtype: object"
      ]
     },
     "execution_count": 60,
     "metadata": {},
     "output_type": "execute_result"
    }
   ],
   "source": [
    "NGO_country_stats.Country[NGO_country_stats.Income_Group.isna()]"
   ]
  },
  {
   "cell_type": "markdown",
   "metadata": {},
   "source": [
    "**NOTE: Unfortunately, the Holy See is not in our current list of countries, so the organizations based there will not be counted in this current iteration.**"
   ]
  },
  {
   "cell_type": "code",
   "execution_count": 61,
   "metadata": {},
   "outputs": [
    {
     "name": "stderr",
     "output_type": "stream",
     "text": [
      "/Users/stefan/py_38_env/lib/python3.8/site-packages/pandas/core/indexing.py:1637: SettingWithCopyWarning: \n",
      "A value is trying to be set on a copy of a slice from a DataFrame\n",
      "\n",
      "See the caveats in the documentation: https://pandas.pydata.org/pandas-docs/stable/user_guide/indexing.html#returning-a-view-versus-a-copy\n",
      "  self._setitem_single_block(indexer, value, name)\n"
     ]
    }
   ],
   "source": [
    "for i in range(len(IGO_country_stats.ISO3)):\n",
    "    current_iso3 = str(IGO_country_stats.ISO3.iloc[i])\n",
    "    try:\n",
    "        index = income_iso3_list.index(current_iso3)\n",
    "        IGO_country_stats.Income_Group.iloc[i] = str(df_income[\"Income group\"].iloc[index])\n",
    "    except:\n",
    "        pass"
   ]
  },
  {
   "cell_type": "code",
   "execution_count": 62,
   "metadata": {},
   "outputs": [
    {
     "data": {
      "text/plain": [
       "Series([], Name: Country, dtype: object)"
      ]
     },
     "execution_count": 62,
     "metadata": {},
     "output_type": "execute_result"
    }
   ],
   "source": [
    "IGO_country_stats.Country[NGO_country_stats.Income_Group.isna()]"
   ]
  },
  {
   "cell_type": "code",
   "execution_count": 63,
   "metadata": {},
   "outputs": [
    {
     "data": {
      "text/html": [
       "<div>\n",
       "<style scoped>\n",
       "    .dataframe tbody tr th:only-of-type {\n",
       "        vertical-align: middle;\n",
       "    }\n",
       "\n",
       "    .dataframe tbody tr th {\n",
       "        vertical-align: top;\n",
       "    }\n",
       "\n",
       "    .dataframe thead th {\n",
       "        text-align: right;\n",
       "    }\n",
       "</style>\n",
       "<table border=\"1\" class=\"dataframe\">\n",
       "  <thead>\n",
       "    <tr style=\"text-align: right;\">\n",
       "      <th></th>\n",
       "      <th>Country</th>\n",
       "      <th>Count</th>\n",
       "      <th>ISO3</th>\n",
       "      <th>Continent</th>\n",
       "      <th>Income_Group</th>\n",
       "    </tr>\n",
       "  </thead>\n",
       "  <tbody>\n",
       "    <tr>\n",
       "      <th>0</th>\n",
       "      <td>Switzerland</td>\n",
       "      <td>6</td>\n",
       "      <td>CHE</td>\n",
       "      <td>Europe</td>\n",
       "      <td>High income</td>\n",
       "    </tr>\n",
       "    <tr>\n",
       "      <th>1</th>\n",
       "      <td>France</td>\n",
       "      <td>6</td>\n",
       "      <td>FRA</td>\n",
       "      <td>Europe</td>\n",
       "      <td>High income</td>\n",
       "    </tr>\n",
       "    <tr>\n",
       "      <th>2</th>\n",
       "      <td>Finland</td>\n",
       "      <td>4</td>\n",
       "      <td>FIN</td>\n",
       "      <td>Europe</td>\n",
       "      <td>High income</td>\n",
       "    </tr>\n",
       "    <tr>\n",
       "      <th>3</th>\n",
       "      <td>United Kingdom of Great Britain and Northern I...</td>\n",
       "      <td>4</td>\n",
       "      <td>GBR</td>\n",
       "      <td>Europe</td>\n",
       "      <td>High income</td>\n",
       "    </tr>\n",
       "    <tr>\n",
       "      <th>4</th>\n",
       "      <td>Austria</td>\n",
       "      <td>3</td>\n",
       "      <td>AUT</td>\n",
       "      <td>Europe</td>\n",
       "      <td>High income</td>\n",
       "    </tr>\n",
       "  </tbody>\n",
       "</table>\n",
       "</div>"
      ],
      "text/plain": [
       "                                             Country  Count ISO3 Continent  \\\n",
       "0                                        Switzerland      6  CHE    Europe   \n",
       "1                                             France      6  FRA    Europe   \n",
       "2                                            Finland      4  FIN    Europe   \n",
       "3  United Kingdom of Great Britain and Northern I...      4  GBR    Europe   \n",
       "4                                            Austria      3  AUT    Europe   \n",
       "\n",
       "  Income_Group  \n",
       "0  High income  \n",
       "1  High income  \n",
       "2  High income  \n",
       "3  High income  \n",
       "4  High income  "
      ]
     },
     "execution_count": 63,
     "metadata": {},
     "output_type": "execute_result"
    }
   ],
   "source": [
    "IGO_country_stats.head()"
   ]
  },
  {
   "cell_type": "code",
   "execution_count": 64,
   "metadata": {},
   "outputs": [],
   "source": [
    "NGO_country_stats.to_csv(\"2015_NGO_country_stats.csv\")\n",
    "IGO_country_stats.to_csv(\"2015_IGO_country_stats.csv\")"
   ]
  },
  {
   "cell_type": "code",
   "execution_count": 65,
   "metadata": {},
   "outputs": [
    {
     "data": {
      "text/plain": [
       "['High income', 'Upper middle income', 'Lower middle income', 'Low income']"
      ]
     },
     "execution_count": 65,
     "metadata": {},
     "output_type": "execute_result"
    }
   ],
   "source": [
    "income_unique = list(NGO_country_stats.Income_Group.unique())\n",
    "income_unique.pop(-1)\n",
    "income_unique"
   ]
  },
  {
   "cell_type": "code",
   "execution_count": 66,
   "metadata": {},
   "outputs": [
    {
     "data": {
      "text/plain": [
       "[825, 139, 107, 6]"
      ]
     },
     "execution_count": 66,
     "metadata": {},
     "output_type": "execute_result"
    }
   ],
   "source": [
    "sum_by_income_group = [NGO_country_stats.Count[NGO_country_stats.Income_Group == income_grp].sum() for income_grp in income_unique]\n",
    "sum_by_income_group"
   ]
  },
  {
   "cell_type": "code",
   "execution_count": 67,
   "metadata": {},
   "outputs": [],
   "source": [
    "NGO_income_group_stats = pd.DataFrame(list(zip(income_unique, sum_by_income_group)), \n",
    "                                  columns = [\"Income_Group\", \"Count\"])\n"
   ]
  },
  {
   "cell_type": "code",
   "execution_count": 68,
   "metadata": {},
   "outputs": [
    {
     "data": {
      "text/html": [
       "<div>\n",
       "<style scoped>\n",
       "    .dataframe tbody tr th:only-of-type {\n",
       "        vertical-align: middle;\n",
       "    }\n",
       "\n",
       "    .dataframe tbody tr th {\n",
       "        vertical-align: top;\n",
       "    }\n",
       "\n",
       "    .dataframe thead th {\n",
       "        text-align: right;\n",
       "    }\n",
       "</style>\n",
       "<table border=\"1\" class=\"dataframe\">\n",
       "  <thead>\n",
       "    <tr style=\"text-align: right;\">\n",
       "      <th></th>\n",
       "      <th>Income_Group</th>\n",
       "      <th>Count</th>\n",
       "    </tr>\n",
       "  </thead>\n",
       "  <tbody>\n",
       "    <tr>\n",
       "      <th>0</th>\n",
       "      <td>High income</td>\n",
       "      <td>825</td>\n",
       "    </tr>\n",
       "    <tr>\n",
       "      <th>1</th>\n",
       "      <td>Upper middle income</td>\n",
       "      <td>139</td>\n",
       "    </tr>\n",
       "    <tr>\n",
       "      <th>2</th>\n",
       "      <td>Lower middle income</td>\n",
       "      <td>107</td>\n",
       "    </tr>\n",
       "    <tr>\n",
       "      <th>3</th>\n",
       "      <td>Low income</td>\n",
       "      <td>6</td>\n",
       "    </tr>\n",
       "  </tbody>\n",
       "</table>\n",
       "</div>"
      ],
      "text/plain": [
       "          Income_Group  Count\n",
       "0          High income    825\n",
       "1  Upper middle income    139\n",
       "2  Lower middle income    107\n",
       "3           Low income      6"
      ]
     },
     "execution_count": 68,
     "metadata": {},
     "output_type": "execute_result"
    }
   ],
   "source": [
    "NGO_income_group_stats.head()"
   ]
  },
  {
   "cell_type": "code",
   "execution_count": 69,
   "metadata": {},
   "outputs": [
    {
     "data": {
      "text/plain": [
       "[40, 9, 12, 5]"
      ]
     },
     "execution_count": 69,
     "metadata": {},
     "output_type": "execute_result"
    }
   ],
   "source": [
    "sum_by_income_group = [IGO_country_stats.Count[IGO_country_stats.Income_Group == income_grp].sum() for income_grp in income_unique]\n",
    "sum_by_income_group"
   ]
  },
  {
   "cell_type": "code",
   "execution_count": 70,
   "metadata": {},
   "outputs": [],
   "source": [
    "IGO_income_group_stats = pd.DataFrame(list(zip(income_unique, sum_by_income_group)), \n",
    "                                  columns = [\"Income_Group\", \"Count\"])"
   ]
  },
  {
   "cell_type": "code",
   "execution_count": 71,
   "metadata": {},
   "outputs": [
    {
     "data": {
      "text/html": [
       "<div>\n",
       "<style scoped>\n",
       "    .dataframe tbody tr th:only-of-type {\n",
       "        vertical-align: middle;\n",
       "    }\n",
       "\n",
       "    .dataframe tbody tr th {\n",
       "        vertical-align: top;\n",
       "    }\n",
       "\n",
       "    .dataframe thead th {\n",
       "        text-align: right;\n",
       "    }\n",
       "</style>\n",
       "<table border=\"1\" class=\"dataframe\">\n",
       "  <thead>\n",
       "    <tr style=\"text-align: right;\">\n",
       "      <th></th>\n",
       "      <th>Income_Group</th>\n",
       "      <th>Count</th>\n",
       "    </tr>\n",
       "  </thead>\n",
       "  <tbody>\n",
       "    <tr>\n",
       "      <th>0</th>\n",
       "      <td>High income</td>\n",
       "      <td>40</td>\n",
       "    </tr>\n",
       "    <tr>\n",
       "      <th>1</th>\n",
       "      <td>Upper middle income</td>\n",
       "      <td>9</td>\n",
       "    </tr>\n",
       "    <tr>\n",
       "      <th>2</th>\n",
       "      <td>Lower middle income</td>\n",
       "      <td>12</td>\n",
       "    </tr>\n",
       "    <tr>\n",
       "      <th>3</th>\n",
       "      <td>Low income</td>\n",
       "      <td>5</td>\n",
       "    </tr>\n",
       "  </tbody>\n",
       "</table>\n",
       "</div>"
      ],
      "text/plain": [
       "          Income_Group  Count\n",
       "0          High income     40\n",
       "1  Upper middle income      9\n",
       "2  Lower middle income     12\n",
       "3           Low income      5"
      ]
     },
     "execution_count": 71,
     "metadata": {},
     "output_type": "execute_result"
    }
   ],
   "source": [
    "IGO_income_group_stats.head()"
   ]
  },
  {
   "cell_type": "code",
   "execution_count": 72,
   "metadata": {},
   "outputs": [
    {
     "data": {
      "image/png": "[encoded data removed]",
      "text/plain": [
       "<Figure size 1440x720 with 2 Axes>"
      ]
     },
     "metadata": {},
     "output_type": "display_data"
    }
   ],
   "source": [
    "%matplotlib inline\n",
    "plt.figure(figsize=(20,10))\n",
    "plt.subplot(1, 2, 1)\n",
    "plt.pie(NGO_income_group_stats.Count,labels=NGO_income_group_stats.Income_Group,\n",
    "        autopct='%1.1f%%',\n",
    "        startangle = 90)\n",
    "plt.title('Income Group Distribution of the Countries of Origin of NGOs (COP2015, n = 1078) \\n(Note: excludes NGOs based in the Holy See)')\n",
    "plt.axis('equal')\n",
    "\n",
    "plt.subplot(1, 2, 2)\n",
    "plt.pie(IGO_income_group_stats.Count,labels=IGO_income_group_stats.Income_Group,\n",
    "        autopct='%1.1f%%',\n",
    "        startangle = 90)\n",
    "plt.title('Income Group Distribution of the Countries of Origin of IGOs (COP2015, n = 67)')\n",
    "plt.axis('equal')\n",
    "plt.savefig('COP2015_income_group_distribution_NGOs_vs_IGOs.png', facecolor = \"white\")"
   ]
  },
  {
   "cell_type": "markdown",
   "metadata": {},
   "source": [
    "## WARNING: THE CODE FROM THIS POINT ONWARDS WAS NOT RUN FOR COP2015 AND IS COPIED FROM THE INFORMATION EXTRACTION PIPELINE OF COP2019. USE AS NEEDED WITH NECESSARY MODIFICATIONS ( NOT YET DONE!)"
   ]
  },
  {
   "cell_type": "markdown",
   "metadata": {},
   "source": [
    "# Gender Breakdown of NGO/IGO Coordinators"
   ]
  },
  {
   "cell_type": "code",
   "execution_count": 3,
   "metadata": {},
   "outputs": [],
   "source": [
    "NGO = pd.read_csv(\"NGOs_COP2019_complete.csv\")\n",
    "IGO = pd.read_csv(\"IGOs_COP2019_complete.csv\")"
   ]
  },
  {
   "cell_type": "code",
   "execution_count": 4,
   "metadata": {},
   "outputs": [],
   "source": [
    "def get_coordinator_gender_breakdown(coordinators):\n",
    "    coord_list = list(coordinators)\n",
    "    males = 0\n",
    "    females = 0\n",
    "    for coordinator in coord_list:\n",
    "        coordinator = str(coordinator)\n",
    "        if((\"Mr.\" in coordinator) or (\"M.\" in coordinator) or (\"Sr.\" in coordinator) or (\"Sr\" in coordinator)):\n",
    "            males = males + 1\n",
    "        if((\"Ms.\" in coordinator) or (\"Ms\" in coordinator) or (\"Mrs.\" in coordinator) or (\"Sra.\" in coordinator) or (\"Sra\" in coordinator) or (\"Mme.\" in coordinator) or (\"Mme\" in coordinator)):\n",
    "            females = females + 1\n",
    "    return (males, females)"
   ]
  },
  {
   "cell_type": "code",
   "execution_count": 5,
   "metadata": {},
   "outputs": [],
   "source": [
    "NGO_gender_breakdown = list(get_coordinator_gender_breakdown(NGO.coordinator))\n",
    "IGO_gender_breakdown = list(get_coordinator_gender_breakdown(IGO.coordinator))"
   ]
  },
  {
   "cell_type": "code",
   "execution_count": 6,
   "metadata": {},
   "outputs": [
    {
     "name": "stdout",
     "output_type": "stream",
     "text": [
      "[562, 492]\n",
      "[43, 30]\n"
     ]
    }
   ],
   "source": [
    "print(NGO_gender_breakdown)\n",
    "print(IGO_gender_breakdown)"
   ]
  },
  {
   "cell_type": "code",
   "execution_count": 7,
   "metadata": {},
   "outputs": [],
   "source": [
    "labels = [\"Males\\n(Mr./Sr./M.)\", \"Females\\n(Ms./Mrs./Sra./Mme.)\"]"
   ]
  },
  {
   "cell_type": "code",
   "execution_count": 64,
   "metadata": {},
   "outputs": [
    {
     "data": {
      "image/png": "[encoded data removed]",
      "text/plain": [
       "<Waffle size 1440x720 with 1 Axes>"
      ]
     },
     "metadata": {},
     "output_type": "display_data"
    }
   ],
   "source": [
    "fig = plt.figure(\n",
    "   FigureClass=Waffle,\n",
    "   rows=20,\n",
    "    figsize = (20,10),\n",
    "   values=NGO_gender_breakdown,\n",
    "    colors = [\"lightblue\", \"pink\"],\n",
    "    facecolor = \"white\",\n",
    "    title={\n",
    "    'label': 'Waffle Chart of the Gender Distribution of NGO Coordinators (COP2019)',\n",
    "    'loc': 'center',\n",
    "    'fontdict': {\n",
    "    'fontsize': 20}},\n",
    "   labels=labels,\n",
    "    legend={\n",
    "        'loc': 'right',\n",
    "        'ncol': 1,\n",
    "        'bbox_to_anchor': (1.15, 0.92),\n",
    "        'fontsize': 12\n",
    "    })\n",
    "plt.savefig('COP2019_WAFFLE_coordinator_gender_distrib_NGOs.png', facecolor = \"white\")"
   ]
  },
  {
   "cell_type": "code",
   "execution_count": 65,
   "metadata": {},
   "outputs": [
    {
     "data": {
      "image/png": "[encoded data removed]",
      "text/plain": [
       "<Waffle size 1440x720 with 1 Axes>"
      ]
     },
     "metadata": {},
     "output_type": "display_data"
    }
   ],
   "source": [
    "fig = plt.figure(\n",
    "   FigureClass=Waffle,\n",
    "   rows=5,\n",
    "   figsize = (20,10),\n",
    "   values=IGO_gender_breakdown,\n",
    "    colors = [\"lightblue\", \"pink\"],\n",
    "    facecolor = \"white\",\n",
    "    title={\n",
    "    'label': 'Waffle Chart of the Gender Distribution of IGO Coordinators (COP2019)',\n",
    "    'loc': 'center',\n",
    "    'fontdict': {\n",
    "    'fontsize': 20}},\n",
    "   labels=labels,\n",
    "    legend={\n",
    "        'loc': 'right',\n",
    "        'ncol': 1,\n",
    "        'bbox_to_anchor': (1.1, 0.92),\n",
    "        'fontsize': 12\n",
    "    })\n",
    "plt.savefig('COP2019_WAFFLE_coordinator_gender_distrib_IGOs.png', facecolor = \"white\")"
   ]
  },
  {
   "cell_type": "code",
   "execution_count": 94,
   "metadata": {},
   "outputs": [
    {
     "data": {
      "image/png": "[encoded data removed]",
      "text/plain": [
       "<Figure size 1440x720 with 2 Axes>"
      ]
     },
     "metadata": {},
     "output_type": "display_data"
    }
   ],
   "source": [
    "plt.figure(figsize=(20,10))\n",
    "plt.subplot(1, 2, 1)\n",
    "plt.pie(NGO_gender_breakdown,labels=labels,\n",
    "        autopct='%1.1f%%', \n",
    "        explode = (0.06, 0), \n",
    "        colors = [\"lightblue\", \"pink\"],\n",
    "        startangle = 90)\n",
    "plt.title('Gender Distribution of NGO Coordinators\\n(COP2019)')\n",
    "plt.axis('equal')\n",
    "\n",
    "plt.subplot(1, 2, 2)\n",
    "plt.pie(IGO_gender_breakdown,labels=labels,\n",
    "        autopct='%1.1f%%', \n",
    "        explode = (0.06, 0), \n",
    "        colors = [\"lightblue\", \"pink\"],\n",
    "        startangle = 90)\n",
    "plt.title('Gender Distribution of IGO Coordinators\\n(COP2019)')\n",
    "plt.savefig('COP2019_coordinator_gender_distrib_NGOs_vs_IGOs.png', facecolor = \"white\")\n"
   ]
  },
  {
   "cell_type": "code",
   "execution_count": null,
   "metadata": {},
   "outputs": [],
   "source": []
  },
  {
   "cell_type": "markdown",
   "metadata": {},
   "source": [
    "# Updated and Inverted Color-Coded Maps"
   ]
  },
  {
   "cell_type": "code",
   "execution_count": 170,
   "metadata": {},
   "outputs": [],
   "source": [
    "NGO_country_stats = pd.read_csv(\"NGO_country_stats.csv\", index_col=0)\n",
    "IGO_country_stats = pd.read_csv(\"IGO_country_stats.csv\", index_col=0)"
   ]
  },
  {
   "cell_type": "code",
   "execution_count": 171,
   "metadata": {},
   "outputs": [],
   "source": [
    "all_countries = pd.read_excel(\"186_countries_list.xlsx\")"
   ]
  },
  {
   "cell_type": "code",
   "execution_count": 172,
   "metadata": {},
   "outputs": [
    {
     "data": {
      "text/html": [
       "<div>\n",
       "<style scoped>\n",
       "    .dataframe tbody tr th:only-of-type {\n",
       "        vertical-align: middle;\n",
       "    }\n",
       "\n",
       "    .dataframe tbody tr th {\n",
       "        vertical-align: top;\n",
       "    }\n",
       "\n",
       "    .dataframe thead th {\n",
       "        text-align: right;\n",
       "    }\n",
       "</style>\n",
       "<table border=\"1\" class=\"dataframe\">\n",
       "  <thead>\n",
       "    <tr style=\"text-align: right;\">\n",
       "      <th></th>\n",
       "      <th>UNDP Country Name</th>\n",
       "      <th>iso code</th>\n",
       "    </tr>\n",
       "  </thead>\n",
       "  <tbody>\n",
       "    <tr>\n",
       "      <th>0</th>\n",
       "      <td>Afghanistan</td>\n",
       "      <td>AFG</td>\n",
       "    </tr>\n",
       "    <tr>\n",
       "      <th>1</th>\n",
       "      <td>Albania</td>\n",
       "      <td>ALB</td>\n",
       "    </tr>\n",
       "    <tr>\n",
       "      <th>2</th>\n",
       "      <td>Algeria</td>\n",
       "      <td>DZA</td>\n",
       "    </tr>\n",
       "    <tr>\n",
       "      <th>3</th>\n",
       "      <td>Angola</td>\n",
       "      <td>AGO</td>\n",
       "    </tr>\n",
       "    <tr>\n",
       "      <th>4</th>\n",
       "      <td>Argentina</td>\n",
       "      <td>ARG</td>\n",
       "    </tr>\n",
       "  </tbody>\n",
       "</table>\n",
       "</div>"
      ],
      "text/plain": [
       "  UNDP Country Name iso code\n",
       "0       Afghanistan      AFG\n",
       "1           Albania      ALB\n",
       "2           Algeria      DZA\n",
       "3            Angola      AGO\n",
       "4         Argentina      ARG"
      ]
     },
     "execution_count": 172,
     "metadata": {},
     "output_type": "execute_result"
    }
   ],
   "source": [
    "all_countries.head()"
   ]
  },
  {
   "cell_type": "code",
   "execution_count": 173,
   "metadata": {},
   "outputs": [
    {
     "name": "stdout",
     "output_type": "stream",
     "text": [
      "75 48\n"
     ]
    }
   ],
   "source": [
    "i = len(NGO_country_stats.ISO3)\n",
    "j = len(IGO_country_stats.ISO3)\n",
    "print(i, j)"
   ]
  },
  {
   "cell_type": "code",
   "execution_count": 174,
   "metadata": {},
   "outputs": [],
   "source": [
    "all_iso3_codes = list(all_countries[\"iso code\"])\n",
    "for k in range(len(all_iso3_codes)):\n",
    "    iso3 = all_iso3_codes[k]\n",
    "    if iso3 not in list(NGO_country_stats.ISO3):\n",
    "        NGO_country_stats.loc[i] = [str(all_countries.loc[k, \"UNDP Country Name\"]), 0, iso3, np.nan]\n",
    "        i = i + 1\n",
    "    if iso3 not in list(IGO_country_stats.ISO3):\n",
    "        IGO_country_stats.loc[j] = [str(all_countries.loc[k, \"UNDP Country Name\"]), 0, iso3, np.nan]\n",
    "        j = j + 1"
   ]
  },
  {
   "cell_type": "code",
   "execution_count": 175,
   "metadata": {},
   "outputs": [
    {
     "data": {
      "text/html": [
       "<div>\n",
       "<style scoped>\n",
       "    .dataframe tbody tr th:only-of-type {\n",
       "        vertical-align: middle;\n",
       "    }\n",
       "\n",
       "    .dataframe tbody tr th {\n",
       "        vertical-align: top;\n",
       "    }\n",
       "\n",
       "    .dataframe thead th {\n",
       "        text-align: right;\n",
       "    }\n",
       "</style>\n",
       "<table border=\"1\" class=\"dataframe\">\n",
       "  <thead>\n",
       "    <tr style=\"text-align: right;\">\n",
       "      <th></th>\n",
       "      <th>Country</th>\n",
       "      <th>Count</th>\n",
       "      <th>ISO3</th>\n",
       "      <th>Continent</th>\n",
       "    </tr>\n",
       "  </thead>\n",
       "  <tbody>\n",
       "    <tr>\n",
       "      <th>161</th>\n",
       "      <td>Serbia</td>\n",
       "      <td>0</td>\n",
       "      <td>SRB</td>\n",
       "      <td>NaN</td>\n",
       "    </tr>\n",
       "  </tbody>\n",
       "</table>\n",
       "</div>"
      ],
      "text/plain": [
       "    Country  Count ISO3 Continent\n",
       "161  Serbia      0  SRB       NaN"
      ]
     },
     "execution_count": 175,
     "metadata": {},
     "output_type": "execute_result"
    }
   ],
   "source": [
    "NGO_country_stats[NGO_country_stats.Country == \"Serbia\"]"
   ]
  },
  {
   "cell_type": "code",
   "execution_count": 193,
   "metadata": {},
   "outputs": [
    {
     "data": {
      "application/vnd.plotly.v1+json": {
       "config": {
        "plotlyServerURL": "https://plot.ly"
       },
       "data": [
        {
         "coloraxis": "coloraxis",
         "geo": "geo",
         "hovertemplate": "<b>%{hovertext}</b><br><br>ISO3=%{location}<br>Count=%{z}<extra></extra>",
         "hovertext": [
          "United States of America",
          "United Kingdom of Great Britain and Northern Ireland",
          "Germany",
          "France",
          "Canada",
          "China",
          "Belgium",
          "Switzerland",
          "Japan",
          "Nigeria",
          "Netherlands",
          "Spain",
          "Australia",
          "Brazil",
          "India",
          "Peru",
          "Italy",
          "Denmark",
          "Sweden",
          "Morocco",
          "Bangladesh",
          "Norway",
          "Nepal",
          "Austria",
          "Republic of Korea",
          "South Africa",
          "Philippines",
          "Kenya",
          "Mexico",
          "Argentina",
          "Malaysia",
          "Turkey",
          "Israel",
          "Colombia",
          "Ukraine",
          "Singapore",
          "Ecuador",
          "Thailand",
          "Russian Federation",
          "New Zealand",
          "Panama",
          "Ghana",
          "Finland",
          "Lebanon",
          "Guatemala",
          "Togo",
          "Bolivia (Plurinational State of)",
          "United Republic of Tanzania",
          "Pakistan",
          "Czechia",
          "Ireland",
          "Nicaragua",
          "Luxembourg",
          "Cameroon",
          "Saudi Arabia",
          "Democratic Republic of the Congo",
          "Cuba",
          "Poland",
          "Côte d'Ivoire",
          "Sri Lanka",
          "Libya",
          "Armenia",
          "Iran (Islamic Republic of)",
          "El Salvador",
          "Dominican Republic",
          "Senegal",
          "Holy See",
          "San Marino",
          "Uruguay",
          "Uganda",
          "Costa Rica",
          "Chile",
          "Kazakhstan",
          "Chad",
          "Honduras",
          "Afghanistan",
          "Albania",
          "Algeria",
          "Angola",
          "Azerbaijan",
          "Bahamas",
          "Bahrain",
          "Barbados",
          "Belarus",
          "Belize",
          "Benin",
          "Bhutan",
          "Bosnia and Herzegovina",
          "Botswana",
          "Brunei Darussalam",
          "Bulgaria",
          "Burkina Faso",
          "Burundi",
          "Cape Verde",
          "Cambodia",
          "Central African Republic",
          "Comoros",
          "Congo",
          "Congo (Democratic Republic of the)",
          "Croatia",
          "Cyprus",
          "Djibouti",
          "Egypt",
          "Equatorial Guinea",
          "Eritrea",
          "Estonia",
          "Swaziland",
          "Ethiopia",
          "Fiji",
          "Gabon",
          "Gambia",
          "Georgia",
          "Greece",
          "Grenada",
          "Guinea",
          "Guinea-Bissau",
          "Guyana",
          "Haiti",
          "Hong Kong, China (SAR)",
          "Hungary",
          "Iceland",
          "Indonesia",
          "Iraq",
          "Jamaica",
          "Jordan",
          "Korea (Democratic People's Rep. of)",
          "Kosovo",
          "Kuwait",
          "Kyrgyzstan",
          "Lao People's Democratic Republic",
          "Latvia",
          "Lesotho",
          "Liberia",
          "Lithuania",
          "The former Yugoslav Republic of Macedonia",
          "Madagascar",
          "Malawi",
          "Maldives",
          "Mali",
          "Malta",
          "Mauritania",
          "Mauritius",
          "Micronesia (Federated States of)",
          "Moldova (Republic of)",
          "Mongolia",
          "Montenegro",
          "Mozambique",
          "Myanmar",
          "Namibia",
          "Niger",
          "Oman",
          "Occupied Palestinian Territories",
          "Papua New Guinea",
          "Paraguay",
          "Portugal",
          "Puerto Rico",
          "Qatar",
          "Romania",
          "Rwanda",
          "Samoa",
          "Sao Tome and Principe",
          "Serbia",
          "Seychelles",
          "Sierra Leone",
          "Slovakia",
          "Slovenia",
          "Solomon Islands",
          "Somalia",
          "Saint Lucia",
          "Saint Vincent and the Grenadines",
          "Sudan",
          "South Sudan",
          "Suriname",
          "Syrian Arab Republic",
          "Tajikistan",
          "Timor-Leste",
          "Tonga",
          "Trinidad and Tobago",
          "Tunisia",
          "Turkmenistan",
          "United Arab Emirates",
          "Uzbekistan",
          "Vanuatu",
          "Venezuela (Bolivarian Republic of)",
          "Viet Nam",
          "Yemen",
          "Zambia",
          "Zimbabwe",
          "Greenland",
          "Antarctica"
         ],
         "locations": [
          "USA",
          "GBR",
          "DEU",
          "FRA",
          "CAN",
          "CHN",
          "BEL",
          "CHE",
          "JPN",
          "NGA",
          "NLD",
          "ESP",
          "AUS",
          "BRA",
          "IND",
          "PER",
          "ITA",
          "DNK",
          "SWE",
          "MAR",
          "BGD",
          "NOR",
          "NPL",
          "AUT",
          "KOR",
          "ZAF",
          "PHL",
          "KEN",
          "MEX",
          "ARG",
          "MYS",
          "TUR",
          "ISR",
          "COL",
          "UKR",
          "SGP",
          "ECU",
          "THA",
          "RUS",
          "NZL",
          "PAN",
          "GHA",
          "FIN",
          "LBN",
          "GTM",
          "TGO",
          "BOL",
          "TZA",
          "PAK",
          "CZE",
          "IRL",
          "NIC",
          "LUX",
          "CMR",
          "SAU",
          "COD",
          "CUB",
          "POL",
          "CIV",
          "LKA",
          "LBY",
          "ARM",
          "IRN",
          "SLV",
          "DOM",
          "SEN",
          "VAT",
          "SMR",
          "URY",
          "UGA",
          "CRI",
          "CHL",
          "KAZ",
          "TCD",
          "HND",
          "AFG",
          "ALB",
          "DZA",
          "AGO",
          "AZE",
          "BHS",
          "BHR",
          "BRB",
          "BLR",
          "BLZ",
          "BEN",
          "BTN",
          "BIH",
          "BWA",
          "BRN",
          "BGR",
          "BFA",
          "BDI",
          "CPV",
          "KHM",
          "CAF",
          "COM",
          "COG",
          "ZAR",
          "HRV",
          "CYP",
          "DJI",
          "EGY",
          "GNQ",
          "ERI",
          "EST",
          "SWZ",
          "ETH",
          "FJI",
          "GAB",
          "GMB",
          "GEO",
          "GRC",
          "GRD",
          "GIN",
          "GNB",
          "GUY",
          "HTI",
          "HKG",
          "HUN",
          "ISL",
          "IDN",
          "IRQ",
          "JAM",
          "JOR",
          "PRK",
          "KSV",
          "KWT",
          "KGZ",
          "LAO",
          "LVA",
          "LSO",
          "LBR",
          "LTU",
          "MKD",
          "MDG",
          "MWI",
          "MDV",
          "MLI",
          "MLT",
          "MRT",
          "MUS",
          "FSM",
          "MDA",
          "MNG",
          "MNE",
          "MOZ",
          "MMR",
          "NAM",
          "NER",
          "OMN",
          "WBG",
          "PNG",
          "PRY",
          "PRT",
          "PRI",
          "QAT",
          "ROU",
          "RWA",
          "WSM",
          "STP",
          "SRB",
          "SYC",
          "SLE",
          "SVK",
          "SVN",
          "SLB",
          "SOM",
          "LCA",
          "VCT",
          "SDN",
          "SSD",
          "SUR",
          "SYR",
          "TJK",
          "TMP",
          "TON",
          "TTO",
          "TUN",
          "TKM",
          "ARE",
          "UZB",
          "VUT",
          "VEN",
          "VNM",
          "YEM",
          "ZMB",
          "ZWE",
          "GRL",
          "ATA"
         ],
         "name": "",
         "type": "choropleth",
         "z": [
          231,
          83,
          76,
          56,
          50,
          43,
          40,
          39,
          35,
          23,
          22,
          22,
          21,
          21,
          21,
          20,
          19,
          18,
          13,
          11,
          11,
          10,
          9,
          8,
          8,
          8,
          8,
          8,
          7,
          7,
          5,
          5,
          5,
          4,
          4,
          4,
          4,
          4,
          4,
          4,
          4,
          3,
          3,
          3,
          3,
          2,
          2,
          2,
          2,
          2,
          2,
          2,
          2,
          2,
          1,
          1,
          1,
          1,
          1,
          1,
          1,
          1,
          1,
          1,
          1,
          1,
          1,
          1,
          1,
          1,
          1,
          1,
          1,
          1,
          1,
          0,
          0,
          0,
          0,
          0,
          0,
          0,
          0,
          0,
          0,
          0,
          0,
          0,
          0,
          0,
          0,
          0,
          0,
          0,
          0,
          0,
          0,
          0,
          0,
          0,
          0,
          0,
          0,
          0,
          0,
          0,
          0,
          0,
          0,
          0,
          0,
          0,
          0,
          0,
          0,
          0,
          0,
          0,
          0,
          0,
          0,
          0,
          0,
          0,
          0,
          0,
          0,
          0,
          0,
          0,
          0,
          0,
          0,
          0,
          0,
          0,
          0,
          0,
          0,
          0,
          0,
          0,
          0,
          0,
          0,
          0,
          0,
          0,
          0,
          0,
          0,
          0,
          0,
          0,
          0,
          0,
          0,
          0,
          0,
          0,
          0,
          0,
          0,
          0,
          0,
          0,
          0,
          0,
          0,
          0,
          0,
          0,
          0,
          0,
          0,
          0,
          0,
          0,
          0,
          0,
          0,
          0,
          0,
          0,
          0,
          0,
          0,
          0,
          0,
          0
         ]
        }
       ],
       "layout": {
        "coloraxis": {
         "cmax": 250,
         "cmin": 0,
         "colorbar": {
          "title": {
           "text": "Count"
          }
         },
         "colorscale": [
          [
           0,
           "rgb(103,0,13)"
          ],
          [
           0.125,
           "rgb(165,15,21)"
          ],
          [
           0.25,
           "rgb(203,24,29)"
          ],
          [
           0.375,
           "rgb(239,59,44)"
          ],
          [
           0.5,
           "rgb(251,106,74)"
          ],
          [
           0.625,
           "rgb(252,146,114)"
          ],
          [
           0.75,
           "rgb(252,187,161)"
          ],
          [
           0.875,
           "rgb(254,224,210)"
          ],
          [
           1,
           "rgb(255,245,240)"
          ]
         ]
        },
        "geo": {
         "center": {},
         "domain": {
          "x": [
           0,
           1
          ],
          "y": [
           0,
           1
          ]
         },
         "projection": {
          "type": "robinson"
         }
        },
        "legend": {
         "tracegroupgap": 0
        },
        "template": {
         "data": {
          "bar": [
           {
            "error_x": {
             "color": "#2a3f5f"
            },
            "error_y": {
             "color": "#2a3f5f"
            },
            "marker": {
             "line": {
              "color": "#E5ECF6",
              "width": 0.5
             },
             "pattern": {
              "fillmode": "overlay",
              "size": 10,
              "solidity": 0.2
             }
            },
            "type": "bar"
           }
          ],
          "barpolar": [
           {
            "marker": {
             "line": {
              "color": "#E5ECF6",
              "width": 0.5
             },
             "pattern": {
              "fillmode": "overlay",
              "size": 10,
              "solidity": 0.2
             }
            },
            "type": "barpolar"
           }
          ],
          "carpet": [
           {
            "aaxis": {
             "endlinecolor": "#2a3f5f",
             "gridcolor": "white",
             "linecolor": "white",
             "minorgridcolor": "white",
             "startlinecolor": "#2a3f5f"
            },
            "baxis": {
             "endlinecolor": "#2a3f5f",
             "gridcolor": "white",
             "linecolor": "white",
             "minorgridcolor": "white",
             "startlinecolor": "#2a3f5f"
            },
            "type": "carpet"
           }
          ],
          "choropleth": [
           {
            "colorbar": {
             "outlinewidth": 0,
             "ticks": ""
            },
            "type": "choropleth"
           }
          ],
          "contour": [
           {
            "colorbar": {
             "outlinewidth": 0,
             "ticks": ""
            },
            "colorscale": [
             [
              0,
              "#0d0887"
             ],
             [
              0.1111111111111111,
              "#46039f"
             ],
             [
              0.2222222222222222,
              "#7201a8"
             ],
             [
              0.3333333333333333,
              "#9c179e"
             ],
             [
              0.4444444444444444,
              "#bd3786"
             ],
             [
              0.5555555555555556,
              "#d8576b"
             ],
             [
              0.6666666666666666,
              "#ed7953"
             ],
             [
              0.7777777777777778,
              "#fb9f3a"
             ],
             [
              0.8888888888888888,
              "#fdca26"
             ],
             [
              1,
              "#f0f921"
             ]
            ],
            "type": "contour"
           }
          ],
          "contourcarpet": [
           {
            "colorbar": {
             "outlinewidth": 0,
             "ticks": ""
            },
            "type": "contourcarpet"
           }
          ],
          "heatmap": [
           {
            "colorbar": {
             "outlinewidth": 0,
             "ticks": ""
            },
            "colorscale": [
             [
              0,
              "#0d0887"
             ],
             [
              0.1111111111111111,
              "#46039f"
             ],
             [
              0.2222222222222222,
              "#7201a8"
             ],
             [
              0.3333333333333333,
              "#9c179e"
             ],
             [
              0.4444444444444444,
              "#bd3786"
             ],
             [
              0.5555555555555556,
              "#d8576b"
             ],
             [
              0.6666666666666666,
              "#ed7953"
             ],
             [
              0.7777777777777778,
              "#fb9f3a"
             ],
             [
              0.8888888888888888,
              "#fdca26"
             ],
             [
              1,
              "#f0f921"
             ]
            ],
            "type": "heatmap"
           }
          ],
          "heatmapgl": [
           {
            "colorbar": {
             "outlinewidth": 0,
             "ticks": ""
            },
            "colorscale": [
             [
              0,
              "#0d0887"
             ],
             [
              0.1111111111111111,
              "#46039f"
             ],
             [
              0.2222222222222222,
              "#7201a8"
             ],
             [
              0.3333333333333333,
              "#9c179e"
             ],
             [
              0.4444444444444444,
              "#bd3786"
             ],
             [
              0.5555555555555556,
              "#d8576b"
             ],
             [
              0.6666666666666666,
              "#ed7953"
             ],
             [
              0.7777777777777778,
              "#fb9f3a"
             ],
             [
              0.8888888888888888,
              "#fdca26"
             ],
             [
              1,
              "#f0f921"
             ]
            ],
            "type": "heatmapgl"
           }
          ],
          "histogram": [
           {
            "marker": {
             "pattern": {
              "fillmode": "overlay",
              "size": 10,
              "solidity": 0.2
             }
            },
            "type": "histogram"
           }
          ],
          "histogram2d": [
           {
            "colorbar": {
             "outlinewidth": 0,
             "ticks": ""
            },
            "colorscale": [
             [
              0,
              "#0d0887"
             ],
             [
              0.1111111111111111,
              "#46039f"
             ],
             [
              0.2222222222222222,
              "#7201a8"
             ],
             [
              0.3333333333333333,
              "#9c179e"
             ],
             [
              0.4444444444444444,
              "#bd3786"
             ],
             [
              0.5555555555555556,
              "#d8576b"
             ],
             [
              0.6666666666666666,
              "#ed7953"
             ],
             [
              0.7777777777777778,
              "#fb9f3a"
             ],
             [
              0.8888888888888888,
              "#fdca26"
             ],
             [
              1,
              "#f0f921"
             ]
            ],
            "type": "histogram2d"
           }
          ],
          "histogram2dcontour": [
           {
            "colorbar": {
             "outlinewidth": 0,
             "ticks": ""
            },
            "colorscale": [
             [
              0,
              "#0d0887"
             ],
             [
              0.1111111111111111,
              "#46039f"
             ],
             [
              0.2222222222222222,
              "#7201a8"
             ],
             [
              0.3333333333333333,
              "#9c179e"
             ],
             [
              0.4444444444444444,
              "#bd3786"
             ],
             [
              0.5555555555555556,
              "#d8576b"
             ],
             [
              0.6666666666666666,
              "#ed7953"
             ],
             [
              0.7777777777777778,
              "#fb9f3a"
             ],
             [
              0.8888888888888888,
              "#fdca26"
             ],
             [
              1,
              "#f0f921"
             ]
            ],
            "type": "histogram2dcontour"
           }
          ],
          "mesh3d": [
           {
            "colorbar": {
             "outlinewidth": 0,
             "ticks": ""
            },
            "type": "mesh3d"
           }
          ],
          "parcoords": [
           {
            "line": {
             "colorbar": {
              "outlinewidth": 0,
              "ticks": ""
             }
            },
            "type": "parcoords"
           }
          ],
          "pie": [
           {
            "automargin": true,
            "type": "pie"
           }
          ],
          "scatter": [
           {
            "marker": {
             "colorbar": {
              "outlinewidth": 0,
              "ticks": ""
             }
            },
            "type": "scatter"
           }
          ],
          "scatter3d": [
           {
            "line": {
             "colorbar": {
              "outlinewidth": 0,
              "ticks": ""
             }
            },
            "marker": {
             "colorbar": {
              "outlinewidth": 0,
              "ticks": ""
             }
            },
            "type": "scatter3d"
           }
          ],
          "scattercarpet": [
           {
            "marker": {
             "colorbar": {
              "outlinewidth": 0,
              "ticks": ""
             }
            },
            "type": "scattercarpet"
           }
          ],
          "scattergeo": [
           {
            "marker": {
             "colorbar": {
              "outlinewidth": 0,
              "ticks": ""
             }
            },
            "type": "scattergeo"
           }
          ],
          "scattergl": [
           {
            "marker": {
             "colorbar": {
              "outlinewidth": 0,
              "ticks": ""
             }
            },
            "type": "scattergl"
           }
          ],
          "scattermapbox": [
           {
            "marker": {
             "colorbar": {
              "outlinewidth": 0,
              "ticks": ""
             }
            },
            "type": "scattermapbox"
           }
          ],
          "scatterpolar": [
           {
            "marker": {
             "colorbar": {
              "outlinewidth": 0,
              "ticks": ""
             }
            },
            "type": "scatterpolar"
           }
          ],
          "scatterpolargl": [
           {
            "marker": {
             "colorbar": {
              "outlinewidth": 0,
              "ticks": ""
             }
            },
            "type": "scatterpolargl"
           }
          ],
          "scatterternary": [
           {
            "marker": {
             "colorbar": {
              "outlinewidth": 0,
              "ticks": ""
             }
            },
            "type": "scatterternary"
           }
          ],
          "surface": [
           {
            "colorbar": {
             "outlinewidth": 0,
             "ticks": ""
            },
            "colorscale": [
             [
              0,
              "#0d0887"
             ],
             [
              0.1111111111111111,
              "#46039f"
             ],
             [
              0.2222222222222222,
              "#7201a8"
             ],
             [
              0.3333333333333333,
              "#9c179e"
             ],
             [
              0.4444444444444444,
              "#bd3786"
             ],
             [
              0.5555555555555556,
              "#d8576b"
             ],
             [
              0.6666666666666666,
              "#ed7953"
             ],
             [
              0.7777777777777778,
              "#fb9f3a"
             ],
             [
              0.8888888888888888,
              "#fdca26"
             ],
             [
              1,
              "#f0f921"
             ]
            ],
            "type": "surface"
           }
          ],
          "table": [
           {
            "cells": {
             "fill": {
              "color": "#EBF0F8"
             },
             "line": {
              "color": "white"
             }
            },
            "header": {
             "fill": {
              "color": "#C8D4E3"
             },
             "line": {
              "color": "white"
             }
            },
            "type": "table"
           }
          ]
         },
         "layout": {
          "annotationdefaults": {
           "arrowcolor": "#2a3f5f",
           "arrowhead": 0,
           "arrowwidth": 1
          },
          "autotypenumbers": "strict",
          "coloraxis": {
           "colorbar": {
            "outlinewidth": 0,
            "ticks": ""
           }
          },
          "colorscale": {
           "diverging": [
            [
             0,
             "#8e0152"
            ],
            [
             0.1,
             "#c51b7d"
            ],
            [
             0.2,
             "#de77ae"
            ],
            [
             0.3,
             "#f1b6da"
            ],
            [
             0.4,
             "#fde0ef"
            ],
            [
             0.5,
             "#f7f7f7"
            ],
            [
             0.6,
             "#e6f5d0"
            ],
            [
             0.7,
             "#b8e186"
            ],
            [
             0.8,
             "#7fbc41"
            ],
            [
             0.9,
             "#4d9221"
            ],
            [
             1,
             "#276419"
            ]
           ],
           "sequential": [
            [
             0,
             "#0d0887"
            ],
            [
             0.1111111111111111,
             "#46039f"
            ],
            [
             0.2222222222222222,
             "#7201a8"
            ],
            [
             0.3333333333333333,
             "#9c179e"
            ],
            [
             0.4444444444444444,
             "#bd3786"
            ],
            [
             0.5555555555555556,
             "#d8576b"
            ],
            [
             0.6666666666666666,
             "#ed7953"
            ],
            [
             0.7777777777777778,
             "#fb9f3a"
            ],
            [
             0.8888888888888888,
             "#fdca26"
            ],
            [
             1,
             "#f0f921"
            ]
           ],
           "sequentialminus": [
            [
             0,
             "#0d0887"
            ],
            [
             0.1111111111111111,
             "#46039f"
            ],
            [
             0.2222222222222222,
             "#7201a8"
            ],
            [
             0.3333333333333333,
             "#9c179e"
            ],
            [
             0.4444444444444444,
             "#bd3786"
            ],
            [
             0.5555555555555556,
             "#d8576b"
            ],
            [
             0.6666666666666666,
             "#ed7953"
            ],
            [
             0.7777777777777778,
             "#fb9f3a"
            ],
            [
             0.8888888888888888,
             "#fdca26"
            ],
            [
             1,
             "#f0f921"
            ]
           ]
          },
          "colorway": [
           "#636efa",
           "#EF553B",
           "#00cc96",
           "#ab63fa",
           "#FFA15A",
           "#19d3f3",
           "#FF6692",
           "#B6E880",
           "#FF97FF",
           "#FECB52"
          ],
          "font": {
           "color": "#2a3f5f"
          },
          "geo": {
           "bgcolor": "white",
           "lakecolor": "white",
           "landcolor": "#E5ECF6",
           "showlakes": true,
           "showland": true,
           "subunitcolor": "white"
          },
          "hoverlabel": {
           "align": "left"
          },
          "hovermode": "closest",
          "mapbox": {
           "style": "light"
          },
          "paper_bgcolor": "white",
          "plot_bgcolor": "#E5ECF6",
          "polar": {
           "angularaxis": {
            "gridcolor": "white",
            "linecolor": "white",
            "ticks": ""
           },
           "bgcolor": "#E5ECF6",
           "radialaxis": {
            "gridcolor": "white",
            "linecolor": "white",
            "ticks": ""
           }
          },
          "scene": {
           "xaxis": {
            "backgroundcolor": "#E5ECF6",
            "gridcolor": "white",
            "gridwidth": 2,
            "linecolor": "white",
            "showbackground": true,
            "ticks": "",
            "zerolinecolor": "white"
           },
           "yaxis": {
            "backgroundcolor": "#E5ECF6",
            "gridcolor": "white",
            "gridwidth": 2,
            "linecolor": "white",
            "showbackground": true,
            "ticks": "",
            "zerolinecolor": "white"
           },
           "zaxis": {
            "backgroundcolor": "#E5ECF6",
            "gridcolor": "white",
            "gridwidth": 2,
            "linecolor": "white",
            "showbackground": true,
            "ticks": "",
            "zerolinecolor": "white"
           }
          },
          "shapedefaults": {
           "line": {
            "color": "#2a3f5f"
           }
          },
          "ternary": {
           "aaxis": {
            "gridcolor": "white",
            "linecolor": "white",
            "ticks": ""
           },
           "baxis": {
            "gridcolor": "white",
            "linecolor": "white",
            "ticks": ""
           },
           "bgcolor": "#E5ECF6",
           "caxis": {
            "gridcolor": "white",
            "linecolor": "white",
            "ticks": ""
           }
          },
          "title": {
           "x": 0.05
          },
          "xaxis": {
           "automargin": true,
           "gridcolor": "white",
           "linecolor": "white",
           "ticks": "",
           "title": {
            "standoff": 15
           },
           "zerolinecolor": "white",
           "zerolinewidth": 2
          },
          "yaxis": {
           "automargin": true,
           "gridcolor": "white",
           "linecolor": "white",
           "ticks": "",
           "title": {
            "standoff": 15
           },
           "zerolinecolor": "white",
           "zerolinewidth": 2
          }
         }
        },
        "title": {
         "text": "Color-Coded Map of the Country of Origin of NGOs participating at COP2019"
        }
       }
      },
      "text/html": [
       "<div>                            <div id=\"16a7f472-5b1d-4804-8c6b-329d3350b5c9\" class=\"plotly-graph-div\" style=\"height:525px; width:100%;\"></div>            <script type=\"text/javascript\">                require([\"plotly\"], function(Plotly) {                    window.PLOTLYENV=window.PLOTLYENV || {};                                    if (document.getElementById(\"16a7f472-5b1d-4804-8c6b-329d3350b5c9\")) {                    Plotly.newPlot(                        \"16a7f472-5b1d-4804-8c6b-329d3350b5c9\",                        [{\"coloraxis\":\"coloraxis\",\"geo\":\"geo\",\"hovertemplate\":\"<b>%{hovertext}</b><br><br>ISO3=%{location}<br>Count=%{z}<extra></extra>\",\"hovertext\":[\"United States of America\",\"United Kingdom of Great Britain and Northern Ireland\",\"Germany\",\"France\",\"Canada\",\"China\",\"Belgium\",\"Switzerland\",\"Japan\",\"Nigeria\",\"Netherlands\",\"Spain\",\"Australia\",\"Brazil\",\"India\",\"Peru\",\"Italy\",\"Denmark\",\"Sweden\",\"Morocco\",\"Bangladesh\",\"Norway\",\"Nepal\",\"Austria\",\"Republic of Korea\",\"South Africa\",\"Philippines\",\"Kenya\",\"Mexico\",\"Argentina\",\"Malaysia\",\"Turkey\",\"Israel\",\"Colombia\",\"Ukraine\",\"Singapore\",\"Ecuador\",\"Thailand\",\"Russian Federation\",\"New Zealand\",\"Panama\",\"Ghana\",\"Finland\",\"Lebanon\",\"Guatemala\",\"Togo\",\"Bolivia (Plurinational State of)\",\"United Republic of Tanzania\",\"Pakistan\",\"Czechia\",\"Ireland\",\"Nicaragua\",\"Luxembourg\",\"Cameroon\",\"Saudi Arabia\",\"Democratic Republic of the Congo\",\"Cuba\",\"Poland\",\"C\\u00f4te d'Ivoire\",\"Sri Lanka\",\"Libya\",\"Armenia\",\"Iran (Islamic Republic of)\",\"El Salvador\",\"Dominican Republic\",\"Senegal\",\"Holy See\",\"San Marino\",\"Uruguay\",\"Uganda\",\"Costa Rica\",\"Chile\",\"Kazakhstan\",\"Chad\",\"Honduras\",\"Afghanistan\",\"Albania\",\"Algeria\",\"Angola\",\"Azerbaijan\",\"Bahamas\",\"Bahrain\",\"Barbados\",\"Belarus\",\"Belize\",\"Benin\",\"Bhutan\",\"Bosnia and Herzegovina\",\"Botswana\",\"Brunei Darussalam\",\"Bulgaria\",\"Burkina Faso\",\"Burundi\",\"Cape Verde\",\"Cambodia\",\"Central African Republic\",\"Comoros\",\"Congo\",\"Congo (Democratic Republic of the)\",\"Croatia\",\"Cyprus\",\"Djibouti\",\"Egypt\",\"Equatorial Guinea\",\"Eritrea\",\"Estonia\",\"Swaziland\",\"Ethiopia\",\"Fiji\",\"Gabon\",\"Gambia\",\"Georgia\",\"Greece\",\"Grenada\",\"Guinea\",\"Guinea-Bissau\",\"Guyana\",\"Haiti\",\"Hong Kong, China (SAR)\",\"Hungary\",\"Iceland\",\"Indonesia\",\"Iraq\",\"Jamaica\",\"Jordan\",\"Korea (Democratic People's Rep. of)\",\"Kosovo\",\"Kuwait\",\"Kyrgyzstan\",\"Lao People's Democratic Republic\",\"Latvia\",\"Lesotho\",\"Liberia\",\"Lithuania\",\"The former Yugoslav Republic of Macedonia\",\"Madagascar\",\"Malawi\",\"Maldives\",\"Mali\",\"Malta\",\"Mauritania\",\"Mauritius\",\"Micronesia (Federated States of)\",\"Moldova (Republic of)\",\"Mongolia\",\"Montenegro\",\"Mozambique\",\"Myanmar\",\"Namibia\",\"Niger\",\"Oman\",\"Occupied Palestinian Territories\",\"Papua New Guinea\",\"Paraguay\",\"Portugal\",\"Puerto Rico\",\"Qatar\",\"Romania\",\"Rwanda\",\"Samoa\",\"Sao Tome and Principe\",\"Serbia\",\"Seychelles\",\"Sierra Leone\",\"Slovakia\",\"Slovenia\",\"Solomon Islands\",\"Somalia\",\"Saint Lucia\",\"Saint Vincent and the Grenadines\",\"Sudan\",\"South Sudan\",\"Suriname\",\"Syrian Arab Republic\",\"Tajikistan\",\"Timor-Leste\",\"Tonga\",\"Trinidad and Tobago\",\"Tunisia\",\"Turkmenistan\",\"United Arab Emirates\",\"Uzbekistan\",\"Vanuatu\",\"Venezuela (Bolivarian Republic of)\",\"Viet Nam\",\"Yemen\",\"Zambia\",\"Zimbabwe\",\"Greenland\",\"Antarctica\"],\"locations\":[\"USA\",\"GBR\",\"DEU\",\"FRA\",\"CAN\",\"CHN\",\"BEL\",\"CHE\",\"JPN\",\"NGA\",\"NLD\",\"ESP\",\"AUS\",\"BRA\",\"IND\",\"PER\",\"ITA\",\"DNK\",\"SWE\",\"MAR\",\"BGD\",\"NOR\",\"NPL\",\"AUT\",\"KOR\",\"ZAF\",\"PHL\",\"KEN\",\"MEX\",\"ARG\",\"MYS\",\"TUR\",\"ISR\",\"COL\",\"UKR\",\"SGP\",\"ECU\",\"THA\",\"RUS\",\"NZL\",\"PAN\",\"GHA\",\"FIN\",\"LBN\",\"GTM\",\"TGO\",\"BOL\",\"TZA\",\"PAK\",\"CZE\",\"IRL\",\"NIC\",\"LUX\",\"CMR\",\"SAU\",\"COD\",\"CUB\",\"POL\",\"CIV\",\"LKA\",\"LBY\",\"ARM\",\"IRN\",\"SLV\",\"DOM\",\"SEN\",\"VAT\",\"SMR\",\"URY\",\"UGA\",\"CRI\",\"CHL\",\"KAZ\",\"TCD\",\"HND\",\"AFG\",\"ALB\",\"DZA\",\"AGO\",\"AZE\",\"BHS\",\"BHR\",\"BRB\",\"BLR\",\"BLZ\",\"BEN\",\"BTN\",\"BIH\",\"BWA\",\"BRN\",\"BGR\",\"BFA\",\"BDI\",\"CPV\",\"KHM\",\"CAF\",\"COM\",\"COG\",\"ZAR\",\"HRV\",\"CYP\",\"DJI\",\"EGY\",\"GNQ\",\"ERI\",\"EST\",\"SWZ\",\"ETH\",\"FJI\",\"GAB\",\"GMB\",\"GEO\",\"GRC\",\"GRD\",\"GIN\",\"GNB\",\"GUY\",\"HTI\",\"HKG\",\"HUN\",\"ISL\",\"IDN\",\"IRQ\",\"JAM\",\"JOR\",\"PRK\",\"KSV\",\"KWT\",\"KGZ\",\"LAO\",\"LVA\",\"LSO\",\"LBR\",\"LTU\",\"MKD\",\"MDG\",\"MWI\",\"MDV\",\"MLI\",\"MLT\",\"MRT\",\"MUS\",\"FSM\",\"MDA\",\"MNG\",\"MNE\",\"MOZ\",\"MMR\",\"NAM\",\"NER\",\"OMN\",\"WBG\",\"PNG\",\"PRY\",\"PRT\",\"PRI\",\"QAT\",\"ROU\",\"RWA\",\"WSM\",\"STP\",\"SRB\",\"SYC\",\"SLE\",\"SVK\",\"SVN\",\"SLB\",\"SOM\",\"LCA\",\"VCT\",\"SDN\",\"SSD\",\"SUR\",\"SYR\",\"TJK\",\"TMP\",\"TON\",\"TTO\",\"TUN\",\"TKM\",\"ARE\",\"UZB\",\"VUT\",\"VEN\",\"VNM\",\"YEM\",\"ZMB\",\"ZWE\",\"GRL\",\"ATA\"],\"name\":\"\",\"type\":\"choropleth\",\"z\":[231,83,76,56,50,43,40,39,35,23,22,22,21,21,21,20,19,18,13,11,11,10,9,8,8,8,8,8,7,7,5,5,5,4,4,4,4,4,4,4,4,3,3,3,3,2,2,2,2,2,2,2,2,2,1,1,1,1,1,1,1,1,1,1,1,1,1,1,1,1,1,1,1,1,1,0,0,0,0,0,0,0,0,0,0,0,0,0,0,0,0,0,0,0,0,0,0,0,0,0,0,0,0,0,0,0,0,0,0,0,0,0,0,0,0,0,0,0,0,0,0,0,0,0,0,0,0,0,0,0,0,0,0,0,0,0,0,0,0,0,0,0,0,0,0,0,0,0,0,0,0,0,0,0,0,0,0,0,0,0,0,0,0,0,0,0,0,0,0,0,0,0,0,0,0,0,0,0,0,0,0,0,0,0,0,0,0,0,0,0]}],                        {\"coloraxis\":{\"cmax\":250,\"cmin\":0,\"colorbar\":{\"title\":{\"text\":\"Count\"}},\"colorscale\":[[0.0,\"rgb(103,0,13)\"],[0.125,\"rgb(165,15,21)\"],[0.25,\"rgb(203,24,29)\"],[0.375,\"rgb(239,59,44)\"],[0.5,\"rgb(251,106,74)\"],[0.625,\"rgb(252,146,114)\"],[0.75,\"rgb(252,187,161)\"],[0.875,\"rgb(254,224,210)\"],[1.0,\"rgb(255,245,240)\"]]},\"geo\":{\"center\":{},\"domain\":{\"x\":[0.0,1.0],\"y\":[0.0,1.0]},\"projection\":{\"type\":\"robinson\"}},\"legend\":{\"tracegroupgap\":0},\"template\":{\"data\":{\"bar\":[{\"error_x\":{\"color\":\"#2a3f5f\"},\"error_y\":{\"color\":\"#2a3f5f\"},\"marker\":{\"line\":{\"color\":\"#E5ECF6\",\"width\":0.5},\"pattern\":{\"fillmode\":\"overlay\",\"size\":10,\"solidity\":0.2}},\"type\":\"bar\"}],\"barpolar\":[{\"marker\":{\"line\":{\"color\":\"#E5ECF6\",\"width\":0.5},\"pattern\":{\"fillmode\":\"overlay\",\"size\":10,\"solidity\":0.2}},\"type\":\"barpolar\"}],\"carpet\":[{\"aaxis\":{\"endlinecolor\":\"#2a3f5f\",\"gridcolor\":\"white\",\"linecolor\":\"white\",\"minorgridcolor\":\"white\",\"startlinecolor\":\"#2a3f5f\"},\"baxis\":{\"endlinecolor\":\"#2a3f5f\",\"gridcolor\":\"white\",\"linecolor\":\"white\",\"minorgridcolor\":\"white\",\"startlinecolor\":\"#2a3f5f\"},\"type\":\"carpet\"}],\"choropleth\":[{\"colorbar\":{\"outlinewidth\":0,\"ticks\":\"\"},\"type\":\"choropleth\"}],\"contour\":[{\"colorbar\":{\"outlinewidth\":0,\"ticks\":\"\"},\"colorscale\":[[0.0,\"#0d0887\"],[0.1111111111111111,\"#46039f\"],[0.2222222222222222,\"#7201a8\"],[0.3333333333333333,\"#9c179e\"],[0.4444444444444444,\"#bd3786\"],[0.5555555555555556,\"#d8576b\"],[0.6666666666666666,\"#ed7953\"],[0.7777777777777778,\"#fb9f3a\"],[0.8888888888888888,\"#fdca26\"],[1.0,\"#f0f921\"]],\"type\":\"contour\"}],\"contourcarpet\":[{\"colorbar\":{\"outlinewidth\":0,\"ticks\":\"\"},\"type\":\"contourcarpet\"}],\"heatmap\":[{\"colorbar\":{\"outlinewidth\":0,\"ticks\":\"\"},\"colorscale\":[[0.0,\"#0d0887\"],[0.1111111111111111,\"#46039f\"],[0.2222222222222222,\"#7201a8\"],[0.3333333333333333,\"#9c179e\"],[0.4444444444444444,\"#bd3786\"],[0.5555555555555556,\"#d8576b\"],[0.6666666666666666,\"#ed7953\"],[0.7777777777777778,\"#fb9f3a\"],[0.8888888888888888,\"#fdca26\"],[1.0,\"#f0f921\"]],\"type\":\"heatmap\"}],\"heatmapgl\":[{\"colorbar\":{\"outlinewidth\":0,\"ticks\":\"\"},\"colorscale\":[[0.0,\"#0d0887\"],[0.1111111111111111,\"#46039f\"],[0.2222222222222222,\"#7201a8\"],[0.3333333333333333,\"#9c179e\"],[0.4444444444444444,\"#bd3786\"],[0.5555555555555556,\"#d8576b\"],[0.6666666666666666,\"#ed7953\"],[0.7777777777777778,\"#fb9f3a\"],[0.8888888888888888,\"#fdca26\"],[1.0,\"#f0f921\"]],\"type\":\"heatmapgl\"}],\"histogram\":[{\"marker\":{\"pattern\":{\"fillmode\":\"overlay\",\"size\":10,\"solidity\":0.2}},\"type\":\"histogram\"}],\"histogram2d\":[{\"colorbar\":{\"outlinewidth\":0,\"ticks\":\"\"},\"colorscale\":[[0.0,\"#0d0887\"],[0.1111111111111111,\"#46039f\"],[0.2222222222222222,\"#7201a8\"],[0.3333333333333333,\"#9c179e\"],[0.4444444444444444,\"#bd3786\"],[0.5555555555555556,\"#d8576b\"],[0.6666666666666666,\"#ed7953\"],[0.7777777777777778,\"#fb9f3a\"],[0.8888888888888888,\"#fdca26\"],[1.0,\"#f0f921\"]],\"type\":\"histogram2d\"}],\"histogram2dcontour\":[{\"colorbar\":{\"outlinewidth\":0,\"ticks\":\"\"},\"colorscale\":[[0.0,\"#0d0887\"],[0.1111111111111111,\"#46039f\"],[0.2222222222222222,\"#7201a8\"],[0.3333333333333333,\"#9c179e\"],[0.4444444444444444,\"#bd3786\"],[0.5555555555555556,\"#d8576b\"],[0.6666666666666666,\"#ed7953\"],[0.7777777777777778,\"#fb9f3a\"],[0.8888888888888888,\"#fdca26\"],[1.0,\"#f0f921\"]],\"type\":\"histogram2dcontour\"}],\"mesh3d\":[{\"colorbar\":{\"outlinewidth\":0,\"ticks\":\"\"},\"type\":\"mesh3d\"}],\"parcoords\":[{\"line\":{\"colorbar\":{\"outlinewidth\":0,\"ticks\":\"\"}},\"type\":\"parcoords\"}],\"pie\":[{\"automargin\":true,\"type\":\"pie\"}],\"scatter\":[{\"marker\":{\"colorbar\":{\"outlinewidth\":0,\"ticks\":\"\"}},\"type\":\"scatter\"}],\"scatter3d\":[{\"line\":{\"colorbar\":{\"outlinewidth\":0,\"ticks\":\"\"}},\"marker\":{\"colorbar\":{\"outlinewidth\":0,\"ticks\":\"\"}},\"type\":\"scatter3d\"}],\"scattercarpet\":[{\"marker\":{\"colorbar\":{\"outlinewidth\":0,\"ticks\":\"\"}},\"type\":\"scattercarpet\"}],\"scattergeo\":[{\"marker\":{\"colorbar\":{\"outlinewidth\":0,\"ticks\":\"\"}},\"type\":\"scattergeo\"}],\"scattergl\":[{\"marker\":{\"colorbar\":{\"outlinewidth\":0,\"ticks\":\"\"}},\"type\":\"scattergl\"}],\"scattermapbox\":[{\"marker\":{\"colorbar\":{\"outlinewidth\":0,\"ticks\":\"\"}},\"type\":\"scattermapbox\"}],\"scatterpolar\":[{\"marker\":{\"colorbar\":{\"outlinewidth\":0,\"ticks\":\"\"}},\"type\":\"scatterpolar\"}],\"scatterpolargl\":[{\"marker\":{\"colorbar\":{\"outlinewidth\":0,\"ticks\":\"\"}},\"type\":\"scatterpolargl\"}],\"scatterternary\":[{\"marker\":{\"colorbar\":{\"outlinewidth\":0,\"ticks\":\"\"}},\"type\":\"scatterternary\"}],\"surface\":[{\"colorbar\":{\"outlinewidth\":0,\"ticks\":\"\"},\"colorscale\":[[0.0,\"#0d0887\"],[0.1111111111111111,\"#46039f\"],[0.2222222222222222,\"#7201a8\"],[0.3333333333333333,\"#9c179e\"],[0.4444444444444444,\"#bd3786\"],[0.5555555555555556,\"#d8576b\"],[0.6666666666666666,\"#ed7953\"],[0.7777777777777778,\"#fb9f3a\"],[0.8888888888888888,\"#fdca26\"],[1.0,\"#f0f921\"]],\"type\":\"surface\"}],\"table\":[{\"cells\":{\"fill\":{\"color\":\"#EBF0F8\"},\"line\":{\"color\":\"white\"}},\"header\":{\"fill\":{\"color\":\"#C8D4E3\"},\"line\":{\"color\":\"white\"}},\"type\":\"table\"}]},\"layout\":{\"annotationdefaults\":{\"arrowcolor\":\"#2a3f5f\",\"arrowhead\":0,\"arrowwidth\":1},\"autotypenumbers\":\"strict\",\"coloraxis\":{\"colorbar\":{\"outlinewidth\":0,\"ticks\":\"\"}},\"colorscale\":{\"diverging\":[[0,\"#8e0152\"],[0.1,\"#c51b7d\"],[0.2,\"#de77ae\"],[0.3,\"#f1b6da\"],[0.4,\"#fde0ef\"],[0.5,\"#f7f7f7\"],[0.6,\"#e6f5d0\"],[0.7,\"#b8e186\"],[0.8,\"#7fbc41\"],[0.9,\"#4d9221\"],[1,\"#276419\"]],\"sequential\":[[0.0,\"#0d0887\"],[0.1111111111111111,\"#46039f\"],[0.2222222222222222,\"#7201a8\"],[0.3333333333333333,\"#9c179e\"],[0.4444444444444444,\"#bd3786\"],[0.5555555555555556,\"#d8576b\"],[0.6666666666666666,\"#ed7953\"],[0.7777777777777778,\"#fb9f3a\"],[0.8888888888888888,\"#fdca26\"],[1.0,\"#f0f921\"]],\"sequentialminus\":[[0.0,\"#0d0887\"],[0.1111111111111111,\"#46039f\"],[0.2222222222222222,\"#7201a8\"],[0.3333333333333333,\"#9c179e\"],[0.4444444444444444,\"#bd3786\"],[0.5555555555555556,\"#d8576b\"],[0.6666666666666666,\"#ed7953\"],[0.7777777777777778,\"#fb9f3a\"],[0.8888888888888888,\"#fdca26\"],[1.0,\"#f0f921\"]]},\"colorway\":[\"#636efa\",\"#EF553B\",\"#00cc96\",\"#ab63fa\",\"#FFA15A\",\"#19d3f3\",\"#FF6692\",\"#B6E880\",\"#FF97FF\",\"#FECB52\"],\"font\":{\"color\":\"#2a3f5f\"},\"geo\":{\"bgcolor\":\"white\",\"lakecolor\":\"white\",\"landcolor\":\"#E5ECF6\",\"showlakes\":true,\"showland\":true,\"subunitcolor\":\"white\"},\"hoverlabel\":{\"align\":\"left\"},\"hovermode\":\"closest\",\"mapbox\":{\"style\":\"light\"},\"paper_bgcolor\":\"white\",\"plot_bgcolor\":\"#E5ECF6\",\"polar\":{\"angularaxis\":{\"gridcolor\":\"white\",\"linecolor\":\"white\",\"ticks\":\"\"},\"bgcolor\":\"#E5ECF6\",\"radialaxis\":{\"gridcolor\":\"white\",\"linecolor\":\"white\",\"ticks\":\"\"}},\"scene\":{\"xaxis\":{\"backgroundcolor\":\"#E5ECF6\",\"gridcolor\":\"white\",\"gridwidth\":2,\"linecolor\":\"white\",\"showbackground\":true,\"ticks\":\"\",\"zerolinecolor\":\"white\"},\"yaxis\":{\"backgroundcolor\":\"#E5ECF6\",\"gridcolor\":\"white\",\"gridwidth\":2,\"linecolor\":\"white\",\"showbackground\":true,\"ticks\":\"\",\"zerolinecolor\":\"white\"},\"zaxis\":{\"backgroundcolor\":\"#E5ECF6\",\"gridcolor\":\"white\",\"gridwidth\":2,\"linecolor\":\"white\",\"showbackground\":true,\"ticks\":\"\",\"zerolinecolor\":\"white\"}},\"shapedefaults\":{\"line\":{\"color\":\"#2a3f5f\"}},\"ternary\":{\"aaxis\":{\"gridcolor\":\"white\",\"linecolor\":\"white\",\"ticks\":\"\"},\"baxis\":{\"gridcolor\":\"white\",\"linecolor\":\"white\",\"ticks\":\"\"},\"bgcolor\":\"#E5ECF6\",\"caxis\":{\"gridcolor\":\"white\",\"linecolor\":\"white\",\"ticks\":\"\"}},\"title\":{\"x\":0.05},\"xaxis\":{\"automargin\":true,\"gridcolor\":\"white\",\"linecolor\":\"white\",\"ticks\":\"\",\"title\":{\"standoff\":15},\"zerolinecolor\":\"white\",\"zerolinewidth\":2},\"yaxis\":{\"automargin\":true,\"gridcolor\":\"white\",\"linecolor\":\"white\",\"ticks\":\"\",\"title\":{\"standoff\":15},\"zerolinecolor\":\"white\",\"zerolinewidth\":2}}},\"title\":{\"text\":\"Color-Coded Map of the Country of Origin of NGOs participating at COP2019\"}},                        {\"responsive\": true}                    ).then(function(){\n",
       "                            \n",
       "var gd = document.getElementById('16a7f472-5b1d-4804-8c6b-329d3350b5c9');\n",
       "var x = new MutationObserver(function (mutations, observer) {{\n",
       "        var display = window.getComputedStyle(gd).display;\n",
       "        if (!display || display === 'none') {{\n",
       "            console.log([gd, 'removed!']);\n",
       "            Plotly.purge(gd);\n",
       "            observer.disconnect();\n",
       "        }}\n",
       "}});\n",
       "\n",
       "// Listen for the removal of the full notebook cells\n",
       "var notebookContainer = gd.closest('#notebook-container');\n",
       "if (notebookContainer) {{\n",
       "    x.observe(notebookContainer, {childList: true});\n",
       "}}\n",
       "\n",
       "// Listen for the clearing of the current output cell\n",
       "var outputEl = gd.closest('.output');\n",
       "if (outputEl) {{\n",
       "    x.observe(outputEl, {childList: true});\n",
       "}}\n",
       "\n",
       "                        })                };                });            </script>        </div>"
      ]
     },
     "metadata": {},
     "output_type": "display_data"
    }
   ],
   "source": [
    "fig = px.choropleth(NGO_country_stats, \n",
    "                    locations=\"ISO3\",\n",
    "                    color=\"Count\", \n",
    "                    hover_name=\"Country\", # column to add to hover information\n",
    "                    color_continuous_scale=\"reds_r\",\n",
    "                    title = \"Color-Coded Map of the Country of Origin of NGOs participating at COP2019\",\n",
    "                    projection = \"robinson\",\n",
    "                    range_color=[0,250])\n",
    "\n",
    "fig.write_html(\"new map3 NGO.html\")\n",
    "fig.show()"
   ]
  },
  {
   "cell_type": "code",
   "execution_count": 75,
   "metadata": {},
   "outputs": [],
   "source": [
    "scales = ['aggrnyl', 'agsunset', 'algae', 'amp', 'armyrose', 'balance',\n",
    "             'blackbody', 'bluered', 'blues', 'blugrn', 'bluyl', 'brbg',\n",
    "             'brwnyl', 'bugn', 'bupu', 'burg', 'burgyl', 'cividis', 'curl',\n",
    "             'darkmint', 'deep', 'delta', 'dense', 'earth', 'edge', 'electric',\n",
    "             'emrld', 'fall', 'geyser', 'gnbu', 'gray', 'greens', 'greys',\n",
    "             'haline', 'hot', 'hsv', 'ice', 'icefire', 'inferno', 'jet',\n",
    "             'magenta', 'magma', 'matter', 'mint', 'mrybm', 'mygbm', 'oranges',\n",
    "             'orrd', 'oryel', 'oxy', 'peach', 'phase', 'picnic', 'pinkyl',\n",
    "             'piyg', 'plasma', 'plotly3', 'portland', 'prgn', 'pubu', 'pubugn',\n",
    "             'puor', 'purd', 'purp', 'purples', 'purpor', 'rainbow', 'rdbu',\n",
    "             'rdgy', 'rdpu', 'rdylbu', 'rdylgn', 'redor', 'reds', 'solar',\n",
    "             'spectral', 'speed', 'sunset', 'sunsetdark', 'teal', 'tealgrn',\n",
    "             'tealrose', 'tempo', 'temps', 'thermal', 'tropic', 'turbid',\n",
    "             'turbo', 'twilight', 'viridis', 'ylgn', 'ylgnbu', 'ylorbr',\n",
    "             'ylorrd']"
   ]
  },
  {
   "cell_type": "code",
   "execution_count": 76,
   "metadata": {},
   "outputs": [
    {
     "data": {
      "text/html": [
       "<div>\n",
       "<style scoped>\n",
       "    .dataframe tbody tr th:only-of-type {\n",
       "        vertical-align: middle;\n",
       "    }\n",
       "\n",
       "    .dataframe tbody tr th {\n",
       "        vertical-align: top;\n",
       "    }\n",
       "\n",
       "    .dataframe thead th {\n",
       "        text-align: right;\n",
       "    }\n",
       "</style>\n",
       "<table border=\"1\" class=\"dataframe\">\n",
       "  <thead>\n",
       "    <tr style=\"text-align: right;\">\n",
       "      <th></th>\n",
       "      <th>Country</th>\n",
       "      <th>Count</th>\n",
       "      <th>ISO3</th>\n",
       "      <th>Continent</th>\n",
       "      <th>Income_Group</th>\n",
       "    </tr>\n",
       "  </thead>\n",
       "  <tbody>\n",
       "    <tr>\n",
       "      <th>0</th>\n",
       "      <td>United States of America</td>\n",
       "      <td>231</td>\n",
       "      <td>USA</td>\n",
       "      <td>North America</td>\n",
       "      <td>High income</td>\n",
       "    </tr>\n",
       "    <tr>\n",
       "      <th>1</th>\n",
       "      <td>United Kingdom of Great Britain and Northern I...</td>\n",
       "      <td>83</td>\n",
       "      <td>GBR</td>\n",
       "      <td>Europe</td>\n",
       "      <td>High income</td>\n",
       "    </tr>\n",
       "    <tr>\n",
       "      <th>2</th>\n",
       "      <td>Germany</td>\n",
       "      <td>76</td>\n",
       "      <td>DEU</td>\n",
       "      <td>Europe</td>\n",
       "      <td>High income</td>\n",
       "    </tr>\n",
       "    <tr>\n",
       "      <th>3</th>\n",
       "      <td>France</td>\n",
       "      <td>56</td>\n",
       "      <td>FRA</td>\n",
       "      <td>Europe</td>\n",
       "      <td>High income</td>\n",
       "    </tr>\n",
       "    <tr>\n",
       "      <th>4</th>\n",
       "      <td>Canada</td>\n",
       "      <td>50</td>\n",
       "      <td>CAN</td>\n",
       "      <td>North America</td>\n",
       "      <td>High income</td>\n",
       "    </tr>\n",
       "  </tbody>\n",
       "</table>\n",
       "</div>"
      ],
      "text/plain": [
       "                                             Country  Count ISO3  \\\n",
       "0                           United States of America    231  USA   \n",
       "1  United Kingdom of Great Britain and Northern I...     83  GBR   \n",
       "2                                            Germany     76  DEU   \n",
       "3                                             France     56  FRA   \n",
       "4                                             Canada     50  CAN   \n",
       "\n",
       "       Continent Income_Group  \n",
       "0  North America  High income  \n",
       "1         Europe  High income  \n",
       "2         Europe  High income  \n",
       "3         Europe  High income  \n",
       "4  North America  High income  "
      ]
     },
     "execution_count": 76,
     "metadata": {},
     "output_type": "execute_result"
    }
   ],
   "source": [
    "NGO_country_stats.head()"
   ]
  },
  {
   "cell_type": "code",
   "execution_count": 85,
   "metadata": {},
   "outputs": [
    {
     "data": {
      "application/vnd.plotly.v1+json": {
       "config": {
        "plotlyServerURL": "https://plot.ly"
       },
       "data": [
        {
         "branchvalues": "total",
         "customdata": [
          [
           "ARG",
           7
          ],
          [
           "ARM",
           1
          ],
          [
           "AUS",
           21
          ],
          [
           "AUT",
           8
          ],
          [
           "BGD",
           11
          ],
          [
           "BEL",
           40
          ],
          [
           "BOL",
           2
          ],
          [
           "BRA",
           21
          ],
          [
           "CMR",
           2
          ],
          [
           "CAN",
           50
          ],
          [
           "TCD",
           1
          ],
          [
           "CHL",
           1
          ],
          [
           "CHN",
           43
          ],
          [
           "COL",
           4
          ],
          [
           "CRI",
           1
          ],
          [
           "CUB",
           1
          ],
          [
           "CZE",
           2
          ],
          [
           "CIV",
           1
          ],
          [
           "COD",
           1
          ],
          [
           "DNK",
           18
          ],
          [
           "DOM",
           1
          ],
          [
           "ECU",
           4
          ],
          [
           "SLV",
           1
          ],
          [
           "FIN",
           3
          ],
          [
           "FRA",
           56
          ],
          [
           "DEU",
           76
          ],
          [
           "GHA",
           3
          ],
          [
           "GTM",
           3
          ],
          [
           "VAT",
           1
          ],
          [
           "HND",
           1
          ],
          [
           "IND",
           21
          ],
          [
           "IRN",
           1
          ],
          [
           "IRL",
           2
          ],
          [
           "ISR",
           5
          ],
          [
           "ITA",
           19
          ],
          [
           "JPN",
           35
          ],
          [
           "KAZ",
           1
          ],
          [
           "KEN",
           8
          ],
          [
           "LBN",
           3
          ],
          [
           "LBY",
           1
          ],
          [
           "LUX",
           2
          ],
          [
           "MYS",
           5
          ],
          [
           "MEX",
           7
          ],
          [
           "MAR",
           11
          ],
          [
           "NPL",
           9
          ],
          [
           "NLD",
           22
          ],
          [
           "NZL",
           4
          ],
          [
           "NIC",
           2
          ],
          [
           "NGA",
           23
          ],
          [
           "NOR",
           10
          ],
          [
           "PAK",
           2
          ],
          [
           "PAN",
           4
          ],
          [
           "PER",
           20
          ],
          [
           "PHL",
           8
          ],
          [
           "POL",
           1
          ],
          [
           "KOR",
           8
          ],
          [
           "RUS",
           4
          ],
          [
           "SMR",
           1
          ],
          [
           "SAU",
           1
          ],
          [
           "SEN",
           1
          ],
          [
           "SGP",
           4
          ],
          [
           "ZAF",
           8
          ],
          [
           "ESP",
           22
          ],
          [
           "LKA",
           1
          ],
          [
           "SWE",
           13
          ],
          [
           "CHE",
           39
          ],
          [
           "THA",
           4
          ],
          [
           "TGO",
           2
          ],
          [
           "TUR",
           5
          ],
          [
           "UGA",
           1
          ],
          [
           "UKR",
           4
          ],
          [
           "GBR",
           83
          ],
          [
           "TZA",
           2
          ],
          [
           "USA",
           231
          ],
          [
           "URY",
           1
          ],
          [
           "(?)",
           12.384615384615385
          ],
          [
           "(?)",
           23.63095238095238
          ],
          [
           "(?)",
           49.2112676056338
          ],
          [
           "(?)",
           185.24503311258277
          ],
          [
           "(?)",
           18.28
          ],
          [
           "(?)",
           15.466666666666667
          ]
         ],
         "domain": {
          "x": [
           0,
           1
          ],
          "y": [
           0,
           1
          ]
         },
         "hovertemplate": "labels=%{label}<br>Count_sum=%{value}<br>parent=%{parent}<br>id=%{id}<br>ISO3=%{customdata[0]}<br>Count=%{color}<extra></extra>",
         "ids": [
          "South America/Argentina",
          "Asia/Armenia",
          "Oceania/Australia",
          "Europe/Austria",
          "Asia/Bangladesh",
          "Europe/Belgium",
          "South America/Bolivia (Plurinational State of)",
          "South America/Brazil",
          "Africa/Cameroon",
          "North America/Canada",
          "Africa/Chad",
          "South America/Chile",
          "Asia/China",
          "South America/Colombia",
          "North America/Costa Rica",
          "North America/Cuba",
          "Europe/Czechia",
          "Africa/Côte d'Ivoire",
          "Africa/Democratic Republic of the Congo",
          "Europe/Denmark",
          "North America/Dominican Republic",
          "South America/Ecuador",
          "North America/El Salvador",
          "Europe/Finland",
          "Europe/France",
          "Europe/Germany",
          "Africa/Ghana",
          "North America/Guatemala",
          "Europe/Holy See",
          "North America/Honduras",
          "Asia/India",
          "Asia/Iran (Islamic Republic of)",
          "Europe/Ireland",
          "Asia/Israel",
          "Europe/Italy",
          "Asia/Japan",
          "Asia/Kazakhstan",
          "Africa/Kenya",
          "Asia/Lebanon",
          "Africa/Libya",
          "Europe/Luxembourg",
          "Asia/Malaysia",
          "North America/Mexico",
          "Africa/Morocco",
          "Asia/Nepal",
          "Europe/Netherlands",
          "Oceania/New Zealand",
          "North America/Nicaragua",
          "Africa/Nigeria",
          "Europe/Norway",
          "Asia/Pakistan",
          "North America/Panama",
          "South America/Peru",
          "Asia/Philippines",
          "Europe/Poland",
          "Asia/Republic of Korea",
          "Europe/Russian Federation",
          "Europe/San Marino",
          "Asia/Saudi Arabia",
          "Africa/Senegal",
          "Asia/Singapore",
          "Africa/South Africa",
          "Europe/Spain",
          "Asia/Sri Lanka",
          "Europe/Sweden",
          "Europe/Switzerland",
          "Asia/Thailand",
          "Africa/Togo",
          "Asia/Turkey",
          "Africa/Uganda",
          "Europe/Ukraine",
          "Europe/United Kingdom of Great Britain and Northern Ireland",
          "Africa/United Republic of Tanzania",
          "North America/United States of America",
          "South America/Uruguay",
          "Africa",
          "Asia",
          "Europe",
          "North America",
          "Oceania",
          "South America"
         ],
         "labels": [
          "Argentina",
          "Armenia",
          "Australia",
          "Austria",
          "Bangladesh",
          "Belgium",
          "Bolivia (Plurinational State of)",
          "Brazil",
          "Cameroon",
          "Canada",
          "Chad",
          "Chile",
          "China",
          "Colombia",
          "Costa Rica",
          "Cuba",
          "Czechia",
          "Côte d'Ivoire",
          "Democratic Republic of the Congo",
          "Denmark",
          "Dominican Republic",
          "Ecuador",
          "El Salvador",
          "Finland",
          "France",
          "Germany",
          "Ghana",
          "Guatemala",
          "Holy See",
          "Honduras",
          "India",
          "Iran (Islamic Republic of)",
          "Ireland",
          "Israel",
          "Italy",
          "Japan",
          "Kazakhstan",
          "Kenya",
          "Lebanon",
          "Libya",
          "Luxembourg",
          "Malaysia",
          "Mexico",
          "Morocco",
          "Nepal",
          "Netherlands",
          "New Zealand",
          "Nicaragua",
          "Nigeria",
          "Norway",
          "Pakistan",
          "Panama",
          "Peru",
          "Philippines",
          "Poland",
          "Republic of Korea",
          "Russian Federation",
          "San Marino",
          "Saudi Arabia",
          "Senegal",
          "Singapore",
          "South Africa",
          "Spain",
          "Sri Lanka",
          "Sweden",
          "Switzerland",
          "Thailand",
          "Togo",
          "Turkey",
          "Uganda",
          "Ukraine",
          "United Kingdom of Great Britain and Northern Ireland",
          "United Republic of Tanzania",
          "United States of America",
          "Uruguay",
          "Africa",
          "Asia",
          "Europe",
          "North America",
          "Oceania",
          "South America"
         ],
         "marker": {
          "coloraxis": "coloraxis",
          "colors": [
           7,
           1,
           21,
           8,
           11,
           40,
           2,
           21,
           2,
           50,
           1,
           1,
           43,
           4,
           1,
           1,
           2,
           1,
           1,
           18,
           1,
           4,
           1,
           3,
           56,
           76,
           3,
           3,
           1,
           1,
           21,
           1,
           2,
           5,
           19,
           35,
           1,
           8,
           3,
           1,
           2,
           5,
           7,
           11,
           9,
           22,
           4,
           2,
           23,
           10,
           2,
           4,
           20,
           8,
           1,
           8,
           4,
           1,
           1,
           1,
           4,
           8,
           22,
           1,
           13,
           39,
           4,
           2,
           5,
           1,
           4,
           83,
           2,
           231,
           1,
           12.384615384615385,
           23.63095238095238,
           49.2112676056338,
           185.24503311258277,
           18.28,
           15.466666666666667
          ]
         },
         "name": "",
         "parents": [
          "South America",
          "Asia",
          "Oceania",
          "Europe",
          "Asia",
          "Europe",
          "South America",
          "South America",
          "Africa",
          "North America",
          "Africa",
          "South America",
          "Asia",
          "South America",
          "North America",
          "North America",
          "Europe",
          "Africa",
          "Africa",
          "Europe",
          "North America",
          "South America",
          "North America",
          "Europe",
          "Europe",
          "Europe",
          "Africa",
          "North America",
          "Europe",
          "North America",
          "Asia",
          "Asia",
          "Europe",
          "Asia",
          "Europe",
          "Asia",
          "Asia",
          "Africa",
          "Asia",
          "Africa",
          "Europe",
          "Asia",
          "North America",
          "Africa",
          "Asia",
          "Europe",
          "Oceania",
          "North America",
          "Africa",
          "Europe",
          "Asia",
          "North America",
          "South America",
          "Asia",
          "Europe",
          "Asia",
          "Europe",
          "Europe",
          "Asia",
          "Africa",
          "Asia",
          "Africa",
          "Europe",
          "Asia",
          "Europe",
          "Europe",
          "Asia",
          "Africa",
          "Asia",
          "Africa",
          "Europe",
          "Europe",
          "Africa",
          "North America",
          "South America",
          "",
          "",
          "",
          "",
          "",
          ""
         ],
         "type": "sunburst",
         "values": [
          7,
          1,
          21,
          8,
          11,
          40,
          2,
          21,
          2,
          50,
          1,
          1,
          43,
          4,
          1,
          1,
          2,
          1,
          1,
          18,
          1,
          4,
          1,
          3,
          56,
          76,
          3,
          3,
          1,
          1,
          21,
          1,
          2,
          5,
          19,
          35,
          1,
          8,
          3,
          1,
          2,
          5,
          7,
          11,
          9,
          22,
          4,
          2,
          23,
          10,
          2,
          4,
          20,
          8,
          1,
          8,
          4,
          1,
          1,
          1,
          4,
          8,
          22,
          1,
          13,
          39,
          4,
          2,
          5,
          1,
          4,
          83,
          2,
          231,
          1,
          65,
          168,
          426,
          302,
          25,
          60
         ]
        }
       ],
       "layout": {
        "coloraxis": {
         "cmax": 250,
         "cmin": 0,
         "colorbar": {
          "title": {
           "text": "Count"
          }
         },
         "colorscale": [
          [
           0,
           "rgb(247,251,255)"
          ],
          [
           0.125,
           "rgb(222,235,247)"
          ],
          [
           0.25,
           "rgb(198,219,239)"
          ],
          [
           0.375,
           "rgb(158,202,225)"
          ],
          [
           0.5,
           "rgb(107,174,214)"
          ],
          [
           0.625,
           "rgb(66,146,198)"
          ],
          [
           0.75,
           "rgb(33,113,181)"
          ],
          [
           0.875,
           "rgb(8,81,156)"
          ],
          [
           1,
           "rgb(8,48,107)"
          ]
         ]
        },
        "legend": {
         "tracegroupgap": 0
        },
        "template": {
         "data": {
          "bar": [
           {
            "error_x": {
             "color": "#2a3f5f"
            },
            "error_y": {
             "color": "#2a3f5f"
            },
            "marker": {
             "line": {
              "color": "#E5ECF6",
              "width": 0.5
             },
             "pattern": {
              "fillmode": "overlay",
              "size": 10,
              "solidity": 0.2
             }
            },
            "type": "bar"
           }
          ],
          "barpolar": [
           {
            "marker": {
             "line": {
              "color": "#E5ECF6",
              "width": 0.5
             },
             "pattern": {
              "fillmode": "overlay",
              "size": 10,
              "solidity": 0.2
             }
            },
            "type": "barpolar"
           }
          ],
          "carpet": [
           {
            "aaxis": {
             "endlinecolor": "#2a3f5f",
             "gridcolor": "white",
             "linecolor": "white",
             "minorgridcolor": "white",
             "startlinecolor": "#2a3f5f"
            },
            "baxis": {
             "endlinecolor": "#2a3f5f",
             "gridcolor": "white",
             "linecolor": "white",
             "minorgridcolor": "white",
             "startlinecolor": "#2a3f5f"
            },
            "type": "carpet"
           }
          ],
          "choropleth": [
           {
            "colorbar": {
             "outlinewidth": 0,
             "ticks": ""
            },
            "type": "choropleth"
           }
          ],
          "contour": [
           {
            "colorbar": {
             "outlinewidth": 0,
             "ticks": ""
            },
            "colorscale": [
             [
              0,
              "#0d0887"
             ],
             [
              0.1111111111111111,
              "#46039f"
             ],
             [
              0.2222222222222222,
              "#7201a8"
             ],
             [
              0.3333333333333333,
              "#9c179e"
             ],
             [
              0.4444444444444444,
              "#bd3786"
             ],
             [
              0.5555555555555556,
              "#d8576b"
             ],
             [
              0.6666666666666666,
              "#ed7953"
             ],
             [
              0.7777777777777778,
              "#fb9f3a"
             ],
             [
              0.8888888888888888,
              "#fdca26"
             ],
             [
              1,
              "#f0f921"
             ]
            ],
            "type": "contour"
           }
          ],
          "contourcarpet": [
           {
            "colorbar": {
             "outlinewidth": 0,
             "ticks": ""
            },
            "type": "contourcarpet"
           }
          ],
          "heatmap": [
           {
            "colorbar": {
             "outlinewidth": 0,
             "ticks": ""
            },
            "colorscale": [
             [
              0,
              "#0d0887"
             ],
             [
              0.1111111111111111,
              "#46039f"
             ],
             [
              0.2222222222222222,
              "#7201a8"
             ],
             [
              0.3333333333333333,
              "#9c179e"
             ],
             [
              0.4444444444444444,
              "#bd3786"
             ],
             [
              0.5555555555555556,
              "#d8576b"
             ],
             [
              0.6666666666666666,
              "#ed7953"
             ],
             [
              0.7777777777777778,
              "#fb9f3a"
             ],
             [
              0.8888888888888888,
              "#fdca26"
             ],
             [
              1,
              "#f0f921"
             ]
            ],
            "type": "heatmap"
           }
          ],
          "heatmapgl": [
           {
            "colorbar": {
             "outlinewidth": 0,
             "ticks": ""
            },
            "colorscale": [
             [
              0,
              "#0d0887"
             ],
             [
              0.1111111111111111,
              "#46039f"
             ],
             [
              0.2222222222222222,
              "#7201a8"
             ],
             [
              0.3333333333333333,
              "#9c179e"
             ],
             [
              0.4444444444444444,
              "#bd3786"
             ],
             [
              0.5555555555555556,
              "#d8576b"
             ],
             [
              0.6666666666666666,
              "#ed7953"
             ],
             [
              0.7777777777777778,
              "#fb9f3a"
             ],
             [
              0.8888888888888888,
              "#fdca26"
             ],
             [
              1,
              "#f0f921"
             ]
            ],
            "type": "heatmapgl"
           }
          ],
          "histogram": [
           {
            "marker": {
             "pattern": {
              "fillmode": "overlay",
              "size": 10,
              "solidity": 0.2
             }
            },
            "type": "histogram"
           }
          ],
          "histogram2d": [
           {
            "colorbar": {
             "outlinewidth": 0,
             "ticks": ""
            },
            "colorscale": [
             [
              0,
              "#0d0887"
             ],
             [
              0.1111111111111111,
              "#46039f"
             ],
             [
              0.2222222222222222,
              "#7201a8"
             ],
             [
              0.3333333333333333,
              "#9c179e"
             ],
             [
              0.4444444444444444,
              "#bd3786"
             ],
             [
              0.5555555555555556,
              "#d8576b"
             ],
             [
              0.6666666666666666,
              "#ed7953"
             ],
             [
              0.7777777777777778,
              "#fb9f3a"
             ],
             [
              0.8888888888888888,
              "#fdca26"
             ],
             [
              1,
              "#f0f921"
             ]
            ],
            "type": "histogram2d"
           }
          ],
          "histogram2dcontour": [
           {
            "colorbar": {
             "outlinewidth": 0,
             "ticks": ""
            },
            "colorscale": [
             [
              0,
              "#0d0887"
             ],
             [
              0.1111111111111111,
              "#46039f"
             ],
             [
              0.2222222222222222,
              "#7201a8"
             ],
             [
              0.3333333333333333,
              "#9c179e"
             ],
             [
              0.4444444444444444,
              "#bd3786"
             ],
             [
              0.5555555555555556,
              "#d8576b"
             ],
             [
              0.6666666666666666,
              "#ed7953"
             ],
             [
              0.7777777777777778,
              "#fb9f3a"
             ],
             [
              0.8888888888888888,
              "#fdca26"
             ],
             [
              1,
              "#f0f921"
             ]
            ],
            "type": "histogram2dcontour"
           }
          ],
          "mesh3d": [
           {
            "colorbar": {
             "outlinewidth": 0,
             "ticks": ""
            },
            "type": "mesh3d"
           }
          ],
          "parcoords": [
           {
            "line": {
             "colorbar": {
              "outlinewidth": 0,
              "ticks": ""
             }
            },
            "type": "parcoords"
           }
          ],
          "pie": [
           {
            "automargin": true,
            "type": "pie"
           }
          ],
          "scatter": [
           {
            "marker": {
             "colorbar": {
              "outlinewidth": 0,
              "ticks": ""
             }
            },
            "type": "scatter"
           }
          ],
          "scatter3d": [
           {
            "line": {
             "colorbar": {
              "outlinewidth": 0,
              "ticks": ""
             }
            },
            "marker": {
             "colorbar": {
              "outlinewidth": 0,
              "ticks": ""
             }
            },
            "type": "scatter3d"
           }
          ],
          "scattercarpet": [
           {
            "marker": {
             "colorbar": {
              "outlinewidth": 0,
              "ticks": ""
             }
            },
            "type": "scattercarpet"
           }
          ],
          "scattergeo": [
           {
            "marker": {
             "colorbar": {
              "outlinewidth": 0,
              "ticks": ""
             }
            },
            "type": "scattergeo"
           }
          ],
          "scattergl": [
           {
            "marker": {
             "colorbar": {
              "outlinewidth": 0,
              "ticks": ""
             }
            },
            "type": "scattergl"
           }
          ],
          "scattermapbox": [
           {
            "marker": {
             "colorbar": {
              "outlinewidth": 0,
              "ticks": ""
             }
            },
            "type": "scattermapbox"
           }
          ],
          "scatterpolar": [
           {
            "marker": {
             "colorbar": {
              "outlinewidth": 0,
              "ticks": ""
             }
            },
            "type": "scatterpolar"
           }
          ],
          "scatterpolargl": [
           {
            "marker": {
             "colorbar": {
              "outlinewidth": 0,
              "ticks": ""
             }
            },
            "type": "scatterpolargl"
           }
          ],
          "scatterternary": [
           {
            "marker": {
             "colorbar": {
              "outlinewidth": 0,
              "ticks": ""
             }
            },
            "type": "scatterternary"
           }
          ],
          "surface": [
           {
            "colorbar": {
             "outlinewidth": 0,
             "ticks": ""
            },
            "colorscale": [
             [
              0,
              "#0d0887"
             ],
             [
              0.1111111111111111,
              "#46039f"
             ],
             [
              0.2222222222222222,
              "#7201a8"
             ],
             [
              0.3333333333333333,
              "#9c179e"
             ],
             [
              0.4444444444444444,
              "#bd3786"
             ],
             [
              0.5555555555555556,
              "#d8576b"
             ],
             [
              0.6666666666666666,
              "#ed7953"
             ],
             [
              0.7777777777777778,
              "#fb9f3a"
             ],
             [
              0.8888888888888888,
              "#fdca26"
             ],
             [
              1,
              "#f0f921"
             ]
            ],
            "type": "surface"
           }
          ],
          "table": [
           {
            "cells": {
             "fill": {
              "color": "#EBF0F8"
             },
             "line": {
              "color": "white"
             }
            },
            "header": {
             "fill": {
              "color": "#C8D4E3"
             },
             "line": {
              "color": "white"
             }
            },
            "type": "table"
           }
          ]
         },
         "layout": {
          "annotationdefaults": {
           "arrowcolor": "#2a3f5f",
           "arrowhead": 0,
           "arrowwidth": 1
          },
          "autotypenumbers": "strict",
          "coloraxis": {
           "colorbar": {
            "outlinewidth": 0,
            "ticks": ""
           }
          },
          "colorscale": {
           "diverging": [
            [
             0,
             "#8e0152"
            ],
            [
             0.1,
             "#c51b7d"
            ],
            [
             0.2,
             "#de77ae"
            ],
            [
             0.3,
             "#f1b6da"
            ],
            [
             0.4,
             "#fde0ef"
            ],
            [
             0.5,
             "#f7f7f7"
            ],
            [
             0.6,
             "#e6f5d0"
            ],
            [
             0.7,
             "#b8e186"
            ],
            [
             0.8,
             "#7fbc41"
            ],
            [
             0.9,
             "#4d9221"
            ],
            [
             1,
             "#276419"
            ]
           ],
           "sequential": [
            [
             0,
             "#0d0887"
            ],
            [
             0.1111111111111111,
             "#46039f"
            ],
            [
             0.2222222222222222,
             "#7201a8"
            ],
            [
             0.3333333333333333,
             "#9c179e"
            ],
            [
             0.4444444444444444,
             "#bd3786"
            ],
            [
             0.5555555555555556,
             "#d8576b"
            ],
            [
             0.6666666666666666,
             "#ed7953"
            ],
            [
             0.7777777777777778,
             "#fb9f3a"
            ],
            [
             0.8888888888888888,
             "#fdca26"
            ],
            [
             1,
             "#f0f921"
            ]
           ],
           "sequentialminus": [
            [
             0,
             "#0d0887"
            ],
            [
             0.1111111111111111,
             "#46039f"
            ],
            [
             0.2222222222222222,
             "#7201a8"
            ],
            [
             0.3333333333333333,
             "#9c179e"
            ],
            [
             0.4444444444444444,
             "#bd3786"
            ],
            [
             0.5555555555555556,
             "#d8576b"
            ],
            [
             0.6666666666666666,
             "#ed7953"
            ],
            [
             0.7777777777777778,
             "#fb9f3a"
            ],
            [
             0.8888888888888888,
             "#fdca26"
            ],
            [
             1,
             "#f0f921"
            ]
           ]
          },
          "colorway": [
           "#636efa",
           "#EF553B",
           "#00cc96",
           "#ab63fa",
           "#FFA15A",
           "#19d3f3",
           "#FF6692",
           "#B6E880",
           "#FF97FF",
           "#FECB52"
          ],
          "font": {
           "color": "#2a3f5f"
          },
          "geo": {
           "bgcolor": "white",
           "lakecolor": "white",
           "landcolor": "#E5ECF6",
           "showlakes": true,
           "showland": true,
           "subunitcolor": "white"
          },
          "hoverlabel": {
           "align": "left"
          },
          "hovermode": "closest",
          "mapbox": {
           "style": "light"
          },
          "paper_bgcolor": "white",
          "plot_bgcolor": "#E5ECF6",
          "polar": {
           "angularaxis": {
            "gridcolor": "white",
            "linecolor": "white",
            "ticks": ""
           },
           "bgcolor": "#E5ECF6",
           "radialaxis": {
            "gridcolor": "white",
            "linecolor": "white",
            "ticks": ""
           }
          },
          "scene": {
           "xaxis": {
            "backgroundcolor": "#E5ECF6",
            "gridcolor": "white",
            "gridwidth": 2,
            "linecolor": "white",
            "showbackground": true,
            "ticks": "",
            "zerolinecolor": "white"
           },
           "yaxis": {
            "backgroundcolor": "#E5ECF6",
            "gridcolor": "white",
            "gridwidth": 2,
            "linecolor": "white",
            "showbackground": true,
            "ticks": "",
            "zerolinecolor": "white"
           },
           "zaxis": {
            "backgroundcolor": "#E5ECF6",
            "gridcolor": "white",
            "gridwidth": 2,
            "linecolor": "white",
            "showbackground": true,
            "ticks": "",
            "zerolinecolor": "white"
           }
          },
          "shapedefaults": {
           "line": {
            "color": "#2a3f5f"
           }
          },
          "ternary": {
           "aaxis": {
            "gridcolor": "white",
            "linecolor": "white",
            "ticks": ""
           },
           "baxis": {
            "gridcolor": "white",
            "linecolor": "white",
            "ticks": ""
           },
           "bgcolor": "#E5ECF6",
           "caxis": {
            "gridcolor": "white",
            "linecolor": "white",
            "ticks": ""
           }
          },
          "title": {
           "x": 0.05
          },
          "xaxis": {
           "automargin": true,
           "gridcolor": "white",
           "linecolor": "white",
           "ticks": "",
           "title": {
            "standoff": 15
           },
           "zerolinecolor": "white",
           "zerolinewidth": 2
          },
          "yaxis": {
           "automargin": true,
           "gridcolor": "white",
           "linecolor": "white",
           "ticks": "",
           "title": {
            "standoff": 15
           },
           "zerolinecolor": "white",
           "zerolinewidth": 2
          }
         }
        },
        "title": {
         "text": "Sunburst Plot of NGO Organization Count by Country (COP2019)"
        }
       }
      },
      "text/html": [
       "<div>                            <div id=\"3e1f671c-d8c3-45ac-bc9e-2eb9ed759c0b\" class=\"plotly-graph-div\" style=\"height:525px; width:100%;\"></div>            <script type=\"text/javascript\">                require([\"plotly\"], function(Plotly) {                    window.PLOTLYENV=window.PLOTLYENV || {};                                    if (document.getElementById(\"3e1f671c-d8c3-45ac-bc9e-2eb9ed759c0b\")) {                    Plotly.newPlot(                        \"3e1f671c-d8c3-45ac-bc9e-2eb9ed759c0b\",                        [{\"branchvalues\":\"total\",\"customdata\":[[\"ARG\",7.0],[\"ARM\",1.0],[\"AUS\",21.0],[\"AUT\",8.0],[\"BGD\",11.0],[\"BEL\",40.0],[\"BOL\",2.0],[\"BRA\",21.0],[\"CMR\",2.0],[\"CAN\",50.0],[\"TCD\",1.0],[\"CHL\",1.0],[\"CHN\",43.0],[\"COL\",4.0],[\"CRI\",1.0],[\"CUB\",1.0],[\"CZE\",2.0],[\"CIV\",1.0],[\"COD\",1.0],[\"DNK\",18.0],[\"DOM\",1.0],[\"ECU\",4.0],[\"SLV\",1.0],[\"FIN\",3.0],[\"FRA\",56.0],[\"DEU\",76.0],[\"GHA\",3.0],[\"GTM\",3.0],[\"VAT\",1.0],[\"HND\",1.0],[\"IND\",21.0],[\"IRN\",1.0],[\"IRL\",2.0],[\"ISR\",5.0],[\"ITA\",19.0],[\"JPN\",35.0],[\"KAZ\",1.0],[\"KEN\",8.0],[\"LBN\",3.0],[\"LBY\",1.0],[\"LUX\",2.0],[\"MYS\",5.0],[\"MEX\",7.0],[\"MAR\",11.0],[\"NPL\",9.0],[\"NLD\",22.0],[\"NZL\",4.0],[\"NIC\",2.0],[\"NGA\",23.0],[\"NOR\",10.0],[\"PAK\",2.0],[\"PAN\",4.0],[\"PER\",20.0],[\"PHL\",8.0],[\"POL\",1.0],[\"KOR\",8.0],[\"RUS\",4.0],[\"SMR\",1.0],[\"SAU\",1.0],[\"SEN\",1.0],[\"SGP\",4.0],[\"ZAF\",8.0],[\"ESP\",22.0],[\"LKA\",1.0],[\"SWE\",13.0],[\"CHE\",39.0],[\"THA\",4.0],[\"TGO\",2.0],[\"TUR\",5.0],[\"UGA\",1.0],[\"UKR\",4.0],[\"GBR\",83.0],[\"TZA\",2.0],[\"USA\",231.0],[\"URY\",1.0],[\"(?)\",12.384615384615385],[\"(?)\",23.63095238095238],[\"(?)\",49.2112676056338],[\"(?)\",185.24503311258277],[\"(?)\",18.28],[\"(?)\",15.466666666666667]],\"domain\":{\"x\":[0.0,1.0],\"y\":[0.0,1.0]},\"hovertemplate\":\"labels=%{label}<br>Count_sum=%{value}<br>parent=%{parent}<br>id=%{id}<br>ISO3=%{customdata[0]}<br>Count=%{color}<extra></extra>\",\"ids\":[\"South America/Argentina\",\"Asia/Armenia\",\"Oceania/Australia\",\"Europe/Austria\",\"Asia/Bangladesh\",\"Europe/Belgium\",\"South America/Bolivia (Plurinational State of)\",\"South America/Brazil\",\"Africa/Cameroon\",\"North America/Canada\",\"Africa/Chad\",\"South America/Chile\",\"Asia/China\",\"South America/Colombia\",\"North America/Costa Rica\",\"North America/Cuba\",\"Europe/Czechia\",\"Africa/C\\u00f4te d'Ivoire\",\"Africa/Democratic Republic of the Congo\",\"Europe/Denmark\",\"North America/Dominican Republic\",\"South America/Ecuador\",\"North America/El Salvador\",\"Europe/Finland\",\"Europe/France\",\"Europe/Germany\",\"Africa/Ghana\",\"North America/Guatemala\",\"Europe/Holy See\",\"North America/Honduras\",\"Asia/India\",\"Asia/Iran (Islamic Republic of)\",\"Europe/Ireland\",\"Asia/Israel\",\"Europe/Italy\",\"Asia/Japan\",\"Asia/Kazakhstan\",\"Africa/Kenya\",\"Asia/Lebanon\",\"Africa/Libya\",\"Europe/Luxembourg\",\"Asia/Malaysia\",\"North America/Mexico\",\"Africa/Morocco\",\"Asia/Nepal\",\"Europe/Netherlands\",\"Oceania/New Zealand\",\"North America/Nicaragua\",\"Africa/Nigeria\",\"Europe/Norway\",\"Asia/Pakistan\",\"North America/Panama\",\"South America/Peru\",\"Asia/Philippines\",\"Europe/Poland\",\"Asia/Republic of Korea\",\"Europe/Russian Federation\",\"Europe/San Marino\",\"Asia/Saudi Arabia\",\"Africa/Senegal\",\"Asia/Singapore\",\"Africa/South Africa\",\"Europe/Spain\",\"Asia/Sri Lanka\",\"Europe/Sweden\",\"Europe/Switzerland\",\"Asia/Thailand\",\"Africa/Togo\",\"Asia/Turkey\",\"Africa/Uganda\",\"Europe/Ukraine\",\"Europe/United Kingdom of Great Britain and Northern Ireland\",\"Africa/United Republic of Tanzania\",\"North America/United States of America\",\"South America/Uruguay\",\"Africa\",\"Asia\",\"Europe\",\"North America\",\"Oceania\",\"South America\"],\"labels\":[\"Argentina\",\"Armenia\",\"Australia\",\"Austria\",\"Bangladesh\",\"Belgium\",\"Bolivia (Plurinational State of)\",\"Brazil\",\"Cameroon\",\"Canada\",\"Chad\",\"Chile\",\"China\",\"Colombia\",\"Costa Rica\",\"Cuba\",\"Czechia\",\"C\\u00f4te d'Ivoire\",\"Democratic Republic of the Congo\",\"Denmark\",\"Dominican Republic\",\"Ecuador\",\"El Salvador\",\"Finland\",\"France\",\"Germany\",\"Ghana\",\"Guatemala\",\"Holy See\",\"Honduras\",\"India\",\"Iran (Islamic Republic of)\",\"Ireland\",\"Israel\",\"Italy\",\"Japan\",\"Kazakhstan\",\"Kenya\",\"Lebanon\",\"Libya\",\"Luxembourg\",\"Malaysia\",\"Mexico\",\"Morocco\",\"Nepal\",\"Netherlands\",\"New Zealand\",\"Nicaragua\",\"Nigeria\",\"Norway\",\"Pakistan\",\"Panama\",\"Peru\",\"Philippines\",\"Poland\",\"Republic of Korea\",\"Russian Federation\",\"San Marino\",\"Saudi Arabia\",\"Senegal\",\"Singapore\",\"South Africa\",\"Spain\",\"Sri Lanka\",\"Sweden\",\"Switzerland\",\"Thailand\",\"Togo\",\"Turkey\",\"Uganda\",\"Ukraine\",\"United Kingdom of Great Britain and Northern Ireland\",\"United Republic of Tanzania\",\"United States of America\",\"Uruguay\",\"Africa\",\"Asia\",\"Europe\",\"North America\",\"Oceania\",\"South America\"],\"marker\":{\"coloraxis\":\"coloraxis\",\"colors\":[7.0,1.0,21.0,8.0,11.0,40.0,2.0,21.0,2.0,50.0,1.0,1.0,43.0,4.0,1.0,1.0,2.0,1.0,1.0,18.0,1.0,4.0,1.0,3.0,56.0,76.0,3.0,3.0,1.0,1.0,21.0,1.0,2.0,5.0,19.0,35.0,1.0,8.0,3.0,1.0,2.0,5.0,7.0,11.0,9.0,22.0,4.0,2.0,23.0,10.0,2.0,4.0,20.0,8.0,1.0,8.0,4.0,1.0,1.0,1.0,4.0,8.0,22.0,1.0,13.0,39.0,4.0,2.0,5.0,1.0,4.0,83.0,2.0,231.0,1.0,12.384615384615385,23.63095238095238,49.2112676056338,185.24503311258277,18.28,15.466666666666667]},\"name\":\"\",\"parents\":[\"South America\",\"Asia\",\"Oceania\",\"Europe\",\"Asia\",\"Europe\",\"South America\",\"South America\",\"Africa\",\"North America\",\"Africa\",\"South America\",\"Asia\",\"South America\",\"North America\",\"North America\",\"Europe\",\"Africa\",\"Africa\",\"Europe\",\"North America\",\"South America\",\"North America\",\"Europe\",\"Europe\",\"Europe\",\"Africa\",\"North America\",\"Europe\",\"North America\",\"Asia\",\"Asia\",\"Europe\",\"Asia\",\"Europe\",\"Asia\",\"Asia\",\"Africa\",\"Asia\",\"Africa\",\"Europe\",\"Asia\",\"North America\",\"Africa\",\"Asia\",\"Europe\",\"Oceania\",\"North America\",\"Africa\",\"Europe\",\"Asia\",\"North America\",\"South America\",\"Asia\",\"Europe\",\"Asia\",\"Europe\",\"Europe\",\"Asia\",\"Africa\",\"Asia\",\"Africa\",\"Europe\",\"Asia\",\"Europe\",\"Europe\",\"Asia\",\"Africa\",\"Asia\",\"Africa\",\"Europe\",\"Europe\",\"Africa\",\"North America\",\"South America\",\"\",\"\",\"\",\"\",\"\",\"\"],\"type\":\"sunburst\",\"values\":[7,1,21,8,11,40,2,21,2,50,1,1,43,4,1,1,2,1,1,18,1,4,1,3,56,76,3,3,1,1,21,1,2,5,19,35,1,8,3,1,2,5,7,11,9,22,4,2,23,10,2,4,20,8,1,8,4,1,1,1,4,8,22,1,13,39,4,2,5,1,4,83,2,231,1,65,168,426,302,25,60]}],                        {\"coloraxis\":{\"cmax\":250,\"cmin\":0,\"colorbar\":{\"title\":{\"text\":\"Count\"}},\"colorscale\":[[0.0,\"rgb(247,251,255)\"],[0.125,\"rgb(222,235,247)\"],[0.25,\"rgb(198,219,239)\"],[0.375,\"rgb(158,202,225)\"],[0.5,\"rgb(107,174,214)\"],[0.625,\"rgb(66,146,198)\"],[0.75,\"rgb(33,113,181)\"],[0.875,\"rgb(8,81,156)\"],[1.0,\"rgb(8,48,107)\"]]},\"legend\":{\"tracegroupgap\":0},\"template\":{\"data\":{\"bar\":[{\"error_x\":{\"color\":\"#2a3f5f\"},\"error_y\":{\"color\":\"#2a3f5f\"},\"marker\":{\"line\":{\"color\":\"#E5ECF6\",\"width\":0.5},\"pattern\":{\"fillmode\":\"overlay\",\"size\":10,\"solidity\":0.2}},\"type\":\"bar\"}],\"barpolar\":[{\"marker\":{\"line\":{\"color\":\"#E5ECF6\",\"width\":0.5},\"pattern\":{\"fillmode\":\"overlay\",\"size\":10,\"solidity\":0.2}},\"type\":\"barpolar\"}],\"carpet\":[{\"aaxis\":{\"endlinecolor\":\"#2a3f5f\",\"gridcolor\":\"white\",\"linecolor\":\"white\",\"minorgridcolor\":\"white\",\"startlinecolor\":\"#2a3f5f\"},\"baxis\":{\"endlinecolor\":\"#2a3f5f\",\"gridcolor\":\"white\",\"linecolor\":\"white\",\"minorgridcolor\":\"white\",\"startlinecolor\":\"#2a3f5f\"},\"type\":\"carpet\"}],\"choropleth\":[{\"colorbar\":{\"outlinewidth\":0,\"ticks\":\"\"},\"type\":\"choropleth\"}],\"contour\":[{\"colorbar\":{\"outlinewidth\":0,\"ticks\":\"\"},\"colorscale\":[[0.0,\"#0d0887\"],[0.1111111111111111,\"#46039f\"],[0.2222222222222222,\"#7201a8\"],[0.3333333333333333,\"#9c179e\"],[0.4444444444444444,\"#bd3786\"],[0.5555555555555556,\"#d8576b\"],[0.6666666666666666,\"#ed7953\"],[0.7777777777777778,\"#fb9f3a\"],[0.8888888888888888,\"#fdca26\"],[1.0,\"#f0f921\"]],\"type\":\"contour\"}],\"contourcarpet\":[{\"colorbar\":{\"outlinewidth\":0,\"ticks\":\"\"},\"type\":\"contourcarpet\"}],\"heatmap\":[{\"colorbar\":{\"outlinewidth\":0,\"ticks\":\"\"},\"colorscale\":[[0.0,\"#0d0887\"],[0.1111111111111111,\"#46039f\"],[0.2222222222222222,\"#7201a8\"],[0.3333333333333333,\"#9c179e\"],[0.4444444444444444,\"#bd3786\"],[0.5555555555555556,\"#d8576b\"],[0.6666666666666666,\"#ed7953\"],[0.7777777777777778,\"#fb9f3a\"],[0.8888888888888888,\"#fdca26\"],[1.0,\"#f0f921\"]],\"type\":\"heatmap\"}],\"heatmapgl\":[{\"colorbar\":{\"outlinewidth\":0,\"ticks\":\"\"},\"colorscale\":[[0.0,\"#0d0887\"],[0.1111111111111111,\"#46039f\"],[0.2222222222222222,\"#7201a8\"],[0.3333333333333333,\"#9c179e\"],[0.4444444444444444,\"#bd3786\"],[0.5555555555555556,\"#d8576b\"],[0.6666666666666666,\"#ed7953\"],[0.7777777777777778,\"#fb9f3a\"],[0.8888888888888888,\"#fdca26\"],[1.0,\"#f0f921\"]],\"type\":\"heatmapgl\"}],\"histogram\":[{\"marker\":{\"pattern\":{\"fillmode\":\"overlay\",\"size\":10,\"solidity\":0.2}},\"type\":\"histogram\"}],\"histogram2d\":[{\"colorbar\":{\"outlinewidth\":0,\"ticks\":\"\"},\"colorscale\":[[0.0,\"#0d0887\"],[0.1111111111111111,\"#46039f\"],[0.2222222222222222,\"#7201a8\"],[0.3333333333333333,\"#9c179e\"],[0.4444444444444444,\"#bd3786\"],[0.5555555555555556,\"#d8576b\"],[0.6666666666666666,\"#ed7953\"],[0.7777777777777778,\"#fb9f3a\"],[0.8888888888888888,\"#fdca26\"],[1.0,\"#f0f921\"]],\"type\":\"histogram2d\"}],\"histogram2dcontour\":[{\"colorbar\":{\"outlinewidth\":0,\"ticks\":\"\"},\"colorscale\":[[0.0,\"#0d0887\"],[0.1111111111111111,\"#46039f\"],[0.2222222222222222,\"#7201a8\"],[0.3333333333333333,\"#9c179e\"],[0.4444444444444444,\"#bd3786\"],[0.5555555555555556,\"#d8576b\"],[0.6666666666666666,\"#ed7953\"],[0.7777777777777778,\"#fb9f3a\"],[0.8888888888888888,\"#fdca26\"],[1.0,\"#f0f921\"]],\"type\":\"histogram2dcontour\"}],\"mesh3d\":[{\"colorbar\":{\"outlinewidth\":0,\"ticks\":\"\"},\"type\":\"mesh3d\"}],\"parcoords\":[{\"line\":{\"colorbar\":{\"outlinewidth\":0,\"ticks\":\"\"}},\"type\":\"parcoords\"}],\"pie\":[{\"automargin\":true,\"type\":\"pie\"}],\"scatter\":[{\"marker\":{\"colorbar\":{\"outlinewidth\":0,\"ticks\":\"\"}},\"type\":\"scatter\"}],\"scatter3d\":[{\"line\":{\"colorbar\":{\"outlinewidth\":0,\"ticks\":\"\"}},\"marker\":{\"colorbar\":{\"outlinewidth\":0,\"ticks\":\"\"}},\"type\":\"scatter3d\"}],\"scattercarpet\":[{\"marker\":{\"colorbar\":{\"outlinewidth\":0,\"ticks\":\"\"}},\"type\":\"scattercarpet\"}],\"scattergeo\":[{\"marker\":{\"colorbar\":{\"outlinewidth\":0,\"ticks\":\"\"}},\"type\":\"scattergeo\"}],\"scattergl\":[{\"marker\":{\"colorbar\":{\"outlinewidth\":0,\"ticks\":\"\"}},\"type\":\"scattergl\"}],\"scattermapbox\":[{\"marker\":{\"colorbar\":{\"outlinewidth\":0,\"ticks\":\"\"}},\"type\":\"scattermapbox\"}],\"scatterpolar\":[{\"marker\":{\"colorbar\":{\"outlinewidth\":0,\"ticks\":\"\"}},\"type\":\"scatterpolar\"}],\"scatterpolargl\":[{\"marker\":{\"colorbar\":{\"outlinewidth\":0,\"ticks\":\"\"}},\"type\":\"scatterpolargl\"}],\"scatterternary\":[{\"marker\":{\"colorbar\":{\"outlinewidth\":0,\"ticks\":\"\"}},\"type\":\"scatterternary\"}],\"surface\":[{\"colorbar\":{\"outlinewidth\":0,\"ticks\":\"\"},\"colorscale\":[[0.0,\"#0d0887\"],[0.1111111111111111,\"#46039f\"],[0.2222222222222222,\"#7201a8\"],[0.3333333333333333,\"#9c179e\"],[0.4444444444444444,\"#bd3786\"],[0.5555555555555556,\"#d8576b\"],[0.6666666666666666,\"#ed7953\"],[0.7777777777777778,\"#fb9f3a\"],[0.8888888888888888,\"#fdca26\"],[1.0,\"#f0f921\"]],\"type\":\"surface\"}],\"table\":[{\"cells\":{\"fill\":{\"color\":\"#EBF0F8\"},\"line\":{\"color\":\"white\"}},\"header\":{\"fill\":{\"color\":\"#C8D4E3\"},\"line\":{\"color\":\"white\"}},\"type\":\"table\"}]},\"layout\":{\"annotationdefaults\":{\"arrowcolor\":\"#2a3f5f\",\"arrowhead\":0,\"arrowwidth\":1},\"autotypenumbers\":\"strict\",\"coloraxis\":{\"colorbar\":{\"outlinewidth\":0,\"ticks\":\"\"}},\"colorscale\":{\"diverging\":[[0,\"#8e0152\"],[0.1,\"#c51b7d\"],[0.2,\"#de77ae\"],[0.3,\"#f1b6da\"],[0.4,\"#fde0ef\"],[0.5,\"#f7f7f7\"],[0.6,\"#e6f5d0\"],[0.7,\"#b8e186\"],[0.8,\"#7fbc41\"],[0.9,\"#4d9221\"],[1,\"#276419\"]],\"sequential\":[[0.0,\"#0d0887\"],[0.1111111111111111,\"#46039f\"],[0.2222222222222222,\"#7201a8\"],[0.3333333333333333,\"#9c179e\"],[0.4444444444444444,\"#bd3786\"],[0.5555555555555556,\"#d8576b\"],[0.6666666666666666,\"#ed7953\"],[0.7777777777777778,\"#fb9f3a\"],[0.8888888888888888,\"#fdca26\"],[1.0,\"#f0f921\"]],\"sequentialminus\":[[0.0,\"#0d0887\"],[0.1111111111111111,\"#46039f\"],[0.2222222222222222,\"#7201a8\"],[0.3333333333333333,\"#9c179e\"],[0.4444444444444444,\"#bd3786\"],[0.5555555555555556,\"#d8576b\"],[0.6666666666666666,\"#ed7953\"],[0.7777777777777778,\"#fb9f3a\"],[0.8888888888888888,\"#fdca26\"],[1.0,\"#f0f921\"]]},\"colorway\":[\"#636efa\",\"#EF553B\",\"#00cc96\",\"#ab63fa\",\"#FFA15A\",\"#19d3f3\",\"#FF6692\",\"#B6E880\",\"#FF97FF\",\"#FECB52\"],\"font\":{\"color\":\"#2a3f5f\"},\"geo\":{\"bgcolor\":\"white\",\"lakecolor\":\"white\",\"landcolor\":\"#E5ECF6\",\"showlakes\":true,\"showland\":true,\"subunitcolor\":\"white\"},\"hoverlabel\":{\"align\":\"left\"},\"hovermode\":\"closest\",\"mapbox\":{\"style\":\"light\"},\"paper_bgcolor\":\"white\",\"plot_bgcolor\":\"#E5ECF6\",\"polar\":{\"angularaxis\":{\"gridcolor\":\"white\",\"linecolor\":\"white\",\"ticks\":\"\"},\"bgcolor\":\"#E5ECF6\",\"radialaxis\":{\"gridcolor\":\"white\",\"linecolor\":\"white\",\"ticks\":\"\"}},\"scene\":{\"xaxis\":{\"backgroundcolor\":\"#E5ECF6\",\"gridcolor\":\"white\",\"gridwidth\":2,\"linecolor\":\"white\",\"showbackground\":true,\"ticks\":\"\",\"zerolinecolor\":\"white\"},\"yaxis\":{\"backgroundcolor\":\"#E5ECF6\",\"gridcolor\":\"white\",\"gridwidth\":2,\"linecolor\":\"white\",\"showbackground\":true,\"ticks\":\"\",\"zerolinecolor\":\"white\"},\"zaxis\":{\"backgroundcolor\":\"#E5ECF6\",\"gridcolor\":\"white\",\"gridwidth\":2,\"linecolor\":\"white\",\"showbackground\":true,\"ticks\":\"\",\"zerolinecolor\":\"white\"}},\"shapedefaults\":{\"line\":{\"color\":\"#2a3f5f\"}},\"ternary\":{\"aaxis\":{\"gridcolor\":\"white\",\"linecolor\":\"white\",\"ticks\":\"\"},\"baxis\":{\"gridcolor\":\"white\",\"linecolor\":\"white\",\"ticks\":\"\"},\"bgcolor\":\"#E5ECF6\",\"caxis\":{\"gridcolor\":\"white\",\"linecolor\":\"white\",\"ticks\":\"\"}},\"title\":{\"x\":0.05},\"xaxis\":{\"automargin\":true,\"gridcolor\":\"white\",\"linecolor\":\"white\",\"ticks\":\"\",\"title\":{\"standoff\":15},\"zerolinecolor\":\"white\",\"zerolinewidth\":2},\"yaxis\":{\"automargin\":true,\"gridcolor\":\"white\",\"linecolor\":\"white\",\"ticks\":\"\",\"title\":{\"standoff\":15},\"zerolinecolor\":\"white\",\"zerolinewidth\":2}}},\"title\":{\"text\":\"Sunburst Plot of NGO Organization Count by Country (COP2019)\"}},                        {\"responsive\": true}                    ).then(function(){\n",
       "                            \n",
       "var gd = document.getElementById('3e1f671c-d8c3-45ac-bc9e-2eb9ed759c0b');\n",
       "var x = new MutationObserver(function (mutations, observer) {{\n",
       "        var display = window.getComputedStyle(gd).display;\n",
       "        if (!display || display === 'none') {{\n",
       "            console.log([gd, 'removed!']);\n",
       "            Plotly.purge(gd);\n",
       "            observer.disconnect();\n",
       "        }}\n",
       "}});\n",
       "\n",
       "// Listen for the removal of the full notebook cells\n",
       "var notebookContainer = gd.closest('#notebook-container');\n",
       "if (notebookContainer) {{\n",
       "    x.observe(notebookContainer, {childList: true});\n",
       "}}\n",
       "\n",
       "// Listen for the clearing of the current output cell\n",
       "var outputEl = gd.closest('.output');\n",
       "if (outputEl) {{\n",
       "    x.observe(outputEl, {childList: true});\n",
       "}}\n",
       "\n",
       "                        })                };                });            </script>        </div>"
      ]
     },
     "metadata": {},
     "output_type": "display_data"
    }
   ],
   "source": [
    "fig = px.sunburst(NGO_country_stats, path=['Continent', 'Country'], values='Count',\n",
    "                  color='Count', hover_data=['ISO3'],\n",
    "                  color_continuous_scale='blues',\n",
    "                  title = \"Sunburst Plot of NGO Organization Count by Country (COP2019)\",\n",
    "                 range_color= [0, 250])\n",
    "fig.write_html(\"sunburst_NGOs_1.html\")\n",
    "fig.show()"
   ]
  },
  {
   "cell_type": "code",
   "execution_count": 91,
   "metadata": {},
   "outputs": [
    {
     "data": {
      "application/vnd.plotly.v1+json": {
       "config": {
        "plotlyServerURL": "https://plot.ly"
       },
       "data": [
        {
         "branchvalues": "total",
         "customdata": [
          [
           "AUT",
           1
          ],
          [
           "BEL",
           1
          ],
          [
           "BLZ",
           1
          ],
          [
           "BOL",
           1
          ],
          [
           "BFA",
           2
          ],
          [
           "CAN",
           1
          ],
          [
           "CHN",
           1
          ],
          [
           "CRI",
           1
          ],
          [
           "CIV",
           1
          ],
          [
           "DNK",
           1
          ],
          [
           "EGY",
           2
          ],
          [
           "SLV",
           1
          ],
          [
           "ETH",
           1
          ],
          [
           "FJI",
           1
          ],
          [
           "FIN",
           4
          ],
          [
           "FRA",
           9
          ],
          [
           "GAB",
           1
          ],
          [
           "GUY",
           1
          ],
          [
           "HND",
           1
          ],
          [
           "IND",
           1
          ],
          [
           "IDN",
           1
          ],
          [
           "JPN",
           1
          ],
          [
           "KEN",
           2
          ],
          [
           "KWT",
           1
          ],
          [
           "LBN",
           1
          ],
          [
           "LUX",
           1
          ],
          [
           "MLT",
           1
          ],
          [
           "MRT",
           1
          ],
          [
           "MAR",
           1
          ],
          [
           "NPL",
           1
          ],
          [
           "NER",
           1
          ],
          [
           "NGA",
           1
          ],
          [
           "PER",
           1
          ],
          [
           "PHL",
           2
          ],
          [
           "QAT",
           1
          ],
          [
           "KOR",
           1
          ],
          [
           "SAU",
           1
          ],
          [
           "ESP",
           2
          ],
          [
           "LKA",
           1
          ],
          [
           "SWE",
           1
          ],
          [
           "CHE",
           4
          ],
          [
           "THA",
           1
          ],
          [
           "TUN",
           2
          ],
          [
           "ARE",
           1
          ],
          [
           "GBR",
           3
          ],
          [
           "TZA",
           1
          ],
          [
           "USA",
           3
          ],
          [
           "VEN",
           1
          ],
          [
           "(?)",
           1.5
          ],
          [
           "(?)",
           1.1333333333333333
          ],
          [
           "(?)",
           4.714285714285714
          ],
          [
           "(?)",
           1.75
          ],
          [
           "FJI",
           1
          ],
          [
           "(?)",
           1
          ]
         ],
         "domain": {
          "x": [
           0,
           1
          ],
          "y": [
           0,
           1
          ]
         },
         "hovertemplate": "labels=%{label}<br>Count_sum=%{value}<br>parent=%{parent}<br>id=%{id}<br>ISO3=%{customdata[0]}<br>Count=%{color}<extra></extra>",
         "ids": [
          "Europe/Austria",
          "Europe/Belgium",
          "North America/Belize",
          "South America/Bolivia (Plurinational State of)",
          "Africa/Burkina Faso",
          "North America/Canada",
          "Asia/China",
          "North America/Costa Rica",
          "Africa/Côte d'Ivoire",
          "Europe/Denmark",
          "Africa/Egypt",
          "North America/El Salvador",
          "Africa/Ethiopia",
          "Oceania/Fiji",
          "Europe/Finland",
          "Europe/France",
          "Africa/Gabon",
          "South America/Guyana",
          "North America/Honduras",
          "Asia/India",
          "Asia/Indonesia",
          "Asia/Japan",
          "Africa/Kenya",
          "Asia/Kuwait",
          "Asia/Lebanon",
          "Europe/Luxembourg",
          "Europe/Malta",
          "Africa/Mauritania",
          "Africa/Morocco",
          "Asia/Nepal",
          "Africa/Niger",
          "Africa/Nigeria",
          "South America/Peru",
          "Asia/Philippines",
          "Asia/Qatar",
          "Asia/Republic of Korea",
          "Asia/Saudi Arabia",
          "Europe/Spain",
          "Asia/Sri Lanka",
          "Europe/Sweden",
          "Europe/Switzerland",
          "Asia/Thailand",
          "Africa/Tunisia",
          "Asia/United Arab Emirates",
          "Europe/United Kingdom of Great Britain and Northern Ireland",
          "Africa/United Republic of Tanzania",
          "North America/United States of America",
          "South America/Venezuela (Bolivarian Republic of)",
          "Africa",
          "Asia",
          "Europe",
          "North America",
          "Oceania",
          "South America"
         ],
         "labels": [
          "Austria",
          "Belgium",
          "Belize",
          "Bolivia (Plurinational State of)",
          "Burkina Faso",
          "Canada",
          "China",
          "Costa Rica",
          "Côte d'Ivoire",
          "Denmark",
          "Egypt",
          "El Salvador",
          "Ethiopia",
          "Fiji",
          "Finland",
          "France",
          "Gabon",
          "Guyana",
          "Honduras",
          "India",
          "Indonesia",
          "Japan",
          "Kenya",
          "Kuwait",
          "Lebanon",
          "Luxembourg",
          "Malta",
          "Mauritania",
          "Morocco",
          "Nepal",
          "Niger",
          "Nigeria",
          "Peru",
          "Philippines",
          "Qatar",
          "Republic of Korea",
          "Saudi Arabia",
          "Spain",
          "Sri Lanka",
          "Sweden",
          "Switzerland",
          "Thailand",
          "Tunisia",
          "United Arab Emirates",
          "United Kingdom of Great Britain and Northern Ireland",
          "United Republic of Tanzania",
          "United States of America",
          "Venezuela (Bolivarian Republic of)",
          "Africa",
          "Asia",
          "Europe",
          "North America",
          "Oceania",
          "South America"
         ],
         "marker": {
          "coloraxis": "coloraxis",
          "colors": [
           1,
           1,
           1,
           1,
           2,
           1,
           1,
           1,
           1,
           1,
           2,
           1,
           1,
           1,
           4,
           9,
           1,
           1,
           1,
           1,
           1,
           1,
           2,
           1,
           1,
           1,
           1,
           1,
           1,
           1,
           1,
           1,
           1,
           2,
           1,
           1,
           1,
           2,
           1,
           1,
           4,
           1,
           2,
           1,
           3,
           1,
           3,
           1,
           1.5,
           1.1333333333333333,
           4.714285714285714,
           1.75,
           1,
           1
          ]
         },
         "name": "",
         "parents": [
          "Europe",
          "Europe",
          "North America",
          "South America",
          "Africa",
          "North America",
          "Asia",
          "North America",
          "Africa",
          "Europe",
          "Africa",
          "North America",
          "Africa",
          "Oceania",
          "Europe",
          "Europe",
          "Africa",
          "South America",
          "North America",
          "Asia",
          "Asia",
          "Asia",
          "Africa",
          "Asia",
          "Asia",
          "Europe",
          "Europe",
          "Africa",
          "Africa",
          "Asia",
          "Africa",
          "Africa",
          "South America",
          "Asia",
          "Asia",
          "Asia",
          "Asia",
          "Europe",
          "Asia",
          "Europe",
          "Europe",
          "Asia",
          "Africa",
          "Asia",
          "Europe",
          "Africa",
          "North America",
          "South America",
          "",
          "",
          "",
          "",
          "",
          ""
         ],
         "type": "sunburst",
         "values": [
          1,
          1,
          1,
          1,
          2,
          1,
          1,
          1,
          1,
          1,
          2,
          1,
          1,
          1,
          4,
          9,
          1,
          1,
          1,
          1,
          1,
          1,
          2,
          1,
          1,
          1,
          1,
          1,
          1,
          1,
          1,
          1,
          1,
          2,
          1,
          1,
          1,
          2,
          1,
          1,
          4,
          1,
          2,
          1,
          3,
          1,
          3,
          1,
          16,
          15,
          28,
          8,
          1,
          4
         ]
        }
       ],
       "layout": {
        "coloraxis": {
         "colorbar": {
          "title": {
           "text": "Count"
          }
         },
         "colorscale": [
          [
           0,
           "rgb(255,245,240)"
          ],
          [
           0.125,
           "rgb(254,224,210)"
          ],
          [
           0.25,
           "rgb(252,187,161)"
          ],
          [
           0.375,
           "rgb(252,146,114)"
          ],
          [
           0.5,
           "rgb(251,106,74)"
          ],
          [
           0.625,
           "rgb(239,59,44)"
          ],
          [
           0.75,
           "rgb(203,24,29)"
          ],
          [
           0.875,
           "rgb(165,15,21)"
          ],
          [
           1,
           "rgb(103,0,13)"
          ]
         ]
        },
        "legend": {
         "tracegroupgap": 0
        },
        "template": {
         "data": {
          "bar": [
           {
            "error_x": {
             "color": "#2a3f5f"
            },
            "error_y": {
             "color": "#2a3f5f"
            },
            "marker": {
             "line": {
              "color": "#E5ECF6",
              "width": 0.5
             },
             "pattern": {
              "fillmode": "overlay",
              "size": 10,
              "solidity": 0.2
             }
            },
            "type": "bar"
           }
          ],
          "barpolar": [
           {
            "marker": {
             "line": {
              "color": "#E5ECF6",
              "width": 0.5
             },
             "pattern": {
              "fillmode": "overlay",
              "size": 10,
              "solidity": 0.2
             }
            },
            "type": "barpolar"
           }
          ],
          "carpet": [
           {
            "aaxis": {
             "endlinecolor": "#2a3f5f",
             "gridcolor": "white",
             "linecolor": "white",
             "minorgridcolor": "white",
             "startlinecolor": "#2a3f5f"
            },
            "baxis": {
             "endlinecolor": "#2a3f5f",
             "gridcolor": "white",
             "linecolor": "white",
             "minorgridcolor": "white",
             "startlinecolor": "#2a3f5f"
            },
            "type": "carpet"
           }
          ],
          "choropleth": [
           {
            "colorbar": {
             "outlinewidth": 0,
             "ticks": ""
            },
            "type": "choropleth"
           }
          ],
          "contour": [
           {
            "colorbar": {
             "outlinewidth": 0,
             "ticks": ""
            },
            "colorscale": [
             [
              0,
              "#0d0887"
             ],
             [
              0.1111111111111111,
              "#46039f"
             ],
             [
              0.2222222222222222,
              "#7201a8"
             ],
             [
              0.3333333333333333,
              "#9c179e"
             ],
             [
              0.4444444444444444,
              "#bd3786"
             ],
             [
              0.5555555555555556,
              "#d8576b"
             ],
             [
              0.6666666666666666,
              "#ed7953"
             ],
             [
              0.7777777777777778,
              "#fb9f3a"
             ],
             [
              0.8888888888888888,
              "#fdca26"
             ],
             [
              1,
              "#f0f921"
             ]
            ],
            "type": "contour"
           }
          ],
          "contourcarpet": [
           {
            "colorbar": {
             "outlinewidth": 0,
             "ticks": ""
            },
            "type": "contourcarpet"
           }
          ],
          "heatmap": [
           {
            "colorbar": {
             "outlinewidth": 0,
             "ticks": ""
            },
            "colorscale": [
             [
              0,
              "#0d0887"
             ],
             [
              0.1111111111111111,
              "#46039f"
             ],
             [
              0.2222222222222222,
              "#7201a8"
             ],
             [
              0.3333333333333333,
              "#9c179e"
             ],
             [
              0.4444444444444444,
              "#bd3786"
             ],
             [
              0.5555555555555556,
              "#d8576b"
             ],
             [
              0.6666666666666666,
              "#ed7953"
             ],
             [
              0.7777777777777778,
              "#fb9f3a"
             ],
             [
              0.8888888888888888,
              "#fdca26"
             ],
             [
              1,
              "#f0f921"
             ]
            ],
            "type": "heatmap"
           }
          ],
          "heatmapgl": [
           {
            "colorbar": {
             "outlinewidth": 0,
             "ticks": ""
            },
            "colorscale": [
             [
              0,
              "#0d0887"
             ],
             [
              0.1111111111111111,
              "#46039f"
             ],
             [
              0.2222222222222222,
              "#7201a8"
             ],
             [
              0.3333333333333333,
              "#9c179e"
             ],
             [
              0.4444444444444444,
              "#bd3786"
             ],
             [
              0.5555555555555556,
              "#d8576b"
             ],
             [
              0.6666666666666666,
              "#ed7953"
             ],
             [
              0.7777777777777778,
              "#fb9f3a"
             ],
             [
              0.8888888888888888,
              "#fdca26"
             ],
             [
              1,
              "#f0f921"
             ]
            ],
            "type": "heatmapgl"
           }
          ],
          "histogram": [
           {
            "marker": {
             "pattern": {
              "fillmode": "overlay",
              "size": 10,
              "solidity": 0.2
             }
            },
            "type": "histogram"
           }
          ],
          "histogram2d": [
           {
            "colorbar": {
             "outlinewidth": 0,
             "ticks": ""
            },
            "colorscale": [
             [
              0,
              "#0d0887"
             ],
             [
              0.1111111111111111,
              "#46039f"
             ],
             [
              0.2222222222222222,
              "#7201a8"
             ],
             [
              0.3333333333333333,
              "#9c179e"
             ],
             [
              0.4444444444444444,
              "#bd3786"
             ],
             [
              0.5555555555555556,
              "#d8576b"
             ],
             [
              0.6666666666666666,
              "#ed7953"
             ],
             [
              0.7777777777777778,
              "#fb9f3a"
             ],
             [
              0.8888888888888888,
              "#fdca26"
             ],
             [
              1,
              "#f0f921"
             ]
            ],
            "type": "histogram2d"
           }
          ],
          "histogram2dcontour": [
           {
            "colorbar": {
             "outlinewidth": 0,
             "ticks": ""
            },
            "colorscale": [
             [
              0,
              "#0d0887"
             ],
             [
              0.1111111111111111,
              "#46039f"
             ],
             [
              0.2222222222222222,
              "#7201a8"
             ],
             [
              0.3333333333333333,
              "#9c179e"
             ],
             [
              0.4444444444444444,
              "#bd3786"
             ],
             [
              0.5555555555555556,
              "#d8576b"
             ],
             [
              0.6666666666666666,
              "#ed7953"
             ],
             [
              0.7777777777777778,
              "#fb9f3a"
             ],
             [
              0.8888888888888888,
              "#fdca26"
             ],
             [
              1,
              "#f0f921"
             ]
            ],
            "type": "histogram2dcontour"
           }
          ],
          "mesh3d": [
           {
            "colorbar": {
             "outlinewidth": 0,
             "ticks": ""
            },
            "type": "mesh3d"
           }
          ],
          "parcoords": [
           {
            "line": {
             "colorbar": {
              "outlinewidth": 0,
              "ticks": ""
             }
            },
            "type": "parcoords"
           }
          ],
          "pie": [
           {
            "automargin": true,
            "type": "pie"
           }
          ],
          "scatter": [
           {
            "marker": {
             "colorbar": {
              "outlinewidth": 0,
              "ticks": ""
             }
            },
            "type": "scatter"
           }
          ],
          "scatter3d": [
           {
            "line": {
             "colorbar": {
              "outlinewidth": 0,
              "ticks": ""
             }
            },
            "marker": {
             "colorbar": {
              "outlinewidth": 0,
              "ticks": ""
             }
            },
            "type": "scatter3d"
           }
          ],
          "scattercarpet": [
           {
            "marker": {
             "colorbar": {
              "outlinewidth": 0,
              "ticks": ""
             }
            },
            "type": "scattercarpet"
           }
          ],
          "scattergeo": [
           {
            "marker": {
             "colorbar": {
              "outlinewidth": 0,
              "ticks": ""
             }
            },
            "type": "scattergeo"
           }
          ],
          "scattergl": [
           {
            "marker": {
             "colorbar": {
              "outlinewidth": 0,
              "ticks": ""
             }
            },
            "type": "scattergl"
           }
          ],
          "scattermapbox": [
           {
            "marker": {
             "colorbar": {
              "outlinewidth": 0,
              "ticks": ""
             }
            },
            "type": "scattermapbox"
           }
          ],
          "scatterpolar": [
           {
            "marker": {
             "colorbar": {
              "outlinewidth": 0,
              "ticks": ""
             }
            },
            "type": "scatterpolar"
           }
          ],
          "scatterpolargl": [
           {
            "marker": {
             "colorbar": {
              "outlinewidth": 0,
              "ticks": ""
             }
            },
            "type": "scatterpolargl"
           }
          ],
          "scatterternary": [
           {
            "marker": {
             "colorbar": {
              "outlinewidth": 0,
              "ticks": ""
             }
            },
            "type": "scatterternary"
           }
          ],
          "surface": [
           {
            "colorbar": {
             "outlinewidth": 0,
             "ticks": ""
            },
            "colorscale": [
             [
              0,
              "#0d0887"
             ],
             [
              0.1111111111111111,
              "#46039f"
             ],
             [
              0.2222222222222222,
              "#7201a8"
             ],
             [
              0.3333333333333333,
              "#9c179e"
             ],
             [
              0.4444444444444444,
              "#bd3786"
             ],
             [
              0.5555555555555556,
              "#d8576b"
             ],
             [
              0.6666666666666666,
              "#ed7953"
             ],
             [
              0.7777777777777778,
              "#fb9f3a"
             ],
             [
              0.8888888888888888,
              "#fdca26"
             ],
             [
              1,
              "#f0f921"
             ]
            ],
            "type": "surface"
           }
          ],
          "table": [
           {
            "cells": {
             "fill": {
              "color": "#EBF0F8"
             },
             "line": {
              "color": "white"
             }
            },
            "header": {
             "fill": {
              "color": "#C8D4E3"
             },
             "line": {
              "color": "white"
             }
            },
            "type": "table"
           }
          ]
         },
         "layout": {
          "annotationdefaults": {
           "arrowcolor": "#2a3f5f",
           "arrowhead": 0,
           "arrowwidth": 1
          },
          "autotypenumbers": "strict",
          "coloraxis": {
           "colorbar": {
            "outlinewidth": 0,
            "ticks": ""
           }
          },
          "colorscale": {
           "diverging": [
            [
             0,
             "#8e0152"
            ],
            [
             0.1,
             "#c51b7d"
            ],
            [
             0.2,
             "#de77ae"
            ],
            [
             0.3,
             "#f1b6da"
            ],
            [
             0.4,
             "#fde0ef"
            ],
            [
             0.5,
             "#f7f7f7"
            ],
            [
             0.6,
             "#e6f5d0"
            ],
            [
             0.7,
             "#b8e186"
            ],
            [
             0.8,
             "#7fbc41"
            ],
            [
             0.9,
             "#4d9221"
            ],
            [
             1,
             "#276419"
            ]
           ],
           "sequential": [
            [
             0,
             "#0d0887"
            ],
            [
             0.1111111111111111,
             "#46039f"
            ],
            [
             0.2222222222222222,
             "#7201a8"
            ],
            [
             0.3333333333333333,
             "#9c179e"
            ],
            [
             0.4444444444444444,
             "#bd3786"
            ],
            [
             0.5555555555555556,
             "#d8576b"
            ],
            [
             0.6666666666666666,
             "#ed7953"
            ],
            [
             0.7777777777777778,
             "#fb9f3a"
            ],
            [
             0.8888888888888888,
             "#fdca26"
            ],
            [
             1,
             "#f0f921"
            ]
           ],
           "sequentialminus": [
            [
             0,
             "#0d0887"
            ],
            [
             0.1111111111111111,
             "#46039f"
            ],
            [
             0.2222222222222222,
             "#7201a8"
            ],
            [
             0.3333333333333333,
             "#9c179e"
            ],
            [
             0.4444444444444444,
             "#bd3786"
            ],
            [
             0.5555555555555556,
             "#d8576b"
            ],
            [
             0.6666666666666666,
             "#ed7953"
            ],
            [
             0.7777777777777778,
             "#fb9f3a"
            ],
            [
             0.8888888888888888,
             "#fdca26"
            ],
            [
             1,
             "#f0f921"
            ]
           ]
          },
          "colorway": [
           "#636efa",
           "#EF553B",
           "#00cc96",
           "#ab63fa",
           "#FFA15A",
           "#19d3f3",
           "#FF6692",
           "#B6E880",
           "#FF97FF",
           "#FECB52"
          ],
          "font": {
           "color": "#2a3f5f"
          },
          "geo": {
           "bgcolor": "white",
           "lakecolor": "white",
           "landcolor": "#E5ECF6",
           "showlakes": true,
           "showland": true,
           "subunitcolor": "white"
          },
          "hoverlabel": {
           "align": "left"
          },
          "hovermode": "closest",
          "mapbox": {
           "style": "light"
          },
          "paper_bgcolor": "white",
          "plot_bgcolor": "#E5ECF6",
          "polar": {
           "angularaxis": {
            "gridcolor": "white",
            "linecolor": "white",
            "ticks": ""
           },
           "bgcolor": "#E5ECF6",
           "radialaxis": {
            "gridcolor": "white",
            "linecolor": "white",
            "ticks": ""
           }
          },
          "scene": {
           "xaxis": {
            "backgroundcolor": "#E5ECF6",
            "gridcolor": "white",
            "gridwidth": 2,
            "linecolor": "white",
            "showbackground": true,
            "ticks": "",
            "zerolinecolor": "white"
           },
           "yaxis": {
            "backgroundcolor": "#E5ECF6",
            "gridcolor": "white",
            "gridwidth": 2,
            "linecolor": "white",
            "showbackground": true,
            "ticks": "",
            "zerolinecolor": "white"
           },
           "zaxis": {
            "backgroundcolor": "#E5ECF6",
            "gridcolor": "white",
            "gridwidth": 2,
            "linecolor": "white",
            "showbackground": true,
            "ticks": "",
            "zerolinecolor": "white"
           }
          },
          "shapedefaults": {
           "line": {
            "color": "#2a3f5f"
           }
          },
          "ternary": {
           "aaxis": {
            "gridcolor": "white",
            "linecolor": "white",
            "ticks": ""
           },
           "baxis": {
            "gridcolor": "white",
            "linecolor": "white",
            "ticks": ""
           },
           "bgcolor": "#E5ECF6",
           "caxis": {
            "gridcolor": "white",
            "linecolor": "white",
            "ticks": ""
           }
          },
          "title": {
           "x": 0.05
          },
          "xaxis": {
           "automargin": true,
           "gridcolor": "white",
           "linecolor": "white",
           "ticks": "",
           "title": {
            "standoff": 15
           },
           "zerolinecolor": "white",
           "zerolinewidth": 2
          },
          "yaxis": {
           "automargin": true,
           "gridcolor": "white",
           "linecolor": "white",
           "ticks": "",
           "title": {
            "standoff": 15
           },
           "zerolinecolor": "white",
           "zerolinewidth": 2
          }
         }
        },
        "title": {
         "text": "Sunburst Plot of IGO Organization Count by Country (COP2019)"
        }
       }
      },
      "text/html": [
       "<div>                            <div id=\"90a29c0a-678d-419e-ab0e-fa00983adcbe\" class=\"plotly-graph-div\" style=\"height:525px; width:100%;\"></div>            <script type=\"text/javascript\">                require([\"plotly\"], function(Plotly) {                    window.PLOTLYENV=window.PLOTLYENV || {};                                    if (document.getElementById(\"90a29c0a-678d-419e-ab0e-fa00983adcbe\")) {                    Plotly.newPlot(                        \"90a29c0a-678d-419e-ab0e-fa00983adcbe\",                        [{\"branchvalues\":\"total\",\"customdata\":[[\"AUT\",1.0],[\"BEL\",1.0],[\"BLZ\",1.0],[\"BOL\",1.0],[\"BFA\",2.0],[\"CAN\",1.0],[\"CHN\",1.0],[\"CRI\",1.0],[\"CIV\",1.0],[\"DNK\",1.0],[\"EGY\",2.0],[\"SLV\",1.0],[\"ETH\",1.0],[\"FJI\",1.0],[\"FIN\",4.0],[\"FRA\",9.0],[\"GAB\",1.0],[\"GUY\",1.0],[\"HND\",1.0],[\"IND\",1.0],[\"IDN\",1.0],[\"JPN\",1.0],[\"KEN\",2.0],[\"KWT\",1.0],[\"LBN\",1.0],[\"LUX\",1.0],[\"MLT\",1.0],[\"MRT\",1.0],[\"MAR\",1.0],[\"NPL\",1.0],[\"NER\",1.0],[\"NGA\",1.0],[\"PER\",1.0],[\"PHL\",2.0],[\"QAT\",1.0],[\"KOR\",1.0],[\"SAU\",1.0],[\"ESP\",2.0],[\"LKA\",1.0],[\"SWE\",1.0],[\"CHE\",4.0],[\"THA\",1.0],[\"TUN\",2.0],[\"ARE\",1.0],[\"GBR\",3.0],[\"TZA\",1.0],[\"USA\",3.0],[\"VEN\",1.0],[\"(?)\",1.5],[\"(?)\",1.1333333333333333],[\"(?)\",4.714285714285714],[\"(?)\",1.75],[\"FJI\",1.0],[\"(?)\",1.0]],\"domain\":{\"x\":[0.0,1.0],\"y\":[0.0,1.0]},\"hovertemplate\":\"labels=%{label}<br>Count_sum=%{value}<br>parent=%{parent}<br>id=%{id}<br>ISO3=%{customdata[0]}<br>Count=%{color}<extra></extra>\",\"ids\":[\"Europe/Austria\",\"Europe/Belgium\",\"North America/Belize\",\"South America/Bolivia (Plurinational State of)\",\"Africa/Burkina Faso\",\"North America/Canada\",\"Asia/China\",\"North America/Costa Rica\",\"Africa/C\\u00f4te d'Ivoire\",\"Europe/Denmark\",\"Africa/Egypt\",\"North America/El Salvador\",\"Africa/Ethiopia\",\"Oceania/Fiji\",\"Europe/Finland\",\"Europe/France\",\"Africa/Gabon\",\"South America/Guyana\",\"North America/Honduras\",\"Asia/India\",\"Asia/Indonesia\",\"Asia/Japan\",\"Africa/Kenya\",\"Asia/Kuwait\",\"Asia/Lebanon\",\"Europe/Luxembourg\",\"Europe/Malta\",\"Africa/Mauritania\",\"Africa/Morocco\",\"Asia/Nepal\",\"Africa/Niger\",\"Africa/Nigeria\",\"South America/Peru\",\"Asia/Philippines\",\"Asia/Qatar\",\"Asia/Republic of Korea\",\"Asia/Saudi Arabia\",\"Europe/Spain\",\"Asia/Sri Lanka\",\"Europe/Sweden\",\"Europe/Switzerland\",\"Asia/Thailand\",\"Africa/Tunisia\",\"Asia/United Arab Emirates\",\"Europe/United Kingdom of Great Britain and Northern Ireland\",\"Africa/United Republic of Tanzania\",\"North America/United States of America\",\"South America/Venezuela (Bolivarian Republic of)\",\"Africa\",\"Asia\",\"Europe\",\"North America\",\"Oceania\",\"South America\"],\"labels\":[\"Austria\",\"Belgium\",\"Belize\",\"Bolivia (Plurinational State of)\",\"Burkina Faso\",\"Canada\",\"China\",\"Costa Rica\",\"C\\u00f4te d'Ivoire\",\"Denmark\",\"Egypt\",\"El Salvador\",\"Ethiopia\",\"Fiji\",\"Finland\",\"France\",\"Gabon\",\"Guyana\",\"Honduras\",\"India\",\"Indonesia\",\"Japan\",\"Kenya\",\"Kuwait\",\"Lebanon\",\"Luxembourg\",\"Malta\",\"Mauritania\",\"Morocco\",\"Nepal\",\"Niger\",\"Nigeria\",\"Peru\",\"Philippines\",\"Qatar\",\"Republic of Korea\",\"Saudi Arabia\",\"Spain\",\"Sri Lanka\",\"Sweden\",\"Switzerland\",\"Thailand\",\"Tunisia\",\"United Arab Emirates\",\"United Kingdom of Great Britain and Northern Ireland\",\"United Republic of Tanzania\",\"United States of America\",\"Venezuela (Bolivarian Republic of)\",\"Africa\",\"Asia\",\"Europe\",\"North America\",\"Oceania\",\"South America\"],\"marker\":{\"coloraxis\":\"coloraxis\",\"colors\":[1.0,1.0,1.0,1.0,2.0,1.0,1.0,1.0,1.0,1.0,2.0,1.0,1.0,1.0,4.0,9.0,1.0,1.0,1.0,1.0,1.0,1.0,2.0,1.0,1.0,1.0,1.0,1.0,1.0,1.0,1.0,1.0,1.0,2.0,1.0,1.0,1.0,2.0,1.0,1.0,4.0,1.0,2.0,1.0,3.0,1.0,3.0,1.0,1.5,1.1333333333333333,4.714285714285714,1.75,1.0,1.0]},\"name\":\"\",\"parents\":[\"Europe\",\"Europe\",\"North America\",\"South America\",\"Africa\",\"North America\",\"Asia\",\"North America\",\"Africa\",\"Europe\",\"Africa\",\"North America\",\"Africa\",\"Oceania\",\"Europe\",\"Europe\",\"Africa\",\"South America\",\"North America\",\"Asia\",\"Asia\",\"Asia\",\"Africa\",\"Asia\",\"Asia\",\"Europe\",\"Europe\",\"Africa\",\"Africa\",\"Asia\",\"Africa\",\"Africa\",\"South America\",\"Asia\",\"Asia\",\"Asia\",\"Asia\",\"Europe\",\"Asia\",\"Europe\",\"Europe\",\"Asia\",\"Africa\",\"Asia\",\"Europe\",\"Africa\",\"North America\",\"South America\",\"\",\"\",\"\",\"\",\"\",\"\"],\"type\":\"sunburst\",\"values\":[1,1,1,1,2,1,1,1,1,1,2,1,1,1,4,9,1,1,1,1,1,1,2,1,1,1,1,1,1,1,1,1,1,2,1,1,1,2,1,1,4,1,2,1,3,1,3,1,16,15,28,8,1,4]}],                        {\"coloraxis\":{\"colorbar\":{\"title\":{\"text\":\"Count\"}},\"colorscale\":[[0.0,\"rgb(255,245,240)\"],[0.125,\"rgb(254,224,210)\"],[0.25,\"rgb(252,187,161)\"],[0.375,\"rgb(252,146,114)\"],[0.5,\"rgb(251,106,74)\"],[0.625,\"rgb(239,59,44)\"],[0.75,\"rgb(203,24,29)\"],[0.875,\"rgb(165,15,21)\"],[1.0,\"rgb(103,0,13)\"]]},\"legend\":{\"tracegroupgap\":0},\"template\":{\"data\":{\"bar\":[{\"error_x\":{\"color\":\"#2a3f5f\"},\"error_y\":{\"color\":\"#2a3f5f\"},\"marker\":{\"line\":{\"color\":\"#E5ECF6\",\"width\":0.5},\"pattern\":{\"fillmode\":\"overlay\",\"size\":10,\"solidity\":0.2}},\"type\":\"bar\"}],\"barpolar\":[{\"marker\":{\"line\":{\"color\":\"#E5ECF6\",\"width\":0.5},\"pattern\":{\"fillmode\":\"overlay\",\"size\":10,\"solidity\":0.2}},\"type\":\"barpolar\"}],\"carpet\":[{\"aaxis\":{\"endlinecolor\":\"#2a3f5f\",\"gridcolor\":\"white\",\"linecolor\":\"white\",\"minorgridcolor\":\"white\",\"startlinecolor\":\"#2a3f5f\"},\"baxis\":{\"endlinecolor\":\"#2a3f5f\",\"gridcolor\":\"white\",\"linecolor\":\"white\",\"minorgridcolor\":\"white\",\"startlinecolor\":\"#2a3f5f\"},\"type\":\"carpet\"}],\"choropleth\":[{\"colorbar\":{\"outlinewidth\":0,\"ticks\":\"\"},\"type\":\"choropleth\"}],\"contour\":[{\"colorbar\":{\"outlinewidth\":0,\"ticks\":\"\"},\"colorscale\":[[0.0,\"#0d0887\"],[0.1111111111111111,\"#46039f\"],[0.2222222222222222,\"#7201a8\"],[0.3333333333333333,\"#9c179e\"],[0.4444444444444444,\"#bd3786\"],[0.5555555555555556,\"#d8576b\"],[0.6666666666666666,\"#ed7953\"],[0.7777777777777778,\"#fb9f3a\"],[0.8888888888888888,\"#fdca26\"],[1.0,\"#f0f921\"]],\"type\":\"contour\"}],\"contourcarpet\":[{\"colorbar\":{\"outlinewidth\":0,\"ticks\":\"\"},\"type\":\"contourcarpet\"}],\"heatmap\":[{\"colorbar\":{\"outlinewidth\":0,\"ticks\":\"\"},\"colorscale\":[[0.0,\"#0d0887\"],[0.1111111111111111,\"#46039f\"],[0.2222222222222222,\"#7201a8\"],[0.3333333333333333,\"#9c179e\"],[0.4444444444444444,\"#bd3786\"],[0.5555555555555556,\"#d8576b\"],[0.6666666666666666,\"#ed7953\"],[0.7777777777777778,\"#fb9f3a\"],[0.8888888888888888,\"#fdca26\"],[1.0,\"#f0f921\"]],\"type\":\"heatmap\"}],\"heatmapgl\":[{\"colorbar\":{\"outlinewidth\":0,\"ticks\":\"\"},\"colorscale\":[[0.0,\"#0d0887\"],[0.1111111111111111,\"#46039f\"],[0.2222222222222222,\"#7201a8\"],[0.3333333333333333,\"#9c179e\"],[0.4444444444444444,\"#bd3786\"],[0.5555555555555556,\"#d8576b\"],[0.6666666666666666,\"#ed7953\"],[0.7777777777777778,\"#fb9f3a\"],[0.8888888888888888,\"#fdca26\"],[1.0,\"#f0f921\"]],\"type\":\"heatmapgl\"}],\"histogram\":[{\"marker\":{\"pattern\":{\"fillmode\":\"overlay\",\"size\":10,\"solidity\":0.2}},\"type\":\"histogram\"}],\"histogram2d\":[{\"colorbar\":{\"outlinewidth\":0,\"ticks\":\"\"},\"colorscale\":[[0.0,\"#0d0887\"],[0.1111111111111111,\"#46039f\"],[0.2222222222222222,\"#7201a8\"],[0.3333333333333333,\"#9c179e\"],[0.4444444444444444,\"#bd3786\"],[0.5555555555555556,\"#d8576b\"],[0.6666666666666666,\"#ed7953\"],[0.7777777777777778,\"#fb9f3a\"],[0.8888888888888888,\"#fdca26\"],[1.0,\"#f0f921\"]],\"type\":\"histogram2d\"}],\"histogram2dcontour\":[{\"colorbar\":{\"outlinewidth\":0,\"ticks\":\"\"},\"colorscale\":[[0.0,\"#0d0887\"],[0.1111111111111111,\"#46039f\"],[0.2222222222222222,\"#7201a8\"],[0.3333333333333333,\"#9c179e\"],[0.4444444444444444,\"#bd3786\"],[0.5555555555555556,\"#d8576b\"],[0.6666666666666666,\"#ed7953\"],[0.7777777777777778,\"#fb9f3a\"],[0.8888888888888888,\"#fdca26\"],[1.0,\"#f0f921\"]],\"type\":\"histogram2dcontour\"}],\"mesh3d\":[{\"colorbar\":{\"outlinewidth\":0,\"ticks\":\"\"},\"type\":\"mesh3d\"}],\"parcoords\":[{\"line\":{\"colorbar\":{\"outlinewidth\":0,\"ticks\":\"\"}},\"type\":\"parcoords\"}],\"pie\":[{\"automargin\":true,\"type\":\"pie\"}],\"scatter\":[{\"marker\":{\"colorbar\":{\"outlinewidth\":0,\"ticks\":\"\"}},\"type\":\"scatter\"}],\"scatter3d\":[{\"line\":{\"colorbar\":{\"outlinewidth\":0,\"ticks\":\"\"}},\"marker\":{\"colorbar\":{\"outlinewidth\":0,\"ticks\":\"\"}},\"type\":\"scatter3d\"}],\"scattercarpet\":[{\"marker\":{\"colorbar\":{\"outlinewidth\":0,\"ticks\":\"\"}},\"type\":\"scattercarpet\"}],\"scattergeo\":[{\"marker\":{\"colorbar\":{\"outlinewidth\":0,\"ticks\":\"\"}},\"type\":\"scattergeo\"}],\"scattergl\":[{\"marker\":{\"colorbar\":{\"outlinewidth\":0,\"ticks\":\"\"}},\"type\":\"scattergl\"}],\"scattermapbox\":[{\"marker\":{\"colorbar\":{\"outlinewidth\":0,\"ticks\":\"\"}},\"type\":\"scattermapbox\"}],\"scatterpolar\":[{\"marker\":{\"colorbar\":{\"outlinewidth\":0,\"ticks\":\"\"}},\"type\":\"scatterpolar\"}],\"scatterpolargl\":[{\"marker\":{\"colorbar\":{\"outlinewidth\":0,\"ticks\":\"\"}},\"type\":\"scatterpolargl\"}],\"scatterternary\":[{\"marker\":{\"colorbar\":{\"outlinewidth\":0,\"ticks\":\"\"}},\"type\":\"scatterternary\"}],\"surface\":[{\"colorbar\":{\"outlinewidth\":0,\"ticks\":\"\"},\"colorscale\":[[0.0,\"#0d0887\"],[0.1111111111111111,\"#46039f\"],[0.2222222222222222,\"#7201a8\"],[0.3333333333333333,\"#9c179e\"],[0.4444444444444444,\"#bd3786\"],[0.5555555555555556,\"#d8576b\"],[0.6666666666666666,\"#ed7953\"],[0.7777777777777778,\"#fb9f3a\"],[0.8888888888888888,\"#fdca26\"],[1.0,\"#f0f921\"]],\"type\":\"surface\"}],\"table\":[{\"cells\":{\"fill\":{\"color\":\"#EBF0F8\"},\"line\":{\"color\":\"white\"}},\"header\":{\"fill\":{\"color\":\"#C8D4E3\"},\"line\":{\"color\":\"white\"}},\"type\":\"table\"}]},\"layout\":{\"annotationdefaults\":{\"arrowcolor\":\"#2a3f5f\",\"arrowhead\":0,\"arrowwidth\":1},\"autotypenumbers\":\"strict\",\"coloraxis\":{\"colorbar\":{\"outlinewidth\":0,\"ticks\":\"\"}},\"colorscale\":{\"diverging\":[[0,\"#8e0152\"],[0.1,\"#c51b7d\"],[0.2,\"#de77ae\"],[0.3,\"#f1b6da\"],[0.4,\"#fde0ef\"],[0.5,\"#f7f7f7\"],[0.6,\"#e6f5d0\"],[0.7,\"#b8e186\"],[0.8,\"#7fbc41\"],[0.9,\"#4d9221\"],[1,\"#276419\"]],\"sequential\":[[0.0,\"#0d0887\"],[0.1111111111111111,\"#46039f\"],[0.2222222222222222,\"#7201a8\"],[0.3333333333333333,\"#9c179e\"],[0.4444444444444444,\"#bd3786\"],[0.5555555555555556,\"#d8576b\"],[0.6666666666666666,\"#ed7953\"],[0.7777777777777778,\"#fb9f3a\"],[0.8888888888888888,\"#fdca26\"],[1.0,\"#f0f921\"]],\"sequentialminus\":[[0.0,\"#0d0887\"],[0.1111111111111111,\"#46039f\"],[0.2222222222222222,\"#7201a8\"],[0.3333333333333333,\"#9c179e\"],[0.4444444444444444,\"#bd3786\"],[0.5555555555555556,\"#d8576b\"],[0.6666666666666666,\"#ed7953\"],[0.7777777777777778,\"#fb9f3a\"],[0.8888888888888888,\"#fdca26\"],[1.0,\"#f0f921\"]]},\"colorway\":[\"#636efa\",\"#EF553B\",\"#00cc96\",\"#ab63fa\",\"#FFA15A\",\"#19d3f3\",\"#FF6692\",\"#B6E880\",\"#FF97FF\",\"#FECB52\"],\"font\":{\"color\":\"#2a3f5f\"},\"geo\":{\"bgcolor\":\"white\",\"lakecolor\":\"white\",\"landcolor\":\"#E5ECF6\",\"showlakes\":true,\"showland\":true,\"subunitcolor\":\"white\"},\"hoverlabel\":{\"align\":\"left\"},\"hovermode\":\"closest\",\"mapbox\":{\"style\":\"light\"},\"paper_bgcolor\":\"white\",\"plot_bgcolor\":\"#E5ECF6\",\"polar\":{\"angularaxis\":{\"gridcolor\":\"white\",\"linecolor\":\"white\",\"ticks\":\"\"},\"bgcolor\":\"#E5ECF6\",\"radialaxis\":{\"gridcolor\":\"white\",\"linecolor\":\"white\",\"ticks\":\"\"}},\"scene\":{\"xaxis\":{\"backgroundcolor\":\"#E5ECF6\",\"gridcolor\":\"white\",\"gridwidth\":2,\"linecolor\":\"white\",\"showbackground\":true,\"ticks\":\"\",\"zerolinecolor\":\"white\"},\"yaxis\":{\"backgroundcolor\":\"#E5ECF6\",\"gridcolor\":\"white\",\"gridwidth\":2,\"linecolor\":\"white\",\"showbackground\":true,\"ticks\":\"\",\"zerolinecolor\":\"white\"},\"zaxis\":{\"backgroundcolor\":\"#E5ECF6\",\"gridcolor\":\"white\",\"gridwidth\":2,\"linecolor\":\"white\",\"showbackground\":true,\"ticks\":\"\",\"zerolinecolor\":\"white\"}},\"shapedefaults\":{\"line\":{\"color\":\"#2a3f5f\"}},\"ternary\":{\"aaxis\":{\"gridcolor\":\"white\",\"linecolor\":\"white\",\"ticks\":\"\"},\"baxis\":{\"gridcolor\":\"white\",\"linecolor\":\"white\",\"ticks\":\"\"},\"bgcolor\":\"#E5ECF6\",\"caxis\":{\"gridcolor\":\"white\",\"linecolor\":\"white\",\"ticks\":\"\"}},\"title\":{\"x\":0.05},\"xaxis\":{\"automargin\":true,\"gridcolor\":\"white\",\"linecolor\":\"white\",\"ticks\":\"\",\"title\":{\"standoff\":15},\"zerolinecolor\":\"white\",\"zerolinewidth\":2},\"yaxis\":{\"automargin\":true,\"gridcolor\":\"white\",\"linecolor\":\"white\",\"ticks\":\"\",\"title\":{\"standoff\":15},\"zerolinecolor\":\"white\",\"zerolinewidth\":2}}},\"title\":{\"text\":\"Sunburst Plot of IGO Organization Count by Country (COP2019)\"}},                        {\"responsive\": true}                    ).then(function(){\n",
       "                            \n",
       "var gd = document.getElementById('90a29c0a-678d-419e-ab0e-fa00983adcbe');\n",
       "var x = new MutationObserver(function (mutations, observer) {{\n",
       "        var display = window.getComputedStyle(gd).display;\n",
       "        if (!display || display === 'none') {{\n",
       "            console.log([gd, 'removed!']);\n",
       "            Plotly.purge(gd);\n",
       "            observer.disconnect();\n",
       "        }}\n",
       "}});\n",
       "\n",
       "// Listen for the removal of the full notebook cells\n",
       "var notebookContainer = gd.closest('#notebook-container');\n",
       "if (notebookContainer) {{\n",
       "    x.observe(notebookContainer, {childList: true});\n",
       "}}\n",
       "\n",
       "// Listen for the clearing of the current output cell\n",
       "var outputEl = gd.closest('.output');\n",
       "if (outputEl) {{\n",
       "    x.observe(outputEl, {childList: true});\n",
       "}}\n",
       "\n",
       "                        })                };                });            </script>        </div>"
      ]
     },
     "metadata": {},
     "output_type": "display_data"
    }
   ],
   "source": [
    "fig = px.sunburst(IGO_country_stats, path=['Continent', 'Country'], values='Count',\n",
    "                  color='Count', hover_data=['ISO3'],\n",
    "                  color_continuous_scale='reds',\n",
    "                  title = \"Sunburst Plot of IGO Organization Count by Country (COP2019)\")\n",
    "fig.write_html(\"sunburst_IGOs_1.html\")\n",
    "fig.show()"
   ]
  },
  {
   "cell_type": "code",
   "execution_count": 105,
   "metadata": {},
   "outputs": [
    {
     "data": {
      "application/vnd.plotly.v1+json": {
       "config": {
        "plotlyServerURL": "https://plot.ly"
       },
       "data": [
        {
         "branchvalues": "total",
         "customdata": [
          [
           "ARG",
           7
          ],
          [
           "ARM",
           1
          ],
          [
           "AUS",
           21
          ],
          [
           "AUT",
           8
          ],
          [
           "BGD",
           11
          ],
          [
           "BEL",
           40
          ],
          [
           "BOL",
           2
          ],
          [
           "BRA",
           21
          ],
          [
           "CMR",
           2
          ],
          [
           "CAN",
           50
          ],
          [
           "TCD",
           1
          ],
          [
           "CHL",
           1
          ],
          [
           "CHN",
           43
          ],
          [
           "COL",
           4
          ],
          [
           "CRI",
           1
          ],
          [
           "CUB",
           1
          ],
          [
           "CZE",
           2
          ],
          [
           "CIV",
           1
          ],
          [
           "COD",
           1
          ],
          [
           "DNK",
           18
          ],
          [
           "DOM",
           1
          ],
          [
           "ECU",
           4
          ],
          [
           "SLV",
           1
          ],
          [
           "FIN",
           3
          ],
          [
           "FRA",
           56
          ],
          [
           "DEU",
           76
          ],
          [
           "GHA",
           3
          ],
          [
           "GTM",
           3
          ],
          [
           "HND",
           1
          ],
          [
           "IND",
           21
          ],
          [
           "IRN",
           1
          ],
          [
           "IRL",
           2
          ],
          [
           "ISR",
           5
          ],
          [
           "ITA",
           19
          ],
          [
           "JPN",
           35
          ],
          [
           "KAZ",
           1
          ],
          [
           "KEN",
           8
          ],
          [
           "LBN",
           3
          ],
          [
           "LBY",
           1
          ],
          [
           "LUX",
           2
          ],
          [
           "MYS",
           5
          ],
          [
           "MEX",
           7
          ],
          [
           "MAR",
           11
          ],
          [
           "NPL",
           9
          ],
          [
           "NLD",
           22
          ],
          [
           "NZL",
           4
          ],
          [
           "NIC",
           2
          ],
          [
           "NGA",
           23
          ],
          [
           "NOR",
           10
          ],
          [
           "PAK",
           2
          ],
          [
           "PAN",
           4
          ],
          [
           "PER",
           20
          ],
          [
           "PHL",
           8
          ],
          [
           "POL",
           1
          ],
          [
           "KOR",
           8
          ],
          [
           "RUS",
           4
          ],
          [
           "SMR",
           1
          ],
          [
           "SAU",
           1
          ],
          [
           "SEN",
           1
          ],
          [
           "SGP",
           4
          ],
          [
           "ZAF",
           8
          ],
          [
           "ESP",
           22
          ],
          [
           "LKA",
           1
          ],
          [
           "SWE",
           13
          ],
          [
           "CHE",
           39
          ],
          [
           "THA",
           4
          ],
          [
           "TGO",
           2
          ],
          [
           "TUR",
           5
          ],
          [
           "UGA",
           1
          ],
          [
           "UKR",
           4
          ],
          [
           "GBR",
           83
          ],
          [
           "TZA",
           2
          ],
          [
           "USA",
           231
          ],
          [
           "URY",
           1
          ],
          [
           "(?)",
           101.0051413881748
          ],
          [
           "(?)",
           1.4
          ],
          [
           "(?)",
           12.912280701754385
          ],
          [
           "(?)",
           20.31081081081081
          ]
         ],
         "domain": {
          "x": [
           0,
           1
          ],
          "y": [
           0,
           1
          ]
         },
         "hovertemplate": "labels=%{label}<br>Count_sum=%{value}<br>parent=%{parent}<br>id=%{id}<br>ISO3=%{customdata[0]}<br>Count=%{color}<extra></extra>",
         "ids": [
          "Upper middle income/Argentina",
          "Upper middle income/Armenia",
          "High income/Australia",
          "High income/Austria",
          "Lower middle income/Bangladesh",
          "High income/Belgium",
          "Lower middle income/Bolivia (Plurinational State of)",
          "Upper middle income/Brazil",
          "Lower middle income/Cameroon",
          "High income/Canada",
          "Low income/Chad",
          "High income/Chile",
          "Upper middle income/China",
          "Upper middle income/Colombia",
          "Upper middle income/Costa Rica",
          "Upper middle income/Cuba",
          "High income/Czechia",
          "Lower middle income/Côte d'Ivoire",
          "Low income/Democratic Republic of the Congo",
          "High income/Denmark",
          "Upper middle income/Dominican Republic",
          "Upper middle income/Ecuador",
          "Lower middle income/El Salvador",
          "High income/Finland",
          "High income/France",
          "High income/Germany",
          "Lower middle income/Ghana",
          "Upper middle income/Guatemala",
          "Lower middle income/Honduras",
          "Lower middle income/India",
          "Lower middle income/Iran (Islamic Republic of)",
          "High income/Ireland",
          "High income/Israel",
          "High income/Italy",
          "High income/Japan",
          "Upper middle income/Kazakhstan",
          "Lower middle income/Kenya",
          "Upper middle income/Lebanon",
          "Upper middle income/Libya",
          "High income/Luxembourg",
          "Upper middle income/Malaysia",
          "Upper middle income/Mexico",
          "Lower middle income/Morocco",
          "Lower middle income/Nepal",
          "High income/Netherlands",
          "High income/New Zealand",
          "Lower middle income/Nicaragua",
          "Lower middle income/Nigeria",
          "High income/Norway",
          "Lower middle income/Pakistan",
          "Upper middle income/Panama",
          "Upper middle income/Peru",
          "Lower middle income/Philippines",
          "High income/Poland",
          "High income/Republic of Korea",
          "Upper middle income/Russian Federation",
          "High income/San Marino",
          "High income/Saudi Arabia",
          "Lower middle income/Senegal",
          "High income/Singapore",
          "Upper middle income/South Africa",
          "High income/Spain",
          "Lower middle income/Sri Lanka",
          "High income/Sweden",
          "High income/Switzerland",
          "Upper middle income/Thailand",
          "Low income/Togo",
          "Upper middle income/Turkey",
          "Low income/Uganda",
          "Lower middle income/Ukraine",
          "High income/United Kingdom of Great Britain and Northern Ireland",
          "Lower middle income/United Republic of Tanzania",
          "High income/United States of America",
          "High income/Uruguay",
          "High income",
          "Low income",
          "Lower middle income",
          "Upper middle income"
         ],
         "labels": [
          "Argentina",
          "Armenia",
          "Australia",
          "Austria",
          "Bangladesh",
          "Belgium",
          "Bolivia (Plurinational State of)",
          "Brazil",
          "Cameroon",
          "Canada",
          "Chad",
          "Chile",
          "China",
          "Colombia",
          "Costa Rica",
          "Cuba",
          "Czechia",
          "Côte d'Ivoire",
          "Democratic Republic of the Congo",
          "Denmark",
          "Dominican Republic",
          "Ecuador",
          "El Salvador",
          "Finland",
          "France",
          "Germany",
          "Ghana",
          "Guatemala",
          "Honduras",
          "India",
          "Iran (Islamic Republic of)",
          "Ireland",
          "Israel",
          "Italy",
          "Japan",
          "Kazakhstan",
          "Kenya",
          "Lebanon",
          "Libya",
          "Luxembourg",
          "Malaysia",
          "Mexico",
          "Morocco",
          "Nepal",
          "Netherlands",
          "New Zealand",
          "Nicaragua",
          "Nigeria",
          "Norway",
          "Pakistan",
          "Panama",
          "Peru",
          "Philippines",
          "Poland",
          "Republic of Korea",
          "Russian Federation",
          "San Marino",
          "Saudi Arabia",
          "Senegal",
          "Singapore",
          "South Africa",
          "Spain",
          "Sri Lanka",
          "Sweden",
          "Switzerland",
          "Thailand",
          "Togo",
          "Turkey",
          "Uganda",
          "Ukraine",
          "United Kingdom of Great Britain and Northern Ireland",
          "United Republic of Tanzania",
          "United States of America",
          "Uruguay",
          "High income",
          "Low income",
          "Lower middle income",
          "Upper middle income"
         ],
         "marker": {
          "coloraxis": "coloraxis",
          "colors": [
           7,
           1,
           21,
           8,
           11,
           40,
           2,
           21,
           2,
           50,
           1,
           1,
           43,
           4,
           1,
           1,
           2,
           1,
           1,
           18,
           1,
           4,
           1,
           3,
           56,
           76,
           3,
           3,
           1,
           21,
           1,
           2,
           5,
           19,
           35,
           1,
           8,
           3,
           1,
           2,
           5,
           7,
           11,
           9,
           22,
           4,
           2,
           23,
           10,
           2,
           4,
           20,
           8,
           1,
           8,
           4,
           1,
           1,
           1,
           4,
           8,
           22,
           1,
           13,
           39,
           4,
           2,
           5,
           1,
           4,
           83,
           2,
           231,
           1,
           101.0051413881748,
           1.4,
           12.912280701754385,
           20.31081081081081
          ]
         },
         "name": "",
         "parents": [
          "Upper middle income",
          "Upper middle income",
          "High income",
          "High income",
          "Lower middle income",
          "High income",
          "Lower middle income",
          "Upper middle income",
          "Lower middle income",
          "High income",
          "Low income",
          "High income",
          "Upper middle income",
          "Upper middle income",
          "Upper middle income",
          "Upper middle income",
          "High income",
          "Lower middle income",
          "Low income",
          "High income",
          "Upper middle income",
          "Upper middle income",
          "Lower middle income",
          "High income",
          "High income",
          "High income",
          "Lower middle income",
          "Upper middle income",
          "Lower middle income",
          "Lower middle income",
          "Lower middle income",
          "High income",
          "High income",
          "High income",
          "High income",
          "Upper middle income",
          "Lower middle income",
          "Upper middle income",
          "Upper middle income",
          "High income",
          "Upper middle income",
          "Upper middle income",
          "Lower middle income",
          "Lower middle income",
          "High income",
          "High income",
          "Lower middle income",
          "Lower middle income",
          "High income",
          "Lower middle income",
          "Upper middle income",
          "Upper middle income",
          "Lower middle income",
          "High income",
          "High income",
          "Upper middle income",
          "High income",
          "High income",
          "Lower middle income",
          "High income",
          "Upper middle income",
          "High income",
          "Lower middle income",
          "High income",
          "High income",
          "Upper middle income",
          "Low income",
          "Upper middle income",
          "Low income",
          "Lower middle income",
          "High income",
          "Lower middle income",
          "High income",
          "High income",
          "",
          "",
          "",
          ""
         ],
         "type": "sunburst",
         "values": [
          7,
          1,
          21,
          8,
          11,
          40,
          2,
          21,
          2,
          50,
          1,
          1,
          43,
          4,
          1,
          1,
          2,
          1,
          1,
          18,
          1,
          4,
          1,
          3,
          56,
          76,
          3,
          3,
          1,
          21,
          1,
          2,
          5,
          19,
          35,
          1,
          8,
          3,
          1,
          2,
          5,
          7,
          11,
          9,
          22,
          4,
          2,
          23,
          10,
          2,
          4,
          20,
          8,
          1,
          8,
          4,
          1,
          1,
          1,
          4,
          8,
          22,
          1,
          13,
          39,
          4,
          2,
          5,
          1,
          4,
          83,
          2,
          231,
          1,
          778,
          5,
          114,
          148
         ]
        }
       ],
       "layout": {
        "coloraxis": {
         "cmax": 250,
         "cmin": 0,
         "colorbar": {
          "title": {
           "text": "Count"
          }
         },
         "colorscale": [
          [
           0,
           "rgb(247,251,255)"
          ],
          [
           0.125,
           "rgb(222,235,247)"
          ],
          [
           0.25,
           "rgb(198,219,239)"
          ],
          [
           0.375,
           "rgb(158,202,225)"
          ],
          [
           0.5,
           "rgb(107,174,214)"
          ],
          [
           0.625,
           "rgb(66,146,198)"
          ],
          [
           0.75,
           "rgb(33,113,181)"
          ],
          [
           0.875,
           "rgb(8,81,156)"
          ],
          [
           1,
           "rgb(8,48,107)"
          ]
         ]
        },
        "legend": {
         "tracegroupgap": 0
        },
        "template": {
         "data": {
          "bar": [
           {
            "error_x": {
             "color": "#2a3f5f"
            },
            "error_y": {
             "color": "#2a3f5f"
            },
            "marker": {
             "line": {
              "color": "#E5ECF6",
              "width": 0.5
             },
             "pattern": {
              "fillmode": "overlay",
              "size": 10,
              "solidity": 0.2
             }
            },
            "type": "bar"
           }
          ],
          "barpolar": [
           {
            "marker": {
             "line": {
              "color": "#E5ECF6",
              "width": 0.5
             },
             "pattern": {
              "fillmode": "overlay",
              "size": 10,
              "solidity": 0.2
             }
            },
            "type": "barpolar"
           }
          ],
          "carpet": [
           {
            "aaxis": {
             "endlinecolor": "#2a3f5f",
             "gridcolor": "white",
             "linecolor": "white",
             "minorgridcolor": "white",
             "startlinecolor": "#2a3f5f"
            },
            "baxis": {
             "endlinecolor": "#2a3f5f",
             "gridcolor": "white",
             "linecolor": "white",
             "minorgridcolor": "white",
             "startlinecolor": "#2a3f5f"
            },
            "type": "carpet"
           }
          ],
          "choropleth": [
           {
            "colorbar": {
             "outlinewidth": 0,
             "ticks": ""
            },
            "type": "choropleth"
           }
          ],
          "contour": [
           {
            "colorbar": {
             "outlinewidth": 0,
             "ticks": ""
            },
            "colorscale": [
             [
              0,
              "#0d0887"
             ],
             [
              0.1111111111111111,
              "#46039f"
             ],
             [
              0.2222222222222222,
              "#7201a8"
             ],
             [
              0.3333333333333333,
              "#9c179e"
             ],
             [
              0.4444444444444444,
              "#bd3786"
             ],
             [
              0.5555555555555556,
              "#d8576b"
             ],
             [
              0.6666666666666666,
              "#ed7953"
             ],
             [
              0.7777777777777778,
              "#fb9f3a"
             ],
             [
              0.8888888888888888,
              "#fdca26"
             ],
             [
              1,
              "#f0f921"
             ]
            ],
            "type": "contour"
           }
          ],
          "contourcarpet": [
           {
            "colorbar": {
             "outlinewidth": 0,
             "ticks": ""
            },
            "type": "contourcarpet"
           }
          ],
          "heatmap": [
           {
            "colorbar": {
             "outlinewidth": 0,
             "ticks": ""
            },
            "colorscale": [
             [
              0,
              "#0d0887"
             ],
             [
              0.1111111111111111,
              "#46039f"
             ],
             [
              0.2222222222222222,
              "#7201a8"
             ],
             [
              0.3333333333333333,
              "#9c179e"
             ],
             [
              0.4444444444444444,
              "#bd3786"
             ],
             [
              0.5555555555555556,
              "#d8576b"
             ],
             [
              0.6666666666666666,
              "#ed7953"
             ],
             [
              0.7777777777777778,
              "#fb9f3a"
             ],
             [
              0.8888888888888888,
              "#fdca26"
             ],
             [
              1,
              "#f0f921"
             ]
            ],
            "type": "heatmap"
           }
          ],
          "heatmapgl": [
           {
            "colorbar": {
             "outlinewidth": 0,
             "ticks": ""
            },
            "colorscale": [
             [
              0,
              "#0d0887"
             ],
             [
              0.1111111111111111,
              "#46039f"
             ],
             [
              0.2222222222222222,
              "#7201a8"
             ],
             [
              0.3333333333333333,
              "#9c179e"
             ],
             [
              0.4444444444444444,
              "#bd3786"
             ],
             [
              0.5555555555555556,
              "#d8576b"
             ],
             [
              0.6666666666666666,
              "#ed7953"
             ],
             [
              0.7777777777777778,
              "#fb9f3a"
             ],
             [
              0.8888888888888888,
              "#fdca26"
             ],
             [
              1,
              "#f0f921"
             ]
            ],
            "type": "heatmapgl"
           }
          ],
          "histogram": [
           {
            "marker": {
             "pattern": {
              "fillmode": "overlay",
              "size": 10,
              "solidity": 0.2
             }
            },
            "type": "histogram"
           }
          ],
          "histogram2d": [
           {
            "colorbar": {
             "outlinewidth": 0,
             "ticks": ""
            },
            "colorscale": [
             [
              0,
              "#0d0887"
             ],
             [
              0.1111111111111111,
              "#46039f"
             ],
             [
              0.2222222222222222,
              "#7201a8"
             ],
             [
              0.3333333333333333,
              "#9c179e"
             ],
             [
              0.4444444444444444,
              "#bd3786"
             ],
             [
              0.5555555555555556,
              "#d8576b"
             ],
             [
              0.6666666666666666,
              "#ed7953"
             ],
             [
              0.7777777777777778,
              "#fb9f3a"
             ],
             [
              0.8888888888888888,
              "#fdca26"
             ],
             [
              1,
              "#f0f921"
             ]
            ],
            "type": "histogram2d"
           }
          ],
          "histogram2dcontour": [
           {
            "colorbar": {
             "outlinewidth": 0,
             "ticks": ""
            },
            "colorscale": [
             [
              0,
              "#0d0887"
             ],
             [
              0.1111111111111111,
              "#46039f"
             ],
             [
              0.2222222222222222,
              "#7201a8"
             ],
             [
              0.3333333333333333,
              "#9c179e"
             ],
             [
              0.4444444444444444,
              "#bd3786"
             ],
             [
              0.5555555555555556,
              "#d8576b"
             ],
             [
              0.6666666666666666,
              "#ed7953"
             ],
             [
              0.7777777777777778,
              "#fb9f3a"
             ],
             [
              0.8888888888888888,
              "#fdca26"
             ],
             [
              1,
              "#f0f921"
             ]
            ],
            "type": "histogram2dcontour"
           }
          ],
          "mesh3d": [
           {
            "colorbar": {
             "outlinewidth": 0,
             "ticks": ""
            },
            "type": "mesh3d"
           }
          ],
          "parcoords": [
           {
            "line": {
             "colorbar": {
              "outlinewidth": 0,
              "ticks": ""
             }
            },
            "type": "parcoords"
           }
          ],
          "pie": [
           {
            "automargin": true,
            "type": "pie"
           }
          ],
          "scatter": [
           {
            "marker": {
             "colorbar": {
              "outlinewidth": 0,
              "ticks": ""
             }
            },
            "type": "scatter"
           }
          ],
          "scatter3d": [
           {
            "line": {
             "colorbar": {
              "outlinewidth": 0,
              "ticks": ""
             }
            },
            "marker": {
             "colorbar": {
              "outlinewidth": 0,
              "ticks": ""
             }
            },
            "type": "scatter3d"
           }
          ],
          "scattercarpet": [
           {
            "marker": {
             "colorbar": {
              "outlinewidth": 0,
              "ticks": ""
             }
            },
            "type": "scattercarpet"
           }
          ],
          "scattergeo": [
           {
            "marker": {
             "colorbar": {
              "outlinewidth": 0,
              "ticks": ""
             }
            },
            "type": "scattergeo"
           }
          ],
          "scattergl": [
           {
            "marker": {
             "colorbar": {
              "outlinewidth": 0,
              "ticks": ""
             }
            },
            "type": "scattergl"
           }
          ],
          "scattermapbox": [
           {
            "marker": {
             "colorbar": {
              "outlinewidth": 0,
              "ticks": ""
             }
            },
            "type": "scattermapbox"
           }
          ],
          "scatterpolar": [
           {
            "marker": {
             "colorbar": {
              "outlinewidth": 0,
              "ticks": ""
             }
            },
            "type": "scatterpolar"
           }
          ],
          "scatterpolargl": [
           {
            "marker": {
             "colorbar": {
              "outlinewidth": 0,
              "ticks": ""
             }
            },
            "type": "scatterpolargl"
           }
          ],
          "scatterternary": [
           {
            "marker": {
             "colorbar": {
              "outlinewidth": 0,
              "ticks": ""
             }
            },
            "type": "scatterternary"
           }
          ],
          "surface": [
           {
            "colorbar": {
             "outlinewidth": 0,
             "ticks": ""
            },
            "colorscale": [
             [
              0,
              "#0d0887"
             ],
             [
              0.1111111111111111,
              "#46039f"
             ],
             [
              0.2222222222222222,
              "#7201a8"
             ],
             [
              0.3333333333333333,
              "#9c179e"
             ],
             [
              0.4444444444444444,
              "#bd3786"
             ],
             [
              0.5555555555555556,
              "#d8576b"
             ],
             [
              0.6666666666666666,
              "#ed7953"
             ],
             [
              0.7777777777777778,
              "#fb9f3a"
             ],
             [
              0.8888888888888888,
              "#fdca26"
             ],
             [
              1,
              "#f0f921"
             ]
            ],
            "type": "surface"
           }
          ],
          "table": [
           {
            "cells": {
             "fill": {
              "color": "#EBF0F8"
             },
             "line": {
              "color": "white"
             }
            },
            "header": {
             "fill": {
              "color": "#C8D4E3"
             },
             "line": {
              "color": "white"
             }
            },
            "type": "table"
           }
          ]
         },
         "layout": {
          "annotationdefaults": {
           "arrowcolor": "#2a3f5f",
           "arrowhead": 0,
           "arrowwidth": 1
          },
          "autotypenumbers": "strict",
          "coloraxis": {
           "colorbar": {
            "outlinewidth": 0,
            "ticks": ""
           }
          },
          "colorscale": {
           "diverging": [
            [
             0,
             "#8e0152"
            ],
            [
             0.1,
             "#c51b7d"
            ],
            [
             0.2,
             "#de77ae"
            ],
            [
             0.3,
             "#f1b6da"
            ],
            [
             0.4,
             "#fde0ef"
            ],
            [
             0.5,
             "#f7f7f7"
            ],
            [
             0.6,
             "#e6f5d0"
            ],
            [
             0.7,
             "#b8e186"
            ],
            [
             0.8,
             "#7fbc41"
            ],
            [
             0.9,
             "#4d9221"
            ],
            [
             1,
             "#276419"
            ]
           ],
           "sequential": [
            [
             0,
             "#0d0887"
            ],
            [
             0.1111111111111111,
             "#46039f"
            ],
            [
             0.2222222222222222,
             "#7201a8"
            ],
            [
             0.3333333333333333,
             "#9c179e"
            ],
            [
             0.4444444444444444,
             "#bd3786"
            ],
            [
             0.5555555555555556,
             "#d8576b"
            ],
            [
             0.6666666666666666,
             "#ed7953"
            ],
            [
             0.7777777777777778,
             "#fb9f3a"
            ],
            [
             0.8888888888888888,
             "#fdca26"
            ],
            [
             1,
             "#f0f921"
            ]
           ],
           "sequentialminus": [
            [
             0,
             "#0d0887"
            ],
            [
             0.1111111111111111,
             "#46039f"
            ],
            [
             0.2222222222222222,
             "#7201a8"
            ],
            [
             0.3333333333333333,
             "#9c179e"
            ],
            [
             0.4444444444444444,
             "#bd3786"
            ],
            [
             0.5555555555555556,
             "#d8576b"
            ],
            [
             0.6666666666666666,
             "#ed7953"
            ],
            [
             0.7777777777777778,
             "#fb9f3a"
            ],
            [
             0.8888888888888888,
             "#fdca26"
            ],
            [
             1,
             "#f0f921"
            ]
           ]
          },
          "colorway": [
           "#636efa",
           "#EF553B",
           "#00cc96",
           "#ab63fa",
           "#FFA15A",
           "#19d3f3",
           "#FF6692",
           "#B6E880",
           "#FF97FF",
           "#FECB52"
          ],
          "font": {
           "color": "#2a3f5f"
          },
          "geo": {
           "bgcolor": "white",
           "lakecolor": "white",
           "landcolor": "#E5ECF6",
           "showlakes": true,
           "showland": true,
           "subunitcolor": "white"
          },
          "hoverlabel": {
           "align": "left"
          },
          "hovermode": "closest",
          "mapbox": {
           "style": "light"
          },
          "paper_bgcolor": "white",
          "plot_bgcolor": "#E5ECF6",
          "polar": {
           "angularaxis": {
            "gridcolor": "white",
            "linecolor": "white",
            "ticks": ""
           },
           "bgcolor": "#E5ECF6",
           "radialaxis": {
            "gridcolor": "white",
            "linecolor": "white",
            "ticks": ""
           }
          },
          "scene": {
           "xaxis": {
            "backgroundcolor": "#E5ECF6",
            "gridcolor": "white",
            "gridwidth": 2,
            "linecolor": "white",
            "showbackground": true,
            "ticks": "",
            "zerolinecolor": "white"
           },
           "yaxis": {
            "backgroundcolor": "#E5ECF6",
            "gridcolor": "white",
            "gridwidth": 2,
            "linecolor": "white",
            "showbackground": true,
            "ticks": "",
            "zerolinecolor": "white"
           },
           "zaxis": {
            "backgroundcolor": "#E5ECF6",
            "gridcolor": "white",
            "gridwidth": 2,
            "linecolor": "white",
            "showbackground": true,
            "ticks": "",
            "zerolinecolor": "white"
           }
          },
          "shapedefaults": {
           "line": {
            "color": "#2a3f5f"
           }
          },
          "ternary": {
           "aaxis": {
            "gridcolor": "white",
            "linecolor": "white",
            "ticks": ""
           },
           "baxis": {
            "gridcolor": "white",
            "linecolor": "white",
            "ticks": ""
           },
           "bgcolor": "#E5ECF6",
           "caxis": {
            "gridcolor": "white",
            "linecolor": "white",
            "ticks": ""
           }
          },
          "title": {
           "x": 0.05
          },
          "xaxis": {
           "automargin": true,
           "gridcolor": "white",
           "linecolor": "white",
           "ticks": "",
           "title": {
            "standoff": 15
           },
           "zerolinecolor": "white",
           "zerolinewidth": 2
          },
          "yaxis": {
           "automargin": true,
           "gridcolor": "white",
           "linecolor": "white",
           "ticks": "",
           "title": {
            "standoff": 15
           },
           "zerolinecolor": "white",
           "zerolinewidth": 2
          }
         }
        },
        "title": {
         "text": "Sunburst Plot of NGO Organization Count by Income Group and Country (COP2019)"
        }
       }
      },
      "text/html": [
       "<div>                            <div id=\"b5debf05-42bb-44be-bac9-142274de3d23\" class=\"plotly-graph-div\" style=\"height:525px; width:100%;\"></div>            <script type=\"text/javascript\">                require([\"plotly\"], function(Plotly) {                    window.PLOTLYENV=window.PLOTLYENV || {};                                    if (document.getElementById(\"b5debf05-42bb-44be-bac9-142274de3d23\")) {                    Plotly.newPlot(                        \"b5debf05-42bb-44be-bac9-142274de3d23\",                        [{\"branchvalues\":\"total\",\"customdata\":[[\"ARG\",7.0],[\"ARM\",1.0],[\"AUS\",21.0],[\"AUT\",8.0],[\"BGD\",11.0],[\"BEL\",40.0],[\"BOL\",2.0],[\"BRA\",21.0],[\"CMR\",2.0],[\"CAN\",50.0],[\"TCD\",1.0],[\"CHL\",1.0],[\"CHN\",43.0],[\"COL\",4.0],[\"CRI\",1.0],[\"CUB\",1.0],[\"CZE\",2.0],[\"CIV\",1.0],[\"COD\",1.0],[\"DNK\",18.0],[\"DOM\",1.0],[\"ECU\",4.0],[\"SLV\",1.0],[\"FIN\",3.0],[\"FRA\",56.0],[\"DEU\",76.0],[\"GHA\",3.0],[\"GTM\",3.0],[\"HND\",1.0],[\"IND\",21.0],[\"IRN\",1.0],[\"IRL\",2.0],[\"ISR\",5.0],[\"ITA\",19.0],[\"JPN\",35.0],[\"KAZ\",1.0],[\"KEN\",8.0],[\"LBN\",3.0],[\"LBY\",1.0],[\"LUX\",2.0],[\"MYS\",5.0],[\"MEX\",7.0],[\"MAR\",11.0],[\"NPL\",9.0],[\"NLD\",22.0],[\"NZL\",4.0],[\"NIC\",2.0],[\"NGA\",23.0],[\"NOR\",10.0],[\"PAK\",2.0],[\"PAN\",4.0],[\"PER\",20.0],[\"PHL\",8.0],[\"POL\",1.0],[\"KOR\",8.0],[\"RUS\",4.0],[\"SMR\",1.0],[\"SAU\",1.0],[\"SEN\",1.0],[\"SGP\",4.0],[\"ZAF\",8.0],[\"ESP\",22.0],[\"LKA\",1.0],[\"SWE\",13.0],[\"CHE\",39.0],[\"THA\",4.0],[\"TGO\",2.0],[\"TUR\",5.0],[\"UGA\",1.0],[\"UKR\",4.0],[\"GBR\",83.0],[\"TZA\",2.0],[\"USA\",231.0],[\"URY\",1.0],[\"(?)\",101.0051413881748],[\"(?)\",1.4],[\"(?)\",12.912280701754385],[\"(?)\",20.31081081081081]],\"domain\":{\"x\":[0.0,1.0],\"y\":[0.0,1.0]},\"hovertemplate\":\"labels=%{label}<br>Count_sum=%{value}<br>parent=%{parent}<br>id=%{id}<br>ISO3=%{customdata[0]}<br>Count=%{color}<extra></extra>\",\"ids\":[\"Upper middle income/Argentina\",\"Upper middle income/Armenia\",\"High income/Australia\",\"High income/Austria\",\"Lower middle income/Bangladesh\",\"High income/Belgium\",\"Lower middle income/Bolivia (Plurinational State of)\",\"Upper middle income/Brazil\",\"Lower middle income/Cameroon\",\"High income/Canada\",\"Low income/Chad\",\"High income/Chile\",\"Upper middle income/China\",\"Upper middle income/Colombia\",\"Upper middle income/Costa Rica\",\"Upper middle income/Cuba\",\"High income/Czechia\",\"Lower middle income/C\\u00f4te d'Ivoire\",\"Low income/Democratic Republic of the Congo\",\"High income/Denmark\",\"Upper middle income/Dominican Republic\",\"Upper middle income/Ecuador\",\"Lower middle income/El Salvador\",\"High income/Finland\",\"High income/France\",\"High income/Germany\",\"Lower middle income/Ghana\",\"Upper middle income/Guatemala\",\"Lower middle income/Honduras\",\"Lower middle income/India\",\"Lower middle income/Iran (Islamic Republic of)\",\"High income/Ireland\",\"High income/Israel\",\"High income/Italy\",\"High income/Japan\",\"Upper middle income/Kazakhstan\",\"Lower middle income/Kenya\",\"Upper middle income/Lebanon\",\"Upper middle income/Libya\",\"High income/Luxembourg\",\"Upper middle income/Malaysia\",\"Upper middle income/Mexico\",\"Lower middle income/Morocco\",\"Lower middle income/Nepal\",\"High income/Netherlands\",\"High income/New Zealand\",\"Lower middle income/Nicaragua\",\"Lower middle income/Nigeria\",\"High income/Norway\",\"Lower middle income/Pakistan\",\"Upper middle income/Panama\",\"Upper middle income/Peru\",\"Lower middle income/Philippines\",\"High income/Poland\",\"High income/Republic of Korea\",\"Upper middle income/Russian Federation\",\"High income/San Marino\",\"High income/Saudi Arabia\",\"Lower middle income/Senegal\",\"High income/Singapore\",\"Upper middle income/South Africa\",\"High income/Spain\",\"Lower middle income/Sri Lanka\",\"High income/Sweden\",\"High income/Switzerland\",\"Upper middle income/Thailand\",\"Low income/Togo\",\"Upper middle income/Turkey\",\"Low income/Uganda\",\"Lower middle income/Ukraine\",\"High income/United Kingdom of Great Britain and Northern Ireland\",\"Lower middle income/United Republic of Tanzania\",\"High income/United States of America\",\"High income/Uruguay\",\"High income\",\"Low income\",\"Lower middle income\",\"Upper middle income\"],\"labels\":[\"Argentina\",\"Armenia\",\"Australia\",\"Austria\",\"Bangladesh\",\"Belgium\",\"Bolivia (Plurinational State of)\",\"Brazil\",\"Cameroon\",\"Canada\",\"Chad\",\"Chile\",\"China\",\"Colombia\",\"Costa Rica\",\"Cuba\",\"Czechia\",\"C\\u00f4te d'Ivoire\",\"Democratic Republic of the Congo\",\"Denmark\",\"Dominican Republic\",\"Ecuador\",\"El Salvador\",\"Finland\",\"France\",\"Germany\",\"Ghana\",\"Guatemala\",\"Honduras\",\"India\",\"Iran (Islamic Republic of)\",\"Ireland\",\"Israel\",\"Italy\",\"Japan\",\"Kazakhstan\",\"Kenya\",\"Lebanon\",\"Libya\",\"Luxembourg\",\"Malaysia\",\"Mexico\",\"Morocco\",\"Nepal\",\"Netherlands\",\"New Zealand\",\"Nicaragua\",\"Nigeria\",\"Norway\",\"Pakistan\",\"Panama\",\"Peru\",\"Philippines\",\"Poland\",\"Republic of Korea\",\"Russian Federation\",\"San Marino\",\"Saudi Arabia\",\"Senegal\",\"Singapore\",\"South Africa\",\"Spain\",\"Sri Lanka\",\"Sweden\",\"Switzerland\",\"Thailand\",\"Togo\",\"Turkey\",\"Uganda\",\"Ukraine\",\"United Kingdom of Great Britain and Northern Ireland\",\"United Republic of Tanzania\",\"United States of America\",\"Uruguay\",\"High income\",\"Low income\",\"Lower middle income\",\"Upper middle income\"],\"marker\":{\"coloraxis\":\"coloraxis\",\"colors\":[7.0,1.0,21.0,8.0,11.0,40.0,2.0,21.0,2.0,50.0,1.0,1.0,43.0,4.0,1.0,1.0,2.0,1.0,1.0,18.0,1.0,4.0,1.0,3.0,56.0,76.0,3.0,3.0,1.0,21.0,1.0,2.0,5.0,19.0,35.0,1.0,8.0,3.0,1.0,2.0,5.0,7.0,11.0,9.0,22.0,4.0,2.0,23.0,10.0,2.0,4.0,20.0,8.0,1.0,8.0,4.0,1.0,1.0,1.0,4.0,8.0,22.0,1.0,13.0,39.0,4.0,2.0,5.0,1.0,4.0,83.0,2.0,231.0,1.0,101.0051413881748,1.4,12.912280701754385,20.31081081081081]},\"name\":\"\",\"parents\":[\"Upper middle income\",\"Upper middle income\",\"High income\",\"High income\",\"Lower middle income\",\"High income\",\"Lower middle income\",\"Upper middle income\",\"Lower middle income\",\"High income\",\"Low income\",\"High income\",\"Upper middle income\",\"Upper middle income\",\"Upper middle income\",\"Upper middle income\",\"High income\",\"Lower middle income\",\"Low income\",\"High income\",\"Upper middle income\",\"Upper middle income\",\"Lower middle income\",\"High income\",\"High income\",\"High income\",\"Lower middle income\",\"Upper middle income\",\"Lower middle income\",\"Lower middle income\",\"Lower middle income\",\"High income\",\"High income\",\"High income\",\"High income\",\"Upper middle income\",\"Lower middle income\",\"Upper middle income\",\"Upper middle income\",\"High income\",\"Upper middle income\",\"Upper middle income\",\"Lower middle income\",\"Lower middle income\",\"High income\",\"High income\",\"Lower middle income\",\"Lower middle income\",\"High income\",\"Lower middle income\",\"Upper middle income\",\"Upper middle income\",\"Lower middle income\",\"High income\",\"High income\",\"Upper middle income\",\"High income\",\"High income\",\"Lower middle income\",\"High income\",\"Upper middle income\",\"High income\",\"Lower middle income\",\"High income\",\"High income\",\"Upper middle income\",\"Low income\",\"Upper middle income\",\"Low income\",\"Lower middle income\",\"High income\",\"Lower middle income\",\"High income\",\"High income\",\"\",\"\",\"\",\"\"],\"type\":\"sunburst\",\"values\":[7,1,21,8,11,40,2,21,2,50,1,1,43,4,1,1,2,1,1,18,1,4,1,3,56,76,3,3,1,21,1,2,5,19,35,1,8,3,1,2,5,7,11,9,22,4,2,23,10,2,4,20,8,1,8,4,1,1,1,4,8,22,1,13,39,4,2,5,1,4,83,2,231,1,778,5,114,148]}],                        {\"coloraxis\":{\"cmax\":250,\"cmin\":0,\"colorbar\":{\"title\":{\"text\":\"Count\"}},\"colorscale\":[[0.0,\"rgb(247,251,255)\"],[0.125,\"rgb(222,235,247)\"],[0.25,\"rgb(198,219,239)\"],[0.375,\"rgb(158,202,225)\"],[0.5,\"rgb(107,174,214)\"],[0.625,\"rgb(66,146,198)\"],[0.75,\"rgb(33,113,181)\"],[0.875,\"rgb(8,81,156)\"],[1.0,\"rgb(8,48,107)\"]]},\"legend\":{\"tracegroupgap\":0},\"template\":{\"data\":{\"bar\":[{\"error_x\":{\"color\":\"#2a3f5f\"},\"error_y\":{\"color\":\"#2a3f5f\"},\"marker\":{\"line\":{\"color\":\"#E5ECF6\",\"width\":0.5},\"pattern\":{\"fillmode\":\"overlay\",\"size\":10,\"solidity\":0.2}},\"type\":\"bar\"}],\"barpolar\":[{\"marker\":{\"line\":{\"color\":\"#E5ECF6\",\"width\":0.5},\"pattern\":{\"fillmode\":\"overlay\",\"size\":10,\"solidity\":0.2}},\"type\":\"barpolar\"}],\"carpet\":[{\"aaxis\":{\"endlinecolor\":\"#2a3f5f\",\"gridcolor\":\"white\",\"linecolor\":\"white\",\"minorgridcolor\":\"white\",\"startlinecolor\":\"#2a3f5f\"},\"baxis\":{\"endlinecolor\":\"#2a3f5f\",\"gridcolor\":\"white\",\"linecolor\":\"white\",\"minorgridcolor\":\"white\",\"startlinecolor\":\"#2a3f5f\"},\"type\":\"carpet\"}],\"choropleth\":[{\"colorbar\":{\"outlinewidth\":0,\"ticks\":\"\"},\"type\":\"choropleth\"}],\"contour\":[{\"colorbar\":{\"outlinewidth\":0,\"ticks\":\"\"},\"colorscale\":[[0.0,\"#0d0887\"],[0.1111111111111111,\"#46039f\"],[0.2222222222222222,\"#7201a8\"],[0.3333333333333333,\"#9c179e\"],[0.4444444444444444,\"#bd3786\"],[0.5555555555555556,\"#d8576b\"],[0.6666666666666666,\"#ed7953\"],[0.7777777777777778,\"#fb9f3a\"],[0.8888888888888888,\"#fdca26\"],[1.0,\"#f0f921\"]],\"type\":\"contour\"}],\"contourcarpet\":[{\"colorbar\":{\"outlinewidth\":0,\"ticks\":\"\"},\"type\":\"contourcarpet\"}],\"heatmap\":[{\"colorbar\":{\"outlinewidth\":0,\"ticks\":\"\"},\"colorscale\":[[0.0,\"#0d0887\"],[0.1111111111111111,\"#46039f\"],[0.2222222222222222,\"#7201a8\"],[0.3333333333333333,\"#9c179e\"],[0.4444444444444444,\"#bd3786\"],[0.5555555555555556,\"#d8576b\"],[0.6666666666666666,\"#ed7953\"],[0.7777777777777778,\"#fb9f3a\"],[0.8888888888888888,\"#fdca26\"],[1.0,\"#f0f921\"]],\"type\":\"heatmap\"}],\"heatmapgl\":[{\"colorbar\":{\"outlinewidth\":0,\"ticks\":\"\"},\"colorscale\":[[0.0,\"#0d0887\"],[0.1111111111111111,\"#46039f\"],[0.2222222222222222,\"#7201a8\"],[0.3333333333333333,\"#9c179e\"],[0.4444444444444444,\"#bd3786\"],[0.5555555555555556,\"#d8576b\"],[0.6666666666666666,\"#ed7953\"],[0.7777777777777778,\"#fb9f3a\"],[0.8888888888888888,\"#fdca26\"],[1.0,\"#f0f921\"]],\"type\":\"heatmapgl\"}],\"histogram\":[{\"marker\":{\"pattern\":{\"fillmode\":\"overlay\",\"size\":10,\"solidity\":0.2}},\"type\":\"histogram\"}],\"histogram2d\":[{\"colorbar\":{\"outlinewidth\":0,\"ticks\":\"\"},\"colorscale\":[[0.0,\"#0d0887\"],[0.1111111111111111,\"#46039f\"],[0.2222222222222222,\"#7201a8\"],[0.3333333333333333,\"#9c179e\"],[0.4444444444444444,\"#bd3786\"],[0.5555555555555556,\"#d8576b\"],[0.6666666666666666,\"#ed7953\"],[0.7777777777777778,\"#fb9f3a\"],[0.8888888888888888,\"#fdca26\"],[1.0,\"#f0f921\"]],\"type\":\"histogram2d\"}],\"histogram2dcontour\":[{\"colorbar\":{\"outlinewidth\":0,\"ticks\":\"\"},\"colorscale\":[[0.0,\"#0d0887\"],[0.1111111111111111,\"#46039f\"],[0.2222222222222222,\"#7201a8\"],[0.3333333333333333,\"#9c179e\"],[0.4444444444444444,\"#bd3786\"],[0.5555555555555556,\"#d8576b\"],[0.6666666666666666,\"#ed7953\"],[0.7777777777777778,\"#fb9f3a\"],[0.8888888888888888,\"#fdca26\"],[1.0,\"#f0f921\"]],\"type\":\"histogram2dcontour\"}],\"mesh3d\":[{\"colorbar\":{\"outlinewidth\":0,\"ticks\":\"\"},\"type\":\"mesh3d\"}],\"parcoords\":[{\"line\":{\"colorbar\":{\"outlinewidth\":0,\"ticks\":\"\"}},\"type\":\"parcoords\"}],\"pie\":[{\"automargin\":true,\"type\":\"pie\"}],\"scatter\":[{\"marker\":{\"colorbar\":{\"outlinewidth\":0,\"ticks\":\"\"}},\"type\":\"scatter\"}],\"scatter3d\":[{\"line\":{\"colorbar\":{\"outlinewidth\":0,\"ticks\":\"\"}},\"marker\":{\"colorbar\":{\"outlinewidth\":0,\"ticks\":\"\"}},\"type\":\"scatter3d\"}],\"scattercarpet\":[{\"marker\":{\"colorbar\":{\"outlinewidth\":0,\"ticks\":\"\"}},\"type\":\"scattercarpet\"}],\"scattergeo\":[{\"marker\":{\"colorbar\":{\"outlinewidth\":0,\"ticks\":\"\"}},\"type\":\"scattergeo\"}],\"scattergl\":[{\"marker\":{\"colorbar\":{\"outlinewidth\":0,\"ticks\":\"\"}},\"type\":\"scattergl\"}],\"scattermapbox\":[{\"marker\":{\"colorbar\":{\"outlinewidth\":0,\"ticks\":\"\"}},\"type\":\"scattermapbox\"}],\"scatterpolar\":[{\"marker\":{\"colorbar\":{\"outlinewidth\":0,\"ticks\":\"\"}},\"type\":\"scatterpolar\"}],\"scatterpolargl\":[{\"marker\":{\"colorbar\":{\"outlinewidth\":0,\"ticks\":\"\"}},\"type\":\"scatterpolargl\"}],\"scatterternary\":[{\"marker\":{\"colorbar\":{\"outlinewidth\":0,\"ticks\":\"\"}},\"type\":\"scatterternary\"}],\"surface\":[{\"colorbar\":{\"outlinewidth\":0,\"ticks\":\"\"},\"colorscale\":[[0.0,\"#0d0887\"],[0.1111111111111111,\"#46039f\"],[0.2222222222222222,\"#7201a8\"],[0.3333333333333333,\"#9c179e\"],[0.4444444444444444,\"#bd3786\"],[0.5555555555555556,\"#d8576b\"],[0.6666666666666666,\"#ed7953\"],[0.7777777777777778,\"#fb9f3a\"],[0.8888888888888888,\"#fdca26\"],[1.0,\"#f0f921\"]],\"type\":\"surface\"}],\"table\":[{\"cells\":{\"fill\":{\"color\":\"#EBF0F8\"},\"line\":{\"color\":\"white\"}},\"header\":{\"fill\":{\"color\":\"#C8D4E3\"},\"line\":{\"color\":\"white\"}},\"type\":\"table\"}]},\"layout\":{\"annotationdefaults\":{\"arrowcolor\":\"#2a3f5f\",\"arrowhead\":0,\"arrowwidth\":1},\"autotypenumbers\":\"strict\",\"coloraxis\":{\"colorbar\":{\"outlinewidth\":0,\"ticks\":\"\"}},\"colorscale\":{\"diverging\":[[0,\"#8e0152\"],[0.1,\"#c51b7d\"],[0.2,\"#de77ae\"],[0.3,\"#f1b6da\"],[0.4,\"#fde0ef\"],[0.5,\"#f7f7f7\"],[0.6,\"#e6f5d0\"],[0.7,\"#b8e186\"],[0.8,\"#7fbc41\"],[0.9,\"#4d9221\"],[1,\"#276419\"]],\"sequential\":[[0.0,\"#0d0887\"],[0.1111111111111111,\"#46039f\"],[0.2222222222222222,\"#7201a8\"],[0.3333333333333333,\"#9c179e\"],[0.4444444444444444,\"#bd3786\"],[0.5555555555555556,\"#d8576b\"],[0.6666666666666666,\"#ed7953\"],[0.7777777777777778,\"#fb9f3a\"],[0.8888888888888888,\"#fdca26\"],[1.0,\"#f0f921\"]],\"sequentialminus\":[[0.0,\"#0d0887\"],[0.1111111111111111,\"#46039f\"],[0.2222222222222222,\"#7201a8\"],[0.3333333333333333,\"#9c179e\"],[0.4444444444444444,\"#bd3786\"],[0.5555555555555556,\"#d8576b\"],[0.6666666666666666,\"#ed7953\"],[0.7777777777777778,\"#fb9f3a\"],[0.8888888888888888,\"#fdca26\"],[1.0,\"#f0f921\"]]},\"colorway\":[\"#636efa\",\"#EF553B\",\"#00cc96\",\"#ab63fa\",\"#FFA15A\",\"#19d3f3\",\"#FF6692\",\"#B6E880\",\"#FF97FF\",\"#FECB52\"],\"font\":{\"color\":\"#2a3f5f\"},\"geo\":{\"bgcolor\":\"white\",\"lakecolor\":\"white\",\"landcolor\":\"#E5ECF6\",\"showlakes\":true,\"showland\":true,\"subunitcolor\":\"white\"},\"hoverlabel\":{\"align\":\"left\"},\"hovermode\":\"closest\",\"mapbox\":{\"style\":\"light\"},\"paper_bgcolor\":\"white\",\"plot_bgcolor\":\"#E5ECF6\",\"polar\":{\"angularaxis\":{\"gridcolor\":\"white\",\"linecolor\":\"white\",\"ticks\":\"\"},\"bgcolor\":\"#E5ECF6\",\"radialaxis\":{\"gridcolor\":\"white\",\"linecolor\":\"white\",\"ticks\":\"\"}},\"scene\":{\"xaxis\":{\"backgroundcolor\":\"#E5ECF6\",\"gridcolor\":\"white\",\"gridwidth\":2,\"linecolor\":\"white\",\"showbackground\":true,\"ticks\":\"\",\"zerolinecolor\":\"white\"},\"yaxis\":{\"backgroundcolor\":\"#E5ECF6\",\"gridcolor\":\"white\",\"gridwidth\":2,\"linecolor\":\"white\",\"showbackground\":true,\"ticks\":\"\",\"zerolinecolor\":\"white\"},\"zaxis\":{\"backgroundcolor\":\"#E5ECF6\",\"gridcolor\":\"white\",\"gridwidth\":2,\"linecolor\":\"white\",\"showbackground\":true,\"ticks\":\"\",\"zerolinecolor\":\"white\"}},\"shapedefaults\":{\"line\":{\"color\":\"#2a3f5f\"}},\"ternary\":{\"aaxis\":{\"gridcolor\":\"white\",\"linecolor\":\"white\",\"ticks\":\"\"},\"baxis\":{\"gridcolor\":\"white\",\"linecolor\":\"white\",\"ticks\":\"\"},\"bgcolor\":\"#E5ECF6\",\"caxis\":{\"gridcolor\":\"white\",\"linecolor\":\"white\",\"ticks\":\"\"}},\"title\":{\"x\":0.05},\"xaxis\":{\"automargin\":true,\"gridcolor\":\"white\",\"linecolor\":\"white\",\"ticks\":\"\",\"title\":{\"standoff\":15},\"zerolinecolor\":\"white\",\"zerolinewidth\":2},\"yaxis\":{\"automargin\":true,\"gridcolor\":\"white\",\"linecolor\":\"white\",\"ticks\":\"\",\"title\":{\"standoff\":15},\"zerolinecolor\":\"white\",\"zerolinewidth\":2}}},\"title\":{\"text\":\"Sunburst Plot of NGO Organization Count by Income Group and Country (COP2019)\"}},                        {\"responsive\": true}                    ).then(function(){\n",
       "                            \n",
       "var gd = document.getElementById('b5debf05-42bb-44be-bac9-142274de3d23');\n",
       "var x = new MutationObserver(function (mutations, observer) {{\n",
       "        var display = window.getComputedStyle(gd).display;\n",
       "        if (!display || display === 'none') {{\n",
       "            console.log([gd, 'removed!']);\n",
       "            Plotly.purge(gd);\n",
       "            observer.disconnect();\n",
       "        }}\n",
       "}});\n",
       "\n",
       "// Listen for the removal of the full notebook cells\n",
       "var notebookContainer = gd.closest('#notebook-container');\n",
       "if (notebookContainer) {{\n",
       "    x.observe(notebookContainer, {childList: true});\n",
       "}}\n",
       "\n",
       "// Listen for the clearing of the current output cell\n",
       "var outputEl = gd.closest('.output');\n",
       "if (outputEl) {{\n",
       "    x.observe(outputEl, {childList: true});\n",
       "}}\n",
       "\n",
       "                        })                };                });            </script>        </div>"
      ]
     },
     "metadata": {},
     "output_type": "display_data"
    }
   ],
   "source": [
    "## IMPORTANT NOTE: THE FOLLOWING PLOT EXCLUDES THE HOLY SEE; COULD NOT FIND INCOME GROUP FOR HOLY SEE\n",
    "\n",
    "\n",
    "fig = px.sunburst(NGO_country_stats.drop(66), path=['Income_Group', 'Country'], values='Count',\n",
    "                  color='Count', hover_data=['ISO3'],\n",
    "                  color_continuous_scale='blues',\n",
    "                  range_color=[0,250],\n",
    "                  title = \"Sunburst Plot of NGO Organization Count by Income Group and Country (COP2019)\")\n",
    "fig.write_html(\"sunburst_NGOs_2.html\")\n",
    "fig.show()"
   ]
  },
  {
   "cell_type": "code",
   "execution_count": 106,
   "metadata": {},
   "outputs": [
    {
     "data": {
      "application/vnd.plotly.v1+json": {
       "config": {
        "plotlyServerURL": "https://plot.ly"
       },
       "data": [
        {
         "branchvalues": "total",
         "customdata": [
          [
           "AUT",
           1
          ],
          [
           "BEL",
           1
          ],
          [
           "BLZ",
           1
          ],
          [
           "BOL",
           1
          ],
          [
           "BFA",
           2
          ],
          [
           "CAN",
           1
          ],
          [
           "CHN",
           1
          ],
          [
           "CRI",
           1
          ],
          [
           "CIV",
           1
          ],
          [
           "DNK",
           1
          ],
          [
           "EGY",
           2
          ],
          [
           "SLV",
           1
          ],
          [
           "ETH",
           1
          ],
          [
           "FJI",
           1
          ],
          [
           "FIN",
           4
          ],
          [
           "FRA",
           9
          ],
          [
           "GAB",
           1
          ],
          [
           "GUY",
           1
          ],
          [
           "HND",
           1
          ],
          [
           "IND",
           1
          ],
          [
           "IDN",
           1
          ],
          [
           "JPN",
           1
          ],
          [
           "KEN",
           2
          ],
          [
           "KWT",
           1
          ],
          [
           "LBN",
           1
          ],
          [
           "LUX",
           1
          ],
          [
           "MLT",
           1
          ],
          [
           "MRT",
           1
          ],
          [
           "MAR",
           1
          ],
          [
           "NPL",
           1
          ],
          [
           "NER",
           1
          ],
          [
           "NGA",
           1
          ],
          [
           "PER",
           1
          ],
          [
           "PHL",
           2
          ],
          [
           "QAT",
           1
          ],
          [
           "KOR",
           1
          ],
          [
           "SAU",
           1
          ],
          [
           "ESP",
           2
          ],
          [
           "LKA",
           1
          ],
          [
           "SWE",
           1
          ],
          [
           "CHE",
           4
          ],
          [
           "THA",
           1
          ],
          [
           "TUN",
           2
          ],
          [
           "ARE",
           1
          ],
          [
           "GBR",
           3
          ],
          [
           "TZA",
           1
          ],
          [
           "USA",
           3
          ],
          [
           "(?)",
           3.8947368421052633
          ],
          [
           "(?)",
           1.5
          ],
          [
           "(?)",
           1.380952380952381
          ],
          [
           "(?)",
           1
          ]
         ],
         "domain": {
          "x": [
           0,
           1
          ],
          "y": [
           0,
           1
          ]
         },
         "hovertemplate": "labels=%{label}<br>Count_sum=%{value}<br>parent=%{parent}<br>id=%{id}<br>ISO3=%{customdata[0]}<br>Count=%{color}<extra></extra>",
         "ids": [
          "High income/Austria",
          "High income/Belgium",
          "Lower middle income/Belize",
          "Lower middle income/Bolivia (Plurinational State of)",
          "Low income/Burkina Faso",
          "High income/Canada",
          "Upper middle income/China",
          "Upper middle income/Costa Rica",
          "Lower middle income/Côte d'Ivoire",
          "High income/Denmark",
          "Lower middle income/Egypt",
          "Lower middle income/El Salvador",
          "Low income/Ethiopia",
          "Upper middle income/Fiji",
          "High income/Finland",
          "High income/France",
          "Upper middle income/Gabon",
          "Upper middle income/Guyana",
          "Lower middle income/Honduras",
          "Lower middle income/India",
          "Lower middle income/Indonesia",
          "High income/Japan",
          "Lower middle income/Kenya",
          "High income/Kuwait",
          "Upper middle income/Lebanon",
          "High income/Luxembourg",
          "High income/Malta",
          "Lower middle income/Mauritania",
          "Lower middle income/Morocco",
          "Lower middle income/Nepal",
          "Low income/Niger",
          "Lower middle income/Nigeria",
          "Upper middle income/Peru",
          "Lower middle income/Philippines",
          "High income/Qatar",
          "High income/Republic of Korea",
          "High income/Saudi Arabia",
          "High income/Spain",
          "Lower middle income/Sri Lanka",
          "High income/Sweden",
          "High income/Switzerland",
          "Upper middle income/Thailand",
          "Lower middle income/Tunisia",
          "High income/United Arab Emirates",
          "High income/United Kingdom of Great Britain and Northern Ireland",
          "Lower middle income/United Republic of Tanzania",
          "High income/United States of America",
          "High income",
          "Low income",
          "Lower middle income",
          "Upper middle income"
         ],
         "labels": [
          "Austria",
          "Belgium",
          "Belize",
          "Bolivia (Plurinational State of)",
          "Burkina Faso",
          "Canada",
          "China",
          "Costa Rica",
          "Côte d'Ivoire",
          "Denmark",
          "Egypt",
          "El Salvador",
          "Ethiopia",
          "Fiji",
          "Finland",
          "France",
          "Gabon",
          "Guyana",
          "Honduras",
          "India",
          "Indonesia",
          "Japan",
          "Kenya",
          "Kuwait",
          "Lebanon",
          "Luxembourg",
          "Malta",
          "Mauritania",
          "Morocco",
          "Nepal",
          "Niger",
          "Nigeria",
          "Peru",
          "Philippines",
          "Qatar",
          "Republic of Korea",
          "Saudi Arabia",
          "Spain",
          "Sri Lanka",
          "Sweden",
          "Switzerland",
          "Thailand",
          "Tunisia",
          "United Arab Emirates",
          "United Kingdom of Great Britain and Northern Ireland",
          "United Republic of Tanzania",
          "United States of America",
          "High income",
          "Low income",
          "Lower middle income",
          "Upper middle income"
         ],
         "marker": {
          "coloraxis": "coloraxis",
          "colors": [
           1,
           1,
           1,
           1,
           2,
           1,
           1,
           1,
           1,
           1,
           2,
           1,
           1,
           1,
           4,
           9,
           1,
           1,
           1,
           1,
           1,
           1,
           2,
           1,
           1,
           1,
           1,
           1,
           1,
           1,
           1,
           1,
           1,
           2,
           1,
           1,
           1,
           2,
           1,
           1,
           4,
           1,
           2,
           1,
           3,
           1,
           3,
           3.8947368421052633,
           1.5,
           1.380952380952381,
           1
          ]
         },
         "name": "",
         "parents": [
          "High income",
          "High income",
          "Lower middle income",
          "Lower middle income",
          "Low income",
          "High income",
          "Upper middle income",
          "Upper middle income",
          "Lower middle income",
          "High income",
          "Lower middle income",
          "Lower middle income",
          "Low income",
          "Upper middle income",
          "High income",
          "High income",
          "Upper middle income",
          "Upper middle income",
          "Lower middle income",
          "Lower middle income",
          "Lower middle income",
          "High income",
          "Lower middle income",
          "High income",
          "Upper middle income",
          "High income",
          "High income",
          "Lower middle income",
          "Lower middle income",
          "Lower middle income",
          "Low income",
          "Lower middle income",
          "Upper middle income",
          "Lower middle income",
          "High income",
          "High income",
          "High income",
          "High income",
          "Lower middle income",
          "High income",
          "High income",
          "Upper middle income",
          "Lower middle income",
          "High income",
          "High income",
          "Lower middle income",
          "High income",
          "",
          "",
          "",
          ""
         ],
         "type": "sunburst",
         "values": [
          1,
          1,
          1,
          1,
          2,
          1,
          1,
          1,
          1,
          1,
          2,
          1,
          1,
          1,
          4,
          9,
          1,
          1,
          1,
          1,
          1,
          1,
          2,
          1,
          1,
          1,
          1,
          1,
          1,
          1,
          1,
          1,
          1,
          2,
          1,
          1,
          1,
          2,
          1,
          1,
          4,
          1,
          2,
          1,
          3,
          1,
          3,
          38,
          4,
          21,
          8
         ]
        }
       ],
       "layout": {
        "coloraxis": {
         "colorbar": {
          "title": {
           "text": "Count"
          }
         },
         "colorscale": [
          [
           0,
           "rgb(255,245,240)"
          ],
          [
           0.125,
           "rgb(254,224,210)"
          ],
          [
           0.25,
           "rgb(252,187,161)"
          ],
          [
           0.375,
           "rgb(252,146,114)"
          ],
          [
           0.5,
           "rgb(251,106,74)"
          ],
          [
           0.625,
           "rgb(239,59,44)"
          ],
          [
           0.75,
           "rgb(203,24,29)"
          ],
          [
           0.875,
           "rgb(165,15,21)"
          ],
          [
           1,
           "rgb(103,0,13)"
          ]
         ]
        },
        "legend": {
         "tracegroupgap": 0
        },
        "template": {
         "data": {
          "bar": [
           {
            "error_x": {
             "color": "#2a3f5f"
            },
            "error_y": {
             "color": "#2a3f5f"
            },
            "marker": {
             "line": {
              "color": "#E5ECF6",
              "width": 0.5
             },
             "pattern": {
              "fillmode": "overlay",
              "size": 10,
              "solidity": 0.2
             }
            },
            "type": "bar"
           }
          ],
          "barpolar": [
           {
            "marker": {
             "line": {
              "color": "#E5ECF6",
              "width": 0.5
             },
             "pattern": {
              "fillmode": "overlay",
              "size": 10,
              "solidity": 0.2
             }
            },
            "type": "barpolar"
           }
          ],
          "carpet": [
           {
            "aaxis": {
             "endlinecolor": "#2a3f5f",
             "gridcolor": "white",
             "linecolor": "white",
             "minorgridcolor": "white",
             "startlinecolor": "#2a3f5f"
            },
            "baxis": {
             "endlinecolor": "#2a3f5f",
             "gridcolor": "white",
             "linecolor": "white",
             "minorgridcolor": "white",
             "startlinecolor": "#2a3f5f"
            },
            "type": "carpet"
           }
          ],
          "choropleth": [
           {
            "colorbar": {
             "outlinewidth": 0,
             "ticks": ""
            },
            "type": "choropleth"
           }
          ],
          "contour": [
           {
            "colorbar": {
             "outlinewidth": 0,
             "ticks": ""
            },
            "colorscale": [
             [
              0,
              "#0d0887"
             ],
             [
              0.1111111111111111,
              "#46039f"
             ],
             [
              0.2222222222222222,
              "#7201a8"
             ],
             [
              0.3333333333333333,
              "#9c179e"
             ],
             [
              0.4444444444444444,
              "#bd3786"
             ],
             [
              0.5555555555555556,
              "#d8576b"
             ],
             [
              0.6666666666666666,
              "#ed7953"
             ],
             [
              0.7777777777777778,
              "#fb9f3a"
             ],
             [
              0.8888888888888888,
              "#fdca26"
             ],
             [
              1,
              "#f0f921"
             ]
            ],
            "type": "contour"
           }
          ],
          "contourcarpet": [
           {
            "colorbar": {
             "outlinewidth": 0,
             "ticks": ""
            },
            "type": "contourcarpet"
           }
          ],
          "heatmap": [
           {
            "colorbar": {
             "outlinewidth": 0,
             "ticks": ""
            },
            "colorscale": [
             [
              0,
              "#0d0887"
             ],
             [
              0.1111111111111111,
              "#46039f"
             ],
             [
              0.2222222222222222,
              "#7201a8"
             ],
             [
              0.3333333333333333,
              "#9c179e"
             ],
             [
              0.4444444444444444,
              "#bd3786"
             ],
             [
              0.5555555555555556,
              "#d8576b"
             ],
             [
              0.6666666666666666,
              "#ed7953"
             ],
             [
              0.7777777777777778,
              "#fb9f3a"
             ],
             [
              0.8888888888888888,
              "#fdca26"
             ],
             [
              1,
              "#f0f921"
             ]
            ],
            "type": "heatmap"
           }
          ],
          "heatmapgl": [
           {
            "colorbar": {
             "outlinewidth": 0,
             "ticks": ""
            },
            "colorscale": [
             [
              0,
              "#0d0887"
             ],
             [
              0.1111111111111111,
              "#46039f"
             ],
             [
              0.2222222222222222,
              "#7201a8"
             ],
             [
              0.3333333333333333,
              "#9c179e"
             ],
             [
              0.4444444444444444,
              "#bd3786"
             ],
             [
              0.5555555555555556,
              "#d8576b"
             ],
             [
              0.6666666666666666,
              "#ed7953"
             ],
             [
              0.7777777777777778,
              "#fb9f3a"
             ],
             [
              0.8888888888888888,
              "#fdca26"
             ],
             [
              1,
              "#f0f921"
             ]
            ],
            "type": "heatmapgl"
           }
          ],
          "histogram": [
           {
            "marker": {
             "pattern": {
              "fillmode": "overlay",
              "size": 10,
              "solidity": 0.2
             }
            },
            "type": "histogram"
           }
          ],
          "histogram2d": [
           {
            "colorbar": {
             "outlinewidth": 0,
             "ticks": ""
            },
            "colorscale": [
             [
              0,
              "#0d0887"
             ],
             [
              0.1111111111111111,
              "#46039f"
             ],
             [
              0.2222222222222222,
              "#7201a8"
             ],
             [
              0.3333333333333333,
              "#9c179e"
             ],
             [
              0.4444444444444444,
              "#bd3786"
             ],
             [
              0.5555555555555556,
              "#d8576b"
             ],
             [
              0.6666666666666666,
              "#ed7953"
             ],
             [
              0.7777777777777778,
              "#fb9f3a"
             ],
             [
              0.8888888888888888,
              "#fdca26"
             ],
             [
              1,
              "#f0f921"
             ]
            ],
            "type": "histogram2d"
           }
          ],
          "histogram2dcontour": [
           {
            "colorbar": {
             "outlinewidth": 0,
             "ticks": ""
            },
            "colorscale": [
             [
              0,
              "#0d0887"
             ],
             [
              0.1111111111111111,
              "#46039f"
             ],
             [
              0.2222222222222222,
              "#7201a8"
             ],
             [
              0.3333333333333333,
              "#9c179e"
             ],
             [
              0.4444444444444444,
              "#bd3786"
             ],
             [
              0.5555555555555556,
              "#d8576b"
             ],
             [
              0.6666666666666666,
              "#ed7953"
             ],
             [
              0.7777777777777778,
              "#fb9f3a"
             ],
             [
              0.8888888888888888,
              "#fdca26"
             ],
             [
              1,
              "#f0f921"
             ]
            ],
            "type": "histogram2dcontour"
           }
          ],
          "mesh3d": [
           {
            "colorbar": {
             "outlinewidth": 0,
             "ticks": ""
            },
            "type": "mesh3d"
           }
          ],
          "parcoords": [
           {
            "line": {
             "colorbar": {
              "outlinewidth": 0,
              "ticks": ""
             }
            },
            "type": "parcoords"
           }
          ],
          "pie": [
           {
            "automargin": true,
            "type": "pie"
           }
          ],
          "scatter": [
           {
            "marker": {
             "colorbar": {
              "outlinewidth": 0,
              "ticks": ""
             }
            },
            "type": "scatter"
           }
          ],
          "scatter3d": [
           {
            "line": {
             "colorbar": {
              "outlinewidth": 0,
              "ticks": ""
             }
            },
            "marker": {
             "colorbar": {
              "outlinewidth": 0,
              "ticks": ""
             }
            },
            "type": "scatter3d"
           }
          ],
          "scattercarpet": [
           {
            "marker": {
             "colorbar": {
              "outlinewidth": 0,
              "ticks": ""
             }
            },
            "type": "scattercarpet"
           }
          ],
          "scattergeo": [
           {
            "marker": {
             "colorbar": {
              "outlinewidth": 0,
              "ticks": ""
             }
            },
            "type": "scattergeo"
           }
          ],
          "scattergl": [
           {
            "marker": {
             "colorbar": {
              "outlinewidth": 0,
              "ticks": ""
             }
            },
            "type": "scattergl"
           }
          ],
          "scattermapbox": [
           {
            "marker": {
             "colorbar": {
              "outlinewidth": 0,
              "ticks": ""
             }
            },
            "type": "scattermapbox"
           }
          ],
          "scatterpolar": [
           {
            "marker": {
             "colorbar": {
              "outlinewidth": 0,
              "ticks": ""
             }
            },
            "type": "scatterpolar"
           }
          ],
          "scatterpolargl": [
           {
            "marker": {
             "colorbar": {
              "outlinewidth": 0,
              "ticks": ""
             }
            },
            "type": "scatterpolargl"
           }
          ],
          "scatterternary": [
           {
            "marker": {
             "colorbar": {
              "outlinewidth": 0,
              "ticks": ""
             }
            },
            "type": "scatterternary"
           }
          ],
          "surface": [
           {
            "colorbar": {
             "outlinewidth": 0,
             "ticks": ""
            },
            "colorscale": [
             [
              0,
              "#0d0887"
             ],
             [
              0.1111111111111111,
              "#46039f"
             ],
             [
              0.2222222222222222,
              "#7201a8"
             ],
             [
              0.3333333333333333,
              "#9c179e"
             ],
             [
              0.4444444444444444,
              "#bd3786"
             ],
             [
              0.5555555555555556,
              "#d8576b"
             ],
             [
              0.6666666666666666,
              "#ed7953"
             ],
             [
              0.7777777777777778,
              "#fb9f3a"
             ],
             [
              0.8888888888888888,
              "#fdca26"
             ],
             [
              1,
              "#f0f921"
             ]
            ],
            "type": "surface"
           }
          ],
          "table": [
           {
            "cells": {
             "fill": {
              "color": "#EBF0F8"
             },
             "line": {
              "color": "white"
             }
            },
            "header": {
             "fill": {
              "color": "#C8D4E3"
             },
             "line": {
              "color": "white"
             }
            },
            "type": "table"
           }
          ]
         },
         "layout": {
          "annotationdefaults": {
           "arrowcolor": "#2a3f5f",
           "arrowhead": 0,
           "arrowwidth": 1
          },
          "autotypenumbers": "strict",
          "coloraxis": {
           "colorbar": {
            "outlinewidth": 0,
            "ticks": ""
           }
          },
          "colorscale": {
           "diverging": [
            [
             0,
             "#8e0152"
            ],
            [
             0.1,
             "#c51b7d"
            ],
            [
             0.2,
             "#de77ae"
            ],
            [
             0.3,
             "#f1b6da"
            ],
            [
             0.4,
             "#fde0ef"
            ],
            [
             0.5,
             "#f7f7f7"
            ],
            [
             0.6,
             "#e6f5d0"
            ],
            [
             0.7,
             "#b8e186"
            ],
            [
             0.8,
             "#7fbc41"
            ],
            [
             0.9,
             "#4d9221"
            ],
            [
             1,
             "#276419"
            ]
           ],
           "sequential": [
            [
             0,
             "#0d0887"
            ],
            [
             0.1111111111111111,
             "#46039f"
            ],
            [
             0.2222222222222222,
             "#7201a8"
            ],
            [
             0.3333333333333333,
             "#9c179e"
            ],
            [
             0.4444444444444444,
             "#bd3786"
            ],
            [
             0.5555555555555556,
             "#d8576b"
            ],
            [
             0.6666666666666666,
             "#ed7953"
            ],
            [
             0.7777777777777778,
             "#fb9f3a"
            ],
            [
             0.8888888888888888,
             "#fdca26"
            ],
            [
             1,
             "#f0f921"
            ]
           ],
           "sequentialminus": [
            [
             0,
             "#0d0887"
            ],
            [
             0.1111111111111111,
             "#46039f"
            ],
            [
             0.2222222222222222,
             "#7201a8"
            ],
            [
             0.3333333333333333,
             "#9c179e"
            ],
            [
             0.4444444444444444,
             "#bd3786"
            ],
            [
             0.5555555555555556,
             "#d8576b"
            ],
            [
             0.6666666666666666,
             "#ed7953"
            ],
            [
             0.7777777777777778,
             "#fb9f3a"
            ],
            [
             0.8888888888888888,
             "#fdca26"
            ],
            [
             1,
             "#f0f921"
            ]
           ]
          },
          "colorway": [
           "#636efa",
           "#EF553B",
           "#00cc96",
           "#ab63fa",
           "#FFA15A",
           "#19d3f3",
           "#FF6692",
           "#B6E880",
           "#FF97FF",
           "#FECB52"
          ],
          "font": {
           "color": "#2a3f5f"
          },
          "geo": {
           "bgcolor": "white",
           "lakecolor": "white",
           "landcolor": "#E5ECF6",
           "showlakes": true,
           "showland": true,
           "subunitcolor": "white"
          },
          "hoverlabel": {
           "align": "left"
          },
          "hovermode": "closest",
          "mapbox": {
           "style": "light"
          },
          "paper_bgcolor": "white",
          "plot_bgcolor": "#E5ECF6",
          "polar": {
           "angularaxis": {
            "gridcolor": "white",
            "linecolor": "white",
            "ticks": ""
           },
           "bgcolor": "#E5ECF6",
           "radialaxis": {
            "gridcolor": "white",
            "linecolor": "white",
            "ticks": ""
           }
          },
          "scene": {
           "xaxis": {
            "backgroundcolor": "#E5ECF6",
            "gridcolor": "white",
            "gridwidth": 2,
            "linecolor": "white",
            "showbackground": true,
            "ticks": "",
            "zerolinecolor": "white"
           },
           "yaxis": {
            "backgroundcolor": "#E5ECF6",
            "gridcolor": "white",
            "gridwidth": 2,
            "linecolor": "white",
            "showbackground": true,
            "ticks": "",
            "zerolinecolor": "white"
           },
           "zaxis": {
            "backgroundcolor": "#E5ECF6",
            "gridcolor": "white",
            "gridwidth": 2,
            "linecolor": "white",
            "showbackground": true,
            "ticks": "",
            "zerolinecolor": "white"
           }
          },
          "shapedefaults": {
           "line": {
            "color": "#2a3f5f"
           }
          },
          "ternary": {
           "aaxis": {
            "gridcolor": "white",
            "linecolor": "white",
            "ticks": ""
           },
           "baxis": {
            "gridcolor": "white",
            "linecolor": "white",
            "ticks": ""
           },
           "bgcolor": "#E5ECF6",
           "caxis": {
            "gridcolor": "white",
            "linecolor": "white",
            "ticks": ""
           }
          },
          "title": {
           "x": 0.05
          },
          "xaxis": {
           "automargin": true,
           "gridcolor": "white",
           "linecolor": "white",
           "ticks": "",
           "title": {
            "standoff": 15
           },
           "zerolinecolor": "white",
           "zerolinewidth": 2
          },
          "yaxis": {
           "automargin": true,
           "gridcolor": "white",
           "linecolor": "white",
           "ticks": "",
           "title": {
            "standoff": 15
           },
           "zerolinecolor": "white",
           "zerolinewidth": 2
          }
         }
        },
        "title": {
         "text": "Sunburst Plot of IGO Organization Count by Income Group and Country (COP2019)"
        }
       }
      },
      "text/html": [
       "<div>                            <div id=\"f0a66290-4667-4d7e-ac13-8f3453e939a8\" class=\"plotly-graph-div\" style=\"height:525px; width:100%;\"></div>            <script type=\"text/javascript\">                require([\"plotly\"], function(Plotly) {                    window.PLOTLYENV=window.PLOTLYENV || {};                                    if (document.getElementById(\"f0a66290-4667-4d7e-ac13-8f3453e939a8\")) {                    Plotly.newPlot(                        \"f0a66290-4667-4d7e-ac13-8f3453e939a8\",                        [{\"branchvalues\":\"total\",\"customdata\":[[\"AUT\",1.0],[\"BEL\",1.0],[\"BLZ\",1.0],[\"BOL\",1.0],[\"BFA\",2.0],[\"CAN\",1.0],[\"CHN\",1.0],[\"CRI\",1.0],[\"CIV\",1.0],[\"DNK\",1.0],[\"EGY\",2.0],[\"SLV\",1.0],[\"ETH\",1.0],[\"FJI\",1.0],[\"FIN\",4.0],[\"FRA\",9.0],[\"GAB\",1.0],[\"GUY\",1.0],[\"HND\",1.0],[\"IND\",1.0],[\"IDN\",1.0],[\"JPN\",1.0],[\"KEN\",2.0],[\"KWT\",1.0],[\"LBN\",1.0],[\"LUX\",1.0],[\"MLT\",1.0],[\"MRT\",1.0],[\"MAR\",1.0],[\"NPL\",1.0],[\"NER\",1.0],[\"NGA\",1.0],[\"PER\",1.0],[\"PHL\",2.0],[\"QAT\",1.0],[\"KOR\",1.0],[\"SAU\",1.0],[\"ESP\",2.0],[\"LKA\",1.0],[\"SWE\",1.0],[\"CHE\",4.0],[\"THA\",1.0],[\"TUN\",2.0],[\"ARE\",1.0],[\"GBR\",3.0],[\"TZA\",1.0],[\"USA\",3.0],[\"(?)\",3.8947368421052633],[\"(?)\",1.5],[\"(?)\",1.380952380952381],[\"(?)\",1.0]],\"domain\":{\"x\":[0.0,1.0],\"y\":[0.0,1.0]},\"hovertemplate\":\"labels=%{label}<br>Count_sum=%{value}<br>parent=%{parent}<br>id=%{id}<br>ISO3=%{customdata[0]}<br>Count=%{color}<extra></extra>\",\"ids\":[\"High income/Austria\",\"High income/Belgium\",\"Lower middle income/Belize\",\"Lower middle income/Bolivia (Plurinational State of)\",\"Low income/Burkina Faso\",\"High income/Canada\",\"Upper middle income/China\",\"Upper middle income/Costa Rica\",\"Lower middle income/C\\u00f4te d'Ivoire\",\"High income/Denmark\",\"Lower middle income/Egypt\",\"Lower middle income/El Salvador\",\"Low income/Ethiopia\",\"Upper middle income/Fiji\",\"High income/Finland\",\"High income/France\",\"Upper middle income/Gabon\",\"Upper middle income/Guyana\",\"Lower middle income/Honduras\",\"Lower middle income/India\",\"Lower middle income/Indonesia\",\"High income/Japan\",\"Lower middle income/Kenya\",\"High income/Kuwait\",\"Upper middle income/Lebanon\",\"High income/Luxembourg\",\"High income/Malta\",\"Lower middle income/Mauritania\",\"Lower middle income/Morocco\",\"Lower middle income/Nepal\",\"Low income/Niger\",\"Lower middle income/Nigeria\",\"Upper middle income/Peru\",\"Lower middle income/Philippines\",\"High income/Qatar\",\"High income/Republic of Korea\",\"High income/Saudi Arabia\",\"High income/Spain\",\"Lower middle income/Sri Lanka\",\"High income/Sweden\",\"High income/Switzerland\",\"Upper middle income/Thailand\",\"Lower middle income/Tunisia\",\"High income/United Arab Emirates\",\"High income/United Kingdom of Great Britain and Northern Ireland\",\"Lower middle income/United Republic of Tanzania\",\"High income/United States of America\",\"High income\",\"Low income\",\"Lower middle income\",\"Upper middle income\"],\"labels\":[\"Austria\",\"Belgium\",\"Belize\",\"Bolivia (Plurinational State of)\",\"Burkina Faso\",\"Canada\",\"China\",\"Costa Rica\",\"C\\u00f4te d'Ivoire\",\"Denmark\",\"Egypt\",\"El Salvador\",\"Ethiopia\",\"Fiji\",\"Finland\",\"France\",\"Gabon\",\"Guyana\",\"Honduras\",\"India\",\"Indonesia\",\"Japan\",\"Kenya\",\"Kuwait\",\"Lebanon\",\"Luxembourg\",\"Malta\",\"Mauritania\",\"Morocco\",\"Nepal\",\"Niger\",\"Nigeria\",\"Peru\",\"Philippines\",\"Qatar\",\"Republic of Korea\",\"Saudi Arabia\",\"Spain\",\"Sri Lanka\",\"Sweden\",\"Switzerland\",\"Thailand\",\"Tunisia\",\"United Arab Emirates\",\"United Kingdom of Great Britain and Northern Ireland\",\"United Republic of Tanzania\",\"United States of America\",\"High income\",\"Low income\",\"Lower middle income\",\"Upper middle income\"],\"marker\":{\"coloraxis\":\"coloraxis\",\"colors\":[1.0,1.0,1.0,1.0,2.0,1.0,1.0,1.0,1.0,1.0,2.0,1.0,1.0,1.0,4.0,9.0,1.0,1.0,1.0,1.0,1.0,1.0,2.0,1.0,1.0,1.0,1.0,1.0,1.0,1.0,1.0,1.0,1.0,2.0,1.0,1.0,1.0,2.0,1.0,1.0,4.0,1.0,2.0,1.0,3.0,1.0,3.0,3.8947368421052633,1.5,1.380952380952381,1.0]},\"name\":\"\",\"parents\":[\"High income\",\"High income\",\"Lower middle income\",\"Lower middle income\",\"Low income\",\"High income\",\"Upper middle income\",\"Upper middle income\",\"Lower middle income\",\"High income\",\"Lower middle income\",\"Lower middle income\",\"Low income\",\"Upper middle income\",\"High income\",\"High income\",\"Upper middle income\",\"Upper middle income\",\"Lower middle income\",\"Lower middle income\",\"Lower middle income\",\"High income\",\"Lower middle income\",\"High income\",\"Upper middle income\",\"High income\",\"High income\",\"Lower middle income\",\"Lower middle income\",\"Lower middle income\",\"Low income\",\"Lower middle income\",\"Upper middle income\",\"Lower middle income\",\"High income\",\"High income\",\"High income\",\"High income\",\"Lower middle income\",\"High income\",\"High income\",\"Upper middle income\",\"Lower middle income\",\"High income\",\"High income\",\"Lower middle income\",\"High income\",\"\",\"\",\"\",\"\"],\"type\":\"sunburst\",\"values\":[1,1,1,1,2,1,1,1,1,1,2,1,1,1,4,9,1,1,1,1,1,1,2,1,1,1,1,1,1,1,1,1,1,2,1,1,1,2,1,1,4,1,2,1,3,1,3,38,4,21,8]}],                        {\"coloraxis\":{\"colorbar\":{\"title\":{\"text\":\"Count\"}},\"colorscale\":[[0.0,\"rgb(255,245,240)\"],[0.125,\"rgb(254,224,210)\"],[0.25,\"rgb(252,187,161)\"],[0.375,\"rgb(252,146,114)\"],[0.5,\"rgb(251,106,74)\"],[0.625,\"rgb(239,59,44)\"],[0.75,\"rgb(203,24,29)\"],[0.875,\"rgb(165,15,21)\"],[1.0,\"rgb(103,0,13)\"]]},\"legend\":{\"tracegroupgap\":0},\"template\":{\"data\":{\"bar\":[{\"error_x\":{\"color\":\"#2a3f5f\"},\"error_y\":{\"color\":\"#2a3f5f\"},\"marker\":{\"line\":{\"color\":\"#E5ECF6\",\"width\":0.5},\"pattern\":{\"fillmode\":\"overlay\",\"size\":10,\"solidity\":0.2}},\"type\":\"bar\"}],\"barpolar\":[{\"marker\":{\"line\":{\"color\":\"#E5ECF6\",\"width\":0.5},\"pattern\":{\"fillmode\":\"overlay\",\"size\":10,\"solidity\":0.2}},\"type\":\"barpolar\"}],\"carpet\":[{\"aaxis\":{\"endlinecolor\":\"#2a3f5f\",\"gridcolor\":\"white\",\"linecolor\":\"white\",\"minorgridcolor\":\"white\",\"startlinecolor\":\"#2a3f5f\"},\"baxis\":{\"endlinecolor\":\"#2a3f5f\",\"gridcolor\":\"white\",\"linecolor\":\"white\",\"minorgridcolor\":\"white\",\"startlinecolor\":\"#2a3f5f\"},\"type\":\"carpet\"}],\"choropleth\":[{\"colorbar\":{\"outlinewidth\":0,\"ticks\":\"\"},\"type\":\"choropleth\"}],\"contour\":[{\"colorbar\":{\"outlinewidth\":0,\"ticks\":\"\"},\"colorscale\":[[0.0,\"#0d0887\"],[0.1111111111111111,\"#46039f\"],[0.2222222222222222,\"#7201a8\"],[0.3333333333333333,\"#9c179e\"],[0.4444444444444444,\"#bd3786\"],[0.5555555555555556,\"#d8576b\"],[0.6666666666666666,\"#ed7953\"],[0.7777777777777778,\"#fb9f3a\"],[0.8888888888888888,\"#fdca26\"],[1.0,\"#f0f921\"]],\"type\":\"contour\"}],\"contourcarpet\":[{\"colorbar\":{\"outlinewidth\":0,\"ticks\":\"\"},\"type\":\"contourcarpet\"}],\"heatmap\":[{\"colorbar\":{\"outlinewidth\":0,\"ticks\":\"\"},\"colorscale\":[[0.0,\"#0d0887\"],[0.1111111111111111,\"#46039f\"],[0.2222222222222222,\"#7201a8\"],[0.3333333333333333,\"#9c179e\"],[0.4444444444444444,\"#bd3786\"],[0.5555555555555556,\"#d8576b\"],[0.6666666666666666,\"#ed7953\"],[0.7777777777777778,\"#fb9f3a\"],[0.8888888888888888,\"#fdca26\"],[1.0,\"#f0f921\"]],\"type\":\"heatmap\"}],\"heatmapgl\":[{\"colorbar\":{\"outlinewidth\":0,\"ticks\":\"\"},\"colorscale\":[[0.0,\"#0d0887\"],[0.1111111111111111,\"#46039f\"],[0.2222222222222222,\"#7201a8\"],[0.3333333333333333,\"#9c179e\"],[0.4444444444444444,\"#bd3786\"],[0.5555555555555556,\"#d8576b\"],[0.6666666666666666,\"#ed7953\"],[0.7777777777777778,\"#fb9f3a\"],[0.8888888888888888,\"#fdca26\"],[1.0,\"#f0f921\"]],\"type\":\"heatmapgl\"}],\"histogram\":[{\"marker\":{\"pattern\":{\"fillmode\":\"overlay\",\"size\":10,\"solidity\":0.2}},\"type\":\"histogram\"}],\"histogram2d\":[{\"colorbar\":{\"outlinewidth\":0,\"ticks\":\"\"},\"colorscale\":[[0.0,\"#0d0887\"],[0.1111111111111111,\"#46039f\"],[0.2222222222222222,\"#7201a8\"],[0.3333333333333333,\"#9c179e\"],[0.4444444444444444,\"#bd3786\"],[0.5555555555555556,\"#d8576b\"],[0.6666666666666666,\"#ed7953\"],[0.7777777777777778,\"#fb9f3a\"],[0.8888888888888888,\"#fdca26\"],[1.0,\"#f0f921\"]],\"type\":\"histogram2d\"}],\"histogram2dcontour\":[{\"colorbar\":{\"outlinewidth\":0,\"ticks\":\"\"},\"colorscale\":[[0.0,\"#0d0887\"],[0.1111111111111111,\"#46039f\"],[0.2222222222222222,\"#7201a8\"],[0.3333333333333333,\"#9c179e\"],[0.4444444444444444,\"#bd3786\"],[0.5555555555555556,\"#d8576b\"],[0.6666666666666666,\"#ed7953\"],[0.7777777777777778,\"#fb9f3a\"],[0.8888888888888888,\"#fdca26\"],[1.0,\"#f0f921\"]],\"type\":\"histogram2dcontour\"}],\"mesh3d\":[{\"colorbar\":{\"outlinewidth\":0,\"ticks\":\"\"},\"type\":\"mesh3d\"}],\"parcoords\":[{\"line\":{\"colorbar\":{\"outlinewidth\":0,\"ticks\":\"\"}},\"type\":\"parcoords\"}],\"pie\":[{\"automargin\":true,\"type\":\"pie\"}],\"scatter\":[{\"marker\":{\"colorbar\":{\"outlinewidth\":0,\"ticks\":\"\"}},\"type\":\"scatter\"}],\"scatter3d\":[{\"line\":{\"colorbar\":{\"outlinewidth\":0,\"ticks\":\"\"}},\"marker\":{\"colorbar\":{\"outlinewidth\":0,\"ticks\":\"\"}},\"type\":\"scatter3d\"}],\"scattercarpet\":[{\"marker\":{\"colorbar\":{\"outlinewidth\":0,\"ticks\":\"\"}},\"type\":\"scattercarpet\"}],\"scattergeo\":[{\"marker\":{\"colorbar\":{\"outlinewidth\":0,\"ticks\":\"\"}},\"type\":\"scattergeo\"}],\"scattergl\":[{\"marker\":{\"colorbar\":{\"outlinewidth\":0,\"ticks\":\"\"}},\"type\":\"scattergl\"}],\"scattermapbox\":[{\"marker\":{\"colorbar\":{\"outlinewidth\":0,\"ticks\":\"\"}},\"type\":\"scattermapbox\"}],\"scatterpolar\":[{\"marker\":{\"colorbar\":{\"outlinewidth\":0,\"ticks\":\"\"}},\"type\":\"scatterpolar\"}],\"scatterpolargl\":[{\"marker\":{\"colorbar\":{\"outlinewidth\":0,\"ticks\":\"\"}},\"type\":\"scatterpolargl\"}],\"scatterternary\":[{\"marker\":{\"colorbar\":{\"outlinewidth\":0,\"ticks\":\"\"}},\"type\":\"scatterternary\"}],\"surface\":[{\"colorbar\":{\"outlinewidth\":0,\"ticks\":\"\"},\"colorscale\":[[0.0,\"#0d0887\"],[0.1111111111111111,\"#46039f\"],[0.2222222222222222,\"#7201a8\"],[0.3333333333333333,\"#9c179e\"],[0.4444444444444444,\"#bd3786\"],[0.5555555555555556,\"#d8576b\"],[0.6666666666666666,\"#ed7953\"],[0.7777777777777778,\"#fb9f3a\"],[0.8888888888888888,\"#fdca26\"],[1.0,\"#f0f921\"]],\"type\":\"surface\"}],\"table\":[{\"cells\":{\"fill\":{\"color\":\"#EBF0F8\"},\"line\":{\"color\":\"white\"}},\"header\":{\"fill\":{\"color\":\"#C8D4E3\"},\"line\":{\"color\":\"white\"}},\"type\":\"table\"}]},\"layout\":{\"annotationdefaults\":{\"arrowcolor\":\"#2a3f5f\",\"arrowhead\":0,\"arrowwidth\":1},\"autotypenumbers\":\"strict\",\"coloraxis\":{\"colorbar\":{\"outlinewidth\":0,\"ticks\":\"\"}},\"colorscale\":{\"diverging\":[[0,\"#8e0152\"],[0.1,\"#c51b7d\"],[0.2,\"#de77ae\"],[0.3,\"#f1b6da\"],[0.4,\"#fde0ef\"],[0.5,\"#f7f7f7\"],[0.6,\"#e6f5d0\"],[0.7,\"#b8e186\"],[0.8,\"#7fbc41\"],[0.9,\"#4d9221\"],[1,\"#276419\"]],\"sequential\":[[0.0,\"#0d0887\"],[0.1111111111111111,\"#46039f\"],[0.2222222222222222,\"#7201a8\"],[0.3333333333333333,\"#9c179e\"],[0.4444444444444444,\"#bd3786\"],[0.5555555555555556,\"#d8576b\"],[0.6666666666666666,\"#ed7953\"],[0.7777777777777778,\"#fb9f3a\"],[0.8888888888888888,\"#fdca26\"],[1.0,\"#f0f921\"]],\"sequentialminus\":[[0.0,\"#0d0887\"],[0.1111111111111111,\"#46039f\"],[0.2222222222222222,\"#7201a8\"],[0.3333333333333333,\"#9c179e\"],[0.4444444444444444,\"#bd3786\"],[0.5555555555555556,\"#d8576b\"],[0.6666666666666666,\"#ed7953\"],[0.7777777777777778,\"#fb9f3a\"],[0.8888888888888888,\"#fdca26\"],[1.0,\"#f0f921\"]]},\"colorway\":[\"#636efa\",\"#EF553B\",\"#00cc96\",\"#ab63fa\",\"#FFA15A\",\"#19d3f3\",\"#FF6692\",\"#B6E880\",\"#FF97FF\",\"#FECB52\"],\"font\":{\"color\":\"#2a3f5f\"},\"geo\":{\"bgcolor\":\"white\",\"lakecolor\":\"white\",\"landcolor\":\"#E5ECF6\",\"showlakes\":true,\"showland\":true,\"subunitcolor\":\"white\"},\"hoverlabel\":{\"align\":\"left\"},\"hovermode\":\"closest\",\"mapbox\":{\"style\":\"light\"},\"paper_bgcolor\":\"white\",\"plot_bgcolor\":\"#E5ECF6\",\"polar\":{\"angularaxis\":{\"gridcolor\":\"white\",\"linecolor\":\"white\",\"ticks\":\"\"},\"bgcolor\":\"#E5ECF6\",\"radialaxis\":{\"gridcolor\":\"white\",\"linecolor\":\"white\",\"ticks\":\"\"}},\"scene\":{\"xaxis\":{\"backgroundcolor\":\"#E5ECF6\",\"gridcolor\":\"white\",\"gridwidth\":2,\"linecolor\":\"white\",\"showbackground\":true,\"ticks\":\"\",\"zerolinecolor\":\"white\"},\"yaxis\":{\"backgroundcolor\":\"#E5ECF6\",\"gridcolor\":\"white\",\"gridwidth\":2,\"linecolor\":\"white\",\"showbackground\":true,\"ticks\":\"\",\"zerolinecolor\":\"white\"},\"zaxis\":{\"backgroundcolor\":\"#E5ECF6\",\"gridcolor\":\"white\",\"gridwidth\":2,\"linecolor\":\"white\",\"showbackground\":true,\"ticks\":\"\",\"zerolinecolor\":\"white\"}},\"shapedefaults\":{\"line\":{\"color\":\"#2a3f5f\"}},\"ternary\":{\"aaxis\":{\"gridcolor\":\"white\",\"linecolor\":\"white\",\"ticks\":\"\"},\"baxis\":{\"gridcolor\":\"white\",\"linecolor\":\"white\",\"ticks\":\"\"},\"bgcolor\":\"#E5ECF6\",\"caxis\":{\"gridcolor\":\"white\",\"linecolor\":\"white\",\"ticks\":\"\"}},\"title\":{\"x\":0.05},\"xaxis\":{\"automargin\":true,\"gridcolor\":\"white\",\"linecolor\":\"white\",\"ticks\":\"\",\"title\":{\"standoff\":15},\"zerolinecolor\":\"white\",\"zerolinewidth\":2},\"yaxis\":{\"automargin\":true,\"gridcolor\":\"white\",\"linecolor\":\"white\",\"ticks\":\"\",\"title\":{\"standoff\":15},\"zerolinecolor\":\"white\",\"zerolinewidth\":2}}},\"title\":{\"text\":\"Sunburst Plot of IGO Organization Count by Income Group and Country (COP2019)\"}},                        {\"responsive\": true}                    ).then(function(){\n",
       "                            \n",
       "var gd = document.getElementById('f0a66290-4667-4d7e-ac13-8f3453e939a8');\n",
       "var x = new MutationObserver(function (mutations, observer) {{\n",
       "        var display = window.getComputedStyle(gd).display;\n",
       "        if (!display || display === 'none') {{\n",
       "            console.log([gd, 'removed!']);\n",
       "            Plotly.purge(gd);\n",
       "            observer.disconnect();\n",
       "        }}\n",
       "}});\n",
       "\n",
       "// Listen for the removal of the full notebook cells\n",
       "var notebookContainer = gd.closest('#notebook-container');\n",
       "if (notebookContainer) {{\n",
       "    x.observe(notebookContainer, {childList: true});\n",
       "}}\n",
       "\n",
       "// Listen for the clearing of the current output cell\n",
       "var outputEl = gd.closest('.output');\n",
       "if (outputEl) {{\n",
       "    x.observe(outputEl, {childList: true});\n",
       "}}\n",
       "\n",
       "                        })                };                });            </script>        </div>"
      ]
     },
     "metadata": {},
     "output_type": "display_data"
    }
   ],
   "source": [
    "## IMPORTANT NOTE: THE FOLLOWING PLOT EXCLUDES VENEZUELA; COULD NOT FIND INCOME GROUP DATA ON VENEZUELA...\n",
    "fig = px.sunburst(IGO_country_stats[IGO_country_stats.ISO3 != \"VEN\"], \n",
    "                  path=['Income_Group', 'Country'], \n",
    "                  values='Count',\n",
    "                  color='Count', hover_data=['ISO3'],\n",
    "                  color_continuous_scale='reds',\n",
    "                  title = \"Sunburst Plot of IGO Organization Count by Income Group and Country (COP2019)\")\n",
    "fig.write_html(\"sunburst_IGOs_2.html\")\n",
    "fig.show()"
   ]
  },
  {
   "cell_type": "code",
   "execution_count": null,
   "metadata": {},
   "outputs": [],
   "source": []
  }
 ],
 "metadata": {
  "interpreter": {
   "hash": "a8df6124dead598cda21789bdd4559050e0eb363625c641ab2c9d187742f88ae"
  },
  "kernelspec": {
   "display_name": "py_38_env",
   "language": "python",
   "name": "py_38_env"
  },
  "language_info": {
   "codemirror_mode": {
    "name": "ipython",
    "version": 3
   },
   "file_extension": ".py",
   "mimetype": "text/x-python",
   "name": "python",
   "nbconvert_exporter": "python",
   "pygments_lexer": "ipython3",
   "version": "3.8.2"
  },
  "varInspector": {
   "cols": {
    "lenName": 16,
    "lenType": 16,
    "lenVar": 40
   },
   "kernels_config": {
    "python": {
     "delete_cmd_postfix": "",
     "delete_cmd_prefix": "del ",
     "library": "var_list.py",
     "varRefreshCmd": "print(var_dic_list())"
    },
    "r": {
     "delete_cmd_postfix": ") ",
     "delete_cmd_prefix": "rm(",
     "library": "var_list.r",
     "varRefreshCmd": "cat(var_dic_list()) "
    }
   },
   "types_to_exclude": [
    "module",
    "function",
    "builtin_function_or_method",
    "instance",
    "_Feature"
   ],
   "window_display": false
  }
 },
 "nbformat": 4,
 "nbformat_minor": 4
}
