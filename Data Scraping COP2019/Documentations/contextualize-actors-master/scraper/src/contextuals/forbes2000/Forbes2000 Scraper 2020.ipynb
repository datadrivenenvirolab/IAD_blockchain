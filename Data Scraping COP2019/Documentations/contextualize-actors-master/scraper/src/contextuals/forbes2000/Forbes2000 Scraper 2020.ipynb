{
 "cells": [
  {
   "cell_type": "markdown",
   "metadata": {},
   "source": [
    "# Forbes2000 Scraper"
   ]
  },
  {
   "cell_type": "markdown",
   "metadata": {},
   "source": [
    "#### Steps to get the link to the raw data:\n",
    "\n",
    "1) Go to the website with all the companies listed - [Current Link](https://www.forbes.com/global2000/#6aeaea16335d)\n",
    "\n",
    "2) Inspect the page, and go to the `Network` Tab\n",
    "\n",
    "3) Refresh the page\n",
    "\n",
    "4) Sort the scripts by size, and open the script with the raw data. It should be the largest one (around 1 mb)\n",
    "\n",
    "5) Copy the link, __run the next cell__, and paste the link to get the scraped data in a csv"
   ]
  },
  {
   "cell_type": "code",
   "execution_count": null,
   "metadata": {},
   "outputs": [],
   "source": [
    "import requests, json, csv, ast\n",
    "from bs4 import BeautifulSoup\n",
    "from requests.packages.urllib3.exceptions import *\n",
    "\n",
    "link = input(\"What is the link for the data? \")\n",
    "page = requests.get(link)\n",
    "text = BeautifulSoup(page.content, 'lxml').find(\"p\").text\n",
    "data = json.loads(text)\n",
    "\n",
    "final = []\n",
    "\n",
    "for row in data['organizationList']['organizationsLists']:\n",
    "    new = {'position': '', 'organization': '', 'country': '', 'revenue': '', 'profits': '', 'assets': '', 'marketValue': '', 'employeesList': '', }\n",
    "    for k,v in row.items():\n",
    "        if k in new:\n",
    "            if k == 'employeesList': \n",
    "                new[k] = int(v[0])\n",
    "            elif k == 'organization':\n",
    "                new[k] = v['name']\n",
    "            else:\n",
    "                try:\n",
    "                    new[k] = int(v)\n",
    "                except:\n",
    "                    new[k] = v\n",
    "    final.append(new)\n",
    "                     \n",
    "output = sorted(final, key = lambda i: i['position'])\n",
    "\n",
    "with open(\"forbes2000_scraped2020.csv\", 'w', newline='', encoding = 'utf-8-sig') as csvfile:\n",
    "    spamwriter = csv.writer(csvfile, delimiter=',')\n",
    "    header = ['Rank','Company', 'Country/Territory', 'Sales ($M)', 'Profits ($M)', 'Assets ($M)', 'Market Value ($M)', 'Employees']\n",
    "    spamwriter.writerow(header)\n",
    "    for x in output:\n",
    "        row = list(x.values())\n",
    "        spamwriter.writerow(row)\n",
    "        \n",
    "print()\n",
    "print(\"The file has been created!\")"
   ]
  },
  {
   "cell_type": "markdown",
   "metadata": {},
   "source": [
    "### Links for raw data in past years\n",
    "\n",
    "__2020:__ https://www.forbes.com/forbesapi/org/global2000/2020/position/true.json?limit=2000"
   ]
  },
  {
   "cell_type": "markdown",
   "metadata": {},
   "source": [
    "#### Flagging errors/blanks in 2020 Employees Data"
   ]
  },
  {
   "cell_type": "code",
   "execution_count": null,
   "metadata": {},
   "outputs": [],
   "source": [
    "nums = {}\n",
    "\n",
    "for x in output:\n",
    "    if x['employeesList']: nums[x['position']] = x['employeesList']\n",
    "    \n",
    "nums = sorted(nums.items(), key=lambda x: x[1])[:150]\n",
    "nums = [x[0] for x in nums]\n",
    "\n",
    "for x in output:\n",
    "    if x['position'] in nums:\n",
    "        x['flag'] = 1\n",
    "    elif not x['employeesList']:\n",
    "        x['flag'] = 1\n",
    "    else:\n",
    "        x['flag'] = 0\n",
    "        \n",
    "with open(\"forbes2000_scraped2020.csv\", 'w', newline='', encoding = 'utf-8-sig') as csvfile:\n",
    "    spamwriter = csv.writer(csvfile, delimiter=',')\n",
    "    header = ['Rank','Company', 'Country/Territory', 'Sales ($M)', 'Profits ($M)', 'Assets ($M)', 'Market Value ($M)', 'Employees', 'Flag']\n",
    "    spamwriter.writerow(header)\n",
    "    for x in output:\n",
    "        row = list(x.values())\n",
    "        spamwriter.writerow(row)\n",
    "        \n",
    "print('File has been created!')"
   ]
  }
 ],
 "metadata": {
  "kernelspec": {
   "display_name": "Python 3",
   "language": "python",
   "name": "python3"
  },
  "language_info": {
   "codemirror_mode": {
    "name": "ipython",
    "version": 3
   },
   "file_extension": ".py",
   "mimetype": "text/x-python",
   "name": "python",
   "nbconvert_exporter": "python",
   "pygments_lexer": "ipython3",
   "version": "3.7.1"
  }
 },
 "nbformat": 4,
 "nbformat_minor": 2
}
