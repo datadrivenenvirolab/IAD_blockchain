{
 "cells": [
  {
   "cell_type": "code",
   "execution_count": 1,
   "metadata": {},
   "outputs": [],
   "source": [
    "# Short Script to scrape the actions plans correctly "
   ]
  },
  {
   "cell_type": "code",
   "execution_count": 1,
   "metadata": {},
   "outputs": [],
   "source": [
    "import urllib.request, urllib.parse, urllib.error, json, re, random\n",
    "from bs4 import BeautifulSoup\n",
    "import pandas as pd\n",
    "import time\n",
    "import requests\n",
    "import datetime as dt\n",
    "from tqdm import tqdm"
   ]
  },
  {
   "cell_type": "code",
   "execution_count": 2,
   "metadata": {},
   "outputs": [],
   "source": [
    "# function that takes in a url and returns the html soup\n",
    "\n",
    "THROTTLE_TIME = 0.2\n",
    "\n",
    "def getPage(link):\n",
    "    time.sleep(THROTTLE_TIME * (random.random() * 2))\n",
    "    result = ''\n",
    "    while result == '':\n",
    "        try:\n",
    "            result = requests.get(url)\n",
    "        except:\n",
    "            print(\"Connection refused by the server, sleeping for 15 seconds...\")\n",
    "            time.sleep(15)\n",
    "            print(\"Continuing...\")\n",
    "            continue\n",
    "    if result.status_code == 200:\n",
    "        response = result.content.decode('utf-8')\n",
    "        response = BeautifulSoup(response, \"html.parser\")\n",
    "        return response\n",
    "    else:\n",
    "        print(\"Request failed\")\n",
    "        return None"
   ]
  },
  {
   "cell_type": "code",
   "execution_count": 3,
   "metadata": {},
   "outputs": [],
   "source": [
    "# Initialize dataframe to store data\n",
    "action_plans = pd.DataFrame()\n",
    "skipped_cities = pd.DataFrame()"
   ]
  },
  {
   "cell_type": "code",
   "execution_count": 4,
   "metadata": {},
   "outputs": [
    {
     "ename": "AttributeError",
     "evalue": "'NoneType' object has no attribute 'text'",
     "output_type": "error",
     "traceback": [
      "\u001b[1;31m---------------------------------------------------------------------------\u001b[0m",
      "\u001b[1;31mAttributeError\u001b[0m                            Traceback (most recent call last)",
      "\u001b[1;32m<ipython-input-4-179307b41ae1>\u001b[0m in \u001b[0;36m<module>\u001b[1;34m\u001b[0m\n\u001b[0;32m      2\u001b[0m \u001b[0murl\u001b[0m \u001b[1;33m=\u001b[0m \u001b[1;34m'https://carbonn.org/entities?page='\u001b[0m\u001b[1;33m\u001b[0m\u001b[0m\n\u001b[0;32m      3\u001b[0m \u001b[0mp\u001b[0m \u001b[1;33m=\u001b[0m \u001b[0mBeautifulSoup\u001b[0m\u001b[1;33m(\u001b[0m\u001b[0mrequests\u001b[0m\u001b[1;33m.\u001b[0m\u001b[0mget\u001b[0m\u001b[1;33m(\u001b[0m\u001b[0murl\u001b[0m \u001b[1;33m+\u001b[0m \u001b[1;34m'1'\u001b[0m\u001b[1;33m)\u001b[0m\u001b[1;33m.\u001b[0m\u001b[0mcontent\u001b[0m\u001b[1;33m,\u001b[0m \u001b[1;34m'lxml'\u001b[0m\u001b[1;33m)\u001b[0m\u001b[1;33m\u001b[0m\u001b[0m\n\u001b[1;32m----> 4\u001b[1;33m \u001b[0mn_pages\u001b[0m \u001b[1;33m=\u001b[0m \u001b[0mp\u001b[0m\u001b[1;33m.\u001b[0m\u001b[0mfind\u001b[0m\u001b[1;33m(\u001b[0m\u001b[1;34m'span'\u001b[0m\u001b[1;33m,\u001b[0m \u001b[1;33m{\u001b[0m\u001b[1;34m'class'\u001b[0m\u001b[1;33m:\u001b[0m \u001b[1;34m'results-counter'\u001b[0m\u001b[1;33m}\u001b[0m\u001b[1;33m)\u001b[0m\u001b[1;33m.\u001b[0m\u001b[0mtext\u001b[0m\u001b[1;33m.\u001b[0m\u001b[0mreplace\u001b[0m\u001b[1;33m(\u001b[0m\u001b[1;34m' registered entities'\u001b[0m\u001b[1;33m,\u001b[0m \u001b[1;34m''\u001b[0m\u001b[1;33m)\u001b[0m\u001b[1;33m\u001b[0m\u001b[0m\n\u001b[0m\u001b[0;32m      5\u001b[0m \u001b[0mn_pages\u001b[0m \u001b[1;33m=\u001b[0m \u001b[0mint\u001b[0m\u001b[1;33m(\u001b[0m\u001b[0mn_pages\u001b[0m\u001b[1;33m)\u001b[0m \u001b[1;33m//\u001b[0m \u001b[1;36m20\u001b[0m\u001b[1;33m\u001b[0m\u001b[0m\n",
      "\u001b[1;31mAttributeError\u001b[0m: 'NoneType' object has no attribute 'text'"
     ]
    }
   ],
   "source": [
    "# Get list of cities\n",
    "url = 'https://carbonn.org/entities?page='\n",
    "p = BeautifulSoup(requests.get(url + '1').content, 'lxml')\n",
    "n_pages = p.find('span', {'class': 'results-counter'}).text.replace(' registered entities', '')\n",
    "n_pages = int(n_pages) // 20"
   ]
  },
  {
   "cell_type": "code",
   "execution_count": null,
   "metadata": {},
   "outputs": [],
   "source": [
    "cities = []\n",
    "for i in tqdm(range(1,n_pages+1)):\n",
    "    p = requests.get(url + str(i)).content\n",
    "    p = BeautifulSoup(p, 'lxml')\n",
    "    for lf in p.find_all('div', {'class': 'list-frame'}):\n",
    "        temp = {}\n",
    "        name = lf.find('a', {'class': 'open'}).text.split(', ')\n",
    "        temp['country'] = name[-1]\n",
    "        temp['name'] = ', '.join(name)\n",
    "        temp['city_profile_url'] = 'https://carbonn.org' + lf.find('a', {'class': 'btn'})['href']\n",
    "        cities.append(temp)"
   ]
  },
  {
   "cell_type": "code",
   "execution_count": null,
   "metadata": {},
   "outputs": [],
   "source": [
    "cities = pd.DataFrame(cities)\n",
    "# cities.to_csv('../../../../output/actors/carbonn/2019carbonn_cities.csv')"
   ]
  },
  {
   "cell_type": "code",
   "execution_count": null,
   "metadata": {},
   "outputs": [],
   "source": [
    "# This loop scrapes the action plans correctly, but takes awhile. going to run it when I have more time\n",
    "for city, row in tqdm(cities.iterrows()):\n",
    "    name = row['name']\n",
    "    country = row['country']\n",
    "    url = row['city_profile_url']\n",
    "    url = url.split('&text')[0]\n",
    "    soup = getPage(url)\n",
    "    if soup == None:\n",
    "        holder={}\n",
    "        holder['city']=name\n",
    "        holder['url']=url\n",
    "        skipped_cities = skipped_cities.append(holder, ignore_index=True)\n",
    "        continue\n",
    "    holder = {}\n",
    "    # action plans\n",
    "    results = soup.find('div', id='tab5')\n",
    "    if results is not None:\n",
    "        plans = results.find_all('div', class_='frame')\n",
    "        for plan in plans:\n",
    "            holder['city'] = name\n",
    "            holder['country'] = country\n",
    "            plan_text = plan.find('a', class_='opener').get_text()\n",
    "            plan_text = plan_text.replace('\\n', '')\n",
    "            plan_text = plan_text.strip()\n",
    "            holder['plan_name'] = plan_text\n",
    "            text= plan.li.get_text()\n",
    "            year = text.split(': ')[1]\n",
    "            holder['start year'] = year\n",
    "            text2= plan.li.next_sibling.next_sibling.get_text()\n",
    "            type_ = text2.split(': ')[1]\n",
    "            holder['plan_type'] = type_\n",
    "            action_plans = action_plans.append(holder, ignore_index=True)"
   ]
  },
  {
   "cell_type": "code",
   "execution_count": null,
   "metadata": {},
   "outputs": [],
   "source": [
    "date = dt.datetime.today().strftime(\"%m.%d.%y\")\n",
    "action_plans.to_csv('../../../../output/actors/carbonn/'+date+'carbonn_action_plans.csv', encoding = \"utf-8\")"
   ]
  }
 ],
 "metadata": {
  "kernelspec": {
   "display_name": "Python 3",
   "language": "python",
   "name": "python3"
  },
  "language_info": {
   "codemirror_mode": {
    "name": "ipython",
    "version": 3
   },
   "file_extension": ".py",
   "mimetype": "text/x-python",
   "name": "python",
   "nbconvert_exporter": "python",
   "pygments_lexer": "ipython3",
   "version": "3.6.5"
  }
 },
 "nbformat": 4,
 "nbformat_minor": 2
}
