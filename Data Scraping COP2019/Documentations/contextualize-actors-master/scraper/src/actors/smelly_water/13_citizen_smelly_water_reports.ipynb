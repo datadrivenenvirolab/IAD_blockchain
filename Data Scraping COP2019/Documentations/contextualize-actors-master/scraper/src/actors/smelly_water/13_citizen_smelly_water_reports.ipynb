{
 "cells": [
  {
   "cell_type": "code",
   "execution_count": 1,
   "metadata": {},
   "outputs": [],
   "source": [
    "import requests\n",
    "import xmltodict\n",
    "import datetime\n",
    "import os\n",
    "import pandas as pd"
   ]
  },
  {
   "cell_type": "code",
   "execution_count": 2,
   "metadata": {},
   "outputs": [],
   "source": [
    "# uses the xmltodict library to convert XML to JSON\n",
    "\n",
    "def convertXMLtoJSON(xml, xml_attribs=True):\n",
    "    return xmltodict.parse(xml, xml_attribs=xml_attribs)"
   ]
  },
  {
   "cell_type": "code",
   "execution_count": 3,
   "metadata": {},
   "outputs": [],
   "source": [
    "# Return a JSON response to an XML query defined in http://123.57.215.15:13000/CommonSearchService.svc?singleWsdl\n",
    "\n",
    "def get(xml):\n",
    "    soapaction = xml.split('<s:Body><')[1].split(' ')[0]\n",
    "    headers = {'Content-Type': 'text/xml', \n",
    "               'Referer': 'http://gz.hcstzz.com', \n",
    "               'User-Agent': 'Mozilla/5.0 (Macintosh; Intel Mac OS X 10_12_3) AppleWebKit/602.4.8 (KHTML, like Gecko) Version/10.0.3 Safari/602.4.8', \n",
    "               'Soapaction': \"http://tempuri.org/ICommonSearchService/\" + soapaction\n",
    "              }\n",
    "    xml = xml.encode(encoding='utf-8')\n",
    "    resp = requests.post('http://123.57.215.15:13000/CommonSearchService.svc', data=xml, headers=headers).text\n",
    "    return convertXMLtoJSON(resp)"
   ]
  },
  {
   "cell_type": "markdown",
   "metadata": {},
   "source": [
    "# Reports"
   ]
  },
  {
   "cell_type": "code",
   "execution_count": 4,
   "metadata": {},
   "outputs": [
    {
     "data": {
      "text/plain": [
       "(8667, 57)"
      ]
     },
     "execution_count": 4,
     "metadata": {},
     "output_type": "execute_result"
    }
   ],
   "source": [
    "### Get all data\n",
    "\n",
    "# To edit the xml query:\n",
    "#  - change 'SelectAllReportListByDate' to another xs:element defined in the \n",
    "#    CommonSearchService.svc file linked above.\n",
    "#  - replace the tags within <SelectAllReportListByDate> with the elements \n",
    "#    described in the <xs:sequence> tag in the CommonSearchService.svc file. \n",
    "\n",
    "xml_query = \"\"\"<s:Envelope xmlns:s=\"http://schemas.xmlsoap.org/soap/envelope/\"><s:Body><SelectAllReportListByDate xmlns=\"http://tempuri.org/\"><ip>hcstzz.com</ip><province></province><city></city><year></year><quarter></quarter><status></status><startDate></startDate><endDate></endDate></SelectAllReportListByDate></s:Body></s:Envelope>\"\"\"\n",
    "response = get(xml_query)\n",
    "response = response['s:Envelope']['s:Body']['SelectAllReportListByDateResponse']['SelectAllReportListByDateResult']['a:M_T_Report']\n",
    "response = pd.DataFrame(response)\n",
    "response.shape"
   ]
  },
  {
   "cell_type": "code",
   "execution_count": 5,
   "metadata": {},
   "outputs": [],
   "source": [
    "# Columns to extract from the full dataframe\n",
    "\n",
    "extractCols = ['a:Report_ID', 'a:Qwyc', 'a:Ljpf', 'a:Ysyc', 'a:Wslp', 'a:River_Name', \n",
    "               'a:Report_Content1', 'a:Report_Content2', \n",
    "               'a:Report_Latitude', 'a:Report_Longitude', 'a:Report_SubTime', 'a:adcode',\n",
    "               'a:Custom_NickName',\n",
    "               'a:ReportQuarter', 'a:ReportYear', \n",
    "               'a:AreaName', 'a:AreaCode', 'a:city', 'a:district', 'a:province']\n",
    "\n",
    "renameCols = {\n",
    "    'a:Qwyc': 'smell', \n",
    "    'a:Ljpf': 'isTrashFloating', \n",
    "    'a:Ysyc': 'isWaterColorNormal', \n",
    "    'a:Wslp': 'sewage'  \n",
    "}"
   ]
  },
  {
   "cell_type": "code",
   "execution_count": 6,
   "metadata": {},
   "outputs": [],
   "source": [
    "# Define path to location for file export. \n",
    "\n",
    "ROOT = os.pardir\n",
    "RAW_DIR    = os.path.join(ROOT, 'data', 'raw', 'smelly_water')\n",
    "OUT_PATH = os.path.join(RAW_DIR, \"all_smelly.xls\")"
   ]
  },
  {
   "cell_type": "code",
   "execution_count": 7,
   "metadata": {},
   "outputs": [],
   "source": [
    "# Export response\n",
    "\n",
    "response = response[extractCols].rename(columns=renameCols)\n",
    "response.to_excel(OUT_PATH)"
   ]
  },
  {
   "cell_type": "code",
   "execution_count": 8,
   "metadata": {},
   "outputs": [
    {
     "name": "stdout",
     "output_type": "stream",
     "text": [
      "['4' '3' '2' '1']\n",
      "['4' '3' '2' '1']\n"
     ]
    }
   ],
   "source": [
    "# Check what quarters are present in each year. \n",
    "\n",
    "print(response[response['a:ReportYear'] == '2016']['a:ReportQuarter'].unique())\n",
    "print(response[response['a:ReportYear'] == '2017']['a:ReportQuarter'].unique())"
   ]
  },
  {
   "cell_type": "markdown",
   "metadata": {
    "collapsed": true
   },
   "source": [
    "# Administrative Data"
   ]
  },
  {
   "cell_type": "code",
   "execution_count": 14,
   "metadata": {},
   "outputs": [],
   "source": [
    "# all\n",
    "\n",
    "xml_query = \"\"\"<s:Envelope xmlns:s=\"http://schemas.xmlsoap.org/soap/envelope/\"><s:Body><SelectWaterDeclareBaseInfoByWhereSql xmlns=\"http://tempuri.org/\"><whereSql></whereSql></SelectWaterDeclareBaseInfoByWhereSql></s:Body></s:Envelope>\"\"\"\n",
    "response = get(xml_query)\n",
    "response = response['s:Envelope']['s:Body']['SelectWaterDeclareBaseInfoByWhereSqlResponse']['SelectWaterDeclareBaseInfoByWhereSqlResult']['a:M_T_Water_Declare_based_info']\n",
    "response = pd.DataFrame(response)\n",
    "response = response.rename(columns=renameCols)\n",
    "response.to_excel(os.path.join(RAW_DIR, 'all_smelly_water_admin_data.xls'))\n",
    "response.shape"
   ]
  },
  {
   "cell_type": "code",
   "execution_count": 12,
   "metadata": {},
   "outputs": [],
   "source": [
    "# wei3 qi3dong4\n",
    "# not started\n",
    "\n",
    "xml_query = \"\"\"<s:Envelope xmlns:s=\"http://schemas.xmlsoap.org/soap/envelope/\"><s:Body><SelectWaterDeclareBaseInfoByWhereSql xmlns=\"http://tempuri.org/\"><whereSql> and States ='未启动' </whereSql></SelectWaterDeclareBaseInfoByWhereSql></s:Body></s:Envelope>\"\"\"\n",
    "response = get(xml_query)\n",
    "response = response['s:Envelope']['s:Body']['SelectWaterDeclareBaseInfoByWhereSqlResponse']['SelectWaterDeclareBaseInfoByWhereSqlResult'] #['a:M_T_Water_Declare_based_info']\n",
    "response = pd.DataFrame(response)\n",
    "response = response.rename(columns=renameCols)\n",
    "response.to_excel(os.path.join(RAW_DIR, 'wei_qidong_smelly_water_admin.xls'))\n",
    "response.shape"
   ]
  },
  {
   "cell_type": "code",
   "execution_count": 16,
   "metadata": {},
   "outputs": [
    {
     "data": {
      "text/plain": [
       "(91, 64)"
      ]
     },
     "execution_count": 16,
     "metadata": {},
     "output_type": "execute_result"
    }
   ],
   "source": [
    "# fang1an4 zhi4ding4\n",
    "# ___ development\n",
    "\n",
    "xml_query = \"\"\"<s:Envelope xmlns:s=\"http://schemas.xmlsoap.org/soap/envelope/\"><s:Body><SelectWaterDeclareBaseInfoByWhereSql xmlns=\"http://tempuri.org/\"><whereSql> and States ='方案制定' </whereSql></SelectWaterDeclareBaseInfoByWhereSql></s:Body></s:Envelope>\"\"\"\n",
    "response = get(xml_query)\n",
    "response = response['s:Envelope']['s:Body']['SelectWaterDeclareBaseInfoByWhereSqlResponse']['SelectWaterDeclareBaseInfoByWhereSqlResult']['a:M_T_Water_Declare_based_info']\n",
    "response = pd.DataFrame(response)\n",
    "response = response.rename(columns=renameCols)\n",
    "response.to_excel(os.path.join(RAW_DIR, 'fangan_zhiding_smelly_water_admin.xls'))\n",
    "response.shape"
   ]
  },
  {
   "cell_type": "code",
   "execution_count": 17,
   "metadata": {},
   "outputs": [
    {
     "data": {
      "text/plain": [
       "(264, 64)"
      ]
     },
     "execution_count": 17,
     "metadata": {},
     "output_type": "execute_result"
    }
   ],
   "source": [
    "# zhi4li3 zhong1\n",
    "# governance\n",
    "\n",
    "xml_query = \"\"\"<s:Envelope xmlns:s=\"http://schemas.xmlsoap.org/soap/envelope/\"><s:Body><SelectWaterDeclareBaseInfoByWhereSql xmlns=\"http://tempuri.org/\"><whereSql> and States ='治理中' </whereSql></SelectWaterDeclareBaseInfoByWhereSql></s:Body></s:Envelope>\"\"\"\n",
    "response = get(xml_query)\n",
    "response = response['s:Envelope']['s:Body']['SelectWaterDeclareBaseInfoByWhereSqlResponse']['SelectWaterDeclareBaseInfoByWhereSqlResult']['a:M_T_Water_Declare_based_info']\n",
    "response = pd.DataFrame(response)\n",
    "response = response.rename(columns=renameCols)\n",
    "response.to_excel(os.path.join(RAW_DIR, 'zhili_zhong_smelly_water_admin.xls'))\n",
    "response.shape"
   ]
  },
  {
   "cell_type": "code",
   "execution_count": 18,
   "metadata": {},
   "outputs": [
    {
     "data": {
      "text/plain": [
       "(1745, 64)"
      ]
     },
     "execution_count": 18,
     "metadata": {},
     "output_type": "execute_result"
    }
   ],
   "source": [
    "# wan2cheng2 zhi4li3\n",
    "# completed governance?\n",
    "\n",
    "xml_query = \"\"\"<s:Envelope xmlns:s=\"http://schemas.xmlsoap.org/soap/envelope/\"><s:Body><SelectWaterDeclareBaseInfoByWhereSql xmlns=\"http://tempuri.org/\"><whereSql> and States ='完成治理' </whereSql></SelectWaterDeclareBaseInfoByWhereSql></s:Body></s:Envelope>\"\"\"\n",
    "response = get(xml_query)\n",
    "response = response['s:Envelope']['s:Body']['SelectWaterDeclareBaseInfoByWhereSqlResponse']['SelectWaterDeclareBaseInfoByWhereSqlResult']['a:M_T_Water_Declare_based_info']\n",
    "response = pd.DataFrame(response)\n",
    "response = response.rename(columns=renameCols)\n",
    "response.to_excel(os.path.join(RAW_DIR, 'wancheng_zhili_smelly_water_admin.xls'))\n",
    "response.shape"
   ]
  },
  {
   "cell_type": "code",
   "execution_count": 11,
   "metadata": {},
   "outputs": [
    {
     "data": {
      "text/plain": [
       "True"
      ]
     },
     "execution_count": 11,
     "metadata": {},
     "output_type": "execute_result"
    }
   ],
   "source": [
    "# The number of actions in the different categories is equal to the number of actions under 'all'.\n",
    "794+656+642+8 == 2100"
   ]
  },
  {
   "cell_type": "code",
   "execution_count": null,
   "metadata": {},
   "outputs": [],
   "source": []
  }
 ],
 "metadata": {
  "kernelspec": {
   "display_name": "Python 3",
   "language": "python",
   "name": "python3"
  },
  "language_info": {
   "codemirror_mode": {
    "name": "ipython",
    "version": 3
   },
   "file_extension": ".py",
   "mimetype": "text/x-python",
   "name": "python",
   "nbconvert_exporter": "python",
   "pygments_lexer": "ipython3",
   "version": "3.6.5"
  }
 },
 "nbformat": 4,
 "nbformat_minor": 2
}
