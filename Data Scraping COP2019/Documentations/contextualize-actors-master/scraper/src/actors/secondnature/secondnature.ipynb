{
 "cells": [
  {
   "cell_type": "code",
   "execution_count": 11,
   "metadata": {
    "collapsed": true
   },
   "outputs": [],
   "source": [
    "import requests\n",
    "import pandas as pd"
   ]
  },
  {
   "cell_type": "markdown",
   "metadata": {},
   "source": [
    "# Scrape Secondnature.org University Data\n",
    "#### Step 1: The table on http://reporting.secondnature.org/\n",
    "Secondnature maintains an API that returns a JSON version of the data table used below. "
   ]
  },
  {
   "cell_type": "code",
   "execution_count": 18,
   "metadata": {
    "collapsed": true
   },
   "outputs": [],
   "source": [
    "raw_data = requests.get('http://reporting.secondnature.org/api/v1/pubinst/?format=json')\n",
    "data = raw_data.json()"
   ]
  },
  {
   "cell_type": "code",
   "execution_count": 31,
   "metadata": {},
   "outputs": [],
   "source": [
    "# delete and rename some soon-to-be columns. \n",
    "# get values stored in lists as well. \n",
    "\n",
    "for n,row in enumerate(data):\n",
    "    del row['fte']\n",
    "    del row['ipedsfte']\n",
    "    del row['ghg_reports']\n",
    "    \n",
    "    try:\n",
    "        row['net_emissions'] = row['net_emis'][0]\n",
    "    except:\n",
    "        row['net_emissions'] = None\n",
    "    del row['net_emis']\n",
    "    \n",
    "    try:\n",
    "        row['neutral_dates'] = row['neutral_dates_pub'][0]\n",
    "    except:\n",
    "        row['neutral_dates'] = None\n",
    "    del row['neutral_dates_pub']\n",
    "    \n",
    "    try:\n",
    "        row['sq_ft'] = row['sq_ft_pub'][0]\n",
    "    except:\n",
    "        row['sq_ft'] = None\n",
    "    del row['sq_ft_pub']\n",
    "    \n",
    "    data[n] = row"
   ]
  },
  {
   "cell_type": "code",
   "execution_count": 89,
   "metadata": {},
   "outputs": [
    {
     "name": "stdout",
     "output_type": "stream",
     "text": [
      "<class 'pandas.core.frame.DataFrame'>\n",
      "RangeIndex: 589 entries, 0 to 588\n",
      "Data columns (total 18 columns):\n",
      "acupccmember       589 non-null bool\n",
      "carnegie_name      589 non-null object\n",
      "carnegieclass      589 non-null int64\n",
      "commitment_type    589 non-null object\n",
      "degree_type        589 non-null object\n",
      "enrollment         589 non-null int64\n",
      "fullname           589 non-null object\n",
      "grossbaseline      553 non-null float64\n",
      "id                 589 non-null int64\n",
      "net_emissions      554 non-null float64\n",
      "netchange          589 non-null float64\n",
      "neutral_dates      475 non-null float64\n",
      "signdate           589 non-null object\n",
      "sq_ft              554 non-null float64\n",
      "state              589 non-null object\n",
      "sustainweb         581 non-null object\n",
      "total_renewable    589 non-null int64\n",
      "urban              589 non-null object\n",
      "dtypes: bool(1), float64(5), int64(4), object(8)\n",
      "memory usage: 78.9+ KB\n"
     ]
    }
   ],
   "source": [
    "data = pd.DataFrame(data)\n",
    "data.info()"
   ]
  },
  {
   "cell_type": "code",
   "execution_count": null,
   "metadata": {},
   "outputs": [],
   "source": [
    "# write interim file. \n",
    "data.to_csv('secondnature_universities.csv')"
   ]
  },
  {
   "cell_type": "code",
   "execution_count": 88,
   "metadata": {},
   "outputs": [
    {
     "name": "stderr",
     "output_type": "stream",
     "text": [
      "100%|██████████| 589/589 [11:55<00:00,  1.10it/s]\n"
     ]
    }
   ],
   "source": [
    "from tqdm import tqdm\n",
    "emission_stats = []\n",
    "targets = []\n",
    "percent_reductions = []\n",
    "\n",
    "for uid in tqdm(list(data['id'])):\n",
    "    university = requests.get('http://reporting.secondnature.org/api/v1/detail/{}'.format(uid)).json()\n",
    "    \n",
    "    university_emission_stats = university['stats']['statslist']\n",
    "    for i in university_emission_stats:\n",
    "        i['id'] = uid\n",
    "    \n",
    "    # add university id to targets dictionary so it can be matched\n",
    "    university_targets = university['stats']['targetlist']\n",
    "    for i in university_targets:\n",
    "        i['id'] = uid\n",
    "        del i['cap_id']\n",
    "        del i['targetsource'] # a single number. Not sure what it means. \n",
    "        \n",
    "    university_percent_reductions = university['stats']['percent_reductions']\n",
    "    university_percent_reductions['id'] = uid\n",
    "    \n",
    "    emission_stats += university_emission_stats\n",
    "    targets += university_targets\n",
    "    percent_reductions.append(university_percent_reductions)"
   ]
  },
  {
   "cell_type": "code",
   "execution_count": 106,
   "metadata": {
    "collapsed": true
   },
   "outputs": [],
   "source": [
    "# makes the column names more readable. \n",
    "def fix_column_names(x):\n",
    "    x = x.replace('ge', 'total_emissions')\n",
    "    x = x.replace('fte', 'per_student')\n",
    "    x = x.replace('sq', 'per_1000_sq_ft')\n",
    "    x = x.replace('ts12', 'total_scope_1_and_2')\n",
    "    x = x.replace('ts1', 'total_scope_1')\n",
    "    x = x.replace('ts2', 'total_scope_2')\n",
    "    x = x.replace('ts3', 'total_scope_3')\n",
    "    return x"
   ]
  },
  {
   "cell_type": "code",
   "execution_count": 126,
   "metadata": {},
   "outputs": [
    {
     "name": "stdout",
     "output_type": "stream",
     "text": [
      "<class 'pandas.core.frame.DataFrame'>\n",
      "RangeIndex: 2792 entries, 0 to 2791\n",
      "Data columns (total 18 columns):\n",
      "baseline                              2792 non-null bool\n",
      "total_emissions                       2792 non-null float64\n",
      "total_emissions_per_student           2792 non-null float64\n",
      "total_emissions_per_1000_sq_ft        2792 non-null float64\n",
      "id                                    2792 non-null int64\n",
      "total_scope_1                         2792 non-null float64\n",
      "total_scope_1_and_2                   2792 non-null float64\n",
      "total_scope_1_and_2_per_student       2792 non-null float64\n",
      "total_scope_1_and_2_per_1000_sq_ft    2792 non-null float64\n",
      "total_scope_1_per_student             2792 non-null float64\n",
      "total_scope_1_per_1000_sq_ft          2792 non-null float64\n",
      "total_scope_2                         2792 non-null float64\n",
      "total_scope_2_per_student             2792 non-null float64\n",
      "total_scope_2_per_1000_sq_ft          2792 non-null float64\n",
      "total_scope_3                         2792 non-null float64\n",
      "total_scope_3_per_student             2792 non-null float64\n",
      "total_scope_3_per_1000_sq_ft          2792 non-null float64\n",
      "year                                  2792 non-null int64\n",
      "dtypes: bool(1), float64(15), int64(2)\n",
      "memory usage: 373.6 KB\n"
     ]
    }
   ],
   "source": [
    "emission_stats_df = pd.DataFrame(emission_stats)\n",
    "emission_stats_df.columns = map(fix_column_names, emission_stats_df.columns)\n",
    "emission_stats_df.info()\n",
    "emission_stats_df.to_csv('secondnature_emission_stats.csv', index=False)"
   ]
  },
  {
   "cell_type": "code",
   "execution_count": 127,
   "metadata": {},
   "outputs": [
    {
     "name": "stdout",
     "output_type": "stream",
     "text": [
      "<class 'pandas.core.frame.DataFrame'>\n",
      "RangeIndex: 1402 entries, 0 to 1401\n",
      "Data columns (total 3 columns):\n",
      "id                   1402 non-null int64\n",
      "percent_reduction    1402 non-null int64\n",
      "target_year          1402 non-null int64\n",
      "dtypes: int64(3)\n",
      "memory usage: 32.9 KB\n"
     ]
    }
   ],
   "source": [
    "targets_df = pd.DataFrame(targets)\n",
    "targets_df = targets_df.rename(columns={'reduction': 'percent_reduction', 'targetyear': 'target_year'})\n",
    "targets_df.info()\n",
    "targets_df.to_csv('secondnature_targets.csv', index=False)"
   ]
  },
  {
   "cell_type": "code",
   "execution_count": 128,
   "metadata": {},
   "outputs": [
    {
     "name": "stdout",
     "output_type": "stream",
     "text": [
      "<class 'pandas.core.frame.DataFrame'>\n",
      "RangeIndex: 589 entries, 0 to 588\n",
      "Data columns (total 16 columns):\n",
      "total_emissions_%_change                       589 non-null float64\n",
      "total_emissions_per_student_%_change           589 non-null float64\n",
      "total_emissions_per_1000_sq_ft_%_change        589 non-null float64\n",
      "id                                             589 non-null int64\n",
      "total_scope_1_%_change                         589 non-null float64\n",
      "total_scope_1_and_2_%_change                   589 non-null float64\n",
      "total_scope_1_and_2_per_student_%_change       589 non-null float64\n",
      "total_scope_1_and_2_per_1000_sq_ft_%_change    589 non-null float64\n",
      "total_scope_1_per_student_%_change             589 non-null float64\n",
      "total_scope_1_per_1000_sq_ft_%_change          589 non-null float64\n",
      "total_scope_2_%_change                         589 non-null float64\n",
      "total_scope_2_per_student_%_change             589 non-null float64\n",
      "total_scope_2_per_1000_sq_ft_%_change          589 non-null float64\n",
      "total_scope_3_%_change                         589 non-null float64\n",
      "total_scope_3_per_student_%_change             589 non-null float64\n",
      "total_scope_3_per_1000_sq_ft_%_change          589 non-null float64\n",
      "dtypes: float64(15), int64(1)\n",
      "memory usage: 73.7 KB\n"
     ]
    }
   ],
   "source": [
    "percent_reductions_df = pd.DataFrame(percent_reductions)\n",
    "percent_reductions_df.columns = map(fix_column_names, percent_reductions_df.columns)\n",
    "percent_reductions_df.columns = map(lambda x: x if x == 'id' else x + '_%_change', percent_reductions_df.columns)\n",
    "percent_reductions_df.info()\n",
    "percent_reductions_df.to_csv('secondnature_percent_reductions.csv', index=False)"
   ]
  },
  {
   "cell_type": "code",
   "execution_count": null,
   "metadata": {},
   "outputs": [],
   "source": []
  },
  {
   "cell_type": "code",
   "execution_count": null,
   "metadata": {
    "collapsed": true
   },
   "outputs": [],
   "source": []
  },
  {
   "cell_type": "code",
   "execution_count": null,
   "metadata": {},
   "outputs": [],
   "source": []
  },
  {
   "cell_type": "code",
   "execution_count": null,
   "metadata": {
    "collapsed": true
   },
   "outputs": [],
   "source": []
  }
 ],
 "metadata": {
  "kernelspec": {
   "display_name": "Python 3",
   "language": "python",
   "name": "python3"
  },
  "language_info": {
   "codemirror_mode": {
    "name": "ipython",
    "version": 3
   },
   "file_extension": ".py",
   "mimetype": "text/x-python",
   "name": "python",
   "nbconvert_exporter": "python",
   "pygments_lexer": "ipython3",
   "version": "3.6.1"
  }
 },
 "nbformat": 4,
 "nbformat_minor": 2
}
