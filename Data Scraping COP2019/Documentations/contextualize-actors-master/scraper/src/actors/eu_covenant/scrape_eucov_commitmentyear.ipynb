{
 "cells": [
  {
   "cell_type": "code",
   "execution_count": 2,
   "metadata": {},
   "outputs": [],
   "source": [
    "import pandas as pd\n",
    "import time\n",
    "\n",
    "from selenium import webdriver\n",
    "from selenium.webdriver.common.keys import Keys"
   ]
  },
  {
   "cell_type": "code",
   "execution_count": 8,
   "metadata": {},
   "outputs": [],
   "source": [
    "# Need a selenium webdriver installed, and then to indicate the location of the driver \n",
    "# chrome driver available here: http://chromedriver.chromium.org/downloads\n",
    "# be sure to unzip it after downloading!\n",
    "\n",
    "path_to_chromedriver = \"C:/Users/Andrew/Downloads/chromedriver_win32/chromedriver.exe\"\n",
    "\n",
    "driver = webdriver.Chrome(path_to_chromedriver)"
   ]
  },
  {
   "cell_type": "code",
   "execution_count": 36,
   "metadata": {
    "collapsed": true
   },
   "outputs": [],
   "source": [
    "driver.get(\"http://www.covenantofmayors.eu/plans-and-actions/action-plans.html\")\n",
    "#let the page load\n",
    "time.sleep(8)"
   ]
  },
  {
   "cell_type": "code",
   "execution_count": 16,
   "metadata": {},
   "outputs": [],
   "source": [
    "rows = driver.find_elements_by_xpath('//*[@id=\"loadItems\"]/tr')"
   ]
  },
  {
   "cell_type": "code",
   "execution_count": 19,
   "metadata": {},
   "outputs": [],
   "source": [
    "first_row = rows[0]"
   ]
  },
  {
   "cell_type": "code",
   "execution_count": 27,
   "metadata": {},
   "outputs": [],
   "source": [
    "link = first_row.find_element_by_tag_name('a')"
   ]
  },
  {
   "cell_type": "code",
   "execution_count": 34,
   "metadata": {},
   "outputs": [],
   "source": [
    "link_we_want = link.get_attribute('href')"
   ]
  },
  {
   "cell_type": "code",
   "execution_count": 35,
   "metadata": {
    "collapsed": true
   },
   "outputs": [],
   "source": [
    "driver.get(link_we_want)"
   ]
  },
  {
   "cell_type": "code",
   "execution_count": null,
   "metadata": {
    "collapsed": true
   },
   "outputs": [],
   "source": [
    "for row in rows:\n",
    "    driver.get(row[0])"
   ]
  },
  {
   "cell_type": "code",
   "execution_count": null,
   "metadata": {
    "collapsed": true
   },
   "outputs": [],
   "source": [
    "//*[@id=\"loadItems\"]/tr[1]/td[2]"
   ]
  },
  {
   "cell_type": "code",
   "execution_count": 37,
   "metadata": {
    "collapsed": true
   },
   "outputs": [],
   "source": [
    "tdry = driver.find_element_by_xpath('//*[@id=\"tabled-list\"]/div[1]/div/div/div')"
   ]
  },
  {
   "cell_type": "code",
   "execution_count": 38,
   "metadata": {
    "collapsed": true
   },
   "outputs": [],
   "source": [
    "tdry.click()"
   ]
  },
  {
   "cell_type": "code",
   "execution_count": 39,
   "metadata": {
    "collapsed": true
   },
   "outputs": [],
   "source": [
    "ok = driver.find_element_by_xpath('//*[@id=\"mCSB_11\"]')\n",
    "ARROW_DOWN = u'\\ue015'\n",
    "\n",
    "biglist = False\n",
    "\n",
    "while not biglist:\n",
    "    driver.execute_script(\"window.scrollBy(0,2)\");\n",
    "    ok.send_keys(ARROW_DOWN)\n",
    "    try:\n",
    "        itemsper = driver.find_element_by_xpath('//*[@id=\"mCSB_11_container\"]/li[text()=\"All\"]')\n",
    "        itemsper.click()\n",
    "#     except ElementNotVisibleException:\n",
    "#         pass\n",
    "        biglist = True\n",
    "    except:\n",
    "        pass\n",
    "        "
   ]
  },
  {
   "cell_type": "code",
   "execution_count": 40,
   "metadata": {
    "collapsed": true
   },
   "outputs": [],
   "source": [
    "time.sleep(5)\n",
    "items = driver.find_element_by_id('loadItems')"
   ]
  },
  {
   "cell_type": "code",
   "execution_count": 41,
   "metadata": {
    "collapsed": true
   },
   "outputs": [],
   "source": [
    "signatory_table = items.find_elements_by_tag_name('tr')"
   ]
  },
  {
   "cell_type": "code",
   "execution_count": 11,
   "metadata": {
    "scrolled": false
   },
   "outputs": [
    {
     "name": "stdout",
     "output_type": "stream",
     "text": [
      "Commitments to be scraped: 6038\n",
      "500\n",
      "1000\n",
      "1500\n",
      "2000\n",
      "2500\n",
      "3000\n",
      "3500\n",
      "4000\n",
      "4500\n",
      "5000\n",
      "5500\n",
      "6000\n"
     ]
    }
   ],
   "source": [
    "print(\"Commitments to be scraped: {}\".format(len(signatory_table)))\n",
    "rowsdata = []\n",
    "count = 1\n",
    "\n",
    "for row in signatory_table:\n",
    "    \n",
    "    rowdata = row.text.split(\"\\n\")\n",
    "    if len(rowdata) > 3:\n",
    "        rowsdata.append([rowdata[0], rowdata[1:-1], rowdata[-1]])\n",
    "    else:\n",
    "        rowsdata.append(rowdata)\n",
    "    \n",
    "    if count % 500 == 0:\n",
    "        print('At item {}'.format(count))\n",
    "    count += 1"
   ]
  },
  {
   "cell_type": "code",
   "execution_count": 12,
   "metadata": {
    "collapsed": true
   },
   "outputs": [],
   "source": [
    "eucov = pd.concat([pd.DataFrame(data = [[i[0], i[1], i[2]]], \n",
    "              columns = ['name_and_population', 'commitments', 'signedup_and_actionplan']) for i in rowsdata])\n",
    "eucov = eucov.reset_index(drop=True)"
   ]
  },
  {
   "cell_type": "code",
   "execution_count": 31,
   "metadata": {
    "collapsed": true
   },
   "outputs": [],
   "source": [
    "population = eucov['name_and_population'].str.split('^\\D+', expand=True).loc[:, [1]]\n",
    "names = eucov['name_and_population'].str.split(' \\d', expand=True).loc[:, [0]]"
   ]
  },
  {
   "cell_type": "code",
   "execution_count": 36,
   "metadata": {
    "collapsed": true
   },
   "outputs": [],
   "source": [
    "eucov['name'] = names\n",
    "eucov['population'] = population"
   ]
  },
  {
   "cell_type": "code",
   "execution_count": 38,
   "metadata": {
    "collapsed": true
   },
   "outputs": [],
   "source": [
    "eucov_out = eucov.loc[: ,['name', 'population', 'commitments']]"
   ]
  },
  {
   "cell_type": "code",
   "execution_count": 44,
   "metadata": {
    "collapsed": true
   },
   "outputs": [],
   "source": [
    "eucov_out.to_csv('../../../../output/actors/EU Covenant/population_and_commitment_years.csv')"
   ]
  }
 ],
 "metadata": {
  "kernelspec": {
   "display_name": "Python 3",
   "language": "python",
   "name": "python3"
  },
  "language_info": {
   "codemirror_mode": {
    "name": "ipython",
    "version": 3
   },
   "file_extension": ".py",
   "mimetype": "text/x-python",
   "name": "python",
   "nbconvert_exporter": "python",
   "pygments_lexer": "ipython3",
   "version": "3.6.2"
  }
 },
 "nbformat": 4,
 "nbformat_minor": 2
}
