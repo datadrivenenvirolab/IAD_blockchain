{
 "cells": [
  {
   "cell_type": "code",
   "execution_count": null,
   "metadata": {
    "ExecuteTime": {
     "end_time": "2018-08-15T05:04:53.784951Z",
     "start_time": "2018-08-15T05:04:48.798063Z"
    }
   },
   "outputs": [],
   "source": [
    "from scraper.src.contextuals.wikipedia import *\n",
    "\n",
    "import pandas as pd\n",
    "from tqdm import tqdm\n",
    "import time"
   ]
  },
  {
   "cell_type": "code",
   "execution_count": null,
   "metadata": {
    "scrolled": true
   },
   "outputs": [],
   "source": [
    "# get_data('!Kheis', 'ZAF', 'City', debug=True)"
   ]
  },
  {
   "cell_type": "markdown",
   "metadata": {},
   "source": [
    "# Test"
   ]
  },
  {
   "cell_type": "code",
   "execution_count": null,
   "metadata": {},
   "outputs": [],
   "source": [
    "names = pd.read_csv('Subnational_contextual_complete_080119.csv')\n",
    "names = names.reset_index(drop=True)\n",
    "names = names[['name', 'iso', 'country', 'data_source', 'entity_type', 'initiatives_committed']]\n",
    "names.head()"
   ]
  },
  {
   "cell_type": "code",
   "execution_count": null,
   "metadata": {},
   "outputs": [],
   "source": [
    "names.shape"
   ]
  },
  {
   "cell_type": "code",
   "execution_count": null,
   "metadata": {},
   "outputs": [],
   "source": [
    "all_data = []"
   ]
  },
  {
   "cell_type": "code",
   "execution_count": null,
   "metadata": {
    "scrolled": true
   },
   "outputs": [],
   "source": [
    "batch_size = 100\n",
    "for i in range(len(all_data), int(len(names) / batch_size)+1):\n",
    "\n",
    "    batch = names[i*batch_size:i*batch_size + batch_size]\n",
    "    pool = ThreadPool(5)\n",
    "    pbar = tqdm(total=len(batch))\n",
    "\n",
    "    def process_page(row):\n",
    "        i = row\n",
    "        tmp = dict(i)\n",
    "        try:\n",
    "            data = get_data(i['name'], i['iso'], i['entity_type'])\n",
    "        except Exception as e:\n",
    "            data = {}\n",
    "        pbar.update(1)\n",
    "        tmp.update(data)\n",
    "        return tmp\n",
    "\n",
    "    pages = pool.map(process_page, batch.to_dict('records'))\n",
    "    all_data.append(pages)\n",
    "    pool.close()\n",
    "    pool.join()\n",
    "    pbar.close()"
   ]
  },
  {
   "cell_type": "code",
   "execution_count": null,
   "metadata": {},
   "outputs": [],
   "source": [
    "pd.DataFrame(pages)"
   ]
  },
  {
   "cell_type": "code",
   "execution_count": null,
   "metadata": {},
   "outputs": [],
   "source": []
  }
 ],
 "metadata": {
  "kernelspec": {
   "display_name": "Python 3",
   "language": "python",
   "name": "python3"
  },
  "language_info": {
   "codemirror_mode": {
    "name": "ipython",
    "version": 3
   },
   "file_extension": ".py",
   "mimetype": "text/x-python",
   "name": "python",
   "nbconvert_exporter": "python",
   "pygments_lexer": "ipython3",
   "version": "3.7.4"
  }
 },
 "nbformat": 4,
 "nbformat_minor": 2
}
