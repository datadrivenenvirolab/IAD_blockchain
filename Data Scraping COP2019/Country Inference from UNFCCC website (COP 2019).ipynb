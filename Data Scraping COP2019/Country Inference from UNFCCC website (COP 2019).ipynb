{
 "cells": [
  {
   "cell_type": "code",
   "execution_count": 2,
   "metadata": {},
   "outputs": [],
   "source": [
    "import pandas as pd \n",
    "import numpy as np\n",
    "import matplotlib.pyplot as plt\n",
    "import requests\n",
    "from bs4 import BeautifulSoup\n",
    "from selenium import webdriver\n",
    "import seaborn as sns\n",
    "import pycountry_convert as pycountry\n",
    "import plotly.express as px\n",
    "%matplotlib inline"
   ]
  },
  {
   "cell_type": "code",
   "execution_count": 2,
   "metadata": {},
   "outputs": [],
   "source": [
    "all_orgs = pd.read_csv(\"COP2019_participation.csv\")"
   ]
  },
  {
   "cell_type": "code",
   "execution_count": 3,
   "metadata": {},
   "outputs": [
    {
     "data": {
      "text/html": [
       "<div>\n",
       "<style scoped>\n",
       "    .dataframe tbody tr th:only-of-type {\n",
       "        vertical-align: middle;\n",
       "    }\n",
       "\n",
       "    .dataframe tbody tr th {\n",
       "        vertical-align: top;\n",
       "    }\n",
       "\n",
       "    .dataframe thead th {\n",
       "        text-align: right;\n",
       "    }\n",
       "</style>\n",
       "<table border=\"1\" class=\"dataframe\">\n",
       "  <thead>\n",
       "    <tr style=\"text-align: right;\">\n",
       "      <th></th>\n",
       "      <th>name</th>\n",
       "      <th>entity_type</th>\n",
       "      <th>TotalMembers</th>\n",
       "      <th>MaleMembers</th>\n",
       "      <th>FemaleMembers</th>\n",
       "    </tr>\n",
       "  </thead>\n",
       "  <tbody>\n",
       "    <tr>\n",
       "      <th>0</th>\n",
       "      <td>Afghanistan</td>\n",
       "      <td>Parties</td>\n",
       "      <td>15</td>\n",
       "      <td>13</td>\n",
       "      <td>2</td>\n",
       "    </tr>\n",
       "    <tr>\n",
       "      <th>1</th>\n",
       "      <td>Albania</td>\n",
       "      <td>Parties</td>\n",
       "      <td>2</td>\n",
       "      <td>1</td>\n",
       "      <td>1</td>\n",
       "    </tr>\n",
       "    <tr>\n",
       "      <th>2</th>\n",
       "      <td>Algeria</td>\n",
       "      <td>Parties</td>\n",
       "      <td>26</td>\n",
       "      <td>16</td>\n",
       "      <td>10</td>\n",
       "    </tr>\n",
       "    <tr>\n",
       "      <th>3</th>\n",
       "      <td>Andorra</td>\n",
       "      <td>Parties</td>\n",
       "      <td>8</td>\n",
       "      <td>5</td>\n",
       "      <td>3</td>\n",
       "    </tr>\n",
       "    <tr>\n",
       "      <th>4</th>\n",
       "      <td>Angola</td>\n",
       "      <td>Parties</td>\n",
       "      <td>23</td>\n",
       "      <td>16</td>\n",
       "      <td>7</td>\n",
       "    </tr>\n",
       "  </tbody>\n",
       "</table>\n",
       "</div>"
      ],
      "text/plain": [
       "          name entity_type  TotalMembers  MaleMembers  FemaleMembers\n",
       "0  Afghanistan     Parties            15           13              2\n",
       "1      Albania     Parties             2            1              1\n",
       "2      Algeria     Parties            26           16             10\n",
       "3      Andorra     Parties             8            5              3\n",
       "4       Angola     Parties            23           16              7"
      ]
     },
     "execution_count": 3,
     "metadata": {},
     "output_type": "execute_result"
    }
   ],
   "source": [
    "all_orgs.head()"
   ]
  },
  {
   "cell_type": "code",
   "execution_count": 4,
   "metadata": {},
   "outputs": [
    {
     "data": {
      "text/plain": [
       "array(['Parties', 'Observer States',\n",
       "       'United Nations Secretariat units and bodies',\n",
       "       'Specialized agencies and related organizations',\n",
       "       'Intergovernmental organizations',\n",
       "       'Non-governmental organizations'], dtype=object)"
      ]
     },
     "execution_count": 4,
     "metadata": {},
     "output_type": "execute_result"
    }
   ],
   "source": [
    "all_orgs.entity_type.unique()"
   ]
  },
  {
   "cell_type": "code",
   "execution_count": 5,
   "metadata": {},
   "outputs": [],
   "source": [
    "NGO = all_orgs[all_orgs.entity_type == 'Non-governmental organizations'].copy()\n",
    "IGO = all_orgs[all_orgs.entity_type == 'Intergovernmental organizations'].copy()\n",
    "NGO.reset_index(drop = True, inplace = True)\n",
    "IGO.reset_index(drop = True, inplace = True)"
   ]
  },
  {
   "cell_type": "code",
   "execution_count": 6,
   "metadata": {},
   "outputs": [
    {
     "data": {
      "text/html": [
       "<div>\n",
       "<style scoped>\n",
       "    .dataframe tbody tr th:only-of-type {\n",
       "        vertical-align: middle;\n",
       "    }\n",
       "\n",
       "    .dataframe tbody tr th {\n",
       "        vertical-align: top;\n",
       "    }\n",
       "\n",
       "    .dataframe thead th {\n",
       "        text-align: right;\n",
       "    }\n",
       "</style>\n",
       "<table border=\"1\" class=\"dataframe\">\n",
       "  <thead>\n",
       "    <tr style=\"text-align: right;\">\n",
       "      <th></th>\n",
       "      <th>name</th>\n",
       "      <th>entity_type</th>\n",
       "      <th>TotalMembers</th>\n",
       "      <th>MaleMembers</th>\n",
       "      <th>FemaleMembers</th>\n",
       "    </tr>\n",
       "  </thead>\n",
       "  <tbody>\n",
       "    <tr>\n",
       "      <th>0</th>\n",
       "      <td>Technical Centre for Agricultural and Rural Co...</td>\n",
       "      <td>Non-governmental organizations</td>\n",
       "      <td>1</td>\n",
       "      <td>1</td>\n",
       "      <td>0</td>\n",
       "    </tr>\n",
       "    <tr>\n",
       "      <th>1</th>\n",
       "      <td>The European Organisation for the Exploitation...</td>\n",
       "      <td>Non-governmental organizations</td>\n",
       "      <td>1</td>\n",
       "      <td>1</td>\n",
       "      <td>0</td>\n",
       "    </tr>\n",
       "    <tr>\n",
       "      <th>2</th>\n",
       "      <td>2° investing initiative (2°ii)</td>\n",
       "      <td>Non-governmental organizations</td>\n",
       "      <td>2</td>\n",
       "      <td>1</td>\n",
       "      <td>1</td>\n",
       "    </tr>\n",
       "    <tr>\n",
       "      <th>3</th>\n",
       "      <td>A SEED Europe</td>\n",
       "      <td>Non-governmental organizations</td>\n",
       "      <td>3</td>\n",
       "      <td>0</td>\n",
       "      <td>3</td>\n",
       "    </tr>\n",
       "    <tr>\n",
       "      <th>4</th>\n",
       "      <td>A Sud Ecology and Cooperation - Onlus</td>\n",
       "      <td>Non-governmental organizations</td>\n",
       "      <td>4</td>\n",
       "      <td>1</td>\n",
       "      <td>3</td>\n",
       "    </tr>\n",
       "  </tbody>\n",
       "</table>\n",
       "</div>"
      ],
      "text/plain": [
       "                                                name  \\\n",
       "0  Technical Centre for Agricultural and Rural Co...   \n",
       "1  The European Organisation for the Exploitation...   \n",
       "2                     2° investing initiative (2°ii)   \n",
       "3                                      A SEED Europe   \n",
       "4              A Sud Ecology and Cooperation - Onlus   \n",
       "\n",
       "                      entity_type  TotalMembers  MaleMembers  FemaleMembers  \n",
       "0  Non-governmental organizations             1            1              0  \n",
       "1  Non-governmental organizations             1            1              0  \n",
       "2  Non-governmental organizations             2            1              1  \n",
       "3  Non-governmental organizations             3            0              3  \n",
       "4  Non-governmental organizations             4            1              3  "
      ]
     },
     "execution_count": 6,
     "metadata": {},
     "output_type": "execute_result"
    }
   ],
   "source": [
    "NGO.head()"
   ]
  },
  {
   "cell_type": "code",
   "execution_count": 7,
   "metadata": {},
   "outputs": [
    {
     "data": {
      "text/html": [
       "<div>\n",
       "<style scoped>\n",
       "    .dataframe tbody tr th:only-of-type {\n",
       "        vertical-align: middle;\n",
       "    }\n",
       "\n",
       "    .dataframe tbody tr th {\n",
       "        vertical-align: top;\n",
       "    }\n",
       "\n",
       "    .dataframe thead th {\n",
       "        text-align: right;\n",
       "    }\n",
       "</style>\n",
       "<table border=\"1\" class=\"dataframe\">\n",
       "  <thead>\n",
       "    <tr style=\"text-align: right;\">\n",
       "      <th></th>\n",
       "      <th>name</th>\n",
       "      <th>entity_type</th>\n",
       "      <th>TotalMembers</th>\n",
       "      <th>MaleMembers</th>\n",
       "      <th>FemaleMembers</th>\n",
       "    </tr>\n",
       "  </thead>\n",
       "  <tbody>\n",
       "    <tr>\n",
       "      <th>0</th>\n",
       "      <td>Adaptation Fund Board</td>\n",
       "      <td>Intergovernmental organizations</td>\n",
       "      <td>11</td>\n",
       "      <td>4</td>\n",
       "      <td>7</td>\n",
       "    </tr>\n",
       "    <tr>\n",
       "      <th>1</th>\n",
       "      <td>African Centre of Meteorological Application f...</td>\n",
       "      <td>Intergovernmental organizations</td>\n",
       "      <td>14</td>\n",
       "      <td>10</td>\n",
       "      <td>4</td>\n",
       "    </tr>\n",
       "    <tr>\n",
       "      <th>2</th>\n",
       "      <td>African Development Bank Group</td>\n",
       "      <td>Intergovernmental organizations</td>\n",
       "      <td>16</td>\n",
       "      <td>8</td>\n",
       "      <td>8</td>\n",
       "    </tr>\n",
       "    <tr>\n",
       "      <th>3</th>\n",
       "      <td>African Union Commission</td>\n",
       "      <td>Intergovernmental organizations</td>\n",
       "      <td>32</td>\n",
       "      <td>18</td>\n",
       "      <td>14</td>\n",
       "    </tr>\n",
       "    <tr>\n",
       "      <th>4</th>\n",
       "      <td>African, Caribbean and Pacific Group of States</td>\n",
       "      <td>Intergovernmental organizations</td>\n",
       "      <td>4</td>\n",
       "      <td>2</td>\n",
       "      <td>2</td>\n",
       "    </tr>\n",
       "  </tbody>\n",
       "</table>\n",
       "</div>"
      ],
      "text/plain": [
       "                                                name  \\\n",
       "0                              Adaptation Fund Board   \n",
       "1  African Centre of Meteorological Application f...   \n",
       "2                     African Development Bank Group   \n",
       "3                           African Union Commission   \n",
       "4     African, Caribbean and Pacific Group of States   \n",
       "\n",
       "                       entity_type  TotalMembers  MaleMembers  FemaleMembers  \n",
       "0  Intergovernmental organizations            11            4              7  \n",
       "1  Intergovernmental organizations            14           10              4  \n",
       "2  Intergovernmental organizations            16            8              8  \n",
       "3  Intergovernmental organizations            32           18             14  \n",
       "4  Intergovernmental organizations             4            2              2  "
      ]
     },
     "execution_count": 7,
     "metadata": {},
     "output_type": "execute_result"
    }
   ],
   "source": [
    "IGO.head()"
   ]
  },
  {
   "cell_type": "code",
   "execution_count": 8,
   "metadata": {},
   "outputs": [],
   "source": [
    "initial_NGO = len(NGO.name) * [np.nan]\n",
    "initial_IGO = len(IGO.name) * [np.nan]\n",
    "NGO[\"constituency\"], NGO[\"coordinator\"], NGO[\"city\"], NGO[\"country\"] = initial_NGO, initial_NGO, initial_NGO, initial_NGO\n",
    "IGO[\"constituency\"], IGO[\"coordinator\"], IGO[\"city\"], IGO[\"country\"] = initial_IGO, initial_IGO, initial_IGO, initial_IGO"
   ]
  },
  {
   "cell_type": "code",
   "execution_count": 9,
   "metadata": {
    "scrolled": true
   },
   "outputs": [
    {
     "data": {
      "text/html": [
       "<div>\n",
       "<style scoped>\n",
       "    .dataframe tbody tr th:only-of-type {\n",
       "        vertical-align: middle;\n",
       "    }\n",
       "\n",
       "    .dataframe tbody tr th {\n",
       "        vertical-align: top;\n",
       "    }\n",
       "\n",
       "    .dataframe thead th {\n",
       "        text-align: right;\n",
       "    }\n",
       "</style>\n",
       "<table border=\"1\" class=\"dataframe\">\n",
       "  <thead>\n",
       "    <tr style=\"text-align: right;\">\n",
       "      <th></th>\n",
       "      <th>name</th>\n",
       "      <th>entity_type</th>\n",
       "      <th>TotalMembers</th>\n",
       "      <th>MaleMembers</th>\n",
       "      <th>FemaleMembers</th>\n",
       "      <th>constituency</th>\n",
       "      <th>coordinator</th>\n",
       "      <th>city</th>\n",
       "      <th>country</th>\n",
       "    </tr>\n",
       "  </thead>\n",
       "  <tbody>\n",
       "    <tr>\n",
       "      <th>0</th>\n",
       "      <td>Technical Centre for Agricultural and Rural Co...</td>\n",
       "      <td>Non-governmental organizations</td>\n",
       "      <td>1</td>\n",
       "      <td>1</td>\n",
       "      <td>0</td>\n",
       "      <td>NaN</td>\n",
       "      <td>NaN</td>\n",
       "      <td>NaN</td>\n",
       "      <td>NaN</td>\n",
       "    </tr>\n",
       "    <tr>\n",
       "      <th>1</th>\n",
       "      <td>The European Organisation for the Exploitation...</td>\n",
       "      <td>Non-governmental organizations</td>\n",
       "      <td>1</td>\n",
       "      <td>1</td>\n",
       "      <td>0</td>\n",
       "      <td>NaN</td>\n",
       "      <td>NaN</td>\n",
       "      <td>NaN</td>\n",
       "      <td>NaN</td>\n",
       "    </tr>\n",
       "    <tr>\n",
       "      <th>2</th>\n",
       "      <td>2° investing initiative (2°ii)</td>\n",
       "      <td>Non-governmental organizations</td>\n",
       "      <td>2</td>\n",
       "      <td>1</td>\n",
       "      <td>1</td>\n",
       "      <td>NaN</td>\n",
       "      <td>NaN</td>\n",
       "      <td>NaN</td>\n",
       "      <td>NaN</td>\n",
       "    </tr>\n",
       "    <tr>\n",
       "      <th>3</th>\n",
       "      <td>A SEED Europe</td>\n",
       "      <td>Non-governmental organizations</td>\n",
       "      <td>3</td>\n",
       "      <td>0</td>\n",
       "      <td>3</td>\n",
       "      <td>NaN</td>\n",
       "      <td>NaN</td>\n",
       "      <td>NaN</td>\n",
       "      <td>NaN</td>\n",
       "    </tr>\n",
       "    <tr>\n",
       "      <th>4</th>\n",
       "      <td>A Sud Ecology and Cooperation - Onlus</td>\n",
       "      <td>Non-governmental organizations</td>\n",
       "      <td>4</td>\n",
       "      <td>1</td>\n",
       "      <td>3</td>\n",
       "      <td>NaN</td>\n",
       "      <td>NaN</td>\n",
       "      <td>NaN</td>\n",
       "      <td>NaN</td>\n",
       "    </tr>\n",
       "  </tbody>\n",
       "</table>\n",
       "</div>"
      ],
      "text/plain": [
       "                                                name  \\\n",
       "0  Technical Centre for Agricultural and Rural Co...   \n",
       "1  The European Organisation for the Exploitation...   \n",
       "2                     2° investing initiative (2°ii)   \n",
       "3                                      A SEED Europe   \n",
       "4              A Sud Ecology and Cooperation - Onlus   \n",
       "\n",
       "                      entity_type  TotalMembers  MaleMembers  FemaleMembers  \\\n",
       "0  Non-governmental organizations             1            1              0   \n",
       "1  Non-governmental organizations             1            1              0   \n",
       "2  Non-governmental organizations             2            1              1   \n",
       "3  Non-governmental organizations             3            0              3   \n",
       "4  Non-governmental organizations             4            1              3   \n",
       "\n",
       "   constituency  coordinator  city  country  \n",
       "0           NaN          NaN   NaN      NaN  \n",
       "1           NaN          NaN   NaN      NaN  \n",
       "2           NaN          NaN   NaN      NaN  \n",
       "3           NaN          NaN   NaN      NaN  \n",
       "4           NaN          NaN   NaN      NaN  "
      ]
     },
     "execution_count": 9,
     "metadata": {},
     "output_type": "execute_result"
    }
   ],
   "source": [
    "NGO.head()"
   ]
  },
  {
   "cell_type": "code",
   "execution_count": 10,
   "metadata": {},
   "outputs": [
    {
     "name": "stdout",
     "output_type": "stream",
     "text": [
      "1046 72\n"
     ]
    }
   ],
   "source": [
    "print(len(NGO.name), len(IGO.name))"
   ]
  },
  {
   "cell_type": "code",
   "execution_count": 11,
   "metadata": {},
   "outputs": [],
   "source": [
    "def get_page_source1(url):\n",
    "    wd = webdriver.Chrome(\"/usr/local/bin/chromedriver\")\n",
    "    wd.get(url)\n",
    "    html_page = wd.page_source\n",
    "    return html_page"
   ]
  },
  {
   "cell_type": "code",
   "execution_count": 12,
   "metadata": {},
   "outputs": [],
   "source": [
    "NGO_url = \"http://unfccc.int/process/parties-non-party-stakeholders/non-party-stakeholders/admitted-ngos/list-of-admitted-ngos\"\n",
    "NGO_page = get_page_source1(NGO_url)\n",
    "NGO_unfccc = pd.read_html(NGO_page, header = 0)[0]"
   ]
  },
  {
   "cell_type": "code",
   "execution_count": 13,
   "metadata": {},
   "outputs": [
    {
     "data": {
      "text/html": [
       "<div>\n",
       "<style scoped>\n",
       "    .dataframe tbody tr th:only-of-type {\n",
       "        vertical-align: middle;\n",
       "    }\n",
       "\n",
       "    .dataframe tbody tr th {\n",
       "        vertical-align: top;\n",
       "    }\n",
       "\n",
       "    .dataframe thead th {\n",
       "        text-align: right;\n",
       "    }\n",
       "</style>\n",
       "<table border=\"1\" class=\"dataframe\">\n",
       "  <thead>\n",
       "    <tr style=\"text-align: right;\">\n",
       "      <th></th>\n",
       "      <th>Official Name</th>\n",
       "      <th>City</th>\n",
       "      <th>Country</th>\n",
       "      <th>Constituency</th>\n",
       "      <th>Phone</th>\n",
       "      <th>Fax</th>\n",
       "      <th>Email</th>\n",
       "    </tr>\n",
       "  </thead>\n",
       "  <tbody>\n",
       "    <tr>\n",
       "      <th>0</th>\n",
       "      <td>#13 Foundation Climate and Sustainable Develop...</td>\n",
       "      <td>Warsaw</td>\n",
       "      <td>Poland</td>\n",
       "      <td>Constituency - Environmental</td>\n",
       "      <td>NaN</td>\n",
       "      <td>NaN</td>\n",
       "      <td>emil.wroblewski@fundacja13.pl</td>\n",
       "    </tr>\n",
       "    <tr>\n",
       "      <th>1</th>\n",
       "      <td>NaN</td>\n",
       "      <td>NaN</td>\n",
       "      <td>NaN</td>\n",
       "      <td>NaN</td>\n",
       "      <td>NaN</td>\n",
       "      <td>NaN</td>\n",
       "      <td>NaN</td>\n",
       "    </tr>\n",
       "    <tr>\n",
       "      <th>2</th>\n",
       "      <td>2° investing initiative (2°ii)Mr. Thibaut Ghir...</td>\n",
       "      <td>Paris</td>\n",
       "      <td>France</td>\n",
       "      <td>Constituency - Research and independent</td>\n",
       "      <td>+33142811997</td>\n",
       "      <td>NaN</td>\n",
       "      <td>diane@2degrees-investing.org</td>\n",
       "    </tr>\n",
       "    <tr>\n",
       "      <th>3</th>\n",
       "      <td>NaN</td>\n",
       "      <td>NaN</td>\n",
       "      <td>NaN</td>\n",
       "      <td>NaN</td>\n",
       "      <td>NaN</td>\n",
       "      <td>NaN</td>\n",
       "      <td>NaN</td>\n",
       "    </tr>\n",
       "    <tr>\n",
       "      <th>4</th>\n",
       "      <td>2050 Climate GroupMs. Sophie Eastwood</td>\n",
       "      <td>Edinburgh</td>\n",
       "      <td>United Kingdom of Great Britain and Northern I...</td>\n",
       "      <td>Constituency - Youth</td>\n",
       "      <td>+441313132488</td>\n",
       "      <td>NaN</td>\n",
       "      <td>contact@2050.scot</td>\n",
       "    </tr>\n",
       "  </tbody>\n",
       "</table>\n",
       "</div>"
      ],
      "text/plain": [
       "                                       Official Name       City  \\\n",
       "0  #13 Foundation Climate and Sustainable Develop...     Warsaw   \n",
       "1                                                NaN        NaN   \n",
       "2  2° investing initiative (2°ii)Mr. Thibaut Ghir...      Paris   \n",
       "3                                                NaN        NaN   \n",
       "4              2050 Climate GroupMs. Sophie Eastwood  Edinburgh   \n",
       "\n",
       "                                             Country  \\\n",
       "0                                             Poland   \n",
       "1                                                NaN   \n",
       "2                                             France   \n",
       "3                                                NaN   \n",
       "4  United Kingdom of Great Britain and Northern I...   \n",
       "\n",
       "                              Constituency          Phone  Fax  \\\n",
       "0             Constituency - Environmental            NaN  NaN   \n",
       "1                                      NaN            NaN  NaN   \n",
       "2  Constituency - Research and independent   +33142811997  NaN   \n",
       "3                                      NaN            NaN  NaN   \n",
       "4                     Constituency - Youth  +441313132488  NaN   \n",
       "\n",
       "                           Email  \n",
       "0  emil.wroblewski@fundacja13.pl  \n",
       "1                            NaN  \n",
       "2   diane@2degrees-investing.org  \n",
       "3                            NaN  \n",
       "4              contact@2050.scot  "
      ]
     },
     "execution_count": 13,
     "metadata": {},
     "output_type": "execute_result"
    }
   ],
   "source": [
    "NGO_unfccc.head()"
   ]
  },
  {
   "cell_type": "code",
   "execution_count": 14,
   "metadata": {},
   "outputs": [],
   "source": [
    "NGO_unfccc = NGO_unfccc.dropna(axis = 0, subset=[\"Official Name\"])"
   ]
  },
  {
   "cell_type": "code",
   "execution_count": 15,
   "metadata": {},
   "outputs": [],
   "source": [
    "NGO_unfccc.reset_index(drop = True, inplace = True)"
   ]
  },
  {
   "cell_type": "code",
   "execution_count": 16,
   "metadata": {},
   "outputs": [
    {
     "data": {
      "text/html": [
       "<div>\n",
       "<style scoped>\n",
       "    .dataframe tbody tr th:only-of-type {\n",
       "        vertical-align: middle;\n",
       "    }\n",
       "\n",
       "    .dataframe tbody tr th {\n",
       "        vertical-align: top;\n",
       "    }\n",
       "\n",
       "    .dataframe thead th {\n",
       "        text-align: right;\n",
       "    }\n",
       "</style>\n",
       "<table border=\"1\" class=\"dataframe\">\n",
       "  <thead>\n",
       "    <tr style=\"text-align: right;\">\n",
       "      <th></th>\n",
       "      <th>Official Name</th>\n",
       "      <th>City</th>\n",
       "      <th>Country</th>\n",
       "      <th>Constituency</th>\n",
       "      <th>Phone</th>\n",
       "      <th>Fax</th>\n",
       "      <th>Email</th>\n",
       "    </tr>\n",
       "  </thead>\n",
       "  <tbody>\n",
       "    <tr>\n",
       "      <th>0</th>\n",
       "      <td>#13 Foundation Climate and Sustainable Develop...</td>\n",
       "      <td>Warsaw</td>\n",
       "      <td>Poland</td>\n",
       "      <td>Constituency - Environmental</td>\n",
       "      <td>NaN</td>\n",
       "      <td>NaN</td>\n",
       "      <td>emil.wroblewski@fundacja13.pl</td>\n",
       "    </tr>\n",
       "    <tr>\n",
       "      <th>1</th>\n",
       "      <td>2° investing initiative (2°ii)Mr. Thibaut Ghir...</td>\n",
       "      <td>Paris</td>\n",
       "      <td>France</td>\n",
       "      <td>Constituency - Research and independent</td>\n",
       "      <td>+33142811997</td>\n",
       "      <td>NaN</td>\n",
       "      <td>diane@2degrees-investing.org</td>\n",
       "    </tr>\n",
       "    <tr>\n",
       "      <th>2</th>\n",
       "      <td>2050 Climate GroupMs. Sophie Eastwood</td>\n",
       "      <td>Edinburgh</td>\n",
       "      <td>United Kingdom of Great Britain and Northern I...</td>\n",
       "      <td>Constituency - Youth</td>\n",
       "      <td>+441313132488</td>\n",
       "      <td>NaN</td>\n",
       "      <td>contact@2050.scot</td>\n",
       "    </tr>\n",
       "    <tr>\n",
       "      <th>3</th>\n",
       "      <td>A SEED EuropeMr. Flip Vonk</td>\n",
       "      <td>Amsterdam</td>\n",
       "      <td>Netherlands</td>\n",
       "      <td>Constituency - Environmental</td>\n",
       "      <td>(31-20) 668-2236</td>\n",
       "      <td>(31-20) 468-2275</td>\n",
       "      <td>info@aseed.net</td>\n",
       "    </tr>\n",
       "    <tr>\n",
       "      <th>4</th>\n",
       "      <td>A Sud Ecology and Cooperation - Onlus (A Sud)M...</td>\n",
       "      <td>Rome</td>\n",
       "      <td>Italy</td>\n",
       "      <td>Constituency - Environmental</td>\n",
       "      <td>NaN</td>\n",
       "      <td>NaN</td>\n",
       "      <td>luciegreyl@asud.net</td>\n",
       "    </tr>\n",
       "  </tbody>\n",
       "</table>\n",
       "</div>"
      ],
      "text/plain": [
       "                                       Official Name       City  \\\n",
       "0  #13 Foundation Climate and Sustainable Develop...     Warsaw   \n",
       "1  2° investing initiative (2°ii)Mr. Thibaut Ghir...      Paris   \n",
       "2              2050 Climate GroupMs. Sophie Eastwood  Edinburgh   \n",
       "3                         A SEED EuropeMr. Flip Vonk  Amsterdam   \n",
       "4  A Sud Ecology and Cooperation - Onlus (A Sud)M...       Rome   \n",
       "\n",
       "                                             Country  \\\n",
       "0                                             Poland   \n",
       "1                                             France   \n",
       "2  United Kingdom of Great Britain and Northern I...   \n",
       "3                                        Netherlands   \n",
       "4                                              Italy   \n",
       "\n",
       "                              Constituency             Phone  \\\n",
       "0             Constituency - Environmental               NaN   \n",
       "1  Constituency - Research and independent      +33142811997   \n",
       "2                     Constituency - Youth     +441313132488   \n",
       "3             Constituency - Environmental  (31-20) 668-2236   \n",
       "4             Constituency - Environmental               NaN   \n",
       "\n",
       "                Fax                          Email  \n",
       "0               NaN  emil.wroblewski@fundacja13.pl  \n",
       "1               NaN   diane@2degrees-investing.org  \n",
       "2               NaN              contact@2050.scot  \n",
       "3  (31-20) 468-2275                 info@aseed.net  \n",
       "4               NaN            luciegreyl@asud.net  "
      ]
     },
     "execution_count": 16,
     "metadata": {},
     "output_type": "execute_result"
    }
   ],
   "source": [
    "NGO_unfccc.head()"
   ]
  },
  {
   "cell_type": "code",
   "execution_count": 17,
   "metadata": {},
   "outputs": [],
   "source": [
    "# NGO_unfccc.to_csv(\"/Users/stefan/Desktop/Data Scraping/NGOs_UNFCCC.csv\", index = False)"
   ]
  },
  {
   "cell_type": "code",
   "execution_count": 18,
   "metadata": {},
   "outputs": [
    {
     "data": {
      "text/plain": [
       "(2340, 7)"
      ]
     },
     "execution_count": 18,
     "metadata": {},
     "output_type": "execute_result"
    }
   ],
   "source": [
    "NGO_unfccc.shape"
   ]
  },
  {
   "cell_type": "code",
   "execution_count": 19,
   "metadata": {},
   "outputs": [],
   "source": [
    "IGO_url = \"http://unfccc.int/process/parties-non-party-stakeholders/non-party-stakeholders/admitted-igos/list-of-admitted-igos\"\n",
    "IGO_page = get_page_source1(IGO_url)\n",
    "IGO_unfccc = pd.read_html(IGO_page, header = 0)[0]"
   ]
  },
  {
   "cell_type": "code",
   "execution_count": 20,
   "metadata": {},
   "outputs": [
    {
     "data": {
      "text/html": [
       "<div>\n",
       "<style scoped>\n",
       "    .dataframe tbody tr th:only-of-type {\n",
       "        vertical-align: middle;\n",
       "    }\n",
       "\n",
       "    .dataframe tbody tr th {\n",
       "        vertical-align: top;\n",
       "    }\n",
       "\n",
       "    .dataframe thead th {\n",
       "        text-align: right;\n",
       "    }\n",
       "</style>\n",
       "<table border=\"1\" class=\"dataframe\">\n",
       "  <thead>\n",
       "    <tr style=\"text-align: right;\">\n",
       "      <th></th>\n",
       "      <th>Official Name</th>\n",
       "      <th>City</th>\n",
       "      <th>Country</th>\n",
       "      <th>Phone</th>\n",
       "      <th>Fax</th>\n",
       "      <th>Email</th>\n",
       "    </tr>\n",
       "  </thead>\n",
       "  <tbody>\n",
       "    <tr>\n",
       "      <th>0</th>\n",
       "      <td>Adaptation Fund Board (AFB)Mr. Mikko Antti Oll...</td>\n",
       "      <td>Washington DC</td>\n",
       "      <td>United States of America</td>\n",
       "      <td>+1 202 458 7347</td>\n",
       "      <td>+1 202 522 3240</td>\n",
       "      <td>afbsec@adaptation-fund.org</td>\n",
       "    </tr>\n",
       "    <tr>\n",
       "      <th>1</th>\n",
       "      <td>NaN</td>\n",
       "      <td>NaN</td>\n",
       "      <td>NaN</td>\n",
       "      <td>NaN</td>\n",
       "      <td>NaN</td>\n",
       "      <td>NaN</td>\n",
       "    </tr>\n",
       "    <tr>\n",
       "      <th>2</th>\n",
       "      <td>African Centre of Meteorological Application f...</td>\n",
       "      <td>Niamey</td>\n",
       "      <td>Niger</td>\n",
       "      <td>(227-20) 72-3627</td>\n",
       "      <td>(227-20) 72-3627</td>\n",
       "      <td>dgacmad@acmad.org</td>\n",
       "    </tr>\n",
       "    <tr>\n",
       "      <th>3</th>\n",
       "      <td>NaN</td>\n",
       "      <td>NaN</td>\n",
       "      <td>NaN</td>\n",
       "      <td>NaN</td>\n",
       "      <td>NaN</td>\n",
       "      <td>NaN</td>\n",
       "    </tr>\n",
       "    <tr>\n",
       "      <th>4</th>\n",
       "      <td>African Development Bank Group (AfDB)Ms. Louis...</td>\n",
       "      <td>Tunis</td>\n",
       "      <td>Tunisia</td>\n",
       "      <td>(216) 7110-3900</td>\n",
       "      <td>(216) 7133-5929</td>\n",
       "      <td>afdb@afdb.org</td>\n",
       "    </tr>\n",
       "  </tbody>\n",
       "</table>\n",
       "</div>"
      ],
      "text/plain": [
       "                                       Official Name           City  \\\n",
       "0  Adaptation Fund Board (AFB)Mr. Mikko Antti Oll...  Washington DC   \n",
       "1                                                NaN            NaN   \n",
       "2  African Centre of Meteorological Application f...         Niamey   \n",
       "3                                                NaN            NaN   \n",
       "4  African Development Bank Group (AfDB)Ms. Louis...          Tunis   \n",
       "\n",
       "                    Country             Phone               Fax  \\\n",
       "0  United States of America   +1 202 458 7347   +1 202 522 3240   \n",
       "1                       NaN               NaN               NaN   \n",
       "2                     Niger  (227-20) 72-3627  (227-20) 72-3627   \n",
       "3                       NaN               NaN               NaN   \n",
       "4                   Tunisia   (216) 7110-3900   (216) 7133-5929   \n",
       "\n",
       "                        Email  \n",
       "0  afbsec@adaptation-fund.org  \n",
       "1                         NaN  \n",
       "2           dgacmad@acmad.org  \n",
       "3                         NaN  \n",
       "4               afdb@afdb.org  "
      ]
     },
     "execution_count": 20,
     "metadata": {},
     "output_type": "execute_result"
    }
   ],
   "source": [
    "IGO_unfccc.head()"
   ]
  },
  {
   "cell_type": "code",
   "execution_count": 21,
   "metadata": {},
   "outputs": [],
   "source": [
    "IGO_unfccc = IGO_unfccc.dropna(axis = 0, subset=[\"Official Name\"])"
   ]
  },
  {
   "cell_type": "code",
   "execution_count": 22,
   "metadata": {},
   "outputs": [],
   "source": [
    "IGO_unfccc.reset_index(drop = True, inplace = True)"
   ]
  },
  {
   "cell_type": "code",
   "execution_count": 23,
   "metadata": {},
   "outputs": [
    {
     "data": {
      "text/html": [
       "<div>\n",
       "<style scoped>\n",
       "    .dataframe tbody tr th:only-of-type {\n",
       "        vertical-align: middle;\n",
       "    }\n",
       "\n",
       "    .dataframe tbody tr th {\n",
       "        vertical-align: top;\n",
       "    }\n",
       "\n",
       "    .dataframe thead th {\n",
       "        text-align: right;\n",
       "    }\n",
       "</style>\n",
       "<table border=\"1\" class=\"dataframe\">\n",
       "  <thead>\n",
       "    <tr style=\"text-align: right;\">\n",
       "      <th></th>\n",
       "      <th>Official Name</th>\n",
       "      <th>City</th>\n",
       "      <th>Country</th>\n",
       "      <th>Phone</th>\n",
       "      <th>Fax</th>\n",
       "      <th>Email</th>\n",
       "    </tr>\n",
       "  </thead>\n",
       "  <tbody>\n",
       "    <tr>\n",
       "      <th>0</th>\n",
       "      <td>Adaptation Fund Board (AFB)Mr. Mikko Antti Oll...</td>\n",
       "      <td>Washington DC</td>\n",
       "      <td>United States of America</td>\n",
       "      <td>+1 202 458 7347</td>\n",
       "      <td>+1 202 522 3240</td>\n",
       "      <td>afbsec@adaptation-fund.org</td>\n",
       "    </tr>\n",
       "    <tr>\n",
       "      <th>1</th>\n",
       "      <td>African Centre of Meteorological Application f...</td>\n",
       "      <td>Niamey</td>\n",
       "      <td>Niger</td>\n",
       "      <td>(227-20) 72-3627</td>\n",
       "      <td>(227-20) 72-3627</td>\n",
       "      <td>dgacmad@acmad.org</td>\n",
       "    </tr>\n",
       "    <tr>\n",
       "      <th>2</th>\n",
       "      <td>African Development Bank Group (AfDB)Ms. Louis...</td>\n",
       "      <td>Tunis</td>\n",
       "      <td>Tunisia</td>\n",
       "      <td>(216) 7110-3900</td>\n",
       "      <td>(216) 7133-5929</td>\n",
       "      <td>afdb@afdb.org</td>\n",
       "    </tr>\n",
       "    <tr>\n",
       "      <th>3</th>\n",
       "      <td>African Regional Centre for Technology (ARCT)M...</td>\n",
       "      <td>Dakar</td>\n",
       "      <td>Senegal</td>\n",
       "      <td>(221)23-7712</td>\n",
       "      <td>(221)23-7713</td>\n",
       "      <td>arct@sonatel.senet.net</td>\n",
       "    </tr>\n",
       "    <tr>\n",
       "      <th>4</th>\n",
       "      <td>African Union Commission (AUC)Mr. Harsen Nyamb...</td>\n",
       "      <td>Addis Ababa</td>\n",
       "      <td>Ethiopia</td>\n",
       "      <td>(251-115) 51-7700</td>\n",
       "      <td>(251-115) 51-7844</td>\n",
       "      <td>NyambeH@africa-union.org</td>\n",
       "    </tr>\n",
       "  </tbody>\n",
       "</table>\n",
       "</div>"
      ],
      "text/plain": [
       "                                       Official Name           City  \\\n",
       "0  Adaptation Fund Board (AFB)Mr. Mikko Antti Oll...  Washington DC   \n",
       "1  African Centre of Meteorological Application f...         Niamey   \n",
       "2  African Development Bank Group (AfDB)Ms. Louis...          Tunis   \n",
       "3  African Regional Centre for Technology (ARCT)M...          Dakar   \n",
       "4  African Union Commission (AUC)Mr. Harsen Nyamb...    Addis Ababa   \n",
       "\n",
       "                    Country              Phone                Fax  \\\n",
       "0  United States of America    +1 202 458 7347    +1 202 522 3240   \n",
       "1                     Niger   (227-20) 72-3627   (227-20) 72-3627   \n",
       "2                   Tunisia    (216) 7110-3900    (216) 7133-5929   \n",
       "3                   Senegal       (221)23-7712       (221)23-7713   \n",
       "4                  Ethiopia  (251-115) 51-7700  (251-115) 51-7844   \n",
       "\n",
       "                        Email  \n",
       "0  afbsec@adaptation-fund.org  \n",
       "1           dgacmad@acmad.org  \n",
       "2               afdb@afdb.org  \n",
       "3      arct@sonatel.senet.net  \n",
       "4    NyambeH@africa-union.org  "
      ]
     },
     "execution_count": 23,
     "metadata": {},
     "output_type": "execute_result"
    }
   ],
   "source": [
    "IGO_unfccc.head()"
   ]
  },
  {
   "cell_type": "code",
   "execution_count": 24,
   "metadata": {},
   "outputs": [],
   "source": [
    "# IGO_unfccc.to_csv(\"/Users/stefan/Desktop/Data Scraping/IGOs_UNFCCC.csv\", index = False)"
   ]
  },
  {
   "cell_type": "code",
   "execution_count": 25,
   "metadata": {},
   "outputs": [
    {
     "data": {
      "text/plain": [
       "(135, 6)"
      ]
     },
     "execution_count": 25,
     "metadata": {},
     "output_type": "execute_result"
    }
   ],
   "source": [
    "IGO_unfccc.shape"
   ]
  },
  {
   "cell_type": "code",
   "execution_count": 26,
   "metadata": {},
   "outputs": [],
   "source": [
    "def split_coordinator_from_name(dataframe):\n",
    "    organization_names = list(dataframe[\"Official Name\"])\n",
    "    dataframe[\"Coordinator\"] = len(organization_names) * [np.nan]\n",
    "    for i in range(len(organization_names)):\n",
    "        organization = organization_names[i]\n",
    "        if \"Mr.\" in organization:\n",
    "            index = organization.find(\"Mr.\")\n",
    "            dataframe[\"Official Name\"].iloc[i] = organization[0:index]\n",
    "            dataframe[\"Coordinator\"].iloc[i] = organization[index:]\n",
    "        elif \"Sr.\" in organization:\n",
    "            index = organization.find(\"Sr.\")\n",
    "            dataframe[\"Official Name\"].iloc[i] = organization[0:index]\n",
    "            dataframe[\"Coordinator\"].iloc[i] = organization[index:]\n",
    "        elif \"M.\" in organization:\n",
    "            index = organization.find(\"M.\")\n",
    "            dataframe[\"Official Name\"].iloc[i] = organization[0:index]\n",
    "            dataframe[\"Coordinator\"].iloc[i] = organization[index:]\n",
    "        elif \"Ms.\" in organization:\n",
    "            index = organization.find(\"Ms.\")\n",
    "            dataframe[\"Official Name\"].iloc[i] = organization[0:index]\n",
    "            dataframe[\"Coordinator\"].iloc[i] = organization[index:]\n",
    "        elif \"Mrs.\" in organization:\n",
    "            index = organization.find(\"Mrs.\")\n",
    "            dataframe[\"Official Name\"].iloc[i] = organization[0:index]\n",
    "            dataframe[\"Coordinator\"].iloc[i] = organization[index:]\n",
    "        elif \"Sra.\" in organization:\n",
    "            index = organization.find(\"Sra.\")\n",
    "            dataframe[\"Official Name\"].iloc[i] = organization[0:index]\n",
    "            dataframe[\"Coordinator\"].iloc[i] = organization[index:]\n",
    "        elif \"Mme.\" in organization:\n",
    "            index = organization.find(\"Mme.\")\n",
    "            dataframe[\"Official Name\"].iloc[i] = organization[0:index]\n",
    "            dataframe[\"Coordinator\"].iloc[i] = organization[index:]\n",
    "        elif \"Mme\" in organization:\n",
    "            index = organization.find(\"Mme\")\n",
    "            dataframe[\"Official Name\"].iloc[i] = organization[0:index]\n",
    "            dataframe[\"Coordinator\"].iloc[i] = organization[index:]\n",
    "        else:\n",
    "            pass\n",
    "    return None\n",
    "            "
   ]
  },
  {
   "cell_type": "code",
   "execution_count": 27,
   "metadata": {},
   "outputs": [
    {
     "name": "stderr",
     "output_type": "stream",
     "text": [
      "/Users/stefan/py_38_env/lib/python3.8/site-packages/pandas/core/indexing.py:1637: SettingWithCopyWarning: \n",
      "A value is trying to be set on a copy of a slice from a DataFrame\n",
      "\n",
      "See the caveats in the documentation: https://pandas.pydata.org/pandas-docs/stable/user_guide/indexing.html#returning-a-view-versus-a-copy\n",
      "  self._setitem_single_block(indexer, value, name)\n"
     ]
    }
   ],
   "source": [
    "split_coordinator_from_name(NGO_unfccc)"
   ]
  },
  {
   "cell_type": "code",
   "execution_count": 31,
   "metadata": {},
   "outputs": [
    {
     "data": {
      "text/html": [
       "<div>\n",
       "<style scoped>\n",
       "    .dataframe tbody tr th:only-of-type {\n",
       "        vertical-align: middle;\n",
       "    }\n",
       "\n",
       "    .dataframe tbody tr th {\n",
       "        vertical-align: top;\n",
       "    }\n",
       "\n",
       "    .dataframe thead th {\n",
       "        text-align: right;\n",
       "    }\n",
       "</style>\n",
       "<table border=\"1\" class=\"dataframe\">\n",
       "  <thead>\n",
       "    <tr style=\"text-align: right;\">\n",
       "      <th></th>\n",
       "      <th>Official Name</th>\n",
       "      <th>City</th>\n",
       "      <th>Country</th>\n",
       "      <th>Constituency</th>\n",
       "      <th>Phone</th>\n",
       "      <th>Fax</th>\n",
       "      <th>Email</th>\n",
       "      <th>Coordinator</th>\n",
       "    </tr>\n",
       "  </thead>\n",
       "  <tbody>\n",
       "    <tr>\n",
       "      <th>0</th>\n",
       "      <td>#13 Foundation Climate and Sustainable Develop...</td>\n",
       "      <td>Warsaw</td>\n",
       "      <td>Poland</td>\n",
       "      <td>Constituency - Environmental</td>\n",
       "      <td>NaN</td>\n",
       "      <td>NaN</td>\n",
       "      <td>emil.wroblewski@fundacja13.pl</td>\n",
       "      <td>Mr. Emil Wroblewski</td>\n",
       "    </tr>\n",
       "    <tr>\n",
       "      <th>1</th>\n",
       "      <td>2° investing initiative (2°ii)</td>\n",
       "      <td>Paris</td>\n",
       "      <td>France</td>\n",
       "      <td>Constituency - Research and independent</td>\n",
       "      <td>+33142811997</td>\n",
       "      <td>NaN</td>\n",
       "      <td>diane@2degrees-investing.org</td>\n",
       "      <td>Mr. Thibaut Ghirardi</td>\n",
       "    </tr>\n",
       "    <tr>\n",
       "      <th>2</th>\n",
       "      <td>2050 Climate Group</td>\n",
       "      <td>Edinburgh</td>\n",
       "      <td>United Kingdom of Great Britain and Northern I...</td>\n",
       "      <td>Constituency - Youth</td>\n",
       "      <td>+441313132488</td>\n",
       "      <td>NaN</td>\n",
       "      <td>contact@2050.scot</td>\n",
       "      <td>Ms. Sophie Eastwood</td>\n",
       "    </tr>\n",
       "    <tr>\n",
       "      <th>3</th>\n",
       "      <td>A SEED Europe</td>\n",
       "      <td>Amsterdam</td>\n",
       "      <td>Netherlands</td>\n",
       "      <td>Constituency - Environmental</td>\n",
       "      <td>(31-20) 668-2236</td>\n",
       "      <td>(31-20) 468-2275</td>\n",
       "      <td>info@aseed.net</td>\n",
       "      <td>Mr. Flip Vonk</td>\n",
       "    </tr>\n",
       "    <tr>\n",
       "      <th>4</th>\n",
       "      <td>A Sud Ecology and Cooperation - Onlus (A Sud)</td>\n",
       "      <td>Rome</td>\n",
       "      <td>Italy</td>\n",
       "      <td>Constituency - Environmental</td>\n",
       "      <td>NaN</td>\n",
       "      <td>NaN</td>\n",
       "      <td>luciegreyl@asud.net</td>\n",
       "      <td>Ms. Lucie Greyl</td>\n",
       "    </tr>\n",
       "    <tr>\n",
       "      <th>...</th>\n",
       "      <td>...</td>\n",
       "      <td>...</td>\n",
       "      <td>...</td>\n",
       "      <td>...</td>\n",
       "      <td>...</td>\n",
       "      <td>...</td>\n",
       "      <td>...</td>\n",
       "      <td>...</td>\n",
       "    </tr>\n",
       "    <tr>\n",
       "      <th>95</th>\n",
       "      <td>Amour developpement environnement - Benin (ADE...</td>\n",
       "      <td>Glazoue</td>\n",
       "      <td>Benin</td>\n",
       "      <td>Constituency - Farmers</td>\n",
       "      <td>(229) 9563-5001</td>\n",
       "      <td>NaN</td>\n",
       "      <td>ong.adebenin@yahoo.fr</td>\n",
       "      <td>M. Saturnin Azonkpin</td>\n",
       "    </tr>\n",
       "    <tr>\n",
       "      <th>96</th>\n",
       "      <td>AMPLA Limited</td>\n",
       "      <td>Melbourne</td>\n",
       "      <td>Australia</td>\n",
       "      <td>Constituency - Research and independent</td>\n",
       "      <td>(61-3) 9670-2544</td>\n",
       "      <td>(61-3) 9670-2616</td>\n",
       "      <td>c.johnston@ampla.org</td>\n",
       "      <td>Ms. Georgie Smibert</td>\n",
       "    </tr>\n",
       "    <tr>\n",
       "      <th>97</th>\n",
       "      <td>An Organization for Socio-Economic Development...</td>\n",
       "      <td>Khulna</td>\n",
       "      <td>Bangladesh</td>\n",
       "      <td>Constituency - Environmental CAN</td>\n",
       "      <td>(88) 0-4181-3574</td>\n",
       "      <td>(88) 0-4173-1931</td>\n",
       "      <td>aosed_khulna@yahoo.com</td>\n",
       "      <td>Mr. Shamim Arfeen</td>\n",
       "    </tr>\n",
       "    <tr>\n",
       "      <th>98</th>\n",
       "      <td>Antarctic and Southern Ocean Coalition (ASOC)</td>\n",
       "      <td>Washington, DC</td>\n",
       "      <td>United States of America</td>\n",
       "      <td>Constituency - Environmental</td>\n",
       "      <td>(1-202) 234-2480</td>\n",
       "      <td>(1-202) 387-4823</td>\n",
       "      <td>secretariat@asoc.org</td>\n",
       "      <td>Ms. Claire Christian</td>\n",
       "    </tr>\n",
       "    <tr>\n",
       "      <th>99</th>\n",
       "      <td>Aotearoa Youth Leadership Institute (AYLI)</td>\n",
       "      <td>Auckland</td>\n",
       "      <td>New Zealand</td>\n",
       "      <td>Constituency - Youth</td>\n",
       "      <td>NaN</td>\n",
       "      <td>NaN</td>\n",
       "      <td>contact@ayli.org.nz</td>\n",
       "      <td>Mr. Benjamin Brooking</td>\n",
       "    </tr>\n",
       "  </tbody>\n",
       "</table>\n",
       "<p>100 rows × 8 columns</p>\n",
       "</div>"
      ],
      "text/plain": [
       "                                        Official Name            City  \\\n",
       "0   #13 Foundation Climate and Sustainable Develop...          Warsaw   \n",
       "1                      2° investing initiative (2°ii)           Paris   \n",
       "2                                  2050 Climate Group       Edinburgh   \n",
       "3                                       A SEED Europe       Amsterdam   \n",
       "4       A Sud Ecology and Cooperation - Onlus (A Sud)            Rome   \n",
       "..                                                ...             ...   \n",
       "95  Amour developpement environnement - Benin (ADE...         Glazoue   \n",
       "96                                      AMPLA Limited       Melbourne   \n",
       "97  An Organization for Socio-Economic Development...          Khulna   \n",
       "98      Antarctic and Southern Ocean Coalition (ASOC)  Washington, DC   \n",
       "99         Aotearoa Youth Leadership Institute (AYLI)        Auckland   \n",
       "\n",
       "                                              Country  \\\n",
       "0                                              Poland   \n",
       "1                                              France   \n",
       "2   United Kingdom of Great Britain and Northern I...   \n",
       "3                                         Netherlands   \n",
       "4                                               Italy   \n",
       "..                                                ...   \n",
       "95                                              Benin   \n",
       "96                                          Australia   \n",
       "97                                         Bangladesh   \n",
       "98                           United States of America   \n",
       "99                                        New Zealand   \n",
       "\n",
       "                               Constituency             Phone  \\\n",
       "0              Constituency - Environmental               NaN   \n",
       "1   Constituency - Research and independent      +33142811997   \n",
       "2                      Constituency - Youth     +441313132488   \n",
       "3              Constituency - Environmental  (31-20) 668-2236   \n",
       "4              Constituency - Environmental               NaN   \n",
       "..                                      ...               ...   \n",
       "95                   Constituency - Farmers   (229) 9563-5001   \n",
       "96  Constituency - Research and independent  (61-3) 9670-2544   \n",
       "97         Constituency - Environmental CAN  (88) 0-4181-3574   \n",
       "98             Constituency - Environmental  (1-202) 234-2480   \n",
       "99                     Constituency - Youth               NaN   \n",
       "\n",
       "                 Fax                          Email            Coordinator  \n",
       "0                NaN  emil.wroblewski@fundacja13.pl    Mr. Emil Wroblewski  \n",
       "1                NaN   diane@2degrees-investing.org   Mr. Thibaut Ghirardi  \n",
       "2                NaN              contact@2050.scot    Ms. Sophie Eastwood  \n",
       "3   (31-20) 468-2275                 info@aseed.net          Mr. Flip Vonk  \n",
       "4                NaN            luciegreyl@asud.net        Ms. Lucie Greyl  \n",
       "..               ...                            ...                    ...  \n",
       "95               NaN          ong.adebenin@yahoo.fr   M. Saturnin Azonkpin  \n",
       "96  (61-3) 9670-2616           c.johnston@ampla.org    Ms. Georgie Smibert  \n",
       "97  (88) 0-4173-1931         aosed_khulna@yahoo.com      Mr. Shamim Arfeen  \n",
       "98  (1-202) 387-4823           secretariat@asoc.org   Ms. Claire Christian  \n",
       "99               NaN            contact@ayli.org.nz  Mr. Benjamin Brooking  \n",
       "\n",
       "[100 rows x 8 columns]"
      ]
     },
     "execution_count": 31,
     "metadata": {},
     "output_type": "execute_result"
    }
   ],
   "source": [
    "NGO_unfccc.head(100)"
   ]
  },
  {
   "cell_type": "code",
   "execution_count": 29,
   "metadata": {},
   "outputs": [
    {
     "data": {
      "text/plain": [
       "'Action Solidarité Tiers-Monde a.s.b.l. (ASTM)'"
      ]
     },
     "execution_count": 29,
     "metadata": {},
     "output_type": "execute_result"
    }
   ],
   "source": [
    "NGO_unfccc[\"Official Name\"].iloc[22]"
   ]
  },
  {
   "cell_type": "code",
   "execution_count": 32,
   "metadata": {},
   "outputs": [],
   "source": [
    "NGO_unfccc.to_csv(\"/Users/stefan/Desktop/Data Scraping/NGOs_UNFCCC.csv\", index = False)"
   ]
  },
  {
   "cell_type": "code",
   "execution_count": 33,
   "metadata": {},
   "outputs": [
    {
     "name": "stderr",
     "output_type": "stream",
     "text": [
      "/Users/stefan/py_38_env/lib/python3.8/site-packages/pandas/core/indexing.py:1637: SettingWithCopyWarning: \n",
      "A value is trying to be set on a copy of a slice from a DataFrame\n",
      "\n",
      "See the caveats in the documentation: https://pandas.pydata.org/pandas-docs/stable/user_guide/indexing.html#returning-a-view-versus-a-copy\n",
      "  self._setitem_single_block(indexer, value, name)\n"
     ]
    }
   ],
   "source": [
    "split_coordinator_from_name(IGO_unfccc)\n",
    "IGO_unfccc.to_csv(\"/Users/stefan/Desktop/Data Scraping/IGOs_UNFCCC.csv\", index = False)"
   ]
  },
  {
   "cell_type": "code",
   "execution_count": 34,
   "metadata": {},
   "outputs": [
    {
     "data": {
      "text/html": [
       "<div>\n",
       "<style scoped>\n",
       "    .dataframe tbody tr th:only-of-type {\n",
       "        vertical-align: middle;\n",
       "    }\n",
       "\n",
       "    .dataframe tbody tr th {\n",
       "        vertical-align: top;\n",
       "    }\n",
       "\n",
       "    .dataframe thead th {\n",
       "        text-align: right;\n",
       "    }\n",
       "</style>\n",
       "<table border=\"1\" class=\"dataframe\">\n",
       "  <thead>\n",
       "    <tr style=\"text-align: right;\">\n",
       "      <th></th>\n",
       "      <th>Official Name</th>\n",
       "      <th>City</th>\n",
       "      <th>Country</th>\n",
       "      <th>Phone</th>\n",
       "      <th>Fax</th>\n",
       "      <th>Email</th>\n",
       "      <th>Coordinator</th>\n",
       "    </tr>\n",
       "  </thead>\n",
       "  <tbody>\n",
       "    <tr>\n",
       "      <th>0</th>\n",
       "      <td>Adaptation Fund Board (AFB)</td>\n",
       "      <td>Washington DC</td>\n",
       "      <td>United States of America</td>\n",
       "      <td>+1 202 458 7347</td>\n",
       "      <td>+1 202 522 3240</td>\n",
       "      <td>afbsec@adaptation-fund.org</td>\n",
       "      <td>Mr. Mikko Antti Ollikainen</td>\n",
       "    </tr>\n",
       "    <tr>\n",
       "      <th>1</th>\n",
       "      <td>African Centre of Meteorological Application f...</td>\n",
       "      <td>Niamey</td>\n",
       "      <td>Niger</td>\n",
       "      <td>(227-20) 72-3627</td>\n",
       "      <td>(227-20) 72-3627</td>\n",
       "      <td>dgacmad@acmad.org</td>\n",
       "      <td>Ms. Safia Alfa</td>\n",
       "    </tr>\n",
       "    <tr>\n",
       "      <th>2</th>\n",
       "      <td>African Development Bank Group (AfDB)</td>\n",
       "      <td>Tunis</td>\n",
       "      <td>Tunisia</td>\n",
       "      <td>(216) 7110-3900</td>\n",
       "      <td>(216) 7133-5929</td>\n",
       "      <td>afdb@afdb.org</td>\n",
       "      <td>Ms. Louise Helen Brown</td>\n",
       "    </tr>\n",
       "    <tr>\n",
       "      <th>3</th>\n",
       "      <td>African Regional Centre for Technology (ARCT)</td>\n",
       "      <td>Dakar</td>\n",
       "      <td>Senegal</td>\n",
       "      <td>(221)23-7712</td>\n",
       "      <td>(221)23-7713</td>\n",
       "      <td>arct@sonatel.senet.net</td>\n",
       "      <td>Mr. Ousmane Kane</td>\n",
       "    </tr>\n",
       "    <tr>\n",
       "      <th>4</th>\n",
       "      <td>African Union Commission (AUC)</td>\n",
       "      <td>Addis Ababa</td>\n",
       "      <td>Ethiopia</td>\n",
       "      <td>(251-115) 51-7700</td>\n",
       "      <td>(251-115) 51-7844</td>\n",
       "      <td>NyambeH@africa-union.org</td>\n",
       "      <td>Mr. Harsen Nyambe Nyambe</td>\n",
       "    </tr>\n",
       "    <tr>\n",
       "      <th>5</th>\n",
       "      <td>African, Caribbean and Pacific Group of States...</td>\n",
       "      <td>Brussels</td>\n",
       "      <td>Belgium</td>\n",
       "      <td>(32-2) 743-0600</td>\n",
       "      <td>NaN</td>\n",
       "      <td>info@acp.int</td>\n",
       "      <td>Mr. Israel Olusola Ojo</td>\n",
       "    </tr>\n",
       "    <tr>\n",
       "      <th>6</th>\n",
       "      <td>Amazon Cooperation Treaty Organization (ACTO)</td>\n",
       "      <td>Brasilia</td>\n",
       "      <td>Brazil</td>\n",
       "      <td>(55-61) 3248-4119</td>\n",
       "      <td>(55-61) 3248-4238</td>\n",
       "      <td>secretaria.permanente@otca.org.br</td>\n",
       "      <td>Mr. Carlos Alfredo Lazary Teixeira</td>\n",
       "    </tr>\n",
       "    <tr>\n",
       "      <th>7</th>\n",
       "      <td>Asian Development Bank (ADB)</td>\n",
       "      <td>Mandaluyong City</td>\n",
       "      <td>Philippines</td>\n",
       "      <td>(63-2) 632-4444</td>\n",
       "      <td>(63-2) 636-2444</td>\n",
       "      <td>information@adb.org</td>\n",
       "      <td>Ms. Preety Malhotra Bhandari</td>\n",
       "    </tr>\n",
       "    <tr>\n",
       "      <th>8</th>\n",
       "      <td>Asian Productivity Organization (APO)</td>\n",
       "      <td>Tokyo</td>\n",
       "      <td>Japan</td>\n",
       "      <td>(81-3)3830 0415</td>\n",
       "      <td>(81-3)3830 5324</td>\n",
       "      <td>rp@apo-tokyo.org</td>\n",
       "      <td>Mr. Yasuko Asano</td>\n",
       "    </tr>\n",
       "    <tr>\n",
       "      <th>9</th>\n",
       "      <td>Asian-African Legal Consultative Organization ...</td>\n",
       "      <td>New Delhi</td>\n",
       "      <td>India</td>\n",
       "      <td>(91-11) 2611-7641 / 2419-7000</td>\n",
       "      <td>(91-11) 2611-7640</td>\n",
       "      <td>mail@aalco.int</td>\n",
       "      <td>Mr. Roy Lee</td>\n",
       "    </tr>\n",
       "    <tr>\n",
       "      <th>10</th>\n",
       "      <td>Association of Southeast Asian Nations (ASEAN)</td>\n",
       "      <td>Jakarta Selatan</td>\n",
       "      <td>Indonesia</td>\n",
       "      <td>(62-21)726-2991/724-3372</td>\n",
       "      <td>(62-21)724-3502/739-8234</td>\n",
       "      <td>environment@asean.org</td>\n",
       "      <td>Mr. Vong Sok</td>\n",
       "    </tr>\n",
       "    <tr>\n",
       "      <th>11</th>\n",
       "      <td>Autorité de développement intégré de la région...</td>\n",
       "      <td>Ouagadougou 1</td>\n",
       "      <td>Burkina Faso</td>\n",
       "      <td>(226) 2530-6148/49</td>\n",
       "      <td>(226) 2530-8588</td>\n",
       "      <td>dg@liptakogourma.org</td>\n",
       "      <td>M. Donseg Salvador Aristide Somda</td>\n",
       "    </tr>\n",
       "    <tr>\n",
       "      <th>12</th>\n",
       "      <td>Banco Centroamericano de Integración Económica...</td>\n",
       "      <td>Tegucigalpa</td>\n",
       "      <td>Honduras</td>\n",
       "      <td>(504) 22402264</td>\n",
       "      <td>NaN</td>\n",
       "      <td>hookerr@bcie.org</td>\n",
       "      <td>Mr. Randall Joseph Hooker Urroz</td>\n",
       "    </tr>\n",
       "    <tr>\n",
       "      <th>13</th>\n",
       "      <td>Banque Ouest Africaine de Developpement (BOAD)</td>\n",
       "      <td>Lome</td>\n",
       "      <td>Togo</td>\n",
       "      <td>(228) 2223 2692</td>\n",
       "      <td>NaN</td>\n",
       "      <td>itraore@boad.org</td>\n",
       "      <td>M. Bio Dabo Yacoubou Bio Sawe</td>\n",
       "    </tr>\n",
       "    <tr>\n",
       "      <th>14</th>\n",
       "      <td>Black Sea Trade and Development Bank (BSTDB)</td>\n",
       "      <td>Thessaloniki</td>\n",
       "      <td>Greece</td>\n",
       "      <td>(30) 2310290400</td>\n",
       "      <td>NaN</td>\n",
       "      <td>info@bstdb.org</td>\n",
       "      <td>Mr. Mircea Cojocaru</td>\n",
       "    </tr>\n",
       "    <tr>\n",
       "      <th>15</th>\n",
       "      <td>CAB International (CABI)</td>\n",
       "      <td>Oxon</td>\n",
       "      <td>United Kingdom of Great Britain and Northern I...</td>\n",
       "      <td>(44-149)183-2111</td>\n",
       "      <td>(44-149)183-3508</td>\n",
       "      <td>enquiries@cabi.org</td>\n",
       "      <td>Mr. Jonathan Casey</td>\n",
       "    </tr>\n",
       "    <tr>\n",
       "      <th>16</th>\n",
       "      <td>Caribbean Community Climate Change Centre (CCCCC)</td>\n",
       "      <td>Belmopan</td>\n",
       "      <td>Belize</td>\n",
       "      <td>(501) 822-1104 / 1094</td>\n",
       "      <td>(501) 822-1365</td>\n",
       "      <td>evalladares@caribbeanclimate.bz</td>\n",
       "      <td>Ms. Ethlyn Valladares</td>\n",
       "    </tr>\n",
       "    <tr>\n",
       "      <th>17</th>\n",
       "      <td>Caribbean Community Secretariat (CARICOM)</td>\n",
       "      <td>Georgetown</td>\n",
       "      <td>Guyana</td>\n",
       "      <td>(592)2-2200-01 to 75</td>\n",
       "      <td>(592)222-0171</td>\n",
       "      <td>registry@caricom.org</td>\n",
       "      <td>Ms. Patricia Ann Nelson</td>\n",
       "    </tr>\n",
       "    <tr>\n",
       "      <th>18</th>\n",
       "      <td>Caribbean Development Bank (CDB)</td>\n",
       "      <td>St. Michael</td>\n",
       "      <td>Barbados</td>\n",
       "      <td>(1-246)431-1600</td>\n",
       "      <td>(1-246)426-7269</td>\n",
       "      <td>info@caribank.org</td>\n",
       "      <td>Ms. Cheryl Dixon</td>\n",
       "    </tr>\n",
       "    <tr>\n",
       "      <th>19</th>\n",
       "      <td>Caribbean Meteorological Organization (CMO)</td>\n",
       "      <td>Port of Spain</td>\n",
       "      <td>Trinidad and Tobago</td>\n",
       "      <td>(1-868)622-4711</td>\n",
       "      <td>(1-868)622-0277</td>\n",
       "      <td>cmohq@cmo.org.tt</td>\n",
       "      <td>Ms. Arlene Laing</td>\n",
       "    </tr>\n",
       "    <tr>\n",
       "      <th>20</th>\n",
       "      <td>Center for International Forestry Research (CI...</td>\n",
       "      <td>Bogor</td>\n",
       "      <td>Indonesia</td>\n",
       "      <td>(62-251) 862-2622</td>\n",
       "      <td>(62-251) 862-2100</td>\n",
       "      <td>cifor@cgiar.org</td>\n",
       "      <td>Ms. Amy Duchelle</td>\n",
       "    </tr>\n",
       "    <tr>\n",
       "      <th>21</th>\n",
       "      <td>Centre for Environment &amp; Development for Arab ...</td>\n",
       "      <td>Cairo</td>\n",
       "      <td>Egypt</td>\n",
       "      <td>+2 02 2451 3921/2/3/4</td>\n",
       "      <td>(20-2)2451 3918</td>\n",
       "      <td>mail@cedare.int</td>\n",
       "      <td>Ms. Mayar Sabet</td>\n",
       "    </tr>\n",
       "    <tr>\n",
       "      <th>22</th>\n",
       "      <td>Centro de coordinación para la Prevención de l...</td>\n",
       "      <td>Ciudad de Guatemala</td>\n",
       "      <td>Guatemala</td>\n",
       "      <td>502-2390-0221</td>\n",
       "      <td>NaN</td>\n",
       "      <td>jvasquez@sica.int</td>\n",
       "      <td>Mr. Juan Vasquez</td>\n",
       "    </tr>\n",
       "    <tr>\n",
       "      <th>23</th>\n",
       "      <td>Centro del Agua del Trópico Húmedo para Améric...</td>\n",
       "      <td>Ciudad de Panama</td>\n",
       "      <td>Panama</td>\n",
       "      <td>(507)317-3200</td>\n",
       "      <td>(507)317-3299</td>\n",
       "      <td>cathalac@cathalac.org</td>\n",
       "      <td>Ms. Roxana Segundo</td>\n",
       "    </tr>\n",
       "    <tr>\n",
       "      <th>24</th>\n",
       "      <td>CGIAR System Organization</td>\n",
       "      <td>Montpellier</td>\n",
       "      <td>France</td>\n",
       "      <td>+33467047575</td>\n",
       "      <td>NaN</td>\n",
       "      <td>contact@cgiar.org</td>\n",
       "      <td>Mr. André Zandstra</td>\n",
       "    </tr>\n",
       "    <tr>\n",
       "      <th>25</th>\n",
       "      <td>Comisión Centroamericana de Ambiente y Desarro...</td>\n",
       "      <td>Antiguo Cuscatlán</td>\n",
       "      <td>El Salvador</td>\n",
       "      <td>(503) 2248-8800</td>\n",
       "      <td>(503) 2248-8894</td>\n",
       "      <td>snieto@sica.int</td>\n",
       "      <td>Sr. Salvador Ernesto Nieto Cárcamo</td>\n",
       "    </tr>\n",
       "    <tr>\n",
       "      <th>26</th>\n",
       "      <td>Comité permanent inter-états de lutte contre l...</td>\n",
       "      <td>Ouagadougou 03</td>\n",
       "      <td>Burkina Faso</td>\n",
       "      <td>(226) 25 499600 / (226) 25 374125/26</td>\n",
       "      <td>(226) 2537-4132</td>\n",
       "      <td>administration.se@cilss.int</td>\n",
       "      <td>Mr. Philippe Zoungrana</td>\n",
       "    </tr>\n",
       "    <tr>\n",
       "      <th>27</th>\n",
       "      <td>Commission de l'ocean Indien (COI)</td>\n",
       "      <td>Quatre Bornes</td>\n",
       "      <td>Mauritius</td>\n",
       "      <td>(230) 425-9564</td>\n",
       "      <td>(230) 425-2487</td>\n",
       "      <td>secretariat@coi-ioc.org</td>\n",
       "      <td>Ms. Gina Bonne</td>\n",
       "    </tr>\n",
       "    <tr>\n",
       "      <th>28</th>\n",
       "      <td>Commission des Forêts d'Afrique Centrale (COMI...</td>\n",
       "      <td>Yaounde</td>\n",
       "      <td>Cameroon</td>\n",
       "      <td>(237-22) 21-3511</td>\n",
       "      <td>(237-22) 21-3512</td>\n",
       "      <td>comifac@comifac.org</td>\n",
       "      <td>M. Chouaibou Nchoutpouen</td>\n",
       "    </tr>\n",
       "    <tr>\n",
       "      <th>29</th>\n",
       "      <td>Commission for Environmental Cooperation (CEC)</td>\n",
       "      <td>Montreal</td>\n",
       "      <td>Canada</td>\n",
       "      <td>(1-514)350-4300</td>\n",
       "      <td>(1-514)350-4314</td>\n",
       "      <td>ndaoust@cec.org</td>\n",
       "      <td>Ms. Nathalie Daoust</td>\n",
       "    </tr>\n",
       "    <tr>\n",
       "      <th>30</th>\n",
       "      <td>Common Market for Eastern and Southern Africa ...</td>\n",
       "      <td>Lusaka</td>\n",
       "      <td>Zambia</td>\n",
       "      <td>(260-211) 22-9725 / 32</td>\n",
       "      <td>(260-211) 22-5107</td>\n",
       "      <td>secgen@comesa.int</td>\n",
       "      <td>Mr. Mclay Lynden Kanyangarara</td>\n",
       "    </tr>\n",
       "    <tr>\n",
       "      <th>31</th>\n",
       "      <td>Commonwealth Foundation</td>\n",
       "      <td>London</td>\n",
       "      <td>United Kingdom of Great Britain and Northern I...</td>\n",
       "      <td>(44-20) 7747-6506</td>\n",
       "      <td>(44-20) 7839-8157</td>\n",
       "      <td>t.andrews@commonwealth.int</td>\n",
       "      <td>Ms. Anne Therese Gallagher</td>\n",
       "    </tr>\n",
       "    <tr>\n",
       "      <th>32</th>\n",
       "      <td>Commonwealth Secretariat (COMSEC)</td>\n",
       "      <td>London</td>\n",
       "      <td>United Kingdom of Great Britain and Northern I...</td>\n",
       "      <td>+44 75 87 63 45 92 / +44 20 7747-6500</td>\n",
       "      <td>+44-20 7004 3745</td>\n",
       "      <td>u.nair@commonwealth.int</td>\n",
       "      <td>Mr. Unnikrishnan Divakaran Nair</td>\n",
       "    </tr>\n",
       "    <tr>\n",
       "      <th>33</th>\n",
       "      <td>Communauté éconmomique et monétaire de l'Afriq...</td>\n",
       "      <td>Bangui</td>\n",
       "      <td>Central African Republic</td>\n",
       "      <td>(236)61-2135</td>\n",
       "      <td>(236)61-2135</td>\n",
       "      <td>sgudeac@intnet.cf</td>\n",
       "      <td>M. Pierre Randah</td>\n",
       "    </tr>\n",
       "    <tr>\n",
       "      <th>34</th>\n",
       "      <td>Congress of Local and Regional Authorities of ...</td>\n",
       "      <td>Strasbourg</td>\n",
       "      <td>France</td>\n",
       "      <td>(33-3) 8841-2010</td>\n",
       "      <td>(33-3) 8841-3747</td>\n",
       "      <td>congress.com@coe.int</td>\n",
       "      <td>Ms. Marité Moras Rodriguez</td>\n",
       "    </tr>\n",
       "    <tr>\n",
       "      <th>35</th>\n",
       "      <td>Convention on Wetlands of International Import...</td>\n",
       "      <td>Gland</td>\n",
       "      <td>Switzerland</td>\n",
       "      <td>(41-22) 999-0179</td>\n",
       "      <td>(41-22) 999-0169</td>\n",
       "      <td>ramsar@ramsar.org</td>\n",
       "      <td>Ms. Delphine Bremond</td>\n",
       "    </tr>\n",
       "    <tr>\n",
       "      <th>36</th>\n",
       "      <td>Cooperation Council for The Arab States of the...</td>\n",
       "      <td>Riyadh</td>\n",
       "      <td>Saudi Arabia</td>\n",
       "      <td>(966-1)482-7777</td>\n",
       "      <td>(966-1)482-9089</td>\n",
       "      <td>abastaki@gccsg.org</td>\n",
       "      <td>Mr. Adel Bastaki</td>\n",
       "    </tr>\n",
       "    <tr>\n",
       "      <th>37</th>\n",
       "      <td>Corporación Andina de Fomento (CAF)</td>\n",
       "      <td>Caracas</td>\n",
       "      <td>Venezuela (Bolivarian Republic of)</td>\n",
       "      <td>(58-212)209-2111</td>\n",
       "      <td>(58-212)209-2437</td>\n",
       "      <td>uelizondo@caf.com</td>\n",
       "      <td>Mr. Ubaldo Elizondo</td>\n",
       "    </tr>\n",
       "    <tr>\n",
       "      <th>38</th>\n",
       "      <td>Council of Europe (COE)</td>\n",
       "      <td>Strasbourg</td>\n",
       "      <td>France</td>\n",
       "      <td>(33-3) 8841-2000</td>\n",
       "      <td>(33-3) 8841-2717</td>\n",
       "      <td>assembly@coe.int</td>\n",
       "      <td>Ms. Aiste Ramanauskaite</td>\n",
       "    </tr>\n",
       "    <tr>\n",
       "      <th>39</th>\n",
       "      <td>Council of Europe Development Bank (CEB)</td>\n",
       "      <td>Paris</td>\n",
       "      <td>France</td>\n",
       "      <td>+33(0)147555500</td>\n",
       "      <td>+33(0)147550338</td>\n",
       "      <td>info@coebank.org</td>\n",
       "      <td>Ms. Isabelle Marie Madeleine Brun</td>\n",
       "    </tr>\n",
       "    <tr>\n",
       "      <th>40</th>\n",
       "      <td>East African Community (EAC)</td>\n",
       "      <td>Arusha</td>\n",
       "      <td>United Republic of Tanzania</td>\n",
       "      <td>+255 27 250 4253/8</td>\n",
       "      <td>+255 27 250 4255</td>\n",
       "      <td>eac@eachq.org</td>\n",
       "      <td>Mr. Ladislaus Leonidas Kyaruzi</td>\n",
       "    </tr>\n",
       "    <tr>\n",
       "      <th>41</th>\n",
       "      <td>Economic Community of Central African States (...</td>\n",
       "      <td>Libreville</td>\n",
       "      <td>Gabon</td>\n",
       "      <td>+24101444731</td>\n",
       "      <td>+24101444732</td>\n",
       "      <td>secretariat@ceeac-eccas.org</td>\n",
       "      <td>Mr. Dominique Kuitsouc</td>\n",
       "    </tr>\n",
       "    <tr>\n",
       "      <th>42</th>\n",
       "      <td>Economic Community of West African States (ECO...</td>\n",
       "      <td>Abuja</td>\n",
       "      <td>Nigeria</td>\n",
       "      <td>(+234 9) 314 7647-9, 314 7427-9</td>\n",
       "      <td>(+234 9) 314 7646, 314 3005</td>\n",
       "      <td>info@ecowas.int</td>\n",
       "      <td>Mr. Johnson Boanuh</td>\n",
       "    </tr>\n",
       "    <tr>\n",
       "      <th>43</th>\n",
       "      <td>Economic Cooperation Organization (ECO)</td>\n",
       "      <td>Tehran</td>\n",
       "      <td>Iran (Islamic Republic of)</td>\n",
       "      <td>+98 21 2283 1733</td>\n",
       "      <td>+98 21 2283 1732</td>\n",
       "      <td>registry@ecosecretariat.org</td>\n",
       "      <td>Mr. Abolfazl Azizipanah</td>\n",
       "    </tr>\n",
       "    <tr>\n",
       "      <th>44</th>\n",
       "      <td>ECOWAS Regional Centre for Renewable Energy an...</td>\n",
       "      <td>Praia</td>\n",
       "      <td>Cabo Verde</td>\n",
       "      <td>(238) 260-4630</td>\n",
       "      <td>(238) 262-4614</td>\n",
       "      <td>info@ecreee.org</td>\n",
       "      <td>Ms. Adeola Adebiyi</td>\n",
       "    </tr>\n",
       "    <tr>\n",
       "      <th>45</th>\n",
       "      <td>Energy Charter Conference (ECS)</td>\n",
       "      <td>Brussels</td>\n",
       "      <td>Belgium</td>\n",
       "      <td>(32-2) 775-9800</td>\n",
       "      <td>(32-2) 775-9801</td>\n",
       "      <td>ee@encharter.org</td>\n",
       "      <td>Ms. Sarah Keay-Bright</td>\n",
       "    </tr>\n",
       "    <tr>\n",
       "      <th>46</th>\n",
       "      <td>Energy Community</td>\n",
       "      <td>Vienna</td>\n",
       "      <td>Austria</td>\n",
       "      <td>+431535222211</td>\n",
       "      <td>NaN</td>\n",
       "      <td>sustainability@energy-community.org</td>\n",
       "      <td>Ms. Irina Lazzerini</td>\n",
       "    </tr>\n",
       "    <tr>\n",
       "      <th>47</th>\n",
       "      <td>EUROFISH International Organisation (EUROFISH)</td>\n",
       "      <td>Copenhagen</td>\n",
       "      <td>Denmark</td>\n",
       "      <td>(45) 3337-7755</td>\n",
       "      <td>(45) 3337-7756</td>\n",
       "      <td>gilles.vandewalle@eurofish.dk</td>\n",
       "      <td>Mr. Gilles van de Walle</td>\n",
       "    </tr>\n",
       "    <tr>\n",
       "      <th>48</th>\n",
       "      <td>European Bank for Reconstruction and Developme...</td>\n",
       "      <td>London</td>\n",
       "      <td>United Kingdom of Great Britain and Northern I...</td>\n",
       "      <td>(44-20) 7338-6000</td>\n",
       "      <td>(44-20) 7338-6100</td>\n",
       "      <td>tanakaj@ebrd.com</td>\n",
       "      <td>Ms. Beatriz De Lorenzi</td>\n",
       "    </tr>\n",
       "    <tr>\n",
       "      <th>49</th>\n",
       "      <td>European Forest Institute (EFI)</td>\n",
       "      <td>Joensuu</td>\n",
       "      <td>Finland</td>\n",
       "      <td>(358-10) 773-4300</td>\n",
       "      <td>NaN</td>\n",
       "      <td>efisec@efi.int</td>\n",
       "      <td>Mr. Jerker Brolén</td>\n",
       "    </tr>\n",
       "  </tbody>\n",
       "</table>\n",
       "</div>"
      ],
      "text/plain": [
       "                                        Official Name                 City  \\\n",
       "0                         Adaptation Fund Board (AFB)        Washington DC   \n",
       "1   African Centre of Meteorological Application f...               Niamey   \n",
       "2               African Development Bank Group (AfDB)                Tunis   \n",
       "3       African Regional Centre for Technology (ARCT)                Dakar   \n",
       "4                      African Union Commission (AUC)          Addis Ababa   \n",
       "5   African, Caribbean and Pacific Group of States...             Brussels   \n",
       "6       Amazon Cooperation Treaty Organization (ACTO)             Brasilia   \n",
       "7                        Asian Development Bank (ADB)     Mandaluyong City   \n",
       "8               Asian Productivity Organization (APO)                Tokyo   \n",
       "9   Asian-African Legal Consultative Organization ...            New Delhi   \n",
       "10     Association of Southeast Asian Nations (ASEAN)      Jakarta Selatan   \n",
       "11  Autorité de développement intégré de la région...        Ouagadougou 1   \n",
       "12  Banco Centroamericano de Integración Económica...          Tegucigalpa   \n",
       "13     Banque Ouest Africaine de Developpement (BOAD)                 Lome   \n",
       "14       Black Sea Trade and Development Bank (BSTDB)         Thessaloniki   \n",
       "15                           CAB International (CABI)                 Oxon   \n",
       "16  Caribbean Community Climate Change Centre (CCCCC)             Belmopan   \n",
       "17          Caribbean Community Secretariat (CARICOM)           Georgetown   \n",
       "18                   Caribbean Development Bank (CDB)          St. Michael   \n",
       "19        Caribbean Meteorological Organization (CMO)        Port of Spain   \n",
       "20  Center for International Forestry Research (CI...                Bogor   \n",
       "21  Centre for Environment & Development for Arab ...                Cairo   \n",
       "22  Centro de coordinación para la Prevención de l...  Ciudad de Guatemala   \n",
       "23  Centro del Agua del Trópico Húmedo para Améric...     Ciudad de Panama   \n",
       "24                          CGIAR System Organization          Montpellier   \n",
       "25  Comisión Centroamericana de Ambiente y Desarro...    Antiguo Cuscatlán   \n",
       "26  Comité permanent inter-états de lutte contre l...       Ouagadougou 03   \n",
       "27                 Commission de l'ocean Indien (COI)        Quatre Bornes   \n",
       "28  Commission des Forêts d'Afrique Centrale (COMI...              Yaounde   \n",
       "29     Commission for Environmental Cooperation (CEC)             Montreal   \n",
       "30  Common Market for Eastern and Southern Africa ...               Lusaka   \n",
       "31                            Commonwealth Foundation               London   \n",
       "32                  Commonwealth Secretariat (COMSEC)               London   \n",
       "33  Communauté éconmomique et monétaire de l'Afriq...               Bangui   \n",
       "34  Congress of Local and Regional Authorities of ...           Strasbourg   \n",
       "35  Convention on Wetlands of International Import...                Gland   \n",
       "36  Cooperation Council for The Arab States of the...               Riyadh   \n",
       "37                Corporación Andina de Fomento (CAF)              Caracas   \n",
       "38                            Council of Europe (COE)           Strasbourg   \n",
       "39           Council of Europe Development Bank (CEB)                Paris   \n",
       "40                       East African Community (EAC)               Arusha   \n",
       "41  Economic Community of Central African States (...           Libreville   \n",
       "42  Economic Community of West African States (ECO...                Abuja   \n",
       "43            Economic Cooperation Organization (ECO)               Tehran   \n",
       "44  ECOWAS Regional Centre for Renewable Energy an...                Praia   \n",
       "45                    Energy Charter Conference (ECS)             Brussels   \n",
       "46                                   Energy Community               Vienna   \n",
       "47     EUROFISH International Organisation (EUROFISH)           Copenhagen   \n",
       "48  European Bank for Reconstruction and Developme...               London   \n",
       "49                    European Forest Institute (EFI)              Joensuu   \n",
       "\n",
       "                                              Country  \\\n",
       "0                            United States of America   \n",
       "1                                               Niger   \n",
       "2                                             Tunisia   \n",
       "3                                             Senegal   \n",
       "4                                            Ethiopia   \n",
       "5                                             Belgium   \n",
       "6                                              Brazil   \n",
       "7                                         Philippines   \n",
       "8                                               Japan   \n",
       "9                                               India   \n",
       "10                                          Indonesia   \n",
       "11                                       Burkina Faso   \n",
       "12                                           Honduras   \n",
       "13                                               Togo   \n",
       "14                                             Greece   \n",
       "15  United Kingdom of Great Britain and Northern I...   \n",
       "16                                             Belize   \n",
       "17                                             Guyana   \n",
       "18                                           Barbados   \n",
       "19                                Trinidad and Tobago   \n",
       "20                                          Indonesia   \n",
       "21                                              Egypt   \n",
       "22                                          Guatemala   \n",
       "23                                             Panama   \n",
       "24                                             France   \n",
       "25                                        El Salvador   \n",
       "26                                       Burkina Faso   \n",
       "27                                          Mauritius   \n",
       "28                                           Cameroon   \n",
       "29                                             Canada   \n",
       "30                                             Zambia   \n",
       "31  United Kingdom of Great Britain and Northern I...   \n",
       "32  United Kingdom of Great Britain and Northern I...   \n",
       "33                           Central African Republic   \n",
       "34                                             France   \n",
       "35                                        Switzerland   \n",
       "36                                       Saudi Arabia   \n",
       "37                 Venezuela (Bolivarian Republic of)   \n",
       "38                                             France   \n",
       "39                                             France   \n",
       "40                        United Republic of Tanzania   \n",
       "41                                              Gabon   \n",
       "42                                            Nigeria   \n",
       "43                         Iran (Islamic Republic of)   \n",
       "44                                         Cabo Verde   \n",
       "45                                            Belgium   \n",
       "46                                            Austria   \n",
       "47                                            Denmark   \n",
       "48  United Kingdom of Great Britain and Northern I...   \n",
       "49                                            Finland   \n",
       "\n",
       "                                    Phone                          Fax  \\\n",
       "0                         +1 202 458 7347              +1 202 522 3240   \n",
       "1                        (227-20) 72-3627             (227-20) 72-3627   \n",
       "2                         (216) 7110-3900              (216) 7133-5929   \n",
       "3                            (221)23-7712                 (221)23-7713   \n",
       "4                       (251-115) 51-7700            (251-115) 51-7844   \n",
       "5                         (32-2) 743-0600                          NaN   \n",
       "6                       (55-61) 3248-4119            (55-61) 3248-4238   \n",
       "7                         (63-2) 632-4444              (63-2) 636-2444   \n",
       "8                         (81-3)3830 0415              (81-3)3830 5324   \n",
       "9           (91-11) 2611-7641 / 2419-7000            (91-11) 2611-7640   \n",
       "10               (62-21)726-2991/724-3372     (62-21)724-3502/739-8234   \n",
       "11                     (226) 2530-6148/49              (226) 2530-8588   \n",
       "12                         (504) 22402264                          NaN   \n",
       "13                        (228) 2223 2692                          NaN   \n",
       "14                        (30) 2310290400                          NaN   \n",
       "15                       (44-149)183-2111             (44-149)183-3508   \n",
       "16                  (501) 822-1104 / 1094               (501) 822-1365   \n",
       "17                   (592)2-2200-01 to 75                (592)222-0171   \n",
       "18                        (1-246)431-1600              (1-246)426-7269   \n",
       "19                        (1-868)622-4711              (1-868)622-0277   \n",
       "20                      (62-251) 862-2622            (62-251) 862-2100   \n",
       "21                  +2 02 2451 3921/2/3/4              (20-2)2451 3918   \n",
       "22                          502-2390-0221                          NaN   \n",
       "23                          (507)317-3200                (507)317-3299   \n",
       "24                           +33467047575                          NaN   \n",
       "25                        (503) 2248-8800              (503) 2248-8894   \n",
       "26   (226) 25 499600 / (226) 25 374125/26              (226) 2537-4132   \n",
       "27                         (230) 425-9564               (230) 425-2487   \n",
       "28                       (237-22) 21-3511             (237-22) 21-3512   \n",
       "29                        (1-514)350-4300              (1-514)350-4314   \n",
       "30                 (260-211) 22-9725 / 32            (260-211) 22-5107   \n",
       "31                      (44-20) 7747-6506            (44-20) 7839-8157   \n",
       "32  +44 75 87 63 45 92 / +44 20 7747-6500             +44-20 7004 3745   \n",
       "33                           (236)61-2135                 (236)61-2135   \n",
       "34                       (33-3) 8841-2010             (33-3) 8841-3747   \n",
       "35                       (41-22) 999-0179             (41-22) 999-0169   \n",
       "36                        (966-1)482-7777              (966-1)482-9089   \n",
       "37                       (58-212)209-2111             (58-212)209-2437   \n",
       "38                       (33-3) 8841-2000             (33-3) 8841-2717   \n",
       "39                        +33(0)147555500              +33(0)147550338   \n",
       "40                     +255 27 250 4253/8             +255 27 250 4255   \n",
       "41                           +24101444731                 +24101444732   \n",
       "42        (+234 9) 314 7647-9, 314 7427-9  (+234 9) 314 7646, 314 3005   \n",
       "43                       +98 21 2283 1733             +98 21 2283 1732   \n",
       "44                         (238) 260-4630               (238) 262-4614   \n",
       "45                        (32-2) 775-9800              (32-2) 775-9801   \n",
       "46                          +431535222211                          NaN   \n",
       "47                         (45) 3337-7755               (45) 3337-7756   \n",
       "48                      (44-20) 7338-6000            (44-20) 7338-6100   \n",
       "49                      (358-10) 773-4300                          NaN   \n",
       "\n",
       "                                  Email                         Coordinator  \n",
       "0            afbsec@adaptation-fund.org          Mr. Mikko Antti Ollikainen  \n",
       "1                     dgacmad@acmad.org                      Ms. Safia Alfa  \n",
       "2                         afdb@afdb.org              Ms. Louise Helen Brown  \n",
       "3                arct@sonatel.senet.net                    Mr. Ousmane Kane  \n",
       "4              NyambeH@africa-union.org            Mr. Harsen Nyambe Nyambe  \n",
       "5                          info@acp.int              Mr. Israel Olusola Ojo  \n",
       "6     secretaria.permanente@otca.org.br  Mr. Carlos Alfredo Lazary Teixeira  \n",
       "7                   information@adb.org        Ms. Preety Malhotra Bhandari  \n",
       "8                      rp@apo-tokyo.org                    Mr. Yasuko Asano  \n",
       "9                        mail@aalco.int                         Mr. Roy Lee  \n",
       "10                environment@asean.org                        Mr. Vong Sok  \n",
       "11                 dg@liptakogourma.org   M. Donseg Salvador Aristide Somda  \n",
       "12                     hookerr@bcie.org     Mr. Randall Joseph Hooker Urroz  \n",
       "13                     itraore@boad.org       M. Bio Dabo Yacoubou Bio Sawe  \n",
       "14                       info@bstdb.org                 Mr. Mircea Cojocaru  \n",
       "15                   enquiries@cabi.org                  Mr. Jonathan Casey  \n",
       "16      evalladares@caribbeanclimate.bz               Ms. Ethlyn Valladares  \n",
       "17                 registry@caricom.org             Ms. Patricia Ann Nelson  \n",
       "18                    info@caribank.org                    Ms. Cheryl Dixon  \n",
       "19                     cmohq@cmo.org.tt                    Ms. Arlene Laing  \n",
       "20                      cifor@cgiar.org                    Ms. Amy Duchelle  \n",
       "21                      mail@cedare.int                     Ms. Mayar Sabet  \n",
       "22                    jvasquez@sica.int                    Mr. Juan Vasquez  \n",
       "23                cathalac@cathalac.org                  Ms. Roxana Segundo  \n",
       "24                    contact@cgiar.org                  Mr. André Zandstra  \n",
       "25                      snieto@sica.int  Sr. Salvador Ernesto Nieto Cárcamo  \n",
       "26          administration.se@cilss.int              Mr. Philippe Zoungrana  \n",
       "27              secretariat@coi-ioc.org                      Ms. Gina Bonne  \n",
       "28                  comifac@comifac.org            M. Chouaibou Nchoutpouen  \n",
       "29                      ndaoust@cec.org                 Ms. Nathalie Daoust  \n",
       "30                    secgen@comesa.int       Mr. Mclay Lynden Kanyangarara  \n",
       "31           t.andrews@commonwealth.int          Ms. Anne Therese Gallagher  \n",
       "32              u.nair@commonwealth.int     Mr. Unnikrishnan Divakaran Nair  \n",
       "33                    sgudeac@intnet.cf                    M. Pierre Randah  \n",
       "34                 congress.com@coe.int          Ms. Marité Moras Rodriguez  \n",
       "35                    ramsar@ramsar.org                Ms. Delphine Bremond  \n",
       "36                   abastaki@gccsg.org                    Mr. Adel Bastaki  \n",
       "37                    uelizondo@caf.com                 Mr. Ubaldo Elizondo  \n",
       "38                     assembly@coe.int             Ms. Aiste Ramanauskaite  \n",
       "39                     info@coebank.org   Ms. Isabelle Marie Madeleine Brun  \n",
       "40                        eac@eachq.org      Mr. Ladislaus Leonidas Kyaruzi  \n",
       "41          secretariat@ceeac-eccas.org              Mr. Dominique Kuitsouc  \n",
       "42                      info@ecowas.int                  Mr. Johnson Boanuh  \n",
       "43          registry@ecosecretariat.org             Mr. Abolfazl Azizipanah  \n",
       "44                      info@ecreee.org                  Ms. Adeola Adebiyi  \n",
       "45                     ee@encharter.org               Ms. Sarah Keay-Bright  \n",
       "46  sustainability@energy-community.org                 Ms. Irina Lazzerini  \n",
       "47        gilles.vandewalle@eurofish.dk             Mr. Gilles van de Walle  \n",
       "48                     tanakaj@ebrd.com              Ms. Beatriz De Lorenzi  \n",
       "49                       efisec@efi.int                   Mr. Jerker Brolén  "
      ]
     },
     "execution_count": 34,
     "metadata": {},
     "output_type": "execute_result"
    }
   ],
   "source": [
    "IGO_unfccc.head(50)"
   ]
  },
  {
   "cell_type": "code",
   "execution_count": 42,
   "metadata": {},
   "outputs": [],
   "source": [
    "def populate_country_and_coordinator(cop, unfccc, const):\n",
    "    org_cop = list(cop[\"name\"])\n",
    "    org_unfccc = list(unfccc[\"Official Name\"])\n",
    "    for i in range(len(org_cop)):\n",
    "        org = org_cop[i]\n",
    "        for j in range(len(org_unfccc)):\n",
    "            organization = org_unfccc[j]\n",
    "            if org in organization:\n",
    "                cop[\"country\"].iloc[i] = unfccc[\"Country\"].iloc[j]\n",
    "                cop[\"city\"].iloc[i] = unfccc[\"City\"].iloc[j]\n",
    "                cop[\"coordinator\"].iloc[i] = unfccc[\"Coordinator\"].iloc[j]\n",
    "                if const:\n",
    "                    cop[\"constituency\"].iloc[i] = unfccc[\"Constituency\"].iloc[j]\n",
    "                break\n",
    "                "
   ]
  },
  {
   "cell_type": "code",
   "execution_count": 43,
   "metadata": {},
   "outputs": [
    {
     "name": "stderr",
     "output_type": "stream",
     "text": [
      "/Users/stefan/py_38_env/lib/python3.8/site-packages/pandas/core/indexing.py:1637: SettingWithCopyWarning: \n",
      "A value is trying to be set on a copy of a slice from a DataFrame\n",
      "\n",
      "See the caveats in the documentation: https://pandas.pydata.org/pandas-docs/stable/user_guide/indexing.html#returning-a-view-versus-a-copy\n",
      "  self._setitem_single_block(indexer, value, name)\n"
     ]
    }
   ],
   "source": [
    "populate_country_and_coordinator(NGO, NGO_unfccc, True)"
   ]
  },
  {
   "cell_type": "code",
   "execution_count": 48,
   "metadata": {},
   "outputs": [
    {
     "data": {
      "text/html": [
       "<div>\n",
       "<style scoped>\n",
       "    .dataframe tbody tr th:only-of-type {\n",
       "        vertical-align: middle;\n",
       "    }\n",
       "\n",
       "    .dataframe tbody tr th {\n",
       "        vertical-align: top;\n",
       "    }\n",
       "\n",
       "    .dataframe thead th {\n",
       "        text-align: right;\n",
       "    }\n",
       "</style>\n",
       "<table border=\"1\" class=\"dataframe\">\n",
       "  <thead>\n",
       "    <tr style=\"text-align: right;\">\n",
       "      <th></th>\n",
       "      <th>name</th>\n",
       "      <th>entity_type</th>\n",
       "      <th>TotalMembers</th>\n",
       "      <th>MaleMembers</th>\n",
       "      <th>FemaleMembers</th>\n",
       "      <th>constituency</th>\n",
       "      <th>coordinator</th>\n",
       "      <th>city</th>\n",
       "      <th>country</th>\n",
       "    </tr>\n",
       "  </thead>\n",
       "  <tbody>\n",
       "    <tr>\n",
       "      <th>0</th>\n",
       "      <td>Technical Centre for Agricultural and Rural Co...</td>\n",
       "      <td>Non-governmental organizations</td>\n",
       "      <td>1</td>\n",
       "      <td>1</td>\n",
       "      <td>0</td>\n",
       "      <td>NaN</td>\n",
       "      <td>NaN</td>\n",
       "      <td>NaN</td>\n",
       "      <td>NaN</td>\n",
       "    </tr>\n",
       "    <tr>\n",
       "      <th>1</th>\n",
       "      <td>The European Organisation for the Exploitation...</td>\n",
       "      <td>Non-governmental organizations</td>\n",
       "      <td>1</td>\n",
       "      <td>1</td>\n",
       "      <td>0</td>\n",
       "      <td>NaN</td>\n",
       "      <td>NaN</td>\n",
       "      <td>NaN</td>\n",
       "      <td>NaN</td>\n",
       "    </tr>\n",
       "    <tr>\n",
       "      <th>2</th>\n",
       "      <td>2° investing initiative (2°ii)</td>\n",
       "      <td>Non-governmental organizations</td>\n",
       "      <td>2</td>\n",
       "      <td>1</td>\n",
       "      <td>1</td>\n",
       "      <td>Constituency - Research and independent</td>\n",
       "      <td>Mr. Thibaut Ghirardi</td>\n",
       "      <td>Paris</td>\n",
       "      <td>France</td>\n",
       "    </tr>\n",
       "    <tr>\n",
       "      <th>3</th>\n",
       "      <td>A SEED Europe</td>\n",
       "      <td>Non-governmental organizations</td>\n",
       "      <td>3</td>\n",
       "      <td>0</td>\n",
       "      <td>3</td>\n",
       "      <td>Constituency - Environmental</td>\n",
       "      <td>Mr. Flip Vonk</td>\n",
       "      <td>Amsterdam</td>\n",
       "      <td>Netherlands</td>\n",
       "    </tr>\n",
       "    <tr>\n",
       "      <th>4</th>\n",
       "      <td>A Sud Ecology and Cooperation - Onlus</td>\n",
       "      <td>Non-governmental organizations</td>\n",
       "      <td>4</td>\n",
       "      <td>1</td>\n",
       "      <td>3</td>\n",
       "      <td>Constituency - Environmental</td>\n",
       "      <td>Ms. Lucie Greyl</td>\n",
       "      <td>Rome</td>\n",
       "      <td>Italy</td>\n",
       "    </tr>\n",
       "    <tr>\n",
       "      <th>5</th>\n",
       "      <td>Abibimman Foundation</td>\n",
       "      <td>Non-governmental organizations</td>\n",
       "      <td>6</td>\n",
       "      <td>5</td>\n",
       "      <td>1</td>\n",
       "      <td>Constituency - Environmental CAN</td>\n",
       "      <td>Mr. Kenneth Nana Amoateng</td>\n",
       "      <td>Tena</td>\n",
       "      <td>Ghana</td>\n",
       "    </tr>\n",
       "    <tr>\n",
       "      <th>6</th>\n",
       "      <td>Academy for Mountain Environics</td>\n",
       "      <td>Non-governmental organizations</td>\n",
       "      <td>2</td>\n",
       "      <td>0</td>\n",
       "      <td>2</td>\n",
       "      <td>Constituency - Environmental</td>\n",
       "      <td>Mr. Sreedhar Ramamurthi</td>\n",
       "      <td>New Delhi</td>\n",
       "      <td>India</td>\n",
       "    </tr>\n",
       "    <tr>\n",
       "      <th>7</th>\n",
       "      <td>ACT Alliance - Action by Churches Together</td>\n",
       "      <td>Non-governmental organizations</td>\n",
       "      <td>8</td>\n",
       "      <td>4</td>\n",
       "      <td>4</td>\n",
       "      <td>Constituency - Environmental CAN</td>\n",
       "      <td>Mr. Thorsten Göbel</td>\n",
       "      <td>Geneva</td>\n",
       "      <td>Switzerland</td>\n",
       "    </tr>\n",
       "    <tr>\n",
       "      <th>8</th>\n",
       "      <td>Action Planéterre</td>\n",
       "      <td>Non-governmental organizations</td>\n",
       "      <td>1</td>\n",
       "      <td>1</td>\n",
       "      <td>0</td>\n",
       "      <td>Constituency - Environmental</td>\n",
       "      <td>Mr. Mahamadoun Abdoulaye Traore</td>\n",
       "      <td>Aubervilliers</td>\n",
       "      <td>France</td>\n",
       "    </tr>\n",
       "    <tr>\n",
       "      <th>9</th>\n",
       "      <td>Action Solidarité Tiers-Monde a.s.b.l.</td>\n",
       "      <td>Non-governmental organizations</td>\n",
       "      <td>4</td>\n",
       "      <td>2</td>\n",
       "      <td>2</td>\n",
       "      <td>Constituency - ENGO</td>\n",
       "      <td>M. Dietmar Mirkes</td>\n",
       "      <td>Luxembourg</td>\n",
       "      <td>Luxembourg</td>\n",
       "    </tr>\n",
       "    <tr>\n",
       "      <th>10</th>\n",
       "      <td>ActionAid International</td>\n",
       "      <td>Non-governmental organizations</td>\n",
       "      <td>5</td>\n",
       "      <td>2</td>\n",
       "      <td>3</td>\n",
       "      <td>Constituency - Environmental CAN</td>\n",
       "      <td>Ms. Teresa Maria Isabel Anderson</td>\n",
       "      <td>Johannesburg</td>\n",
       "      <td>South Africa</td>\n",
       "    </tr>\n",
       "    <tr>\n",
       "      <th>11</th>\n",
       "      <td>Adelphi Research</td>\n",
       "      <td>Non-governmental organizations</td>\n",
       "      <td>5</td>\n",
       "      <td>3</td>\n",
       "      <td>2</td>\n",
       "      <td>Constituency - Research and independent</td>\n",
       "      <td>Mr. Dennis Taenzler</td>\n",
       "      <td>Berlin</td>\n",
       "      <td>Germany</td>\n",
       "    </tr>\n",
       "    <tr>\n",
       "      <th>12</th>\n",
       "      <td>Advocates for the Environment, Inc.</td>\n",
       "      <td>Non-governmental organizations</td>\n",
       "      <td>1</td>\n",
       "      <td>1</td>\n",
       "      <td>0</td>\n",
       "      <td>Constituency - Environmental</td>\n",
       "      <td>Mr. Dean Wallraff</td>\n",
       "      <td>Shadow Hills</td>\n",
       "      <td>United States of America</td>\n",
       "    </tr>\n",
       "    <tr>\n",
       "      <th>13</th>\n",
       "      <td>Africa Centre for Citizens Orientation</td>\n",
       "      <td>Non-governmental organizations</td>\n",
       "      <td>3</td>\n",
       "      <td>2</td>\n",
       "      <td>1</td>\n",
       "      <td>Constituency - Environmental</td>\n",
       "      <td>Mr. Peter Olugbenga Adeleye</td>\n",
       "      <td>Kurudu</td>\n",
       "      <td>Nigeria</td>\n",
       "    </tr>\n",
       "    <tr>\n",
       "      <th>14</th>\n",
       "      <td>Africa Youths International Development Founda...</td>\n",
       "      <td>Non-governmental organizations</td>\n",
       "      <td>3</td>\n",
       "      <td>2</td>\n",
       "      <td>1</td>\n",
       "      <td>Constituency - Youth</td>\n",
       "      <td>Mr. Tunji John Asaolu</td>\n",
       "      <td>Abuja</td>\n",
       "      <td>Nigeria</td>\n",
       "    </tr>\n",
       "    <tr>\n",
       "      <th>15</th>\n",
       "      <td>African Centre for Technology Studies</td>\n",
       "      <td>Non-governmental organizations</td>\n",
       "      <td>4</td>\n",
       "      <td>2</td>\n",
       "      <td>2</td>\n",
       "      <td>Constituency - Environmental</td>\n",
       "      <td>Mr. Kennedy Liti Mbeva</td>\n",
       "      <td>Nairobi</td>\n",
       "      <td>Kenya</td>\n",
       "    </tr>\n",
       "    <tr>\n",
       "      <th>16</th>\n",
       "      <td>African Climate Change Research Centre</td>\n",
       "      <td>Non-governmental organizations</td>\n",
       "      <td>14</td>\n",
       "      <td>11</td>\n",
       "      <td>3</td>\n",
       "      <td>Constituency - Research and independent</td>\n",
       "      <td>Mr. Nura Jibo</td>\n",
       "      <td>Dutse</td>\n",
       "      <td>Nigeria</td>\n",
       "    </tr>\n",
       "    <tr>\n",
       "      <th>17</th>\n",
       "      <td>African Forest Forum</td>\n",
       "      <td>Non-governmental organizations</td>\n",
       "      <td>2</td>\n",
       "      <td>0</td>\n",
       "      <td>2</td>\n",
       "      <td>Constituency - Environmental</td>\n",
       "      <td>Mr. Godwin Kowero</td>\n",
       "      <td>Nairobi</td>\n",
       "      <td>Kenya</td>\n",
       "    </tr>\n",
       "    <tr>\n",
       "      <th>18</th>\n",
       "      <td>African Wildlife Foundation</td>\n",
       "      <td>Non-governmental organizations</td>\n",
       "      <td>1</td>\n",
       "      <td>1</td>\n",
       "      <td>0</td>\n",
       "      <td>Constituency - Environmental</td>\n",
       "      <td>Mr. Charly Facheux</td>\n",
       "      <td>Nairobi</td>\n",
       "      <td>Kenya</td>\n",
       "    </tr>\n",
       "    <tr>\n",
       "      <th>19</th>\n",
       "      <td>Agriconsulting S.p.A.</td>\n",
       "      <td>Non-governmental organizations</td>\n",
       "      <td>1</td>\n",
       "      <td>1</td>\n",
       "      <td>0</td>\n",
       "      <td>Constituency - Business and Industry</td>\n",
       "      <td>Mr. Giorgio Andreoli</td>\n",
       "      <td>Rome</td>\n",
       "      <td>Italy</td>\n",
       "    </tr>\n",
       "  </tbody>\n",
       "</table>\n",
       "</div>"
      ],
      "text/plain": [
       "                                                 name  \\\n",
       "0   Technical Centre for Agricultural and Rural Co...   \n",
       "1   The European Organisation for the Exploitation...   \n",
       "2                      2° investing initiative (2°ii)   \n",
       "3                                       A SEED Europe   \n",
       "4               A Sud Ecology and Cooperation - Onlus   \n",
       "5                                Abibimman Foundation   \n",
       "6                     Academy for Mountain Environics   \n",
       "7          ACT Alliance - Action by Churches Together   \n",
       "8                                   Action Planéterre   \n",
       "9              Action Solidarité Tiers-Monde a.s.b.l.   \n",
       "10                            ActionAid International   \n",
       "11                                   Adelphi Research   \n",
       "12                Advocates for the Environment, Inc.   \n",
       "13             Africa Centre for Citizens Orientation   \n",
       "14  Africa Youths International Development Founda...   \n",
       "15              African Centre for Technology Studies   \n",
       "16             African Climate Change Research Centre   \n",
       "17                               African Forest Forum   \n",
       "18                        African Wildlife Foundation   \n",
       "19                              Agriconsulting S.p.A.   \n",
       "\n",
       "                       entity_type  TotalMembers  MaleMembers  FemaleMembers  \\\n",
       "0   Non-governmental organizations             1            1              0   \n",
       "1   Non-governmental organizations             1            1              0   \n",
       "2   Non-governmental organizations             2            1              1   \n",
       "3   Non-governmental organizations             3            0              3   \n",
       "4   Non-governmental organizations             4            1              3   \n",
       "5   Non-governmental organizations             6            5              1   \n",
       "6   Non-governmental organizations             2            0              2   \n",
       "7   Non-governmental organizations             8            4              4   \n",
       "8   Non-governmental organizations             1            1              0   \n",
       "9   Non-governmental organizations             4            2              2   \n",
       "10  Non-governmental organizations             5            2              3   \n",
       "11  Non-governmental organizations             5            3              2   \n",
       "12  Non-governmental organizations             1            1              0   \n",
       "13  Non-governmental organizations             3            2              1   \n",
       "14  Non-governmental organizations             3            2              1   \n",
       "15  Non-governmental organizations             4            2              2   \n",
       "16  Non-governmental organizations            14           11              3   \n",
       "17  Non-governmental organizations             2            0              2   \n",
       "18  Non-governmental organizations             1            1              0   \n",
       "19  Non-governmental organizations             1            1              0   \n",
       "\n",
       "                               constituency                       coordinator  \\\n",
       "0                                       NaN                               NaN   \n",
       "1                                       NaN                               NaN   \n",
       "2   Constituency - Research and independent              Mr. Thibaut Ghirardi   \n",
       "3              Constituency - Environmental                     Mr. Flip Vonk   \n",
       "4              Constituency - Environmental                   Ms. Lucie Greyl   \n",
       "5          Constituency - Environmental CAN         Mr. Kenneth Nana Amoateng   \n",
       "6              Constituency - Environmental           Mr. Sreedhar Ramamurthi   \n",
       "7          Constituency - Environmental CAN                Mr. Thorsten Göbel   \n",
       "8              Constituency - Environmental   Mr. Mahamadoun Abdoulaye Traore   \n",
       "9                       Constituency - ENGO                 M. Dietmar Mirkes   \n",
       "10         Constituency - Environmental CAN  Ms. Teresa Maria Isabel Anderson   \n",
       "11  Constituency - Research and independent               Mr. Dennis Taenzler   \n",
       "12             Constituency - Environmental                 Mr. Dean Wallraff   \n",
       "13             Constituency - Environmental       Mr. Peter Olugbenga Adeleye   \n",
       "14                     Constituency - Youth             Mr. Tunji John Asaolu   \n",
       "15             Constituency - Environmental            Mr. Kennedy Liti Mbeva   \n",
       "16  Constituency - Research and independent                     Mr. Nura Jibo   \n",
       "17             Constituency - Environmental                 Mr. Godwin Kowero   \n",
       "18             Constituency - Environmental                Mr. Charly Facheux   \n",
       "19     Constituency - Business and Industry              Mr. Giorgio Andreoli   \n",
       "\n",
       "             city                   country  \n",
       "0             NaN                       NaN  \n",
       "1             NaN                       NaN  \n",
       "2           Paris                    France  \n",
       "3       Amsterdam               Netherlands  \n",
       "4            Rome                     Italy  \n",
       "5            Tena                     Ghana  \n",
       "6       New Delhi                     India  \n",
       "7          Geneva               Switzerland  \n",
       "8   Aubervilliers                    France  \n",
       "9      Luxembourg                Luxembourg  \n",
       "10   Johannesburg              South Africa  \n",
       "11         Berlin                   Germany  \n",
       "12   Shadow Hills  United States of America  \n",
       "13         Kurudu                   Nigeria  \n",
       "14          Abuja                   Nigeria  \n",
       "15        Nairobi                     Kenya  \n",
       "16          Dutse                   Nigeria  \n",
       "17        Nairobi                     Kenya  \n",
       "18        Nairobi                     Kenya  \n",
       "19           Rome                     Italy  "
      ]
     },
     "execution_count": 48,
     "metadata": {},
     "output_type": "execute_result"
    }
   ],
   "source": [
    "NGO.head(20)"
   ]
  },
  {
   "cell_type": "code",
   "execution_count": 53,
   "metadata": {},
   "outputs": [
    {
     "data": {
      "text/plain": [
       "0        True\n",
       "1        True\n",
       "2       False\n",
       "3       False\n",
       "4       False\n",
       "        ...  \n",
       "1041    False\n",
       "1042    False\n",
       "1043    False\n",
       "1044    False\n",
       "1045    False\n",
       "Name: country, Length: 1046, dtype: bool"
      ]
     },
     "execution_count": 53,
     "metadata": {},
     "output_type": "execute_result"
    }
   ],
   "source": [
    "NGO.country.isnull()"
   ]
  },
  {
   "cell_type": "code",
   "execution_count": 61,
   "metadata": {},
   "outputs": [],
   "source": [
    "NGO.to_csv(\"NGOs_COP2019_complete.csv\", index = False)"
   ]
  },
  {
   "cell_type": "code",
   "execution_count": 54,
   "metadata": {},
   "outputs": [
    {
     "name": "stderr",
     "output_type": "stream",
     "text": [
      "/Users/stefan/py_38_env/lib/python3.8/site-packages/pandas/core/indexing.py:1637: SettingWithCopyWarning: \n",
      "A value is trying to be set on a copy of a slice from a DataFrame\n",
      "\n",
      "See the caveats in the documentation: https://pandas.pydata.org/pandas-docs/stable/user_guide/indexing.html#returning-a-view-versus-a-copy\n",
      "  self._setitem_single_block(indexer, value, name)\n"
     ]
    }
   ],
   "source": [
    "populate_country_and_coordinator(IGO, IGO_unfccc, False)"
   ]
  },
  {
   "cell_type": "code",
   "execution_count": 55,
   "metadata": {},
   "outputs": [
    {
     "data": {
      "text/html": [
       "<div>\n",
       "<style scoped>\n",
       "    .dataframe tbody tr th:only-of-type {\n",
       "        vertical-align: middle;\n",
       "    }\n",
       "\n",
       "    .dataframe tbody tr th {\n",
       "        vertical-align: top;\n",
       "    }\n",
       "\n",
       "    .dataframe thead th {\n",
       "        text-align: right;\n",
       "    }\n",
       "</style>\n",
       "<table border=\"1\" class=\"dataframe\">\n",
       "  <thead>\n",
       "    <tr style=\"text-align: right;\">\n",
       "      <th></th>\n",
       "      <th>name</th>\n",
       "      <th>entity_type</th>\n",
       "      <th>TotalMembers</th>\n",
       "      <th>MaleMembers</th>\n",
       "      <th>FemaleMembers</th>\n",
       "      <th>constituency</th>\n",
       "      <th>coordinator</th>\n",
       "      <th>city</th>\n",
       "      <th>country</th>\n",
       "    </tr>\n",
       "  </thead>\n",
       "  <tbody>\n",
       "    <tr>\n",
       "      <th>0</th>\n",
       "      <td>Adaptation Fund Board</td>\n",
       "      <td>Intergovernmental organizations</td>\n",
       "      <td>11</td>\n",
       "      <td>4</td>\n",
       "      <td>7</td>\n",
       "      <td>NaN</td>\n",
       "      <td>Mr. Mikko Antti Ollikainen</td>\n",
       "      <td>Washington DC</td>\n",
       "      <td>United States of America</td>\n",
       "    </tr>\n",
       "    <tr>\n",
       "      <th>1</th>\n",
       "      <td>African Centre of Meteorological Application f...</td>\n",
       "      <td>Intergovernmental organizations</td>\n",
       "      <td>14</td>\n",
       "      <td>10</td>\n",
       "      <td>4</td>\n",
       "      <td>NaN</td>\n",
       "      <td>Ms. Safia Alfa</td>\n",
       "      <td>Niamey</td>\n",
       "      <td>Niger</td>\n",
       "    </tr>\n",
       "    <tr>\n",
       "      <th>2</th>\n",
       "      <td>African Development Bank Group</td>\n",
       "      <td>Intergovernmental organizations</td>\n",
       "      <td>16</td>\n",
       "      <td>8</td>\n",
       "      <td>8</td>\n",
       "      <td>NaN</td>\n",
       "      <td>Ms. Louise Helen Brown</td>\n",
       "      <td>Tunis</td>\n",
       "      <td>Tunisia</td>\n",
       "    </tr>\n",
       "    <tr>\n",
       "      <th>3</th>\n",
       "      <td>African Union Commission</td>\n",
       "      <td>Intergovernmental organizations</td>\n",
       "      <td>32</td>\n",
       "      <td>18</td>\n",
       "      <td>14</td>\n",
       "      <td>NaN</td>\n",
       "      <td>Mr. Harsen Nyambe Nyambe</td>\n",
       "      <td>Addis Ababa</td>\n",
       "      <td>Ethiopia</td>\n",
       "    </tr>\n",
       "    <tr>\n",
       "      <th>4</th>\n",
       "      <td>African, Caribbean and Pacific Group of States</td>\n",
       "      <td>Intergovernmental organizations</td>\n",
       "      <td>4</td>\n",
       "      <td>2</td>\n",
       "      <td>2</td>\n",
       "      <td>NaN</td>\n",
       "      <td>Mr. Israel Olusola Ojo</td>\n",
       "      <td>Brussels</td>\n",
       "      <td>Belgium</td>\n",
       "    </tr>\n",
       "  </tbody>\n",
       "</table>\n",
       "</div>"
      ],
      "text/plain": [
       "                                                name  \\\n",
       "0                              Adaptation Fund Board   \n",
       "1  African Centre of Meteorological Application f...   \n",
       "2                     African Development Bank Group   \n",
       "3                           African Union Commission   \n",
       "4     African, Caribbean and Pacific Group of States   \n",
       "\n",
       "                       entity_type  TotalMembers  MaleMembers  FemaleMembers  \\\n",
       "0  Intergovernmental organizations            11            4              7   \n",
       "1  Intergovernmental organizations            14           10              4   \n",
       "2  Intergovernmental organizations            16            8              8   \n",
       "3  Intergovernmental organizations            32           18             14   \n",
       "4  Intergovernmental organizations             4            2              2   \n",
       "\n",
       "   constituency                 coordinator           city  \\\n",
       "0           NaN  Mr. Mikko Antti Ollikainen  Washington DC   \n",
       "1           NaN              Ms. Safia Alfa         Niamey   \n",
       "2           NaN      Ms. Louise Helen Brown          Tunis   \n",
       "3           NaN    Mr. Harsen Nyambe Nyambe    Addis Ababa   \n",
       "4           NaN      Mr. Israel Olusola Ojo       Brussels   \n",
       "\n",
       "                    country  \n",
       "0  United States of America  \n",
       "1                     Niger  \n",
       "2                   Tunisia  \n",
       "3                  Ethiopia  \n",
       "4                   Belgium  "
      ]
     },
     "execution_count": 55,
     "metadata": {},
     "output_type": "execute_result"
    }
   ],
   "source": [
    "IGO.head()"
   ]
  },
  {
   "cell_type": "code",
   "execution_count": 56,
   "metadata": {},
   "outputs": [],
   "source": [
    "IGO.drop(columns=[\"constituency\"], inplace = True, axis = 1)"
   ]
  },
  {
   "cell_type": "code",
   "execution_count": 58,
   "metadata": {},
   "outputs": [
    {
     "data": {
      "text/html": [
       "<div>\n",
       "<style scoped>\n",
       "    .dataframe tbody tr th:only-of-type {\n",
       "        vertical-align: middle;\n",
       "    }\n",
       "\n",
       "    .dataframe tbody tr th {\n",
       "        vertical-align: top;\n",
       "    }\n",
       "\n",
       "    .dataframe thead th {\n",
       "        text-align: right;\n",
       "    }\n",
       "</style>\n",
       "<table border=\"1\" class=\"dataframe\">\n",
       "  <thead>\n",
       "    <tr style=\"text-align: right;\">\n",
       "      <th></th>\n",
       "      <th>name</th>\n",
       "      <th>entity_type</th>\n",
       "      <th>TotalMembers</th>\n",
       "      <th>MaleMembers</th>\n",
       "      <th>FemaleMembers</th>\n",
       "      <th>coordinator</th>\n",
       "      <th>city</th>\n",
       "      <th>country</th>\n",
       "    </tr>\n",
       "  </thead>\n",
       "  <tbody>\n",
       "    <tr>\n",
       "      <th>0</th>\n",
       "      <td>Adaptation Fund Board</td>\n",
       "      <td>Intergovernmental organizations</td>\n",
       "      <td>11</td>\n",
       "      <td>4</td>\n",
       "      <td>7</td>\n",
       "      <td>Mr. Mikko Antti Ollikainen</td>\n",
       "      <td>Washington DC</td>\n",
       "      <td>United States of America</td>\n",
       "    </tr>\n",
       "    <tr>\n",
       "      <th>1</th>\n",
       "      <td>African Centre of Meteorological Application f...</td>\n",
       "      <td>Intergovernmental organizations</td>\n",
       "      <td>14</td>\n",
       "      <td>10</td>\n",
       "      <td>4</td>\n",
       "      <td>Ms. Safia Alfa</td>\n",
       "      <td>Niamey</td>\n",
       "      <td>Niger</td>\n",
       "    </tr>\n",
       "    <tr>\n",
       "      <th>2</th>\n",
       "      <td>African Development Bank Group</td>\n",
       "      <td>Intergovernmental organizations</td>\n",
       "      <td>16</td>\n",
       "      <td>8</td>\n",
       "      <td>8</td>\n",
       "      <td>Ms. Louise Helen Brown</td>\n",
       "      <td>Tunis</td>\n",
       "      <td>Tunisia</td>\n",
       "    </tr>\n",
       "    <tr>\n",
       "      <th>3</th>\n",
       "      <td>African Union Commission</td>\n",
       "      <td>Intergovernmental organizations</td>\n",
       "      <td>32</td>\n",
       "      <td>18</td>\n",
       "      <td>14</td>\n",
       "      <td>Mr. Harsen Nyambe Nyambe</td>\n",
       "      <td>Addis Ababa</td>\n",
       "      <td>Ethiopia</td>\n",
       "    </tr>\n",
       "    <tr>\n",
       "      <th>4</th>\n",
       "      <td>African, Caribbean and Pacific Group of States</td>\n",
       "      <td>Intergovernmental organizations</td>\n",
       "      <td>4</td>\n",
       "      <td>2</td>\n",
       "      <td>2</td>\n",
       "      <td>Mr. Israel Olusola Ojo</td>\n",
       "      <td>Brussels</td>\n",
       "      <td>Belgium</td>\n",
       "    </tr>\n",
       "    <tr>\n",
       "      <th>5</th>\n",
       "      <td>Asian Development Bank</td>\n",
       "      <td>Intergovernmental organizations</td>\n",
       "      <td>10</td>\n",
       "      <td>7</td>\n",
       "      <td>3</td>\n",
       "      <td>Ms. Preety Malhotra Bhandari</td>\n",
       "      <td>Mandaluyong City</td>\n",
       "      <td>Philippines</td>\n",
       "    </tr>\n",
       "    <tr>\n",
       "      <th>6</th>\n",
       "      <td>Autorité de développement intégré de la région...</td>\n",
       "      <td>Intergovernmental organizations</td>\n",
       "      <td>12</td>\n",
       "      <td>10</td>\n",
       "      <td>2</td>\n",
       "      <td>M. Donseg Salvador Aristide Somda</td>\n",
       "      <td>Ouagadougou 1</td>\n",
       "      <td>Burkina Faso</td>\n",
       "    </tr>\n",
       "    <tr>\n",
       "      <th>7</th>\n",
       "      <td>Banco Centroamericano de Integración Económica</td>\n",
       "      <td>Intergovernmental organizations</td>\n",
       "      <td>1</td>\n",
       "      <td>1</td>\n",
       "      <td>0</td>\n",
       "      <td>Mr. Randall Joseph Hooker Urroz</td>\n",
       "      <td>Tegucigalpa</td>\n",
       "      <td>Honduras</td>\n",
       "    </tr>\n",
       "    <tr>\n",
       "      <th>8</th>\n",
       "      <td>CAB International</td>\n",
       "      <td>Intergovernmental organizations</td>\n",
       "      <td>1</td>\n",
       "      <td>0</td>\n",
       "      <td>1</td>\n",
       "      <td>Mr. Jonathan Casey</td>\n",
       "      <td>Oxon</td>\n",
       "      <td>United Kingdom of Great Britain and Northern I...</td>\n",
       "    </tr>\n",
       "    <tr>\n",
       "      <th>9</th>\n",
       "      <td>Caribbean Community Climate Change Centre</td>\n",
       "      <td>Intergovernmental organizations</td>\n",
       "      <td>9</td>\n",
       "      <td>4</td>\n",
       "      <td>5</td>\n",
       "      <td>Ms. Ethlyn Valladares</td>\n",
       "      <td>Belmopan</td>\n",
       "      <td>Belize</td>\n",
       "    </tr>\n",
       "    <tr>\n",
       "      <th>10</th>\n",
       "      <td>Caribbean Community Secretariat</td>\n",
       "      <td>Intergovernmental organizations</td>\n",
       "      <td>2</td>\n",
       "      <td>1</td>\n",
       "      <td>1</td>\n",
       "      <td>Ms. Patricia Ann Nelson</td>\n",
       "      <td>Georgetown</td>\n",
       "      <td>Guyana</td>\n",
       "    </tr>\n",
       "    <tr>\n",
       "      <th>11</th>\n",
       "      <td>Center for International Forestry Research</td>\n",
       "      <td>Intergovernmental organizations</td>\n",
       "      <td>16</td>\n",
       "      <td>6</td>\n",
       "      <td>10</td>\n",
       "      <td>Ms. Amy Duchelle</td>\n",
       "      <td>Bogor</td>\n",
       "      <td>Indonesia</td>\n",
       "    </tr>\n",
       "    <tr>\n",
       "      <th>12</th>\n",
       "      <td>CGIAR System Organization</td>\n",
       "      <td>Intergovernmental organizations</td>\n",
       "      <td>10</td>\n",
       "      <td>6</td>\n",
       "      <td>4</td>\n",
       "      <td>Mr. André Zandstra</td>\n",
       "      <td>Montpellier</td>\n",
       "      <td>France</td>\n",
       "    </tr>\n",
       "    <tr>\n",
       "      <th>13</th>\n",
       "      <td>Comisión Centroamericana de Ambiente y Desarrollo</td>\n",
       "      <td>Intergovernmental organizations</td>\n",
       "      <td>5</td>\n",
       "      <td>4</td>\n",
       "      <td>1</td>\n",
       "      <td>Sr. Salvador Ernesto Nieto Cárcamo</td>\n",
       "      <td>Antiguo Cuscatlán</td>\n",
       "      <td>El Salvador</td>\n",
       "    </tr>\n",
       "    <tr>\n",
       "      <th>14</th>\n",
       "      <td>Comité permanent inter-états de lutte contre l...</td>\n",
       "      <td>Intergovernmental organizations</td>\n",
       "      <td>6</td>\n",
       "      <td>6</td>\n",
       "      <td>0</td>\n",
       "      <td>Mr. Philippe Zoungrana</td>\n",
       "      <td>Ouagadougou 03</td>\n",
       "      <td>Burkina Faso</td>\n",
       "    </tr>\n",
       "    <tr>\n",
       "      <th>15</th>\n",
       "      <td>Commonwealth Secretariat</td>\n",
       "      <td>Intergovernmental organizations</td>\n",
       "      <td>11</td>\n",
       "      <td>5</td>\n",
       "      <td>6</td>\n",
       "      <td>Mr. Unnikrishnan Divakaran Nair</td>\n",
       "      <td>London</td>\n",
       "      <td>United Kingdom of Great Britain and Northern I...</td>\n",
       "    </tr>\n",
       "    <tr>\n",
       "      <th>16</th>\n",
       "      <td>Convention on Wetlands of International Import...</td>\n",
       "      <td>Intergovernmental organizations</td>\n",
       "      <td>2</td>\n",
       "      <td>2</td>\n",
       "      <td>0</td>\n",
       "      <td>Ms. Delphine Bremond</td>\n",
       "      <td>Gland</td>\n",
       "      <td>Switzerland</td>\n",
       "    </tr>\n",
       "    <tr>\n",
       "      <th>17</th>\n",
       "      <td>Corporación Andina de Fomento</td>\n",
       "      <td>Intergovernmental organizations</td>\n",
       "      <td>15</td>\n",
       "      <td>9</td>\n",
       "      <td>6</td>\n",
       "      <td>Mr. Ubaldo Elizondo</td>\n",
       "      <td>Caracas</td>\n",
       "      <td>Venezuela (Bolivarian Republic of)</td>\n",
       "    </tr>\n",
       "    <tr>\n",
       "      <th>18</th>\n",
       "      <td>Council of Europe</td>\n",
       "      <td>Intergovernmental organizations</td>\n",
       "      <td>1</td>\n",
       "      <td>0</td>\n",
       "      <td>1</td>\n",
       "      <td>Ms. Marité Moras Rodriguez</td>\n",
       "      <td>Strasbourg</td>\n",
       "      <td>France</td>\n",
       "    </tr>\n",
       "    <tr>\n",
       "      <th>19</th>\n",
       "      <td>Council of Europe Development Bank</td>\n",
       "      <td>Intergovernmental organizations</td>\n",
       "      <td>1</td>\n",
       "      <td>0</td>\n",
       "      <td>1</td>\n",
       "      <td>Ms. Isabelle Marie Madeleine Brun</td>\n",
       "      <td>Paris</td>\n",
       "      <td>France</td>\n",
       "    </tr>\n",
       "  </tbody>\n",
       "</table>\n",
       "</div>"
      ],
      "text/plain": [
       "                                                 name  \\\n",
       "0                               Adaptation Fund Board   \n",
       "1   African Centre of Meteorological Application f...   \n",
       "2                      African Development Bank Group   \n",
       "3                            African Union Commission   \n",
       "4      African, Caribbean and Pacific Group of States   \n",
       "5                              Asian Development Bank   \n",
       "6   Autorité de développement intégré de la région...   \n",
       "7      Banco Centroamericano de Integración Económica   \n",
       "8                                   CAB International   \n",
       "9           Caribbean Community Climate Change Centre   \n",
       "10                    Caribbean Community Secretariat   \n",
       "11         Center for International Forestry Research   \n",
       "12                          CGIAR System Organization   \n",
       "13  Comisión Centroamericana de Ambiente y Desarrollo   \n",
       "14  Comité permanent inter-états de lutte contre l...   \n",
       "15                           Commonwealth Secretariat   \n",
       "16  Convention on Wetlands of International Import...   \n",
       "17                      Corporación Andina de Fomento   \n",
       "18                                  Council of Europe   \n",
       "19                 Council of Europe Development Bank   \n",
       "\n",
       "                        entity_type  TotalMembers  MaleMembers  FemaleMembers  \\\n",
       "0   Intergovernmental organizations            11            4              7   \n",
       "1   Intergovernmental organizations            14           10              4   \n",
       "2   Intergovernmental organizations            16            8              8   \n",
       "3   Intergovernmental organizations            32           18             14   \n",
       "4   Intergovernmental organizations             4            2              2   \n",
       "5   Intergovernmental organizations            10            7              3   \n",
       "6   Intergovernmental organizations            12           10              2   \n",
       "7   Intergovernmental organizations             1            1              0   \n",
       "8   Intergovernmental organizations             1            0              1   \n",
       "9   Intergovernmental organizations             9            4              5   \n",
       "10  Intergovernmental organizations             2            1              1   \n",
       "11  Intergovernmental organizations            16            6             10   \n",
       "12  Intergovernmental organizations            10            6              4   \n",
       "13  Intergovernmental organizations             5            4              1   \n",
       "14  Intergovernmental organizations             6            6              0   \n",
       "15  Intergovernmental organizations            11            5              6   \n",
       "16  Intergovernmental organizations             2            2              0   \n",
       "17  Intergovernmental organizations            15            9              6   \n",
       "18  Intergovernmental organizations             1            0              1   \n",
       "19  Intergovernmental organizations             1            0              1   \n",
       "\n",
       "                           coordinator               city  \\\n",
       "0           Mr. Mikko Antti Ollikainen      Washington DC   \n",
       "1                       Ms. Safia Alfa             Niamey   \n",
       "2               Ms. Louise Helen Brown              Tunis   \n",
       "3             Mr. Harsen Nyambe Nyambe        Addis Ababa   \n",
       "4               Mr. Israel Olusola Ojo           Brussels   \n",
       "5         Ms. Preety Malhotra Bhandari   Mandaluyong City   \n",
       "6    M. Donseg Salvador Aristide Somda      Ouagadougou 1   \n",
       "7      Mr. Randall Joseph Hooker Urroz        Tegucigalpa   \n",
       "8                   Mr. Jonathan Casey               Oxon   \n",
       "9                Ms. Ethlyn Valladares           Belmopan   \n",
       "10             Ms. Patricia Ann Nelson         Georgetown   \n",
       "11                    Ms. Amy Duchelle              Bogor   \n",
       "12                  Mr. André Zandstra        Montpellier   \n",
       "13  Sr. Salvador Ernesto Nieto Cárcamo  Antiguo Cuscatlán   \n",
       "14              Mr. Philippe Zoungrana     Ouagadougou 03   \n",
       "15     Mr. Unnikrishnan Divakaran Nair             London   \n",
       "16                Ms. Delphine Bremond              Gland   \n",
       "17                 Mr. Ubaldo Elizondo            Caracas   \n",
       "18          Ms. Marité Moras Rodriguez         Strasbourg   \n",
       "19   Ms. Isabelle Marie Madeleine Brun              Paris   \n",
       "\n",
       "                                              country  \n",
       "0                            United States of America  \n",
       "1                                               Niger  \n",
       "2                                             Tunisia  \n",
       "3                                            Ethiopia  \n",
       "4                                             Belgium  \n",
       "5                                         Philippines  \n",
       "6                                        Burkina Faso  \n",
       "7                                            Honduras  \n",
       "8   United Kingdom of Great Britain and Northern I...  \n",
       "9                                              Belize  \n",
       "10                                             Guyana  \n",
       "11                                          Indonesia  \n",
       "12                                             France  \n",
       "13                                        El Salvador  \n",
       "14                                       Burkina Faso  \n",
       "15  United Kingdom of Great Britain and Northern I...  \n",
       "16                                        Switzerland  \n",
       "17                 Venezuela (Bolivarian Republic of)  \n",
       "18                                             France  \n",
       "19                                             France  "
      ]
     },
     "execution_count": 58,
     "metadata": {},
     "output_type": "execute_result"
    }
   ],
   "source": [
    "IGO.head(20)"
   ]
  },
  {
   "cell_type": "code",
   "execution_count": 59,
   "metadata": {},
   "outputs": [
    {
     "data": {
      "text/plain": [
       "2"
      ]
     },
     "execution_count": 59,
     "metadata": {},
     "output_type": "execute_result"
    }
   ],
   "source": [
    "IGO.country.isnull().sum()"
   ]
  },
  {
   "cell_type": "code",
   "execution_count": 62,
   "metadata": {},
   "outputs": [],
   "source": [
    "IGO.to_csv(\"IGOs_COP2019_complete.csv\", index = False)"
   ]
  },
  {
   "cell_type": "code",
   "execution_count": 66,
   "metadata": {},
   "outputs": [
    {
     "data": {
      "text/plain": [
       "array([nan, 'Constituency - Research and independent',\n",
       "       'Constituency - Environmental', 'Constituency - Environmental CAN',\n",
       "       'Constituency - ENGO', 'Constituency - Youth',\n",
       "       'Constituency - Business and Industry',\n",
       "       'Constituency - Indigenous peoples',\n",
       "       'Constituency - Women and Gender',\n",
       "       'Constituency - Business and Industry2',\n",
       "       'Constituency - Local government and Municipal authorities',\n",
       "       'Constituency - Farmers', 'Constituency - Environmental CJN',\n",
       "       'Constituency - Trade Unions'], dtype=object)"
      ]
     },
     "execution_count": 66,
     "metadata": {},
     "output_type": "execute_result"
    }
   ],
   "source": [
    "NGO.constituency.unique()"
   ]
  },
  {
   "cell_type": "code",
   "execution_count": 64,
   "metadata": {},
   "outputs": [
    {
     "data": {
      "text/plain": [
       "14"
      ]
     },
     "execution_count": 64,
     "metadata": {},
     "output_type": "execute_result"
    }
   ],
   "source": [
    "len(NGO.constituency.unique())"
   ]
  },
  {
   "cell_type": "markdown",
   "metadata": {},
   "source": [
    "# After Manual Data Cleaning - Calculating Country, City and Constituency Statistics"
   ]
  },
  {
   "cell_type": "markdown",
   "metadata": {},
   "source": [
    "## 1. NGOs"
   ]
  },
  {
   "cell_type": "code",
   "execution_count": 67,
   "metadata": {},
   "outputs": [],
   "source": [
    "NGO = pd.read_csv(\"NGOs_COP2019_complete.csv\")"
   ]
  },
  {
   "cell_type": "markdown",
   "metadata": {},
   "source": [
    "### 1.1 NGO Country Statistics"
   ]
  },
  {
   "cell_type": "code",
   "execution_count": 104,
   "metadata": {},
   "outputs": [],
   "source": [
    "NGO_country_stats = pd.DataFrame(NGO.country.value_counts())\n",
    "NGO_country_stats.reset_index(level=0, inplace=True)\n",
    "NGO_country_stats.columns = [\"Country\", \"Count\"]"
   ]
  },
  {
   "cell_type": "code",
   "execution_count": 105,
   "metadata": {},
   "outputs": [
    {
     "data": {
      "text/html": [
       "<div>\n",
       "<style scoped>\n",
       "    .dataframe tbody tr th:only-of-type {\n",
       "        vertical-align: middle;\n",
       "    }\n",
       "\n",
       "    .dataframe tbody tr th {\n",
       "        vertical-align: top;\n",
       "    }\n",
       "\n",
       "    .dataframe thead th {\n",
       "        text-align: right;\n",
       "    }\n",
       "</style>\n",
       "<table border=\"1\" class=\"dataframe\">\n",
       "  <thead>\n",
       "    <tr style=\"text-align: right;\">\n",
       "      <th></th>\n",
       "      <th>Country</th>\n",
       "      <th>Count</th>\n",
       "    </tr>\n",
       "  </thead>\n",
       "  <tbody>\n",
       "    <tr>\n",
       "      <th>0</th>\n",
       "      <td>United States of America</td>\n",
       "      <td>231</td>\n",
       "    </tr>\n",
       "    <tr>\n",
       "      <th>1</th>\n",
       "      <td>United Kingdom of Great Britain and Northern I...</td>\n",
       "      <td>83</td>\n",
       "    </tr>\n",
       "    <tr>\n",
       "      <th>2</th>\n",
       "      <td>Germany</td>\n",
       "      <td>76</td>\n",
       "    </tr>\n",
       "    <tr>\n",
       "      <th>3</th>\n",
       "      <td>France</td>\n",
       "      <td>56</td>\n",
       "    </tr>\n",
       "    <tr>\n",
       "      <th>4</th>\n",
       "      <td>Canada</td>\n",
       "      <td>50</td>\n",
       "    </tr>\n",
       "  </tbody>\n",
       "</table>\n",
       "</div>"
      ],
      "text/plain": [
       "                                             Country  Count\n",
       "0                           United States of America    231\n",
       "1  United Kingdom of Great Britain and Northern I...     83\n",
       "2                                            Germany     76\n",
       "3                                             France     56\n",
       "4                                             Canada     50"
      ]
     },
     "execution_count": 105,
     "metadata": {},
     "output_type": "execute_result"
    }
   ],
   "source": [
    "NGO_country_stats.head()"
   ]
  },
  {
   "cell_type": "code",
   "execution_count": 108,
   "metadata": {},
   "outputs": [],
   "source": [
    "NGO_country_stats.to_csv(\"NGO_country_stats.csv\")"
   ]
  },
  {
   "cell_type": "markdown",
   "metadata": {},
   "source": [
    "### 1.2 NGO City Statistics"
   ]
  },
  {
   "cell_type": "code",
   "execution_count": 106,
   "metadata": {},
   "outputs": [],
   "source": [
    "NGO_city_stats = pd.DataFrame(NGO.city.value_counts())\n",
    "NGO_city_stats.reset_index(level=0, inplace=True)\n",
    "NGO_city_stats.columns = [\"City\", \"Count\"]"
   ]
  },
  {
   "cell_type": "code",
   "execution_count": 107,
   "metadata": {},
   "outputs": [
    {
     "data": {
      "text/html": [
       "<div>\n",
       "<style scoped>\n",
       "    .dataframe tbody tr th:only-of-type {\n",
       "        vertical-align: middle;\n",
       "    }\n",
       "\n",
       "    .dataframe tbody tr th {\n",
       "        vertical-align: top;\n",
       "    }\n",
       "\n",
       "    .dataframe thead th {\n",
       "        text-align: right;\n",
       "    }\n",
       "</style>\n",
       "<table border=\"1\" class=\"dataframe\">\n",
       "  <thead>\n",
       "    <tr style=\"text-align: right;\">\n",
       "      <th></th>\n",
       "      <th>City</th>\n",
       "      <th>Count</th>\n",
       "    </tr>\n",
       "  </thead>\n",
       "  <tbody>\n",
       "    <tr>\n",
       "      <th>0</th>\n",
       "      <td>London</td>\n",
       "      <td>44</td>\n",
       "    </tr>\n",
       "    <tr>\n",
       "      <th>1</th>\n",
       "      <td>Washington</td>\n",
       "      <td>39</td>\n",
       "    </tr>\n",
       "    <tr>\n",
       "      <th>2</th>\n",
       "      <td>Brussels</td>\n",
       "      <td>37</td>\n",
       "    </tr>\n",
       "    <tr>\n",
       "      <th>3</th>\n",
       "      <td>Paris</td>\n",
       "      <td>31</td>\n",
       "    </tr>\n",
       "    <tr>\n",
       "      <th>4</th>\n",
       "      <td>New York</td>\n",
       "      <td>27</td>\n",
       "    </tr>\n",
       "  </tbody>\n",
       "</table>\n",
       "</div>"
      ],
      "text/plain": [
       "         City  Count\n",
       "0      London     44\n",
       "1  Washington     39\n",
       "2    Brussels     37\n",
       "3       Paris     31\n",
       "4    New York     27"
      ]
     },
     "execution_count": 107,
     "metadata": {},
     "output_type": "execute_result"
    }
   ],
   "source": [
    "NGO_city_stats.head()"
   ]
  },
  {
   "cell_type": "code",
   "execution_count": 109,
   "metadata": {},
   "outputs": [],
   "source": [
    "NGO_city_stats.to_csv(\"NGO_city_stats.csv\", index = False)"
   ]
  },
  {
   "cell_type": "markdown",
   "metadata": {},
   "source": [
    "### 1.3 Data Visualizations (barcharts) for Country and City Statistics (NGO)"
   ]
  },
  {
   "cell_type": "code",
   "execution_count": 16,
   "metadata": {},
   "outputs": [
    {
     "data": {
      "image/png": "[encoded data removed]",
      "text/plain": [
       "<Figure size 1440x720 with 2 Axes>"
      ]
     },
     "metadata": {
      "needs_background": "light"
     },
     "output_type": "display_data"
    }
   ],
   "source": [
    "plt.figure(figsize=(20,10))\n",
    "plt.subplot(1, 2, 1)\n",
    "plt.gca().invert_yaxis()\n",
    "plt.barh(NGO_country_stats.Country[0:19], NGO_country_stats.Count[0:19], color = [\"green\"])\n",
    "plt.title(\"COP2019 NGO Country Statistics \\n(first 20 most common countries)\")\n",
    "plt.xlabel(\"Number of Organizations\")\n",
    "plt.xticks(np.arange(0, 250, 20))\n",
    "\n",
    "plt.subplot(1, 2, 2)\n",
    "plt.gca().invert_yaxis()\n",
    "plt.barh(NGO_city_stats.City[0:19], NGO_city_stats.Count[0:19], color = [\"blue\"])\n",
    "plt.title(\"COP2019 NGO City Statistics \\n(first 20 most common cities)\")\n",
    "plt.xlabel(\"Number of Organizations\")\n",
    "plt.xticks(np.arange(0, 50, 5))\n",
    "plt.savefig(\"COP2019_NGO_country_city_stats.png\", facecolor = \"white\")"
   ]
  },
  {
   "cell_type": "markdown",
   "metadata": {},
   "source": [
    "### 1.4 NGO Constituency Statistics"
   ]
  },
  {
   "cell_type": "code",
   "execution_count": 123,
   "metadata": {},
   "outputs": [
    {
     "data": {
      "text/plain": [
       "array([nan, 'Constituency - Research and independent',\n",
       "       'Constituency - Environmental', 'Constituency - Environmental CAN',\n",
       "       'Constituency - ENGO', 'Constituency - Youth',\n",
       "       'Constituency - Business and Industry',\n",
       "       'Constituency - Indigenous peoples',\n",
       "       'Constituency - Women and Gender',\n",
       "       'Constituency - Business and Industry2',\n",
       "       'Constituency - Local government and Municipal authorities',\n",
       "       'Constituency - Farmers', 'Constituency - Environmental CJN',\n",
       "       'Constituency - Trade Unions'], dtype=object)"
      ]
     },
     "execution_count": 123,
     "metadata": {},
     "output_type": "execute_result"
    }
   ],
   "source": [
    "NGO.constituency.unique()"
   ]
  },
  {
   "cell_type": "code",
   "execution_count": 235,
   "metadata": {},
   "outputs": [],
   "source": [
    "NGO[\"constituency\"] = NGO[\"constituency\"].replace(np.nan, \"not yet affiliated\")"
   ]
  },
  {
   "cell_type": "code",
   "execution_count": 236,
   "metadata": {},
   "outputs": [
    {
     "data": {
      "text/plain": [
       "array(['not yet affiliated', 'Constituency - Research and independent',\n",
       "       'Constituency - Environmental', 'Constituency - Environmental CAN',\n",
       "       'Constituency - ENGO', 'Constituency - Youth',\n",
       "       'Constituency - Business and Industry',\n",
       "       'Constituency - Indigenous peoples',\n",
       "       'Constituency - Women and Gender',\n",
       "       'Constituency - Business and Industry2',\n",
       "       'Constituency - Local government and Municipal authorities',\n",
       "       'Constituency - Farmers', 'Constituency - Environmental CJN',\n",
       "       'Constituency - Trade Unions'], dtype=object)"
      ]
     },
     "execution_count": 236,
     "metadata": {},
     "output_type": "execute_result"
    }
   ],
   "source": [
    "NGO.constituency.unique()"
   ]
  },
  {
   "cell_type": "code",
   "execution_count": 237,
   "metadata": {},
   "outputs": [],
   "source": [
    "NGO_constituency_stats = pd.DataFrame(NGO.constituency.value_counts())\n",
    "NGO_constituency_stats.reset_index(level=0, inplace=True)\n",
    "NGO_constituency_stats.columns = [\"Constituency\", \"Count\"]"
   ]
  },
  {
   "cell_type": "code",
   "execution_count": 238,
   "metadata": {},
   "outputs": [
    {
     "data": {
      "text/html": [
       "<div>\n",
       "<style scoped>\n",
       "    .dataframe tbody tr th:only-of-type {\n",
       "        vertical-align: middle;\n",
       "    }\n",
       "\n",
       "    .dataframe tbody tr th {\n",
       "        vertical-align: top;\n",
       "    }\n",
       "\n",
       "    .dataframe thead th {\n",
       "        text-align: right;\n",
       "    }\n",
       "</style>\n",
       "<table border=\"1\" class=\"dataframe\">\n",
       "  <thead>\n",
       "    <tr style=\"text-align: right;\">\n",
       "      <th></th>\n",
       "      <th>Constituency</th>\n",
       "      <th>Count</th>\n",
       "    </tr>\n",
       "  </thead>\n",
       "  <tbody>\n",
       "    <tr>\n",
       "      <th>0</th>\n",
       "      <td>Constituency - Environmental</td>\n",
       "      <td>311</td>\n",
       "    </tr>\n",
       "    <tr>\n",
       "      <th>1</th>\n",
       "      <td>Constituency - Research and independent</td>\n",
       "      <td>299</td>\n",
       "    </tr>\n",
       "    <tr>\n",
       "      <th>2</th>\n",
       "      <td>Constituency - Business and Industry</td>\n",
       "      <td>117</td>\n",
       "    </tr>\n",
       "    <tr>\n",
       "      <th>3</th>\n",
       "      <td>Constituency - Environmental CAN</td>\n",
       "      <td>109</td>\n",
       "    </tr>\n",
       "    <tr>\n",
       "      <th>4</th>\n",
       "      <td>Constituency - Youth</td>\n",
       "      <td>44</td>\n",
       "    </tr>\n",
       "    <tr>\n",
       "      <th>5</th>\n",
       "      <td>Constituency - ENGO</td>\n",
       "      <td>37</td>\n",
       "    </tr>\n",
       "    <tr>\n",
       "      <th>6</th>\n",
       "      <td>Constituency - Indigenous peoples</td>\n",
       "      <td>29</td>\n",
       "    </tr>\n",
       "    <tr>\n",
       "      <th>7</th>\n",
       "      <td>Constituency - Women and Gender</td>\n",
       "      <td>21</td>\n",
       "    </tr>\n",
       "    <tr>\n",
       "      <th>8</th>\n",
       "      <td>Constituency - Local government and Municipal ...</td>\n",
       "      <td>20</td>\n",
       "    </tr>\n",
       "    <tr>\n",
       "      <th>9</th>\n",
       "      <td>not yet affiliated</td>\n",
       "      <td>19</td>\n",
       "    </tr>\n",
       "    <tr>\n",
       "      <th>10</th>\n",
       "      <td>Constituency - Farmers</td>\n",
       "      <td>12</td>\n",
       "    </tr>\n",
       "    <tr>\n",
       "      <th>11</th>\n",
       "      <td>Constituency - Environmental CJN</td>\n",
       "      <td>12</td>\n",
       "    </tr>\n",
       "    <tr>\n",
       "      <th>12</th>\n",
       "      <td>Constituency - Business and Industry2</td>\n",
       "      <td>9</td>\n",
       "    </tr>\n",
       "    <tr>\n",
       "      <th>13</th>\n",
       "      <td>Constituency - Trade Unions</td>\n",
       "      <td>7</td>\n",
       "    </tr>\n",
       "  </tbody>\n",
       "</table>\n",
       "</div>"
      ],
      "text/plain": [
       "                                         Constituency  Count\n",
       "0                        Constituency - Environmental    311\n",
       "1             Constituency - Research and independent    299\n",
       "2                Constituency - Business and Industry    117\n",
       "3                    Constituency - Environmental CAN    109\n",
       "4                                Constituency - Youth     44\n",
       "5                                 Constituency - ENGO     37\n",
       "6                   Constituency - Indigenous peoples     29\n",
       "7                     Constituency - Women and Gender     21\n",
       "8   Constituency - Local government and Municipal ...     20\n",
       "9                                  not yet affiliated     19\n",
       "10                             Constituency - Farmers     12\n",
       "11                   Constituency - Environmental CJN     12\n",
       "12              Constituency - Business and Industry2      9\n",
       "13                        Constituency - Trade Unions      7"
      ]
     },
     "execution_count": 238,
     "metadata": {},
     "output_type": "execute_result"
    }
   ],
   "source": [
    "NGO_constituency_stats"
   ]
  },
  {
   "cell_type": "markdown",
   "metadata": {},
   "source": [
    "### 1.4.1 Piechart"
   ]
  },
  {
   "cell_type": "code",
   "execution_count": 239,
   "metadata": {},
   "outputs": [
    {
     "data": {
      "image/png": "[encoded data removed]",
      "text/plain": [
       "<Figure size 1440x720 with 1 Axes>"
      ]
     },
     "metadata": {},
     "output_type": "display_data"
    }
   ],
   "source": [
    "plt.figure(figsize=(20,10))\n",
    "plt.pie(NGO_constituency_stats.Count,labels=NGO_constituency_stats.Constituency,\n",
    "        autopct='%1.1f%%',\n",
    "        startangle = 0.06,\n",
    "        pctdistance = 0.85)\n",
    "plt.title(\"Piechart of Constituency Distribution for NGOs \\n(COP2019)\")\n",
    "plt.savefig(\"NGO_constituency_piechart.png\", facecolor = \"white\")"
   ]
  },
  {
   "cell_type": "code",
   "execution_count": 240,
   "metadata": {},
   "outputs": [],
   "source": [
    "new_const = [constituency[(constituency.find('-') + 2):] for constituency in list(NGO_constituency_stats.Constituency)]"
   ]
  },
  {
   "cell_type": "code",
   "execution_count": 241,
   "metadata": {},
   "outputs": [
    {
     "data": {
      "text/plain": [
       "['Environmental',\n",
       " 'Research and independent',\n",
       " 'Business and Industry',\n",
       " 'Environmental CAN',\n",
       " 'Youth',\n",
       " 'ENGO',\n",
       " 'Indigenous peoples',\n",
       " 'Women and Gender',\n",
       " 'Local government and Municipal authorities',\n",
       " 'ot yet affiliated',\n",
       " 'Farmers',\n",
       " 'Environmental CJN',\n",
       " 'Business and Industry2',\n",
       " 'Trade Unions']"
      ]
     },
     "execution_count": 241,
     "metadata": {},
     "output_type": "execute_result"
    }
   ],
   "source": [
    "new_const"
   ]
  },
  {
   "cell_type": "code",
   "execution_count": 242,
   "metadata": {},
   "outputs": [],
   "source": [
    "new_const[-5] = 'not yet affiliated'"
   ]
  },
  {
   "cell_type": "code",
   "execution_count": 243,
   "metadata": {},
   "outputs": [
    {
     "data": {
      "text/plain": [
       "['Environmental',\n",
       " 'Research and independent',\n",
       " 'Business and Industry',\n",
       " 'Environmental CAN',\n",
       " 'Youth',\n",
       " 'ENGO',\n",
       " 'Indigenous peoples',\n",
       " 'Women and Gender',\n",
       " 'Local government and Municipal authorities',\n",
       " 'not yet affiliated',\n",
       " 'Farmers',\n",
       " 'Environmental CJN',\n",
       " 'Business and Industry2',\n",
       " 'Trade Unions']"
      ]
     },
     "execution_count": 243,
     "metadata": {},
     "output_type": "execute_result"
    }
   ],
   "source": [
    "new_const"
   ]
  },
  {
   "cell_type": "markdown",
   "metadata": {},
   "source": [
    "### 1.4.2 Barchart"
   ]
  },
  {
   "cell_type": "code",
   "execution_count": 265,
   "metadata": {},
   "outputs": [
    {
     "data": {
      "image/png": "[encoded data removed]",
      "text/plain": [
       "<Figure size 1440x720 with 1 Axes>"
      ]
     },
     "metadata": {
      "needs_background": "light"
     },
     "output_type": "display_data"
    }
   ],
   "source": [
    "plt.figure(figsize = (20, 10))\n",
    "sns.barplot(y = new_const,\n",
    "           x = NGO_constituency_stats.Count,\n",
    "           orient='h',\n",
    "           color = \"blue\")\n",
    "plt.xticks(np.arange(0, 350, 25))\n",
    "plt.title(\"Barchart of Constituency Distribution for NGOs \\n(COP2019)\")\n",
    "plt.savefig(\"NGO_constituency_barchart.png\", facecolor = \"white\")"
   ]
  },
  {
   "cell_type": "markdown",
   "metadata": {},
   "source": [
    "### 1.4.3 Map"
   ]
  },
  {
   "cell_type": "code",
   "execution_count": 201,
   "metadata": {},
   "outputs": [],
   "source": [
    "def country_name_to_country_alpha3_(country):\n",
    "    \"\"\"\n",
    "    Returns the ISO3 of the country.\n",
    "    Args: country (str)\n",
    "    Output: iso3 (str)\n",
    "    \"\"\"\n",
    "    try:\n",
    "        iso3 = pycountry.country_name_to_country_alpha3(country)\n",
    "    except:\n",
    "        iso3 = \"\"\n",
    "    return iso3\n",
    "\n",
    "NGO_country_stats[\"ISO3\"] = [country_name_to_country_alpha3_(country) for country in list(NGO_country_stats.Country)]"
   ]
  },
  {
   "cell_type": "code",
   "execution_count": 200,
   "metadata": {},
   "outputs": [
    {
     "data": {
      "text/html": [
       "<div>\n",
       "<style scoped>\n",
       "    .dataframe tbody tr th:only-of-type {\n",
       "        vertical-align: middle;\n",
       "    }\n",
       "\n",
       "    .dataframe tbody tr th {\n",
       "        vertical-align: top;\n",
       "    }\n",
       "\n",
       "    .dataframe thead th {\n",
       "        text-align: right;\n",
       "    }\n",
       "</style>\n",
       "<table border=\"1\" class=\"dataframe\">\n",
       "  <thead>\n",
       "    <tr style=\"text-align: right;\">\n",
       "      <th></th>\n",
       "      <th>Country</th>\n",
       "      <th>Count</th>\n",
       "      <th>ISO3</th>\n",
       "    </tr>\n",
       "  </thead>\n",
       "  <tbody>\n",
       "    <tr>\n",
       "      <th>24</th>\n",
       "      <td>Republic of Korea</td>\n",
       "      <td>8</td>\n",
       "      <td></td>\n",
       "    </tr>\n",
       "    <tr>\n",
       "      <th>46</th>\n",
       "      <td>Bolivia (Plurinational State of)</td>\n",
       "      <td>2</td>\n",
       "      <td></td>\n",
       "    </tr>\n",
       "    <tr>\n",
       "      <th>62</th>\n",
       "      <td>Iran (Islamic Republic of)</td>\n",
       "      <td>1</td>\n",
       "      <td></td>\n",
       "    </tr>\n",
       "    <tr>\n",
       "      <th>66</th>\n",
       "      <td>Holy See</td>\n",
       "      <td>1</td>\n",
       "      <td></td>\n",
       "    </tr>\n",
       "  </tbody>\n",
       "</table>\n",
       "</div>"
      ],
      "text/plain": [
       "                             Country  Count ISO3\n",
       "24                 Republic of Korea      8     \n",
       "46  Bolivia (Plurinational State of)      2     \n",
       "62        Iran (Islamic Republic of)      1     \n",
       "66                          Holy See      1     "
      ]
     },
     "execution_count": 200,
     "metadata": {},
     "output_type": "execute_result"
    }
   ],
   "source": [
    "NGO_country_stats[NGO_country_stats.ISO3==\"\"]"
   ]
  },
  {
   "cell_type": "markdown",
   "metadata": {},
   "source": [
    "It seems that 4 countries were not identified by the `country_name_to_alpha3` function. These are:\n",
    "* Republic of Korea\n",
    "* Bolivia\n",
    "* Iran\n",
    "* Holy See\n",
    "\n",
    "We will manually compute the ISO3 for these countries as follows:"
   ]
  },
  {
   "cell_type": "code",
   "execution_count": 202,
   "metadata": {},
   "outputs": [],
   "source": [
    "NGO_country_stats.loc[[24, 46, 62, 66], \"ISO3\"] = [\"KOR\", \"BOL\", \"IRN\", \"VAT\"]"
   ]
  },
  {
   "cell_type": "code",
   "execution_count": 203,
   "metadata": {},
   "outputs": [
    {
     "data": {
      "text/html": [
       "<div>\n",
       "<style scoped>\n",
       "    .dataframe tbody tr th:only-of-type {\n",
       "        vertical-align: middle;\n",
       "    }\n",
       "\n",
       "    .dataframe tbody tr th {\n",
       "        vertical-align: top;\n",
       "    }\n",
       "\n",
       "    .dataframe thead th {\n",
       "        text-align: right;\n",
       "    }\n",
       "</style>\n",
       "<table border=\"1\" class=\"dataframe\">\n",
       "  <thead>\n",
       "    <tr style=\"text-align: right;\">\n",
       "      <th></th>\n",
       "      <th>Country</th>\n",
       "      <th>Count</th>\n",
       "      <th>ISO3</th>\n",
       "    </tr>\n",
       "  </thead>\n",
       "  <tbody>\n",
       "    <tr>\n",
       "      <th>65</th>\n",
       "      <td>Senegal</td>\n",
       "      <td>1</td>\n",
       "      <td>SEN</td>\n",
       "    </tr>\n",
       "    <tr>\n",
       "      <th>66</th>\n",
       "      <td>Holy See</td>\n",
       "      <td>1</td>\n",
       "      <td>VAT</td>\n",
       "    </tr>\n",
       "    <tr>\n",
       "      <th>67</th>\n",
       "      <td>San Marino</td>\n",
       "      <td>1</td>\n",
       "      <td>SMR</td>\n",
       "    </tr>\n",
       "    <tr>\n",
       "      <th>68</th>\n",
       "      <td>Uruguay</td>\n",
       "      <td>1</td>\n",
       "      <td>URY</td>\n",
       "    </tr>\n",
       "    <tr>\n",
       "      <th>69</th>\n",
       "      <td>Uganda</td>\n",
       "      <td>1</td>\n",
       "      <td>UGA</td>\n",
       "    </tr>\n",
       "    <tr>\n",
       "      <th>70</th>\n",
       "      <td>Costa Rica</td>\n",
       "      <td>1</td>\n",
       "      <td>CRI</td>\n",
       "    </tr>\n",
       "    <tr>\n",
       "      <th>71</th>\n",
       "      <td>Chile</td>\n",
       "      <td>1</td>\n",
       "      <td>CHL</td>\n",
       "    </tr>\n",
       "    <tr>\n",
       "      <th>72</th>\n",
       "      <td>Kazakhstan</td>\n",
       "      <td>1</td>\n",
       "      <td>KAZ</td>\n",
       "    </tr>\n",
       "    <tr>\n",
       "      <th>73</th>\n",
       "      <td>Chad</td>\n",
       "      <td>1</td>\n",
       "      <td>TCD</td>\n",
       "    </tr>\n",
       "    <tr>\n",
       "      <th>74</th>\n",
       "      <td>Honduras</td>\n",
       "      <td>1</td>\n",
       "      <td>HND</td>\n",
       "    </tr>\n",
       "  </tbody>\n",
       "</table>\n",
       "</div>"
      ],
      "text/plain": [
       "       Country  Count ISO3\n",
       "65     Senegal      1  SEN\n",
       "66    Holy See      1  VAT\n",
       "67  San Marino      1  SMR\n",
       "68     Uruguay      1  URY\n",
       "69      Uganda      1  UGA\n",
       "70  Costa Rica      1  CRI\n",
       "71       Chile      1  CHL\n",
       "72  Kazakhstan      1  KAZ\n",
       "73        Chad      1  TCD\n",
       "74    Honduras      1  HND"
      ]
     },
     "execution_count": 203,
     "metadata": {},
     "output_type": "execute_result"
    }
   ],
   "source": [
    "NGO_country_stats.tail(10)"
   ]
  },
  {
   "cell_type": "code",
   "execution_count": 228,
   "metadata": {},
   "outputs": [],
   "source": [
    "# NGO_city_stats.to_csv(\"NGO_city_stats.csv\")"
   ]
  },
  {
   "cell_type": "code",
   "execution_count": 234,
   "metadata": {},
   "outputs": [
    {
     "data": {
      "application/vnd.plotly.v1+json": {
       "config": {
        "plotlyServerURL": "https://plot.ly"
       },
       "data": [
        {
         "coloraxis": "coloraxis",
         "geo": "geo",
         "hovertemplate": "<b>%{hovertext}</b><br><br>ISO3=%{location}<br>Count=%{z}<extra></extra>",
         "hovertext": [
          "United States of America",
          "United Kingdom of Great Britain and Northern Ireland",
          "Germany",
          "France",
          "Canada",
          "China",
          "Belgium",
          "Switzerland",
          "Japan",
          "Nigeria",
          "Netherlands",
          "Spain",
          "Australia",
          "Brazil",
          "India",
          "Peru",
          "Italy",
          "Denmark",
          "Sweden",
          "Morocco",
          "Bangladesh",
          "Norway",
          "Nepal",
          "Austria",
          "Republic of Korea",
          "South Africa",
          "Philippines",
          "Kenya",
          "Mexico",
          "Argentina",
          "Malaysia",
          "Turkey",
          "Israel",
          "Colombia",
          "Ukraine",
          "Singapore",
          "Ecuador",
          "Thailand",
          "Russian Federation",
          "New Zealand",
          "Panama",
          "Ghana",
          "Finland",
          "Lebanon",
          "Guatemala",
          "Togo",
          "Bolivia (Plurinational State of)",
          "United Republic of Tanzania",
          "Pakistan",
          "Czechia",
          "Ireland",
          "Nicaragua",
          "Luxembourg",
          "Cameroon",
          "Saudi Arabia",
          "Democratic Republic of the Congo",
          "Cuba",
          "Poland",
          "Côte d'Ivoire",
          "Sri Lanka",
          "Libya",
          "Armenia",
          "Iran (Islamic Republic of)",
          "El Salvador",
          "Dominican Republic",
          "Senegal",
          "Holy See",
          "San Marino",
          "Uruguay",
          "Uganda",
          "Costa Rica",
          "Chile",
          "Kazakhstan",
          "Chad",
          "Honduras"
         ],
         "locations": [
          "USA",
          "GBR",
          "DEU",
          "FRA",
          "CAN",
          "CHN",
          "BEL",
          "CHE",
          "JPN",
          "NGA",
          "NLD",
          "ESP",
          "AUS",
          "BRA",
          "IND",
          "PER",
          "ITA",
          "DNK",
          "SWE",
          "MAR",
          "BGD",
          "NOR",
          "NPL",
          "AUT",
          "KOR",
          "ZAF",
          "PHL",
          "KEN",
          "MEX",
          "ARG",
          "MYS",
          "TUR",
          "ISR",
          "COL",
          "UKR",
          "SGP",
          "ECU",
          "THA",
          "RUS",
          "NZL",
          "PAN",
          "GHA",
          "FIN",
          "LBN",
          "GTM",
          "TGO",
          "BOL",
          "TZA",
          "PAK",
          "CZE",
          "IRL",
          "NIC",
          "LUX",
          "CMR",
          "SAU",
          "COD",
          "CUB",
          "POL",
          "CIV",
          "LKA",
          "LBY",
          "ARM",
          "IRN",
          "SLV",
          "DOM",
          "SEN",
          "VAT",
          "SMR",
          "URY",
          "UGA",
          "CRI",
          "CHL",
          "KAZ",
          "TCD",
          "HND"
         ],
         "name": "",
         "type": "choropleth",
         "z": [
          231,
          83,
          76,
          56,
          50,
          43,
          40,
          39,
          35,
          23,
          22,
          22,
          21,
          21,
          21,
          20,
          19,
          18,
          13,
          11,
          11,
          10,
          9,
          8,
          8,
          8,
          8,
          8,
          7,
          7,
          5,
          5,
          5,
          4,
          4,
          4,
          4,
          4,
          4,
          4,
          4,
          3,
          3,
          3,
          3,
          2,
          2,
          2,
          2,
          2,
          2,
          2,
          2,
          2,
          1,
          1,
          1,
          1,
          1,
          1,
          1,
          1,
          1,
          1,
          1,
          1,
          1,
          1,
          1,
          1,
          1,
          1,
          1,
          1,
          1
         ]
        }
       ],
       "layout": {
        "coloraxis": {
         "cmax": 250,
         "cmin": 0,
         "colorbar": {
          "title": {
           "text": "Count"
          }
         },
         "colorscale": [
          [
           0,
           "rgb(255,245,240)"
          ],
          [
           0.125,
           "rgb(254,224,210)"
          ],
          [
           0.25,
           "rgb(252,187,161)"
          ],
          [
           0.375,
           "rgb(252,146,114)"
          ],
          [
           0.5,
           "rgb(251,106,74)"
          ],
          [
           0.625,
           "rgb(239,59,44)"
          ],
          [
           0.75,
           "rgb(203,24,29)"
          ],
          [
           0.875,
           "rgb(165,15,21)"
          ],
          [
           1,
           "rgb(103,0,13)"
          ]
         ]
        },
        "geo": {
         "center": {},
         "domain": {
          "x": [
           0,
           1
          ],
          "y": [
           0,
           1
          ]
         },
         "projection": {
          "type": "natural earth"
         }
        },
        "legend": {
         "tracegroupgap": 0
        },
        "template": {
         "data": {
          "bar": [
           {
            "error_x": {
             "color": "#2a3f5f"
            },
            "error_y": {
             "color": "#2a3f5f"
            },
            "marker": {
             "line": {
              "color": "#E5ECF6",
              "width": 0.5
             },
             "pattern": {
              "fillmode": "overlay",
              "size": 10,
              "solidity": 0.2
             }
            },
            "type": "bar"
           }
          ],
          "barpolar": [
           {
            "marker": {
             "line": {
              "color": "#E5ECF6",
              "width": 0.5
             },
             "pattern": {
              "fillmode": "overlay",
              "size": 10,
              "solidity": 0.2
             }
            },
            "type": "barpolar"
           }
          ],
          "carpet": [
           {
            "aaxis": {
             "endlinecolor": "#2a3f5f",
             "gridcolor": "white",
             "linecolor": "white",
             "minorgridcolor": "white",
             "startlinecolor": "#2a3f5f"
            },
            "baxis": {
             "endlinecolor": "#2a3f5f",
             "gridcolor": "white",
             "linecolor": "white",
             "minorgridcolor": "white",
             "startlinecolor": "#2a3f5f"
            },
            "type": "carpet"
           }
          ],
          "choropleth": [
           {
            "colorbar": {
             "outlinewidth": 0,
             "ticks": ""
            },
            "type": "choropleth"
           }
          ],
          "contour": [
           {
            "colorbar": {
             "outlinewidth": 0,
             "ticks": ""
            },
            "colorscale": [
             [
              0,
              "#0d0887"
             ],
             [
              0.1111111111111111,
              "#46039f"
             ],
             [
              0.2222222222222222,
              "#7201a8"
             ],
             [
              0.3333333333333333,
              "#9c179e"
             ],
             [
              0.4444444444444444,
              "#bd3786"
             ],
             [
              0.5555555555555556,
              "#d8576b"
             ],
             [
              0.6666666666666666,
              "#ed7953"
             ],
             [
              0.7777777777777778,
              "#fb9f3a"
             ],
             [
              0.8888888888888888,
              "#fdca26"
             ],
             [
              1,
              "#f0f921"
             ]
            ],
            "type": "contour"
           }
          ],
          "contourcarpet": [
           {
            "colorbar": {
             "outlinewidth": 0,
             "ticks": ""
            },
            "type": "contourcarpet"
           }
          ],
          "heatmap": [
           {
            "colorbar": {
             "outlinewidth": 0,
             "ticks": ""
            },
            "colorscale": [
             [
              0,
              "#0d0887"
             ],
             [
              0.1111111111111111,
              "#46039f"
             ],
             [
              0.2222222222222222,
              "#7201a8"
             ],
             [
              0.3333333333333333,
              "#9c179e"
             ],
             [
              0.4444444444444444,
              "#bd3786"
             ],
             [
              0.5555555555555556,
              "#d8576b"
             ],
             [
              0.6666666666666666,
              "#ed7953"
             ],
             [
              0.7777777777777778,
              "#fb9f3a"
             ],
             [
              0.8888888888888888,
              "#fdca26"
             ],
             [
              1,
              "#f0f921"
             ]
            ],
            "type": "heatmap"
           }
          ],
          "heatmapgl": [
           {
            "colorbar": {
             "outlinewidth": 0,
             "ticks": ""
            },
            "colorscale": [
             [
              0,
              "#0d0887"
             ],
             [
              0.1111111111111111,
              "#46039f"
             ],
             [
              0.2222222222222222,
              "#7201a8"
             ],
             [
              0.3333333333333333,
              "#9c179e"
             ],
             [
              0.4444444444444444,
              "#bd3786"
             ],
             [
              0.5555555555555556,
              "#d8576b"
             ],
             [
              0.6666666666666666,
              "#ed7953"
             ],
             [
              0.7777777777777778,
              "#fb9f3a"
             ],
             [
              0.8888888888888888,
              "#fdca26"
             ],
             [
              1,
              "#f0f921"
             ]
            ],
            "type": "heatmapgl"
           }
          ],
          "histogram": [
           {
            "marker": {
             "pattern": {
              "fillmode": "overlay",
              "size": 10,
              "solidity": 0.2
             }
            },
            "type": "histogram"
           }
          ],
          "histogram2d": [
           {
            "colorbar": {
             "outlinewidth": 0,
             "ticks": ""
            },
            "colorscale": [
             [
              0,
              "#0d0887"
             ],
             [
              0.1111111111111111,
              "#46039f"
             ],
             [
              0.2222222222222222,
              "#7201a8"
             ],
             [
              0.3333333333333333,
              "#9c179e"
             ],
             [
              0.4444444444444444,
              "#bd3786"
             ],
             [
              0.5555555555555556,
              "#d8576b"
             ],
             [
              0.6666666666666666,
              "#ed7953"
             ],
             [
              0.7777777777777778,
              "#fb9f3a"
             ],
             [
              0.8888888888888888,
              "#fdca26"
             ],
             [
              1,
              "#f0f921"
             ]
            ],
            "type": "histogram2d"
           }
          ],
          "histogram2dcontour": [
           {
            "colorbar": {
             "outlinewidth": 0,
             "ticks": ""
            },
            "colorscale": [
             [
              0,
              "#0d0887"
             ],
             [
              0.1111111111111111,
              "#46039f"
             ],
             [
              0.2222222222222222,
              "#7201a8"
             ],
             [
              0.3333333333333333,
              "#9c179e"
             ],
             [
              0.4444444444444444,
              "#bd3786"
             ],
             [
              0.5555555555555556,
              "#d8576b"
             ],
             [
              0.6666666666666666,
              "#ed7953"
             ],
             [
              0.7777777777777778,
              "#fb9f3a"
             ],
             [
              0.8888888888888888,
              "#fdca26"
             ],
             [
              1,
              "#f0f921"
             ]
            ],
            "type": "histogram2dcontour"
           }
          ],
          "mesh3d": [
           {
            "colorbar": {
             "outlinewidth": 0,
             "ticks": ""
            },
            "type": "mesh3d"
           }
          ],
          "parcoords": [
           {
            "line": {
             "colorbar": {
              "outlinewidth": 0,
              "ticks": ""
             }
            },
            "type": "parcoords"
           }
          ],
          "pie": [
           {
            "automargin": true,
            "type": "pie"
           }
          ],
          "scatter": [
           {
            "marker": {
             "colorbar": {
              "outlinewidth": 0,
              "ticks": ""
             }
            },
            "type": "scatter"
           }
          ],
          "scatter3d": [
           {
            "line": {
             "colorbar": {
              "outlinewidth": 0,
              "ticks": ""
             }
            },
            "marker": {
             "colorbar": {
              "outlinewidth": 0,
              "ticks": ""
             }
            },
            "type": "scatter3d"
           }
          ],
          "scattercarpet": [
           {
            "marker": {
             "colorbar": {
              "outlinewidth": 0,
              "ticks": ""
             }
            },
            "type": "scattercarpet"
           }
          ],
          "scattergeo": [
           {
            "marker": {
             "colorbar": {
              "outlinewidth": 0,
              "ticks": ""
             }
            },
            "type": "scattergeo"
           }
          ],
          "scattergl": [
           {
            "marker": {
             "colorbar": {
              "outlinewidth": 0,
              "ticks": ""
             }
            },
            "type": "scattergl"
           }
          ],
          "scattermapbox": [
           {
            "marker": {
             "colorbar": {
              "outlinewidth": 0,
              "ticks": ""
             }
            },
            "type": "scattermapbox"
           }
          ],
          "scatterpolar": [
           {
            "marker": {
             "colorbar": {
              "outlinewidth": 0,
              "ticks": ""
             }
            },
            "type": "scatterpolar"
           }
          ],
          "scatterpolargl": [
           {
            "marker": {
             "colorbar": {
              "outlinewidth": 0,
              "ticks": ""
             }
            },
            "type": "scatterpolargl"
           }
          ],
          "scatterternary": [
           {
            "marker": {
             "colorbar": {
              "outlinewidth": 0,
              "ticks": ""
             }
            },
            "type": "scatterternary"
           }
          ],
          "surface": [
           {
            "colorbar": {
             "outlinewidth": 0,
             "ticks": ""
            },
            "colorscale": [
             [
              0,
              "#0d0887"
             ],
             [
              0.1111111111111111,
              "#46039f"
             ],
             [
              0.2222222222222222,
              "#7201a8"
             ],
             [
              0.3333333333333333,
              "#9c179e"
             ],
             [
              0.4444444444444444,
              "#bd3786"
             ],
             [
              0.5555555555555556,
              "#d8576b"
             ],
             [
              0.6666666666666666,
              "#ed7953"
             ],
             [
              0.7777777777777778,
              "#fb9f3a"
             ],
             [
              0.8888888888888888,
              "#fdca26"
             ],
             [
              1,
              "#f0f921"
             ]
            ],
            "type": "surface"
           }
          ],
          "table": [
           {
            "cells": {
             "fill": {
              "color": "#EBF0F8"
             },
             "line": {
              "color": "white"
             }
            },
            "header": {
             "fill": {
              "color": "#C8D4E3"
             },
             "line": {
              "color": "white"
             }
            },
            "type": "table"
           }
          ]
         },
         "layout": {
          "annotationdefaults": {
           "arrowcolor": "#2a3f5f",
           "arrowhead": 0,
           "arrowwidth": 1
          },
          "autotypenumbers": "strict",
          "coloraxis": {
           "colorbar": {
            "outlinewidth": 0,
            "ticks": ""
           }
          },
          "colorscale": {
           "diverging": [
            [
             0,
             "#8e0152"
            ],
            [
             0.1,
             "#c51b7d"
            ],
            [
             0.2,
             "#de77ae"
            ],
            [
             0.3,
             "#f1b6da"
            ],
            [
             0.4,
             "#fde0ef"
            ],
            [
             0.5,
             "#f7f7f7"
            ],
            [
             0.6,
             "#e6f5d0"
            ],
            [
             0.7,
             "#b8e186"
            ],
            [
             0.8,
             "#7fbc41"
            ],
            [
             0.9,
             "#4d9221"
            ],
            [
             1,
             "#276419"
            ]
           ],
           "sequential": [
            [
             0,
             "#0d0887"
            ],
            [
             0.1111111111111111,
             "#46039f"
            ],
            [
             0.2222222222222222,
             "#7201a8"
            ],
            [
             0.3333333333333333,
             "#9c179e"
            ],
            [
             0.4444444444444444,
             "#bd3786"
            ],
            [
             0.5555555555555556,
             "#d8576b"
            ],
            [
             0.6666666666666666,
             "#ed7953"
            ],
            [
             0.7777777777777778,
             "#fb9f3a"
            ],
            [
             0.8888888888888888,
             "#fdca26"
            ],
            [
             1,
             "#f0f921"
            ]
           ],
           "sequentialminus": [
            [
             0,
             "#0d0887"
            ],
            [
             0.1111111111111111,
             "#46039f"
            ],
            [
             0.2222222222222222,
             "#7201a8"
            ],
            [
             0.3333333333333333,
             "#9c179e"
            ],
            [
             0.4444444444444444,
             "#bd3786"
            ],
            [
             0.5555555555555556,
             "#d8576b"
            ],
            [
             0.6666666666666666,
             "#ed7953"
            ],
            [
             0.7777777777777778,
             "#fb9f3a"
            ],
            [
             0.8888888888888888,
             "#fdca26"
            ],
            [
             1,
             "#f0f921"
            ]
           ]
          },
          "colorway": [
           "#636efa",
           "#EF553B",
           "#00cc96",
           "#ab63fa",
           "#FFA15A",
           "#19d3f3",
           "#FF6692",
           "#B6E880",
           "#FF97FF",
           "#FECB52"
          ],
          "font": {
           "color": "#2a3f5f"
          },
          "geo": {
           "bgcolor": "white",
           "lakecolor": "white",
           "landcolor": "#E5ECF6",
           "showlakes": true,
           "showland": true,
           "subunitcolor": "white"
          },
          "hoverlabel": {
           "align": "left"
          },
          "hovermode": "closest",
          "mapbox": {
           "style": "light"
          },
          "paper_bgcolor": "white",
          "plot_bgcolor": "#E5ECF6",
          "polar": {
           "angularaxis": {
            "gridcolor": "white",
            "linecolor": "white",
            "ticks": ""
           },
           "bgcolor": "#E5ECF6",
           "radialaxis": {
            "gridcolor": "white",
            "linecolor": "white",
            "ticks": ""
           }
          },
          "scene": {
           "xaxis": {
            "backgroundcolor": "#E5ECF6",
            "gridcolor": "white",
            "gridwidth": 2,
            "linecolor": "white",
            "showbackground": true,
            "ticks": "",
            "zerolinecolor": "white"
           },
           "yaxis": {
            "backgroundcolor": "#E5ECF6",
            "gridcolor": "white",
            "gridwidth": 2,
            "linecolor": "white",
            "showbackground": true,
            "ticks": "",
            "zerolinecolor": "white"
           },
           "zaxis": {
            "backgroundcolor": "#E5ECF6",
            "gridcolor": "white",
            "gridwidth": 2,
            "linecolor": "white",
            "showbackground": true,
            "ticks": "",
            "zerolinecolor": "white"
           }
          },
          "shapedefaults": {
           "line": {
            "color": "#2a3f5f"
           }
          },
          "ternary": {
           "aaxis": {
            "gridcolor": "white",
            "linecolor": "white",
            "ticks": ""
           },
           "baxis": {
            "gridcolor": "white",
            "linecolor": "white",
            "ticks": ""
           },
           "bgcolor": "#E5ECF6",
           "caxis": {
            "gridcolor": "white",
            "linecolor": "white",
            "ticks": ""
           }
          },
          "title": {
           "x": 0.05
          },
          "xaxis": {
           "automargin": true,
           "gridcolor": "white",
           "linecolor": "white",
           "ticks": "",
           "title": {
            "standoff": 15
           },
           "zerolinecolor": "white",
           "zerolinewidth": 2
          },
          "yaxis": {
           "automargin": true,
           "gridcolor": "white",
           "linecolor": "white",
           "ticks": "",
           "title": {
            "standoff": 15
           },
           "zerolinecolor": "white",
           "zerolinewidth": 2
          }
         }
        },
        "title": {
         "text": "Color-Coded Map of the Country of Origin of NGOs participating at COP2019"
        }
       }
      },
      "text/html": [
       "<div>                            <div id=\"7a4532ac-eb16-4656-89cb-13f4024b7a20\" class=\"plotly-graph-div\" style=\"height:525px; width:100%;\"></div>            <script type=\"text/javascript\">                require([\"plotly\"], function(Plotly) {                    window.PLOTLYENV=window.PLOTLYENV || {};                                    if (document.getElementById(\"7a4532ac-eb16-4656-89cb-13f4024b7a20\")) {                    Plotly.newPlot(                        \"7a4532ac-eb16-4656-89cb-13f4024b7a20\",                        [{\"coloraxis\":\"coloraxis\",\"geo\":\"geo\",\"hovertemplate\":\"<b>%{hovertext}</b><br><br>ISO3=%{location}<br>Count=%{z}<extra></extra>\",\"hovertext\":[\"United States of America\",\"United Kingdom of Great Britain and Northern Ireland\",\"Germany\",\"France\",\"Canada\",\"China\",\"Belgium\",\"Switzerland\",\"Japan\",\"Nigeria\",\"Netherlands\",\"Spain\",\"Australia\",\"Brazil\",\"India\",\"Peru\",\"Italy\",\"Denmark\",\"Sweden\",\"Morocco\",\"Bangladesh\",\"Norway\",\"Nepal\",\"Austria\",\"Republic of Korea\",\"South Africa\",\"Philippines\",\"Kenya\",\"Mexico\",\"Argentina\",\"Malaysia\",\"Turkey\",\"Israel\",\"Colombia\",\"Ukraine\",\"Singapore\",\"Ecuador\",\"Thailand\",\"Russian Federation\",\"New Zealand\",\"Panama\",\"Ghana\",\"Finland\",\"Lebanon\",\"Guatemala\",\"Togo\",\"Bolivia (Plurinational State of)\",\"United Republic of Tanzania\",\"Pakistan\",\"Czechia\",\"Ireland\",\"Nicaragua\",\"Luxembourg\",\"Cameroon\",\"Saudi Arabia\",\"Democratic Republic of the Congo\",\"Cuba\",\"Poland\",\"C\\u00f4te d'Ivoire\",\"Sri Lanka\",\"Libya\",\"Armenia\",\"Iran (Islamic Republic of)\",\"El Salvador\",\"Dominican Republic\",\"Senegal\",\"Holy See\",\"San Marino\",\"Uruguay\",\"Uganda\",\"Costa Rica\",\"Chile\",\"Kazakhstan\",\"Chad\",\"Honduras\"],\"locations\":[\"USA\",\"GBR\",\"DEU\",\"FRA\",\"CAN\",\"CHN\",\"BEL\",\"CHE\",\"JPN\",\"NGA\",\"NLD\",\"ESP\",\"AUS\",\"BRA\",\"IND\",\"PER\",\"ITA\",\"DNK\",\"SWE\",\"MAR\",\"BGD\",\"NOR\",\"NPL\",\"AUT\",\"KOR\",\"ZAF\",\"PHL\",\"KEN\",\"MEX\",\"ARG\",\"MYS\",\"TUR\",\"ISR\",\"COL\",\"UKR\",\"SGP\",\"ECU\",\"THA\",\"RUS\",\"NZL\",\"PAN\",\"GHA\",\"FIN\",\"LBN\",\"GTM\",\"TGO\",\"BOL\",\"TZA\",\"PAK\",\"CZE\",\"IRL\",\"NIC\",\"LUX\",\"CMR\",\"SAU\",\"COD\",\"CUB\",\"POL\",\"CIV\",\"LKA\",\"LBY\",\"ARM\",\"IRN\",\"SLV\",\"DOM\",\"SEN\",\"VAT\",\"SMR\",\"URY\",\"UGA\",\"CRI\",\"CHL\",\"KAZ\",\"TCD\",\"HND\"],\"name\":\"\",\"type\":\"choropleth\",\"z\":[231,83,76,56,50,43,40,39,35,23,22,22,21,21,21,20,19,18,13,11,11,10,9,8,8,8,8,8,7,7,5,5,5,4,4,4,4,4,4,4,4,3,3,3,3,2,2,2,2,2,2,2,2,2,1,1,1,1,1,1,1,1,1,1,1,1,1,1,1,1,1,1,1,1,1]}],                        {\"coloraxis\":{\"cmax\":250,\"cmin\":0,\"colorbar\":{\"title\":{\"text\":\"Count\"}},\"colorscale\":[[0.0,\"rgb(255,245,240)\"],[0.125,\"rgb(254,224,210)\"],[0.25,\"rgb(252,187,161)\"],[0.375,\"rgb(252,146,114)\"],[0.5,\"rgb(251,106,74)\"],[0.625,\"rgb(239,59,44)\"],[0.75,\"rgb(203,24,29)\"],[0.875,\"rgb(165,15,21)\"],[1.0,\"rgb(103,0,13)\"]]},\"geo\":{\"center\":{},\"domain\":{\"x\":[0.0,1.0],\"y\":[0.0,1.0]},\"projection\":{\"type\":\"natural earth\"}},\"legend\":{\"tracegroupgap\":0},\"template\":{\"data\":{\"bar\":[{\"error_x\":{\"color\":\"#2a3f5f\"},\"error_y\":{\"color\":\"#2a3f5f\"},\"marker\":{\"line\":{\"color\":\"#E5ECF6\",\"width\":0.5},\"pattern\":{\"fillmode\":\"overlay\",\"size\":10,\"solidity\":0.2}},\"type\":\"bar\"}],\"barpolar\":[{\"marker\":{\"line\":{\"color\":\"#E5ECF6\",\"width\":0.5},\"pattern\":{\"fillmode\":\"overlay\",\"size\":10,\"solidity\":0.2}},\"type\":\"barpolar\"}],\"carpet\":[{\"aaxis\":{\"endlinecolor\":\"#2a3f5f\",\"gridcolor\":\"white\",\"linecolor\":\"white\",\"minorgridcolor\":\"white\",\"startlinecolor\":\"#2a3f5f\"},\"baxis\":{\"endlinecolor\":\"#2a3f5f\",\"gridcolor\":\"white\",\"linecolor\":\"white\",\"minorgridcolor\":\"white\",\"startlinecolor\":\"#2a3f5f\"},\"type\":\"carpet\"}],\"choropleth\":[{\"colorbar\":{\"outlinewidth\":0,\"ticks\":\"\"},\"type\":\"choropleth\"}],\"contour\":[{\"colorbar\":{\"outlinewidth\":0,\"ticks\":\"\"},\"colorscale\":[[0.0,\"#0d0887\"],[0.1111111111111111,\"#46039f\"],[0.2222222222222222,\"#7201a8\"],[0.3333333333333333,\"#9c179e\"],[0.4444444444444444,\"#bd3786\"],[0.5555555555555556,\"#d8576b\"],[0.6666666666666666,\"#ed7953\"],[0.7777777777777778,\"#fb9f3a\"],[0.8888888888888888,\"#fdca26\"],[1.0,\"#f0f921\"]],\"type\":\"contour\"}],\"contourcarpet\":[{\"colorbar\":{\"outlinewidth\":0,\"ticks\":\"\"},\"type\":\"contourcarpet\"}],\"heatmap\":[{\"colorbar\":{\"outlinewidth\":0,\"ticks\":\"\"},\"colorscale\":[[0.0,\"#0d0887\"],[0.1111111111111111,\"#46039f\"],[0.2222222222222222,\"#7201a8\"],[0.3333333333333333,\"#9c179e\"],[0.4444444444444444,\"#bd3786\"],[0.5555555555555556,\"#d8576b\"],[0.6666666666666666,\"#ed7953\"],[0.7777777777777778,\"#fb9f3a\"],[0.8888888888888888,\"#fdca26\"],[1.0,\"#f0f921\"]],\"type\":\"heatmap\"}],\"heatmapgl\":[{\"colorbar\":{\"outlinewidth\":0,\"ticks\":\"\"},\"colorscale\":[[0.0,\"#0d0887\"],[0.1111111111111111,\"#46039f\"],[0.2222222222222222,\"#7201a8\"],[0.3333333333333333,\"#9c179e\"],[0.4444444444444444,\"#bd3786\"],[0.5555555555555556,\"#d8576b\"],[0.6666666666666666,\"#ed7953\"],[0.7777777777777778,\"#fb9f3a\"],[0.8888888888888888,\"#fdca26\"],[1.0,\"#f0f921\"]],\"type\":\"heatmapgl\"}],\"histogram\":[{\"marker\":{\"pattern\":{\"fillmode\":\"overlay\",\"size\":10,\"solidity\":0.2}},\"type\":\"histogram\"}],\"histogram2d\":[{\"colorbar\":{\"outlinewidth\":0,\"ticks\":\"\"},\"colorscale\":[[0.0,\"#0d0887\"],[0.1111111111111111,\"#46039f\"],[0.2222222222222222,\"#7201a8\"],[0.3333333333333333,\"#9c179e\"],[0.4444444444444444,\"#bd3786\"],[0.5555555555555556,\"#d8576b\"],[0.6666666666666666,\"#ed7953\"],[0.7777777777777778,\"#fb9f3a\"],[0.8888888888888888,\"#fdca26\"],[1.0,\"#f0f921\"]],\"type\":\"histogram2d\"}],\"histogram2dcontour\":[{\"colorbar\":{\"outlinewidth\":0,\"ticks\":\"\"},\"colorscale\":[[0.0,\"#0d0887\"],[0.1111111111111111,\"#46039f\"],[0.2222222222222222,\"#7201a8\"],[0.3333333333333333,\"#9c179e\"],[0.4444444444444444,\"#bd3786\"],[0.5555555555555556,\"#d8576b\"],[0.6666666666666666,\"#ed7953\"],[0.7777777777777778,\"#fb9f3a\"],[0.8888888888888888,\"#fdca26\"],[1.0,\"#f0f921\"]],\"type\":\"histogram2dcontour\"}],\"mesh3d\":[{\"colorbar\":{\"outlinewidth\":0,\"ticks\":\"\"},\"type\":\"mesh3d\"}],\"parcoords\":[{\"line\":{\"colorbar\":{\"outlinewidth\":0,\"ticks\":\"\"}},\"type\":\"parcoords\"}],\"pie\":[{\"automargin\":true,\"type\":\"pie\"}],\"scatter\":[{\"marker\":{\"colorbar\":{\"outlinewidth\":0,\"ticks\":\"\"}},\"type\":\"scatter\"}],\"scatter3d\":[{\"line\":{\"colorbar\":{\"outlinewidth\":0,\"ticks\":\"\"}},\"marker\":{\"colorbar\":{\"outlinewidth\":0,\"ticks\":\"\"}},\"type\":\"scatter3d\"}],\"scattercarpet\":[{\"marker\":{\"colorbar\":{\"outlinewidth\":0,\"ticks\":\"\"}},\"type\":\"scattercarpet\"}],\"scattergeo\":[{\"marker\":{\"colorbar\":{\"outlinewidth\":0,\"ticks\":\"\"}},\"type\":\"scattergeo\"}],\"scattergl\":[{\"marker\":{\"colorbar\":{\"outlinewidth\":0,\"ticks\":\"\"}},\"type\":\"scattergl\"}],\"scattermapbox\":[{\"marker\":{\"colorbar\":{\"outlinewidth\":0,\"ticks\":\"\"}},\"type\":\"scattermapbox\"}],\"scatterpolar\":[{\"marker\":{\"colorbar\":{\"outlinewidth\":0,\"ticks\":\"\"}},\"type\":\"scatterpolar\"}],\"scatterpolargl\":[{\"marker\":{\"colorbar\":{\"outlinewidth\":0,\"ticks\":\"\"}},\"type\":\"scatterpolargl\"}],\"scatterternary\":[{\"marker\":{\"colorbar\":{\"outlinewidth\":0,\"ticks\":\"\"}},\"type\":\"scatterternary\"}],\"surface\":[{\"colorbar\":{\"outlinewidth\":0,\"ticks\":\"\"},\"colorscale\":[[0.0,\"#0d0887\"],[0.1111111111111111,\"#46039f\"],[0.2222222222222222,\"#7201a8\"],[0.3333333333333333,\"#9c179e\"],[0.4444444444444444,\"#bd3786\"],[0.5555555555555556,\"#d8576b\"],[0.6666666666666666,\"#ed7953\"],[0.7777777777777778,\"#fb9f3a\"],[0.8888888888888888,\"#fdca26\"],[1.0,\"#f0f921\"]],\"type\":\"surface\"}],\"table\":[{\"cells\":{\"fill\":{\"color\":\"#EBF0F8\"},\"line\":{\"color\":\"white\"}},\"header\":{\"fill\":{\"color\":\"#C8D4E3\"},\"line\":{\"color\":\"white\"}},\"type\":\"table\"}]},\"layout\":{\"annotationdefaults\":{\"arrowcolor\":\"#2a3f5f\",\"arrowhead\":0,\"arrowwidth\":1},\"autotypenumbers\":\"strict\",\"coloraxis\":{\"colorbar\":{\"outlinewidth\":0,\"ticks\":\"\"}},\"colorscale\":{\"diverging\":[[0,\"#8e0152\"],[0.1,\"#c51b7d\"],[0.2,\"#de77ae\"],[0.3,\"#f1b6da\"],[0.4,\"#fde0ef\"],[0.5,\"#f7f7f7\"],[0.6,\"#e6f5d0\"],[0.7,\"#b8e186\"],[0.8,\"#7fbc41\"],[0.9,\"#4d9221\"],[1,\"#276419\"]],\"sequential\":[[0.0,\"#0d0887\"],[0.1111111111111111,\"#46039f\"],[0.2222222222222222,\"#7201a8\"],[0.3333333333333333,\"#9c179e\"],[0.4444444444444444,\"#bd3786\"],[0.5555555555555556,\"#d8576b\"],[0.6666666666666666,\"#ed7953\"],[0.7777777777777778,\"#fb9f3a\"],[0.8888888888888888,\"#fdca26\"],[1.0,\"#f0f921\"]],\"sequentialminus\":[[0.0,\"#0d0887\"],[0.1111111111111111,\"#46039f\"],[0.2222222222222222,\"#7201a8\"],[0.3333333333333333,\"#9c179e\"],[0.4444444444444444,\"#bd3786\"],[0.5555555555555556,\"#d8576b\"],[0.6666666666666666,\"#ed7953\"],[0.7777777777777778,\"#fb9f3a\"],[0.8888888888888888,\"#fdca26\"],[1.0,\"#f0f921\"]]},\"colorway\":[\"#636efa\",\"#EF553B\",\"#00cc96\",\"#ab63fa\",\"#FFA15A\",\"#19d3f3\",\"#FF6692\",\"#B6E880\",\"#FF97FF\",\"#FECB52\"],\"font\":{\"color\":\"#2a3f5f\"},\"geo\":{\"bgcolor\":\"white\",\"lakecolor\":\"white\",\"landcolor\":\"#E5ECF6\",\"showlakes\":true,\"showland\":true,\"subunitcolor\":\"white\"},\"hoverlabel\":{\"align\":\"left\"},\"hovermode\":\"closest\",\"mapbox\":{\"style\":\"light\"},\"paper_bgcolor\":\"white\",\"plot_bgcolor\":\"#E5ECF6\",\"polar\":{\"angularaxis\":{\"gridcolor\":\"white\",\"linecolor\":\"white\",\"ticks\":\"\"},\"bgcolor\":\"#E5ECF6\",\"radialaxis\":{\"gridcolor\":\"white\",\"linecolor\":\"white\",\"ticks\":\"\"}},\"scene\":{\"xaxis\":{\"backgroundcolor\":\"#E5ECF6\",\"gridcolor\":\"white\",\"gridwidth\":2,\"linecolor\":\"white\",\"showbackground\":true,\"ticks\":\"\",\"zerolinecolor\":\"white\"},\"yaxis\":{\"backgroundcolor\":\"#E5ECF6\",\"gridcolor\":\"white\",\"gridwidth\":2,\"linecolor\":\"white\",\"showbackground\":true,\"ticks\":\"\",\"zerolinecolor\":\"white\"},\"zaxis\":{\"backgroundcolor\":\"#E5ECF6\",\"gridcolor\":\"white\",\"gridwidth\":2,\"linecolor\":\"white\",\"showbackground\":true,\"ticks\":\"\",\"zerolinecolor\":\"white\"}},\"shapedefaults\":{\"line\":{\"color\":\"#2a3f5f\"}},\"ternary\":{\"aaxis\":{\"gridcolor\":\"white\",\"linecolor\":\"white\",\"ticks\":\"\"},\"baxis\":{\"gridcolor\":\"white\",\"linecolor\":\"white\",\"ticks\":\"\"},\"bgcolor\":\"#E5ECF6\",\"caxis\":{\"gridcolor\":\"white\",\"linecolor\":\"white\",\"ticks\":\"\"}},\"title\":{\"x\":0.05},\"xaxis\":{\"automargin\":true,\"gridcolor\":\"white\",\"linecolor\":\"white\",\"ticks\":\"\",\"title\":{\"standoff\":15},\"zerolinecolor\":\"white\",\"zerolinewidth\":2},\"yaxis\":{\"automargin\":true,\"gridcolor\":\"white\",\"linecolor\":\"white\",\"ticks\":\"\",\"title\":{\"standoff\":15},\"zerolinecolor\":\"white\",\"zerolinewidth\":2}}},\"title\":{\"text\":\"Color-Coded Map of the Country of Origin of NGOs participating at COP2019\"}},                        {\"responsive\": true}                    ).then(function(){\n",
       "                            \n",
       "var gd = document.getElementById('7a4532ac-eb16-4656-89cb-13f4024b7a20');\n",
       "var x = new MutationObserver(function (mutations, observer) {{\n",
       "        var display = window.getComputedStyle(gd).display;\n",
       "        if (!display || display === 'none') {{\n",
       "            console.log([gd, 'removed!']);\n",
       "            Plotly.purge(gd);\n",
       "            observer.disconnect();\n",
       "        }}\n",
       "}});\n",
       "\n",
       "// Listen for the removal of the full notebook cells\n",
       "var notebookContainer = gd.closest('#notebook-container');\n",
       "if (notebookContainer) {{\n",
       "    x.observe(notebookContainer, {childList: true});\n",
       "}}\n",
       "\n",
       "// Listen for the clearing of the current output cell\n",
       "var outputEl = gd.closest('.output');\n",
       "if (outputEl) {{\n",
       "    x.observe(outputEl, {childList: true});\n",
       "}}\n",
       "\n",
       "                        })                };                });            </script>        </div>"
      ]
     },
     "metadata": {},
     "output_type": "display_data"
    }
   ],
   "source": [
    "fig = px.choropleth(NGO_country_stats, \n",
    "                    locations=\"ISO3\",\n",
    "                    color=\"Count\", \n",
    "                    hover_name=\"Country\", # column to add to hover information\n",
    "                    color_continuous_scale=\"reds\",\n",
    "                    title = \"Color-Coded Map of the Country of Origin of NGOs participating at COP2019\",\n",
    "                    projection = \"natural earth\",\n",
    "                    range_color = [0, 250])\n",
    "\n",
    "fig.write_html(\"Color-Coded Map of the Country of Origin of NGOs participating at COP2019.html\")\n",
    "fig.show()"
   ]
  },
  {
   "cell_type": "code",
   "execution_count": 274,
   "metadata": {},
   "outputs": [
    {
     "data": {
      "application/vnd.plotly.v1+json": {
       "config": {
        "plotlyServerURL": "https://plot.ly"
       },
       "data": [
        {
         "coloraxis": "coloraxis",
         "geo": "geo",
         "hovertemplate": "<b>%{hovertext}</b><br><br>ISO3=%{location}<br>Count=%{z}<extra></extra>",
         "hovertext": [
          "United States of America",
          "United Kingdom of Great Britain and Northern Ireland",
          "Germany",
          "France",
          "Canada",
          "China",
          "Belgium",
          "Switzerland",
          "Japan",
          "Nigeria",
          "Netherlands",
          "Spain",
          "Australia",
          "Brazil",
          "India",
          "Peru",
          "Italy",
          "Denmark",
          "Sweden",
          "Morocco",
          "Bangladesh",
          "Norway",
          "Nepal",
          "Austria",
          "Republic of Korea",
          "South Africa",
          "Philippines",
          "Kenya",
          "Mexico",
          "Argentina",
          "Malaysia",
          "Turkey",
          "Israel",
          "Colombia",
          "Ukraine",
          "Singapore",
          "Ecuador",
          "Thailand",
          "Russian Federation",
          "New Zealand",
          "Panama",
          "Ghana",
          "Finland",
          "Lebanon",
          "Guatemala",
          "Togo",
          "Bolivia (Plurinational State of)",
          "United Republic of Tanzania",
          "Pakistan",
          "Czechia",
          "Ireland",
          "Nicaragua",
          "Luxembourg",
          "Cameroon",
          "Saudi Arabia",
          "Democratic Republic of the Congo",
          "Cuba",
          "Poland",
          "Côte d'Ivoire",
          "Sri Lanka",
          "Libya",
          "Armenia",
          "Iran (Islamic Republic of)",
          "El Salvador",
          "Dominican Republic",
          "Senegal",
          "Holy See",
          "San Marino",
          "Uruguay",
          "Uganda",
          "Costa Rica",
          "Chile",
          "Kazakhstan",
          "Chad",
          "Honduras"
         ],
         "locations": [
          "USA",
          "GBR",
          "DEU",
          "FRA",
          "CAN",
          "CHN",
          "BEL",
          "CHE",
          "JPN",
          "NGA",
          "NLD",
          "ESP",
          "AUS",
          "BRA",
          "IND",
          "PER",
          "ITA",
          "DNK",
          "SWE",
          "MAR",
          "BGD",
          "NOR",
          "NPL",
          "AUT",
          "KOR",
          "ZAF",
          "PHL",
          "KEN",
          "MEX",
          "ARG",
          "MYS",
          "TUR",
          "ISR",
          "COL",
          "UKR",
          "SGP",
          "ECU",
          "THA",
          "RUS",
          "NZL",
          "PAN",
          "GHA",
          "FIN",
          "LBN",
          "GTM",
          "TGO",
          "BOL",
          "TZA",
          "PAK",
          "CZE",
          "IRL",
          "NIC",
          "LUX",
          "CMR",
          "SAU",
          "COD",
          "CUB",
          "POL",
          "CIV",
          "LKA",
          "LBY",
          "ARM",
          "IRN",
          "SLV",
          "DOM",
          "SEN",
          "VAT",
          "SMR",
          "URY",
          "UGA",
          "CRI",
          "CHL",
          "KAZ",
          "TCD",
          "HND"
         ],
         "name": "",
         "type": "choropleth",
         "z": [
          231,
          83,
          76,
          56,
          50,
          43,
          40,
          39,
          35,
          23,
          22,
          22,
          21,
          21,
          21,
          20,
          19,
          18,
          13,
          11,
          11,
          10,
          9,
          8,
          8,
          8,
          8,
          8,
          7,
          7,
          5,
          5,
          5,
          4,
          4,
          4,
          4,
          4,
          4,
          4,
          4,
          3,
          3,
          3,
          3,
          2,
          2,
          2,
          2,
          2,
          2,
          2,
          2,
          2,
          1,
          1,
          1,
          1,
          1,
          1,
          1,
          1,
          1,
          1,
          1,
          1,
          1,
          1,
          1,
          1,
          1,
          1,
          1,
          1,
          1
         ]
        }
       ],
       "layout": {
        "coloraxis": {
         "cmax": 250,
         "cmin": 0,
         "colorbar": {
          "title": {
           "text": "Count"
          }
         },
         "colorscale": [
          [
           0,
           "rgb(255,245,240)"
          ],
          [
           0.125,
           "rgb(254,224,210)"
          ],
          [
           0.25,
           "rgb(252,187,161)"
          ],
          [
           0.375,
           "rgb(252,146,114)"
          ],
          [
           0.5,
           "rgb(251,106,74)"
          ],
          [
           0.625,
           "rgb(239,59,44)"
          ],
          [
           0.75,
           "rgb(203,24,29)"
          ],
          [
           0.875,
           "rgb(165,15,21)"
          ],
          [
           1,
           "rgb(103,0,13)"
          ]
         ]
        },
        "geo": {
         "center": {},
         "domain": {
          "x": [
           0,
           1
          ],
          "y": [
           0,
           1
          ]
         },
         "projection": {
          "type": "robinson"
         }
        },
        "legend": {
         "tracegroupgap": 0
        },
        "template": {
         "data": {
          "bar": [
           {
            "error_x": {
             "color": "#2a3f5f"
            },
            "error_y": {
             "color": "#2a3f5f"
            },
            "marker": {
             "line": {
              "color": "#E5ECF6",
              "width": 0.5
             },
             "pattern": {
              "fillmode": "overlay",
              "size": 10,
              "solidity": 0.2
             }
            },
            "type": "bar"
           }
          ],
          "barpolar": [
           {
            "marker": {
             "line": {
              "color": "#E5ECF6",
              "width": 0.5
             },
             "pattern": {
              "fillmode": "overlay",
              "size": 10,
              "solidity": 0.2
             }
            },
            "type": "barpolar"
           }
          ],
          "carpet": [
           {
            "aaxis": {
             "endlinecolor": "#2a3f5f",
             "gridcolor": "white",
             "linecolor": "white",
             "minorgridcolor": "white",
             "startlinecolor": "#2a3f5f"
            },
            "baxis": {
             "endlinecolor": "#2a3f5f",
             "gridcolor": "white",
             "linecolor": "white",
             "minorgridcolor": "white",
             "startlinecolor": "#2a3f5f"
            },
            "type": "carpet"
           }
          ],
          "choropleth": [
           {
            "colorbar": {
             "outlinewidth": 0,
             "ticks": ""
            },
            "type": "choropleth"
           }
          ],
          "contour": [
           {
            "colorbar": {
             "outlinewidth": 0,
             "ticks": ""
            },
            "colorscale": [
             [
              0,
              "#0d0887"
             ],
             [
              0.1111111111111111,
              "#46039f"
             ],
             [
              0.2222222222222222,
              "#7201a8"
             ],
             [
              0.3333333333333333,
              "#9c179e"
             ],
             [
              0.4444444444444444,
              "#bd3786"
             ],
             [
              0.5555555555555556,
              "#d8576b"
             ],
             [
              0.6666666666666666,
              "#ed7953"
             ],
             [
              0.7777777777777778,
              "#fb9f3a"
             ],
             [
              0.8888888888888888,
              "#fdca26"
             ],
             [
              1,
              "#f0f921"
             ]
            ],
            "type": "contour"
           }
          ],
          "contourcarpet": [
           {
            "colorbar": {
             "outlinewidth": 0,
             "ticks": ""
            },
            "type": "contourcarpet"
           }
          ],
          "heatmap": [
           {
            "colorbar": {
             "outlinewidth": 0,
             "ticks": ""
            },
            "colorscale": [
             [
              0,
              "#0d0887"
             ],
             [
              0.1111111111111111,
              "#46039f"
             ],
             [
              0.2222222222222222,
              "#7201a8"
             ],
             [
              0.3333333333333333,
              "#9c179e"
             ],
             [
              0.4444444444444444,
              "#bd3786"
             ],
             [
              0.5555555555555556,
              "#d8576b"
             ],
             [
              0.6666666666666666,
              "#ed7953"
             ],
             [
              0.7777777777777778,
              "#fb9f3a"
             ],
             [
              0.8888888888888888,
              "#fdca26"
             ],
             [
              1,
              "#f0f921"
             ]
            ],
            "type": "heatmap"
           }
          ],
          "heatmapgl": [
           {
            "colorbar": {
             "outlinewidth": 0,
             "ticks": ""
            },
            "colorscale": [
             [
              0,
              "#0d0887"
             ],
             [
              0.1111111111111111,
              "#46039f"
             ],
             [
              0.2222222222222222,
              "#7201a8"
             ],
             [
              0.3333333333333333,
              "#9c179e"
             ],
             [
              0.4444444444444444,
              "#bd3786"
             ],
             [
              0.5555555555555556,
              "#d8576b"
             ],
             [
              0.6666666666666666,
              "#ed7953"
             ],
             [
              0.7777777777777778,
              "#fb9f3a"
             ],
             [
              0.8888888888888888,
              "#fdca26"
             ],
             [
              1,
              "#f0f921"
             ]
            ],
            "type": "heatmapgl"
           }
          ],
          "histogram": [
           {
            "marker": {
             "pattern": {
              "fillmode": "overlay",
              "size": 10,
              "solidity": 0.2
             }
            },
            "type": "histogram"
           }
          ],
          "histogram2d": [
           {
            "colorbar": {
             "outlinewidth": 0,
             "ticks": ""
            },
            "colorscale": [
             [
              0,
              "#0d0887"
             ],
             [
              0.1111111111111111,
              "#46039f"
             ],
             [
              0.2222222222222222,
              "#7201a8"
             ],
             [
              0.3333333333333333,
              "#9c179e"
             ],
             [
              0.4444444444444444,
              "#bd3786"
             ],
             [
              0.5555555555555556,
              "#d8576b"
             ],
             [
              0.6666666666666666,
              "#ed7953"
             ],
             [
              0.7777777777777778,
              "#fb9f3a"
             ],
             [
              0.8888888888888888,
              "#fdca26"
             ],
             [
              1,
              "#f0f921"
             ]
            ],
            "type": "histogram2d"
           }
          ],
          "histogram2dcontour": [
           {
            "colorbar": {
             "outlinewidth": 0,
             "ticks": ""
            },
            "colorscale": [
             [
              0,
              "#0d0887"
             ],
             [
              0.1111111111111111,
              "#46039f"
             ],
             [
              0.2222222222222222,
              "#7201a8"
             ],
             [
              0.3333333333333333,
              "#9c179e"
             ],
             [
              0.4444444444444444,
              "#bd3786"
             ],
             [
              0.5555555555555556,
              "#d8576b"
             ],
             [
              0.6666666666666666,
              "#ed7953"
             ],
             [
              0.7777777777777778,
              "#fb9f3a"
             ],
             [
              0.8888888888888888,
              "#fdca26"
             ],
             [
              1,
              "#f0f921"
             ]
            ],
            "type": "histogram2dcontour"
           }
          ],
          "mesh3d": [
           {
            "colorbar": {
             "outlinewidth": 0,
             "ticks": ""
            },
            "type": "mesh3d"
           }
          ],
          "parcoords": [
           {
            "line": {
             "colorbar": {
              "outlinewidth": 0,
              "ticks": ""
             }
            },
            "type": "parcoords"
           }
          ],
          "pie": [
           {
            "automargin": true,
            "type": "pie"
           }
          ],
          "scatter": [
           {
            "marker": {
             "colorbar": {
              "outlinewidth": 0,
              "ticks": ""
             }
            },
            "type": "scatter"
           }
          ],
          "scatter3d": [
           {
            "line": {
             "colorbar": {
              "outlinewidth": 0,
              "ticks": ""
             }
            },
            "marker": {
             "colorbar": {
              "outlinewidth": 0,
              "ticks": ""
             }
            },
            "type": "scatter3d"
           }
          ],
          "scattercarpet": [
           {
            "marker": {
             "colorbar": {
              "outlinewidth": 0,
              "ticks": ""
             }
            },
            "type": "scattercarpet"
           }
          ],
          "scattergeo": [
           {
            "marker": {
             "colorbar": {
              "outlinewidth": 0,
              "ticks": ""
             }
            },
            "type": "scattergeo"
           }
          ],
          "scattergl": [
           {
            "marker": {
             "colorbar": {
              "outlinewidth": 0,
              "ticks": ""
             }
            },
            "type": "scattergl"
           }
          ],
          "scattermapbox": [
           {
            "marker": {
             "colorbar": {
              "outlinewidth": 0,
              "ticks": ""
             }
            },
            "type": "scattermapbox"
           }
          ],
          "scatterpolar": [
           {
            "marker": {
             "colorbar": {
              "outlinewidth": 0,
              "ticks": ""
             }
            },
            "type": "scatterpolar"
           }
          ],
          "scatterpolargl": [
           {
            "marker": {
             "colorbar": {
              "outlinewidth": 0,
              "ticks": ""
             }
            },
            "type": "scatterpolargl"
           }
          ],
          "scatterternary": [
           {
            "marker": {
             "colorbar": {
              "outlinewidth": 0,
              "ticks": ""
             }
            },
            "type": "scatterternary"
           }
          ],
          "surface": [
           {
            "colorbar": {
             "outlinewidth": 0,
             "ticks": ""
            },
            "colorscale": [
             [
              0,
              "#0d0887"
             ],
             [
              0.1111111111111111,
              "#46039f"
             ],
             [
              0.2222222222222222,
              "#7201a8"
             ],
             [
              0.3333333333333333,
              "#9c179e"
             ],
             [
              0.4444444444444444,
              "#bd3786"
             ],
             [
              0.5555555555555556,
              "#d8576b"
             ],
             [
              0.6666666666666666,
              "#ed7953"
             ],
             [
              0.7777777777777778,
              "#fb9f3a"
             ],
             [
              0.8888888888888888,
              "#fdca26"
             ],
             [
              1,
              "#f0f921"
             ]
            ],
            "type": "surface"
           }
          ],
          "table": [
           {
            "cells": {
             "fill": {
              "color": "#EBF0F8"
             },
             "line": {
              "color": "white"
             }
            },
            "header": {
             "fill": {
              "color": "#C8D4E3"
             },
             "line": {
              "color": "white"
             }
            },
            "type": "table"
           }
          ]
         },
         "layout": {
          "annotationdefaults": {
           "arrowcolor": "#2a3f5f",
           "arrowhead": 0,
           "arrowwidth": 1
          },
          "autotypenumbers": "strict",
          "coloraxis": {
           "colorbar": {
            "outlinewidth": 0,
            "ticks": ""
           }
          },
          "colorscale": {
           "diverging": [
            [
             0,
             "#8e0152"
            ],
            [
             0.1,
             "#c51b7d"
            ],
            [
             0.2,
             "#de77ae"
            ],
            [
             0.3,
             "#f1b6da"
            ],
            [
             0.4,
             "#fde0ef"
            ],
            [
             0.5,
             "#f7f7f7"
            ],
            [
             0.6,
             "#e6f5d0"
            ],
            [
             0.7,
             "#b8e186"
            ],
            [
             0.8,
             "#7fbc41"
            ],
            [
             0.9,
             "#4d9221"
            ],
            [
             1,
             "#276419"
            ]
           ],
           "sequential": [
            [
             0,
             "#0d0887"
            ],
            [
             0.1111111111111111,
             "#46039f"
            ],
            [
             0.2222222222222222,
             "#7201a8"
            ],
            [
             0.3333333333333333,
             "#9c179e"
            ],
            [
             0.4444444444444444,
             "#bd3786"
            ],
            [
             0.5555555555555556,
             "#d8576b"
            ],
            [
             0.6666666666666666,
             "#ed7953"
            ],
            [
             0.7777777777777778,
             "#fb9f3a"
            ],
            [
             0.8888888888888888,
             "#fdca26"
            ],
            [
             1,
             "#f0f921"
            ]
           ],
           "sequentialminus": [
            [
             0,
             "#0d0887"
            ],
            [
             0.1111111111111111,
             "#46039f"
            ],
            [
             0.2222222222222222,
             "#7201a8"
            ],
            [
             0.3333333333333333,
             "#9c179e"
            ],
            [
             0.4444444444444444,
             "#bd3786"
            ],
            [
             0.5555555555555556,
             "#d8576b"
            ],
            [
             0.6666666666666666,
             "#ed7953"
            ],
            [
             0.7777777777777778,
             "#fb9f3a"
            ],
            [
             0.8888888888888888,
             "#fdca26"
            ],
            [
             1,
             "#f0f921"
            ]
           ]
          },
          "colorway": [
           "#636efa",
           "#EF553B",
           "#00cc96",
           "#ab63fa",
           "#FFA15A",
           "#19d3f3",
           "#FF6692",
           "#B6E880",
           "#FF97FF",
           "#FECB52"
          ],
          "font": {
           "color": "#2a3f5f"
          },
          "geo": {
           "bgcolor": "white",
           "lakecolor": "white",
           "landcolor": "#E5ECF6",
           "showlakes": true,
           "showland": true,
           "subunitcolor": "white"
          },
          "hoverlabel": {
           "align": "left"
          },
          "hovermode": "closest",
          "mapbox": {
           "style": "light"
          },
          "paper_bgcolor": "white",
          "plot_bgcolor": "#E5ECF6",
          "polar": {
           "angularaxis": {
            "gridcolor": "white",
            "linecolor": "white",
            "ticks": ""
           },
           "bgcolor": "#E5ECF6",
           "radialaxis": {
            "gridcolor": "white",
            "linecolor": "white",
            "ticks": ""
           }
          },
          "scene": {
           "xaxis": {
            "backgroundcolor": "#E5ECF6",
            "gridcolor": "white",
            "gridwidth": 2,
            "linecolor": "white",
            "showbackground": true,
            "ticks": "",
            "zerolinecolor": "white"
           },
           "yaxis": {
            "backgroundcolor": "#E5ECF6",
            "gridcolor": "white",
            "gridwidth": 2,
            "linecolor": "white",
            "showbackground": true,
            "ticks": "",
            "zerolinecolor": "white"
           },
           "zaxis": {
            "backgroundcolor": "#E5ECF6",
            "gridcolor": "white",
            "gridwidth": 2,
            "linecolor": "white",
            "showbackground": true,
            "ticks": "",
            "zerolinecolor": "white"
           }
          },
          "shapedefaults": {
           "line": {
            "color": "#2a3f5f"
           }
          },
          "ternary": {
           "aaxis": {
            "gridcolor": "white",
            "linecolor": "white",
            "ticks": ""
           },
           "baxis": {
            "gridcolor": "white",
            "linecolor": "white",
            "ticks": ""
           },
           "bgcolor": "#E5ECF6",
           "caxis": {
            "gridcolor": "white",
            "linecolor": "white",
            "ticks": ""
           }
          },
          "title": {
           "x": 0.05
          },
          "xaxis": {
           "automargin": true,
           "gridcolor": "white",
           "linecolor": "white",
           "ticks": "",
           "title": {
            "standoff": 15
           },
           "zerolinecolor": "white",
           "zerolinewidth": 2
          },
          "yaxis": {
           "automargin": true,
           "gridcolor": "white",
           "linecolor": "white",
           "ticks": "",
           "title": {
            "standoff": 15
           },
           "zerolinecolor": "white",
           "zerolinewidth": 2
          }
         }
        },
        "title": {
         "text": "Color-Coded Map of the Country of Origin of NGOs participating at COP2019"
        }
       }
      },
      "text/html": [
       "<div>                            <div id=\"b60f455b-c650-4533-a8fe-fe923f8fa188\" class=\"plotly-graph-div\" style=\"height:525px; width:100%;\"></div>            <script type=\"text/javascript\">                require([\"plotly\"], function(Plotly) {                    window.PLOTLYENV=window.PLOTLYENV || {};                                    if (document.getElementById(\"b60f455b-c650-4533-a8fe-fe923f8fa188\")) {                    Plotly.newPlot(                        \"b60f455b-c650-4533-a8fe-fe923f8fa188\",                        [{\"coloraxis\":\"coloraxis\",\"geo\":\"geo\",\"hovertemplate\":\"<b>%{hovertext}</b><br><br>ISO3=%{location}<br>Count=%{z}<extra></extra>\",\"hovertext\":[\"United States of America\",\"United Kingdom of Great Britain and Northern Ireland\",\"Germany\",\"France\",\"Canada\",\"China\",\"Belgium\",\"Switzerland\",\"Japan\",\"Nigeria\",\"Netherlands\",\"Spain\",\"Australia\",\"Brazil\",\"India\",\"Peru\",\"Italy\",\"Denmark\",\"Sweden\",\"Morocco\",\"Bangladesh\",\"Norway\",\"Nepal\",\"Austria\",\"Republic of Korea\",\"South Africa\",\"Philippines\",\"Kenya\",\"Mexico\",\"Argentina\",\"Malaysia\",\"Turkey\",\"Israel\",\"Colombia\",\"Ukraine\",\"Singapore\",\"Ecuador\",\"Thailand\",\"Russian Federation\",\"New Zealand\",\"Panama\",\"Ghana\",\"Finland\",\"Lebanon\",\"Guatemala\",\"Togo\",\"Bolivia (Plurinational State of)\",\"United Republic of Tanzania\",\"Pakistan\",\"Czechia\",\"Ireland\",\"Nicaragua\",\"Luxembourg\",\"Cameroon\",\"Saudi Arabia\",\"Democratic Republic of the Congo\",\"Cuba\",\"Poland\",\"C\\u00f4te d'Ivoire\",\"Sri Lanka\",\"Libya\",\"Armenia\",\"Iran (Islamic Republic of)\",\"El Salvador\",\"Dominican Republic\",\"Senegal\",\"Holy See\",\"San Marino\",\"Uruguay\",\"Uganda\",\"Costa Rica\",\"Chile\",\"Kazakhstan\",\"Chad\",\"Honduras\"],\"locations\":[\"USA\",\"GBR\",\"DEU\",\"FRA\",\"CAN\",\"CHN\",\"BEL\",\"CHE\",\"JPN\",\"NGA\",\"NLD\",\"ESP\",\"AUS\",\"BRA\",\"IND\",\"PER\",\"ITA\",\"DNK\",\"SWE\",\"MAR\",\"BGD\",\"NOR\",\"NPL\",\"AUT\",\"KOR\",\"ZAF\",\"PHL\",\"KEN\",\"MEX\",\"ARG\",\"MYS\",\"TUR\",\"ISR\",\"COL\",\"UKR\",\"SGP\",\"ECU\",\"THA\",\"RUS\",\"NZL\",\"PAN\",\"GHA\",\"FIN\",\"LBN\",\"GTM\",\"TGO\",\"BOL\",\"TZA\",\"PAK\",\"CZE\",\"IRL\",\"NIC\",\"LUX\",\"CMR\",\"SAU\",\"COD\",\"CUB\",\"POL\",\"CIV\",\"LKA\",\"LBY\",\"ARM\",\"IRN\",\"SLV\",\"DOM\",\"SEN\",\"VAT\",\"SMR\",\"URY\",\"UGA\",\"CRI\",\"CHL\",\"KAZ\",\"TCD\",\"HND\"],\"name\":\"\",\"type\":\"choropleth\",\"z\":[231,83,76,56,50,43,40,39,35,23,22,22,21,21,21,20,19,18,13,11,11,10,9,8,8,8,8,8,7,7,5,5,5,4,4,4,4,4,4,4,4,3,3,3,3,2,2,2,2,2,2,2,2,2,1,1,1,1,1,1,1,1,1,1,1,1,1,1,1,1,1,1,1,1,1]}],                        {\"coloraxis\":{\"cmax\":250,\"cmin\":0,\"colorbar\":{\"title\":{\"text\":\"Count\"}},\"colorscale\":[[0.0,\"rgb(255,245,240)\"],[0.125,\"rgb(254,224,210)\"],[0.25,\"rgb(252,187,161)\"],[0.375,\"rgb(252,146,114)\"],[0.5,\"rgb(251,106,74)\"],[0.625,\"rgb(239,59,44)\"],[0.75,\"rgb(203,24,29)\"],[0.875,\"rgb(165,15,21)\"],[1.0,\"rgb(103,0,13)\"]]},\"geo\":{\"center\":{},\"domain\":{\"x\":[0.0,1.0],\"y\":[0.0,1.0]},\"projection\":{\"type\":\"robinson\"}},\"legend\":{\"tracegroupgap\":0},\"template\":{\"data\":{\"bar\":[{\"error_x\":{\"color\":\"#2a3f5f\"},\"error_y\":{\"color\":\"#2a3f5f\"},\"marker\":{\"line\":{\"color\":\"#E5ECF6\",\"width\":0.5},\"pattern\":{\"fillmode\":\"overlay\",\"size\":10,\"solidity\":0.2}},\"type\":\"bar\"}],\"barpolar\":[{\"marker\":{\"line\":{\"color\":\"#E5ECF6\",\"width\":0.5},\"pattern\":{\"fillmode\":\"overlay\",\"size\":10,\"solidity\":0.2}},\"type\":\"barpolar\"}],\"carpet\":[{\"aaxis\":{\"endlinecolor\":\"#2a3f5f\",\"gridcolor\":\"white\",\"linecolor\":\"white\",\"minorgridcolor\":\"white\",\"startlinecolor\":\"#2a3f5f\"},\"baxis\":{\"endlinecolor\":\"#2a3f5f\",\"gridcolor\":\"white\",\"linecolor\":\"white\",\"minorgridcolor\":\"white\",\"startlinecolor\":\"#2a3f5f\"},\"type\":\"carpet\"}],\"choropleth\":[{\"colorbar\":{\"outlinewidth\":0,\"ticks\":\"\"},\"type\":\"choropleth\"}],\"contour\":[{\"colorbar\":{\"outlinewidth\":0,\"ticks\":\"\"},\"colorscale\":[[0.0,\"#0d0887\"],[0.1111111111111111,\"#46039f\"],[0.2222222222222222,\"#7201a8\"],[0.3333333333333333,\"#9c179e\"],[0.4444444444444444,\"#bd3786\"],[0.5555555555555556,\"#d8576b\"],[0.6666666666666666,\"#ed7953\"],[0.7777777777777778,\"#fb9f3a\"],[0.8888888888888888,\"#fdca26\"],[1.0,\"#f0f921\"]],\"type\":\"contour\"}],\"contourcarpet\":[{\"colorbar\":{\"outlinewidth\":0,\"ticks\":\"\"},\"type\":\"contourcarpet\"}],\"heatmap\":[{\"colorbar\":{\"outlinewidth\":0,\"ticks\":\"\"},\"colorscale\":[[0.0,\"#0d0887\"],[0.1111111111111111,\"#46039f\"],[0.2222222222222222,\"#7201a8\"],[0.3333333333333333,\"#9c179e\"],[0.4444444444444444,\"#bd3786\"],[0.5555555555555556,\"#d8576b\"],[0.6666666666666666,\"#ed7953\"],[0.7777777777777778,\"#fb9f3a\"],[0.8888888888888888,\"#fdca26\"],[1.0,\"#f0f921\"]],\"type\":\"heatmap\"}],\"heatmapgl\":[{\"colorbar\":{\"outlinewidth\":0,\"ticks\":\"\"},\"colorscale\":[[0.0,\"#0d0887\"],[0.1111111111111111,\"#46039f\"],[0.2222222222222222,\"#7201a8\"],[0.3333333333333333,\"#9c179e\"],[0.4444444444444444,\"#bd3786\"],[0.5555555555555556,\"#d8576b\"],[0.6666666666666666,\"#ed7953\"],[0.7777777777777778,\"#fb9f3a\"],[0.8888888888888888,\"#fdca26\"],[1.0,\"#f0f921\"]],\"type\":\"heatmapgl\"}],\"histogram\":[{\"marker\":{\"pattern\":{\"fillmode\":\"overlay\",\"size\":10,\"solidity\":0.2}},\"type\":\"histogram\"}],\"histogram2d\":[{\"colorbar\":{\"outlinewidth\":0,\"ticks\":\"\"},\"colorscale\":[[0.0,\"#0d0887\"],[0.1111111111111111,\"#46039f\"],[0.2222222222222222,\"#7201a8\"],[0.3333333333333333,\"#9c179e\"],[0.4444444444444444,\"#bd3786\"],[0.5555555555555556,\"#d8576b\"],[0.6666666666666666,\"#ed7953\"],[0.7777777777777778,\"#fb9f3a\"],[0.8888888888888888,\"#fdca26\"],[1.0,\"#f0f921\"]],\"type\":\"histogram2d\"}],\"histogram2dcontour\":[{\"colorbar\":{\"outlinewidth\":0,\"ticks\":\"\"},\"colorscale\":[[0.0,\"#0d0887\"],[0.1111111111111111,\"#46039f\"],[0.2222222222222222,\"#7201a8\"],[0.3333333333333333,\"#9c179e\"],[0.4444444444444444,\"#bd3786\"],[0.5555555555555556,\"#d8576b\"],[0.6666666666666666,\"#ed7953\"],[0.7777777777777778,\"#fb9f3a\"],[0.8888888888888888,\"#fdca26\"],[1.0,\"#f0f921\"]],\"type\":\"histogram2dcontour\"}],\"mesh3d\":[{\"colorbar\":{\"outlinewidth\":0,\"ticks\":\"\"},\"type\":\"mesh3d\"}],\"parcoords\":[{\"line\":{\"colorbar\":{\"outlinewidth\":0,\"ticks\":\"\"}},\"type\":\"parcoords\"}],\"pie\":[{\"automargin\":true,\"type\":\"pie\"}],\"scatter\":[{\"marker\":{\"colorbar\":{\"outlinewidth\":0,\"ticks\":\"\"}},\"type\":\"scatter\"}],\"scatter3d\":[{\"line\":{\"colorbar\":{\"outlinewidth\":0,\"ticks\":\"\"}},\"marker\":{\"colorbar\":{\"outlinewidth\":0,\"ticks\":\"\"}},\"type\":\"scatter3d\"}],\"scattercarpet\":[{\"marker\":{\"colorbar\":{\"outlinewidth\":0,\"ticks\":\"\"}},\"type\":\"scattercarpet\"}],\"scattergeo\":[{\"marker\":{\"colorbar\":{\"outlinewidth\":0,\"ticks\":\"\"}},\"type\":\"scattergeo\"}],\"scattergl\":[{\"marker\":{\"colorbar\":{\"outlinewidth\":0,\"ticks\":\"\"}},\"type\":\"scattergl\"}],\"scattermapbox\":[{\"marker\":{\"colorbar\":{\"outlinewidth\":0,\"ticks\":\"\"}},\"type\":\"scattermapbox\"}],\"scatterpolar\":[{\"marker\":{\"colorbar\":{\"outlinewidth\":0,\"ticks\":\"\"}},\"type\":\"scatterpolar\"}],\"scatterpolargl\":[{\"marker\":{\"colorbar\":{\"outlinewidth\":0,\"ticks\":\"\"}},\"type\":\"scatterpolargl\"}],\"scatterternary\":[{\"marker\":{\"colorbar\":{\"outlinewidth\":0,\"ticks\":\"\"}},\"type\":\"scatterternary\"}],\"surface\":[{\"colorbar\":{\"outlinewidth\":0,\"ticks\":\"\"},\"colorscale\":[[0.0,\"#0d0887\"],[0.1111111111111111,\"#46039f\"],[0.2222222222222222,\"#7201a8\"],[0.3333333333333333,\"#9c179e\"],[0.4444444444444444,\"#bd3786\"],[0.5555555555555556,\"#d8576b\"],[0.6666666666666666,\"#ed7953\"],[0.7777777777777778,\"#fb9f3a\"],[0.8888888888888888,\"#fdca26\"],[1.0,\"#f0f921\"]],\"type\":\"surface\"}],\"table\":[{\"cells\":{\"fill\":{\"color\":\"#EBF0F8\"},\"line\":{\"color\":\"white\"}},\"header\":{\"fill\":{\"color\":\"#C8D4E3\"},\"line\":{\"color\":\"white\"}},\"type\":\"table\"}]},\"layout\":{\"annotationdefaults\":{\"arrowcolor\":\"#2a3f5f\",\"arrowhead\":0,\"arrowwidth\":1},\"autotypenumbers\":\"strict\",\"coloraxis\":{\"colorbar\":{\"outlinewidth\":0,\"ticks\":\"\"}},\"colorscale\":{\"diverging\":[[0,\"#8e0152\"],[0.1,\"#c51b7d\"],[0.2,\"#de77ae\"],[0.3,\"#f1b6da\"],[0.4,\"#fde0ef\"],[0.5,\"#f7f7f7\"],[0.6,\"#e6f5d0\"],[0.7,\"#b8e186\"],[0.8,\"#7fbc41\"],[0.9,\"#4d9221\"],[1,\"#276419\"]],\"sequential\":[[0.0,\"#0d0887\"],[0.1111111111111111,\"#46039f\"],[0.2222222222222222,\"#7201a8\"],[0.3333333333333333,\"#9c179e\"],[0.4444444444444444,\"#bd3786\"],[0.5555555555555556,\"#d8576b\"],[0.6666666666666666,\"#ed7953\"],[0.7777777777777778,\"#fb9f3a\"],[0.8888888888888888,\"#fdca26\"],[1.0,\"#f0f921\"]],\"sequentialminus\":[[0.0,\"#0d0887\"],[0.1111111111111111,\"#46039f\"],[0.2222222222222222,\"#7201a8\"],[0.3333333333333333,\"#9c179e\"],[0.4444444444444444,\"#bd3786\"],[0.5555555555555556,\"#d8576b\"],[0.6666666666666666,\"#ed7953\"],[0.7777777777777778,\"#fb9f3a\"],[0.8888888888888888,\"#fdca26\"],[1.0,\"#f0f921\"]]},\"colorway\":[\"#636efa\",\"#EF553B\",\"#00cc96\",\"#ab63fa\",\"#FFA15A\",\"#19d3f3\",\"#FF6692\",\"#B6E880\",\"#FF97FF\",\"#FECB52\"],\"font\":{\"color\":\"#2a3f5f\"},\"geo\":{\"bgcolor\":\"white\",\"lakecolor\":\"white\",\"landcolor\":\"#E5ECF6\",\"showlakes\":true,\"showland\":true,\"subunitcolor\":\"white\"},\"hoverlabel\":{\"align\":\"left\"},\"hovermode\":\"closest\",\"mapbox\":{\"style\":\"light\"},\"paper_bgcolor\":\"white\",\"plot_bgcolor\":\"#E5ECF6\",\"polar\":{\"angularaxis\":{\"gridcolor\":\"white\",\"linecolor\":\"white\",\"ticks\":\"\"},\"bgcolor\":\"#E5ECF6\",\"radialaxis\":{\"gridcolor\":\"white\",\"linecolor\":\"white\",\"ticks\":\"\"}},\"scene\":{\"xaxis\":{\"backgroundcolor\":\"#E5ECF6\",\"gridcolor\":\"white\",\"gridwidth\":2,\"linecolor\":\"white\",\"showbackground\":true,\"ticks\":\"\",\"zerolinecolor\":\"white\"},\"yaxis\":{\"backgroundcolor\":\"#E5ECF6\",\"gridcolor\":\"white\",\"gridwidth\":2,\"linecolor\":\"white\",\"showbackground\":true,\"ticks\":\"\",\"zerolinecolor\":\"white\"},\"zaxis\":{\"backgroundcolor\":\"#E5ECF6\",\"gridcolor\":\"white\",\"gridwidth\":2,\"linecolor\":\"white\",\"showbackground\":true,\"ticks\":\"\",\"zerolinecolor\":\"white\"}},\"shapedefaults\":{\"line\":{\"color\":\"#2a3f5f\"}},\"ternary\":{\"aaxis\":{\"gridcolor\":\"white\",\"linecolor\":\"white\",\"ticks\":\"\"},\"baxis\":{\"gridcolor\":\"white\",\"linecolor\":\"white\",\"ticks\":\"\"},\"bgcolor\":\"#E5ECF6\",\"caxis\":{\"gridcolor\":\"white\",\"linecolor\":\"white\",\"ticks\":\"\"}},\"title\":{\"x\":0.05},\"xaxis\":{\"automargin\":true,\"gridcolor\":\"white\",\"linecolor\":\"white\",\"ticks\":\"\",\"title\":{\"standoff\":15},\"zerolinecolor\":\"white\",\"zerolinewidth\":2},\"yaxis\":{\"automargin\":true,\"gridcolor\":\"white\",\"linecolor\":\"white\",\"ticks\":\"\",\"title\":{\"standoff\":15},\"zerolinecolor\":\"white\",\"zerolinewidth\":2}}},\"title\":{\"text\":\"Color-Coded Map of the Country of Origin of NGOs participating at COP2019\"}},                        {\"responsive\": true}                    ).then(function(){\n",
       "                            \n",
       "var gd = document.getElementById('b60f455b-c650-4533-a8fe-fe923f8fa188');\n",
       "var x = new MutationObserver(function (mutations, observer) {{\n",
       "        var display = window.getComputedStyle(gd).display;\n",
       "        if (!display || display === 'none') {{\n",
       "            console.log([gd, 'removed!']);\n",
       "            Plotly.purge(gd);\n",
       "            observer.disconnect();\n",
       "        }}\n",
       "}});\n",
       "\n",
       "// Listen for the removal of the full notebook cells\n",
       "var notebookContainer = gd.closest('#notebook-container');\n",
       "if (notebookContainer) {{\n",
       "    x.observe(notebookContainer, {childList: true});\n",
       "}}\n",
       "\n",
       "// Listen for the clearing of the current output cell\n",
       "var outputEl = gd.closest('.output');\n",
       "if (outputEl) {{\n",
       "    x.observe(outputEl, {childList: true});\n",
       "}}\n",
       "\n",
       "                        })                };                });            </script>        </div>"
      ]
     },
     "metadata": {},
     "output_type": "display_data"
    }
   ],
   "source": [
    "fig = px.choropleth(NGO_country_stats, \n",
    "                    locations=\"ISO3\",\n",
    "                    color=\"Count\", \n",
    "                    hover_name=\"Country\", # column to add to hover information\n",
    "                    color_continuous_scale=\"reds\",\n",
    "                    title = \"Color-Coded Map of the Country of Origin of NGOs participating at COP2019\",\n",
    "                    projection = \"robinson\",\n",
    "                    range_color = [0, 250])\n",
    "\n",
    "fig.write_html(\"Color-Coded Map of the Country of Origin of NGOs participating at COP2019.html\")\n",
    "fig.show()"
   ]
  },
  {
   "cell_type": "markdown",
   "metadata": {},
   "source": [
    "## 2. IGOs"
   ]
  },
  {
   "cell_type": "code",
   "execution_count": 245,
   "metadata": {},
   "outputs": [],
   "source": [
    "IGO = pd.read_csv(\"IGOs_COP2019_complete.csv\")"
   ]
  },
  {
   "cell_type": "code",
   "execution_count": 246,
   "metadata": {},
   "outputs": [
    {
     "data": {
      "text/html": [
       "<div>\n",
       "<style scoped>\n",
       "    .dataframe tbody tr th:only-of-type {\n",
       "        vertical-align: middle;\n",
       "    }\n",
       "\n",
       "    .dataframe tbody tr th {\n",
       "        vertical-align: top;\n",
       "    }\n",
       "\n",
       "    .dataframe thead th {\n",
       "        text-align: right;\n",
       "    }\n",
       "</style>\n",
       "<table border=\"1\" class=\"dataframe\">\n",
       "  <thead>\n",
       "    <tr style=\"text-align: right;\">\n",
       "      <th></th>\n",
       "      <th>name</th>\n",
       "      <th>entity_type</th>\n",
       "      <th>TotalMembers</th>\n",
       "      <th>MaleMembers</th>\n",
       "      <th>FemaleMembers</th>\n",
       "      <th>coordinator</th>\n",
       "      <th>city</th>\n",
       "      <th>country</th>\n",
       "    </tr>\n",
       "  </thead>\n",
       "  <tbody>\n",
       "    <tr>\n",
       "      <th>0</th>\n",
       "      <td>Adaptation Fund Board</td>\n",
       "      <td>Intergovernmental organizations</td>\n",
       "      <td>11</td>\n",
       "      <td>4</td>\n",
       "      <td>7</td>\n",
       "      <td>Mr. Mikko Antti Ollikainen</td>\n",
       "      <td>Washington DC</td>\n",
       "      <td>United States of America</td>\n",
       "    </tr>\n",
       "    <tr>\n",
       "      <th>1</th>\n",
       "      <td>African Centre of Meteorological Application f...</td>\n",
       "      <td>Intergovernmental organizations</td>\n",
       "      <td>14</td>\n",
       "      <td>10</td>\n",
       "      <td>4</td>\n",
       "      <td>Ms. Safia Alfa</td>\n",
       "      <td>Niamey</td>\n",
       "      <td>Niger</td>\n",
       "    </tr>\n",
       "    <tr>\n",
       "      <th>2</th>\n",
       "      <td>African Development Bank Group</td>\n",
       "      <td>Intergovernmental organizations</td>\n",
       "      <td>16</td>\n",
       "      <td>8</td>\n",
       "      <td>8</td>\n",
       "      <td>Ms. Louise Helen Brown</td>\n",
       "      <td>Tunis</td>\n",
       "      <td>Tunisia</td>\n",
       "    </tr>\n",
       "    <tr>\n",
       "      <th>3</th>\n",
       "      <td>African Union Commission</td>\n",
       "      <td>Intergovernmental organizations</td>\n",
       "      <td>32</td>\n",
       "      <td>18</td>\n",
       "      <td>14</td>\n",
       "      <td>Mr. Harsen Nyambe Nyambe</td>\n",
       "      <td>Addis Ababa</td>\n",
       "      <td>Ethiopia</td>\n",
       "    </tr>\n",
       "    <tr>\n",
       "      <th>4</th>\n",
       "      <td>African, Caribbean and Pacific Group of States</td>\n",
       "      <td>Intergovernmental organizations</td>\n",
       "      <td>4</td>\n",
       "      <td>2</td>\n",
       "      <td>2</td>\n",
       "      <td>Mr. Israel Olusola Ojo</td>\n",
       "      <td>Brussels</td>\n",
       "      <td>Belgium</td>\n",
       "    </tr>\n",
       "  </tbody>\n",
       "</table>\n",
       "</div>"
      ],
      "text/plain": [
       "                                                name  \\\n",
       "0                              Adaptation Fund Board   \n",
       "1  African Centre of Meteorological Application f...   \n",
       "2                     African Development Bank Group   \n",
       "3                           African Union Commission   \n",
       "4     African, Caribbean and Pacific Group of States   \n",
       "\n",
       "                       entity_type  TotalMembers  MaleMembers  FemaleMembers  \\\n",
       "0  Intergovernmental organizations            11            4              7   \n",
       "1  Intergovernmental organizations            14           10              4   \n",
       "2  Intergovernmental organizations            16            8              8   \n",
       "3  Intergovernmental organizations            32           18             14   \n",
       "4  Intergovernmental organizations             4            2              2   \n",
       "\n",
       "                  coordinator           city                   country  \n",
       "0  Mr. Mikko Antti Ollikainen  Washington DC  United States of America  \n",
       "1              Ms. Safia Alfa         Niamey                     Niger  \n",
       "2      Ms. Louise Helen Brown          Tunis                   Tunisia  \n",
       "3    Mr. Harsen Nyambe Nyambe    Addis Ababa                  Ethiopia  \n",
       "4      Mr. Israel Olusola Ojo       Brussels                   Belgium  "
      ]
     },
     "execution_count": 246,
     "metadata": {},
     "output_type": "execute_result"
    }
   ],
   "source": [
    "IGO.head()"
   ]
  },
  {
   "cell_type": "markdown",
   "metadata": {},
   "source": [
    "### 2.1 Country Statistics"
   ]
  },
  {
   "cell_type": "code",
   "execution_count": 247,
   "metadata": {},
   "outputs": [],
   "source": [
    "IGO_country_stats = pd.DataFrame(IGO.country.value_counts())\n",
    "IGO_country_stats.reset_index(level=0, inplace=True)\n",
    "IGO_country_stats.columns = [\"Country\", \"Count\"]"
   ]
  },
  {
   "cell_type": "code",
   "execution_count": 248,
   "metadata": {},
   "outputs": [
    {
     "data": {
      "text/html": [
       "<div>\n",
       "<style scoped>\n",
       "    .dataframe tbody tr th:only-of-type {\n",
       "        vertical-align: middle;\n",
       "    }\n",
       "\n",
       "    .dataframe tbody tr th {\n",
       "        vertical-align: top;\n",
       "    }\n",
       "\n",
       "    .dataframe thead th {\n",
       "        text-align: right;\n",
       "    }\n",
       "</style>\n",
       "<table border=\"1\" class=\"dataframe\">\n",
       "  <thead>\n",
       "    <tr style=\"text-align: right;\">\n",
       "      <th></th>\n",
       "      <th>Country</th>\n",
       "      <th>Count</th>\n",
       "    </tr>\n",
       "  </thead>\n",
       "  <tbody>\n",
       "    <tr>\n",
       "      <th>0</th>\n",
       "      <td>France</td>\n",
       "      <td>9</td>\n",
       "    </tr>\n",
       "    <tr>\n",
       "      <th>1</th>\n",
       "      <td>Switzerland</td>\n",
       "      <td>4</td>\n",
       "    </tr>\n",
       "    <tr>\n",
       "      <th>2</th>\n",
       "      <td>Finland</td>\n",
       "      <td>4</td>\n",
       "    </tr>\n",
       "    <tr>\n",
       "      <th>3</th>\n",
       "      <td>United Kingdom of Great Britain and Northern I...</td>\n",
       "      <td>3</td>\n",
       "    </tr>\n",
       "    <tr>\n",
       "      <th>4</th>\n",
       "      <td>United States of America</td>\n",
       "      <td>3</td>\n",
       "    </tr>\n",
       "  </tbody>\n",
       "</table>\n",
       "</div>"
      ],
      "text/plain": [
       "                                             Country  Count\n",
       "0                                             France      9\n",
       "1                                        Switzerland      4\n",
       "2                                            Finland      4\n",
       "3  United Kingdom of Great Britain and Northern I...      3\n",
       "4                           United States of America      3"
      ]
     },
     "execution_count": 248,
     "metadata": {},
     "output_type": "execute_result"
    }
   ],
   "source": [
    "IGO_country_stats.head()"
   ]
  },
  {
   "cell_type": "code",
   "execution_count": 250,
   "metadata": {},
   "outputs": [],
   "source": [
    "IGO_country_stats.to_csv(\"IGO_country_stats.csv\")"
   ]
  },
  {
   "cell_type": "markdown",
   "metadata": {},
   "source": [
    "### 2.2 City Statistics"
   ]
  },
  {
   "cell_type": "code",
   "execution_count": 251,
   "metadata": {},
   "outputs": [],
   "source": [
    "IGO_city_stats = pd.DataFrame(IGO.city.value_counts())\n",
    "IGO_city_stats.reset_index(level=0, inplace=True)\n",
    "IGO_city_stats.columns = [\"City\", \"Count\"]"
   ]
  },
  {
   "cell_type": "code",
   "execution_count": 252,
   "metadata": {},
   "outputs": [
    {
     "data": {
      "text/html": [
       "<div>\n",
       "<style scoped>\n",
       "    .dataframe tbody tr th:only-of-type {\n",
       "        vertical-align: middle;\n",
       "    }\n",
       "\n",
       "    .dataframe tbody tr th {\n",
       "        vertical-align: top;\n",
       "    }\n",
       "\n",
       "    .dataframe thead th {\n",
       "        text-align: right;\n",
       "    }\n",
       "</style>\n",
       "<table border=\"1\" class=\"dataframe\">\n",
       "  <thead>\n",
       "    <tr style=\"text-align: right;\">\n",
       "      <th></th>\n",
       "      <th>City</th>\n",
       "      <th>Count</th>\n",
       "    </tr>\n",
       "  </thead>\n",
       "  <tbody>\n",
       "    <tr>\n",
       "      <th>0</th>\n",
       "      <td>Paris</td>\n",
       "      <td>6</td>\n",
       "    </tr>\n",
       "    <tr>\n",
       "      <th>1</th>\n",
       "      <td>London</td>\n",
       "      <td>2</td>\n",
       "    </tr>\n",
       "    <tr>\n",
       "      <th>2</th>\n",
       "      <td>Helsinki</td>\n",
       "      <td>2</td>\n",
       "    </tr>\n",
       "    <tr>\n",
       "      <th>3</th>\n",
       "      <td>Washington</td>\n",
       "      <td>2</td>\n",
       "    </tr>\n",
       "    <tr>\n",
       "      <th>4</th>\n",
       "      <td>Cairo</td>\n",
       "      <td>2</td>\n",
       "    </tr>\n",
       "  </tbody>\n",
       "</table>\n",
       "</div>"
      ],
      "text/plain": [
       "         City  Count\n",
       "0       Paris      6\n",
       "1      London      2\n",
       "2    Helsinki      2\n",
       "3  Washington      2\n",
       "4       Cairo      2"
      ]
     },
     "execution_count": 252,
     "metadata": {},
     "output_type": "execute_result"
    }
   ],
   "source": [
    "IGO_city_stats.head()"
   ]
  },
  {
   "cell_type": "code",
   "execution_count": 253,
   "metadata": {},
   "outputs": [],
   "source": [
    "IGO_city_stats.to_csv(\"IGO_city_stats.csv\", index = False)"
   ]
  },
  {
   "cell_type": "markdown",
   "metadata": {},
   "source": [
    "### 2.3 Data Visualizations (barcharts) for Country and City Statistics (IGO)"
   ]
  },
  {
   "cell_type": "code",
   "execution_count": 22,
   "metadata": {},
   "outputs": [
    {
     "data": {
      "image/png": "[encoded data removed]",
      "text/plain": [
       "<Figure size 1440x720 with 2 Axes>"
      ]
     },
     "metadata": {
      "needs_background": "light"
     },
     "output_type": "display_data"
    }
   ],
   "source": [
    "plt.figure(figsize=(20,10))\n",
    "plt.subplot(1, 2, 1)\n",
    "plt.gca().invert_yaxis()\n",
    "plt.barh(IGO_country_stats.Country[0:19], IGO_country_stats.Count[0:19], color = [\"red\"])\n",
    "plt.title(\"COP2019 IGO Country Statistics \\n(first 20 most common countries)\")\n",
    "plt.xlabel(\"Number of Organizations\")\n",
    "plt.xticks(np.arange(0,11,1))\n",
    "\n",
    "plt.subplot(1, 2, 2)\n",
    "plt.gca().invert_yaxis()\n",
    "plt.barh(IGO_city_stats.City[0:19], IGO_city_stats.Count[0:19], color = [\"purple\"])\n",
    "plt.title(\"COP2019 IGO City Statistics \\n(first 20 most common cities)\")\n",
    "plt.xlabel(\"Number of Organizations\")\n",
    "plt.savefig(\"COP2019_IGO_country_city_stats.png\", facecolor = \"white\")"
   ]
  },
  {
   "cell_type": "markdown",
   "metadata": {},
   "source": [
    "### Country Map"
   ]
  },
  {
   "cell_type": "code",
   "execution_count": 259,
   "metadata": {},
   "outputs": [],
   "source": [
    "IGO_country_stats[\"ISO3\"] = [country_name_to_country_alpha3_(country) for country in list(IGO_country_stats.Country)]"
   ]
  },
  {
   "cell_type": "code",
   "execution_count": 260,
   "metadata": {},
   "outputs": [
    {
     "data": {
      "text/html": [
       "<div>\n",
       "<style scoped>\n",
       "    .dataframe tbody tr th:only-of-type {\n",
       "        vertical-align: middle;\n",
       "    }\n",
       "\n",
       "    .dataframe tbody tr th {\n",
       "        vertical-align: top;\n",
       "    }\n",
       "\n",
       "    .dataframe thead th {\n",
       "        text-align: right;\n",
       "    }\n",
       "</style>\n",
       "<table border=\"1\" class=\"dataframe\">\n",
       "  <thead>\n",
       "    <tr style=\"text-align: right;\">\n",
       "      <th></th>\n",
       "      <th>Country</th>\n",
       "      <th>Count</th>\n",
       "      <th>ISO3</th>\n",
       "    </tr>\n",
       "  </thead>\n",
       "  <tbody>\n",
       "    <tr>\n",
       "      <th>41</th>\n",
       "      <td>Republic of Korea</td>\n",
       "      <td>1</td>\n",
       "      <td></td>\n",
       "    </tr>\n",
       "    <tr>\n",
       "      <th>43</th>\n",
       "      <td>Bolivia (Plurinational State of)</td>\n",
       "      <td>1</td>\n",
       "      <td></td>\n",
       "    </tr>\n",
       "    <tr>\n",
       "      <th>47</th>\n",
       "      <td>Venezuela (Bolivarian Republic of)</td>\n",
       "      <td>1</td>\n",
       "      <td></td>\n",
       "    </tr>\n",
       "  </tbody>\n",
       "</table>\n",
       "</div>"
      ],
      "text/plain": [
       "                               Country  Count ISO3\n",
       "41                   Republic of Korea      1     \n",
       "43    Bolivia (Plurinational State of)      1     \n",
       "47  Venezuela (Bolivarian Republic of)      1     "
      ]
     },
     "execution_count": 260,
     "metadata": {},
     "output_type": "execute_result"
    }
   ],
   "source": [
    "IGO_country_stats[IGO_country_stats.ISO3==\"\"]"
   ]
  },
  {
   "cell_type": "markdown",
   "metadata": {},
   "source": [
    "It seems that 3 countries were not identified by the `country_name_to_alpha3` function. These are:\n",
    "* Republic of Korea\n",
    "* Bolivia\n",
    "* Venezuela\n",
    "\n",
    "We will manually compute the ISO3 for these countries as follows:"
   ]
  },
  {
   "cell_type": "code",
   "execution_count": 261,
   "metadata": {},
   "outputs": [],
   "source": [
    "IGO_country_stats.loc[[41, 43, 47], \"ISO3\"] = [\"KOR\", \"BOL\", \"VEN\"]"
   ]
  },
  {
   "cell_type": "code",
   "execution_count": 262,
   "metadata": {},
   "outputs": [
    {
     "data": {
      "text/html": [
       "<div>\n",
       "<style scoped>\n",
       "    .dataframe tbody tr th:only-of-type {\n",
       "        vertical-align: middle;\n",
       "    }\n",
       "\n",
       "    .dataframe tbody tr th {\n",
       "        vertical-align: top;\n",
       "    }\n",
       "\n",
       "    .dataframe thead th {\n",
       "        text-align: right;\n",
       "    }\n",
       "</style>\n",
       "<table border=\"1\" class=\"dataframe\">\n",
       "  <thead>\n",
       "    <tr style=\"text-align: right;\">\n",
       "      <th></th>\n",
       "      <th>Country</th>\n",
       "      <th>Count</th>\n",
       "      <th>ISO3</th>\n",
       "    </tr>\n",
       "  </thead>\n",
       "  <tbody>\n",
       "    <tr>\n",
       "      <th>43</th>\n",
       "      <td>Bolivia (Plurinational State of)</td>\n",
       "      <td>1</td>\n",
       "      <td>BOL</td>\n",
       "    </tr>\n",
       "    <tr>\n",
       "      <th>44</th>\n",
       "      <td>China</td>\n",
       "      <td>1</td>\n",
       "      <td>CHN</td>\n",
       "    </tr>\n",
       "    <tr>\n",
       "      <th>45</th>\n",
       "      <td>Sweden</td>\n",
       "      <td>1</td>\n",
       "      <td>SWE</td>\n",
       "    </tr>\n",
       "    <tr>\n",
       "      <th>46</th>\n",
       "      <td>Nigeria</td>\n",
       "      <td>1</td>\n",
       "      <td>NGA</td>\n",
       "    </tr>\n",
       "    <tr>\n",
       "      <th>47</th>\n",
       "      <td>Venezuela (Bolivarian Republic of)</td>\n",
       "      <td>1</td>\n",
       "      <td>VEN</td>\n",
       "    </tr>\n",
       "  </tbody>\n",
       "</table>\n",
       "</div>"
      ],
      "text/plain": [
       "                               Country  Count ISO3\n",
       "43    Bolivia (Plurinational State of)      1  BOL\n",
       "44                               China      1  CHN\n",
       "45                              Sweden      1  SWE\n",
       "46                             Nigeria      1  NGA\n",
       "47  Venezuela (Bolivarian Republic of)      1  VEN"
      ]
     },
     "execution_count": 262,
     "metadata": {},
     "output_type": "execute_result"
    }
   ],
   "source": [
    "IGO_country_stats.tail()"
   ]
  },
  {
   "cell_type": "code",
   "execution_count": null,
   "metadata": {},
   "outputs": [],
   "source": [
    "IGO_city_stats.to_csv(\"IGO_city_stats.csv\")"
   ]
  },
  {
   "cell_type": "code",
   "execution_count": 1,
   "metadata": {},
   "outputs": [
    {
     "ename": "NameError",
     "evalue": "name 'px' is not defined",
     "output_type": "error",
     "traceback": [
      "\u001b[0;31m---------------------------------------------------------------------------\u001b[0m",
      "\u001b[0;31mNameError\u001b[0m                                 Traceback (most recent call last)",
      "\u001b[0;32m<ipython-input-1-ef7cdb55a9aa>\u001b[0m in \u001b[0;36m<module>\u001b[0;34m\u001b[0m\n\u001b[0;32m----> 1\u001b[0;31m fig = px.choropleth(IGO_country_stats, \n\u001b[0m\u001b[1;32m      2\u001b[0m                     \u001b[0mlocations\u001b[0m\u001b[0;34m=\u001b[0m\u001b[0;34m\"ISO3\"\u001b[0m\u001b[0;34m,\u001b[0m\u001b[0;34m\u001b[0m\u001b[0;34m\u001b[0m\u001b[0m\n\u001b[1;32m      3\u001b[0m                     \u001b[0mcolor\u001b[0m\u001b[0;34m=\u001b[0m\u001b[0;34m\"Count\"\u001b[0m\u001b[0;34m,\u001b[0m\u001b[0;34m\u001b[0m\u001b[0;34m\u001b[0m\u001b[0m\n\u001b[1;32m      4\u001b[0m                     \u001b[0mhover_name\u001b[0m\u001b[0;34m=\u001b[0m\u001b[0;34m\"Country\"\u001b[0m\u001b[0;34m,\u001b[0m \u001b[0;31m# column to add to hover information\u001b[0m\u001b[0;34m\u001b[0m\u001b[0;34m\u001b[0m\u001b[0m\n\u001b[1;32m      5\u001b[0m                     \u001b[0mcolor_continuous_scale\u001b[0m\u001b[0;34m=\u001b[0m\u001b[0;34m\"greens\"\u001b[0m\u001b[0;34m,\u001b[0m\u001b[0;34m\u001b[0m\u001b[0;34m\u001b[0m\u001b[0m\n",
      "\u001b[0;31mNameError\u001b[0m: name 'px' is not defined"
     ]
    }
   ],
   "source": [
    "fig = px.choropleth(IGO_country_stats, \n",
    "                    locations=\"ISO3\",\n",
    "                    color=\"Count\", \n",
    "                    hover_name=\"Country\", # column to add to hover information\n",
    "                    color_continuous_scale=\"greens\",\n",
    "                    title = \"Color-Coded Map of the Country of Origin of IGOs participating at COP2019\",\n",
    "                    projection = \"natural earth\")\n",
    "\n",
    "#fig.write_html(\"Color-Coded Map of the Country of Origin of IGOs participating at COP2019.html\")\n",
    "fig.show()"
   ]
  },
  {
   "cell_type": "code",
   "execution_count": 275,
   "metadata": {},
   "outputs": [
    {
     "data": {
      "application/vnd.plotly.v1+json": {
       "config": {
        "plotlyServerURL": "https://plot.ly"
       },
       "data": [
        {
         "coloraxis": "coloraxis",
         "geo": "geo",
         "hovertemplate": "<b>%{hovertext}</b><br><br>ISO3=%{location}<br>Count=%{z}<extra></extra>",
         "hovertext": [
          "France",
          "Switzerland",
          "Finland",
          "United Kingdom of Great Britain and Northern Ireland",
          "United States of America",
          "Tunisia",
          "Burkina Faso",
          "Kenya",
          "Philippines",
          "Spain",
          "Egypt",
          "Peru",
          "Niger",
          "Lebanon",
          "Japan",
          "Malta",
          "Guyana",
          "Belgium",
          "El Salvador",
          "Morocco",
          "Sri Lanka",
          "Côte d'Ivoire",
          "Kuwait",
          "Qatar",
          "Mauritania",
          "Luxembourg",
          "Gabon",
          "Honduras",
          "Indonesia",
          "Thailand",
          "Nepal",
          "United Republic of Tanzania",
          "Fiji",
          "Austria",
          "India",
          "Belize",
          "United Arab Emirates",
          "Ethiopia",
          "Denmark",
          "Costa Rica",
          "Canada",
          "Republic of Korea",
          "Saudi Arabia",
          "Bolivia (Plurinational State of)",
          "China",
          "Sweden",
          "Nigeria",
          "Venezuela (Bolivarian Republic of)"
         ],
         "locations": [
          "FRA",
          "CHE",
          "FIN",
          "GBR",
          "USA",
          "TUN",
          "BFA",
          "KEN",
          "PHL",
          "ESP",
          "EGY",
          "PER",
          "NER",
          "LBN",
          "JPN",
          "MLT",
          "GUY",
          "BEL",
          "SLV",
          "MAR",
          "LKA",
          "CIV",
          "KWT",
          "QAT",
          "MRT",
          "LUX",
          "GAB",
          "HND",
          "IDN",
          "THA",
          "NPL",
          "TZA",
          "FJI",
          "AUT",
          "IND",
          "BLZ",
          "ARE",
          "ETH",
          "DNK",
          "CRI",
          "CAN",
          "KOR",
          "SAU",
          "BOL",
          "CHN",
          "SWE",
          "NGA",
          "VEN"
         ],
         "name": "",
         "type": "choropleth",
         "z": [
          9,
          4,
          4,
          3,
          3,
          2,
          2,
          2,
          2,
          2,
          2,
          1,
          1,
          1,
          1,
          1,
          1,
          1,
          1,
          1,
          1,
          1,
          1,
          1,
          1,
          1,
          1,
          1,
          1,
          1,
          1,
          1,
          1,
          1,
          1,
          1,
          1,
          1,
          1,
          1,
          1,
          1,
          1,
          1,
          1,
          1,
          1,
          1
         ]
        }
       ],
       "layout": {
        "coloraxis": {
         "colorbar": {
          "title": {
           "text": "Count"
          }
         },
         "colorscale": [
          [
           0,
           "rgb(247,252,245)"
          ],
          [
           0.125,
           "rgb(229,245,224)"
          ],
          [
           0.25,
           "rgb(199,233,192)"
          ],
          [
           0.375,
           "rgb(161,217,155)"
          ],
          [
           0.5,
           "rgb(116,196,118)"
          ],
          [
           0.625,
           "rgb(65,171,93)"
          ],
          [
           0.75,
           "rgb(35,139,69)"
          ],
          [
           0.875,
           "rgb(0,109,44)"
          ],
          [
           1,
           "rgb(0,68,27)"
          ]
         ]
        },
        "geo": {
         "center": {},
         "domain": {
          "x": [
           0,
           1
          ],
          "y": [
           0,
           1
          ]
         },
         "projection": {
          "type": "robinson"
         }
        },
        "legend": {
         "tracegroupgap": 0
        },
        "template": {
         "data": {
          "bar": [
           {
            "error_x": {
             "color": "#2a3f5f"
            },
            "error_y": {
             "color": "#2a3f5f"
            },
            "marker": {
             "line": {
              "color": "#E5ECF6",
              "width": 0.5
             },
             "pattern": {
              "fillmode": "overlay",
              "size": 10,
              "solidity": 0.2
             }
            },
            "type": "bar"
           }
          ],
          "barpolar": [
           {
            "marker": {
             "line": {
              "color": "#E5ECF6",
              "width": 0.5
             },
             "pattern": {
              "fillmode": "overlay",
              "size": 10,
              "solidity": 0.2
             }
            },
            "type": "barpolar"
           }
          ],
          "carpet": [
           {
            "aaxis": {
             "endlinecolor": "#2a3f5f",
             "gridcolor": "white",
             "linecolor": "white",
             "minorgridcolor": "white",
             "startlinecolor": "#2a3f5f"
            },
            "baxis": {
             "endlinecolor": "#2a3f5f",
             "gridcolor": "white",
             "linecolor": "white",
             "minorgridcolor": "white",
             "startlinecolor": "#2a3f5f"
            },
            "type": "carpet"
           }
          ],
          "choropleth": [
           {
            "colorbar": {
             "outlinewidth": 0,
             "ticks": ""
            },
            "type": "choropleth"
           }
          ],
          "contour": [
           {
            "colorbar": {
             "outlinewidth": 0,
             "ticks": ""
            },
            "colorscale": [
             [
              0,
              "#0d0887"
             ],
             [
              0.1111111111111111,
              "#46039f"
             ],
             [
              0.2222222222222222,
              "#7201a8"
             ],
             [
              0.3333333333333333,
              "#9c179e"
             ],
             [
              0.4444444444444444,
              "#bd3786"
             ],
             [
              0.5555555555555556,
              "#d8576b"
             ],
             [
              0.6666666666666666,
              "#ed7953"
             ],
             [
              0.7777777777777778,
              "#fb9f3a"
             ],
             [
              0.8888888888888888,
              "#fdca26"
             ],
             [
              1,
              "#f0f921"
             ]
            ],
            "type": "contour"
           }
          ],
          "contourcarpet": [
           {
            "colorbar": {
             "outlinewidth": 0,
             "ticks": ""
            },
            "type": "contourcarpet"
           }
          ],
          "heatmap": [
           {
            "colorbar": {
             "outlinewidth": 0,
             "ticks": ""
            },
            "colorscale": [
             [
              0,
              "#0d0887"
             ],
             [
              0.1111111111111111,
              "#46039f"
             ],
             [
              0.2222222222222222,
              "#7201a8"
             ],
             [
              0.3333333333333333,
              "#9c179e"
             ],
             [
              0.4444444444444444,
              "#bd3786"
             ],
             [
              0.5555555555555556,
              "#d8576b"
             ],
             [
              0.6666666666666666,
              "#ed7953"
             ],
             [
              0.7777777777777778,
              "#fb9f3a"
             ],
             [
              0.8888888888888888,
              "#fdca26"
             ],
             [
              1,
              "#f0f921"
             ]
            ],
            "type": "heatmap"
           }
          ],
          "heatmapgl": [
           {
            "colorbar": {
             "outlinewidth": 0,
             "ticks": ""
            },
            "colorscale": [
             [
              0,
              "#0d0887"
             ],
             [
              0.1111111111111111,
              "#46039f"
             ],
             [
              0.2222222222222222,
              "#7201a8"
             ],
             [
              0.3333333333333333,
              "#9c179e"
             ],
             [
              0.4444444444444444,
              "#bd3786"
             ],
             [
              0.5555555555555556,
              "#d8576b"
             ],
             [
              0.6666666666666666,
              "#ed7953"
             ],
             [
              0.7777777777777778,
              "#fb9f3a"
             ],
             [
              0.8888888888888888,
              "#fdca26"
             ],
             [
              1,
              "#f0f921"
             ]
            ],
            "type": "heatmapgl"
           }
          ],
          "histogram": [
           {
            "marker": {
             "pattern": {
              "fillmode": "overlay",
              "size": 10,
              "solidity": 0.2
             }
            },
            "type": "histogram"
           }
          ],
          "histogram2d": [
           {
            "colorbar": {
             "outlinewidth": 0,
             "ticks": ""
            },
            "colorscale": [
             [
              0,
              "#0d0887"
             ],
             [
              0.1111111111111111,
              "#46039f"
             ],
             [
              0.2222222222222222,
              "#7201a8"
             ],
             [
              0.3333333333333333,
              "#9c179e"
             ],
             [
              0.4444444444444444,
              "#bd3786"
             ],
             [
              0.5555555555555556,
              "#d8576b"
             ],
             [
              0.6666666666666666,
              "#ed7953"
             ],
             [
              0.7777777777777778,
              "#fb9f3a"
             ],
             [
              0.8888888888888888,
              "#fdca26"
             ],
             [
              1,
              "#f0f921"
             ]
            ],
            "type": "histogram2d"
           }
          ],
          "histogram2dcontour": [
           {
            "colorbar": {
             "outlinewidth": 0,
             "ticks": ""
            },
            "colorscale": [
             [
              0,
              "#0d0887"
             ],
             [
              0.1111111111111111,
              "#46039f"
             ],
             [
              0.2222222222222222,
              "#7201a8"
             ],
             [
              0.3333333333333333,
              "#9c179e"
             ],
             [
              0.4444444444444444,
              "#bd3786"
             ],
             [
              0.5555555555555556,
              "#d8576b"
             ],
             [
              0.6666666666666666,
              "#ed7953"
             ],
             [
              0.7777777777777778,
              "#fb9f3a"
             ],
             [
              0.8888888888888888,
              "#fdca26"
             ],
             [
              1,
              "#f0f921"
             ]
            ],
            "type": "histogram2dcontour"
           }
          ],
          "mesh3d": [
           {
            "colorbar": {
             "outlinewidth": 0,
             "ticks": ""
            },
            "type": "mesh3d"
           }
          ],
          "parcoords": [
           {
            "line": {
             "colorbar": {
              "outlinewidth": 0,
              "ticks": ""
             }
            },
            "type": "parcoords"
           }
          ],
          "pie": [
           {
            "automargin": true,
            "type": "pie"
           }
          ],
          "scatter": [
           {
            "marker": {
             "colorbar": {
              "outlinewidth": 0,
              "ticks": ""
             }
            },
            "type": "scatter"
           }
          ],
          "scatter3d": [
           {
            "line": {
             "colorbar": {
              "outlinewidth": 0,
              "ticks": ""
             }
            },
            "marker": {
             "colorbar": {
              "outlinewidth": 0,
              "ticks": ""
             }
            },
            "type": "scatter3d"
           }
          ],
          "scattercarpet": [
           {
            "marker": {
             "colorbar": {
              "outlinewidth": 0,
              "ticks": ""
             }
            },
            "type": "scattercarpet"
           }
          ],
          "scattergeo": [
           {
            "marker": {
             "colorbar": {
              "outlinewidth": 0,
              "ticks": ""
             }
            },
            "type": "scattergeo"
           }
          ],
          "scattergl": [
           {
            "marker": {
             "colorbar": {
              "outlinewidth": 0,
              "ticks": ""
             }
            },
            "type": "scattergl"
           }
          ],
          "scattermapbox": [
           {
            "marker": {
             "colorbar": {
              "outlinewidth": 0,
              "ticks": ""
             }
            },
            "type": "scattermapbox"
           }
          ],
          "scatterpolar": [
           {
            "marker": {
             "colorbar": {
              "outlinewidth": 0,
              "ticks": ""
             }
            },
            "type": "scatterpolar"
           }
          ],
          "scatterpolargl": [
           {
            "marker": {
             "colorbar": {
              "outlinewidth": 0,
              "ticks": ""
             }
            },
            "type": "scatterpolargl"
           }
          ],
          "scatterternary": [
           {
            "marker": {
             "colorbar": {
              "outlinewidth": 0,
              "ticks": ""
             }
            },
            "type": "scatterternary"
           }
          ],
          "surface": [
           {
            "colorbar": {
             "outlinewidth": 0,
             "ticks": ""
            },
            "colorscale": [
             [
              0,
              "#0d0887"
             ],
             [
              0.1111111111111111,
              "#46039f"
             ],
             [
              0.2222222222222222,
              "#7201a8"
             ],
             [
              0.3333333333333333,
              "#9c179e"
             ],
             [
              0.4444444444444444,
              "#bd3786"
             ],
             [
              0.5555555555555556,
              "#d8576b"
             ],
             [
              0.6666666666666666,
              "#ed7953"
             ],
             [
              0.7777777777777778,
              "#fb9f3a"
             ],
             [
              0.8888888888888888,
              "#fdca26"
             ],
             [
              1,
              "#f0f921"
             ]
            ],
            "type": "surface"
           }
          ],
          "table": [
           {
            "cells": {
             "fill": {
              "color": "#EBF0F8"
             },
             "line": {
              "color": "white"
             }
            },
            "header": {
             "fill": {
              "color": "#C8D4E3"
             },
             "line": {
              "color": "white"
             }
            },
            "type": "table"
           }
          ]
         },
         "layout": {
          "annotationdefaults": {
           "arrowcolor": "#2a3f5f",
           "arrowhead": 0,
           "arrowwidth": 1
          },
          "autotypenumbers": "strict",
          "coloraxis": {
           "colorbar": {
            "outlinewidth": 0,
            "ticks": ""
           }
          },
          "colorscale": {
           "diverging": [
            [
             0,
             "#8e0152"
            ],
            [
             0.1,
             "#c51b7d"
            ],
            [
             0.2,
             "#de77ae"
            ],
            [
             0.3,
             "#f1b6da"
            ],
            [
             0.4,
             "#fde0ef"
            ],
            [
             0.5,
             "#f7f7f7"
            ],
            [
             0.6,
             "#e6f5d0"
            ],
            [
             0.7,
             "#b8e186"
            ],
            [
             0.8,
             "#7fbc41"
            ],
            [
             0.9,
             "#4d9221"
            ],
            [
             1,
             "#276419"
            ]
           ],
           "sequential": [
            [
             0,
             "#0d0887"
            ],
            [
             0.1111111111111111,
             "#46039f"
            ],
            [
             0.2222222222222222,
             "#7201a8"
            ],
            [
             0.3333333333333333,
             "#9c179e"
            ],
            [
             0.4444444444444444,
             "#bd3786"
            ],
            [
             0.5555555555555556,
             "#d8576b"
            ],
            [
             0.6666666666666666,
             "#ed7953"
            ],
            [
             0.7777777777777778,
             "#fb9f3a"
            ],
            [
             0.8888888888888888,
             "#fdca26"
            ],
            [
             1,
             "#f0f921"
            ]
           ],
           "sequentialminus": [
            [
             0,
             "#0d0887"
            ],
            [
             0.1111111111111111,
             "#46039f"
            ],
            [
             0.2222222222222222,
             "#7201a8"
            ],
            [
             0.3333333333333333,
             "#9c179e"
            ],
            [
             0.4444444444444444,
             "#bd3786"
            ],
            [
             0.5555555555555556,
             "#d8576b"
            ],
            [
             0.6666666666666666,
             "#ed7953"
            ],
            [
             0.7777777777777778,
             "#fb9f3a"
            ],
            [
             0.8888888888888888,
             "#fdca26"
            ],
            [
             1,
             "#f0f921"
            ]
           ]
          },
          "colorway": [
           "#636efa",
           "#EF553B",
           "#00cc96",
           "#ab63fa",
           "#FFA15A",
           "#19d3f3",
           "#FF6692",
           "#B6E880",
           "#FF97FF",
           "#FECB52"
          ],
          "font": {
           "color": "#2a3f5f"
          },
          "geo": {
           "bgcolor": "white",
           "lakecolor": "white",
           "landcolor": "#E5ECF6",
           "showlakes": true,
           "showland": true,
           "subunitcolor": "white"
          },
          "hoverlabel": {
           "align": "left"
          },
          "hovermode": "closest",
          "mapbox": {
           "style": "light"
          },
          "paper_bgcolor": "white",
          "plot_bgcolor": "#E5ECF6",
          "polar": {
           "angularaxis": {
            "gridcolor": "white",
            "linecolor": "white",
            "ticks": ""
           },
           "bgcolor": "#E5ECF6",
           "radialaxis": {
            "gridcolor": "white",
            "linecolor": "white",
            "ticks": ""
           }
          },
          "scene": {
           "xaxis": {
            "backgroundcolor": "#E5ECF6",
            "gridcolor": "white",
            "gridwidth": 2,
            "linecolor": "white",
            "showbackground": true,
            "ticks": "",
            "zerolinecolor": "white"
           },
           "yaxis": {
            "backgroundcolor": "#E5ECF6",
            "gridcolor": "white",
            "gridwidth": 2,
            "linecolor": "white",
            "showbackground": true,
            "ticks": "",
            "zerolinecolor": "white"
           },
           "zaxis": {
            "backgroundcolor": "#E5ECF6",
            "gridcolor": "white",
            "gridwidth": 2,
            "linecolor": "white",
            "showbackground": true,
            "ticks": "",
            "zerolinecolor": "white"
           }
          },
          "shapedefaults": {
           "line": {
            "color": "#2a3f5f"
           }
          },
          "ternary": {
           "aaxis": {
            "gridcolor": "white",
            "linecolor": "white",
            "ticks": ""
           },
           "baxis": {
            "gridcolor": "white",
            "linecolor": "white",
            "ticks": ""
           },
           "bgcolor": "#E5ECF6",
           "caxis": {
            "gridcolor": "white",
            "linecolor": "white",
            "ticks": ""
           }
          },
          "title": {
           "x": 0.05
          },
          "xaxis": {
           "automargin": true,
           "gridcolor": "white",
           "linecolor": "white",
           "ticks": "",
           "title": {
            "standoff": 15
           },
           "zerolinecolor": "white",
           "zerolinewidth": 2
          },
          "yaxis": {
           "automargin": true,
           "gridcolor": "white",
           "linecolor": "white",
           "ticks": "",
           "title": {
            "standoff": 15
           },
           "zerolinecolor": "white",
           "zerolinewidth": 2
          }
         }
        },
        "title": {
         "text": "Color-Coded Map of the Country of Origin of IGOs participating at COP2019"
        }
       }
      },
      "text/html": [
       "<div>                            <div id=\"3d4d16e8-873a-4a12-a8e0-7eb312976731\" class=\"plotly-graph-div\" style=\"height:525px; width:100%;\"></div>            <script type=\"text/javascript\">                require([\"plotly\"], function(Plotly) {                    window.PLOTLYENV=window.PLOTLYENV || {};                                    if (document.getElementById(\"3d4d16e8-873a-4a12-a8e0-7eb312976731\")) {                    Plotly.newPlot(                        \"3d4d16e8-873a-4a12-a8e0-7eb312976731\",                        [{\"coloraxis\":\"coloraxis\",\"geo\":\"geo\",\"hovertemplate\":\"<b>%{hovertext}</b><br><br>ISO3=%{location}<br>Count=%{z}<extra></extra>\",\"hovertext\":[\"France\",\"Switzerland\",\"Finland\",\"United Kingdom of Great Britain and Northern Ireland\",\"United States of America\",\"Tunisia\",\"Burkina Faso\",\"Kenya\",\"Philippines\",\"Spain\",\"Egypt\",\"Peru\",\"Niger\",\"Lebanon\",\"Japan\",\"Malta\",\"Guyana\",\"Belgium\",\"El Salvador\",\"Morocco\",\"Sri Lanka\",\"C\\u00f4te d'Ivoire\",\"Kuwait\",\"Qatar\",\"Mauritania\",\"Luxembourg\",\"Gabon\",\"Honduras\",\"Indonesia\",\"Thailand\",\"Nepal\",\"United Republic of Tanzania\",\"Fiji\",\"Austria\",\"India\",\"Belize\",\"United Arab Emirates\",\"Ethiopia\",\"Denmark\",\"Costa Rica\",\"Canada\",\"Republic of Korea\",\"Saudi Arabia\",\"Bolivia (Plurinational State of)\",\"China\",\"Sweden\",\"Nigeria\",\"Venezuela (Bolivarian Republic of)\"],\"locations\":[\"FRA\",\"CHE\",\"FIN\",\"GBR\",\"USA\",\"TUN\",\"BFA\",\"KEN\",\"PHL\",\"ESP\",\"EGY\",\"PER\",\"NER\",\"LBN\",\"JPN\",\"MLT\",\"GUY\",\"BEL\",\"SLV\",\"MAR\",\"LKA\",\"CIV\",\"KWT\",\"QAT\",\"MRT\",\"LUX\",\"GAB\",\"HND\",\"IDN\",\"THA\",\"NPL\",\"TZA\",\"FJI\",\"AUT\",\"IND\",\"BLZ\",\"ARE\",\"ETH\",\"DNK\",\"CRI\",\"CAN\",\"KOR\",\"SAU\",\"BOL\",\"CHN\",\"SWE\",\"NGA\",\"VEN\"],\"name\":\"\",\"type\":\"choropleth\",\"z\":[9,4,4,3,3,2,2,2,2,2,2,1,1,1,1,1,1,1,1,1,1,1,1,1,1,1,1,1,1,1,1,1,1,1,1,1,1,1,1,1,1,1,1,1,1,1,1,1]}],                        {\"coloraxis\":{\"colorbar\":{\"title\":{\"text\":\"Count\"}},\"colorscale\":[[0.0,\"rgb(247,252,245)\"],[0.125,\"rgb(229,245,224)\"],[0.25,\"rgb(199,233,192)\"],[0.375,\"rgb(161,217,155)\"],[0.5,\"rgb(116,196,118)\"],[0.625,\"rgb(65,171,93)\"],[0.75,\"rgb(35,139,69)\"],[0.875,\"rgb(0,109,44)\"],[1.0,\"rgb(0,68,27)\"]]},\"geo\":{\"center\":{},\"domain\":{\"x\":[0.0,1.0],\"y\":[0.0,1.0]},\"projection\":{\"type\":\"robinson\"}},\"legend\":{\"tracegroupgap\":0},\"template\":{\"data\":{\"bar\":[{\"error_x\":{\"color\":\"#2a3f5f\"},\"error_y\":{\"color\":\"#2a3f5f\"},\"marker\":{\"line\":{\"color\":\"#E5ECF6\",\"width\":0.5},\"pattern\":{\"fillmode\":\"overlay\",\"size\":10,\"solidity\":0.2}},\"type\":\"bar\"}],\"barpolar\":[{\"marker\":{\"line\":{\"color\":\"#E5ECF6\",\"width\":0.5},\"pattern\":{\"fillmode\":\"overlay\",\"size\":10,\"solidity\":0.2}},\"type\":\"barpolar\"}],\"carpet\":[{\"aaxis\":{\"endlinecolor\":\"#2a3f5f\",\"gridcolor\":\"white\",\"linecolor\":\"white\",\"minorgridcolor\":\"white\",\"startlinecolor\":\"#2a3f5f\"},\"baxis\":{\"endlinecolor\":\"#2a3f5f\",\"gridcolor\":\"white\",\"linecolor\":\"white\",\"minorgridcolor\":\"white\",\"startlinecolor\":\"#2a3f5f\"},\"type\":\"carpet\"}],\"choropleth\":[{\"colorbar\":{\"outlinewidth\":0,\"ticks\":\"\"},\"type\":\"choropleth\"}],\"contour\":[{\"colorbar\":{\"outlinewidth\":0,\"ticks\":\"\"},\"colorscale\":[[0.0,\"#0d0887\"],[0.1111111111111111,\"#46039f\"],[0.2222222222222222,\"#7201a8\"],[0.3333333333333333,\"#9c179e\"],[0.4444444444444444,\"#bd3786\"],[0.5555555555555556,\"#d8576b\"],[0.6666666666666666,\"#ed7953\"],[0.7777777777777778,\"#fb9f3a\"],[0.8888888888888888,\"#fdca26\"],[1.0,\"#f0f921\"]],\"type\":\"contour\"}],\"contourcarpet\":[{\"colorbar\":{\"outlinewidth\":0,\"ticks\":\"\"},\"type\":\"contourcarpet\"}],\"heatmap\":[{\"colorbar\":{\"outlinewidth\":0,\"ticks\":\"\"},\"colorscale\":[[0.0,\"#0d0887\"],[0.1111111111111111,\"#46039f\"],[0.2222222222222222,\"#7201a8\"],[0.3333333333333333,\"#9c179e\"],[0.4444444444444444,\"#bd3786\"],[0.5555555555555556,\"#d8576b\"],[0.6666666666666666,\"#ed7953\"],[0.7777777777777778,\"#fb9f3a\"],[0.8888888888888888,\"#fdca26\"],[1.0,\"#f0f921\"]],\"type\":\"heatmap\"}],\"heatmapgl\":[{\"colorbar\":{\"outlinewidth\":0,\"ticks\":\"\"},\"colorscale\":[[0.0,\"#0d0887\"],[0.1111111111111111,\"#46039f\"],[0.2222222222222222,\"#7201a8\"],[0.3333333333333333,\"#9c179e\"],[0.4444444444444444,\"#bd3786\"],[0.5555555555555556,\"#d8576b\"],[0.6666666666666666,\"#ed7953\"],[0.7777777777777778,\"#fb9f3a\"],[0.8888888888888888,\"#fdca26\"],[1.0,\"#f0f921\"]],\"type\":\"heatmapgl\"}],\"histogram\":[{\"marker\":{\"pattern\":{\"fillmode\":\"overlay\",\"size\":10,\"solidity\":0.2}},\"type\":\"histogram\"}],\"histogram2d\":[{\"colorbar\":{\"outlinewidth\":0,\"ticks\":\"\"},\"colorscale\":[[0.0,\"#0d0887\"],[0.1111111111111111,\"#46039f\"],[0.2222222222222222,\"#7201a8\"],[0.3333333333333333,\"#9c179e\"],[0.4444444444444444,\"#bd3786\"],[0.5555555555555556,\"#d8576b\"],[0.6666666666666666,\"#ed7953\"],[0.7777777777777778,\"#fb9f3a\"],[0.8888888888888888,\"#fdca26\"],[1.0,\"#f0f921\"]],\"type\":\"histogram2d\"}],\"histogram2dcontour\":[{\"colorbar\":{\"outlinewidth\":0,\"ticks\":\"\"},\"colorscale\":[[0.0,\"#0d0887\"],[0.1111111111111111,\"#46039f\"],[0.2222222222222222,\"#7201a8\"],[0.3333333333333333,\"#9c179e\"],[0.4444444444444444,\"#bd3786\"],[0.5555555555555556,\"#d8576b\"],[0.6666666666666666,\"#ed7953\"],[0.7777777777777778,\"#fb9f3a\"],[0.8888888888888888,\"#fdca26\"],[1.0,\"#f0f921\"]],\"type\":\"histogram2dcontour\"}],\"mesh3d\":[{\"colorbar\":{\"outlinewidth\":0,\"ticks\":\"\"},\"type\":\"mesh3d\"}],\"parcoords\":[{\"line\":{\"colorbar\":{\"outlinewidth\":0,\"ticks\":\"\"}},\"type\":\"parcoords\"}],\"pie\":[{\"automargin\":true,\"type\":\"pie\"}],\"scatter\":[{\"marker\":{\"colorbar\":{\"outlinewidth\":0,\"ticks\":\"\"}},\"type\":\"scatter\"}],\"scatter3d\":[{\"line\":{\"colorbar\":{\"outlinewidth\":0,\"ticks\":\"\"}},\"marker\":{\"colorbar\":{\"outlinewidth\":0,\"ticks\":\"\"}},\"type\":\"scatter3d\"}],\"scattercarpet\":[{\"marker\":{\"colorbar\":{\"outlinewidth\":0,\"ticks\":\"\"}},\"type\":\"scattercarpet\"}],\"scattergeo\":[{\"marker\":{\"colorbar\":{\"outlinewidth\":0,\"ticks\":\"\"}},\"type\":\"scattergeo\"}],\"scattergl\":[{\"marker\":{\"colorbar\":{\"outlinewidth\":0,\"ticks\":\"\"}},\"type\":\"scattergl\"}],\"scattermapbox\":[{\"marker\":{\"colorbar\":{\"outlinewidth\":0,\"ticks\":\"\"}},\"type\":\"scattermapbox\"}],\"scatterpolar\":[{\"marker\":{\"colorbar\":{\"outlinewidth\":0,\"ticks\":\"\"}},\"type\":\"scatterpolar\"}],\"scatterpolargl\":[{\"marker\":{\"colorbar\":{\"outlinewidth\":0,\"ticks\":\"\"}},\"type\":\"scatterpolargl\"}],\"scatterternary\":[{\"marker\":{\"colorbar\":{\"outlinewidth\":0,\"ticks\":\"\"}},\"type\":\"scatterternary\"}],\"surface\":[{\"colorbar\":{\"outlinewidth\":0,\"ticks\":\"\"},\"colorscale\":[[0.0,\"#0d0887\"],[0.1111111111111111,\"#46039f\"],[0.2222222222222222,\"#7201a8\"],[0.3333333333333333,\"#9c179e\"],[0.4444444444444444,\"#bd3786\"],[0.5555555555555556,\"#d8576b\"],[0.6666666666666666,\"#ed7953\"],[0.7777777777777778,\"#fb9f3a\"],[0.8888888888888888,\"#fdca26\"],[1.0,\"#f0f921\"]],\"type\":\"surface\"}],\"table\":[{\"cells\":{\"fill\":{\"color\":\"#EBF0F8\"},\"line\":{\"color\":\"white\"}},\"header\":{\"fill\":{\"color\":\"#C8D4E3\"},\"line\":{\"color\":\"white\"}},\"type\":\"table\"}]},\"layout\":{\"annotationdefaults\":{\"arrowcolor\":\"#2a3f5f\",\"arrowhead\":0,\"arrowwidth\":1},\"autotypenumbers\":\"strict\",\"coloraxis\":{\"colorbar\":{\"outlinewidth\":0,\"ticks\":\"\"}},\"colorscale\":{\"diverging\":[[0,\"#8e0152\"],[0.1,\"#c51b7d\"],[0.2,\"#de77ae\"],[0.3,\"#f1b6da\"],[0.4,\"#fde0ef\"],[0.5,\"#f7f7f7\"],[0.6,\"#e6f5d0\"],[0.7,\"#b8e186\"],[0.8,\"#7fbc41\"],[0.9,\"#4d9221\"],[1,\"#276419\"]],\"sequential\":[[0.0,\"#0d0887\"],[0.1111111111111111,\"#46039f\"],[0.2222222222222222,\"#7201a8\"],[0.3333333333333333,\"#9c179e\"],[0.4444444444444444,\"#bd3786\"],[0.5555555555555556,\"#d8576b\"],[0.6666666666666666,\"#ed7953\"],[0.7777777777777778,\"#fb9f3a\"],[0.8888888888888888,\"#fdca26\"],[1.0,\"#f0f921\"]],\"sequentialminus\":[[0.0,\"#0d0887\"],[0.1111111111111111,\"#46039f\"],[0.2222222222222222,\"#7201a8\"],[0.3333333333333333,\"#9c179e\"],[0.4444444444444444,\"#bd3786\"],[0.5555555555555556,\"#d8576b\"],[0.6666666666666666,\"#ed7953\"],[0.7777777777777778,\"#fb9f3a\"],[0.8888888888888888,\"#fdca26\"],[1.0,\"#f0f921\"]]},\"colorway\":[\"#636efa\",\"#EF553B\",\"#00cc96\",\"#ab63fa\",\"#FFA15A\",\"#19d3f3\",\"#FF6692\",\"#B6E880\",\"#FF97FF\",\"#FECB52\"],\"font\":{\"color\":\"#2a3f5f\"},\"geo\":{\"bgcolor\":\"white\",\"lakecolor\":\"white\",\"landcolor\":\"#E5ECF6\",\"showlakes\":true,\"showland\":true,\"subunitcolor\":\"white\"},\"hoverlabel\":{\"align\":\"left\"},\"hovermode\":\"closest\",\"mapbox\":{\"style\":\"light\"},\"paper_bgcolor\":\"white\",\"plot_bgcolor\":\"#E5ECF6\",\"polar\":{\"angularaxis\":{\"gridcolor\":\"white\",\"linecolor\":\"white\",\"ticks\":\"\"},\"bgcolor\":\"#E5ECF6\",\"radialaxis\":{\"gridcolor\":\"white\",\"linecolor\":\"white\",\"ticks\":\"\"}},\"scene\":{\"xaxis\":{\"backgroundcolor\":\"#E5ECF6\",\"gridcolor\":\"white\",\"gridwidth\":2,\"linecolor\":\"white\",\"showbackground\":true,\"ticks\":\"\",\"zerolinecolor\":\"white\"},\"yaxis\":{\"backgroundcolor\":\"#E5ECF6\",\"gridcolor\":\"white\",\"gridwidth\":2,\"linecolor\":\"white\",\"showbackground\":true,\"ticks\":\"\",\"zerolinecolor\":\"white\"},\"zaxis\":{\"backgroundcolor\":\"#E5ECF6\",\"gridcolor\":\"white\",\"gridwidth\":2,\"linecolor\":\"white\",\"showbackground\":true,\"ticks\":\"\",\"zerolinecolor\":\"white\"}},\"shapedefaults\":{\"line\":{\"color\":\"#2a3f5f\"}},\"ternary\":{\"aaxis\":{\"gridcolor\":\"white\",\"linecolor\":\"white\",\"ticks\":\"\"},\"baxis\":{\"gridcolor\":\"white\",\"linecolor\":\"white\",\"ticks\":\"\"},\"bgcolor\":\"#E5ECF6\",\"caxis\":{\"gridcolor\":\"white\",\"linecolor\":\"white\",\"ticks\":\"\"}},\"title\":{\"x\":0.05},\"xaxis\":{\"automargin\":true,\"gridcolor\":\"white\",\"linecolor\":\"white\",\"ticks\":\"\",\"title\":{\"standoff\":15},\"zerolinecolor\":\"white\",\"zerolinewidth\":2},\"yaxis\":{\"automargin\":true,\"gridcolor\":\"white\",\"linecolor\":\"white\",\"ticks\":\"\",\"title\":{\"standoff\":15},\"zerolinecolor\":\"white\",\"zerolinewidth\":2}}},\"title\":{\"text\":\"Color-Coded Map of the Country of Origin of IGOs participating at COP2019\"}},                        {\"responsive\": true}                    ).then(function(){\n",
       "                            \n",
       "var gd = document.getElementById('3d4d16e8-873a-4a12-a8e0-7eb312976731');\n",
       "var x = new MutationObserver(function (mutations, observer) {{\n",
       "        var display = window.getComputedStyle(gd).display;\n",
       "        if (!display || display === 'none') {{\n",
       "            console.log([gd, 'removed!']);\n",
       "            Plotly.purge(gd);\n",
       "            observer.disconnect();\n",
       "        }}\n",
       "}});\n",
       "\n",
       "// Listen for the removal of the full notebook cells\n",
       "var notebookContainer = gd.closest('#notebook-container');\n",
       "if (notebookContainer) {{\n",
       "    x.observe(notebookContainer, {childList: true});\n",
       "}}\n",
       "\n",
       "// Listen for the clearing of the current output cell\n",
       "var outputEl = gd.closest('.output');\n",
       "if (outputEl) {{\n",
       "    x.observe(outputEl, {childList: true});\n",
       "}}\n",
       "\n",
       "                        })                };                });            </script>        </div>"
      ]
     },
     "metadata": {},
     "output_type": "display_data"
    }
   ],
   "source": [
    "fig = px.choropleth(IGO_country_stats, \n",
    "                    locations=\"ISO3\",\n",
    "                    color=\"Count\", \n",
    "                    hover_name=\"Country\", # column to add to hover information\n",
    "                    color_continuous_scale=\"greens\",\n",
    "                    title = \"Color-Coded Map of the Country of Origin of IGOs participating at COP2019\",\n",
    "                    projection = \"robinson\")\n",
    "\n",
    "fig.write_html(\"Color-Coded Map of the Country of Origin of IGOs participating at COP2019.html\")\n",
    "fig.show()"
   ]
  },
  {
   "cell_type": "code",
   "execution_count": null,
   "metadata": {},
   "outputs": [],
   "source": []
  },
  {
   "cell_type": "code",
   "execution_count": null,
   "metadata": {},
   "outputs": [],
   "source": []
  }
 ],
 "metadata": {
  "kernelspec": {
   "display_name": "py_38_env",
   "language": "python",
   "name": "py_38_env"
  },
  "language_info": {
   "codemirror_mode": {
    "name": "ipython",
    "version": 3
   },
   "file_extension": ".py",
   "mimetype": "text/x-python",
   "name": "python",
   "nbconvert_exporter": "python",
   "pygments_lexer": "ipython3",
   "version": "3.8.2"
  },
  "varInspector": {
   "cols": {
    "lenName": 16,
    "lenType": 16,
    "lenVar": 40
   },
   "kernels_config": {
    "python": {
     "delete_cmd_postfix": "",
     "delete_cmd_prefix": "del ",
     "library": "var_list.py",
     "varRefreshCmd": "print(var_dic_list())"
    },
    "r": {
     "delete_cmd_postfix": ") ",
     "delete_cmd_prefix": "rm(",
     "library": "var_list.r",
     "varRefreshCmd": "cat(var_dic_list()) "
    }
   },
   "types_to_exclude": [
    "module",
    "function",
    "builtin_function_or_method",
    "instance",
    "_Feature"
   ],
   "window_display": false
  }
 },
 "nbformat": 4,
 "nbformat_minor": 4
}
