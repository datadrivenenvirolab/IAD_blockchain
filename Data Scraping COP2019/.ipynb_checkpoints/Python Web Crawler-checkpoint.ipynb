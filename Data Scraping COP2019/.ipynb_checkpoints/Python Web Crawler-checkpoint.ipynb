{
 "cells": [
  {
   "cell_type": "markdown",
   "metadata": {},
   "source": [
    "# Python Web Crawler for Country Inference (COP2019)"
   ]
  },
  {
   "cell_type": "markdown",
   "metadata": {},
   "source": [
    "## 1. Introduction"
   ]
  },
  {
   "cell_type": "markdown",
   "metadata": {},
   "source": [
    "### 1.1. The Context"
   ]
  },
  {
   "cell_type": "markdown",
   "metadata": {},
   "source": [
    "Each row in the COP2019_participation.csv contains:\n",
    "\n",
    "* the organization name\n",
    "* the kind of organization (e.g. IGO, NGO etc)\n",
    "* the total number of participants at COP2019 (for that specific organization)\n",
    "* the total number of male participants at COP2019 (for that specific organization)\n",
    "* the total number of female participants at COP2019 (for that specific organization)\n",
    "\n",
    "There are several kinds of organizations (found in the column `entity_type`):\n",
    "* Parties \n",
    "* Observer States\n",
    "* United Nations Secretariat units and bodies\n",
    "* Specialized agencies and related organizations\n",
    "* Intergovernmental organizations\n",
    "* Non-governmental organizations\n",
    "\n",
    "\n",
    "Right now, we are mostly interested in Intergovernmental organizations (**IGOs**) and Non-governmental organizations (**NGOs**).\n",
    "\n",
    "For each NGO or IGO, we want to scrape the web for the top 10 results that pop up after a Google search of the name of the organization and store the raw text from these websites in a dataframe.\n"
   ]
  },
  {
   "cell_type": "markdown",
   "metadata": {},
   "source": [
    "### 1.2. Main Approach to the Problem(so far)"
   ]
  },
  {
   "cell_type": "markdown",
   "metadata": {},
   "source": [
    "We have decided that we are going to perform an **automated Google search** for each organization that we have in our dataset.\n",
    "The steps to follow (for each organization) are:\n",
    "\n",
    "0. creating an empty python dictionary with the keys as the countries and the values all initially set to 0 \n",
    "1. querying each organization name on Google\n",
    "2. extracting the links that pop up on the first page (excluding certain links, see below)\n",
    "3. for each link, extracting the HTML code and stripping it of tags ---> raw text"
   ]
  },
  {
   "cell_type": "markdown",
   "metadata": {},
   "source": [
    "## 2. Solving the Problem"
   ]
  },
  {
   "cell_type": "markdown",
   "metadata": {},
   "source": [
    "### 2.1. Preamble"
   ]
  },
  {
   "cell_type": "markdown",
   "metadata": {},
   "source": [
    "We will be using the following python modules:\n",
    "* `requests`, `requests_html`, `urllib`, `urllib.request` for establishing web access and accessing web content\n",
    "* `BeautifulSoup` for retrieving and modifying the text from the extracted links\n",
    "* `pandas` and `numpy` for working with dataframes"
   ]
  },
  {
   "cell_type": "markdown",
   "metadata": {},
   "source": [
    "### 2.2. Querying Google and extracting the first 10 links that pop up"
   ]
  },
  {
   "cell_type": "markdown",
   "metadata": {},
   "source": [
    "Note: When querying something on Google, the number of results on the first page is usually 10. __The first page of results usually contains the most relevant results.__"
   ]
  },
  {
   "cell_type": "code",
   "execution_count": 10,
   "metadata": {},
   "outputs": [],
   "source": [
    "# importing required modules\n",
    "import requests\n",
    "import urllib\n",
    "import pandas as pd\n",
    "import numpy as np\n",
    "from requests_html import HTML\n",
    "from requests_html import HTMLSession\n",
    "\n",
    "\n",
    "def get_source(url):\n",
    "    \"\"\"Return the source code for the provided URL. \n",
    "\n",
    "    Args: \n",
    "        url (string): URL of the page to scrape.\n",
    "\n",
    "    Returns:\n",
    "        response (object): HTTP response object from requests_html. \n",
    "    \"\"\"\n",
    "\n",
    "    try:\n",
    "        session = HTMLSession()\n",
    "        response = session.get(url)\n",
    "        return response\n",
    "\n",
    "    except requests.exceptions.RequestException as e:\n",
    "        print(e)\n",
    "        \n",
    "\n",
    "        \n",
    "def scrape_google(query):\n",
    "    \"\"\"\n",
    "    This function returns all the links that pop up on the first page of Google results for a given query.\n",
    "    \n",
    "    Args:\n",
    "        query (string): the query to search\n",
    "    \n",
    "    Returns:\n",
    "        links (list): list of links (string) that were extracted from Google\n",
    "    \"\"\"\n",
    "    query = urllib.parse.quote_plus(query)\n",
    "    response = get_source(\"https://www.google.com/search?gl=US&q=\"+ query)\n",
    "    links = list(response.html.absolute_links)\n",
    "    google_domains = ('https://www.google.', \n",
    "                      'https://google.', \n",
    "                      'https://webcache.googleusercontent.', \n",
    "                      'http://webcache.googleusercontent.', \n",
    "                      'https://policies.google.',\n",
    "                      'https://support.google.',\n",
    "                      'https://maps.google.',\n",
    "                      'https://translate.google.')\n",
    "\n",
    "    for url in links[:]:\n",
    "        if url.startswith(google_domains):\n",
    "            links.remove(url)\n",
    "\n",
    "    return links[0:10]"
   ]
  },
  {
   "cell_type": "code",
   "execution_count": 13,
   "metadata": {},
   "outputs": [
    {
     "data": {
      "text/plain": [
       "['https://careers.un.org/',\n",
       " 'https://www.un.org/en/about-us',\n",
       " 'https://www.facebook.com/unitednations/',\n",
       " 'https://unfoundation.org/',\n",
       " 'https://news.un.org/en/story/2021/07/1096052',\n",
       " 'https://www.unep.org/',\n",
       " 'https://news.un.org/en/story/2021/07/1096022',\n",
       " 'https://en.wikipedia.org/wiki/United_Nations#Structure',\n",
       " 'http://www.un.org/',\n",
       " 'https://news.un.org/en/story/2021/07/1096012']"
      ]
     },
     "execution_count": 13,
     "metadata": {},
     "output_type": "execute_result"
    }
   ],
   "source": [
    "# TEST:\n",
    "scrape_google(\"United Nations\")"
   ]
  },
  {
   "cell_type": "markdown",
   "metadata": {},
   "source": [
    "### 2.3. Getting the texts from the URLs"
   ]
  },
  {
   "cell_type": "code",
   "execution_count": 38,
   "metadata": {},
   "outputs": [],
   "source": [
    "# importing the relevant modules\n",
    "from urllib.request import urlopen, Request\n",
    "from bs4 import BeautifulSoup\n",
    "\n",
    "\n",
    "def get_text_from_URL(url):\n",
    "    \"\"\"\n",
    "    Get the raw text from a given url, stripped of all script and style elements.\n",
    "\n",
    "    Args: \n",
    "        url (string): URL of the page to scrape.\n",
    "\n",
    "    Returns:\n",
    "        text (string): raw text extracted from the webpage passed as argument.\n",
    "    \"\"\"\n",
    "    html = urlopen(url).read()\n",
    "    soup = BeautifulSoup(html, features=\"html.parser\")\n",
    "\n",
    "    # kill all script and style elements\n",
    "    for script in soup([\"script\", \"style\"]):\n",
    "        script.extract()    # rip it out\n",
    "\n",
    "    # get text\n",
    "    text = soup.get_text()\n",
    "\n",
    "    # break into lines and remove leading and trailing space on each\n",
    "    lines = (line.strip() for line in text.splitlines())\n",
    "    # break multi-headlines into a line each\n",
    "    chunks = (phrase.strip() for line in lines for phrase in line.split(\"  \"))\n",
    "    # drop blank lines\n",
    "    text = ' '.join(chunk for chunk in chunks if chunk)\n",
    "    return text\n"
   ]
  },
  {
   "cell_type": "code",
   "execution_count": 39,
   "metadata": {},
   "outputs": [
    {
     "name": "stdout",
     "output_type": "stream",
     "text": [
      "\"Academy for Mountain Environics AME - Wiser.Directory Issue Areas Democracy, Nonviolence and Peace Ecological Integrity Social and Economic Justice Add Select Page Academy for Mountain Environics AME Visit WebsiteSearch on Google Location: India Issue Areas: Biodiversity Conservation, Conservation Area Creation, Evolutionary Ecology, Practical Conservation, Sustainable Agriculture, Water Supply and Conservation, Women's Economic Development The Academy for Mountain Environics, the research arm of the BCIL, was founded over a decade ago with the basic objective of guiding people on simple, user-friendly systems for harnessing energy and water. The focus is on maintaining the tenuous harmony between the 5 ja’s that bind the planet — jan (people), jal (water) jameen (land), jungle (forests) and janwar (fauna). With projects in districts of Uttaranchal and Madhya Pradesh, the Academy consists of professionals who have come together from diverse fields. Some are geologists and geophysicists. Others are vernacular architects, water managers, explorers, trek escorts, camp organisers. Yet others are botanists, species enumerators and even young farmers who seek to put their experience to good use. The Academy has chosen to carry out a major part of its work in the mountains since these remain the only repositories of culture and biodiversity that have not yet been ravaged by development. The main thrust of the Academy’s work is in three broad regions. In Garhwal where we are involved in: \\x95 Building quake-proof homes with local traditions and skills. \\x95 Spring water bottling in the higher reaches of the Himalayas with least environment impact.. \\x95 Dissemination of information on and the promotion of growth of medicinal plants and herbs. \\x95 Mushroom farming with women cooperatives. In Coorg where we have undertaken: \\x95 The afforestation of the Kopatti Valley. \\x95 The creation of a Red List Park. \\x95 The setting up of a Rice farm to showcase various biodiverse species of rice. \\x95 Farm Awareness Programmes. Explore More Organizations Explore More Organizations Wiser.Directory is an evolving archive of the Organizations Directory of WiserEarth.org / Wiser.org (2007-2014). A bowo.io public-service project powered by WordPress. Content is licensed under CC-BY-NC. Donate Share This Facebook Twitter LinkedIn Gmail Share This Facebook Twitter LinkedIn Gmail\"\n"
     ]
    }
   ],
   "source": [
    "# TEST:\n",
    "url = \"https://wiser.directory/organization/academy-for-mountain-environics-ame/\"\n",
    "print(repr(get_text_from_URL(url)))"
   ]
  },
  {
   "cell_type": "markdown",
   "metadata": {},
   "source": [
    "### 2.3. Reading in the COP2019 participation statistics"
   ]
  },
  {
   "cell_type": "code",
   "execution_count": 16,
   "metadata": {},
   "outputs": [],
   "source": [
    "COP2019 = pd.read_csv(\"COP2019_participation.csv\", index_col=False)"
   ]
  },
  {
   "cell_type": "code",
   "execution_count": 17,
   "metadata": {},
   "outputs": [
    {
     "data": {
      "text/html": [
       "<div>\n",
       "<style scoped>\n",
       "    .dataframe tbody tr th:only-of-type {\n",
       "        vertical-align: middle;\n",
       "    }\n",
       "\n",
       "    .dataframe tbody tr th {\n",
       "        vertical-align: top;\n",
       "    }\n",
       "\n",
       "    .dataframe thead th {\n",
       "        text-align: right;\n",
       "    }\n",
       "</style>\n",
       "<table border=\"1\" class=\"dataframe\">\n",
       "  <thead>\n",
       "    <tr style=\"text-align: right;\">\n",
       "      <th></th>\n",
       "      <th>name</th>\n",
       "      <th>entity_type</th>\n",
       "      <th>TotalMembers</th>\n",
       "      <th>MaleMembers</th>\n",
       "      <th>FemaleMembers</th>\n",
       "    </tr>\n",
       "  </thead>\n",
       "  <tbody>\n",
       "    <tr>\n",
       "      <th>0</th>\n",
       "      <td>Afghanistan</td>\n",
       "      <td>Parties</td>\n",
       "      <td>15</td>\n",
       "      <td>13</td>\n",
       "      <td>2</td>\n",
       "    </tr>\n",
       "    <tr>\n",
       "      <th>1</th>\n",
       "      <td>Albania</td>\n",
       "      <td>Parties</td>\n",
       "      <td>2</td>\n",
       "      <td>1</td>\n",
       "      <td>1</td>\n",
       "    </tr>\n",
       "    <tr>\n",
       "      <th>2</th>\n",
       "      <td>Algeria</td>\n",
       "      <td>Parties</td>\n",
       "      <td>26</td>\n",
       "      <td>16</td>\n",
       "      <td>10</td>\n",
       "    </tr>\n",
       "    <tr>\n",
       "      <th>3</th>\n",
       "      <td>Andorra</td>\n",
       "      <td>Parties</td>\n",
       "      <td>8</td>\n",
       "      <td>5</td>\n",
       "      <td>3</td>\n",
       "    </tr>\n",
       "    <tr>\n",
       "      <th>4</th>\n",
       "      <td>Angola</td>\n",
       "      <td>Parties</td>\n",
       "      <td>23</td>\n",
       "      <td>16</td>\n",
       "      <td>7</td>\n",
       "    </tr>\n",
       "  </tbody>\n",
       "</table>\n",
       "</div>"
      ],
      "text/plain": [
       "          name entity_type  TotalMembers  MaleMembers  FemaleMembers\n",
       "0  Afghanistan     Parties            15           13              2\n",
       "1      Albania     Parties             2            1              1\n",
       "2      Algeria     Parties            26           16             10\n",
       "3      Andorra     Parties             8            5              3\n",
       "4       Angola     Parties            23           16              7"
      ]
     },
     "execution_count": 17,
     "metadata": {},
     "output_type": "execute_result"
    }
   ],
   "source": [
    "# inspect the first 5 elements\n",
    "COP2019.head()"
   ]
  },
  {
   "cell_type": "code",
   "execution_count": 18,
   "metadata": {},
   "outputs": [
    {
     "data": {
      "text/plain": [
       "array(['Parties', 'Observer States',\n",
       "       'United Nations Secretariat units and bodies',\n",
       "       'Specialized agencies and related organizations',\n",
       "       'Intergovernmental organizations',\n",
       "       'Non-governmental organizations'], dtype=object)"
      ]
     },
     "execution_count": 18,
     "metadata": {},
     "output_type": "execute_result"
    }
   ],
   "source": [
    "# ensure integrity of entity types \n",
    "COP2019.entity_type.unique()"
   ]
  },
  {
   "cell_type": "code",
   "execution_count": 19,
   "metadata": {},
   "outputs": [],
   "source": [
    "# create organizations dataframe, containing only NGOs and IGOs\n",
    "organizations = COP2019[(COP2019.entity_type == 'Intergovernmental organizations')|(COP2019.entity_type == 'Non-governmental organizations')].copy()"
   ]
  },
  {
   "cell_type": "code",
   "execution_count": 20,
   "metadata": {},
   "outputs": [
    {
     "data": {
      "text/html": [
       "<div>\n",
       "<style scoped>\n",
       "    .dataframe tbody tr th:only-of-type {\n",
       "        vertical-align: middle;\n",
       "    }\n",
       "\n",
       "    .dataframe tbody tr th {\n",
       "        vertical-align: top;\n",
       "    }\n",
       "\n",
       "    .dataframe thead th {\n",
       "        text-align: right;\n",
       "    }\n",
       "</style>\n",
       "<table border=\"1\" class=\"dataframe\">\n",
       "  <thead>\n",
       "    <tr style=\"text-align: right;\">\n",
       "      <th></th>\n",
       "      <th>name</th>\n",
       "      <th>entity_type</th>\n",
       "      <th>TotalMembers</th>\n",
       "      <th>MaleMembers</th>\n",
       "      <th>FemaleMembers</th>\n",
       "    </tr>\n",
       "  </thead>\n",
       "  <tbody>\n",
       "    <tr>\n",
       "      <th>1361</th>\n",
       "      <td>York University</td>\n",
       "      <td>Non-governmental organizations</td>\n",
       "      <td>13</td>\n",
       "      <td>8</td>\n",
       "      <td>5</td>\n",
       "    </tr>\n",
       "    <tr>\n",
       "      <th>1362</th>\n",
       "      <td>Young Energy Specialists - Development Coopera...</td>\n",
       "      <td>Non-governmental organizations</td>\n",
       "      <td>8</td>\n",
       "      <td>3</td>\n",
       "      <td>5</td>\n",
       "    </tr>\n",
       "    <tr>\n",
       "      <th>1363</th>\n",
       "      <td>Young Power in Social Action</td>\n",
       "      <td>Non-governmental organizations</td>\n",
       "      <td>1</td>\n",
       "      <td>1</td>\n",
       "      <td>0</td>\n",
       "    </tr>\n",
       "    <tr>\n",
       "      <th>1364</th>\n",
       "      <td>Zhenjiang Green Sanshan Environmental Public W...</td>\n",
       "      <td>Non-governmental organizations</td>\n",
       "      <td>3</td>\n",
       "      <td>1</td>\n",
       "      <td>2</td>\n",
       "    </tr>\n",
       "    <tr>\n",
       "      <th>1365</th>\n",
       "      <td>ZOI Environment Network</td>\n",
       "      <td>Non-governmental organizations</td>\n",
       "      <td>2</td>\n",
       "      <td>2</td>\n",
       "      <td>0</td>\n",
       "    </tr>\n",
       "  </tbody>\n",
       "</table>\n",
       "</div>"
      ],
      "text/plain": [
       "                                                   name  \\\n",
       "1361                                    York University   \n",
       "1362  Young Energy Specialists - Development Coopera...   \n",
       "1363                       Young Power in Social Action   \n",
       "1364  Zhenjiang Green Sanshan Environmental Public W...   \n",
       "1365                            ZOI Environment Network   \n",
       "\n",
       "                         entity_type  TotalMembers  MaleMembers  FemaleMembers  \n",
       "1361  Non-governmental organizations            13            8              5  \n",
       "1362  Non-governmental organizations             8            3              5  \n",
       "1363  Non-governmental organizations             1            1              0  \n",
       "1364  Non-governmental organizations             3            1              2  \n",
       "1365  Non-governmental organizations             2            2              0  "
      ]
     },
     "execution_count": 20,
     "metadata": {},
     "output_type": "execute_result"
    }
   ],
   "source": [
    "# inspect the last 5 elements; all should be NGOs\n",
    "organizations.tail()"
   ]
  },
  {
   "cell_type": "code",
   "execution_count": 21,
   "metadata": {},
   "outputs": [],
   "source": [
    "# subsetting the organizations dataset for unit-testing; only NGOs were chosen at this step\n",
    "organizations1 = organizations.iloc[(-20):-1,].copy()"
   ]
  },
  {
   "cell_type": "code",
   "execution_count": 22,
   "metadata": {},
   "outputs": [
    {
     "data": {
      "text/html": [
       "<div>\n",
       "<style scoped>\n",
       "    .dataframe tbody tr th:only-of-type {\n",
       "        vertical-align: middle;\n",
       "    }\n",
       "\n",
       "    .dataframe tbody tr th {\n",
       "        vertical-align: top;\n",
       "    }\n",
       "\n",
       "    .dataframe thead th {\n",
       "        text-align: right;\n",
       "    }\n",
       "</style>\n",
       "<table border=\"1\" class=\"dataframe\">\n",
       "  <thead>\n",
       "    <tr style=\"text-align: right;\">\n",
       "      <th></th>\n",
       "      <th>name</th>\n",
       "      <th>entity_type</th>\n",
       "      <th>TotalMembers</th>\n",
       "      <th>MaleMembers</th>\n",
       "      <th>FemaleMembers</th>\n",
       "    </tr>\n",
       "  </thead>\n",
       "  <tbody>\n",
       "    <tr>\n",
       "      <th>1346</th>\n",
       "      <td>World Green Building Council, Inc.</td>\n",
       "      <td>Non-governmental organizations</td>\n",
       "      <td>3</td>\n",
       "      <td>1</td>\n",
       "      <td>2</td>\n",
       "    </tr>\n",
       "    <tr>\n",
       "      <th>1347</th>\n",
       "      <td>World Medical Association</td>\n",
       "      <td>Non-governmental organizations</td>\n",
       "      <td>6</td>\n",
       "      <td>4</td>\n",
       "      <td>2</td>\n",
       "    </tr>\n",
       "    <tr>\n",
       "      <th>1348</th>\n",
       "      <td>World Ocean Council</td>\n",
       "      <td>Non-governmental organizations</td>\n",
       "      <td>1</td>\n",
       "      <td>1</td>\n",
       "      <td>0</td>\n",
       "    </tr>\n",
       "    <tr>\n",
       "      <th>1349</th>\n",
       "      <td>World Ocean Network</td>\n",
       "      <td>Non-governmental organizations</td>\n",
       "      <td>3</td>\n",
       "      <td>2</td>\n",
       "      <td>1</td>\n",
       "    </tr>\n",
       "    <tr>\n",
       "      <th>1350</th>\n",
       "      <td>World Organization of the Scout Movement</td>\n",
       "      <td>Non-governmental organizations</td>\n",
       "      <td>1</td>\n",
       "      <td>1</td>\n",
       "      <td>0</td>\n",
       "    </tr>\n",
       "  </tbody>\n",
       "</table>\n",
       "</div>"
      ],
      "text/plain": [
       "                                          name  \\\n",
       "1346        World Green Building Council, Inc.   \n",
       "1347                 World Medical Association   \n",
       "1348                       World Ocean Council   \n",
       "1349                       World Ocean Network   \n",
       "1350  World Organization of the Scout Movement   \n",
       "\n",
       "                         entity_type  TotalMembers  MaleMembers  FemaleMembers  \n",
       "1346  Non-governmental organizations             3            1              2  \n",
       "1347  Non-governmental organizations             6            4              2  \n",
       "1348  Non-governmental organizations             1            1              0  \n",
       "1349  Non-governmental organizations             3            2              1  \n",
       "1350  Non-governmental organizations             1            1              0  "
      ]
     },
     "execution_count": 22,
     "metadata": {},
     "output_type": "execute_result"
    }
   ],
   "source": [
    "# inspecting the newly generated dataframe\n",
    "organizations1.head()"
   ]
  },
  {
   "cell_type": "markdown",
   "metadata": {},
   "source": [
    "### 2.4. Web Scraping"
   ]
  },
  {
   "cell_type": "code",
   "execution_count": 23,
   "metadata": {},
   "outputs": [
    {
     "name": "stderr",
     "output_type": "stream",
     "text": [
      "Some characters could not be decoded, and were replaced with REPLACEMENT CHARACTER.\n",
      "Some characters could not be decoded, and were replaced with REPLACEMENT CHARACTER.\n",
      "Some characters could not be decoded, and were replaced with REPLACEMENT CHARACTER.\n"
     ]
    }
   ],
   "source": [
    "def scrape(organizations):\n",
    "    scraped_texts = []\n",
    "    org_list = list(organizations)\n",
    "    for i in range(len(org_list)):\n",
    "        organization = str(org_list[i])\n",
    "        list_of_links = scrape_google(organization)\n",
    "        for link in list_of_links:\n",
    "            try:\n",
    "                text = str(get_text_from_URL(link))\n",
    "                scraped_texts.append(text)\n",
    "            except:\n",
    "                pass\n",
    "    return scraped_texts\n",
    "\n",
    "scraping_result = scrape(organizations1.name)   "
   ]
  },
  {
   "cell_type": "code",
   "execution_count": 30,
   "metadata": {},
   "outputs": [],
   "source": [
    "scraping_result = [text for text in scraping_result if len(text)>1000]"
   ]
  },
  {
   "cell_type": "code",
   "execution_count": 31,
   "metadata": {},
   "outputs": [
    {
     "data": {
      "text/plain": [
       "136"
      ]
     },
     "execution_count": 31,
     "metadata": {},
     "output_type": "execute_result"
    }
   ],
   "source": [
    "len(scraping_result)"
   ]
  },
  {
   "cell_type": "code",
   "execution_count": 33,
   "metadata": {},
   "outputs": [],
   "source": [
    "df = pd.DataFrame(scraping_result,columns=['Text'])\n",
    "df.to_csv(\"scraped_websites.csv\", encoding='utf-8-sig')"
   ]
  },
  {
   "cell_type": "code",
   "execution_count": null,
   "metadata": {},
   "outputs": [],
   "source": []
  }
 ],
 "metadata": {
  "kernelspec": {
   "display_name": "py_38_env",
   "language": "python",
   "name": "py_38_env"
  },
  "language_info": {
   "codemirror_mode": {
    "name": "ipython",
    "version": 3
   },
   "file_extension": ".py",
   "mimetype": "text/x-python",
   "name": "python",
   "nbconvert_exporter": "python",
   "pygments_lexer": "ipython3",
   "version": "3.8.2"
  },
  "varInspector": {
   "cols": {
    "lenName": 16,
    "lenType": 16,
    "lenVar": 40
   },
   "kernels_config": {
    "python": {
     "delete_cmd_postfix": "",
     "delete_cmd_prefix": "del ",
     "library": "var_list.py",
     "varRefreshCmd": "print(var_dic_list())"
    },
    "r": {
     "delete_cmd_postfix": ") ",
     "delete_cmd_prefix": "rm(",
     "library": "var_list.r",
     "varRefreshCmd": "cat(var_dic_list()) "
    }
   },
   "types_to_exclude": [
    "module",
    "function",
    "builtin_function_or_method",
    "instance",
    "_Feature"
   ],
   "window_display": false
  }
 },
 "nbformat": 4,
 "nbformat_minor": 4
}
