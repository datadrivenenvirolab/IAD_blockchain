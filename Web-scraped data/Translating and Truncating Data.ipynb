{
 "cells": [
  {
   "cell_type": "code",
   "execution_count": 51,
   "metadata": {},
   "outputs": [],
   "source": [
    "import numpy as np\n",
    "import pandas as pd\n"
   ]
  },
  {
   "cell_type": "code",
   "execution_count": 52,
   "metadata": {},
   "outputs": [],
   "source": [
    "df = pd.read_csv(\"cleaned_texts_round1_with_language.csv\", index_col=0)"
   ]
  },
  {
   "cell_type": "code",
   "execution_count": 53,
   "metadata": {},
   "outputs": [
    {
     "data": {
      "text/html": [
       "<div>\n",
       "<style scoped>\n",
       "    .dataframe tbody tr th:only-of-type {\n",
       "        vertical-align: middle;\n",
       "    }\n",
       "\n",
       "    .dataframe tbody tr th {\n",
       "        vertical-align: top;\n",
       "    }\n",
       "\n",
       "    .dataframe thead th {\n",
       "        text-align: right;\n",
       "    }\n",
       "</style>\n",
       "<table border=\"1\" class=\"dataframe\">\n",
       "  <thead>\n",
       "    <tr style=\"text-align: right;\">\n",
       "      <th></th>\n",
       "      <th>Text</th>\n",
       "      <th>organization</th>\n",
       "      <th>original_language</th>\n",
       "    </tr>\n",
       "  </thead>\n",
       "  <tbody>\n",
       "    <tr>\n",
       "      <th>0</th>\n",
       "      <td>10 Years of the Adaptation Fund - Pioneering A...</td>\n",
       "      <td>Adaptation Fund Board</td>\n",
       "      <td>ENGLISH</td>\n",
       "    </tr>\n",
       "    <tr>\n",
       "      <th>1</th>\n",
       "      <td>About 10 Years of the Adaptation Fund Stories ...</td>\n",
       "      <td>Adaptation Fund Board</td>\n",
       "      <td>ENGLISH</td>\n",
       "    </tr>\n",
       "    <tr>\n",
       "      <th>2</th>\n",
       "      <td>Contact 10 Years of the Adaptation Fund Storie...</td>\n",
       "      <td>Adaptation Fund Board</td>\n",
       "      <td>ENGLISH</td>\n",
       "    </tr>\n",
       "    <tr>\n",
       "      <th>3</th>\n",
       "      <td>Governance - Adaptation Fund 10 Years of the A...</td>\n",
       "      <td>Adaptation Fund Board</td>\n",
       "      <td>ENGLISH</td>\n",
       "    </tr>\n",
       "    <tr>\n",
       "      <th>4</th>\n",
       "      <td>AF | Adaptation Fund 10 Years of the Adaptatio...</td>\n",
       "      <td>Adaptation Fund Board</td>\n",
       "      <td>ENGLISH</td>\n",
       "    </tr>\n",
       "  </tbody>\n",
       "</table>\n",
       "</div>"
      ],
      "text/plain": [
       "                                                Text           organization  \\\n",
       "0  10 Years of the Adaptation Fund - Pioneering A...  Adaptation Fund Board   \n",
       "1  About 10 Years of the Adaptation Fund Stories ...  Adaptation Fund Board   \n",
       "2  Contact 10 Years of the Adaptation Fund Storie...  Adaptation Fund Board   \n",
       "3  Governance - Adaptation Fund 10 Years of the A...  Adaptation Fund Board   \n",
       "4  AF | Adaptation Fund 10 Years of the Adaptatio...  Adaptation Fund Board   \n",
       "\n",
       "  original_language  \n",
       "0           ENGLISH  \n",
       "1           ENGLISH  \n",
       "2           ENGLISH  \n",
       "3           ENGLISH  \n",
       "4           ENGLISH  "
      ]
     },
     "execution_count": 53,
     "metadata": {},
     "output_type": "execute_result"
    }
   ],
   "source": [
    "df.head()"
   ]
  },
  {
   "cell_type": "code",
   "execution_count": 54,
   "metadata": {},
   "outputs": [
    {
     "data": {
      "text/plain": [
       "array(['ENGLISH', 'FRENCH', 'SPANISH', 'PORTUGUESE', 'ITALIAN', 'SWEDISH',\n",
       "       'Chinese', 'GERMAN', 'BENGALI', 'DANISH', 'PASHTO', 'Japanese',\n",
       "       'INUKTITUT', 'HEBREW', 'ARMENIAN', 'TURKISH', 'ChineseT',\n",
       "       'UKRAINIAN', 'NORWEGIAN', 'DUTCH', 'Korean', 'CATALAN', 'FINNISH'],\n",
       "      dtype=object)"
      ]
     },
     "execution_count": 54,
     "metadata": {},
     "output_type": "execute_result"
    }
   ],
   "source": [
    "df.original_language.unique()"
   ]
  },
  {
   "cell_type": "code",
   "execution_count": 58,
   "metadata": {},
   "outputs": [
    {
     "name": "stdout",
     "output_type": "stream",
     "text": [
      "12558.94240926904\n",
      "5142.0\n",
      "453476\n",
      "(5869, 3)\n"
     ]
    }
   ],
   "source": [
    "doc_len = ([len(x) for x in df.Text])\n",
    "print(np.mean(doc_len))\n",
    "print(np.median(doc_len))\n",
    "print(max(doc_len))\n",
    "print(df.shape)"
   ]
  },
  {
   "cell_type": "code",
   "execution_count": 64,
   "metadata": {},
   "outputs": [
    {
     "name": "stdout",
     "output_type": "stream",
     "text": [
      "4723\n"
     ]
    }
   ],
   "source": [
    "print(len([x for x in df.Text if len(x) < 12000]))"
   ]
  },
  {
   "cell_type": "markdown",
   "metadata": {},
   "source": [
    "# Truncating ALL the data"
   ]
  },
  {
   "cell_type": "code",
   "execution_count": 42,
   "metadata": {},
   "outputs": [],
   "source": [
    "# restricing all text entries to 5000 characters\n",
    "for i in range(len(df.Text)):\n",
    "    df.Text[i] = df.Text[i][0:4999]"
   ]
  },
  {
   "cell_type": "code",
   "execution_count": 43,
   "metadata": {},
   "outputs": [
    {
     "data": {
      "text/plain": [
       "4999"
      ]
     },
     "execution_count": 43,
     "metadata": {},
     "output_type": "execute_result"
    }
   ],
   "source": [
    "max([len(x) for x in df.Text])"
   ]
  },
  {
   "cell_type": "markdown",
   "metadata": {},
   "source": [
    "# Translating the Non-English Data"
   ]
  },
  {
   "cell_type": "code",
   "execution_count": 11,
   "metadata": {},
   "outputs": [
    {
     "data": {
      "text/plain": [
       "'I am well thank you'"
      ]
     },
     "execution_count": 11,
     "metadata": {},
     "output_type": "execute_result"
    }
   ],
   "source": [
    "from googletrans import Translator\n",
    "translator = Translator()\n",
    "\n",
    "t = translator.translate(\"Je suis bien, merci\", dest = \"en\").text\n",
    "t"
   ]
  },
  {
   "cell_type": "code",
   "execution_count": 12,
   "metadata": {},
   "outputs": [],
   "source": [
    "from googletrans import Translator\n",
    "translator = Translator()\n",
    "# I will try to see whether making the program sleep for 5 seconds \n",
    "# after translating each text makes any difference.\n",
    "\n",
    "translated = []\n",
    "\n",
    "for i in range(len(df.Text)):\n",
    "    if df.original_language[i] != 'ENGLISH': # if the original language of the text is not English, then translate it\n",
    "        t = translator.translate(str(df.Text[i]), dest = \"en\").text\n",
    "        translated.append(t)\n",
    "    else:\n",
    "        translated.append(str(df.Text[i]))\n",
    "    \n",
    "\n",
    "# df[\"translated_text\"] = translated"
   ]
  },
  {
   "cell_type": "code",
   "execution_count": 13,
   "metadata": {},
   "outputs": [],
   "source": [
    "# started: 19:16 -> ended: 19:19"
   ]
  },
  {
   "cell_type": "code",
   "execution_count": 14,
   "metadata": {},
   "outputs": [],
   "source": [
    "df[\"translated_text\"] = translated"
   ]
  },
  {
   "cell_type": "code",
   "execution_count": 62,
   "metadata": {},
   "outputs": [
    {
     "name": "stdout",
     "output_type": "stream",
     "text": [
      "(556, 3)\n",
      "5849968\n",
      "2780000\n"
     ]
    }
   ],
   "source": [
    "a = df[df.original_language!=\"ENGLISH\"]\n",
    "print(a.shape)\n",
    "s = sum([len(x) for x in a.Text])\n",
    "print(s)\n",
    "print(5000*556)"
   ]
  },
  {
   "cell_type": "code",
   "execution_count": 17,
   "metadata": {},
   "outputs": [
    {
     "data": {
      "text/html": [
       "<div>\n",
       "<style scoped>\n",
       "    .dataframe tbody tr th:only-of-type {\n",
       "        vertical-align: middle;\n",
       "    }\n",
       "\n",
       "    .dataframe tbody tr th {\n",
       "        vertical-align: top;\n",
       "    }\n",
       "\n",
       "    .dataframe thead th {\n",
       "        text-align: right;\n",
       "    }\n",
       "</style>\n",
       "<table border=\"1\" class=\"dataframe\">\n",
       "  <thead>\n",
       "    <tr style=\"text-align: right;\">\n",
       "      <th></th>\n",
       "      <th>Text</th>\n",
       "      <th>organization</th>\n",
       "      <th>original_language</th>\n",
       "      <th>translated_text</th>\n",
       "    </tr>\n",
       "  </thead>\n",
       "  <tbody>\n",
       "    <tr>\n",
       "      <th>32</th>\n",
       "      <td>Historique de la création – Autorité de Dév...</td>\n",
       "      <td>Autorité de développement intégré de la région...</td>\n",
       "      <td>FRENCH</td>\n",
       "      <td>History of the creation - Integrated Developme...</td>\n",
       "    </tr>\n",
       "    <tr>\n",
       "      <th>33</th>\n",
       "      <td>Autorité de Développement Intégré des Etat...</td>\n",
       "      <td>Autorité de développement intégré de la région...</td>\n",
       "      <td>FRENCH</td>\n",
       "      <td>Liptako-Gourma State Integrated Development Au...</td>\n",
       "    </tr>\n",
       "    <tr>\n",
       "      <th>35</th>\n",
       "      <td>Etats membres – Autorité de Développement In...</td>\n",
       "      <td>Autorité de développement intégré de la région...</td>\n",
       "      <td>FRENCH</td>\n",
       "      <td>Member States - Integrated Development Authori...</td>\n",
       "    </tr>\n",
       "    <tr>\n",
       "      <th>37</th>\n",
       "      <td>Emplois – Autorité de Développement Intégre...</td>\n",
       "      <td>Autorité de développement intégré de la région...</td>\n",
       "      <td>FRENCH</td>\n",
       "      <td>Jobs - Integrated Development Authority of Lip...</td>\n",
       "    </tr>\n",
       "    <tr>\n",
       "      <th>39</th>\n",
       "      <td>ALG - Autorité de Développement Intégré de...</td>\n",
       "      <td>Autorité de développement intégré de la région...</td>\n",
       "      <td>FRENCH</td>\n",
       "      <td>ALG - Integrated Development Authority of the ...</td>\n",
       "    </tr>\n",
       "    <tr>\n",
       "      <th>...</th>\n",
       "      <td>...</td>\n",
       "      <td>...</td>\n",
       "      <td>...</td>\n",
       "      <td>...</td>\n",
       "    </tr>\n",
       "    <tr>\n",
       "      <th>5842</th>\n",
       "      <td>Toggle navigation 99jobs Acesse sua contaou ca...</td>\n",
       "      <td>Instituto Global Attitude</td>\n",
       "      <td>PORTUGUESE</td>\n",
       "      <td>Toggle navigation 99jobs Acesse sua contaou ca...</td>\n",
       "    </tr>\n",
       "    <tr>\n",
       "      <th>5843</th>\n",
       "      <td>Saltar para o conteúdo Alternar barra lateral...</td>\n",
       "      <td>Instituto Global Attitude</td>\n",
       "      <td>PORTUGUESE</td>\n",
       "      <td>Saltar para o conteúdo Alternar barra lateral...</td>\n",
       "    </tr>\n",
       "    <tr>\n",
       "      <th>5845</th>\n",
       "      <td>no image Instituto Global Attitude STI e OECD:...</td>\n",
       "      <td>Instituto Global Attitude</td>\n",
       "      <td>PORTUGUESE</td>\n",
       "      <td>no image Instituto Global Attitude STI e OECD:...</td>\n",
       "    </tr>\n",
       "    <tr>\n",
       "      <th>5846</th>\n",
       "      <td>OPPORTUNITIESPROJECTSGRANTMAKERSENTREPRENEURSl...</td>\n",
       "      <td>Instituto Global Attitude</td>\n",
       "      <td>PORTUGUESE</td>\n",
       "      <td>OPPORTUNITIESPROJECTSGRANTMAKERSENTREPRENEURSl...</td>\n",
       "    </tr>\n",
       "    <tr>\n",
       "      <th>5847</th>\n",
       "      <td>BRASILCORONAVÍRUS (COVID-19) Simplifique!Part...</td>\n",
       "      <td>Instituto Global Attitude</td>\n",
       "      <td>PORTUGUESE</td>\n",
       "      <td>BRASILCORONAVÍRUS (COVID-19) Simplifique!Part...</td>\n",
       "    </tr>\n",
       "  </tbody>\n",
       "</table>\n",
       "<p>556 rows × 4 columns</p>\n",
       "</div>"
      ],
      "text/plain": [
       "                                                   Text  \\\n",
       "32    Historique de la création – Autorité de Dév...   \n",
       "33    Autorité de Développement Intégré des Etat...   \n",
       "35    Etats membres – Autorité de Développement In...   \n",
       "37    Emplois – Autorité de Développement Intégre...   \n",
       "39    ALG - Autorité de Développement Intégré de...   \n",
       "...                                                 ...   \n",
       "5842  Toggle navigation 99jobs Acesse sua contaou ca...   \n",
       "5843  Saltar para o conteúdo Alternar barra lateral...   \n",
       "5845  no image Instituto Global Attitude STI e OECD:...   \n",
       "5846  OPPORTUNITIESPROJECTSGRANTMAKERSENTREPRENEURSl...   \n",
       "5847  BRASILCORONAVÍRUS (COVID-19) Simplifique!Part...   \n",
       "\n",
       "                                           organization original_language  \\\n",
       "32    Autorité de développement intégré de la région...            FRENCH   \n",
       "33    Autorité de développement intégré de la région...            FRENCH   \n",
       "35    Autorité de développement intégré de la région...            FRENCH   \n",
       "37    Autorité de développement intégré de la région...            FRENCH   \n",
       "39    Autorité de développement intégré de la région...            FRENCH   \n",
       "...                                                 ...               ...   \n",
       "5842                          Instituto Global Attitude        PORTUGUESE   \n",
       "5843                          Instituto Global Attitude        PORTUGUESE   \n",
       "5845                          Instituto Global Attitude        PORTUGUESE   \n",
       "5846                          Instituto Global Attitude        PORTUGUESE   \n",
       "5847                          Instituto Global Attitude        PORTUGUESE   \n",
       "\n",
       "                                        translated_text  \n",
       "32    History of the creation - Integrated Developme...  \n",
       "33    Liptako-Gourma State Integrated Development Au...  \n",
       "35    Member States - Integrated Development Authori...  \n",
       "37    Jobs - Integrated Development Authority of Lip...  \n",
       "39    ALG - Integrated Development Authority of the ...  \n",
       "...                                                 ...  \n",
       "5842  Toggle navigation 99jobs Acesse sua contaou ca...  \n",
       "5843  Saltar para o conteúdo Alternar barra lateral...  \n",
       "5845  no image Instituto Global Attitude STI e OECD:...  \n",
       "5846  OPPORTUNITIESPROJECTSGRANTMAKERSENTREPRENEURSl...  \n",
       "5847  BRASILCORONAVÍRUS (COVID-19) Simplifique!Part...  \n",
       "\n",
       "[556 rows x 4 columns]"
      ]
     },
     "execution_count": 17,
     "metadata": {},
     "output_type": "execute_result"
    }
   ],
   "source": [
    "df[df.original_language != 'ENGLISH']"
   ]
  },
  {
   "cell_type": "code",
   "execution_count": 18,
   "metadata": {},
   "outputs": [
    {
     "data": {
      "text/html": [
       "<div>\n",
       "<style scoped>\n",
       "    .dataframe tbody tr th:only-of-type {\n",
       "        vertical-align: middle;\n",
       "    }\n",
       "\n",
       "    .dataframe tbody tr th {\n",
       "        vertical-align: top;\n",
       "    }\n",
       "\n",
       "    .dataframe thead th {\n",
       "        text-align: right;\n",
       "    }\n",
       "</style>\n",
       "<table border=\"1\" class=\"dataframe\">\n",
       "  <thead>\n",
       "    <tr style=\"text-align: right;\">\n",
       "      <th></th>\n",
       "      <th>Text</th>\n",
       "      <th>organization</th>\n",
       "      <th>original_language</th>\n",
       "      <th>translated_text</th>\n",
       "    </tr>\n",
       "  </thead>\n",
       "  <tbody>\n",
       "    <tr>\n",
       "      <th>176</th>\n",
       "      <td>Job opportunities | Instituto Interamericano d...</td>\n",
       "      <td>Instituto Interamericano de Cooperación para l...</td>\n",
       "      <td>PORTUGUESE</td>\n",
       "      <td>Job opportunities | Inter-American Institute f...</td>\n",
       "    </tr>\n",
       "    <tr>\n",
       "      <th>502</th>\n",
       "      <td>IPAM Amazônia - × em todo site at News at Edu...</td>\n",
       "      <td>Amazon Environmental Research Institute</td>\n",
       "      <td>PORTUGUESE</td>\n",
       "      <td>Amazon IPAM - × on any site at News at Educati...</td>\n",
       "    </tr>\n",
       "    <tr>\n",
       "      <th>1203</th>\n",
       "      <td>Centre International de Droit Comparé de l'En...</td>\n",
       "      <td>Centre International de droit Comparé de l’Env...</td>\n",
       "      <td>PORTUGUESE</td>\n",
       "      <td>Center International de Droit Comparé de l'Env...</td>\n",
       "    </tr>\n",
       "    <tr>\n",
       "      <th>2419</th>\n",
       "      <td>Portal FGV - Fundação Getulio Vargas Pular p...</td>\n",
       "      <td>Fundação Getúlio Vargas</td>\n",
       "      <td>PORTUGUESE</td>\n",
       "      <td>Portal FGV - Fundação Getulio Vargas Pular p...</td>\n",
       "    </tr>\n",
       "    <tr>\n",
       "      <th>3106</th>\n",
       "      <td>Instituto Ethos de Empresas e Responsabilidade...</td>\n",
       "      <td>Instituto Ethos de Empresas e Responsabilidade...</td>\n",
       "      <td>PORTUGUESE</td>\n",
       "      <td>Instituto Ethos de Empresas e Responsabilidade...</td>\n",
       "    </tr>\n",
       "    <tr>\n",
       "      <th>4616</th>\n",
       "      <td>SPVS – Sociedade de Pesquisa em Vida Selvagem ...</td>\n",
       "      <td>Sociedade Pesquisa em Vida Salvagem e Educacao...</td>\n",
       "      <td>PORTUGUESE</td>\n",
       "      <td>SPVS – Sociedade de Pesquisa em Vida Selvagem ...</td>\n",
       "    </tr>\n",
       "    <tr>\n",
       "      <th>4617</th>\n",
       "      <td>Sociedade de Pesquisa em Vida Selvagem e Educa...</td>\n",
       "      <td>Sociedade Pesquisa em Vida Salvagem e Educacao...</td>\n",
       "      <td>PORTUGUESE</td>\n",
       "      <td>Sociedade de Pesquisa em Vida Selvagem e Educa...</td>\n",
       "    </tr>\n",
       "    <tr>\n",
       "      <th>4618</th>\n",
       "      <td>SPVS - Sociedade de pequisa em vida selvagem e...</td>\n",
       "      <td>Sociedade Pesquisa em Vida Salvagem e Educacao...</td>\n",
       "      <td>PORTUGUESE</td>\n",
       "      <td>SPVS - Sociedade de pequisa em vida selvagem e...</td>\n",
       "    </tr>\n",
       "    <tr>\n",
       "      <th>4731</th>\n",
       "      <td>FAS Amazônia Sobre a FAS Programas Temas Opor...</td>\n",
       "      <td>Sustainable Amazonas Foundation</td>\n",
       "      <td>PORTUGUESE</td>\n",
       "      <td>FAS Amazônia Sobre a FAS Programas Temas Opor...</td>\n",
       "    </tr>\n",
       "    <tr>\n",
       "      <th>5460</th>\n",
       "      <td>Vitae Civilis | Policy Commons Organizations P...</td>\n",
       "      <td>Vitae Civilis Institute for Development, Envir...</td>\n",
       "      <td>PORTUGUESE</td>\n",
       "      <td>Vitae Civilis | Policy Commons Organizations P...</td>\n",
       "    </tr>\n",
       "    <tr>\n",
       "      <th>5839</th>\n",
       "      <td>SOBRE NÓSNão se trata apenas de idéias, mas...</td>\n",
       "      <td>Instituto Global Attitude</td>\n",
       "      <td>PORTUGUESE</td>\n",
       "      <td>SOBRE NÓSNão se trata apenas de idéias, mas...</td>\n",
       "    </tr>\n",
       "    <tr>\n",
       "      <th>5842</th>\n",
       "      <td>Toggle navigation 99jobs Acesse sua contaou ca...</td>\n",
       "      <td>Instituto Global Attitude</td>\n",
       "      <td>PORTUGUESE</td>\n",
       "      <td>Toggle navigation 99jobs Acesse sua contaou ca...</td>\n",
       "    </tr>\n",
       "    <tr>\n",
       "      <th>5843</th>\n",
       "      <td>Saltar para o conteúdo Alternar barra lateral...</td>\n",
       "      <td>Instituto Global Attitude</td>\n",
       "      <td>PORTUGUESE</td>\n",
       "      <td>Saltar para o conteúdo Alternar barra lateral...</td>\n",
       "    </tr>\n",
       "    <tr>\n",
       "      <th>5845</th>\n",
       "      <td>no image Instituto Global Attitude STI e OECD:...</td>\n",
       "      <td>Instituto Global Attitude</td>\n",
       "      <td>PORTUGUESE</td>\n",
       "      <td>no image Instituto Global Attitude STI e OECD:...</td>\n",
       "    </tr>\n",
       "    <tr>\n",
       "      <th>5846</th>\n",
       "      <td>OPPORTUNITIESPROJECTSGRANTMAKERSENTREPRENEURSl...</td>\n",
       "      <td>Instituto Global Attitude</td>\n",
       "      <td>PORTUGUESE</td>\n",
       "      <td>OPPORTUNITIESPROJECTSGRANTMAKERSENTREPRENEURSl...</td>\n",
       "    </tr>\n",
       "    <tr>\n",
       "      <th>5847</th>\n",
       "      <td>BRASILCORONAVÍRUS (COVID-19) Simplifique!Part...</td>\n",
       "      <td>Instituto Global Attitude</td>\n",
       "      <td>PORTUGUESE</td>\n",
       "      <td>BRASILCORONAVÍRUS (COVID-19) Simplifique!Part...</td>\n",
       "    </tr>\n",
       "  </tbody>\n",
       "</table>\n",
       "</div>"
      ],
      "text/plain": [
       "                                                   Text  \\\n",
       "176   Job opportunities | Instituto Interamericano d...   \n",
       "502   IPAM Amazônia - × em todo site at News at Edu...   \n",
       "1203  Centre International de Droit Comparé de l'En...   \n",
       "2419  Portal FGV - Fundação Getulio Vargas Pular p...   \n",
       "3106  Instituto Ethos de Empresas e Responsabilidade...   \n",
       "4616  SPVS – Sociedade de Pesquisa em Vida Selvagem ...   \n",
       "4617  Sociedade de Pesquisa em Vida Selvagem e Educa...   \n",
       "4618  SPVS - Sociedade de pequisa em vida selvagem e...   \n",
       "4731  FAS Amazônia Sobre a FAS Programas Temas Opor...   \n",
       "5460  Vitae Civilis | Policy Commons Organizations P...   \n",
       "5839  SOBRE NÓSNão se trata apenas de idéias, mas...   \n",
       "5842  Toggle navigation 99jobs Acesse sua contaou ca...   \n",
       "5843  Saltar para o conteúdo Alternar barra lateral...   \n",
       "5845  no image Instituto Global Attitude STI e OECD:...   \n",
       "5846  OPPORTUNITIESPROJECTSGRANTMAKERSENTREPRENEURSl...   \n",
       "5847  BRASILCORONAVÍRUS (COVID-19) Simplifique!Part...   \n",
       "\n",
       "                                           organization original_language  \\\n",
       "176   Instituto Interamericano de Cooperación para l...        PORTUGUESE   \n",
       "502             Amazon Environmental Research Institute        PORTUGUESE   \n",
       "1203  Centre International de droit Comparé de l’Env...        PORTUGUESE   \n",
       "2419                            Fundação Getúlio Vargas        PORTUGUESE   \n",
       "3106  Instituto Ethos de Empresas e Responsabilidade...        PORTUGUESE   \n",
       "4616  Sociedade Pesquisa em Vida Salvagem e Educacao...        PORTUGUESE   \n",
       "4617  Sociedade Pesquisa em Vida Salvagem e Educacao...        PORTUGUESE   \n",
       "4618  Sociedade Pesquisa em Vida Salvagem e Educacao...        PORTUGUESE   \n",
       "4731                    Sustainable Amazonas Foundation        PORTUGUESE   \n",
       "5460  Vitae Civilis Institute for Development, Envir...        PORTUGUESE   \n",
       "5839                          Instituto Global Attitude        PORTUGUESE   \n",
       "5842                          Instituto Global Attitude        PORTUGUESE   \n",
       "5843                          Instituto Global Attitude        PORTUGUESE   \n",
       "5845                          Instituto Global Attitude        PORTUGUESE   \n",
       "5846                          Instituto Global Attitude        PORTUGUESE   \n",
       "5847                          Instituto Global Attitude        PORTUGUESE   \n",
       "\n",
       "                                        translated_text  \n",
       "176   Job opportunities | Inter-American Institute f...  \n",
       "502   Amazon IPAM - × on any site at News at Educati...  \n",
       "1203  Center International de Droit Comparé de l'Env...  \n",
       "2419  Portal FGV - Fundação Getulio Vargas Pular p...  \n",
       "3106  Instituto Ethos de Empresas e Responsabilidade...  \n",
       "4616  SPVS – Sociedade de Pesquisa em Vida Selvagem ...  \n",
       "4617  Sociedade de Pesquisa em Vida Selvagem e Educa...  \n",
       "4618  SPVS - Sociedade de pequisa em vida selvagem e...  \n",
       "4731  FAS Amazônia Sobre a FAS Programas Temas Opor...  \n",
       "5460  Vitae Civilis | Policy Commons Organizations P...  \n",
       "5839  SOBRE NÓSNão se trata apenas de idéias, mas...  \n",
       "5842  Toggle navigation 99jobs Acesse sua contaou ca...  \n",
       "5843  Saltar para o conteúdo Alternar barra lateral...  \n",
       "5845  no image Instituto Global Attitude STI e OECD:...  \n",
       "5846  OPPORTUNITIESPROJECTSGRANTMAKERSENTREPRENEURSl...  \n",
       "5847  BRASILCORONAVÍRUS (COVID-19) Simplifique!Part...  "
      ]
     },
     "execution_count": 18,
     "metadata": {},
     "output_type": "execute_result"
    }
   ],
   "source": [
    "df[df.original_language == \"PORTUGUESE\"]"
   ]
  },
  {
   "cell_type": "code",
   "execution_count": 22,
   "metadata": {},
   "outputs": [
    {
     "data": {
      "text/plain": [
       "\"Saltar para o conteúdo Alternar barra lateral Wikipédia Busca Criar uma conta Ferramentas pessoais Menu de navegação Página principal Conteúdo destacado Eventos atuais Esplanada Página aleatória Portais Informar um erro Colaboração Boas-vindas Ajuda Página de testes Portal comunitário Mudanças recentes Manutenção Criar página Páginas novas Contato Donativos Ferramentas Páginas afluentes Alterações relacionadas Carregar ficheiro Páginas especiais Hiperligação permanente Informações da página Citar esta página Elemento Wikidata Adicionar hiperligações interlínguas Imprimir/exportar Criar um livro Descarregar como PDFVersão para impressão Artigo Discussão Ler Editar Ver histórico Instituto Global Attitude Origem: Wikipédia, a enciclopédia livre.O Instituto Global Attitude é uma organização da sociedade civil de interesse público (OSCIP) sem fins lucrativos que desenvolve programas socioeducacionais no Brasil e no mundo. Fundado em 2011, o instituto é referência pelo trabalho desenvolvido com educação inovativa, relações internacionais e juventude. A organização está sediada em São Paulo, com escritórios em Brasília e Campo Grande.Referências «About Us». globalattitude.org.br. Consultado em 31 de maio de 2021 «Programa envia jovens líderes para fóruns internacionais de economia». Folha de S.Paulo. 26 de julho de 2019. Consultado em 31 de maio de 2021 «The Vienna Energy Forum 2017 and its importance for youth | UNIDO». Consultado em 31 de maio de 2021 Ícone de esboço Este artigo sobre organizações é um esboço. Você pode ajudar a Wikipédia expandindo-o.Categorias: Organizações fundadas em 2011 Organizações da sociedade civil de interesse público Esta página foi editada pela última vez às 18h 04min de 31 de maio de 2021.Este texto é disponibilizado nos termos da licença Atribuição-Compartilha Igual 3.0 Não Adaptada (CC BY-SA 3.0) da Creative Commons; pode estar sujeito a condições adicionais. Para mais detalhes, consulte as condições de utilização.Política de privacidade Sobre a Wikipédia Avisos gerais Versão móvel Programadores Estatísticas Declaração sobre ''cookies''Wikimedia Foundation Powered by Media Wiki\""
      ]
     },
     "execution_count": 22,
     "metadata": {},
     "output_type": "execute_result"
    }
   ],
   "source": [
    "df.translated_text[5843]"
   ]
  },
  {
   "cell_type": "code",
   "execution_count": 27,
   "metadata": {},
   "outputs": [
    {
     "data": {
      "text/plain": [
       "'O Instituto Global Attitude é uma organização da sociedade civil de interesse público (OSCIP) sem fins lucrativos que desenvolve programas socioeducacionais no Brasil e no mundo. Fundado em 2011, o instituto é referência pelo trabalho desenvolvido com educação inovativa, relações internacionais e juventude.'"
      ]
     },
     "execution_count": 27,
     "metadata": {},
     "output_type": "execute_result"
    }
   ],
   "source": [
    "string = \"O Instituto Global Attitude é uma organização da sociedade civil de interesse público (OSCIP) sem fins lucrativos que desenvolve programas socioeducacionais no Brasil e no mundo. Fundado em 2011, o instituto é referência pelo trabalho desenvolvido com educação inovativa, relações internacionais e juventude.\"\n",
    "\n",
    "t = translator.translate(string, src = \"portuguese\", dest = \"english\").text\n",
    "t"
   ]
  },
  {
   "cell_type": "code",
   "execution_count": 30,
   "metadata": {},
   "outputs": [
    {
     "name": "stdout",
     "output_type": "stream",
     "text": [
      "Detected(lang=en, confidence=1)\n"
     ]
    }
   ],
   "source": [
    "a = translator.detect(string)\n",
    "print(a)"
   ]
  },
  {
   "cell_type": "code",
   "execution_count": 31,
   "metadata": {},
   "outputs": [],
   "source": [
    "from deep_translator import GoogleTranslator\n",
    "translated = GoogleTranslator(source='auto', target='de').translate(\"keep it up, you are awesome\")"
   ]
  },
  {
   "cell_type": "code",
   "execution_count": 33,
   "metadata": {},
   "outputs": [],
   "source": [
    "translated = GoogleTranslator(source='auto', target='en').translate(string)"
   ]
  },
  {
   "cell_type": "code",
   "execution_count": 35,
   "metadata": {},
   "outputs": [
    {
     "data": {
      "text/plain": [
       "'The Global Attitude Institute is a non-profit public interest civil society organization (OSCIP) that develops socio-educational programs in Brazil and worldwide. Founded in 2011, the institute is a reference for its work in innovative education, international relations and youth.'"
      ]
     },
     "execution_count": 35,
     "metadata": {},
     "output_type": "execute_result"
    }
   ],
   "source": [
    "translated"
   ]
  },
  {
   "cell_type": "code",
   "execution_count": 47,
   "metadata": {},
   "outputs": [
    {
     "ename": "RequestError",
     "evalue": "Request exception can happen due to an api connection error. Please check your connection and try again",
     "output_type": "error",
     "traceback": [
      "\u001b[0;31m---------------------------------------------------------------------------\u001b[0m",
      "\u001b[0;31mRequestError\u001b[0m                              Traceback (most recent call last)",
      "\u001b[0;32m/var/folders/6_/r43fszfx0sq37gltljwc7qqr0000gn/T/ipykernel_55685/1400451753.py\u001b[0m in \u001b[0;36m<module>\u001b[0;34m\u001b[0m\n\u001b[1;32m      7\u001b[0m \u001b[0;32mfor\u001b[0m \u001b[0mi\u001b[0m \u001b[0;32min\u001b[0m \u001b[0mrange\u001b[0m\u001b[0;34m(\u001b[0m\u001b[0mlen\u001b[0m\u001b[0;34m(\u001b[0m\u001b[0mdf\u001b[0m\u001b[0;34m.\u001b[0m\u001b[0mText\u001b[0m\u001b[0;34m)\u001b[0m\u001b[0;34m)\u001b[0m\u001b[0;34m:\u001b[0m\u001b[0;34m\u001b[0m\u001b[0;34m\u001b[0m\u001b[0m\n\u001b[1;32m      8\u001b[0m     \u001b[0;32mif\u001b[0m \u001b[0mdf\u001b[0m\u001b[0;34m.\u001b[0m\u001b[0moriginal_language\u001b[0m\u001b[0;34m[\u001b[0m\u001b[0mi\u001b[0m\u001b[0;34m]\u001b[0m \u001b[0;34m!=\u001b[0m \u001b[0;34m'ENGLISH'\u001b[0m\u001b[0;34m:\u001b[0m \u001b[0;31m# if the original language of the text is not English, then translate it\u001b[0m\u001b[0;34m\u001b[0m\u001b[0;34m\u001b[0m\u001b[0m\n\u001b[0;32m----> 9\u001b[0;31m         \u001b[0mt\u001b[0m \u001b[0;34m=\u001b[0m \u001b[0mtranslator\u001b[0m\u001b[0;34m.\u001b[0m\u001b[0mtranslate\u001b[0m\u001b[0;34m(\u001b[0m\u001b[0mstr\u001b[0m\u001b[0;34m(\u001b[0m\u001b[0mdf\u001b[0m\u001b[0;34m.\u001b[0m\u001b[0mText\u001b[0m\u001b[0;34m[\u001b[0m\u001b[0mi\u001b[0m\u001b[0;34m]\u001b[0m\u001b[0;34m)\u001b[0m\u001b[0;34m)\u001b[0m\u001b[0;34m\u001b[0m\u001b[0;34m\u001b[0m\u001b[0m\n\u001b[0m\u001b[1;32m     10\u001b[0m         \u001b[0mtranslated\u001b[0m\u001b[0;34m.\u001b[0m\u001b[0mappend\u001b[0m\u001b[0;34m(\u001b[0m\u001b[0mt\u001b[0m\u001b[0;34m)\u001b[0m\u001b[0;34m\u001b[0m\u001b[0;34m\u001b[0m\u001b[0m\n\u001b[1;32m     11\u001b[0m     \u001b[0;32melse\u001b[0m\u001b[0;34m:\u001b[0m\u001b[0;34m\u001b[0m\u001b[0;34m\u001b[0m\u001b[0m\n",
      "\u001b[0;32m~/py_38_env/lib/python3.8/site-packages/deep_translator/google_trans.py\u001b[0m in \u001b[0;36mtranslate\u001b[0;34m(self, text, **kwargs)\u001b[0m\n\u001b[1;32m     98\u001b[0m \u001b[0;34m\u001b[0m\u001b[0m\n\u001b[1;32m     99\u001b[0m             \u001b[0;32mif\u001b[0m \u001b[0mresponse\u001b[0m\u001b[0;34m.\u001b[0m\u001b[0mstatus_code\u001b[0m \u001b[0;34m!=\u001b[0m \u001b[0;36m200\u001b[0m\u001b[0;34m:\u001b[0m\u001b[0;34m\u001b[0m\u001b[0;34m\u001b[0m\u001b[0m\n\u001b[0;32m--> 100\u001b[0;31m                 \u001b[0;32mraise\u001b[0m \u001b[0mRequestError\u001b[0m\u001b[0;34m(\u001b[0m\u001b[0;34m)\u001b[0m\u001b[0;34m\u001b[0m\u001b[0;34m\u001b[0m\u001b[0m\n\u001b[0m\u001b[1;32m    101\u001b[0m \u001b[0;34m\u001b[0m\u001b[0m\n\u001b[1;32m    102\u001b[0m             \u001b[0msoup\u001b[0m \u001b[0;34m=\u001b[0m \u001b[0mBeautifulSoup\u001b[0m\u001b[0;34m(\u001b[0m\u001b[0mresponse\u001b[0m\u001b[0;34m.\u001b[0m\u001b[0mtext\u001b[0m\u001b[0;34m,\u001b[0m \u001b[0;34m'html.parser'\u001b[0m\u001b[0;34m)\u001b[0m\u001b[0;34m\u001b[0m\u001b[0;34m\u001b[0m\u001b[0m\n",
      "\u001b[0;31mRequestError\u001b[0m: Request exception can happen due to an api connection error. Please check your connection and try again"
     ]
    }
   ],
   "source": [
    "from deep_translator import GoogleTranslator\n",
    "translator = GoogleTranslator(source='auto', target='en')\n",
    "\n",
    "\n",
    "translated = []\n",
    "\n",
    "for i in range(len(df.Text)):\n",
    "    if df.original_language[i] != 'ENGLISH': # if the original language of the text is not English, then translate it\n",
    "        t = translator.translate(str(df.Text[i]))\n",
    "        translated.append(t)\n",
    "    else:\n",
    "        translated.append(str(df.Text[i]))\n",
    "    "
   ]
  },
  {
   "cell_type": "code",
   "execution_count": 48,
   "metadata": {},
   "outputs": [
    {
     "data": {
      "text/plain": [
       "1156"
      ]
     },
     "execution_count": 48,
     "metadata": {},
     "output_type": "execute_result"
    }
   ],
   "source": [
    "len(translated)"
   ]
  },
  {
   "cell_type": "code",
   "execution_count": null,
   "metadata": {},
   "outputs": [],
   "source": []
  }
 ],
 "metadata": {
  "kernelspec": {
   "display_name": "py_38_env",
   "language": "python",
   "name": "py_38_env"
  },
  "language_info": {
   "codemirror_mode": {
    "name": "ipython",
    "version": 3
   },
   "file_extension": ".py",
   "mimetype": "text/x-python",
   "name": "python",
   "nbconvert_exporter": "python",
   "pygments_lexer": "ipython3",
   "version": "3.8.2"
  },
  "varInspector": {
   "cols": {
    "lenName": 16,
    "lenType": 16,
    "lenVar": 40
   },
   "kernels_config": {
    "python": {
     "delete_cmd_postfix": "",
     "delete_cmd_prefix": "del ",
     "library": "var_list.py",
     "varRefreshCmd": "print(var_dic_list())"
    },
    "r": {
     "delete_cmd_postfix": ") ",
     "delete_cmd_prefix": "rm(",
     "library": "var_list.r",
     "varRefreshCmd": "cat(var_dic_list()) "
    }
   },
   "types_to_exclude": [
    "module",
    "function",
    "builtin_function_or_method",
    "instance",
    "_Feature"
   ],
   "window_display": false
  }
 },
 "nbformat": 4,
 "nbformat_minor": 4
}
